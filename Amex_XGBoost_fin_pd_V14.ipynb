{
  "cells": [
    {
      "cell_type": "markdown",
      "metadata": {
        "id": "view-in-github",
        "colab_type": "text"
      },
      "source": [
        "<a href=\"https://colab.research.google.com/github/pyagoubi/Credit-Default-Prediction/blob/main/Amex_XGBoost_fin_pd_V14.ipynb\" target=\"_parent\"><img src=\"https://colab.research.google.com/assets/colab-badge.svg\" alt=\"Open In Colab\"/></a>"
      ]
    },
    {
      "cell_type": "code",
      "execution_count": 1,
      "metadata": {
        "colab": {
          "base_uri": "https://localhost:8080/"
        },
        "id": "gOOdZDzIItEG",
        "outputId": "68038551-50ef-4b17-e029-e53297d1b3ae"
      },
      "outputs": [
        {
          "output_type": "stream",
          "name": "stdout",
          "text": [
            "Mounted at /content/drive\n"
          ]
        }
      ],
      "source": [
        "#Mounting Google Drive\n",
        "from google.colab import drive\n",
        "drive.mount('/content/drive')"
      ]
    },
    {
      "cell_type": "code",
      "execution_count": 2,
      "metadata": {
        "id": "6lJRhid0ItBS"
      },
      "outputs": [],
      "source": [
        "#set WD\n",
        "import os\n",
        "os.chdir('/content/drive/MyDrive/Amex/parquet')"
      ]
    },
    {
      "cell_type": "markdown",
      "metadata": {
        "id": "rda9uzwxp0N0"
      },
      "source": [
        "# XGBoost \n"
      ]
    },
    {
      "cell_type": "markdown",
      "metadata": {
        "id": "vMo1TkPZp0N4"
      },
      "source": [
        "# Load Libraries"
      ]
    },
    {
      "cell_type": "code",
      "execution_count": 3,
      "metadata": {
        "id": "GRgokt4bp0N4"
      },
      "outputs": [],
      "source": [
        "# LOAD LIBRARIES\n",
        "import pandas as pd, numpy as np # CPU libraries\n",
        "#import cupy, cudf # GPU libraries\n",
        "import matplotlib.pyplot as plt, gc, os\n",
        "\n",
        "from sklearn.model_selection import KFold\n",
        "import xgboost as xgb\n",
        "from xgboost import XGBRegressor\n",
        "from xgboost import XGBClassifier\n",
        "import csv, itertools\n",
        "\n",
        "from sklearn.model_selection import train_test_split\n",
        "from xgboost import plot_importance\n",
        "from sklearn.inspection import permutation_importance\n",
        "from tqdm.auto import tqdm\n",
        "\n",
        "import itertools\n",
        "\n",
        "\n",
        "#print('RAPIDS version',cudf.__version__)"
      ]
    },
    {
      "cell_type": "code",
      "execution_count": 4,
      "metadata": {
        "id": "Sct61n7Yp0N5"
      },
      "outputs": [],
      "source": [
        "# VERSION NAME FOR SAVED MODEL FILES\n",
        "VER = 14\n",
        "\n",
        "# TRAIN RANDOM SEED\n",
        "SEED = 42\n",
        "\n",
        "# FILL NAN VALUE\n",
        "NAN_VALUE = -127 # will fit in int8\n",
        "\n",
        "# FOLDS PER MODEL\n",
        "FOLDS = 5\n",
        "\n",
        "NUM_PARTS = 10\n",
        "\n",
        "\n",
        "TRAIN_PATH = 'train.parquet'\n",
        "TEST_PATH = 'test.parquet'\n",
        "TARGET_PATH = 'train_labels.csv'\n",
        "SAVE_PATH = '/content/drive/MyDrive/Amex/parquet/XGB final/'\n",
        "SUBMISSION_FILE_PATH = '/content/drive/MyDrive/Amex/parquet/sample_submission.csv'"
      ]
    },
    {
      "cell_type": "markdown",
      "metadata": {
        "id": "vEV9Z8ZIp0N6"
      },
      "source": [
        "# Process and Feature Engineer Train Data"
      ]
    },
    {
      "cell_type": "code",
      "execution_count": 7,
      "metadata": {
        "id": "QWJevsrgp0N6"
      },
      "outputs": [],
      "source": [
        "def read_file(path = '', usecols = None):\n",
        "    # LOAD DATAFRAME\n",
        "    if usecols is not None: df = pd.read_parquet(path, columns=usecols)\n",
        "    else: df = pd.read_parquet(path) #df = cudf.read_parquet(path)\n",
        "    df['customer_ID'] = df['customer_ID'].str[-16:].apply(int, base =16)\n",
        "    df.S_2 = pd.to_datetime( df.S_2 )\n",
        "    print('shape of data:', df.shape)\n",
        "    return df\n",
        "\n",
        "def revertnan(df):\n",
        "  df[df==-1] = np.nan \n",
        "  return df\n",
        "\n",
        "def fill_na(df, NAN_VALUE):\n",
        "  df = df.fillna(NAN_VALUE)\n",
        "  return df\n",
        "\n",
        "def numberobs_feature(df):\n",
        "  df['number_of_observations'] = df.groupby('customer_ID')['customer_ID'].transform('count')\n",
        "  df.loc[df['B_33'].isnull() & (df.number_of_observations==1),'number_of_observations'] = 0.5\n",
        "  return df\n",
        "\n",
        "def afterpay(df):\n",
        "  # compute \"after pay\" features\n",
        "  for bcol in [f'B_{i}_last' for i in [11,14,17]]+['D_39_last','D_131_last']+[f'S_{i}_last' for i in [16,23]]:\n",
        "    for pcol in ['P_2_last','P_3_last']:\n",
        "      if bcol in df.columns:\n",
        "        df[f'{bcol}-{pcol}'] = df[bcol] - df[pcol]\n",
        "  return df\n",
        "\n",
        "def get_features(df):\n",
        "  all_cols = [c for c in list(df.columns) if c not in ['customer_ID','S_2']]\n",
        "  cat_features = [\"B_30\",\"B_38\",\"D_114\",\"D_116\",\"D_117\",\"D_120\",\"D_126\",\"D_63\",\"D_64\",\"D_66\",\"D_68\"]\n",
        "  num_features = [col for col in all_cols if col not in cat_features]\n",
        "  return all_cols, cat_features, num_features\n",
        "\n",
        "def agg_functions(df, num_features, cat_features, numberobs = False#, exclnullCols, \n",
        "                  #dummy_nan_col\n",
        "                  ):\n",
        "  \n",
        "  test_num_agg = df.groupby(\"customer_ID\")[num_features].agg(['mean', 'max', 'min', 'last', 'first'])\n",
        "\n",
        "  print('num agg complete')\n",
        "\n",
        "  #test_nan_agg = df.groupby(\"customer_ID\")[exclnullCols].agg(['last'])\n",
        "  ##dummy_nan_col_agg = df.groupby(\"customer_ID\")[dummy_nan_col].agg(['sum'])\n",
        "  #df_presence_agg = df.groupby(\"customer_ID\")['number_of_observations'].agg(['last'])\n",
        "  \n",
        "  test_cat_agg = df.groupby(\"customer_ID\")[cat_features].agg(['count', 'last', 'nunique'])\n",
        "  print('cat agg complete')\n",
        "\n",
        "  df = pd.concat([test_num_agg, test_cat_agg],   #dummy_nan_col_agg, \n",
        "                   # test_nan_agg], \n",
        "                   axis=1)\n",
        "  \n",
        "  print('concat complete')\n",
        "  df.columns = ['_'.join(x) for x in df.columns]\n",
        "\n",
        "\n",
        "  for col in num_features:\n",
        "    if col not in ['number_of_observations']:\n",
        "      max = f'{col}_max'\n",
        "      min = f'{col}_min'\n",
        "      df[f'{col}_minmax'] = df[max] -df[min]\n",
        "\n",
        "\n",
        "  print('drop numberobs')\n",
        "\n",
        "  if numberobs ==True:\n",
        "    to_drop = ['number_of_observations_mean',  'number_of_observations_max','number_of_observations_min', 'number_of_observations_first']\n",
        "    df.drop(to_drop, axis = 1, inplace = True)\n",
        "    df.rename(columns={'number_of_observations_last':'number_of_observations'}, inplace = True)\n",
        "\n",
        "  print('drop numberobs complete')\n",
        "  del test_num_agg, test_cat_agg\n",
        "  _ = gc.collect()\n",
        "  print('shape after engineering', df.shape )\n",
        "  return df\n",
        "\n",
        "def add_meandev(df, num_features):\n",
        "  \n",
        "  for i in [f for f in num_features if f not in ['number_of_observations']]:\n",
        "    last = f'{i}_last'\n",
        "    mean = f'{i}_mean' \n",
        "    df[f'{i}_meandev'] = np.nan\n",
        "    df.loc[(df[last] != np.nan), f'{i}_meandev'] = df[last] -df[mean]\n",
        "\n",
        "  return df\n",
        "\n",
        "def dropfirst(df):\n",
        "  droplist = list(df.loc[:, df.columns.str.contains('first')].columns)\n",
        "  df.drop(droplist, axis = 1, inplace = True)\n",
        "  print('shape after engineering', df.shape )\n",
        "  return df\n",
        "\n",
        "def add_targets(df, TARGET_PATH):\n",
        "  # ADD TARGETS\n",
        "  targets = pd.read_csv(TARGET_PATH)\n",
        "  targets['customer_ID'] = targets['customer_ID'].str[-16:].apply(int, base =16)\n",
        "  targets = targets.set_index('customer_ID')\n",
        "  df = df.merge(targets, left_index=True, right_index=True, how='left', sort = True)\n",
        "  df.target = df.target.astype('int8')\n",
        "  del targets\n",
        "\n",
        "  # NEEDED TO MAKE CV DETERMINISTIC (cudf merge above randomly shuffles rows)\n",
        "  df = df.reset_index()\n",
        "  return df\n",
        "\n",
        "\n",
        "def get_difference(df, num_features, train_set = None, Part =None):\n",
        "    df1 = []\n",
        "    customer_ids = []\n",
        "    for customer_id, cus in tqdm(df.groupby(['customer_ID'])):\n",
        "        # Get the differences\n",
        "        diff_df1 = cus[num_features].diff(1).iloc[[-1]].values.astype(np.float32)\n",
        "        # Append to lists\n",
        "        df1.append(diff_df1)\n",
        "        customer_ids.append(customer_id)\n",
        "    # Concatenate\n",
        "    df1 = np.concatenate(df1, axis = 0)\n",
        "    # Transform to dataframe\n",
        "    df1 = pd.DataFrame(df1, columns = [col + '_diff1' for col in df[num_features].columns])\n",
        "    # Add customer id\n",
        "    df1['customer_ID'] = customer_ids\n",
        "    df1.set_index('customer_ID', inplace = True)\n",
        "    if train_set == True: df1.to_parquet(f'{SAVE_PATH}diff_{VER}.parquet')\n",
        "    elif train_set == False: df1.to_parquet(f'{SAVE_PATH}diff_test_{VER}_num{Part}.parquet')\n",
        "    return df1\n",
        "  \n",
        "def onehot_encoding(df, cat_cols):\n",
        "  cat_cols = [f'{i}_last' for i in cat_cols]\n",
        "  for col in cat_cols:\n",
        "    df = pd.get_dummies(df, columns=[col], drop_first=True)\n",
        "  return df\n"
      ]
    },
    {
      "cell_type": "code",
      "source": [
        "#all functions compact\n",
        "def preprocess(PATH = TRAIN_PATH, TARGET_PATH = TARGET_PATH, train_set = True, test = None, Part = None):\n",
        "  if train_set == True:\n",
        "    df = read_file(path = TRAIN_PATH)\n",
        "  else:\n",
        "    df = test\n",
        "  print('read file complete')\n",
        "  df = revertnan(df)\n",
        "  print('revertnan complete')\n",
        "  df = numberobs_feature(df)\n",
        "  print('numberobs complete')\n",
        "  all_cols, cat_features, num_features = get_features(df)\n",
        "  print('get features complete')\n",
        "  #diff1 = get_difference(df, num_features, train_set = train_set, Part = Part)\n",
        "  if train_set == True: diff1 = pd.read_parquet(f'{SAVE_PATH}diff_12.parquet')\n",
        "  elif train_set == False: diff1 = pd.read_parquet(f'{SAVE_PATH}diff_test_12_num{Part}.parquet')\n",
        "  print('get diff complete')\n",
        "  df = agg_functions(df, num_features, cat_features, numberobs = True)\n",
        "  df = df.merge(diff1, left_index=True, right_index=True, how='left') \n",
        "  del diff1\n",
        "  _ = gc.collect()\n",
        "  print('agg features complete')\n",
        "  df = add_meandev(df, num_features)\n",
        "  print('meandev complete')\n",
        "  df = afterpay(df)\n",
        "  print('afterpay complete')\n",
        "  df = onehot_encoding(df, cat_cols=cat_features)\n",
        "  print('onehot complete')\n",
        "  # df = add_Bratios(df)\n",
        "  df = fill_na(df, NAN_VALUE)\n",
        "  print('fillna complete')\n",
        "  gc.collect()\n",
        "  if train_set == True:\n",
        "    df = add_targets(df, TARGET_PATH)\n",
        "  return df"
      ],
      "metadata": {
        "id": "ESGxGlx23_r9"
      },
      "execution_count": 8,
      "outputs": []
    },
    {
      "cell_type": "code",
      "source": [
        "train = preprocess(PATH = TRAIN_PATH)"
      ],
      "metadata": {
        "colab": {
          "base_uri": "https://localhost:8080/"
        },
        "id": "wneXMBFCxsi7",
        "outputId": "64af6672-1dbd-4c21-9ffd-b11502eca5ab"
      },
      "execution_count": 9,
      "outputs": [
        {
          "output_type": "stream",
          "name": "stdout",
          "text": [
            "shape of data: (5531451, 190)\n",
            "read file complete\n",
            "revertnan complete\n",
            "numberobs complete\n",
            "get features complete\n",
            "get diff complete\n",
            "num agg complete\n",
            "cat agg complete\n",
            "concat complete\n"
          ]
        },
        {
          "output_type": "stream",
          "name": "stderr",
          "text": [
            "/usr/local/lib/python3.7/dist-packages/ipykernel_launcher.py:64: PerformanceWarning: DataFrame is highly fragmented.  This is usually the result of calling `frame.insert` many times, which has poor performance.  Consider joining all columns at once using pd.concat(axis=1) instead.  To get a de-fragmented frame, use `newframe = frame.copy()`\n"
          ]
        },
        {
          "output_type": "stream",
          "name": "stdout",
          "text": [
            "drop numberobs\n",
            "drop numberobs complete\n",
            "shape after engineering (458913, 1096)\n",
            "agg features complete\n"
          ]
        },
        {
          "output_type": "stream",
          "name": "stderr",
          "text": [
            "/usr/local/lib/python3.7/dist-packages/ipykernel_launcher.py:85: PerformanceWarning: DataFrame is highly fragmented.  This is usually the result of calling `frame.insert` many times, which has poor performance.  Consider joining all columns at once using pd.concat(axis=1) instead.  To get a de-fragmented frame, use `newframe = frame.copy()`\n"
          ]
        },
        {
          "output_type": "stream",
          "name": "stdout",
          "text": [
            "meandev complete\n",
            "afterpay complete\n"
          ]
        },
        {
          "output_type": "stream",
          "name": "stderr",
          "text": [
            "/usr/local/lib/python3.7/dist-packages/ipykernel_launcher.py:28: PerformanceWarning: DataFrame is highly fragmented.  This is usually the result of calling `frame.insert` many times, which has poor performance.  Consider joining all columns at once using pd.concat(axis=1) instead.  To get a de-fragmented frame, use `newframe = frame.copy()`\n"
          ]
        },
        {
          "output_type": "stream",
          "name": "stdout",
          "text": [
            "onehot complete\n",
            "fillna complete\n"
          ]
        }
      ]
    },
    {
      "cell_type": "code",
      "source": [
        "train.to_parquet(f'{SAVE_PATH}train_{VER}.parquet')"
      ],
      "metadata": {
        "id": "9_72R0miBzTK"
      },
      "execution_count": 10,
      "outputs": []
    },
    {
      "cell_type": "code",
      "source": [
        "train = pd.read_parquet(f'{SAVE_PATH}train_{VER}.parquet')"
      ],
      "metadata": {
        "id": "rZn6fq8A6S-s"
      },
      "execution_count": null,
      "outputs": []
    },
    {
      "cell_type": "code",
      "source": [
        "gc.collect()"
      ],
      "metadata": {
        "id": "BUMFnNii6aig",
        "colab": {
          "base_uri": "https://localhost:8080/"
        },
        "outputId": "f008a310-a33d-43e7-c892-9e22a6646a11"
      },
      "execution_count": 11,
      "outputs": [
        {
          "output_type": "execute_result",
          "data": {
            "text/plain": [
              "140"
            ]
          },
          "metadata": {},
          "execution_count": 11
        }
      ]
    },
    {
      "cell_type": "code",
      "source": [
        "#del test\n",
        "gc.collect()\n",
        "#train['number_of_observations']"
      ],
      "metadata": {
        "colab": {
          "base_uri": "https://localhost:8080/"
        },
        "id": "IvDct2Dakbao",
        "outputId": "24f1f073-2f31-4faa-f1bb-ae5057f15e30"
      },
      "execution_count": 9,
      "outputs": [
        {
          "output_type": "execute_result",
          "data": {
            "text/plain": [
              "473"
            ]
          },
          "metadata": {},
          "execution_count": 9
        }
      ]
    },
    {
      "cell_type": "code",
      "source": [
        "def get_feature_list(df):\n",
        "  features = df.columns[1:-1]\n",
        "  print(f'There are {len(features)} features!')\n",
        "  return features"
      ],
      "metadata": {
        "id": "dLSwWNVkwika"
      },
      "execution_count": 12,
      "outputs": []
    },
    {
      "cell_type": "code",
      "source": [
        "features = get_feature_list(train)"
      ],
      "metadata": {
        "colab": {
          "base_uri": "https://localhost:8080/"
        },
        "id": "zuPN-LUvwih1",
        "outputId": "9128d449-292a-413f-d665-78fca93439dc"
      },
      "execution_count": 13,
      "outputs": [
        {
          "output_type": "stream",
          "name": "stdout",
          "text": [
            "There are 1487 features!\n"
          ]
        }
      ]
    },
    {
      "cell_type": "code",
      "source": [
        "features"
      ],
      "metadata": {
        "id": "qH6ICggMAR2s"
      },
      "execution_count": null,
      "outputs": []
    },
    {
      "cell_type": "code",
      "source": [
        "def save_features(features):\n",
        "  with open(f'{SAVE_PATH}features_V{VER}.csv', 'w') as csvfile:\n",
        "    # creating a csv writer object\n",
        "    writer = csv.writer(csvfile)    \n",
        "    writer.writerow(features) "
      ],
      "metadata": {
        "id": "UVJBCPcPFqHf"
      },
      "execution_count": 14,
      "outputs": []
    },
    {
      "cell_type": "code",
      "source": [
        "save_features(features)"
      ],
      "metadata": {
        "id": "q_BYp1ZEHfsr"
      },
      "execution_count": 15,
      "outputs": []
    },
    {
      "cell_type": "code",
      "source": [
        "del features"
      ],
      "metadata": {
        "id": "6z9E2agCBXwy"
      },
      "execution_count": null,
      "outputs": []
    },
    {
      "cell_type": "code",
      "source": [
        "features = pd.read_csv(f'{SAVE_PATH}features_V{VER}.csv')\n",
        "features = pd.Index(features.columns)\n"
      ],
      "metadata": {
        "id": "r2xe0RQw307T"
      },
      "execution_count": null,
      "outputs": []
    },
    {
      "cell_type": "markdown",
      "source": [
        "Train XGB"
      ],
      "metadata": {
        "id": "4YdNxSUbxUyq"
      }
    },
    {
      "cell_type": "code",
      "source": [
        "def amex_metric_mod(y_true, y_pred):\n",
        "\n",
        "    labels     = np.transpose(np.array([y_true, y_pred]))\n",
        "    labels     = labels[labels[:, 1].argsort()[::-1]]\n",
        "    weights    = np.where(labels[:,0]==0, 20, 1)\n",
        "    cut_vals   = labels[np.cumsum(weights) <= int(0.04 * np.sum(weights))]\n",
        "    top_four   = np.sum(cut_vals[:,0]) / np.sum(labels[:,0])\n",
        "\n",
        "    gini = [0,0]\n",
        "    for i in [1,0]:\n",
        "        labels         = np.transpose(np.array([y_true, y_pred]))\n",
        "        labels         = labels[labels[:, i].argsort()[::-1]]\n",
        "        weight         = np.where(labels[:,0]==0, 20, 1)\n",
        "        weight_random  = np.cumsum(weight / np.sum(weight))\n",
        "        total_pos      = np.sum(labels[:, 0] *  weight)\n",
        "        cum_pos_found  = np.cumsum(labels[:, 0] * weight)\n",
        "        lorentz        = cum_pos_found / total_pos\n",
        "        gini[i]        = np.sum((lorentz - weight_random) * weight)\n",
        "\n",
        "    return 0.5 * (gini[1]/gini[0] + top_four)"
      ],
      "metadata": {
        "id": "vs-L3HSwybZq"
      },
      "execution_count": 16,
      "outputs": []
    },
    {
      "cell_type": "code",
      "source": [
        "def get_xgb_parameters():\n",
        "\n",
        "  # XGB MODEL PARAMETERS\n",
        "  # xgb_parms = { \n",
        "  #   'max_depth':4, \n",
        "  #   'learning_rate':0.05, \n",
        "  #   'subsample':0.8,\n",
        "  #   'colsample_bytree':0.6, \n",
        "  #   'eval_metric':'logloss',\n",
        "  #   'objective':'binary:logistic',\n",
        "  #   'tree_method':'gpu_hist',\n",
        "  #   'predictor':'gpu_predictor',\n",
        "  #   'random_state':SEED\n",
        "  # }\n",
        "  xgb_parms = {\n",
        "   'lambda': 0.19846538518330817, \n",
        "   'alpha': 0.11499421368543077, \n",
        "   'colsample_bytree': 1.0, \n",
        "   'subsample': 0.6, \n",
        "   'learning_rate': 0.01, \n",
        "   'max_depth': 8, \n",
        "   'min_child_weight': 56,\n",
        "   'eval_metric':'logloss',\n",
        "   'objective':'binary:logistic',\n",
        "   'tree_method':'gpu_hist',\n",
        "   'predictor':'gpu_predictor',\n",
        "   'random_state':SEED  \n",
        "    }\n",
        "  # xgb_parms = {'lambda': 0.01266408599670852, \n",
        "  #  'alpha': 0.006135780234755984, \n",
        "  #  'colsample_bytree': 0.6, \n",
        "  #  'subsample': 0.9, \n",
        "  #  'learning_rate': 0.01, \n",
        "  #  'max_depth': 7, \n",
        "  #  'min_child_weight': 193,\n",
        "  #  'eval_metric':'logloss',\n",
        "  #  'objective':'binary:logistic',\n",
        "  #  'tree_method':'gpu_hist',\n",
        "  #  'predictor':'gpu_predictor',\n",
        "  #  'random_state':SEED \n",
        "  #  }\n",
        "  \n",
        "  \n",
        "  \n",
        "  \n",
        "  return xgb_parms"
      ],
      "metadata": {
        "id": "oGTdE15Ax1yH"
      },
      "execution_count": 17,
      "outputs": []
    },
    {
      "cell_type": "code",
      "source": [
        "xgb_parms = get_xgb_parameters()"
      ],
      "metadata": {
        "id": "3iP8P1w5x1uj"
      },
      "execution_count": 18,
      "outputs": []
    },
    {
      "cell_type": "code",
      "source": [
        "def train_model(df, SEED=SEED, SAVE_PATH =SAVE_PATH, VER=VER):\n",
        "  importances = []\n",
        "  oof = []\n",
        "  TRAIN_SUBSAMPLE = 1.0\n",
        "  gc.collect()\n",
        "  kaggle_metrics_folds =[]\n",
        "\n",
        "  skf = KFold(n_splits=FOLDS, shuffle=True, random_state=SEED)\n",
        "  for fold,(train_idx, valid_idx) in enumerate(skf.split(\n",
        "            df, df.target )):\n",
        "    # TRAIN WITH SUBSAMPLE OF TRAIN FOLD DATA\n",
        "    if TRAIN_SUBSAMPLE<1.0:\n",
        "        np.random.seed(SEED)\n",
        "        train_idx = np.random.choice(train_idx, \n",
        "                       int(len(train_idx)*TRAIN_SUBSAMPLE), replace=False)\n",
        "        np.random.seed(None)\n",
        "    \n",
        "    print('#'*25)\n",
        "    print('### Fold',fold+1)\n",
        "    print('### Train size',len(train_idx),'Valid size',len(valid_idx))\n",
        "    print(f'### Training with {int(TRAIN_SUBSAMPLE*100)}% fold data...')\n",
        "    print('#'*25)\n",
        "    \n",
        "    # TRAIN, VALID, TEST FOR FOLD K\n",
        "    #Xy_train = IterLoadForDMatrix(train.loc[train_idx], features, 'target')\n",
        "\n",
        "    X_train = df.loc[train_idx, features]\n",
        "    y_train = df.loc[train_idx, 'target']\n",
        "\n",
        "    X_valid = df.loc[valid_idx, features]\n",
        "    y_valid = df.loc[valid_idx, 'target']\n",
        "    \n",
        "    #dtrain = xgb.DeviceQuantileDMatrix(Xy_train, max_bin=256)\n",
        "\n",
        "    dtrain = xgb.DMatrix(data=X_train, label=y_train)   \n",
        "    dvalid = xgb.DMatrix(data=X_valid, label=y_valid)\n",
        "    \n",
        "    # TRAIN MODEL FOLD K\n",
        "    model = xgb.train(xgb_parms, \n",
        "                dtrain=dtrain,\n",
        "                evals=[(dtrain,'train'),(dvalid,'valid')],\n",
        "                num_boost_round=9999,\n",
        "                early_stopping_rounds=100,\n",
        "                verbose_eval=100) \n",
        "    model.save_model(f'{SAVE_PATH}XGB_v{VER}_fold{fold}.xgb')\n",
        "    \n",
        "    # GET FEATURE IMPORTANCE FOR FOLD K\n",
        "    dd = model.get_score(importance_type='weight')\n",
        "    df_pred = pd.DataFrame({'feature':dd.keys(),f'importance_{fold}':dd.values()})\n",
        "    importances.append(df_pred)\n",
        "            \n",
        "    # INFER OOF FOLD K\n",
        "    oof_preds = model.predict(dvalid)\n",
        "    acc = amex_metric_mod(y_valid.values, oof_preds)\n",
        "    print('Kaggle Metric =',acc,'\\n')\n",
        "    kaggle_metrics_folds.append(acc)\n",
        "    \n",
        "    # SAVE OOF\n",
        "    df_pred = df.loc[valid_idx, ['customer_ID','target'] ].copy()\n",
        "    df_pred['oof_pred'] = oof_preds\n",
        "    oof.append( df_pred )\n",
        "    \n",
        "    del dtrain, X_train, y_train, dd, df_pred #,Xy_train,\n",
        "    del X_valid, y_valid, dvalid, model\n",
        "    _ = gc.collect()\n",
        "    \n",
        "  print('#'*25)\n",
        "  oof = pd.concat(oof,axis=0,ignore_index=True).set_index('customer_ID')\n",
        "  acc = amex_metric_mod(oof.target.values, oof.oof_pred.values)\n",
        "  print('OVERALL CV Kaggle Metric =',acc)\n",
        "  print(kaggle_metrics_folds)"
      ],
      "metadata": {
        "id": "glTabRzUx1nn"
      },
      "execution_count": 19,
      "outputs": []
    },
    {
      "cell_type": "code",
      "source": [
        "train_model(train)"
      ],
      "metadata": {
        "colab": {
          "base_uri": "https://localhost:8080/"
        },
        "id": "AxBFuMW5x1kM",
        "outputId": "62b7d521-f92f-458f-96c2-92e5d600cc8e"
      },
      "execution_count": 20,
      "outputs": [
        {
          "output_type": "stream",
          "name": "stdout",
          "text": [
            "#########################\n",
            "### Fold 1\n",
            "### Train size 367130 Valid size 91783\n",
            "### Training with 100% fold data...\n",
            "#########################\n",
            "[0]\ttrain-logloss:0.6864\tvalid-logloss:0.686443\n",
            "Multiple eval metrics have been passed: 'valid-logloss' will be used for early stopping.\n",
            "\n",
            "Will train until valid-logloss hasn't improved in 100 rounds.\n",
            "[100]\ttrain-logloss:0.35617\tvalid-logloss:0.359995\n",
            "[200]\ttrain-logloss:0.26576\tvalid-logloss:0.272529\n",
            "[300]\ttrain-logloss:0.233921\tvalid-logloss:0.243108\n",
            "[400]\ttrain-logloss:0.220588\tvalid-logloss:0.231832\n",
            "[500]\ttrain-logloss:0.214086\tvalid-logloss:0.227024\n",
            "[600]\ttrain-logloss:0.209649\tvalid-logloss:0.224322\n",
            "[700]\ttrain-logloss:0.206023\tvalid-logloss:0.222533\n",
            "[800]\ttrain-logloss:0.203194\tvalid-logloss:0.221322\n",
            "[900]\ttrain-logloss:0.200638\tvalid-logloss:0.220337\n",
            "[1000]\ttrain-logloss:0.198358\tvalid-logloss:0.219597\n",
            "[1100]\ttrain-logloss:0.19619\tvalid-logloss:0.218953\n",
            "[1200]\ttrain-logloss:0.194168\tvalid-logloss:0.218411\n",
            "[1300]\ttrain-logloss:0.192293\tvalid-logloss:0.218013\n",
            "[1400]\ttrain-logloss:0.190473\tvalid-logloss:0.217638\n",
            "[1500]\ttrain-logloss:0.188859\tvalid-logloss:0.217347\n",
            "[1600]\ttrain-logloss:0.187246\tvalid-logloss:0.217088\n",
            "[1700]\ttrain-logloss:0.18572\tvalid-logloss:0.216868\n",
            "[1800]\ttrain-logloss:0.184119\tvalid-logloss:0.216651\n",
            "[1900]\ttrain-logloss:0.182643\tvalid-logloss:0.216457\n",
            "[2000]\ttrain-logloss:0.181157\tvalid-logloss:0.216318\n",
            "[2100]\ttrain-logloss:0.179816\tvalid-logloss:0.216166\n",
            "[2200]\ttrain-logloss:0.17841\tvalid-logloss:0.215993\n",
            "[2300]\ttrain-logloss:0.176983\tvalid-logloss:0.21586\n",
            "[2400]\ttrain-logloss:0.175542\tvalid-logloss:0.215707\n",
            "[2500]\ttrain-logloss:0.174293\tvalid-logloss:0.215603\n",
            "[2600]\ttrain-logloss:0.172907\tvalid-logloss:0.215519\n",
            "[2700]\ttrain-logloss:0.171669\tvalid-logloss:0.215424\n",
            "[2800]\ttrain-logloss:0.17034\tvalid-logloss:0.215324\n",
            "[2900]\ttrain-logloss:0.169112\tvalid-logloss:0.215251\n",
            "[3000]\ttrain-logloss:0.167772\tvalid-logloss:0.215168\n",
            "[3100]\ttrain-logloss:0.166492\tvalid-logloss:0.215097\n",
            "[3200]\ttrain-logloss:0.165263\tvalid-logloss:0.215047\n",
            "[3300]\ttrain-logloss:0.163943\tvalid-logloss:0.214969\n",
            "[3400]\ttrain-logloss:0.162722\tvalid-logloss:0.214895\n",
            "[3500]\ttrain-logloss:0.161574\tvalid-logloss:0.214844\n",
            "[3600]\ttrain-logloss:0.160395\tvalid-logloss:0.214832\n",
            "[3700]\ttrain-logloss:0.159269\tvalid-logloss:0.2148\n",
            "[3800]\ttrain-logloss:0.158105\tvalid-logloss:0.214774\n",
            "[3900]\ttrain-logloss:0.157029\tvalid-logloss:0.214743\n",
            "[4000]\ttrain-logloss:0.155976\tvalid-logloss:0.214702\n",
            "[4100]\ttrain-logloss:0.15494\tvalid-logloss:0.214649\n",
            "[4200]\ttrain-logloss:0.153811\tvalid-logloss:0.214661\n",
            "Stopping. Best iteration:\n",
            "[4136]\ttrain-logloss:0.154547\tvalid-logloss:0.214636\n",
            "\n",
            "Kaggle Metric = 0.7969120719048222 \n",
            "\n",
            "#########################\n",
            "### Fold 2\n",
            "### Train size 367130 Valid size 91783\n",
            "### Training with 100% fold data...\n",
            "#########################\n",
            "[0]\ttrain-logloss:0.6864\tvalid-logloss:0.686428\n",
            "Multiple eval metrics have been passed: 'valid-logloss' will be used for early stopping.\n",
            "\n",
            "Will train until valid-logloss hasn't improved in 100 rounds.\n",
            "[100]\ttrain-logloss:0.356337\tvalid-logloss:0.359548\n",
            "[200]\ttrain-logloss:0.266048\tvalid-logloss:0.271848\n",
            "[300]\ttrain-logloss:0.234248\tvalid-logloss:0.242171\n",
            "[400]\ttrain-logloss:0.22084\tvalid-logloss:0.230645\n",
            "[500]\ttrain-logloss:0.214261\tvalid-logloss:0.225663\n",
            "[600]\ttrain-logloss:0.20987\tvalid-logloss:0.222947\n",
            "[700]\ttrain-logloss:0.206343\tvalid-logloss:0.22114\n",
            "[800]\ttrain-logloss:0.20346\tvalid-logloss:0.219885\n",
            "[900]\ttrain-logloss:0.201083\tvalid-logloss:0.21899\n",
            "[1000]\ttrain-logloss:0.198695\tvalid-logloss:0.218249\n",
            "[1100]\ttrain-logloss:0.196588\tvalid-logloss:0.21772\n",
            "[1200]\ttrain-logloss:0.19461\tvalid-logloss:0.217289\n",
            "[1300]\ttrain-logloss:0.192689\tvalid-logloss:0.21691\n",
            "[1400]\ttrain-logloss:0.191033\tvalid-logloss:0.216611\n",
            "[1500]\ttrain-logloss:0.189366\tvalid-logloss:0.21633\n",
            "[1600]\ttrain-logloss:0.187643\tvalid-logloss:0.216078\n",
            "[1700]\ttrain-logloss:0.186044\tvalid-logloss:0.215899\n",
            "[1800]\ttrain-logloss:0.184594\tvalid-logloss:0.215741\n",
            "[1900]\ttrain-logloss:0.183096\tvalid-logloss:0.215604\n",
            "[2000]\ttrain-logloss:0.181618\tvalid-logloss:0.215469\n",
            "[2100]\ttrain-logloss:0.180114\tvalid-logloss:0.215358\n",
            "[2200]\ttrain-logloss:0.178726\tvalid-logloss:0.215256\n",
            "[2300]\ttrain-logloss:0.177435\tvalid-logloss:0.215185\n",
            "[2400]\ttrain-logloss:0.176109\tvalid-logloss:0.215098\n",
            "[2500]\ttrain-logloss:0.174724\tvalid-logloss:0.215051\n",
            "[2600]\ttrain-logloss:0.173446\tvalid-logloss:0.21499\n",
            "[2700]\ttrain-logloss:0.172148\tvalid-logloss:0.214941\n",
            "[2800]\ttrain-logloss:0.170911\tvalid-logloss:0.214873\n",
            "[2900]\ttrain-logloss:0.169641\tvalid-logloss:0.214821\n",
            "[3000]\ttrain-logloss:0.168438\tvalid-logloss:0.214791\n",
            "[3100]\ttrain-logloss:0.167134\tvalid-logloss:0.214776\n",
            "[3200]\ttrain-logloss:0.165915\tvalid-logloss:0.214711\n",
            "[3300]\ttrain-logloss:0.164722\tvalid-logloss:0.214666\n",
            "[3400]\ttrain-logloss:0.163474\tvalid-logloss:0.214632\n",
            "[3500]\ttrain-logloss:0.162243\tvalid-logloss:0.214613\n",
            "[3600]\ttrain-logloss:0.161072\tvalid-logloss:0.214575\n",
            "[3700]\ttrain-logloss:0.159881\tvalid-logloss:0.214556\n",
            "Stopping. Best iteration:\n",
            "[3699]\ttrain-logloss:0.159892\tvalid-logloss:0.214554\n",
            "\n",
            "Kaggle Metric = 0.7965001952586592 \n",
            "\n",
            "#########################\n",
            "### Fold 3\n",
            "### Train size 367130 Valid size 91783\n",
            "### Training with 100% fold data...\n",
            "#########################\n",
            "[0]\ttrain-logloss:0.686405\tvalid-logloss:0.686412\n",
            "Multiple eval metrics have been passed: 'valid-logloss' will be used for early stopping.\n",
            "\n",
            "Will train until valid-logloss hasn't improved in 100 rounds.\n",
            "[100]\ttrain-logloss:0.356475\tvalid-logloss:0.358576\n",
            "[200]\ttrain-logloss:0.266079\tvalid-logloss:0.270589\n",
            "[300]\ttrain-logloss:0.234235\tvalid-logloss:0.240997\n",
            "[400]\ttrain-logloss:0.220856\tvalid-logloss:0.229664\n",
            "[500]\ttrain-logloss:0.214155\tvalid-logloss:0.224754\n",
            "[600]\ttrain-logloss:0.209701\tvalid-logloss:0.222075\n",
            "[700]\ttrain-logloss:0.206094\tvalid-logloss:0.220346\n",
            "[800]\ttrain-logloss:0.203239\tvalid-logloss:0.219164\n",
            "[900]\ttrain-logloss:0.200712\tvalid-logloss:0.218249\n",
            "[1000]\ttrain-logloss:0.198439\tvalid-logloss:0.217613\n",
            "[1100]\ttrain-logloss:0.196387\tvalid-logloss:0.21706\n",
            "[1200]\ttrain-logloss:0.194437\tvalid-logloss:0.216568\n",
            "[1300]\ttrain-logloss:0.19265\tvalid-logloss:0.216236\n",
            "[1400]\ttrain-logloss:0.190875\tvalid-logloss:0.215958\n",
            "[1500]\ttrain-logloss:0.189237\tvalid-logloss:0.215703\n",
            "[1600]\ttrain-logloss:0.187542\tvalid-logloss:0.215469\n",
            "[1700]\ttrain-logloss:0.185955\tvalid-logloss:0.215279\n",
            "[1800]\ttrain-logloss:0.184454\tvalid-logloss:0.21512\n",
            "[1900]\ttrain-logloss:0.18294\tvalid-logloss:0.214984\n",
            "[2000]\ttrain-logloss:0.181432\tvalid-logloss:0.214879\n",
            "[2100]\ttrain-logloss:0.179971\tvalid-logloss:0.214786\n",
            "[2200]\ttrain-logloss:0.178661\tvalid-logloss:0.214688\n",
            "[2300]\ttrain-logloss:0.177243\tvalid-logloss:0.214572\n",
            "[2400]\ttrain-logloss:0.176021\tvalid-logloss:0.214495\n",
            "[2500]\ttrain-logloss:0.174752\tvalid-logloss:0.214455\n",
            "[2600]\ttrain-logloss:0.173525\tvalid-logloss:0.214396\n",
            "[2700]\ttrain-logloss:0.172224\tvalid-logloss:0.21433\n",
            "[2800]\ttrain-logloss:0.17098\tvalid-logloss:0.214298\n",
            "[2900]\ttrain-logloss:0.169708\tvalid-logloss:0.214266\n",
            "[3000]\ttrain-logloss:0.16846\tvalid-logloss:0.214225\n",
            "[3100]\ttrain-logloss:0.167304\tvalid-logloss:0.214212\n",
            "[3200]\ttrain-logloss:0.166065\tvalid-logloss:0.21418\n",
            "[3300]\ttrain-logloss:0.164825\tvalid-logloss:0.21414\n",
            "[3400]\ttrain-logloss:0.163677\tvalid-logloss:0.214114\n",
            "[3500]\ttrain-logloss:0.162468\tvalid-logloss:0.214087\n",
            "[3600]\ttrain-logloss:0.16135\tvalid-logloss:0.214096\n",
            "Stopping. Best iteration:\n",
            "[3507]\ttrain-logloss:0.16239\tvalid-logloss:0.214083\n",
            "\n",
            "Kaggle Metric = 0.7967465309957907 \n",
            "\n",
            "#########################\n",
            "### Fold 4\n",
            "### Train size 367131 Valid size 91782\n",
            "### Training with 100% fold data...\n",
            "#########################\n",
            "[0]\ttrain-logloss:0.686411\tvalid-logloss:0.686446\n",
            "Multiple eval metrics have been passed: 'valid-logloss' will be used for early stopping.\n",
            "\n",
            "Will train until valid-logloss hasn't improved in 100 rounds.\n",
            "[100]\ttrain-logloss:0.356304\tvalid-logloss:0.359594\n",
            "[200]\ttrain-logloss:0.266\tvalid-logloss:0.271781\n",
            "[300]\ttrain-logloss:0.234145\tvalid-logloss:0.242223\n",
            "[400]\ttrain-logloss:0.220735\tvalid-logloss:0.230971\n",
            "[500]\ttrain-logloss:0.214148\tvalid-logloss:0.226174\n",
            "[600]\ttrain-logloss:0.209593\tvalid-logloss:0.223535\n",
            "[700]\ttrain-logloss:0.206004\tvalid-logloss:0.221855\n",
            "[800]\ttrain-logloss:0.203153\tvalid-logloss:0.220711\n",
            "[900]\ttrain-logloss:0.200555\tvalid-logloss:0.219852\n",
            "[1000]\ttrain-logloss:0.198194\tvalid-logloss:0.219178\n",
            "[1100]\ttrain-logloss:0.195896\tvalid-logloss:0.218602\n",
            "[1200]\ttrain-logloss:0.194047\tvalid-logloss:0.218177\n",
            "[1300]\ttrain-logloss:0.192259\tvalid-logloss:0.217845\n",
            "[1400]\ttrain-logloss:0.190566\tvalid-logloss:0.217557\n",
            "[1500]\ttrain-logloss:0.188911\tvalid-logloss:0.217296\n",
            "[1600]\ttrain-logloss:0.187276\tvalid-logloss:0.217092\n",
            "[1700]\ttrain-logloss:0.185674\tvalid-logloss:0.216885\n",
            "[1800]\ttrain-logloss:0.184147\tvalid-logloss:0.216708\n",
            "[1900]\ttrain-logloss:0.182702\tvalid-logloss:0.216563\n",
            "[2000]\ttrain-logloss:0.181317\tvalid-logloss:0.216411\n",
            "[2100]\ttrain-logloss:0.179974\tvalid-logloss:0.216306\n",
            "[2200]\ttrain-logloss:0.178597\tvalid-logloss:0.216234\n",
            "[2300]\ttrain-logloss:0.17731\tvalid-logloss:0.216162\n",
            "[2400]\ttrain-logloss:0.175947\tvalid-logloss:0.216072\n",
            "[2500]\ttrain-logloss:0.174667\tvalid-logloss:0.216042\n",
            "[2600]\ttrain-logloss:0.173342\tvalid-logloss:0.215978\n",
            "[2700]\ttrain-logloss:0.172076\tvalid-logloss:0.215938\n",
            "[2800]\ttrain-logloss:0.170867\tvalid-logloss:0.21589\n",
            "[2900]\ttrain-logloss:0.169624\tvalid-logloss:0.215838\n",
            "[3000]\ttrain-logloss:0.168322\tvalid-logloss:0.215812\n",
            "[3100]\ttrain-logloss:0.16713\tvalid-logloss:0.215796\n",
            "[3200]\ttrain-logloss:0.165879\tvalid-logloss:0.215765\n",
            "[3300]\ttrain-logloss:0.16462\tvalid-logloss:0.215726\n",
            "[3400]\ttrain-logloss:0.16344\tvalid-logloss:0.215701\n",
            "[3500]\ttrain-logloss:0.162289\tvalid-logloss:0.215675\n",
            "[3600]\ttrain-logloss:0.161087\tvalid-logloss:0.215626\n",
            "[3700]\ttrain-logloss:0.159965\tvalid-logloss:0.215624\n",
            "Stopping. Best iteration:\n",
            "[3607]\ttrain-logloss:0.16099\tvalid-logloss:0.215616\n",
            "\n",
            "Kaggle Metric = 0.7922152777481679 \n",
            "\n",
            "#########################\n",
            "### Fold 5\n",
            "### Train size 367131 Valid size 91782\n",
            "### Training with 100% fold data...\n",
            "#########################\n",
            "[0]\ttrain-logloss:0.686392\tvalid-logloss:0.686458\n",
            "Multiple eval metrics have been passed: 'valid-logloss' will be used for early stopping.\n",
            "\n",
            "Will train until valid-logloss hasn't improved in 100 rounds.\n",
            "[100]\ttrain-logloss:0.355789\tvalid-logloss:0.360876\n",
            "[200]\ttrain-logloss:0.265276\tvalid-logloss:0.273875\n",
            "[300]\ttrain-logloss:0.233362\tvalid-logloss:0.244838\n",
            "[400]\ttrain-logloss:0.220022\tvalid-logloss:0.233818\n",
            "[500]\ttrain-logloss:0.213508\tvalid-logloss:0.2291\n",
            "[600]\ttrain-logloss:0.209093\tvalid-logloss:0.226407\n",
            "[700]\ttrain-logloss:0.205569\tvalid-logloss:0.224704\n",
            "[800]\ttrain-logloss:0.202584\tvalid-logloss:0.223484\n",
            "[900]\ttrain-logloss:0.200097\tvalid-logloss:0.222548\n",
            "[1000]\ttrain-logloss:0.197783\tvalid-logloss:0.221813\n",
            "[1100]\ttrain-logloss:0.195659\tvalid-logloss:0.221219\n",
            "[1200]\ttrain-logloss:0.193714\tvalid-logloss:0.220745\n",
            "[1300]\ttrain-logloss:0.191889\tvalid-logloss:0.220349\n",
            "[1400]\ttrain-logloss:0.1901\tvalid-logloss:0.220059\n",
            "[1500]\ttrain-logloss:0.188505\tvalid-logloss:0.219767\n",
            "[1600]\ttrain-logloss:0.186906\tvalid-logloss:0.219536\n",
            "[1700]\ttrain-logloss:0.185369\tvalid-logloss:0.219351\n",
            "[1800]\ttrain-logloss:0.183851\tvalid-logloss:0.219188\n",
            "[1900]\ttrain-logloss:0.182467\tvalid-logloss:0.219044\n",
            "[2000]\ttrain-logloss:0.181008\tvalid-logloss:0.218873\n",
            "[2100]\ttrain-logloss:0.179544\tvalid-logloss:0.218744\n",
            "[2200]\ttrain-logloss:0.178166\tvalid-logloss:0.218627\n",
            "[2300]\ttrain-logloss:0.176811\tvalid-logloss:0.218508\n",
            "[2400]\ttrain-logloss:0.175468\tvalid-logloss:0.218411\n",
            "[2500]\ttrain-logloss:0.174156\tvalid-logloss:0.218314\n",
            "[2600]\ttrain-logloss:0.17287\tvalid-logloss:0.218232\n",
            "[2700]\ttrain-logloss:0.1715\tvalid-logloss:0.218211\n",
            "[2800]\ttrain-logloss:0.17021\tvalid-logloss:0.218149\n",
            "[2900]\ttrain-logloss:0.168922\tvalid-logloss:0.218112\n",
            "[3000]\ttrain-logloss:0.1677\tvalid-logloss:0.218071\n",
            "[3100]\ttrain-logloss:0.166401\tvalid-logloss:0.218012\n",
            "[3200]\ttrain-logloss:0.165192\tvalid-logloss:0.217958\n",
            "[3300]\ttrain-logloss:0.163992\tvalid-logloss:0.217915\n",
            "[3400]\ttrain-logloss:0.162791\tvalid-logloss:0.217897\n",
            "[3500]\ttrain-logloss:0.161575\tvalid-logloss:0.217868\n",
            "[3600]\ttrain-logloss:0.160482\tvalid-logloss:0.217839\n",
            "Stopping. Best iteration:\n",
            "[3597]\ttrain-logloss:0.160512\tvalid-logloss:0.217835\n",
            "\n",
            "Kaggle Metric = 0.7941480645671318 \n",
            "\n",
            "#########################\n",
            "OVERALL CV Kaggle Metric = 0.7952813107927237\n",
            "[0.7969120719048222, 0.7965001952586592, 0.7967465309957907, 0.7922152777481679, 0.7941480645671318]\n"
          ]
        }
      ]
    },
    {
      "cell_type": "code",
      "source": [
        "gc.collect()"
      ],
      "metadata": {
        "colab": {
          "base_uri": "https://localhost:8080/"
        },
        "id": "I8-_wPiRNHPs",
        "outputId": "589684d6-b29b-4944-da7d-8e45ebca2e55"
      },
      "execution_count": 17,
      "outputs": [
        {
          "output_type": "execute_result",
          "data": {
            "text/plain": [
              "667"
            ]
          },
          "metadata": {},
          "execution_count": 17
        }
      ]
    },
    {
      "cell_type": "markdown",
      "source": [
        "\n",
        "\n",
        "```\n",
        "base = 0.791536\n",
        "ohne na Behandlung = 0.790870\n",
        "na fill nach agg = 0.7916640\n",
        "revertnan und na_fill nach agg = 0.791823\n",
        "mit number of obs (und na_fill nach agg) = 0.79223834\n",
        "so mit growth feature = 0.79185923 ??\n",
        "mit abschange = 0.7917617 ??\n",
        "mit abschange nicht skaliert = 0.791859 ?\n",
        "number of obs in buckets (größer 10) + abschange = 0.7915386 ?\n",
        "mit number_of_obs und min-max = 0.792181\n",
        "mit number of obs (und na_fill nach agg)fillna vor meandev + mean deviation = 0.792464\n",
        "mit number of obs (und na_fill nach agg) fillna nach meandev + mean deviation = 0.79237036 (=VER 1, 0.794 public lb)\n",
        "s.o. + after pay features = 0.79310\n",
        "VER 3: s.o. mit getunten Hyperparametern = 0.794355 (V3, 0.796 public lb)\n",
        "s.o. mit B_29 = 0.794610 (v5, 0.796 public lb)\n",
        "so ohne B_29 mit 1:100 Bratios = 0.7951046\n",
        "so mit allen Bratios = 0.7952144 (0.795 lb)\n",
        "VER 3 + first: 0.794577\n",
        "Ver 3 + forst + first diff = 0.7955055\n",
        "Ver 3 +  first diff = 0.79504522 ( 0.796735284564001, 0.79686627331464, 0.7968411263507417, 0.7920236043263609, 0.793339220870202 )\n",
        "\n",
        "V7 = V3 + first + first diff = OVERALL CV Kaggle Metric = 0.7951661498772574 (LB 0.797)\n",
        "[0.7962198773071689, 0.7965380847686576, 0.7972899788446302, 0.7909934597488399, 0.794277615381761] (Unterschied zu so 0.7955 konnte nicht nachvollzogen werden)\n",
        "\n",
        "V9 = V9 mit getunten hyperparametern :OVERALL CV Kaggle Metric = 0.795368601110926\n",
        "[0.7954320326411877, 0.7974078889361778, 0.7973913538116686, 0.7913097036060067, 0.7957431778045534]\n",
        "\n",
        "V12: after pay nur mit last, one hot encoding OVERALL CV Kaggle Metric = 0.7957373107518337 (lb 0.797)\n",
        "[0.7969486198782119, 0.7962363538077044, 0.7973269062536987, 0.7920697622584665, 0.7955655878459955]\n",
        "\n",
        "V13: mit maxmin, ohne std, ohne min, OVERALL CV Kaggle Metric = 0.7953608849564417 (0.796 lb)\n",
        "[0.7968882798164574, 0.7964878206575973, 0.7974681877663161, 0.7917797910863018, 0.793948382819542]\n",
        "\n",
        "V14: mit min, ohne std: OVERALL CV Kaggle Metric = 0.7952813107927237\n",
        "[0.7969120719048222, 0.7965001952586592, 0.7967465309957907, 0.7922152777481679, 0.7941480645671318]\n"
      ],
      "metadata": {
        "id": "0pXdNTZV-CMC"
      }
    },
    {
      "cell_type": "markdown",
      "source": [
        "Prepare Testdata"
      ],
      "metadata": {
        "id": "-FSci_IVK90h"
      }
    },
    {
      "cell_type": "code",
      "source": [
        "# CALCULATE SIZE OF EACH SEPARATE TEST PART\n",
        "def get_rows(customers, test, NUM_PARTS = NUM_PARTS, verbose = ''):\n",
        "    chunk = len(customers)//NUM_PARTS\n",
        "    if verbose != '':\n",
        "        print(f'We will process {verbose} data as {NUM_PARTS} separate parts.')\n",
        "        print(f'There will be {chunk} customers in each part (except the last part).')\n",
        "        print('Below are number of rows in each part:')\n",
        "    rows = []\n",
        "\n",
        "    for k in range(NUM_PARTS):\n",
        "        if k==NUM_PARTS-1: cc = customers[k*chunk:]\n",
        "        else: cc = customers[k*chunk:(k+1)*chunk]\n",
        "        s = test.loc[test.customer_ID.isin(cc)].shape[0]\n",
        "        rows.append(s)\n",
        "    if verbose != '': print( rows )\n",
        "    return rows,chunk"
      ],
      "metadata": {
        "id": "uDCUADjDKwWb"
      },
      "execution_count": 18,
      "outputs": []
    },
    {
      "cell_type": "code",
      "source": [
        "def get_rowsnumcust(TEST_PATH, NUM_PARTS=NUM_PARTS):\n",
        "  print(f'Reading test data...')\n",
        "  test = read_file(path = TEST_PATH, usecols = ['customer_ID','S_2'])\n",
        "  customers = test[['customer_ID']].drop_duplicates().sort_index().values.flatten()\n",
        "  rows,num_cust = get_rows(customers, test[['customer_ID']], NUM_PARTS = NUM_PARTS, verbose = 'test')\n",
        "  return rows,num_cust,customers"
      ],
      "metadata": {
        "id": "eq3hBpd44pR2"
      },
      "execution_count": 19,
      "outputs": []
    },
    {
      "cell_type": "code",
      "source": [
        "rows,num_cust, customers = get_rowsnumcust(TEST_PATH, NUM_PARTS=NUM_PARTS)"
      ],
      "metadata": {
        "id": "hgVJ0VjZy4By",
        "colab": {
          "base_uri": "https://localhost:8080/"
        },
        "outputId": "1a3d22f2-aaa1-435c-953c-8ada667b9046"
      },
      "execution_count": 20,
      "outputs": [
        {
          "output_type": "stream",
          "name": "stdout",
          "text": [
            "Reading test data...\n",
            "shape of data: (11363762, 2)\n",
            "We will process test data as 10 separate parts.\n",
            "There will be 92462 customers in each part (except the last part).\n",
            "Below are number of rows in each part:\n",
            "[1136415, 1137255, 1135580, 1135734, 1136082, 1137166, 1136612, 1137228, 1136301, 1135389]\n"
          ]
        }
      ]
    },
    {
      "cell_type": "code",
      "source": [
        "# INFER TEST DATA IN PARTS\n",
        "skip_rows = 0\n",
        "skip_cust = 0\n",
        "test_preds = []\n",
        "\n",
        "for k in range(NUM_PARTS):\n",
        "  # READ PART OF TEST DATA\n",
        "  print(f'\\nReading test data...')\n",
        "  test = read_file(path = TEST_PATH)\n",
        "  test = test.sort_index()\n",
        "  test = test.iloc[skip_rows:skip_rows+rows[k]]\n",
        "  skip_rows += rows[k]\n",
        "  print(f'=> Test part {k+1} has shape', test.shape )\n",
        "    \n",
        "  # PROCESS AND FEATURE ENGINEER PART OF TEST DATA\n",
        "  test = preprocess(train_set = False, test = test, Part =k)\n",
        "  if k==NUM_PARTS-1: test = test.loc[customers[skip_cust:]]\n",
        "  else: test = test.loc[customers[skip_cust:skip_cust+num_cust]]\n",
        "  skip_cust += num_cust\n",
        " \n",
        "   \n",
        "  #ammend for one hot encoding\n",
        "  test['D_64_last_1.0'] = 0\n",
        "  test['D_66_last_1.0'] = 0\n",
        "  test['D_68_last_1.0'] = 0\n",
        "  # TEST DATA FOR XGB\n",
        "  X_test = test[features]\n",
        "  print('X_test complete')\n",
        "  dtest = xgb.DMatrix(data=X_test)\n",
        "  print('dtest complete')\n",
        "  #test = test[['P_2_mean']] # reduce memory\n",
        "  del test, X_test\n",
        "  gc.collect()\n",
        "  gc.collect()\n",
        "\n",
        "  # INFER XGB MODELS ON TEST DATA\n",
        "  model = xgb.Booster()\n",
        "  model.load_model(f'{SAVE_PATH}XGB_v{VER}_fold0.xgb')\n",
        "  print('load model complete')\n",
        "  preds = model.predict(dtest)\n",
        "  print('preds complete')\n",
        "  for f in range(1,FOLDS):\n",
        "    del model\n",
        "    gc.collect()\n",
        "    model = xgb.Booster()\n",
        "    model.load_model(f'{SAVE_PATH}XGB_v{VER}_fold{f}.xgb')\n",
        "    print(f'load {f} complete')\n",
        "    preds += model.predict(dtest)\n",
        "    print(f'preds {f} complete')\n",
        "  preds /= FOLDS\n",
        "  test_preds.append(preds)\n",
        "\n",
        "  # CLEAN MEMORY\n",
        "  del dtest, model\n",
        "  _ = gc.collect()\n",
        "\n",
        "test_preds = np.concatenate(test_preds)\n",
        "#test = cudf.DataFrame(index=customers,data={'prediction':test_preds})\n",
        "test = pd.DataFrame(index=customers,data={'prediction':test_preds})\n",
        "#sub = cudf.read_csv(SUBMISSION_FILE_PATH)[['customer_ID']]\n",
        "sub = pd.read_csv(SUBMISSION_FILE_PATH)[['customer_ID']]\n",
        "#sub['customer_ID_hash'] = sub['customer_ID'].str[-16:].str.hex_to_int().astype('int64')\n",
        "sub['customer_ID_hash'] = sub['customer_ID'].str[-16:].apply(int, base =16)\n",
        "sub = sub.set_index('customer_ID_hash')\n",
        "#sub = sub.set_index('customer_ID')\n",
        "sub = sub.merge(test[['prediction']], left_index=True, right_index=True, how='left')\n",
        "sub = sub.reset_index(drop=True)\n",
        "\n",
        "sub.to_csv(f'{SAVE_PATH}submission_xgb_v{VER}.csv',index=False)\n",
        "print('Submission file shape is', sub.shape )\n",
        "sub.head()"
      ],
      "metadata": {
        "colab": {
          "base_uri": "https://localhost:8080/",
          "height": 1000
        },
        "id": "8pnE74mOdQVW",
        "outputId": "82919f40-fa42-425f-cb28-fe6d98d429b9"
      },
      "execution_count": 22,
      "outputs": [
        {
          "output_type": "stream",
          "name": "stdout",
          "text": [
            "\n",
            "Reading test data...\n",
            "shape of data: (11363762, 190)\n",
            "=> Test part 1 has shape (1136415, 190)\n",
            "read file complete\n",
            "revertnan complete\n",
            "numberobs complete\n",
            "get features complete\n",
            "get diff complete\n",
            "num agg complete\n",
            "cat agg complete\n",
            "concat complete\n"
          ]
        },
        {
          "output_type": "stream",
          "name": "stderr",
          "text": [
            "/usr/local/lib/python3.7/dist-packages/ipykernel_launcher.py:64: PerformanceWarning: DataFrame is highly fragmented.  This is usually the result of calling `frame.insert` many times, which has poor performance.  Consider joining all columns at once using pd.concat(axis=1) instead.  To get a de-fragmented frame, use `newframe = frame.copy()`\n"
          ]
        },
        {
          "output_type": "stream",
          "name": "stdout",
          "text": [
            "drop numberobs\n",
            "drop numberobs complete\n",
            "shape after engineering (92462, 919)\n",
            "agg features complete\n"
          ]
        },
        {
          "output_type": "stream",
          "name": "stderr",
          "text": [
            "/usr/local/lib/python3.7/dist-packages/ipykernel_launcher.py:85: PerformanceWarning: DataFrame is highly fragmented.  This is usually the result of calling `frame.insert` many times, which has poor performance.  Consider joining all columns at once using pd.concat(axis=1) instead.  To get a de-fragmented frame, use `newframe = frame.copy()`\n"
          ]
        },
        {
          "output_type": "stream",
          "name": "stdout",
          "text": [
            "meandev complete\n",
            "afterpay complete\n"
          ]
        },
        {
          "output_type": "stream",
          "name": "stderr",
          "text": [
            "/usr/local/lib/python3.7/dist-packages/ipykernel_launcher.py:28: PerformanceWarning: DataFrame is highly fragmented.  This is usually the result of calling `frame.insert` many times, which has poor performance.  Consider joining all columns at once using pd.concat(axis=1) instead.  To get a de-fragmented frame, use `newframe = frame.copy()`\n"
          ]
        },
        {
          "output_type": "stream",
          "name": "stdout",
          "text": [
            "onehot complete\n",
            "fillna complete\n",
            "X_test complete\n",
            "dtest complete\n",
            "load model complete\n",
            "preds complete\n",
            "load 1 complete\n",
            "preds 1 complete\n",
            "load 2 complete\n",
            "preds 2 complete\n",
            "load 3 complete\n",
            "preds 3 complete\n",
            "load 4 complete\n",
            "preds 4 complete\n",
            "\n",
            "Reading test data...\n",
            "shape of data: (11363762, 190)\n",
            "=> Test part 2 has shape (1137255, 190)\n",
            "read file complete\n",
            "revertnan complete\n",
            "numberobs complete\n",
            "get features complete\n",
            "get diff complete\n",
            "num agg complete\n",
            "cat agg complete\n",
            "concat complete\n",
            "drop numberobs\n",
            "drop numberobs complete\n",
            "shape after engineering (92462, 919)\n",
            "agg features complete\n",
            "meandev complete\n",
            "afterpay complete\n",
            "onehot complete\n",
            "fillna complete\n",
            "X_test complete\n",
            "dtest complete\n",
            "load model complete\n",
            "preds complete\n",
            "load 1 complete\n",
            "preds 1 complete\n",
            "load 2 complete\n",
            "preds 2 complete\n",
            "load 3 complete\n",
            "preds 3 complete\n",
            "load 4 complete\n",
            "preds 4 complete\n",
            "\n",
            "Reading test data...\n",
            "shape of data: (11363762, 190)\n",
            "=> Test part 3 has shape (1135580, 190)\n",
            "read file complete\n",
            "revertnan complete\n",
            "numberobs complete\n",
            "get features complete\n",
            "get diff complete\n",
            "num agg complete\n",
            "cat agg complete\n",
            "concat complete\n",
            "drop numberobs\n",
            "drop numberobs complete\n",
            "shape after engineering (92462, 919)\n",
            "agg features complete\n",
            "meandev complete\n",
            "afterpay complete\n",
            "onehot complete\n",
            "fillna complete\n",
            "X_test complete\n",
            "dtest complete\n",
            "load model complete\n",
            "preds complete\n",
            "load 1 complete\n",
            "preds 1 complete\n",
            "load 2 complete\n",
            "preds 2 complete\n",
            "load 3 complete\n",
            "preds 3 complete\n",
            "load 4 complete\n",
            "preds 4 complete\n",
            "\n",
            "Reading test data...\n",
            "shape of data: (11363762, 190)\n",
            "=> Test part 4 has shape (1135734, 190)\n",
            "read file complete\n",
            "revertnan complete\n",
            "numberobs complete\n",
            "get features complete\n",
            "get diff complete\n",
            "num agg complete\n",
            "cat agg complete\n",
            "concat complete\n",
            "drop numberobs\n",
            "drop numberobs complete\n",
            "shape after engineering (92462, 919)\n",
            "agg features complete\n",
            "meandev complete\n",
            "afterpay complete\n",
            "onehot complete\n",
            "fillna complete\n",
            "X_test complete\n",
            "dtest complete\n",
            "load model complete\n",
            "preds complete\n",
            "load 1 complete\n",
            "preds 1 complete\n",
            "load 2 complete\n",
            "preds 2 complete\n",
            "load 3 complete\n",
            "preds 3 complete\n",
            "load 4 complete\n",
            "preds 4 complete\n",
            "\n",
            "Reading test data...\n",
            "shape of data: (11363762, 190)\n",
            "=> Test part 5 has shape (1136082, 190)\n",
            "read file complete\n",
            "revertnan complete\n",
            "numberobs complete\n",
            "get features complete\n",
            "get diff complete\n",
            "num agg complete\n",
            "cat agg complete\n",
            "concat complete\n",
            "drop numberobs\n",
            "drop numberobs complete\n",
            "shape after engineering (92462, 919)\n",
            "agg features complete\n",
            "meandev complete\n",
            "afterpay complete\n",
            "onehot complete\n",
            "fillna complete\n",
            "X_test complete\n",
            "dtest complete\n",
            "load model complete\n",
            "preds complete\n",
            "load 1 complete\n",
            "preds 1 complete\n",
            "load 2 complete\n",
            "preds 2 complete\n",
            "load 3 complete\n",
            "preds 3 complete\n",
            "load 4 complete\n",
            "preds 4 complete\n",
            "\n",
            "Reading test data...\n",
            "shape of data: (11363762, 190)\n",
            "=> Test part 6 has shape (1137166, 190)\n",
            "read file complete\n",
            "revertnan complete\n",
            "numberobs complete\n",
            "get features complete\n",
            "get diff complete\n",
            "num agg complete\n",
            "cat agg complete\n",
            "concat complete\n",
            "drop numberobs\n",
            "drop numberobs complete\n",
            "shape after engineering (92462, 919)\n",
            "agg features complete\n",
            "meandev complete\n",
            "afterpay complete\n",
            "onehot complete\n",
            "fillna complete\n",
            "X_test complete\n",
            "dtest complete\n",
            "load model complete\n",
            "preds complete\n",
            "load 1 complete\n",
            "preds 1 complete\n",
            "load 2 complete\n",
            "preds 2 complete\n",
            "load 3 complete\n",
            "preds 3 complete\n",
            "load 4 complete\n",
            "preds 4 complete\n",
            "\n",
            "Reading test data...\n",
            "shape of data: (11363762, 190)\n",
            "=> Test part 7 has shape (1136612, 190)\n",
            "read file complete\n",
            "revertnan complete\n",
            "numberobs complete\n",
            "get features complete\n",
            "get diff complete\n",
            "num agg complete\n",
            "cat agg complete\n",
            "concat complete\n",
            "drop numberobs\n",
            "drop numberobs complete\n",
            "shape after engineering (92462, 919)\n",
            "agg features complete\n",
            "meandev complete\n",
            "afterpay complete\n",
            "onehot complete\n",
            "fillna complete\n",
            "X_test complete\n",
            "dtest complete\n",
            "load model complete\n",
            "preds complete\n",
            "load 1 complete\n",
            "preds 1 complete\n",
            "load 2 complete\n",
            "preds 2 complete\n",
            "load 3 complete\n",
            "preds 3 complete\n",
            "load 4 complete\n",
            "preds 4 complete\n",
            "\n",
            "Reading test data...\n",
            "shape of data: (11363762, 190)\n",
            "=> Test part 8 has shape (1137228, 190)\n",
            "read file complete\n",
            "revertnan complete\n",
            "numberobs complete\n",
            "get features complete\n",
            "get diff complete\n",
            "num agg complete\n",
            "cat agg complete\n",
            "concat complete\n",
            "drop numberobs\n",
            "drop numberobs complete\n",
            "shape after engineering (92462, 919)\n",
            "agg features complete\n",
            "meandev complete\n",
            "afterpay complete\n",
            "onehot complete\n",
            "fillna complete\n",
            "X_test complete\n",
            "dtest complete\n",
            "load model complete\n",
            "preds complete\n",
            "load 1 complete\n",
            "preds 1 complete\n",
            "load 2 complete\n",
            "preds 2 complete\n",
            "load 3 complete\n",
            "preds 3 complete\n",
            "load 4 complete\n",
            "preds 4 complete\n",
            "\n",
            "Reading test data...\n",
            "shape of data: (11363762, 190)\n",
            "=> Test part 9 has shape (1136301, 190)\n",
            "read file complete\n",
            "revertnan complete\n",
            "numberobs complete\n",
            "get features complete\n",
            "get diff complete\n",
            "num agg complete\n",
            "cat agg complete\n",
            "concat complete\n",
            "drop numberobs\n",
            "drop numberobs complete\n",
            "shape after engineering (92462, 919)\n",
            "agg features complete\n",
            "meandev complete\n",
            "afterpay complete\n",
            "onehot complete\n",
            "fillna complete\n",
            "X_test complete\n",
            "dtest complete\n",
            "load model complete\n",
            "preds complete\n",
            "load 1 complete\n",
            "preds 1 complete\n",
            "load 2 complete\n",
            "preds 2 complete\n",
            "load 3 complete\n",
            "preds 3 complete\n",
            "load 4 complete\n",
            "preds 4 complete\n",
            "\n",
            "Reading test data...\n",
            "shape of data: (11363762, 190)\n",
            "=> Test part 10 has shape (1135389, 190)\n",
            "read file complete\n",
            "revertnan complete\n",
            "numberobs complete\n",
            "get features complete\n",
            "get diff complete\n",
            "num agg complete\n",
            "cat agg complete\n",
            "concat complete\n",
            "drop numberobs\n",
            "drop numberobs complete\n",
            "shape after engineering (92463, 919)\n",
            "agg features complete\n",
            "meandev complete\n",
            "afterpay complete\n",
            "onehot complete\n",
            "fillna complete\n",
            "X_test complete\n",
            "dtest complete\n",
            "load model complete\n",
            "preds complete\n",
            "load 1 complete\n",
            "preds 1 complete\n",
            "load 2 complete\n",
            "preds 2 complete\n",
            "load 3 complete\n",
            "preds 3 complete\n",
            "load 4 complete\n",
            "preds 4 complete\n",
            "Submission file shape is (924621, 2)\n"
          ]
        },
        {
          "output_type": "execute_result",
          "data": {
            "text/plain": [
              "                                         customer_ID  prediction\n",
              "0  00000469ba478561f23a92a868bd366de6f6527a684c9a...    0.035546\n",
              "1  00001bf2e77ff879fab36aa4fac689b9ba411dae63ae39...    0.000686\n",
              "2  0000210045da4f81e5f122c6bde5c2a617d03eef67f82c...    0.027861\n",
              "3  00003b41e58ede33b8daf61ab56d9952f17c9ad1c3976c...    0.201567\n",
              "4  00004b22eaeeeb0ec976890c1d9bfc14fd9427e98c4ee9...    0.896911"
            ],
            "text/html": [
              "\n",
              "  <div id=\"df-3c88414a-04aa-406e-a5eb-2f0658ac63eb\">\n",
              "    <div class=\"colab-df-container\">\n",
              "      <div>\n",
              "<style scoped>\n",
              "    .dataframe tbody tr th:only-of-type {\n",
              "        vertical-align: middle;\n",
              "    }\n",
              "\n",
              "    .dataframe tbody tr th {\n",
              "        vertical-align: top;\n",
              "    }\n",
              "\n",
              "    .dataframe thead th {\n",
              "        text-align: right;\n",
              "    }\n",
              "</style>\n",
              "<table border=\"1\" class=\"dataframe\">\n",
              "  <thead>\n",
              "    <tr style=\"text-align: right;\">\n",
              "      <th></th>\n",
              "      <th>customer_ID</th>\n",
              "      <th>prediction</th>\n",
              "    </tr>\n",
              "  </thead>\n",
              "  <tbody>\n",
              "    <tr>\n",
              "      <th>0</th>\n",
              "      <td>00000469ba478561f23a92a868bd366de6f6527a684c9a...</td>\n",
              "      <td>0.035546</td>\n",
              "    </tr>\n",
              "    <tr>\n",
              "      <th>1</th>\n",
              "      <td>00001bf2e77ff879fab36aa4fac689b9ba411dae63ae39...</td>\n",
              "      <td>0.000686</td>\n",
              "    </tr>\n",
              "    <tr>\n",
              "      <th>2</th>\n",
              "      <td>0000210045da4f81e5f122c6bde5c2a617d03eef67f82c...</td>\n",
              "      <td>0.027861</td>\n",
              "    </tr>\n",
              "    <tr>\n",
              "      <th>3</th>\n",
              "      <td>00003b41e58ede33b8daf61ab56d9952f17c9ad1c3976c...</td>\n",
              "      <td>0.201567</td>\n",
              "    </tr>\n",
              "    <tr>\n",
              "      <th>4</th>\n",
              "      <td>00004b22eaeeeb0ec976890c1d9bfc14fd9427e98c4ee9...</td>\n",
              "      <td>0.896911</td>\n",
              "    </tr>\n",
              "  </tbody>\n",
              "</table>\n",
              "</div>\n",
              "      <button class=\"colab-df-convert\" onclick=\"convertToInteractive('df-3c88414a-04aa-406e-a5eb-2f0658ac63eb')\"\n",
              "              title=\"Convert this dataframe to an interactive table.\"\n",
              "              style=\"display:none;\">\n",
              "        \n",
              "  <svg xmlns=\"http://www.w3.org/2000/svg\" height=\"24px\"viewBox=\"0 0 24 24\"\n",
              "       width=\"24px\">\n",
              "    <path d=\"M0 0h24v24H0V0z\" fill=\"none\"/>\n",
              "    <path d=\"M18.56 5.44l.94 2.06.94-2.06 2.06-.94-2.06-.94-.94-2.06-.94 2.06-2.06.94zm-11 1L8.5 8.5l.94-2.06 2.06-.94-2.06-.94L8.5 2.5l-.94 2.06-2.06.94zm10 10l.94 2.06.94-2.06 2.06-.94-2.06-.94-.94-2.06-.94 2.06-2.06.94z\"/><path d=\"M17.41 7.96l-1.37-1.37c-.4-.4-.92-.59-1.43-.59-.52 0-1.04.2-1.43.59L10.3 9.45l-7.72 7.72c-.78.78-.78 2.05 0 2.83L4 21.41c.39.39.9.59 1.41.59.51 0 1.02-.2 1.41-.59l7.78-7.78 2.81-2.81c.8-.78.8-2.07 0-2.86zM5.41 20L4 18.59l7.72-7.72 1.47 1.35L5.41 20z\"/>\n",
              "  </svg>\n",
              "      </button>\n",
              "      \n",
              "  <style>\n",
              "    .colab-df-container {\n",
              "      display:flex;\n",
              "      flex-wrap:wrap;\n",
              "      gap: 12px;\n",
              "    }\n",
              "\n",
              "    .colab-df-convert {\n",
              "      background-color: #E8F0FE;\n",
              "      border: none;\n",
              "      border-radius: 50%;\n",
              "      cursor: pointer;\n",
              "      display: none;\n",
              "      fill: #1967D2;\n",
              "      height: 32px;\n",
              "      padding: 0 0 0 0;\n",
              "      width: 32px;\n",
              "    }\n",
              "\n",
              "    .colab-df-convert:hover {\n",
              "      background-color: #E2EBFA;\n",
              "      box-shadow: 0px 1px 2px rgba(60, 64, 67, 0.3), 0px 1px 3px 1px rgba(60, 64, 67, 0.15);\n",
              "      fill: #174EA6;\n",
              "    }\n",
              "\n",
              "    [theme=dark] .colab-df-convert {\n",
              "      background-color: #3B4455;\n",
              "      fill: #D2E3FC;\n",
              "    }\n",
              "\n",
              "    [theme=dark] .colab-df-convert:hover {\n",
              "      background-color: #434B5C;\n",
              "      box-shadow: 0px 1px 3px 1px rgba(0, 0, 0, 0.15);\n",
              "      filter: drop-shadow(0px 1px 2px rgba(0, 0, 0, 0.3));\n",
              "      fill: #FFFFFF;\n",
              "    }\n",
              "  </style>\n",
              "\n",
              "      <script>\n",
              "        const buttonEl =\n",
              "          document.querySelector('#df-3c88414a-04aa-406e-a5eb-2f0658ac63eb button.colab-df-convert');\n",
              "        buttonEl.style.display =\n",
              "          google.colab.kernel.accessAllowed ? 'block' : 'none';\n",
              "\n",
              "        async function convertToInteractive(key) {\n",
              "          const element = document.querySelector('#df-3c88414a-04aa-406e-a5eb-2f0658ac63eb');\n",
              "          const dataTable =\n",
              "            await google.colab.kernel.invokeFunction('convertToInteractive',\n",
              "                                                     [key], {});\n",
              "          if (!dataTable) return;\n",
              "\n",
              "          const docLinkHtml = 'Like what you see? Visit the ' +\n",
              "            '<a target=\"_blank\" href=https://colab.research.google.com/notebooks/data_table.ipynb>data table notebook</a>'\n",
              "            + ' to learn more about interactive tables.';\n",
              "          element.innerHTML = '';\n",
              "          dataTable['output_type'] = 'display_data';\n",
              "          await google.colab.output.renderOutput(dataTable, element);\n",
              "          const docLink = document.createElement('div');\n",
              "          docLink.innerHTML = docLinkHtml;\n",
              "          element.appendChild(docLink);\n",
              "        }\n",
              "      </script>\n",
              "    </div>\n",
              "  </div>\n",
              "  "
            ]
          },
          "metadata": {},
          "execution_count": 22
        }
      ]
    },
    {
      "cell_type": "code",
      "source": [
        "gc.collect()"
      ],
      "metadata": {
        "colab": {
          "base_uri": "https://localhost:8080/"
        },
        "id": "WIZsAKcznOGn",
        "outputId": "0260d2ab-2d99-4f1a-adb9-5ecdde870296"
      },
      "execution_count": 43,
      "outputs": [
        {
          "output_type": "execute_result",
          "data": {
            "text/plain": [
              "631"
            ]
          },
          "metadata": {},
          "execution_count": 43
        }
      ]
    },
    {
      "cell_type": "markdown",
      "source": [
        "### ENDE"
      ],
      "metadata": {
        "id": "GvDANWlLDq5W"
      }
    },
    {
      "cell_type": "code",
      "source": [
        "train\n"
      ],
      "metadata": {
        "id": "eS-OIp7O90XU",
        "colab": {
          "base_uri": "https://localhost:8080/",
          "height": 505
        },
        "outputId": "d09c0a7a-db68-4614-d4da-96bd15cc2e36"
      },
      "execution_count": null,
      "outputs": [
        {
          "output_type": "execute_result",
          "data": {
            "text/plain": [
              "                 customer_ID  P_2_mean   P_2_std   P_2_max   P_2_min  \\\n",
              "0              3249127622875  1.003573  0.001341  1.005004  1.002345   \n",
              "1             23402014749356  0.415518  0.100825  0.498842  0.188222   \n",
              "2             37423844044824  0.621856  0.032564  0.689850  0.583851   \n",
              "3            149683802139734  0.913329  0.034975  0.976633  0.845514   \n",
              "4            160820792638518  0.555897  0.046583  0.662159  0.468876   \n",
              "...                      ...       ...       ...       ...       ...   \n",
              "458908  18446623475205808948  0.342072  0.103027  0.486856  0.115548   \n",
              "458909  18446629179309953275  0.242426  0.054706  0.317476  0.199567   \n",
              "458910  18446635398005430687  0.541245  0.097363  0.666280  0.310770   \n",
              "458911  18446654790786387807  0.996442  0.013313  1.009017  0.974290   \n",
              "458912  18446722875431722897  0.838490  0.012000  0.861411  0.820854   \n",
              "\n",
              "        P_2_last  P_2_first  D_39_mean   D_39_std  D_39_max  ...  \\\n",
              "0       1.005004   1.002345   2.846154   6.841615        21  ...   \n",
              "1       0.215565   0.463519   3.230769   4.657500        15  ...   \n",
              "2       0.583851   0.689850  12.000000  12.006942        46  ...   \n",
              "3       0.931456   0.976633   3.230769   7.886210        21  ...   \n",
              "4       0.518131   0.468876   1.384615   3.477031        11  ...   \n",
              "...          ...        ...        ...        ...       ...  ...   \n",
              "458908  0.115548   0.486856   2.076923   3.593085        11  ...   \n",
              "458909  0.215042   0.317476  13.571429  10.373960        24  ...   \n",
              "458910  0.445689   0.666280   0.000000   0.000000         0  ...   \n",
              "458911  0.974290   1.004322   0.000000   0.000000         0  ...   \n",
              "458912  0.858889   0.861411   0.076923   0.277350         1  ...   \n",
              "\n",
              "        B_17-P_3_meandev  D_39-P_2_meandev  D_39-P_3_meandev  \\\n",
              "0            -127.000000         -0.001431          9.662469   \n",
              "1               0.398372         -2.030815         -1.767706   \n",
              "2               0.151129          1.038004          0.975343   \n",
              "3            -127.000000         -3.248897         -3.290519   \n",
              "4              -0.018422         -1.346849         -1.279861   \n",
              "...                  ...               ...               ...   \n",
              "458908          0.273784         -1.850400         -1.783496   \n",
              "458909          0.000515          8.194051          5.000153   \n",
              "458910         -0.218169          0.095556          0.098894   \n",
              "458911       -127.000000          0.022152          0.029393   \n",
              "458912       -127.000000         -0.097321         -0.151969   \n",
              "\n",
              "        D_131-P_2_meandev  D_131-P_3_meandev  S_16-P_2_meandev  \\\n",
              "0               -0.000816          -0.004198         -0.002197   \n",
              "1                0.952465           1.215575          0.518049   \n",
              "2                0.038005          -0.024657          0.041275   \n",
              "3               -0.018127          -0.059750         -0.015045   \n",
              "4                0.037766           0.104755          0.040179   \n",
              "...                   ...                ...               ...   \n",
              "458908           0.226523           0.293427         -0.861105   \n",
              "458909           0.029562           0.002935          0.031139   \n",
              "458910           0.095556           0.098894          5.205449   \n",
              "458911           0.022152           0.029393          0.022832   \n",
              "458912          -0.020547          -0.074023         -0.016298   \n",
              "\n",
              "        S_16-P_3_meandev  S_23-P_2_meandev  S_23-P_3_meandev  target  \n",
              "0              -0.006118         -0.003054         -0.002010       0  \n",
              "1               0.781159          0.201210          0.464319       1  \n",
              "2              -0.021386          0.418291          0.355629       1  \n",
              "3              -0.056667          0.048592          0.006970       0  \n",
              "4               0.107168          0.040386          0.107375       1  \n",
              "...                  ...               ...               ...     ...  \n",
              "458908         -0.794201          0.301186          0.368090       1  \n",
              "458909          0.003970          0.030783          0.002520       0  \n",
              "458910          5.142211          0.002523         -0.002024       0  \n",
              "458911          0.030073          0.024370          0.031610       0  \n",
              "458912         -0.070945         -0.023792         -0.078440       0  \n",
              "\n",
              "[458913 rows x 1565 columns]"
            ],
            "text/html": [
              "\n",
              "  <div id=\"df-ab470148-3c98-4323-91f9-5384d8ef6aa8\">\n",
              "    <div class=\"colab-df-container\">\n",
              "      <div>\n",
              "<style scoped>\n",
              "    .dataframe tbody tr th:only-of-type {\n",
              "        vertical-align: middle;\n",
              "    }\n",
              "\n",
              "    .dataframe tbody tr th {\n",
              "        vertical-align: top;\n",
              "    }\n",
              "\n",
              "    .dataframe thead th {\n",
              "        text-align: right;\n",
              "    }\n",
              "</style>\n",
              "<table border=\"1\" class=\"dataframe\">\n",
              "  <thead>\n",
              "    <tr style=\"text-align: right;\">\n",
              "      <th></th>\n",
              "      <th>customer_ID</th>\n",
              "      <th>P_2_mean</th>\n",
              "      <th>P_2_std</th>\n",
              "      <th>P_2_max</th>\n",
              "      <th>P_2_min</th>\n",
              "      <th>P_2_last</th>\n",
              "      <th>P_2_first</th>\n",
              "      <th>D_39_mean</th>\n",
              "      <th>D_39_std</th>\n",
              "      <th>D_39_max</th>\n",
              "      <th>...</th>\n",
              "      <th>B_17-P_3_meandev</th>\n",
              "      <th>D_39-P_2_meandev</th>\n",
              "      <th>D_39-P_3_meandev</th>\n",
              "      <th>D_131-P_2_meandev</th>\n",
              "      <th>D_131-P_3_meandev</th>\n",
              "      <th>S_16-P_2_meandev</th>\n",
              "      <th>S_16-P_3_meandev</th>\n",
              "      <th>S_23-P_2_meandev</th>\n",
              "      <th>S_23-P_3_meandev</th>\n",
              "      <th>target</th>\n",
              "    </tr>\n",
              "  </thead>\n",
              "  <tbody>\n",
              "    <tr>\n",
              "      <th>0</th>\n",
              "      <td>3249127622875</td>\n",
              "      <td>1.003573</td>\n",
              "      <td>0.001341</td>\n",
              "      <td>1.005004</td>\n",
              "      <td>1.002345</td>\n",
              "      <td>1.005004</td>\n",
              "      <td>1.002345</td>\n",
              "      <td>2.846154</td>\n",
              "      <td>6.841615</td>\n",
              "      <td>21</td>\n",
              "      <td>...</td>\n",
              "      <td>-127.000000</td>\n",
              "      <td>-0.001431</td>\n",
              "      <td>9.662469</td>\n",
              "      <td>-0.000816</td>\n",
              "      <td>-0.004198</td>\n",
              "      <td>-0.002197</td>\n",
              "      <td>-0.006118</td>\n",
              "      <td>-0.003054</td>\n",
              "      <td>-0.002010</td>\n",
              "      <td>0</td>\n",
              "    </tr>\n",
              "    <tr>\n",
              "      <th>1</th>\n",
              "      <td>23402014749356</td>\n",
              "      <td>0.415518</td>\n",
              "      <td>0.100825</td>\n",
              "      <td>0.498842</td>\n",
              "      <td>0.188222</td>\n",
              "      <td>0.215565</td>\n",
              "      <td>0.463519</td>\n",
              "      <td>3.230769</td>\n",
              "      <td>4.657500</td>\n",
              "      <td>15</td>\n",
              "      <td>...</td>\n",
              "      <td>0.398372</td>\n",
              "      <td>-2.030815</td>\n",
              "      <td>-1.767706</td>\n",
              "      <td>0.952465</td>\n",
              "      <td>1.215575</td>\n",
              "      <td>0.518049</td>\n",
              "      <td>0.781159</td>\n",
              "      <td>0.201210</td>\n",
              "      <td>0.464319</td>\n",
              "      <td>1</td>\n",
              "    </tr>\n",
              "    <tr>\n",
              "      <th>2</th>\n",
              "      <td>37423844044824</td>\n",
              "      <td>0.621856</td>\n",
              "      <td>0.032564</td>\n",
              "      <td>0.689850</td>\n",
              "      <td>0.583851</td>\n",
              "      <td>0.583851</td>\n",
              "      <td>0.689850</td>\n",
              "      <td>12.000000</td>\n",
              "      <td>12.006942</td>\n",
              "      <td>46</td>\n",
              "      <td>...</td>\n",
              "      <td>0.151129</td>\n",
              "      <td>1.038004</td>\n",
              "      <td>0.975343</td>\n",
              "      <td>0.038005</td>\n",
              "      <td>-0.024657</td>\n",
              "      <td>0.041275</td>\n",
              "      <td>-0.021386</td>\n",
              "      <td>0.418291</td>\n",
              "      <td>0.355629</td>\n",
              "      <td>1</td>\n",
              "    </tr>\n",
              "    <tr>\n",
              "      <th>3</th>\n",
              "      <td>149683802139734</td>\n",
              "      <td>0.913329</td>\n",
              "      <td>0.034975</td>\n",
              "      <td>0.976633</td>\n",
              "      <td>0.845514</td>\n",
              "      <td>0.931456</td>\n",
              "      <td>0.976633</td>\n",
              "      <td>3.230769</td>\n",
              "      <td>7.886210</td>\n",
              "      <td>21</td>\n",
              "      <td>...</td>\n",
              "      <td>-127.000000</td>\n",
              "      <td>-3.248897</td>\n",
              "      <td>-3.290519</td>\n",
              "      <td>-0.018127</td>\n",
              "      <td>-0.059750</td>\n",
              "      <td>-0.015045</td>\n",
              "      <td>-0.056667</td>\n",
              "      <td>0.048592</td>\n",
              "      <td>0.006970</td>\n",
              "      <td>0</td>\n",
              "    </tr>\n",
              "    <tr>\n",
              "      <th>4</th>\n",
              "      <td>160820792638518</td>\n",
              "      <td>0.555897</td>\n",
              "      <td>0.046583</td>\n",
              "      <td>0.662159</td>\n",
              "      <td>0.468876</td>\n",
              "      <td>0.518131</td>\n",
              "      <td>0.468876</td>\n",
              "      <td>1.384615</td>\n",
              "      <td>3.477031</td>\n",
              "      <td>11</td>\n",
              "      <td>...</td>\n",
              "      <td>-0.018422</td>\n",
              "      <td>-1.346849</td>\n",
              "      <td>-1.279861</td>\n",
              "      <td>0.037766</td>\n",
              "      <td>0.104755</td>\n",
              "      <td>0.040179</td>\n",
              "      <td>0.107168</td>\n",
              "      <td>0.040386</td>\n",
              "      <td>0.107375</td>\n",
              "      <td>1</td>\n",
              "    </tr>\n",
              "    <tr>\n",
              "      <th>...</th>\n",
              "      <td>...</td>\n",
              "      <td>...</td>\n",
              "      <td>...</td>\n",
              "      <td>...</td>\n",
              "      <td>...</td>\n",
              "      <td>...</td>\n",
              "      <td>...</td>\n",
              "      <td>...</td>\n",
              "      <td>...</td>\n",
              "      <td>...</td>\n",
              "      <td>...</td>\n",
              "      <td>...</td>\n",
              "      <td>...</td>\n",
              "      <td>...</td>\n",
              "      <td>...</td>\n",
              "      <td>...</td>\n",
              "      <td>...</td>\n",
              "      <td>...</td>\n",
              "      <td>...</td>\n",
              "      <td>...</td>\n",
              "      <td>...</td>\n",
              "    </tr>\n",
              "    <tr>\n",
              "      <th>458908</th>\n",
              "      <td>18446623475205808948</td>\n",
              "      <td>0.342072</td>\n",
              "      <td>0.103027</td>\n",
              "      <td>0.486856</td>\n",
              "      <td>0.115548</td>\n",
              "      <td>0.115548</td>\n",
              "      <td>0.486856</td>\n",
              "      <td>2.076923</td>\n",
              "      <td>3.593085</td>\n",
              "      <td>11</td>\n",
              "      <td>...</td>\n",
              "      <td>0.273784</td>\n",
              "      <td>-1.850400</td>\n",
              "      <td>-1.783496</td>\n",
              "      <td>0.226523</td>\n",
              "      <td>0.293427</td>\n",
              "      <td>-0.861105</td>\n",
              "      <td>-0.794201</td>\n",
              "      <td>0.301186</td>\n",
              "      <td>0.368090</td>\n",
              "      <td>1</td>\n",
              "    </tr>\n",
              "    <tr>\n",
              "      <th>458909</th>\n",
              "      <td>18446629179309953275</td>\n",
              "      <td>0.242426</td>\n",
              "      <td>0.054706</td>\n",
              "      <td>0.317476</td>\n",
              "      <td>0.199567</td>\n",
              "      <td>0.215042</td>\n",
              "      <td>0.317476</td>\n",
              "      <td>13.571429</td>\n",
              "      <td>10.373960</td>\n",
              "      <td>24</td>\n",
              "      <td>...</td>\n",
              "      <td>0.000515</td>\n",
              "      <td>8.194051</td>\n",
              "      <td>5.000153</td>\n",
              "      <td>0.029562</td>\n",
              "      <td>0.002935</td>\n",
              "      <td>0.031139</td>\n",
              "      <td>0.003970</td>\n",
              "      <td>0.030783</td>\n",
              "      <td>0.002520</td>\n",
              "      <td>0</td>\n",
              "    </tr>\n",
              "    <tr>\n",
              "      <th>458910</th>\n",
              "      <td>18446635398005430687</td>\n",
              "      <td>0.541245</td>\n",
              "      <td>0.097363</td>\n",
              "      <td>0.666280</td>\n",
              "      <td>0.310770</td>\n",
              "      <td>0.445689</td>\n",
              "      <td>0.666280</td>\n",
              "      <td>0.000000</td>\n",
              "      <td>0.000000</td>\n",
              "      <td>0</td>\n",
              "      <td>...</td>\n",
              "      <td>-0.218169</td>\n",
              "      <td>0.095556</td>\n",
              "      <td>0.098894</td>\n",
              "      <td>0.095556</td>\n",
              "      <td>0.098894</td>\n",
              "      <td>5.205449</td>\n",
              "      <td>5.142211</td>\n",
              "      <td>0.002523</td>\n",
              "      <td>-0.002024</td>\n",
              "      <td>0</td>\n",
              "    </tr>\n",
              "    <tr>\n",
              "      <th>458911</th>\n",
              "      <td>18446654790786387807</td>\n",
              "      <td>0.996442</td>\n",
              "      <td>0.013313</td>\n",
              "      <td>1.009017</td>\n",
              "      <td>0.974290</td>\n",
              "      <td>0.974290</td>\n",
              "      <td>1.004322</td>\n",
              "      <td>0.000000</td>\n",
              "      <td>0.000000</td>\n",
              "      <td>0</td>\n",
              "      <td>...</td>\n",
              "      <td>-127.000000</td>\n",
              "      <td>0.022152</td>\n",
              "      <td>0.029393</td>\n",
              "      <td>0.022152</td>\n",
              "      <td>0.029393</td>\n",
              "      <td>0.022832</td>\n",
              "      <td>0.030073</td>\n",
              "      <td>0.024370</td>\n",
              "      <td>0.031610</td>\n",
              "      <td>0</td>\n",
              "    </tr>\n",
              "    <tr>\n",
              "      <th>458912</th>\n",
              "      <td>18446722875431722897</td>\n",
              "      <td>0.838490</td>\n",
              "      <td>0.012000</td>\n",
              "      <td>0.861411</td>\n",
              "      <td>0.820854</td>\n",
              "      <td>0.858889</td>\n",
              "      <td>0.861411</td>\n",
              "      <td>0.076923</td>\n",
              "      <td>0.277350</td>\n",
              "      <td>1</td>\n",
              "      <td>...</td>\n",
              "      <td>-127.000000</td>\n",
              "      <td>-0.097321</td>\n",
              "      <td>-0.151969</td>\n",
              "      <td>-0.020547</td>\n",
              "      <td>-0.074023</td>\n",
              "      <td>-0.016298</td>\n",
              "      <td>-0.070945</td>\n",
              "      <td>-0.023792</td>\n",
              "      <td>-0.078440</td>\n",
              "      <td>0</td>\n",
              "    </tr>\n",
              "  </tbody>\n",
              "</table>\n",
              "<p>458913 rows × 1565 columns</p>\n",
              "</div>\n",
              "      <button class=\"colab-df-convert\" onclick=\"convertToInteractive('df-ab470148-3c98-4323-91f9-5384d8ef6aa8')\"\n",
              "              title=\"Convert this dataframe to an interactive table.\"\n",
              "              style=\"display:none;\">\n",
              "        \n",
              "  <svg xmlns=\"http://www.w3.org/2000/svg\" height=\"24px\"viewBox=\"0 0 24 24\"\n",
              "       width=\"24px\">\n",
              "    <path d=\"M0 0h24v24H0V0z\" fill=\"none\"/>\n",
              "    <path d=\"M18.56 5.44l.94 2.06.94-2.06 2.06-.94-2.06-.94-.94-2.06-.94 2.06-2.06.94zm-11 1L8.5 8.5l.94-2.06 2.06-.94-2.06-.94L8.5 2.5l-.94 2.06-2.06.94zm10 10l.94 2.06.94-2.06 2.06-.94-2.06-.94-.94-2.06-.94 2.06-2.06.94z\"/><path d=\"M17.41 7.96l-1.37-1.37c-.4-.4-.92-.59-1.43-.59-.52 0-1.04.2-1.43.59L10.3 9.45l-7.72 7.72c-.78.78-.78 2.05 0 2.83L4 21.41c.39.39.9.59 1.41.59.51 0 1.02-.2 1.41-.59l7.78-7.78 2.81-2.81c.8-.78.8-2.07 0-2.86zM5.41 20L4 18.59l7.72-7.72 1.47 1.35L5.41 20z\"/>\n",
              "  </svg>\n",
              "      </button>\n",
              "      \n",
              "  <style>\n",
              "    .colab-df-container {\n",
              "      display:flex;\n",
              "      flex-wrap:wrap;\n",
              "      gap: 12px;\n",
              "    }\n",
              "\n",
              "    .colab-df-convert {\n",
              "      background-color: #E8F0FE;\n",
              "      border: none;\n",
              "      border-radius: 50%;\n",
              "      cursor: pointer;\n",
              "      display: none;\n",
              "      fill: #1967D2;\n",
              "      height: 32px;\n",
              "      padding: 0 0 0 0;\n",
              "      width: 32px;\n",
              "    }\n",
              "\n",
              "    .colab-df-convert:hover {\n",
              "      background-color: #E2EBFA;\n",
              "      box-shadow: 0px 1px 2px rgba(60, 64, 67, 0.3), 0px 1px 3px 1px rgba(60, 64, 67, 0.15);\n",
              "      fill: #174EA6;\n",
              "    }\n",
              "\n",
              "    [theme=dark] .colab-df-convert {\n",
              "      background-color: #3B4455;\n",
              "      fill: #D2E3FC;\n",
              "    }\n",
              "\n",
              "    [theme=dark] .colab-df-convert:hover {\n",
              "      background-color: #434B5C;\n",
              "      box-shadow: 0px 1px 3px 1px rgba(0, 0, 0, 0.15);\n",
              "      filter: drop-shadow(0px 1px 2px rgba(0, 0, 0, 0.3));\n",
              "      fill: #FFFFFF;\n",
              "    }\n",
              "  </style>\n",
              "\n",
              "      <script>\n",
              "        const buttonEl =\n",
              "          document.querySelector('#df-ab470148-3c98-4323-91f9-5384d8ef6aa8 button.colab-df-convert');\n",
              "        buttonEl.style.display =\n",
              "          google.colab.kernel.accessAllowed ? 'block' : 'none';\n",
              "\n",
              "        async function convertToInteractive(key) {\n",
              "          const element = document.querySelector('#df-ab470148-3c98-4323-91f9-5384d8ef6aa8');\n",
              "          const dataTable =\n",
              "            await google.colab.kernel.invokeFunction('convertToInteractive',\n",
              "                                                     [key], {});\n",
              "          if (!dataTable) return;\n",
              "\n",
              "          const docLinkHtml = 'Like what you see? Visit the ' +\n",
              "            '<a target=\"_blank\" href=https://colab.research.google.com/notebooks/data_table.ipynb>data table notebook</a>'\n",
              "            + ' to learn more about interactive tables.';\n",
              "          element.innerHTML = '';\n",
              "          dataTable['output_type'] = 'display_data';\n",
              "          await google.colab.output.renderOutput(dataTable, element);\n",
              "          const docLink = document.createElement('div');\n",
              "          docLink.innerHTML = docLinkHtml;\n",
              "          element.appendChild(docLink);\n",
              "        }\n",
              "      </script>\n",
              "    </div>\n",
              "  </div>\n",
              "  "
            ]
          },
          "metadata": {},
          "execution_count": 22
        }
      ]
    },
    {
      "cell_type": "code",
      "source": [
        ""
      ],
      "metadata": {
        "id": "qoeJ5YvV90Ry"
      },
      "execution_count": null,
      "outputs": []
    },
    {
      "cell_type": "code",
      "source": [
        "#train test split\n",
        "train_df, test_df = train_test_split(train, test_size=0.25, stratify=train['target'])"
      ],
      "metadata": {
        "id": "SKwzqHdATmks"
      },
      "execution_count": null,
      "outputs": []
    },
    {
      "cell_type": "code",
      "source": [
        "!pip install optuna\n",
        "import optuna"
      ],
      "metadata": {
        "id": "yZqlM7OVdL2b",
        "colab": {
          "base_uri": "https://localhost:8080/"
        },
        "outputId": "ad7c053a-d271-4ab6-99d6-283bb51eb489"
      },
      "execution_count": null,
      "outputs": [
        {
          "output_type": "stream",
          "name": "stdout",
          "text": [
            "Looking in indexes: https://pypi.org/simple, https://us-python.pkg.dev/colab-wheels/public/simple/\n",
            "Collecting optuna\n",
            "  Downloading optuna-2.10.1-py3-none-any.whl (308 kB)\n",
            "\u001b[K     |████████████████████████████████| 308 kB 7.5 MB/s \n",
            "\u001b[?25hRequirement already satisfied: PyYAML in /usr/local/lib/python3.7/dist-packages (from optuna) (3.13)\n",
            "Collecting cmaes>=0.8.2\n",
            "  Downloading cmaes-0.8.2-py3-none-any.whl (15 kB)\n",
            "Collecting colorlog\n",
            "  Downloading colorlog-6.6.0-py2.py3-none-any.whl (11 kB)\n",
            "Collecting cliff\n",
            "  Downloading cliff-3.10.1-py3-none-any.whl (81 kB)\n",
            "\u001b[K     |████████████████████████████████| 81 kB 10.9 MB/s \n",
            "\u001b[?25hRequirement already satisfied: scipy!=1.4.0 in /usr/local/lib/python3.7/dist-packages (from optuna) (1.7.3)\n",
            "Requirement already satisfied: tqdm in /usr/local/lib/python3.7/dist-packages (from optuna) (4.64.0)\n",
            "Requirement already satisfied: numpy in /usr/local/lib/python3.7/dist-packages (from optuna) (1.21.6)\n",
            "Collecting alembic\n",
            "  Downloading alembic-1.8.1-py3-none-any.whl (209 kB)\n",
            "\u001b[K     |████████████████████████████████| 209 kB 89.8 MB/s \n",
            "\u001b[?25hRequirement already satisfied: sqlalchemy>=1.1.0 in /usr/local/lib/python3.7/dist-packages (from optuna) (1.4.39)\n",
            "Requirement already satisfied: packaging>=20.0 in /usr/local/lib/python3.7/dist-packages (from optuna) (21.3)\n",
            "Requirement already satisfied: pyparsing!=3.0.5,>=2.0.2 in /usr/local/lib/python3.7/dist-packages (from packaging>=20.0->optuna) (3.0.9)\n",
            "Requirement already satisfied: importlib-metadata in /usr/local/lib/python3.7/dist-packages (from sqlalchemy>=1.1.0->optuna) (4.12.0)\n",
            "Requirement already satisfied: greenlet!=0.4.17 in /usr/local/lib/python3.7/dist-packages (from sqlalchemy>=1.1.0->optuna) (1.1.2)\n",
            "Requirement already satisfied: importlib-resources in /usr/local/lib/python3.7/dist-packages (from alembic->optuna) (5.9.0)\n",
            "Collecting Mako\n",
            "  Downloading Mako-1.2.1-py3-none-any.whl (78 kB)\n",
            "\u001b[K     |████████████████████████████████| 78 kB 7.5 MB/s \n",
            "\u001b[?25hRequirement already satisfied: PrettyTable>=0.7.2 in /usr/local/lib/python3.7/dist-packages (from cliff->optuna) (3.3.0)\n",
            "Collecting autopage>=0.4.0\n",
            "  Downloading autopage-0.5.1-py3-none-any.whl (29 kB)\n",
            "Collecting pbr!=2.1.0,>=2.0.0\n",
            "  Downloading pbr-5.9.0-py2.py3-none-any.whl (112 kB)\n",
            "\u001b[K     |████████████████████████████████| 112 kB 75.6 MB/s \n",
            "\u001b[?25hCollecting cmd2>=1.0.0\n",
            "  Downloading cmd2-2.4.2-py3-none-any.whl (147 kB)\n",
            "\u001b[K     |████████████████████████████████| 147 kB 84.1 MB/s \n",
            "\u001b[?25hCollecting stevedore>=2.0.1\n",
            "  Downloading stevedore-3.5.0-py3-none-any.whl (49 kB)\n",
            "\u001b[K     |████████████████████████████████| 49 kB 5.8 MB/s \n",
            "\u001b[?25hCollecting pyperclip>=1.6\n",
            "  Downloading pyperclip-1.8.2.tar.gz (20 kB)\n",
            "Requirement already satisfied: attrs>=16.3.0 in /usr/local/lib/python3.7/dist-packages (from cmd2>=1.0.0->cliff->optuna) (22.1.0)\n",
            "Requirement already satisfied: typing-extensions in /usr/local/lib/python3.7/dist-packages (from cmd2>=1.0.0->cliff->optuna) (4.1.1)\n",
            "Requirement already satisfied: wcwidth>=0.1.7 in /usr/local/lib/python3.7/dist-packages (from cmd2>=1.0.0->cliff->optuna) (0.2.5)\n",
            "Requirement already satisfied: zipp>=0.5 in /usr/local/lib/python3.7/dist-packages (from importlib-metadata->sqlalchemy>=1.1.0->optuna) (3.8.1)\n",
            "Requirement already satisfied: MarkupSafe>=0.9.2 in /usr/local/lib/python3.7/dist-packages (from Mako->alembic->optuna) (2.0.1)\n",
            "Building wheels for collected packages: pyperclip\n",
            "  Building wheel for pyperclip (setup.py) ... \u001b[?25l\u001b[?25hdone\n",
            "  Created wheel for pyperclip: filename=pyperclip-1.8.2-py3-none-any.whl size=11137 sha256=fe2cafc558545fd49c681822d02022893c2393d22e7f6cf9762f89c083d7c3aa\n",
            "  Stored in directory: /root/.cache/pip/wheels/9f/18/84/8f69f8b08169c7bae2dde6bd7daf0c19fca8c8e500ee620a28\n",
            "Successfully built pyperclip\n",
            "Installing collected packages: pyperclip, pbr, stevedore, Mako, cmd2, autopage, colorlog, cmaes, cliff, alembic, optuna\n",
            "Successfully installed Mako-1.2.1 alembic-1.8.1 autopage-0.5.1 cliff-3.10.1 cmaes-0.8.2 cmd2-2.4.2 colorlog-6.6.0 optuna-2.10.1 pbr-5.9.0 pyperclip-1.8.2 stevedore-3.5.0\n"
          ]
        }
      ]
    },
    {
      "cell_type": "code",
      "source": [
        "# optuna\n",
        "\n",
        "def objective(trial,  train_df, test_df, features):\n",
        "    \n",
        "    param = {\n",
        "        'booster':'gbtree',\n",
        "        'tree_method':'gpu_hist', \n",
        "        \"objective\": \"binary:logistic\",\n",
        "        'lambda': trial.suggest_loguniform(\n",
        "            'lambda', 1e-3, 10.0\n",
        "        ),\n",
        "        'alpha': trial.suggest_loguniform(\n",
        "            'alpha', 1e-3, 10.0\n",
        "        ),\n",
        "        'colsample_bytree': trial.suggest_float(\n",
        "            'colsample_bytree', 0.5,1,step=0.1\n",
        "        ),\n",
        "        'subsample': trial.suggest_float(\n",
        "            'subsample', 0.5,1,step=0.1\n",
        "        ),\n",
        "        'learning_rate': trial.suggest_float(\n",
        "            'learning_rate', 0.01,0.05,step=0.005\n",
        "        ),\n",
        "        'max_depth': trial.suggest_int(\n",
        "            'max_depth', 4,9,1\n",
        "        ),\n",
        "        'random_state': 99,\n",
        "        'eval_metric':'logloss',\n",
        "        'min_child_weight': trial.suggest_int(\n",
        "            'min_child_weight', 1,256,1\n",
        "        ),\n",
        "        \n",
        "    }\n",
        "    \n",
        "    \n",
        "\n",
        "    \n",
        "    \n",
        "    \n",
        "    \n",
        "    oof = []\n",
        "    gc.collect()\n",
        "    \n",
        "\n",
        "        \n",
        "    # TRAIN, VALID, TEST FOR FOLD K\n",
        "    #Xy_train = IterLoadForDMatrix(train_df, features, 'target')\n",
        "\n",
        "    X_train = train_df.loc[:, features]\n",
        "    y_train = train_df.loc[:, 'target']    \n",
        "        \n",
        "    X_valid = test_df.loc[:, features]\n",
        "    y_valid = test_df.loc[:, 'target']\n",
        "      \n",
        "    #dtrain = xgb.DeviceQuantileDMatrix(Xy_train, max_bin=256)\n",
        "\n",
        "    dtrain = xgb.DMatrix(data=X_train, label=y_train)\n",
        "    dvalid = xgb.DMatrix(data=X_valid, label=y_valid)\n",
        "      \n",
        "        \n",
        "\n",
        "        \n",
        "        # TRAIN MODEL FOLD K\n",
        "    model = xgb.train(param, \n",
        "                  dtrain=dtrain,\n",
        "                  evals=[(dtrain,'train'),(dvalid,'valid')],\n",
        "                  num_boost_round=9999,\n",
        "                  early_stopping_rounds=100,\n",
        "                  verbose_eval=300\n",
        "                  ) \n",
        "      \n",
        "        \n",
        "        # INFER OOF FOLD K\n",
        "    oof_preds = model.predict(dvalid)\n",
        "        #acc = amex_metric_mod(y_valid.values, oof_preds)\n",
        "    \n",
        "    \n",
        "        # SAVE OOF\n",
        "    df = test_df.loc[:, ['customer_ID','target'] ].copy()\n",
        "    df['oof_pred'] = oof_preds\n",
        "    oof.append(df)\n",
        "\n",
        "              \n",
        "\n",
        "\n",
        "    del dtrain,  df\n",
        "    del X_valid, y_valid, dvalid, model\n",
        "    _ = gc.collect()\n",
        "    \n",
        "\n",
        "    oof = pd.concat(oof,axis=0,ignore_index=True).set_index('customer_ID')\n",
        "    metric = amex_metric_mod(oof.target.values, oof.oof_pred.values)\n",
        "        \n",
        "    return metric"
      ],
      "metadata": {
        "id": "ZWgF-Jq3TOJY"
      },
      "execution_count": null,
      "outputs": []
    },
    {
      "cell_type": "code",
      "source": [
        "study = optuna.create_study(direction='maximize')\n",
        "study.optimize(lambda trial: objective(\n",
        "        trial,  train_df, test_df, features), n_trials= 100) "
      ],
      "metadata": {
        "id": "JrMDm4JITOFj",
        "colab": {
          "base_uri": "https://localhost:8080/"
        },
        "outputId": "7fbf40cc-8d45-4f56-9922-6b22705c63d7"
      },
      "execution_count": null,
      "outputs": [
        {
          "metadata": {
            "tags": null
          },
          "name": "stderr",
          "output_type": "stream",
          "text": [
            "\u001b[32m[I 2022-08-09 06:48:44,778]\u001b[0m A new study created in memory with name: no-name-39b9efc1-e01c-447c-8ee3-a3b2bd105442\u001b[0m\n"
          ]
        },
        {
          "metadata": {
            "tags": null
          },
          "name": "stdout",
          "output_type": "stream",
          "text": [
            "[0]\ttrain-logloss:0.674193\tvalid-logloss:0.674318\n",
            "Multiple eval metrics have been passed: 'valid-logloss' will be used for early stopping.\n",
            "\n",
            "Will train until valid-logloss hasn't improved in 100 rounds.\n",
            "[300]\ttrain-logloss:0.223103\tvalid-logloss:0.228805\n",
            "[600]\ttrain-logloss:0.213695\tvalid-logloss:0.222454\n",
            "[900]\ttrain-logloss:0.208983\tvalid-logloss:0.220383\n",
            "[1200]\ttrain-logloss:0.20533\tvalid-logloss:0.219312\n",
            "[1500]\ttrain-logloss:0.202316\tvalid-logloss:0.218717\n",
            "[1800]\ttrain-logloss:0.199581\tvalid-logloss:0.218312\n",
            "[2100]\ttrain-logloss:0.197083\tvalid-logloss:0.218081\n",
            "[2400]\ttrain-logloss:0.194739\tvalid-logloss:0.217962\n",
            "[2700]\ttrain-logloss:0.192462\tvalid-logloss:0.217793\n",
            "[3000]\ttrain-logloss:0.190138\tvalid-logloss:0.2177\n",
            "Stopping. Best iteration:\n",
            "[3020]\ttrain-logloss:0.190009\tvalid-logloss:0.217689\n",
            "\n"
          ]
        },
        {
          "metadata": {
            "tags": null
          },
          "name": "stderr",
          "output_type": "stream",
          "text": [
            "\u001b[32m[I 2022-08-09 06:54:55,284]\u001b[0m Trial 0 finished with value: 0.792113440847197 and parameters: {'lambda': 0.8463220973716142, 'alpha': 0.004681316438506221, 'colsample_bytree': 0.7, 'subsample': 1.0, 'learning_rate': 0.03, 'max_depth': 4, 'min_child_weight': 205}. Best is trial 0 with value: 0.792113440847197.\u001b[0m\n"
          ]
        },
        {
          "metadata": {
            "tags": null
          },
          "name": "stdout",
          "output_type": "stream",
          "text": [
            "[0]\ttrain-logloss:0.676616\tvalid-logloss:0.676759\n",
            "Multiple eval metrics have been passed: 'valid-logloss' will be used for early stopping.\n",
            "\n",
            "Will train until valid-logloss hasn't improved in 100 rounds.\n",
            "[300]\ttrain-logloss:0.212624\tvalid-logloss:0.224695\n",
            "[600]\ttrain-logloss:0.201281\tvalid-logloss:0.2198\n",
            "[900]\ttrain-logloss:0.1937\tvalid-logloss:0.218457\n",
            "[1200]\ttrain-logloss:0.187508\tvalid-logloss:0.217765\n",
            "[1500]\ttrain-logloss:0.182028\tvalid-logloss:0.217389\n",
            "[1800]\ttrain-logloss:0.176703\tvalid-logloss:0.217297\n",
            "Stopping. Best iteration:\n",
            "[1728]\ttrain-logloss:0.178014\tvalid-logloss:0.217288\n",
            "\n"
          ]
        },
        {
          "metadata": {
            "tags": null
          },
          "name": "stderr",
          "output_type": "stream",
          "text": [
            "\u001b[32m[I 2022-08-09 07:00:20,673]\u001b[0m Trial 1 finished with value: 0.79436066369152 and parameters: {'lambda': 0.01784687958487909, 'alpha': 6.039315141982743, 'colsample_bytree': 0.8, 'subsample': 0.8, 'learning_rate': 0.025, 'max_depth': 8, 'min_child_weight': 222}. Best is trial 1 with value: 0.79436066369152.\u001b[0m\n"
          ]
        },
        {
          "metadata": {
            "tags": null
          },
          "name": "stdout",
          "output_type": "stream",
          "text": [
            "[0]\ttrain-logloss:0.676801\tvalid-logloss:0.676901\n",
            "Multiple eval metrics have been passed: 'valid-logloss' will be used for early stopping.\n",
            "\n",
            "Will train until valid-logloss hasn't improved in 100 rounds.\n",
            "[300]\ttrain-logloss:0.214939\tvalid-logloss:0.225408\n",
            "[600]\ttrain-logloss:0.202551\tvalid-logloss:0.220092\n",
            "[900]\ttrain-logloss:0.194747\tvalid-logloss:0.218537\n",
            "[1200]\ttrain-logloss:0.188152\tvalid-logloss:0.217875\n",
            "[1500]\ttrain-logloss:0.182341\tvalid-logloss:0.217496\n",
            "[1800]\ttrain-logloss:0.176702\tvalid-logloss:0.217338\n",
            "[2100]\ttrain-logloss:0.17139\tvalid-logloss:0.217194\n",
            "Stopping. Best iteration:\n",
            "[2206]\ttrain-logloss:0.169608\tvalid-logloss:0.217143\n",
            "\n"
          ]
        },
        {
          "metadata": {
            "tags": null
          },
          "name": "stderr",
          "output_type": "stream",
          "text": [
            "\u001b[32m[I 2022-08-09 07:06:00,674]\u001b[0m Trial 2 finished with value: 0.793634397593481 and parameters: {'lambda': 0.019933299168944874, 'alpha': 0.10288187044252886, 'colsample_bytree': 0.7, 'subsample': 0.6, 'learning_rate': 0.025, 'max_depth': 6, 'min_child_weight': 59}. Best is trial 1 with value: 0.79436066369152.\u001b[0m\n"
          ]
        },
        {
          "metadata": {
            "tags": null
          },
          "name": "stdout",
          "output_type": "stream",
          "text": [
            "[0]\ttrain-logloss:0.661259\tvalid-logloss:0.661458\n",
            "Multiple eval metrics have been passed: 'valid-logloss' will be used for early stopping.\n",
            "\n",
            "Will train until valid-logloss hasn't improved in 100 rounds.\n",
            "[300]\ttrain-logloss:0.213988\tvalid-logloss:0.222435\n",
            "[600]\ttrain-logloss:0.205454\tvalid-logloss:0.2196\n",
            "[900]\ttrain-logloss:0.199381\tvalid-logloss:0.21879\n",
            "Stopping. Best iteration:\n",
            "[1008]\ttrain-logloss:0.197399\tvalid-logloss:0.218591\n",
            "\n"
          ]
        },
        {
          "metadata": {
            "tags": null
          },
          "name": "stderr",
          "output_type": "stream",
          "text": [
            "\u001b[32m[I 2022-08-09 07:08:47,435]\u001b[0m Trial 3 finished with value: 0.7922928096359114 and parameters: {'lambda': 0.004610015408295761, 'alpha': 0.04948959414801683, 'colsample_bytree': 0.9, 'subsample': 0.5, 'learning_rate': 0.05, 'max_depth': 5, 'min_child_weight': 220}. Best is trial 1 with value: 0.79436066369152.\u001b[0m\n"
          ]
        },
        {
          "metadata": {
            "tags": null
          },
          "name": "stdout",
          "output_type": "stream",
          "text": [
            "[0]\ttrain-logloss:0.686553\tvalid-logloss:0.686601\n",
            "Multiple eval metrics have been passed: 'valid-logloss' will be used for early stopping.\n",
            "\n",
            "Will train until valid-logloss hasn't improved in 100 rounds.\n",
            "[300]\ttrain-logloss:0.244951\tvalid-logloss:0.250122\n",
            "[600]\ttrain-logloss:0.221437\tvalid-logloss:0.229422\n",
            "[900]\ttrain-logloss:0.214249\tvalid-logloss:0.224607\n",
            "[1200]\ttrain-logloss:0.209968\tvalid-logloss:0.222234\n",
            "[1500]\ttrain-logloss:0.206728\tvalid-logloss:0.22084\n",
            "[1800]\ttrain-logloss:0.204132\tvalid-logloss:0.219959\n",
            "[2100]\ttrain-logloss:0.201841\tvalid-logloss:0.219362\n",
            "[2400]\ttrain-logloss:0.199765\tvalid-logloss:0.218946\n",
            "[2700]\ttrain-logloss:0.197878\tvalid-logloss:0.218636\n",
            "[3000]\ttrain-logloss:0.196059\tvalid-logloss:0.218388\n",
            "[3300]\ttrain-logloss:0.19442\tvalid-logloss:0.2182\n",
            "[3600]\ttrain-logloss:0.192779\tvalid-logloss:0.218049\n",
            "[3900]\ttrain-logloss:0.191232\tvalid-logloss:0.217921\n",
            "[4200]\ttrain-logloss:0.189778\tvalid-logloss:0.21784\n",
            "[4500]\ttrain-logloss:0.188293\tvalid-logloss:0.217751\n",
            "[4800]\ttrain-logloss:0.186764\tvalid-logloss:0.21767\n",
            "[5100]\ttrain-logloss:0.185373\tvalid-logloss:0.217596\n",
            "[5400]\ttrain-logloss:0.183949\tvalid-logloss:0.217563\n",
            "[5700]\ttrain-logloss:0.182659\tvalid-logloss:0.217528\n",
            "Stopping. Best iteration:\n",
            "[5789]\ttrain-logloss:0.182275\tvalid-logloss:0.217518\n",
            "\n"
          ]
        },
        {
          "metadata": {
            "tags": null
          },
          "name": "stderr",
          "output_type": "stream",
          "text": [
            "\u001b[32m[I 2022-08-09 07:22:06,302]\u001b[0m Trial 4 finished with value: 0.7935877504068674 and parameters: {'lambda': 0.022730857097774008, 'alpha': 0.011930614844272257, 'colsample_bytree': 0.7, 'subsample': 1.0, 'learning_rate': 0.01, 'max_depth': 6, 'min_child_weight': 240}. Best is trial 1 with value: 0.79436066369152.\u001b[0m\n"
          ]
        },
        {
          "metadata": {
            "tags": null
          },
          "name": "stdout",
          "output_type": "stream",
          "text": [
            "[0]\ttrain-logloss:0.676629\tvalid-logloss:0.676764\n",
            "Multiple eval metrics have been passed: 'valid-logloss' will be used for early stopping.\n",
            "\n",
            "Will train until valid-logloss hasn't improved in 100 rounds.\n",
            "[300]\ttrain-logloss:0.213724\tvalid-logloss:0.22501\n",
            "[600]\ttrain-logloss:0.202438\tvalid-logloss:0.219955\n",
            "[900]\ttrain-logloss:0.19534\tvalid-logloss:0.218431\n",
            "[1200]\ttrain-logloss:0.189472\tvalid-logloss:0.217805\n",
            "[1500]\ttrain-logloss:0.184423\tvalid-logloss:0.217465\n",
            "[1800]\ttrain-logloss:0.179493\tvalid-logloss:0.217325\n",
            "[2100]\ttrain-logloss:0.174813\tvalid-logloss:0.217226\n",
            "[2400]\ttrain-logloss:0.170133\tvalid-logloss:0.217171\n",
            "Stopping. Best iteration:\n",
            "[2464]\ttrain-logloss:0.169255\tvalid-logloss:0.217139\n",
            "\n"
          ]
        },
        {
          "metadata": {
            "tags": null
          },
          "name": "stderr",
          "output_type": "stream",
          "text": [
            "\u001b[32m[I 2022-08-09 07:28:49,911]\u001b[0m Trial 5 finished with value: 0.7932480327806586 and parameters: {'lambda': 0.01312471330577307, 'alpha': 0.05024588292586385, 'colsample_bytree': 0.6, 'subsample': 0.9, 'learning_rate': 0.025, 'max_depth': 7, 'min_child_weight': 210}. Best is trial 1 with value: 0.79436066369152.\u001b[0m\n"
          ]
        },
        {
          "metadata": {
            "tags": null
          },
          "name": "stdout",
          "output_type": "stream",
          "text": [
            "[0]\ttrain-logloss:0.6798\tvalid-logloss:0.67992\n",
            "Multiple eval metrics have been passed: 'valid-logloss' will be used for early stopping.\n",
            "\n",
            "Will train until valid-logloss hasn't improved in 100 rounds.\n",
            "[300]\ttrain-logloss:0.214607\tvalid-logloss:0.22631\n",
            "[600]\ttrain-logloss:0.202003\tvalid-logloss:0.22037\n",
            "[900]\ttrain-logloss:0.194366\tvalid-logloss:0.218728\n",
            "[1200]\ttrain-logloss:0.188184\tvalid-logloss:0.217976\n",
            "[1500]\ttrain-logloss:0.18258\tvalid-logloss:0.217599\n",
            "[1800]\ttrain-logloss:0.177273\tvalid-logloss:0.217403\n",
            "[2100]\ttrain-logloss:0.17214\tvalid-logloss:0.217336\n",
            "Stopping. Best iteration:\n",
            "[2036]\ttrain-logloss:0.17321\tvalid-logloss:0.217325\n",
            "\n"
          ]
        },
        {
          "metadata": {
            "tags": null
          },
          "name": "stderr",
          "output_type": "stream",
          "text": [
            "\u001b[32m[I 2022-08-09 07:35:22,213]\u001b[0m Trial 6 finished with value: 0.7940699495359893 and parameters: {'lambda': 0.015078308428091661, 'alpha': 0.012820352432456938, 'colsample_bytree': 0.8, 'subsample': 0.8, 'learning_rate': 0.02, 'max_depth': 9, 'min_child_weight': 233}. Best is trial 1 with value: 0.79436066369152.\u001b[0m\n"
          ]
        },
        {
          "metadata": {
            "tags": null
          },
          "name": "stdout",
          "output_type": "stream",
          "text": [
            "[0]\ttrain-logloss:0.664871\tvalid-logloss:0.66503\n",
            "Multiple eval metrics have been passed: 'valid-logloss' will be used for early stopping.\n",
            "\n",
            "Will train until valid-logloss hasn't improved in 100 rounds.\n",
            "[300]\ttrain-logloss:0.216663\tvalid-logloss:0.224371\n",
            "[600]\ttrain-logloss:0.206838\tvalid-logloss:0.219964\n",
            "[900]\ttrain-logloss:0.200497\tvalid-logloss:0.218533\n",
            "[1200]\ttrain-logloss:0.195197\tvalid-logloss:0.217942\n",
            "[1500]\ttrain-logloss:0.19038\tvalid-logloss:0.217646\n",
            "[1800]\ttrain-logloss:0.185844\tvalid-logloss:0.217412\n",
            "Stopping. Best iteration:\n",
            "[1814]\ttrain-logloss:0.185607\tvalid-logloss:0.217401\n",
            "\n"
          ]
        },
        {
          "metadata": {
            "tags": null
          },
          "name": "stderr",
          "output_type": "stream",
          "text": [
            "\u001b[32m[I 2022-08-09 07:39:18,087]\u001b[0m Trial 7 finished with value: 0.7933736659518256 and parameters: {'lambda': 0.25631068933011186, 'alpha': 2.0669349377917787, 'colsample_bytree': 0.7, 'subsample': 0.7, 'learning_rate': 0.045000000000000005, 'max_depth': 4, 'min_child_weight': 35}. Best is trial 1 with value: 0.79436066369152.\u001b[0m\n"
          ]
        },
        {
          "metadata": {
            "tags": null
          },
          "name": "stdout",
          "output_type": "stream",
          "text": [
            "[0]\ttrain-logloss:0.664864\tvalid-logloss:0.665035\n",
            "Multiple eval metrics have been passed: 'valid-logloss' will be used for early stopping.\n",
            "\n",
            "Will train until valid-logloss hasn't improved in 100 rounds.\n",
            "[300]\ttrain-logloss:0.215989\tvalid-logloss:0.224406\n",
            "[600]\ttrain-logloss:0.205939\tvalid-logloss:0.220054\n",
            "[900]\ttrain-logloss:0.199369\tvalid-logloss:0.218732\n",
            "[1200]\ttrain-logloss:0.193643\tvalid-logloss:0.218175\n",
            "[1500]\ttrain-logloss:0.188602\tvalid-logloss:0.217791\n",
            "[1800]\ttrain-logloss:0.183861\tvalid-logloss:0.217618\n",
            "[2100]\ttrain-logloss:0.179409\tvalid-logloss:0.217539\n",
            "Stopping. Best iteration:\n",
            "[2047]\ttrain-logloss:0.180172\tvalid-logloss:0.217512\n",
            "\n"
          ]
        },
        {
          "metadata": {
            "tags": null
          },
          "name": "stderr",
          "output_type": "stream",
          "text": [
            "\u001b[32m[I 2022-08-09 07:43:42,073]\u001b[0m Trial 8 finished with value: 0.79400740164065 and parameters: {'lambda': 0.7913501320333705, 'alpha': 0.029397374178440395, 'colsample_bytree': 0.9, 'subsample': 0.9, 'learning_rate': 0.045000000000000005, 'max_depth': 4, 'min_child_weight': 42}. Best is trial 1 with value: 0.79436066369152.\u001b[0m\n"
          ]
        },
        {
          "metadata": {
            "tags": null
          },
          "name": "stdout",
          "output_type": "stream",
          "text": [
            "[0]\ttrain-logloss:0.676522\tvalid-logloss:0.676667\n",
            "Multiple eval metrics have been passed: 'valid-logloss' will be used for early stopping.\n",
            "\n",
            "Will train until valid-logloss hasn't improved in 100 rounds.\n",
            "[300]\ttrain-logloss:0.211113\tvalid-logloss:0.2241\n",
            "[600]\ttrain-logloss:0.198838\tvalid-logloss:0.219725\n",
            "[900]\ttrain-logloss:0.190511\tvalid-logloss:0.21848\n",
            "[1200]\ttrain-logloss:0.183634\tvalid-logloss:0.217954\n",
            "[1500]\ttrain-logloss:0.177126\tvalid-logloss:0.21766\n",
            "Stopping. Best iteration:\n",
            "[1699]\ttrain-logloss:0.173194\tvalid-logloss:0.217502\n",
            "\n"
          ]
        },
        {
          "metadata": {
            "tags": null
          },
          "name": "stderr",
          "output_type": "stream",
          "text": [
            "\u001b[32m[I 2022-08-09 07:49:16,504]\u001b[0m Trial 9 finished with value: 0.7934747106542719 and parameters: {'lambda': 0.06254619314589088, 'alpha': 0.09420800661553026, 'colsample_bytree': 0.9, 'subsample': 0.8, 'learning_rate': 0.025, 'max_depth': 9, 'min_child_weight': 249}. Best is trial 1 with value: 0.79436066369152.\u001b[0m\n"
          ]
        },
        {
          "metadata": {
            "tags": null
          },
          "name": "stdout",
          "output_type": "stream",
          "text": [
            "[0]\ttrain-logloss:0.686494\tvalid-logloss:0.68655\n",
            "Multiple eval metrics have been passed: 'valid-logloss' will be used for early stopping.\n",
            "\n",
            "Will train until valid-logloss hasn't improved in 100 rounds.\n",
            "[300]\ttrain-logloss:0.238751\tvalid-logloss:0.246221\n",
            "[600]\ttrain-logloss:0.215186\tvalid-logloss:0.226532\n",
            "[900]\ttrain-logloss:0.207571\tvalid-logloss:0.222278\n",
            "[1200]\ttrain-logloss:0.202705\tvalid-logloss:0.220329\n",
            "[1500]\ttrain-logloss:0.198938\tvalid-logloss:0.219237\n",
            "[1800]\ttrain-logloss:0.195544\tvalid-logloss:0.218509\n",
            "[2100]\ttrain-logloss:0.192536\tvalid-logloss:0.218041\n",
            "[2400]\ttrain-logloss:0.189689\tvalid-logloss:0.217657\n",
            "[2700]\ttrain-logloss:0.186984\tvalid-logloss:0.217385\n",
            "[3000]\ttrain-logloss:0.184311\tvalid-logloss:0.21718\n",
            "[3300]\ttrain-logloss:0.181824\tvalid-logloss:0.217026\n",
            "[3600]\ttrain-logloss:0.179367\tvalid-logloss:0.216913\n",
            "[3900]\ttrain-logloss:0.176975\tvalid-logloss:0.216806\n",
            "[4200]\ttrain-logloss:0.174591\tvalid-logloss:0.216709\n",
            "[4500]\ttrain-logloss:0.172259\tvalid-logloss:0.216622\n",
            "[4800]\ttrain-logloss:0.170026\tvalid-logloss:0.21658\n",
            "[5100]\ttrain-logloss:0.167791\tvalid-logloss:0.216517\n",
            "Stopping. Best iteration:\n",
            "[5230]\ttrain-logloss:0.166842\tvalid-logloss:0.216512\n",
            "\n"
          ]
        },
        {
          "metadata": {
            "tags": null
          },
          "name": "stderr",
          "output_type": "stream",
          "text": [
            "\u001b[32m[I 2022-08-09 08:03:58,617]\u001b[0m Trial 10 finished with value: 0.7942674281691859 and parameters: {'lambda': 0.0010685994711896343, 'alpha': 8.009063066601675, 'colsample_bytree': 0.5, 'subsample': 0.7, 'learning_rate': 0.01, 'max_depth': 8, 'min_child_weight': 138}. Best is trial 1 with value: 0.79436066369152.\u001b[0m\n"
          ]
        },
        {
          "metadata": {
            "tags": null
          },
          "name": "stdout",
          "output_type": "stream",
          "text": [
            "[0]\ttrain-logloss:0.686502\tvalid-logloss:0.686559\n",
            "Multiple eval metrics have been passed: 'valid-logloss' will be used for early stopping.\n",
            "\n",
            "Will train until valid-logloss hasn't improved in 100 rounds.\n",
            "[300]\ttrain-logloss:0.239207\tvalid-logloss:0.246523\n",
            "[600]\ttrain-logloss:0.215599\tvalid-logloss:0.226657\n",
            "[900]\ttrain-logloss:0.208029\tvalid-logloss:0.22234\n",
            "[1200]\ttrain-logloss:0.203279\tvalid-logloss:0.220373\n",
            "[1500]\ttrain-logloss:0.199601\tvalid-logloss:0.219248\n",
            "[1800]\ttrain-logloss:0.196244\tvalid-logloss:0.218492\n",
            "[2100]\ttrain-logloss:0.19326\tvalid-logloss:0.217988\n",
            "[2400]\ttrain-logloss:0.190533\tvalid-logloss:0.217616\n",
            "[2700]\ttrain-logloss:0.187866\tvalid-logloss:0.217337\n",
            "[3000]\ttrain-logloss:0.185256\tvalid-logloss:0.21711\n",
            "[3300]\ttrain-logloss:0.18283\tvalid-logloss:0.216943\n",
            "[3600]\ttrain-logloss:0.180416\tvalid-logloss:0.216808\n",
            "[3900]\ttrain-logloss:0.178086\tvalid-logloss:0.216681\n",
            "[4200]\ttrain-logloss:0.175761\tvalid-logloss:0.216589\n",
            "[4500]\ttrain-logloss:0.173478\tvalid-logloss:0.216526\n",
            "[4800]\ttrain-logloss:0.171249\tvalid-logloss:0.216481\n",
            "Stopping. Best iteration:\n",
            "[4735]\ttrain-logloss:0.171727\tvalid-logloss:0.216468\n",
            "\n"
          ]
        },
        {
          "metadata": {
            "tags": null
          },
          "name": "stderr",
          "output_type": "stream",
          "text": [
            "\u001b[32m[I 2022-08-09 08:17:30,268]\u001b[0m Trial 11 finished with value: 0.794397985189469 and parameters: {'lambda': 0.0012922329423008141, 'alpha': 9.685343062468263, 'colsample_bytree': 0.5, 'subsample': 0.7, 'learning_rate': 0.01, 'max_depth': 8, 'min_child_weight': 142}. Best is trial 11 with value: 0.794397985189469.\u001b[0m\n"
          ]
        },
        {
          "metadata": {
            "tags": null
          },
          "name": "stdout",
          "output_type": "stream",
          "text": [
            "[0]\ttrain-logloss:0.683213\tvalid-logloss:0.683284\n",
            "Multiple eval metrics have been passed: 'valid-logloss' will be used for early stopping.\n",
            "\n",
            "Will train until valid-logloss hasn't improved in 100 rounds.\n",
            "[300]\ttrain-logloss:0.223321\tvalid-logloss:0.231731\n",
            "[600]\ttrain-logloss:0.209349\tvalid-logloss:0.222487\n",
            "[900]\ttrain-logloss:0.202468\tvalid-logloss:0.219808\n",
            "[1200]\ttrain-logloss:0.197339\tvalid-logloss:0.218708\n",
            "[1500]\ttrain-logloss:0.192984\tvalid-logloss:0.218079\n",
            "[1800]\ttrain-logloss:0.188963\tvalid-logloss:0.217646\n",
            "[2100]\ttrain-logloss:0.185064\tvalid-logloss:0.217352\n",
            "[2400]\ttrain-logloss:0.18138\tvalid-logloss:0.217185\n",
            "[2700]\ttrain-logloss:0.177814\tvalid-logloss:0.217051\n",
            "Stopping. Best iteration:\n",
            "[2768]\ttrain-logloss:0.177029\tvalid-logloss:0.217025\n",
            "\n"
          ]
        },
        {
          "metadata": {
            "tags": null
          },
          "name": "stderr",
          "output_type": "stream",
          "text": [
            "\u001b[32m[I 2022-08-09 08:25:37,866]\u001b[0m Trial 12 finished with value: 0.7943049824246062 and parameters: {'lambda': 5.916445277902928, 'alpha': 1.0378866132183744, 'colsample_bytree': 0.5, 'subsample': 0.6, 'learning_rate': 0.015, 'max_depth': 8, 'min_child_weight': 151}. Best is trial 11 with value: 0.794397985189469.\u001b[0m\n"
          ]
        },
        {
          "metadata": {
            "tags": null
          },
          "name": "stdout",
          "output_type": "stream",
          "text": [
            "[0]\ttrain-logloss:0.666805\tvalid-logloss:0.667064\n",
            "Multiple eval metrics have been passed: 'valid-logloss' will be used for early stopping.\n",
            "\n",
            "Will train until valid-logloss hasn't improved in 100 rounds.\n",
            "[300]\ttrain-logloss:0.198682\tvalid-logloss:0.220658\n",
            "[600]\ttrain-logloss:0.183752\tvalid-logloss:0.218303\n",
            "[900]\ttrain-logloss:0.171574\tvalid-logloss:0.217864\n",
            "[1200]\ttrain-logloss:0.160608\tvalid-logloss:0.217632\n",
            "Stopping. Best iteration:\n",
            "[1343]\ttrain-logloss:0.155872\tvalid-logloss:0.217593\n",
            "\n"
          ]
        },
        {
          "metadata": {
            "tags": null
          },
          "name": "stderr",
          "output_type": "stream",
          "text": [
            "\u001b[32m[I 2022-08-09 08:30:03,461]\u001b[0m Trial 13 finished with value: 0.7944750772431789 and parameters: {'lambda': 0.0012300898939576292, 'alpha': 9.018182713332596, 'colsample_bytree': 1.0, 'subsample': 0.7, 'learning_rate': 0.04, 'max_depth': 8, 'min_child_weight': 93}. Best is trial 13 with value: 0.7944750772431789.\u001b[0m\n"
          ]
        },
        {
          "metadata": {
            "tags": null
          },
          "name": "stdout",
          "output_type": "stream",
          "text": [
            "[0]\ttrain-logloss:0.666796\tvalid-logloss:0.666952\n",
            "Multiple eval metrics have been passed: 'valid-logloss' will be used for early stopping.\n",
            "\n",
            "Will train until valid-logloss hasn't improved in 100 rounds.\n",
            "[300]\ttrain-logloss:0.203415\tvalid-logloss:0.220888\n",
            "[600]\ttrain-logloss:0.189408\tvalid-logloss:0.218605\n",
            "[900]\ttrain-logloss:0.178524\tvalid-logloss:0.218291\n",
            "Stopping. Best iteration:\n",
            "[954]\ttrain-logloss:0.176794\tvalid-logloss:0.218223\n",
            "\n"
          ]
        },
        {
          "metadata": {
            "tags": null
          },
          "name": "stderr",
          "output_type": "stream",
          "text": [
            "\u001b[32m[I 2022-08-09 08:33:13,024]\u001b[0m Trial 14 finished with value: 0.7920212904537132 and parameters: {'lambda': 0.0014699843223445728, 'alpha': 0.5149997093806993, 'colsample_bytree': 1.0, 'subsample': 0.6, 'learning_rate': 0.04, 'max_depth': 7, 'min_child_weight': 94}. Best is trial 13 with value: 0.7944750772431789.\u001b[0m\n"
          ]
        },
        {
          "metadata": {
            "tags": null
          },
          "name": "stdout",
          "output_type": "stream",
          "text": [
            "[0]\ttrain-logloss:0.669972\tvalid-logloss:0.670146\n",
            "Multiple eval metrics have been passed: 'valid-logloss' will be used for early stopping.\n",
            "\n",
            "Will train until valid-logloss hasn't improved in 100 rounds.\n",
            "[300]\ttrain-logloss:0.204025\tvalid-logloss:0.221107\n",
            "[600]\ttrain-logloss:0.190512\tvalid-logloss:0.218651\n",
            "[900]\ttrain-logloss:0.180064\tvalid-logloss:0.218079\n",
            "Stopping. Best iteration:\n",
            "[1021]\ttrain-logloss:0.176035\tvalid-logloss:0.217962\n",
            "\n"
          ]
        },
        {
          "metadata": {
            "tags": null
          },
          "name": "stderr",
          "output_type": "stream",
          "text": [
            "\u001b[32m[I 2022-08-09 08:36:42,483]\u001b[0m Trial 15 finished with value: 0.7924975349549309 and parameters: {'lambda': 0.0033838171637291838, 'alpha': 2.6552532258047727, 'colsample_bytree': 1.0, 'subsample': 0.5, 'learning_rate': 0.035, 'max_depth': 8, 'min_child_weight': 95}. Best is trial 13 with value: 0.7944750772431789.\u001b[0m\n"
          ]
        },
        {
          "metadata": {
            "tags": null
          },
          "name": "stdout",
          "output_type": "stream",
          "text": [
            "[0]\ttrain-logloss:0.669344\tvalid-logloss:0.669817\n",
            "Multiple eval metrics have been passed: 'valid-logloss' will be used for early stopping.\n",
            "\n",
            "Will train until valid-logloss hasn't improved in 100 rounds.\n",
            "[300]\ttrain-logloss:0.143195\tvalid-logloss:0.220317\n",
            "Stopping. Best iteration:\n",
            "[453]\ttrain-logloss:0.119596\tvalid-logloss:0.219631\n",
            "\n"
          ]
        },
        {
          "metadata": {
            "tags": null
          },
          "name": "stderr",
          "output_type": "stream",
          "text": [
            "\u001b[32m[I 2022-08-09 08:39:09,150]\u001b[0m Trial 16 finished with value: 0.7917453670523547 and parameters: {'lambda': 0.0031505389945183744, 'alpha': 0.0010837780026848284, 'colsample_bytree': 0.6, 'subsample': 0.7, 'learning_rate': 0.035, 'max_depth': 9, 'min_child_weight': 1}. Best is trial 13 with value: 0.7944750772431789.\u001b[0m\n"
          ]
        },
        {
          "metadata": {
            "tags": null
          },
          "name": "stdout",
          "output_type": "stream",
          "text": [
            "[0]\ttrain-logloss:0.670204\tvalid-logloss:0.670354\n",
            "Multiple eval metrics have been passed: 'valid-logloss' will be used for early stopping.\n",
            "\n",
            "Will train until valid-logloss hasn't improved in 100 rounds.\n",
            "[300]\ttrain-logloss:0.210311\tvalid-logloss:0.222342\n",
            "[600]\ttrain-logloss:0.199505\tvalid-logloss:0.219183\n",
            "[900]\ttrain-logloss:0.191592\tvalid-logloss:0.218319\n",
            "[1200]\ttrain-logloss:0.18441\tvalid-logloss:0.217864\n",
            "[1500]\ttrain-logloss:0.178133\tvalid-logloss:0.217788\n",
            "Stopping. Best iteration:\n",
            "[1408]\ttrain-logloss:0.179974\tvalid-logloss:0.217715\n",
            "\n"
          ]
        },
        {
          "metadata": {
            "tags": null
          },
          "name": "stderr",
          "output_type": "stream",
          "text": [
            "\u001b[32m[I 2022-08-09 08:43:23,344]\u001b[0m Trial 17 finished with value: 0.7912832494744542 and parameters: {'lambda': 0.0010407563530333728, 'alpha': 0.28839698279848314, 'colsample_bytree': 0.6, 'subsample': 0.6, 'learning_rate': 0.035, 'max_depth': 7, 'min_child_weight': 174}. Best is trial 13 with value: 0.7944750772431789.\u001b[0m\n"
          ]
        },
        {
          "metadata": {
            "tags": null
          },
          "name": "stdout",
          "output_type": "stream",
          "text": [
            "[0]\ttrain-logloss:0.68315\tvalid-logloss:0.68325\n",
            "Multiple eval metrics have been passed: 'valid-logloss' will be used for early stopping.\n",
            "\n",
            "Will train until valid-logloss hasn't improved in 100 rounds.\n",
            "[300]\ttrain-logloss:0.220252\tvalid-logloss:0.231507\n",
            "[600]\ttrain-logloss:0.205128\tvalid-logloss:0.222289\n",
            "[900]\ttrain-logloss:0.197323\tvalid-logloss:0.219757\n",
            "[1200]\ttrain-logloss:0.191426\tvalid-logloss:0.218571\n",
            "[1500]\ttrain-logloss:0.18643\tvalid-logloss:0.217946\n",
            "[1800]\ttrain-logloss:0.181587\tvalid-logloss:0.217528\n",
            "[2100]\ttrain-logloss:0.177083\tvalid-logloss:0.217285\n",
            "[2400]\ttrain-logloss:0.172915\tvalid-logloss:0.21706\n",
            "[2700]\ttrain-logloss:0.16883\tvalid-logloss:0.216961\n",
            "[3000]\ttrain-logloss:0.164929\tvalid-logloss:0.216893\n",
            "[3300]\ttrain-logloss:0.161156\tvalid-logloss:0.216819\n",
            "Stopping. Best iteration:\n",
            "[3370]\ttrain-logloss:0.160277\tvalid-logloss:0.216786\n",
            "\n"
          ]
        },
        {
          "metadata": {
            "tags": null
          },
          "name": "stderr",
          "output_type": "stream",
          "text": [
            "\u001b[32m[I 2022-08-09 08:53:28,383]\u001b[0m Trial 18 finished with value: 0.7947706124716518 and parameters: {'lambda': 0.10342559235168247, 'alpha': 9.599122401644566, 'colsample_bytree': 1.0, 'subsample': 0.7, 'learning_rate': 0.015, 'max_depth': 8, 'min_child_weight': 105}. Best is trial 18 with value: 0.7947706124716518.\u001b[0m\n"
          ]
        },
        {
          "metadata": {
            "tags": null
          },
          "name": "stdout",
          "output_type": "stream",
          "text": [
            "[0]\ttrain-logloss:0.66084\tvalid-logloss:0.661075\n",
            "Multiple eval metrics have been passed: 'valid-logloss' will be used for early stopping.\n",
            "\n",
            "Will train until valid-logloss hasn't improved in 100 rounds.\n",
            "[300]\ttrain-logloss:0.203105\tvalid-logloss:0.220916\n",
            "[600]\ttrain-logloss:0.189888\tvalid-logloss:0.21864\n",
            "[900]\ttrain-logloss:0.179276\tvalid-logloss:0.217993\n",
            "Stopping. Best iteration:\n",
            "[1084]\ttrain-logloss:0.173448\tvalid-logloss:0.217853\n",
            "\n"
          ]
        },
        {
          "metadata": {
            "tags": null
          },
          "name": "stderr",
          "output_type": "stream",
          "text": [
            "\u001b[32m[I 2022-08-09 08:56:36,155]\u001b[0m Trial 19 finished with value: 0.7928551380264985 and parameters: {'lambda': 0.15214970336503697, 'alpha': 2.49725534436298, 'colsample_bytree': 1.0, 'subsample': 0.9, 'learning_rate': 0.05, 'max_depth': 6, 'min_child_weight': 104}. Best is trial 18 with value: 0.7947706124716518.\u001b[0m\n"
          ]
        },
        {
          "metadata": {
            "tags": null
          },
          "name": "stdout",
          "output_type": "stream",
          "text": [
            "[0]\ttrain-logloss:0.682973\tvalid-logloss:0.683084\n",
            "Multiple eval metrics have been passed: 'valid-logloss' will be used for early stopping.\n",
            "\n",
            "Will train until valid-logloss hasn't improved in 100 rounds.\n",
            "[300]\ttrain-logloss:0.210687\tvalid-logloss:0.228453\n",
            "[600]\ttrain-logloss:0.192864\tvalid-logloss:0.220591\n",
            "[900]\ttrain-logloss:0.18232\tvalid-logloss:0.218645\n",
            "[1200]\ttrain-logloss:0.174033\tvalid-logloss:0.217736\n",
            "[1500]\ttrain-logloss:0.166555\tvalid-logloss:0.217247\n",
            "[1800]\ttrain-logloss:0.159667\tvalid-logloss:0.217045\n",
            "[2100]\ttrain-logloss:0.153349\tvalid-logloss:0.216887\n",
            "[2400]\ttrain-logloss:0.147491\tvalid-logloss:0.21678\n",
            "Stopping. Best iteration:\n",
            "[2470]\ttrain-logloss:0.146061\tvalid-logloss:0.216749\n",
            "\n"
          ]
        },
        {
          "metadata": {
            "tags": null
          },
          "name": "stderr",
          "output_type": "stream",
          "text": [
            "\u001b[32m[I 2022-08-09 09:04:38,137]\u001b[0m Trial 20 finished with value: 0.7944205533927209 and parameters: {'lambda': 0.06487517616900781, 'alpha': 0.361058328620972, 'colsample_bytree': 0.9, 'subsample': 0.8, 'learning_rate': 0.015, 'max_depth': 9, 'min_child_weight': 72}. Best is trial 18 with value: 0.7947706124716518.\u001b[0m\n"
          ]
        },
        {
          "metadata": {
            "tags": null
          },
          "name": "stdout",
          "output_type": "stream",
          "text": [
            "[0]\ttrain-logloss:0.682967\tvalid-logloss:0.683068\n",
            "Multiple eval metrics have been passed: 'valid-logloss' will be used for early stopping.\n",
            "\n",
            "Will train until valid-logloss hasn't improved in 100 rounds.\n",
            "[300]\ttrain-logloss:0.210886\tvalid-logloss:0.22855\n",
            "[600]\ttrain-logloss:0.193141\tvalid-logloss:0.220731\n",
            "[900]\ttrain-logloss:0.182518\tvalid-logloss:0.218751\n",
            "[1200]\ttrain-logloss:0.174239\tvalid-logloss:0.217858\n",
            "[1500]\ttrain-logloss:0.166777\tvalid-logloss:0.217351\n",
            "[1800]\ttrain-logloss:0.160024\tvalid-logloss:0.217051\n",
            "[2100]\ttrain-logloss:0.153753\tvalid-logloss:0.216917\n",
            "Stopping. Best iteration:\n",
            "[2297]\ttrain-logloss:0.149865\tvalid-logloss:0.216879\n",
            "\n"
          ]
        },
        {
          "metadata": {
            "tags": null
          },
          "name": "stderr",
          "output_type": "stream",
          "text": [
            "\u001b[32m[I 2022-08-09 09:12:14,025]\u001b[0m Trial 21 finished with value: 0.7941452745750714 and parameters: {'lambda': 0.07768999211500285, 'alpha': 0.4738045651795699, 'colsample_bytree': 1.0, 'subsample': 0.8, 'learning_rate': 0.015, 'max_depth': 9, 'min_child_weight': 74}. Best is trial 18 with value: 0.7947706124716518.\u001b[0m\n"
          ]
        },
        {
          "metadata": {
            "tags": null
          },
          "name": "stdout",
          "output_type": "stream",
          "text": [
            "[0]\ttrain-logloss:0.683072\tvalid-logloss:0.683174\n",
            "Multiple eval metrics have been passed: 'valid-logloss' will be used for early stopping.\n",
            "\n",
            "Will train until valid-logloss hasn't improved in 100 rounds.\n",
            "[300]\ttrain-logloss:0.21724\tvalid-logloss:0.229989\n",
            "[600]\ttrain-logloss:0.201925\tvalid-logloss:0.221443\n",
            "[900]\ttrain-logloss:0.193684\tvalid-logloss:0.21923\n",
            "[1200]\ttrain-logloss:0.18708\tvalid-logloss:0.218251\n",
            "[1500]\ttrain-logloss:0.181696\tvalid-logloss:0.217743\n",
            "[1800]\ttrain-logloss:0.176279\tvalid-logloss:0.21743\n",
            "[2100]\ttrain-logloss:0.17116\tvalid-logloss:0.217216\n",
            "[2400]\ttrain-logloss:0.166389\tvalid-logloss:0.217032\n",
            "[2700]\ttrain-logloss:0.161822\tvalid-logloss:0.216935\n",
            "Stopping. Best iteration:\n",
            "[2834]\ttrain-logloss:0.15979\tvalid-logloss:0.216881\n",
            "\n"
          ]
        },
        {
          "metadata": {
            "tags": null
          },
          "name": "stderr",
          "output_type": "stream",
          "text": [
            "\u001b[32m[I 2022-08-09 09:21:10,923]\u001b[0m Trial 22 finished with value: 0.7943649035366254 and parameters: {'lambda': 0.400048773915842, 'alpha': 4.283716570119585, 'colsample_bytree': 0.9, 'subsample': 0.7, 'learning_rate': 0.015, 'max_depth': 9, 'min_child_weight': 118}. Best is trial 18 with value: 0.7947706124716518.\u001b[0m\n"
          ]
        },
        {
          "metadata": {
            "tags": null
          },
          "name": "stdout",
          "output_type": "stream",
          "text": [
            "[0]\ttrain-logloss:0.679771\tvalid-logloss:0.679882\n",
            "Multiple eval metrics have been passed: 'valid-logloss' will be used for early stopping.\n",
            "\n",
            "Will train until valid-logloss hasn't improved in 100 rounds.\n",
            "[300]\ttrain-logloss:0.209046\tvalid-logloss:0.225463\n",
            "[600]\ttrain-logloss:0.193274\tvalid-logloss:0.219824\n",
            "[900]\ttrain-logloss:0.182843\tvalid-logloss:0.218193\n",
            "[1200]\ttrain-logloss:0.174384\tvalid-logloss:0.217553\n",
            "[1500]\ttrain-logloss:0.166718\tvalid-logloss:0.217148\n",
            "[1800]\ttrain-logloss:0.15987\tvalid-logloss:0.216981\n",
            "Stopping. Best iteration:\n",
            "[1827]\ttrain-logloss:0.159234\tvalid-logloss:0.216939\n",
            "\n"
          ]
        },
        {
          "metadata": {
            "tags": null
          },
          "name": "stderr",
          "output_type": "stream",
          "text": [
            "\u001b[32m[I 2022-08-09 09:26:57,425]\u001b[0m Trial 23 finished with value: 0.7938671816191348 and parameters: {'lambda': 4.040342432142741, 'alpha': 1.0905871645258842, 'colsample_bytree': 1.0, 'subsample': 0.8, 'learning_rate': 0.02, 'max_depth': 8, 'min_child_weight': 75}. Best is trial 18 with value: 0.7947706124716518.\u001b[0m\n"
          ]
        },
        {
          "metadata": {
            "tags": null
          },
          "name": "stdout",
          "output_type": "stream",
          "text": [
            "[0]\ttrain-logloss:0.679851\tvalid-logloss:0.679968\n",
            "Multiple eval metrics have been passed: 'valid-logloss' will be used for early stopping.\n",
            "\n",
            "Will train until valid-logloss hasn't improved in 100 rounds.\n",
            "[300]\ttrain-logloss:0.214916\tvalid-logloss:0.227015\n",
            "[600]\ttrain-logloss:0.201373\tvalid-logloss:0.220716\n",
            "[900]\ttrain-logloss:0.193522\tvalid-logloss:0.218926\n",
            "[1200]\ttrain-logloss:0.186842\tvalid-logloss:0.218079\n",
            "[1500]\ttrain-logloss:0.181194\tvalid-logloss:0.217619\n",
            "[1800]\ttrain-logloss:0.175611\tvalid-logloss:0.217326\n",
            "[2100]\ttrain-logloss:0.170687\tvalid-logloss:0.21716\n",
            "[2400]\ttrain-logloss:0.165749\tvalid-logloss:0.217078\n",
            "Stopping. Best iteration:\n",
            "[2357]\ttrain-logloss:0.166437\tvalid-logloss:0.217058\n",
            "\n"
          ]
        },
        {
          "metadata": {
            "tags": null
          },
          "name": "stderr",
          "output_type": "stream",
          "text": [
            "\u001b[32m[I 2022-08-09 09:33:29,021]\u001b[0m Trial 24 finished with value: 0.7937964616589869 and parameters: {'lambda': 0.040308354266380915, 'alpha': 0.20948639540400785, 'colsample_bytree': 0.9, 'subsample': 0.9, 'learning_rate': 0.02, 'max_depth': 7, 'min_child_weight': 117}. Best is trial 18 with value: 0.7947706124716518.\u001b[0m\n"
          ]
        },
        {
          "metadata": {
            "tags": null
          },
          "name": "stdout",
          "output_type": "stream",
          "text": [
            "[0]\ttrain-logloss:0.672834\tvalid-logloss:0.673146\n",
            "Multiple eval metrics have been passed: 'valid-logloss' will be used for early stopping.\n",
            "\n",
            "Will train until valid-logloss hasn't improved in 100 rounds.\n",
            "[300]\ttrain-logloss:0.176509\tvalid-logloss:0.220799\n",
            "[600]\ttrain-logloss:0.149275\tvalid-logloss:0.218538\n",
            "Stopping. Best iteration:\n",
            "[787]\ttrain-logloss:0.135676\tvalid-logloss:0.218367\n",
            "\n"
          ]
        },
        {
          "metadata": {
            "tags": null
          },
          "name": "stderr",
          "output_type": "stream",
          "text": [
            "\u001b[32m[I 2022-08-09 09:36:47,655]\u001b[0m Trial 25 finished with value: 0.7920564702709899 and parameters: {'lambda': 1.006976554632956, 'alpha': 1.2530815675568423, 'colsample_bytree': 0.8, 'subsample': 0.7, 'learning_rate': 0.03, 'max_depth': 9, 'min_child_weight': 14}. Best is trial 18 with value: 0.7947706124716518.\u001b[0m\n"
          ]
        },
        {
          "metadata": {
            "tags": null
          },
          "name": "stdout",
          "output_type": "stream",
          "text": [
            "[0]\ttrain-logloss:0.66684\tvalid-logloss:0.667041\n",
            "Multiple eval metrics have been passed: 'valid-logloss' will be used for early stopping.\n",
            "\n",
            "Will train until valid-logloss hasn't improved in 100 rounds.\n",
            "[300]\ttrain-logloss:0.204747\tvalid-logloss:0.220984\n",
            "[600]\ttrain-logloss:0.192212\tvalid-logloss:0.218521\n",
            "[900]\ttrain-logloss:0.18254\tvalid-logloss:0.218065\n",
            "[1200]\ttrain-logloss:0.173165\tvalid-logloss:0.217782\n",
            "Stopping. Best iteration:\n",
            "[1167]\ttrain-logloss:0.174217\tvalid-logloss:0.217755\n",
            "\n"
          ]
        },
        {
          "metadata": {
            "tags": null
          },
          "name": "stderr",
          "output_type": "stream",
          "text": [
            "\u001b[32m[I 2022-08-09 09:40:39,524]\u001b[0m Trial 26 finished with value: 0.7938108619217248 and parameters: {'lambda': 0.14907558642247606, 'alpha': 4.666451085178316, 'colsample_bytree': 1.0, 'subsample': 0.6, 'learning_rate': 0.04, 'max_depth': 8, 'min_child_weight': 161}. Best is trial 18 with value: 0.7947706124716518.\u001b[0m\n"
          ]
        },
        {
          "metadata": {
            "tags": null
          },
          "name": "stdout",
          "output_type": "stream",
          "text": [
            "[0]\ttrain-logloss:0.683133\tvalid-logloss:0.683217\n",
            "Multiple eval metrics have been passed: 'valid-logloss' will be used for early stopping.\n",
            "\n",
            "Will train until valid-logloss hasn't improved in 100 rounds.\n",
            "[300]\ttrain-logloss:0.221126\tvalid-logloss:0.231639\n",
            "[600]\ttrain-logloss:0.204865\tvalid-logloss:0.222252\n",
            "[900]\ttrain-logloss:0.196413\tvalid-logloss:0.219648\n",
            "[1200]\ttrain-logloss:0.190054\tvalid-logloss:0.218476\n",
            "[1500]\ttrain-logloss:0.184604\tvalid-logloss:0.217832\n",
            "[1800]\ttrain-logloss:0.17967\tvalid-logloss:0.217499\n",
            "[2100]\ttrain-logloss:0.175041\tvalid-logloss:0.217276\n",
            "[2400]\ttrain-logloss:0.17069\tvalid-logloss:0.217061\n",
            "[2700]\ttrain-logloss:0.166555\tvalid-logloss:0.216907\n",
            "Stopping. Best iteration:\n",
            "[2820]\ttrain-logloss:0.164787\tvalid-logloss:0.216869\n",
            "\n"
          ]
        },
        {
          "metadata": {
            "tags": null
          },
          "name": "stderr",
          "output_type": "stream",
          "text": [
            "\u001b[32m[I 2022-08-09 09:48:22,704]\u001b[0m Trial 27 finished with value: 0.7947115594370932 and parameters: {'lambda': 0.008959183257255634, 'alpha': 0.7310737021465465, 'colsample_bytree': 0.9, 'subsample': 0.8, 'learning_rate': 0.015, 'max_depth': 7, 'min_child_weight': 74}. Best is trial 18 with value: 0.7947706124716518.\u001b[0m\n"
          ]
        },
        {
          "metadata": {
            "tags": null
          },
          "name": "stdout",
          "output_type": "stream",
          "text": [
            "[0]\ttrain-logloss:0.666958\tvalid-logloss:0.667143\n",
            "Multiple eval metrics have been passed: 'valid-logloss' will be used for early stopping.\n",
            "\n",
            "Will train until valid-logloss hasn't improved in 100 rounds.\n",
            "[300]\ttrain-logloss:0.207132\tvalid-logloss:0.221624\n",
            "[600]\ttrain-logloss:0.195546\tvalid-logloss:0.218921\n",
            "[900]\ttrain-logloss:0.186769\tvalid-logloss:0.218291\n",
            "[1200]\ttrain-logloss:0.178679\tvalid-logloss:0.218047\n",
            "[1500]\ttrain-logloss:0.171462\tvalid-logloss:0.217951\n",
            "Stopping. Best iteration:\n",
            "[1492]\ttrain-logloss:0.171698\tvalid-logloss:0.217933\n",
            "\n"
          ]
        },
        {
          "metadata": {
            "tags": null
          },
          "name": "stderr",
          "output_type": "stream",
          "text": [
            "\u001b[32m[I 2022-08-09 09:52:45,858]\u001b[0m Trial 28 finished with value: 0.7923841474385611 and parameters: {'lambda': 0.007140928994599742, 'alpha': 3.2731825777091514, 'colsample_bytree': 1.0, 'subsample': 0.7, 'learning_rate': 0.04, 'max_depth': 7, 'min_child_weight': 181}. Best is trial 18 with value: 0.7947706124716518.\u001b[0m\n"
          ]
        },
        {
          "metadata": {
            "tags": null
          },
          "name": "stdout",
          "output_type": "stream",
          "text": [
            "[0]\ttrain-logloss:0.68018\tvalid-logloss:0.680273\n",
            "Multiple eval metrics have been passed: 'valid-logloss' will be used for early stopping.\n",
            "\n",
            "Will train until valid-logloss hasn't improved in 100 rounds.\n",
            "[300]\ttrain-logloss:0.223816\tvalid-logloss:0.231124\n",
            "[600]\ttrain-logloss:0.210717\tvalid-logloss:0.223125\n",
            "[900]\ttrain-logloss:0.203891\tvalid-logloss:0.220589\n",
            "[1200]\ttrain-logloss:0.198921\tvalid-logloss:0.219419\n",
            "[1500]\ttrain-logloss:0.194726\tvalid-logloss:0.218739\n",
            "[1800]\ttrain-logloss:0.190882\tvalid-logloss:0.218266\n",
            "[2100]\ttrain-logloss:0.187198\tvalid-logloss:0.217982\n",
            "[2400]\ttrain-logloss:0.183888\tvalid-logloss:0.217833\n",
            "[2700]\ttrain-logloss:0.180567\tvalid-logloss:0.217689\n",
            "[3000]\ttrain-logloss:0.177425\tvalid-logloss:0.217595\n",
            "[3300]\ttrain-logloss:0.174375\tvalid-logloss:0.217518\n",
            "Stopping. Best iteration:\n",
            "[3432]\ttrain-logloss:0.17314\tvalid-logloss:0.217494\n",
            "\n"
          ]
        },
        {
          "metadata": {
            "tags": null
          },
          "name": "stderr",
          "output_type": "stream",
          "text": [
            "\u001b[32m[I 2022-08-09 10:00:09,774]\u001b[0m Trial 29 finished with value: 0.7922142485050715 and parameters: {'lambda': 0.005903976160849025, 'alpha': 1.4982777820719155, 'colsample_bytree': 0.8, 'subsample': 1.0, 'learning_rate': 0.02, 'max_depth': 5, 'min_child_weight': 46}. Best is trial 18 with value: 0.7947706124716518.\u001b[0m\n"
          ]
        },
        {
          "metadata": {
            "tags": null
          },
          "name": "stdout",
          "output_type": "stream",
          "text": [
            "[0]\ttrain-logloss:0.673309\tvalid-logloss:0.673473\n",
            "Multiple eval metrics have been passed: 'valid-logloss' will be used for early stopping.\n",
            "\n",
            "Will train until valid-logloss hasn't improved in 100 rounds.\n",
            "[300]\ttrain-logloss:0.208269\tvalid-logloss:0.223003\n",
            "[600]\ttrain-logloss:0.195588\tvalid-logloss:0.219167\n",
            "[900]\ttrain-logloss:0.186407\tvalid-logloss:0.218132\n",
            "[1200]\ttrain-logloss:0.178581\tvalid-logloss:0.21767\n",
            "[1500]\ttrain-logloss:0.171326\tvalid-logloss:0.217503\n",
            "Stopping. Best iteration:\n",
            "[1434]\ttrain-logloss:0.172915\tvalid-logloss:0.217475\n",
            "\n"
          ]
        },
        {
          "metadata": {
            "tags": null
          },
          "name": "stderr",
          "output_type": "stream",
          "text": [
            "\u001b[32m[I 2022-08-09 10:04:25,958]\u001b[0m Trial 30 finished with value: 0.7920553250277547 and parameters: {'lambda': 0.002345004650396614, 'alpha': 0.8641862505987971, 'colsample_bytree': 0.9, 'subsample': 0.8, 'learning_rate': 0.03, 'max_depth': 7, 'min_child_weight': 127}. Best is trial 18 with value: 0.7947706124716518.\u001b[0m\n"
          ]
        },
        {
          "metadata": {
            "tags": null
          },
          "name": "stdout",
          "output_type": "stream",
          "text": [
            "[0]\ttrain-logloss:0.683043\tvalid-logloss:0.683141\n",
            "Multiple eval metrics have been passed: 'valid-logloss' will be used for early stopping.\n",
            "\n",
            "Will train until valid-logloss hasn't improved in 100 rounds.\n",
            "[300]\ttrain-logloss:0.215948\tvalid-logloss:0.229828\n",
            "[600]\ttrain-logloss:0.19921\tvalid-logloss:0.22138\n",
            "[900]\ttrain-logloss:0.189834\tvalid-logloss:0.219181\n",
            "[1200]\ttrain-logloss:0.182395\tvalid-logloss:0.218172\n",
            "[1500]\ttrain-logloss:0.176022\tvalid-logloss:0.217616\n",
            "[1800]\ttrain-logloss:0.170003\tvalid-logloss:0.217273\n",
            "[2100]\ttrain-logloss:0.164564\tvalid-logloss:0.217094\n",
            "[2400]\ttrain-logloss:0.159512\tvalid-logloss:0.21697\n",
            "[2700]\ttrain-logloss:0.154573\tvalid-logloss:0.216871\n",
            "Stopping. Best iteration:\n",
            "[2712]\ttrain-logloss:0.154373\tvalid-logloss:0.216864\n",
            "\n"
          ]
        },
        {
          "metadata": {
            "tags": null
          },
          "name": "stderr",
          "output_type": "stream",
          "text": [
            "\u001b[32m[I 2022-08-09 10:12:30,445]\u001b[0m Trial 31 finished with value: 0.7937509794114355 and parameters: {'lambda': 0.04272773177077555, 'alpha': 0.1666822425653819, 'colsample_bytree': 0.9, 'subsample': 0.8, 'learning_rate': 0.015, 'max_depth': 8, 'min_child_weight': 77}. Best is trial 18 with value: 0.7947706124716518.\u001b[0m\n"
          ]
        },
        {
          "metadata": {
            "tags": null
          },
          "name": "stdout",
          "output_type": "stream",
          "text": [
            "[0]\ttrain-logloss:0.683033\tvalid-logloss:0.683124\n",
            "Multiple eval metrics have been passed: 'valid-logloss' will be used for early stopping.\n",
            "\n",
            "Will train until valid-logloss hasn't improved in 100 rounds.\n",
            "[300]\ttrain-logloss:0.214616\tvalid-logloss:0.229687\n",
            "[600]\ttrain-logloss:0.196936\tvalid-logloss:0.221311\n",
            "[900]\ttrain-logloss:0.186982\tvalid-logloss:0.21912\n",
            "[1200]\ttrain-logloss:0.179116\tvalid-logloss:0.218159\n",
            "[1500]\ttrain-logloss:0.172166\tvalid-logloss:0.217621\n",
            "[1800]\ttrain-logloss:0.165835\tvalid-logloss:0.217306\n",
            "[2100]\ttrain-logloss:0.159832\tvalid-logloss:0.217173\n",
            "[2400]\ttrain-logloss:0.154459\tvalid-logloss:0.217101\n",
            "Stopping. Best iteration:\n",
            "[2582]\ttrain-logloss:0.151344\tvalid-logloss:0.21704\n",
            "\n"
          ]
        },
        {
          "metadata": {
            "tags": null
          },
          "name": "stderr",
          "output_type": "stream",
          "text": [
            "\u001b[32m[I 2022-08-09 10:20:18,784]\u001b[0m Trial 32 finished with value: 0.7935719233649816 and parameters: {'lambda': 0.009053012105754972, 'alpha': 0.4429639886223432, 'colsample_bytree': 1.0, 'subsample': 0.8, 'learning_rate': 0.015, 'max_depth': 8, 'min_child_weight': 61}. Best is trial 18 with value: 0.7947706124716518.\u001b[0m\n"
          ]
        },
        {
          "metadata": {
            "tags": null
          },
          "name": "stdout",
          "output_type": "stream",
          "text": [
            "[0]\ttrain-logloss:0.686406\tvalid-logloss:0.686495\n",
            "Multiple eval metrics have been passed: 'valid-logloss' will be used for early stopping.\n",
            "\n",
            "Will train until valid-logloss hasn't improved in 100 rounds.\n",
            "[300]\ttrain-logloss:0.230625\tvalid-logloss:0.243575\n",
            "[600]\ttrain-logloss:0.205029\tvalid-logloss:0.224724\n",
            "[900]\ttrain-logloss:0.195704\tvalid-logloss:0.220944\n",
            "[1200]\ttrain-logloss:0.189122\tvalid-logloss:0.21933\n",
            "[1500]\ttrain-logloss:0.183816\tvalid-logloss:0.218428\n",
            "[1800]\ttrain-logloss:0.179\tvalid-logloss:0.217831\n",
            "[2100]\ttrain-logloss:0.174677\tvalid-logloss:0.217408\n",
            "[2400]\ttrain-logloss:0.170561\tvalid-logloss:0.217128\n",
            "[2700]\ttrain-logloss:0.166571\tvalid-logloss:0.216945\n",
            "[3000]\ttrain-logloss:0.162886\tvalid-logloss:0.2168\n",
            "[3300]\ttrain-logloss:0.159401\tvalid-logloss:0.216675\n",
            "[3600]\ttrain-logloss:0.156053\tvalid-logloss:0.216561\n",
            "[3900]\ttrain-logloss:0.152641\tvalid-logloss:0.216488\n",
            "Stopping. Best iteration:\n",
            "[3898]\ttrain-logloss:0.152661\tvalid-logloss:0.216486\n",
            "\n"
          ]
        },
        {
          "metadata": {
            "tags": null
          },
          "name": "stderr",
          "output_type": "stream",
          "text": [
            "\u001b[32m[I 2022-08-09 10:32:28,178]\u001b[0m Trial 33 finished with value: 0.79498766693669 and parameters: {'lambda': 0.03648003144634568, 'alpha': 6.4817376744687945, 'colsample_bytree': 0.8, 'subsample': 0.9, 'learning_rate': 0.01, 'max_depth': 9, 'min_child_weight': 89}. Best is trial 33 with value: 0.79498766693669.\u001b[0m\n"
          ]
        },
        {
          "metadata": {
            "tags": null
          },
          "name": "stdout",
          "output_type": "stream",
          "text": [
            "[0]\ttrain-logloss:0.686447\tvalid-logloss:0.686523\n",
            "Multiple eval metrics have been passed: 'valid-logloss' will be used for early stopping.\n",
            "\n",
            "Will train until valid-logloss hasn't improved in 100 rounds.\n",
            "[300]\ttrain-logloss:0.235331\tvalid-logloss:0.245417\n",
            "[600]\ttrain-logloss:0.210674\tvalid-logloss:0.226075\n",
            "[900]\ttrain-logloss:0.202102\tvalid-logloss:0.221953\n",
            "[1200]\ttrain-logloss:0.196236\tvalid-logloss:0.220063\n",
            "[1500]\ttrain-logloss:0.191673\tvalid-logloss:0.219014\n",
            "[1800]\ttrain-logloss:0.187625\tvalid-logloss:0.218326\n",
            "[2100]\ttrain-logloss:0.18397\tvalid-logloss:0.217842\n",
            "[2400]\ttrain-logloss:0.180575\tvalid-logloss:0.217526\n",
            "[2700]\ttrain-logloss:0.177201\tvalid-logloss:0.217281\n",
            "[3000]\ttrain-logloss:0.174057\tvalid-logloss:0.217111\n",
            "[3300]\ttrain-logloss:0.171073\tvalid-logloss:0.216959\n",
            "[3600]\ttrain-logloss:0.16819\tvalid-logloss:0.216838\n",
            "[3900]\ttrain-logloss:0.165343\tvalid-logloss:0.216739\n",
            "[4200]\ttrain-logloss:0.162607\tvalid-logloss:0.21665\n",
            "[4500]\ttrain-logloss:0.15993\tvalid-logloss:0.216594\n",
            "Stopping. Best iteration:\n",
            "[4510]\ttrain-logloss:0.159831\tvalid-logloss:0.216591\n",
            "\n"
          ]
        },
        {
          "metadata": {
            "tags": null
          },
          "name": "stderr",
          "output_type": "stream",
          "text": [
            "\u001b[32m[I 2022-08-09 10:45:25,920]\u001b[0m Trial 34 finished with value: 0.7946905528175512 and parameters: {'lambda': 0.03077771111361397, 'alpha': 9.005677883337361, 'colsample_bytree': 0.8, 'subsample': 0.9, 'learning_rate': 0.01, 'max_depth': 8, 'min_child_weight': 98}. Best is trial 33 with value: 0.79498766693669.\u001b[0m\n"
          ]
        },
        {
          "metadata": {
            "tags": null
          },
          "name": "stdout",
          "output_type": "stream",
          "text": [
            "[0]\ttrain-logloss:0.686565\tvalid-logloss:0.686616\n",
            "Multiple eval metrics have been passed: 'valid-logloss' will be used for early stopping.\n",
            "\n",
            "Will train until valid-logloss hasn't improved in 100 rounds.\n",
            "[300]\ttrain-logloss:0.2442\tvalid-logloss:0.249847\n",
            "[600]\ttrain-logloss:0.220113\tvalid-logloss:0.229\n",
            "[900]\ttrain-logloss:0.212155\tvalid-logloss:0.2241\n",
            "[1200]\ttrain-logloss:0.207246\tvalid-logloss:0.22171\n",
            "[1500]\ttrain-logloss:0.203544\tvalid-logloss:0.220379\n",
            "[1800]\ttrain-logloss:0.200418\tvalid-logloss:0.219513\n",
            "[2100]\ttrain-logloss:0.197701\tvalid-logloss:0.21887\n",
            "[2400]\ttrain-logloss:0.195179\tvalid-logloss:0.218433\n",
            "[2700]\ttrain-logloss:0.192822\tvalid-logloss:0.218096\n",
            "[3000]\ttrain-logloss:0.190573\tvalid-logloss:0.217813\n",
            "[3300]\ttrain-logloss:0.188431\tvalid-logloss:0.217569\n",
            "[3600]\ttrain-logloss:0.186459\tvalid-logloss:0.217395\n",
            "[3900]\ttrain-logloss:0.184498\tvalid-logloss:0.217256\n",
            "[4200]\ttrain-logloss:0.18263\tvalid-logloss:0.217124\n",
            "[4500]\ttrain-logloss:0.1808\tvalid-logloss:0.217046\n",
            "[4800]\ttrain-logloss:0.178954\tvalid-logloss:0.216982\n",
            "[5100]\ttrain-logloss:0.177185\tvalid-logloss:0.216917\n",
            "[5400]\ttrain-logloss:0.175456\tvalid-logloss:0.216862\n",
            "[5700]\ttrain-logloss:0.173724\tvalid-logloss:0.216793\n",
            "[6000]\ttrain-logloss:0.172046\tvalid-logloss:0.216749\n",
            "Stopping. Best iteration:\n",
            "[5970]\ttrain-logloss:0.172218\tvalid-logloss:0.216744\n",
            "\n"
          ]
        },
        {
          "metadata": {
            "tags": null
          },
          "name": "stderr",
          "output_type": "stream",
          "text": [
            "\u001b[32m[I 2022-08-09 10:59:25,468]\u001b[0m Trial 35 finished with value: 0.7951409380014447 and parameters: {'lambda': 0.028756077824350787, 'alpha': 5.541912227871023, 'colsample_bytree': 0.8, 'subsample': 0.9, 'learning_rate': 0.01, 'max_depth': 6, 'min_child_weight': 107}. Best is trial 35 with value: 0.7951409380014447.\u001b[0m\n"
          ]
        },
        {
          "metadata": {
            "tags": null
          },
          "name": "stdout",
          "output_type": "stream",
          "text": [
            "[0]\ttrain-logloss:0.686647\tvalid-logloss:0.686696\n",
            "Multiple eval metrics have been passed: 'valid-logloss' will be used for early stopping.\n",
            "\n",
            "Will train until valid-logloss hasn't improved in 100 rounds.\n",
            "[300]\ttrain-logloss:0.24979\tvalid-logloss:0.254028\n",
            "[600]\ttrain-logloss:0.224834\tvalid-logloss:0.231599\n",
            "[900]\ttrain-logloss:0.217137\tvalid-logloss:0.226128\n",
            "[1200]\ttrain-logloss:0.21266\tvalid-logloss:0.223476\n",
            "[1500]\ttrain-logloss:0.209385\tvalid-logloss:0.22188\n",
            "[1800]\ttrain-logloss:0.206824\tvalid-logloss:0.220872\n",
            "[2100]\ttrain-logloss:0.204672\tvalid-logloss:0.22016\n",
            "[2400]\ttrain-logloss:0.202711\tvalid-logloss:0.219611\n",
            "[2700]\ttrain-logloss:0.200986\tvalid-logloss:0.219227\n",
            "[3000]\ttrain-logloss:0.199317\tvalid-logloss:0.218894\n",
            "[3300]\ttrain-logloss:0.197686\tvalid-logloss:0.218631\n",
            "[3600]\ttrain-logloss:0.196183\tvalid-logloss:0.218431\n",
            "[3900]\ttrain-logloss:0.19469\tvalid-logloss:0.218234\n",
            "[4200]\ttrain-logloss:0.193257\tvalid-logloss:0.218082\n",
            "[4500]\ttrain-logloss:0.191924\tvalid-logloss:0.217951\n",
            "[4800]\ttrain-logloss:0.190573\tvalid-logloss:0.217829\n",
            "[5100]\ttrain-logloss:0.189237\tvalid-logloss:0.217744\n",
            "[5400]\ttrain-logloss:0.187947\tvalid-logloss:0.217676\n",
            "[5700]\ttrain-logloss:0.186603\tvalid-logloss:0.217618\n",
            "[6000]\ttrain-logloss:0.185346\tvalid-logloss:0.21758\n",
            "[6300]\ttrain-logloss:0.184132\tvalid-logloss:0.217527\n",
            "Stopping. Best iteration:\n",
            "[6313]\ttrain-logloss:0.184079\tvalid-logloss:0.217523\n",
            "\n"
          ]
        },
        {
          "metadata": {
            "tags": null
          },
          "name": "stderr",
          "output_type": "stream",
          "text": [
            "\u001b[32m[I 2022-08-09 11:12:37,067]\u001b[0m Trial 36 finished with value: 0.7942748009170687 and parameters: {'lambda': 0.12272309895963526, 'alpha': 5.247793471454993, 'colsample_bytree': 0.8, 'subsample': 1.0, 'learning_rate': 0.01, 'max_depth': 5, 'min_child_weight': 110}. Best is trial 35 with value: 0.7951409380014447.\u001b[0m\n"
          ]
        },
        {
          "metadata": {
            "tags": null
          },
          "name": "stdout",
          "output_type": "stream",
          "text": [
            "[0]\ttrain-logloss:0.686566\tvalid-logloss:0.686619\n",
            "Multiple eval metrics have been passed: 'valid-logloss' will be used for early stopping.\n",
            "\n",
            "Will train until valid-logloss hasn't improved in 100 rounds.\n",
            "[300]\ttrain-logloss:0.244434\tvalid-logloss:0.249903\n",
            "[600]\ttrain-logloss:0.220535\tvalid-logloss:0.229068\n",
            "[900]\ttrain-logloss:0.212778\tvalid-logloss:0.224142\n",
            "[1200]\ttrain-logloss:0.208055\tvalid-logloss:0.221789\n",
            "[1500]\ttrain-logloss:0.204539\tvalid-logloss:0.220402\n",
            "[1800]\ttrain-logloss:0.201547\tvalid-logloss:0.219536\n",
            "[2100]\ttrain-logloss:0.198894\tvalid-logloss:0.218888\n",
            "[2400]\ttrain-logloss:0.196454\tvalid-logloss:0.218462\n",
            "[2700]\ttrain-logloss:0.194258\tvalid-logloss:0.218113\n",
            "[3000]\ttrain-logloss:0.192188\tvalid-logloss:0.217826\n",
            "[3300]\ttrain-logloss:0.190204\tvalid-logloss:0.217583\n",
            "[3600]\ttrain-logloss:0.188324\tvalid-logloss:0.217425\n",
            "[3900]\ttrain-logloss:0.186424\tvalid-logloss:0.217295\n",
            "[4200]\ttrain-logloss:0.184636\tvalid-logloss:0.21716\n",
            "[4500]\ttrain-logloss:0.182799\tvalid-logloss:0.217069\n",
            "[4800]\ttrain-logloss:0.181091\tvalid-logloss:0.216989\n",
            "[5100]\ttrain-logloss:0.179429\tvalid-logloss:0.216948\n",
            "Stopping. Best iteration:\n",
            "[5065]\ttrain-logloss:0.179643\tvalid-logloss:0.216943\n",
            "\n"
          ]
        },
        {
          "metadata": {
            "tags": null
          },
          "name": "stderr",
          "output_type": "stream",
          "text": [
            "\u001b[32m[I 2022-08-09 11:24:44,087]\u001b[0m Trial 37 finished with value: 0.7951567553099019 and parameters: {'lambda': 0.010530525731668681, 'alpha': 5.084406663081186, 'colsample_bytree': 0.7, 'subsample': 0.9, 'learning_rate': 0.01, 'max_depth': 6, 'min_child_weight': 130}. Best is trial 37 with value: 0.7951567553099019.\u001b[0m\n"
          ]
        },
        {
          "metadata": {
            "tags": null
          },
          "name": "stdout",
          "output_type": "stream",
          "text": [
            "[0]\ttrain-logloss:0.686558\tvalid-logloss:0.686607\n",
            "Multiple eval metrics have been passed: 'valid-logloss' will be used for early stopping.\n",
            "\n",
            "Will train until valid-logloss hasn't improved in 100 rounds.\n",
            "[300]\ttrain-logloss:0.244763\tvalid-logloss:0.250155\n",
            "[600]\ttrain-logloss:0.2211\tvalid-logloss:0.229393\n",
            "[900]\ttrain-logloss:0.213714\tvalid-logloss:0.224603\n",
            "[1200]\ttrain-logloss:0.209361\tvalid-logloss:0.222281\n",
            "[1500]\ttrain-logloss:0.206085\tvalid-logloss:0.220891\n",
            "[1800]\ttrain-logloss:0.203412\tvalid-logloss:0.220015\n",
            "[2100]\ttrain-logloss:0.201092\tvalid-logloss:0.219416\n",
            "[2400]\ttrain-logloss:0.199008\tvalid-logloss:0.218985\n",
            "[2700]\ttrain-logloss:0.197108\tvalid-logloss:0.218661\n",
            "[3000]\ttrain-logloss:0.195287\tvalid-logloss:0.218396\n",
            "[3300]\ttrain-logloss:0.193533\tvalid-logloss:0.218191\n",
            "[3600]\ttrain-logloss:0.19192\tvalid-logloss:0.218016\n",
            "[3900]\ttrain-logloss:0.190303\tvalid-logloss:0.217885\n",
            "[4200]\ttrain-logloss:0.188739\tvalid-logloss:0.217767\n",
            "[4500]\ttrain-logloss:0.187194\tvalid-logloss:0.217661\n",
            "[4800]\ttrain-logloss:0.185712\tvalid-logloss:0.21759\n",
            "[5100]\ttrain-logloss:0.18429\tvalid-logloss:0.217519\n",
            "[5400]\ttrain-logloss:0.182878\tvalid-logloss:0.217452\n",
            "[5700]\ttrain-logloss:0.18147\tvalid-logloss:0.217407\n",
            "[6000]\ttrain-logloss:0.179968\tvalid-logloss:0.217367\n",
            "[6300]\ttrain-logloss:0.178655\tvalid-logloss:0.217352\n",
            "Stopping. Best iteration:\n",
            "[6489]\ttrain-logloss:0.177764\tvalid-logloss:0.21733\n",
            "\n"
          ]
        },
        {
          "metadata": {
            "tags": null
          },
          "name": "stderr",
          "output_type": "stream",
          "text": [
            "\u001b[32m[I 2022-08-09 11:39:29,689]\u001b[0m Trial 38 finished with value: 0.794200557928155 and parameters: {'lambda': 0.01964358412379126, 'alpha': 5.298515214940882, 'colsample_bytree': 0.7, 'subsample': 1.0, 'learning_rate': 0.01, 'max_depth': 6, 'min_child_weight': 192}. Best is trial 37 with value: 0.7951567553099019.\u001b[0m\n"
          ]
        },
        {
          "metadata": {
            "tags": null
          },
          "name": "stdout",
          "output_type": "stream",
          "text": [
            "[0]\ttrain-logloss:0.686649\tvalid-logloss:0.686697\n",
            "Multiple eval metrics have been passed: 'valid-logloss' will be used for early stopping.\n",
            "\n",
            "Will train until valid-logloss hasn't improved in 100 rounds.\n",
            "[300]\ttrain-logloss:0.249848\tvalid-logloss:0.25381\n",
            "[600]\ttrain-logloss:0.225151\tvalid-logloss:0.231403\n",
            "[900]\ttrain-logloss:0.217533\tvalid-logloss:0.225944\n",
            "[1200]\ttrain-logloss:0.212935\tvalid-logloss:0.223216\n",
            "[1500]\ttrain-logloss:0.20966\tvalid-logloss:0.221561\n",
            "[1800]\ttrain-logloss:0.206998\tvalid-logloss:0.220485\n",
            "[2100]\ttrain-logloss:0.204676\tvalid-logloss:0.219716\n",
            "[2400]\ttrain-logloss:0.202654\tvalid-logloss:0.219199\n",
            "[2700]\ttrain-logloss:0.200803\tvalid-logloss:0.218797\n",
            "[3000]\ttrain-logloss:0.199021\tvalid-logloss:0.218437\n",
            "[3300]\ttrain-logloss:0.197362\tvalid-logloss:0.218144\n",
            "[3600]\ttrain-logloss:0.195795\tvalid-logloss:0.217922\n",
            "[3900]\ttrain-logloss:0.194271\tvalid-logloss:0.217756\n",
            "[4200]\ttrain-logloss:0.192791\tvalid-logloss:0.217587\n",
            "[4500]\ttrain-logloss:0.191355\tvalid-logloss:0.217445\n",
            "[4800]\ttrain-logloss:0.189928\tvalid-logloss:0.217354\n",
            "[5100]\ttrain-logloss:0.188565\tvalid-logloss:0.217286\n",
            "[5400]\ttrain-logloss:0.187213\tvalid-logloss:0.217224\n",
            "[5700]\ttrain-logloss:0.185899\tvalid-logloss:0.217153\n",
            "[6000]\ttrain-logloss:0.184596\tvalid-logloss:0.217095\n",
            "[6300]\ttrain-logloss:0.183309\tvalid-logloss:0.217034\n",
            "[6600]\ttrain-logloss:0.182054\tvalid-logloss:0.217007\n",
            "[6900]\ttrain-logloss:0.180805\tvalid-logloss:0.216952\n",
            "[7200]\ttrain-logloss:0.17957\tvalid-logloss:0.216916\n",
            "Stopping. Best iteration:\n",
            "[7348]\ttrain-logloss:0.178983\tvalid-logloss:0.216903\n",
            "\n"
          ]
        },
        {
          "metadata": {
            "tags": null
          },
          "name": "stderr",
          "output_type": "stream",
          "text": [
            "\u001b[32m[I 2022-08-09 11:55:00,412]\u001b[0m Trial 39 finished with value: 0.7950105778969095 and parameters: {'lambda': 0.028297933187046313, 'alpha': 1.67113624243871, 'colsample_bytree': 0.7, 'subsample': 0.9, 'learning_rate': 0.01, 'max_depth': 5, 'min_child_weight': 130}. Best is trial 37 with value: 0.7951567553099019.\u001b[0m\n"
          ]
        },
        {
          "metadata": {
            "tags": null
          },
          "name": "stdout",
          "output_type": "stream",
          "text": [
            "[0]\ttrain-logloss:0.686649\tvalid-logloss:0.686697\n",
            "Multiple eval metrics have been passed: 'valid-logloss' will be used for early stopping.\n",
            "\n",
            "Will train until valid-logloss hasn't improved in 100 rounds.\n",
            "[300]\ttrain-logloss:0.249853\tvalid-logloss:0.253827\n",
            "[600]\ttrain-logloss:0.225183\tvalid-logloss:0.231431\n",
            "[900]\ttrain-logloss:0.21755\tvalid-logloss:0.225927\n",
            "[1200]\ttrain-logloss:0.212961\tvalid-logloss:0.223183\n",
            "[1500]\ttrain-logloss:0.209711\tvalid-logloss:0.22154\n",
            "[1800]\ttrain-logloss:0.207041\tvalid-logloss:0.220476\n",
            "[2100]\ttrain-logloss:0.204711\tvalid-logloss:0.219689\n",
            "[2400]\ttrain-logloss:0.202649\tvalid-logloss:0.219145\n",
            "[2700]\ttrain-logloss:0.200838\tvalid-logloss:0.218745\n",
            "[3000]\ttrain-logloss:0.199083\tvalid-logloss:0.218404\n",
            "[3300]\ttrain-logloss:0.197444\tvalid-logloss:0.218117\n",
            "[3600]\ttrain-logloss:0.195908\tvalid-logloss:0.217895\n",
            "[3900]\ttrain-logloss:0.194342\tvalid-logloss:0.217727\n",
            "[4200]\ttrain-logloss:0.192864\tvalid-logloss:0.217567\n",
            "[4500]\ttrain-logloss:0.191422\tvalid-logloss:0.217428\n",
            "[4800]\ttrain-logloss:0.189981\tvalid-logloss:0.217322\n",
            "[5100]\ttrain-logloss:0.188613\tvalid-logloss:0.217239\n",
            "[5400]\ttrain-logloss:0.187269\tvalid-logloss:0.217179\n",
            "[5700]\ttrain-logloss:0.185983\tvalid-logloss:0.217109\n",
            "[6000]\ttrain-logloss:0.184695\tvalid-logloss:0.217052\n",
            "[6300]\ttrain-logloss:0.183425\tvalid-logloss:0.216986\n",
            "[6600]\ttrain-logloss:0.182171\tvalid-logloss:0.216955\n",
            "Stopping. Best iteration:\n",
            "[6531]\ttrain-logloss:0.182463\tvalid-logloss:0.216944\n",
            "\n"
          ]
        },
        {
          "metadata": {
            "tags": null
          },
          "name": "stderr",
          "output_type": "stream",
          "text": [
            "\u001b[32m[I 2022-08-09 12:08:54,408]\u001b[0m Trial 40 finished with value: 0.7944530337580917 and parameters: {'lambda': 0.02752989524064995, 'alpha': 1.829552972966157, 'colsample_bytree': 0.7, 'subsample': 0.9, 'learning_rate': 0.01, 'max_depth': 5, 'min_child_weight': 129}. Best is trial 37 with value: 0.7951567553099019.\u001b[0m\n"
          ]
        },
        {
          "metadata": {
            "tags": null
          },
          "name": "stdout",
          "output_type": "stream",
          "text": [
            "[0]\ttrain-logloss:0.686564\tvalid-logloss:0.686616\n",
            "Multiple eval metrics have been passed: 'valid-logloss' will be used for early stopping.\n",
            "\n",
            "Will train until valid-logloss hasn't improved in 100 rounds.\n",
            "[300]\ttrain-logloss:0.244325\tvalid-logloss:0.249729\n",
            "[600]\ttrain-logloss:0.220441\tvalid-logloss:0.228874\n",
            "[900]\ttrain-logloss:0.212724\tvalid-logloss:0.223976\n",
            "[1200]\ttrain-logloss:0.208033\tvalid-logloss:0.221657\n",
            "[1500]\ttrain-logloss:0.204508\tvalid-logloss:0.220285\n",
            "[1800]\ttrain-logloss:0.201513\tvalid-logloss:0.219403\n",
            "[2100]\ttrain-logloss:0.198866\tvalid-logloss:0.218792\n",
            "[2400]\ttrain-logloss:0.196437\tvalid-logloss:0.218374\n",
            "[2700]\ttrain-logloss:0.194267\tvalid-logloss:0.218007\n",
            "[3000]\ttrain-logloss:0.192164\tvalid-logloss:0.217734\n",
            "[3300]\ttrain-logloss:0.190153\tvalid-logloss:0.217497\n",
            "[3600]\ttrain-logloss:0.188237\tvalid-logloss:0.217319\n",
            "[3900]\ttrain-logloss:0.186327\tvalid-logloss:0.217193\n",
            "[4200]\ttrain-logloss:0.184494\tvalid-logloss:0.217049\n",
            "[4500]\ttrain-logloss:0.182701\tvalid-logloss:0.216935\n",
            "[4800]\ttrain-logloss:0.180906\tvalid-logloss:0.216849\n",
            "[5100]\ttrain-logloss:0.179227\tvalid-logloss:0.216776\n",
            "[5400]\ttrain-logloss:0.177579\tvalid-logloss:0.21672\n",
            "[5700]\ttrain-logloss:0.175918\tvalid-logloss:0.216677\n",
            "[6000]\ttrain-logloss:0.174343\tvalid-logloss:0.216652\n",
            "[6300]\ttrain-logloss:0.172731\tvalid-logloss:0.216608\n",
            "[6600]\ttrain-logloss:0.171202\tvalid-logloss:0.216581\n",
            "Stopping. Best iteration:\n",
            "[6510]\ttrain-logloss:0.17166\tvalid-logloss:0.216575\n",
            "\n"
          ]
        },
        {
          "metadata": {
            "tags": null
          },
          "name": "stderr",
          "output_type": "stream",
          "text": [
            "\u001b[32m[I 2022-08-09 12:24:01,703]\u001b[0m Trial 41 finished with value: 0.794871393107947 and parameters: {'lambda': 0.01559249197404711, 'alpha': 3.723219194348222, 'colsample_bytree': 0.6, 'subsample': 0.9, 'learning_rate': 0.01, 'max_depth': 6, 'min_child_weight': 132}. Best is trial 37 with value: 0.7951567553099019.\u001b[0m\n"
          ]
        },
        {
          "metadata": {
            "tags": null
          },
          "name": "stdout",
          "output_type": "stream",
          "text": [
            "[0]\ttrain-logloss:0.686567\tvalid-logloss:0.686618\n",
            "Multiple eval metrics have been passed: 'valid-logloss' will be used for early stopping.\n",
            "\n",
            "Will train until valid-logloss hasn't improved in 100 rounds.\n",
            "[300]\ttrain-logloss:0.244595\tvalid-logloss:0.24987\n",
            "[600]\ttrain-logloss:0.220859\tvalid-logloss:0.229008\n",
            "[900]\ttrain-logloss:0.213327\tvalid-logloss:0.224147\n",
            "[1200]\ttrain-logloss:0.208777\tvalid-logloss:0.221843\n",
            "[1500]\ttrain-logloss:0.205327\tvalid-logloss:0.220442\n",
            "[1800]\ttrain-logloss:0.202462\tvalid-logloss:0.219543\n",
            "[2100]\ttrain-logloss:0.199962\tvalid-logloss:0.218924\n",
            "[2400]\ttrain-logloss:0.197638\tvalid-logloss:0.218489\n",
            "[2700]\ttrain-logloss:0.195566\tvalid-logloss:0.218142\n",
            "[3000]\ttrain-logloss:0.193559\tvalid-logloss:0.217862\n",
            "[3300]\ttrain-logloss:0.191641\tvalid-logloss:0.217637\n",
            "[3600]\ttrain-logloss:0.189791\tvalid-logloss:0.217463\n",
            "[3900]\ttrain-logloss:0.187953\tvalid-logloss:0.217331\n",
            "[4200]\ttrain-logloss:0.186187\tvalid-logloss:0.217187\n",
            "[4500]\ttrain-logloss:0.184453\tvalid-logloss:0.217073\n",
            "[4800]\ttrain-logloss:0.182769\tvalid-logloss:0.216994\n",
            "[5100]\ttrain-logloss:0.181174\tvalid-logloss:0.216918\n",
            "[5400]\ttrain-logloss:0.179559\tvalid-logloss:0.216878\n",
            "[5700]\ttrain-logloss:0.177966\tvalid-logloss:0.216823\n",
            "[6000]\ttrain-logloss:0.176481\tvalid-logloss:0.216784\n",
            "Stopping. Best iteration:\n",
            "[5915]\ttrain-logloss:0.176928\tvalid-logloss:0.216778\n",
            "\n"
          ]
        },
        {
          "metadata": {
            "tags": null
          },
          "name": "stderr",
          "output_type": "stream",
          "text": [
            "\u001b[32m[I 2022-08-09 12:37:54,210]\u001b[0m Trial 42 finished with value: 0.795203435102733 and parameters: {'lambda': 0.01251474971518383, 'alpha': 3.613297683666081, 'colsample_bytree': 0.6, 'subsample': 0.9, 'learning_rate': 0.01, 'max_depth': 6, 'min_child_weight': 156}. Best is trial 42 with value: 0.795203435102733.\u001b[0m\n"
          ]
        },
        {
          "metadata": {
            "tags": null
          },
          "name": "stdout",
          "output_type": "stream",
          "text": [
            "[0]\ttrain-logloss:0.686645\tvalid-logloss:0.686695\n",
            "Multiple eval metrics have been passed: 'valid-logloss' will be used for early stopping.\n",
            "\n",
            "Will train until valid-logloss hasn't improved in 100 rounds.\n",
            "[300]\ttrain-logloss:0.249796\tvalid-logloss:0.253862\n",
            "[600]\ttrain-logloss:0.225065\tvalid-logloss:0.231483\n",
            "[900]\ttrain-logloss:0.21756\tvalid-logloss:0.226065\n",
            "[1200]\ttrain-logloss:0.213216\tvalid-logloss:0.223452\n",
            "[1500]\ttrain-logloss:0.210062\tvalid-logloss:0.221834\n",
            "[1800]\ttrain-logloss:0.207581\tvalid-logloss:0.220826\n",
            "[2100]\ttrain-logloss:0.205439\tvalid-logloss:0.22013\n",
            "[2400]\ttrain-logloss:0.203563\tvalid-logloss:0.21961\n",
            "[2700]\ttrain-logloss:0.201822\tvalid-logloss:0.219207\n",
            "[3000]\ttrain-logloss:0.200224\tvalid-logloss:0.218885\n",
            "[3300]\ttrain-logloss:0.198657\tvalid-logloss:0.218635\n",
            "[3600]\ttrain-logloss:0.197153\tvalid-logloss:0.218422\n",
            "[3900]\ttrain-logloss:0.195725\tvalid-logloss:0.218244\n",
            "[4200]\ttrain-logloss:0.19439\tvalid-logloss:0.218111\n",
            "[4500]\ttrain-logloss:0.193089\tvalid-logloss:0.217956\n",
            "[4800]\ttrain-logloss:0.19181\tvalid-logloss:0.217863\n",
            "[5100]\ttrain-logloss:0.190491\tvalid-logloss:0.217756\n",
            "[5400]\ttrain-logloss:0.189317\tvalid-logloss:0.217692\n",
            "[5700]\ttrain-logloss:0.188156\tvalid-logloss:0.217624\n",
            "[6000]\ttrain-logloss:0.186912\tvalid-logloss:0.217571\n",
            "[6300]\ttrain-logloss:0.185729\tvalid-logloss:0.217522\n",
            "[6600]\ttrain-logloss:0.184583\tvalid-logloss:0.217481\n",
            "[6900]\ttrain-logloss:0.183465\tvalid-logloss:0.217458\n",
            "Stopping. Best iteration:\n",
            "[6843]\ttrain-logloss:0.183671\tvalid-logloss:0.217453\n",
            "\n"
          ]
        },
        {
          "metadata": {
            "tags": null
          },
          "name": "stderr",
          "output_type": "stream",
          "text": [
            "\u001b[32m[I 2022-08-09 12:52:04,414]\u001b[0m Trial 43 finished with value: 0.7939492400925063 and parameters: {'lambda': 0.012021641938113368, 'alpha': 1.9527803184588166, 'colsample_bytree': 0.7, 'subsample': 1.0, 'learning_rate': 0.01, 'max_depth': 5, 'min_child_weight': 156}. Best is trial 42 with value: 0.795203435102733.\u001b[0m\n"
          ]
        },
        {
          "metadata": {
            "tags": null
          },
          "name": "stdout",
          "output_type": "stream",
          "text": [
            "[0]\ttrain-logloss:0.686575\tvalid-logloss:0.686627\n",
            "Multiple eval metrics have been passed: 'valid-logloss' will be used for early stopping.\n",
            "\n",
            "Will train until valid-logloss hasn't improved in 100 rounds.\n",
            "[300]\ttrain-logloss:0.244964\tvalid-logloss:0.250163\n",
            "[600]\ttrain-logloss:0.221306\tvalid-logloss:0.229249\n",
            "[900]\ttrain-logloss:0.213901\tvalid-logloss:0.224354\n",
            "[1200]\ttrain-logloss:0.209424\tvalid-logloss:0.222017\n",
            "[1500]\ttrain-logloss:0.206104\tvalid-logloss:0.22061\n",
            "[1800]\ttrain-logloss:0.203373\tvalid-logloss:0.219718\n",
            "[2100]\ttrain-logloss:0.200916\tvalid-logloss:0.219067\n",
            "[2400]\ttrain-logloss:0.198703\tvalid-logloss:0.218619\n",
            "[2700]\ttrain-logloss:0.196701\tvalid-logloss:0.21827\n",
            "[3000]\ttrain-logloss:0.194805\tvalid-logloss:0.217999\n",
            "[3300]\ttrain-logloss:0.192954\tvalid-logloss:0.217763\n",
            "[3600]\ttrain-logloss:0.191207\tvalid-logloss:0.217563\n",
            "[3900]\ttrain-logloss:0.1895\tvalid-logloss:0.217416\n",
            "[4200]\ttrain-logloss:0.187835\tvalid-logloss:0.217273\n",
            "[4500]\ttrain-logloss:0.18615\tvalid-logloss:0.217129\n",
            "[4800]\ttrain-logloss:0.184515\tvalid-logloss:0.217027\n",
            "[5100]\ttrain-logloss:0.182994\tvalid-logloss:0.216962\n",
            "[5400]\ttrain-logloss:0.181442\tvalid-logloss:0.216907\n",
            "[5700]\ttrain-logloss:0.179948\tvalid-logloss:0.216866\n",
            "[6000]\ttrain-logloss:0.178516\tvalid-logloss:0.216835\n",
            "[6300]\ttrain-logloss:0.177047\tvalid-logloss:0.216785\n",
            "[6600]\ttrain-logloss:0.175604\tvalid-logloss:0.216756\n",
            "Stopping. Best iteration:\n",
            "[6508]\ttrain-logloss:0.176039\tvalid-logloss:0.216748\n",
            "\n"
          ]
        },
        {
          "metadata": {
            "tags": null
          },
          "name": "stderr",
          "output_type": "stream",
          "text": [
            "\u001b[32m[I 2022-08-09 13:07:14,142]\u001b[0m Trial 44 finished with value: 0.7950119857208686 and parameters: {'lambda': 0.04247137060747983, 'alpha': 6.267175530638724, 'colsample_bytree': 0.6, 'subsample': 0.9, 'learning_rate': 0.01, 'max_depth': 6, 'min_child_weight': 169}. Best is trial 42 with value: 0.795203435102733.\u001b[0m\n"
          ]
        },
        {
          "metadata": {
            "tags": null
          },
          "name": "stdout",
          "output_type": "stream",
          "text": [
            "[0]\ttrain-logloss:0.680063\tvalid-logloss:0.680163\n",
            "Multiple eval metrics have been passed: 'valid-logloss' will be used for early stopping.\n",
            "\n",
            "Will train until valid-logloss hasn't improved in 100 rounds.\n",
            "[300]\ttrain-logloss:0.221533\tvalid-logloss:0.229394\n",
            "[600]\ttrain-logloss:0.209905\tvalid-logloss:0.222145\n",
            "[900]\ttrain-logloss:0.203868\tvalid-logloss:0.219823\n",
            "[1200]\ttrain-logloss:0.199298\tvalid-logloss:0.218752\n",
            "[1500]\ttrain-logloss:0.195436\tvalid-logloss:0.218151\n",
            "[1800]\ttrain-logloss:0.191844\tvalid-logloss:0.217734\n",
            "[2100]\ttrain-logloss:0.188562\tvalid-logloss:0.217472\n",
            "[2400]\ttrain-logloss:0.185263\tvalid-logloss:0.217293\n",
            "[2700]\ttrain-logloss:0.182248\tvalid-logloss:0.217155\n",
            "[3000]\ttrain-logloss:0.179398\tvalid-logloss:0.217045\n",
            "[3300]\ttrain-logloss:0.176591\tvalid-logloss:0.216931\n",
            "[3600]\ttrain-logloss:0.173896\tvalid-logloss:0.216893\n",
            "Stopping. Best iteration:\n",
            "[3683]\ttrain-logloss:0.173123\tvalid-logloss:0.216872\n",
            "\n"
          ]
        },
        {
          "metadata": {
            "tags": null
          },
          "name": "stderr",
          "output_type": "stream",
          "text": [
            "\u001b[32m[I 2022-08-09 13:16:03,680]\u001b[0m Trial 45 finished with value: 0.795127832782427 and parameters: {'lambda': 0.05032841083401774, 'alpha': 3.191240170467385, 'colsample_bytree': 0.6, 'subsample': 0.9, 'learning_rate': 0.02, 'max_depth': 6, 'min_child_weight': 199}. Best is trial 42 with value: 0.795203435102733.\u001b[0m\n"
          ]
        },
        {
          "metadata": {
            "tags": null
          },
          "name": "stdout",
          "output_type": "stream",
          "text": [
            "[0]\ttrain-logloss:0.676795\tvalid-logloss:0.676915\n",
            "Multiple eval metrics have been passed: 'valid-logloss' will be used for early stopping.\n",
            "\n",
            "Will train until valid-logloss hasn't improved in 100 rounds.\n",
            "[300]\ttrain-logloss:0.217099\tvalid-logloss:0.22645\n",
            "[600]\ttrain-logloss:0.206628\tvalid-logloss:0.220836\n",
            "[900]\ttrain-logloss:0.200687\tvalid-logloss:0.219158\n",
            "[1200]\ttrain-logloss:0.196043\tvalid-logloss:0.218444\n",
            "[1500]\ttrain-logloss:0.191945\tvalid-logloss:0.217981\n",
            "[1800]\ttrain-logloss:0.188253\tvalid-logloss:0.217699\n",
            "[2100]\ttrain-logloss:0.184855\tvalid-logloss:0.217507\n",
            "[2400]\ttrain-logloss:0.181542\tvalid-logloss:0.217451\n",
            "Stopping. Best iteration:\n",
            "[2320]\ttrain-logloss:0.182418\tvalid-logloss:0.217431\n",
            "\n"
          ]
        },
        {
          "metadata": {
            "tags": null
          },
          "name": "stderr",
          "output_type": "stream",
          "text": [
            "\u001b[32m[I 2022-08-09 13:21:44,427]\u001b[0m Trial 46 finished with value: 0.793638418112431 and parameters: {'lambda': 0.056618489016309205, 'alpha': 2.986818274572399, 'colsample_bytree': 0.6, 'subsample': 1.0, 'learning_rate': 0.025, 'max_depth': 6, 'min_child_weight': 219}. Best is trial 42 with value: 0.795203435102733.\u001b[0m\n"
          ]
        },
        {
          "metadata": {
            "tags": null
          },
          "name": "stdout",
          "output_type": "stream",
          "text": [
            "[0]\ttrain-logloss:0.680074\tvalid-logloss:0.680175\n",
            "Multiple eval metrics have been passed: 'valid-logloss' will be used for early stopping.\n",
            "\n",
            "Will train until valid-logloss hasn't improved in 100 rounds.\n",
            "[300]\ttrain-logloss:0.221784\tvalid-logloss:0.229581\n",
            "[600]\ttrain-logloss:0.210213\tvalid-logloss:0.222285\n",
            "[900]\ttrain-logloss:0.204342\tvalid-logloss:0.219938\n",
            "[1200]\ttrain-logloss:0.199952\tvalid-logloss:0.218842\n",
            "[1500]\ttrain-logloss:0.196088\tvalid-logloss:0.218272\n",
            "[1800]\ttrain-logloss:0.192682\tvalid-logloss:0.217844\n",
            "[2100]\ttrain-logloss:0.189537\tvalid-logloss:0.217592\n",
            "[2400]\ttrain-logloss:0.186403\tvalid-logloss:0.21741\n",
            "[2700]\ttrain-logloss:0.183411\tvalid-logloss:0.217276\n",
            "[3000]\ttrain-logloss:0.180646\tvalid-logloss:0.217152\n",
            "[3300]\ttrain-logloss:0.177941\tvalid-logloss:0.217043\n",
            "Stopping. Best iteration:\n",
            "[3390]\ttrain-logloss:0.177089\tvalid-logloss:0.217004\n",
            "\n"
          ]
        },
        {
          "metadata": {
            "tags": null
          },
          "name": "stderr",
          "output_type": "stream",
          "text": [
            "\u001b[32m[I 2022-08-09 13:29:58,736]\u001b[0m Trial 47 finished with value: 0.7944540481219848 and parameters: {'lambda': 0.23543345777104288, 'alpha': 6.399731786028635, 'colsample_bytree': 0.6, 'subsample': 0.9, 'learning_rate': 0.02, 'max_depth': 6, 'min_child_weight': 201}. Best is trial 42 with value: 0.795203435102733.\u001b[0m\n"
          ]
        },
        {
          "metadata": {
            "tags": null
          },
          "name": "stdout",
          "output_type": "stream",
          "text": [
            "[0]\ttrain-logloss:0.680059\tvalid-logloss:0.680166\n",
            "Multiple eval metrics have been passed: 'valid-logloss' will be used for early stopping.\n",
            "\n",
            "Will train until valid-logloss hasn't improved in 100 rounds.\n",
            "[300]\ttrain-logloss:0.221186\tvalid-logloss:0.229111\n",
            "[600]\ttrain-logloss:0.209304\tvalid-logloss:0.221919\n",
            "[900]\ttrain-logloss:0.203124\tvalid-logloss:0.219658\n",
            "[1200]\ttrain-logloss:0.198389\tvalid-logloss:0.218592\n",
            "[1500]\ttrain-logloss:0.194303\tvalid-logloss:0.218003\n",
            "[1800]\ttrain-logloss:0.190633\tvalid-logloss:0.217617\n",
            "[2100]\ttrain-logloss:0.187197\tvalid-logloss:0.217345\n",
            "[2400]\ttrain-logloss:0.183778\tvalid-logloss:0.217123\n",
            "[2700]\ttrain-logloss:0.180575\tvalid-logloss:0.216969\n",
            "[3000]\ttrain-logloss:0.177546\tvalid-logloss:0.216915\n",
            "[3300]\ttrain-logloss:0.174624\tvalid-logloss:0.216794\n",
            "Stopping. Best iteration:\n",
            "[3464]\ttrain-logloss:0.173034\tvalid-logloss:0.216745\n",
            "\n"
          ]
        },
        {
          "metadata": {
            "tags": null
          },
          "name": "stderr",
          "output_type": "stream",
          "text": [
            "\u001b[32m[I 2022-08-09 13:38:17,901]\u001b[0m Trial 48 finished with value: 0.7948025252430446 and parameters: {'lambda': 0.004714095784023499, 'alpha': 3.573919518478277, 'colsample_bytree': 0.5, 'subsample': 0.9, 'learning_rate': 0.02, 'max_depth': 6, 'min_child_weight': 164}. Best is trial 42 with value: 0.795203435102733.\u001b[0m\n"
          ]
        },
        {
          "metadata": {
            "tags": null
          },
          "name": "stdout",
          "output_type": "stream",
          "text": [
            "[0]\ttrain-logloss:0.683299\tvalid-logloss:0.683376\n",
            "Multiple eval metrics have been passed: 'valid-logloss' will be used for early stopping.\n",
            "\n",
            "Will train until valid-logloss hasn't improved in 100 rounds.\n",
            "[300]\ttrain-logloss:0.228052\tvalid-logloss:0.234674\n",
            "[600]\ttrain-logloss:0.213414\tvalid-logloss:0.224185\n",
            "[900]\ttrain-logloss:0.206976\tvalid-logloss:0.221031\n",
            "[1200]\ttrain-logloss:0.202458\tvalid-logloss:0.219563\n",
            "[1500]\ttrain-logloss:0.198722\tvalid-logloss:0.218777\n",
            "[1800]\ttrain-logloss:0.195383\tvalid-logloss:0.218255\n",
            "[2100]\ttrain-logloss:0.192449\tvalid-logloss:0.217861\n",
            "[2400]\ttrain-logloss:0.189612\tvalid-logloss:0.217605\n",
            "[2700]\ttrain-logloss:0.186768\tvalid-logloss:0.217437\n",
            "[3000]\ttrain-logloss:0.184217\tvalid-logloss:0.217262\n",
            "[3300]\ttrain-logloss:0.181707\tvalid-logloss:0.217132\n",
            "[3600]\ttrain-logloss:0.179272\tvalid-logloss:0.217017\n",
            "[3900]\ttrain-logloss:0.176764\tvalid-logloss:0.216945\n",
            "[4200]\ttrain-logloss:0.174398\tvalid-logloss:0.216909\n",
            "[4500]\ttrain-logloss:0.172172\tvalid-logloss:0.216871\n",
            "Stopping. Best iteration:\n",
            "[4504]\ttrain-logloss:0.172147\tvalid-logloss:0.216868\n",
            "\n"
          ]
        },
        {
          "metadata": {
            "tags": null
          },
          "name": "stderr",
          "output_type": "stream",
          "text": [
            "\u001b[32m[I 2022-08-09 13:48:56,758]\u001b[0m Trial 49 finished with value: 0.7951798497564824 and parameters: {'lambda': 0.019015051862562575, 'alpha': 0.02689363345436997, 'colsample_bytree': 0.6, 'subsample': 0.9, 'learning_rate': 0.015, 'max_depth': 6, 'min_child_weight': 169}. Best is trial 42 with value: 0.795203435102733.\u001b[0m\n"
          ]
        },
        {
          "metadata": {
            "tags": null
          },
          "name": "stdout",
          "output_type": "stream",
          "text": [
            "[0]\ttrain-logloss:0.683596\tvalid-logloss:0.68366\n",
            "Multiple eval metrics have been passed: 'valid-logloss' will be used for early stopping.\n",
            "\n",
            "Will train until valid-logloss hasn't improved in 100 rounds.\n",
            "[300]\ttrain-logloss:0.238305\tvalid-logloss:0.241777\n",
            "[600]\ttrain-logloss:0.222856\tvalid-logloss:0.228612\n",
            "[900]\ttrain-logloss:0.216822\tvalid-logloss:0.224373\n",
            "[1200]\ttrain-logloss:0.213101\tvalid-logloss:0.222205\n",
            "[1500]\ttrain-logloss:0.210436\tvalid-logloss:0.220984\n",
            "[1800]\ttrain-logloss:0.208249\tvalid-logloss:0.22015\n",
            "[2100]\ttrain-logloss:0.206328\tvalid-logloss:0.219546\n",
            "[2400]\ttrain-logloss:0.204581\tvalid-logloss:0.219081\n",
            "[2700]\ttrain-logloss:0.202992\tvalid-logloss:0.218719\n",
            "[3000]\ttrain-logloss:0.201488\tvalid-logloss:0.218434\n",
            "[3300]\ttrain-logloss:0.199987\tvalid-logloss:0.218225\n",
            "[3600]\ttrain-logloss:0.19856\tvalid-logloss:0.218014\n",
            "[3900]\ttrain-logloss:0.197223\tvalid-logloss:0.217878\n",
            "[4200]\ttrain-logloss:0.195887\tvalid-logloss:0.217772\n",
            "[4500]\ttrain-logloss:0.194629\tvalid-logloss:0.217689\n",
            "[4800]\ttrain-logloss:0.193413\tvalid-logloss:0.217619\n",
            "[5100]\ttrain-logloss:0.192246\tvalid-logloss:0.217558\n",
            "[5400]\ttrain-logloss:0.191038\tvalid-logloss:0.217498\n",
            "[5700]\ttrain-logloss:0.189834\tvalid-logloss:0.217453\n",
            "[6000]\ttrain-logloss:0.188679\tvalid-logloss:0.217392\n",
            "Stopping. Best iteration:\n",
            "[6112]\ttrain-logloss:0.18824\tvalid-logloss:0.217376\n",
            "\n"
          ]
        },
        {
          "metadata": {
            "tags": null
          },
          "name": "stderr",
          "output_type": "stream",
          "text": [
            "\u001b[32m[I 2022-08-09 14:00:25,805]\u001b[0m Trial 50 finished with value: 0.7932393243679554 and parameters: {'lambda': 0.01084388345184803, 'alpha': 0.007722546661105565, 'colsample_bytree': 0.6, 'subsample': 1.0, 'learning_rate': 0.015, 'max_depth': 4, 'min_child_weight': 149}. Best is trial 42 with value: 0.795203435102733.\u001b[0m\n"
          ]
        },
        {
          "metadata": {
            "tags": null
          },
          "name": "stdout",
          "output_type": "stream",
          "text": [
            "[0]\ttrain-logloss:0.686566\tvalid-logloss:0.686618\n",
            "Multiple eval metrics have been passed: 'valid-logloss' will be used for early stopping.\n",
            "\n",
            "Will train until valid-logloss hasn't improved in 100 rounds.\n",
            "[300]\ttrain-logloss:0.244607\tvalid-logloss:0.249805\n",
            "[600]\ttrain-logloss:0.221023\tvalid-logloss:0.229027\n",
            "[900]\ttrain-logloss:0.213588\tvalid-logloss:0.224158\n",
            "[1200]\ttrain-logloss:0.209028\tvalid-logloss:0.221801\n",
            "[1500]\ttrain-logloss:0.205605\tvalid-logloss:0.220427\n",
            "[1800]\ttrain-logloss:0.202701\tvalid-logloss:0.219543\n",
            "[2100]\ttrain-logloss:0.200174\tvalid-logloss:0.218913\n",
            "[2400]\ttrain-logloss:0.197849\tvalid-logloss:0.21847\n",
            "[2700]\ttrain-logloss:0.195791\tvalid-logloss:0.218142\n",
            "[3000]\ttrain-logloss:0.193765\tvalid-logloss:0.217872\n",
            "[3300]\ttrain-logloss:0.191836\tvalid-logloss:0.217621\n",
            "[3600]\ttrain-logloss:0.190025\tvalid-logloss:0.217442\n",
            "[3900]\ttrain-logloss:0.188226\tvalid-logloss:0.217313\n",
            "[4200]\ttrain-logloss:0.186512\tvalid-logloss:0.21718\n",
            "[4500]\ttrain-logloss:0.184744\tvalid-logloss:0.217051\n",
            "[4800]\ttrain-logloss:0.182996\tvalid-logloss:0.216976\n",
            "[5100]\ttrain-logloss:0.181349\tvalid-logloss:0.2169\n",
            "[5400]\ttrain-logloss:0.17979\tvalid-logloss:0.216836\n",
            "[5700]\ttrain-logloss:0.178163\tvalid-logloss:0.216803\n",
            "[6000]\ttrain-logloss:0.176631\tvalid-logloss:0.216783\n",
            "Stopping. Best iteration:\n",
            "[5921]\ttrain-logloss:0.177043\tvalid-logloss:0.216776\n",
            "\n"
          ]
        },
        {
          "metadata": {
            "tags": null
          },
          "name": "stderr",
          "output_type": "stream",
          "text": [
            "\u001b[32m[I 2022-08-09 14:14:16,975]\u001b[0m Trial 51 finished with value: 0.795004024825165 and parameters: {'lambda': 0.017612312591615723, 'alpha': 0.02353745132298285, 'colsample_bytree': 0.6, 'subsample': 0.9, 'learning_rate': 0.01, 'max_depth': 6, 'min_child_weight': 178}. Best is trial 42 with value: 0.795203435102733.\u001b[0m\n"
          ]
        },
        {
          "metadata": {
            "tags": null
          },
          "name": "stdout",
          "output_type": "stream",
          "text": [
            "[0]\ttrain-logloss:0.683304\tvalid-logloss:0.683382\n",
            "Multiple eval metrics have been passed: 'valid-logloss' will be used for early stopping.\n",
            "\n",
            "Will train until valid-logloss hasn't improved in 100 rounds.\n",
            "[300]\ttrain-logloss:0.228323\tvalid-logloss:0.23471\n",
            "[600]\ttrain-logloss:0.213936\tvalid-logloss:0.224217\n",
            "[900]\ttrain-logloss:0.207674\tvalid-logloss:0.221087\n",
            "[1200]\ttrain-logloss:0.203311\tvalid-logloss:0.219627\n",
            "[1500]\ttrain-logloss:0.199735\tvalid-logloss:0.218803\n",
            "[1800]\ttrain-logloss:0.196603\tvalid-logloss:0.218239\n",
            "[2100]\ttrain-logloss:0.193641\tvalid-logloss:0.217827\n",
            "[2400]\ttrain-logloss:0.190894\tvalid-logloss:0.217572\n",
            "[2700]\ttrain-logloss:0.1883\tvalid-logloss:0.217379\n",
            "[3000]\ttrain-logloss:0.185879\tvalid-logloss:0.217234\n",
            "[3300]\ttrain-logloss:0.183453\tvalid-logloss:0.217119\n",
            "[3600]\ttrain-logloss:0.181141\tvalid-logloss:0.217015\n",
            "[3900]\ttrain-logloss:0.178849\tvalid-logloss:0.216946\n",
            "[4200]\ttrain-logloss:0.176614\tvalid-logloss:0.216873\n",
            "[4500]\ttrain-logloss:0.174421\tvalid-logloss:0.216825\n",
            "Stopping. Best iteration:\n",
            "[4534]\ttrain-logloss:0.174162\tvalid-logloss:0.216811\n",
            "\n"
          ]
        },
        {
          "metadata": {
            "tags": null
          },
          "name": "stderr",
          "output_type": "stream",
          "text": [
            "\u001b[32m[I 2022-08-09 14:25:00,459]\u001b[0m Trial 52 finished with value: 0.7946741005754815 and parameters: {'lambda': 0.022027847353860285, 'alpha': 0.030223859033026816, 'colsample_bytree': 0.5, 'subsample': 0.9, 'learning_rate': 0.015, 'max_depth': 6, 'min_child_weight': 191}. Best is trial 42 with value: 0.795203435102733.\u001b[0m\n"
          ]
        },
        {
          "metadata": {
            "tags": null
          },
          "name": "stdout",
          "output_type": "stream",
          "text": [
            "[0]\ttrain-logloss:0.686559\tvalid-logloss:0.686611\n",
            "Multiple eval metrics have been passed: 'valid-logloss' will be used for early stopping.\n",
            "\n",
            "Will train until valid-logloss hasn't improved in 100 rounds.\n",
            "[300]\ttrain-logloss:0.244155\tvalid-logloss:0.249556\n",
            "[600]\ttrain-logloss:0.220303\tvalid-logloss:0.228731\n",
            "[900]\ttrain-logloss:0.212666\tvalid-logloss:0.223899\n",
            "[1200]\ttrain-logloss:0.207912\tvalid-logloss:0.221593\n",
            "[1500]\ttrain-logloss:0.204374\tvalid-logloss:0.220243\n",
            "[1800]\ttrain-logloss:0.201343\tvalid-logloss:0.219356\n",
            "[2100]\ttrain-logloss:0.19869\tvalid-logloss:0.218718\n",
            "[2400]\ttrain-logloss:0.19627\tvalid-logloss:0.218318\n",
            "[2700]\ttrain-logloss:0.194028\tvalid-logloss:0.21799\n",
            "[3000]\ttrain-logloss:0.19191\tvalid-logloss:0.217721\n",
            "[3300]\ttrain-logloss:0.189877\tvalid-logloss:0.2175\n",
            "[3600]\ttrain-logloss:0.187937\tvalid-logloss:0.217314\n",
            "[3900]\ttrain-logloss:0.186018\tvalid-logloss:0.217189\n",
            "[4200]\ttrain-logloss:0.184144\tvalid-logloss:0.217034\n",
            "[4500]\ttrain-logloss:0.182246\tvalid-logloss:0.216915\n",
            "[4800]\ttrain-logloss:0.180409\tvalid-logloss:0.216845\n",
            "[5100]\ttrain-logloss:0.178657\tvalid-logloss:0.216774\n",
            "[5400]\ttrain-logloss:0.176896\tvalid-logloss:0.216718\n",
            "[5700]\ttrain-logloss:0.175233\tvalid-logloss:0.21667\n",
            "[6000]\ttrain-logloss:0.173651\tvalid-logloss:0.216642\n",
            "[6300]\ttrain-logloss:0.172001\tvalid-logloss:0.216607\n",
            "[6600]\ttrain-logloss:0.170396\tvalid-logloss:0.21659\n",
            "Stopping. Best iteration:\n",
            "[6591]\ttrain-logloss:0.170454\tvalid-logloss:0.216587\n",
            "\n"
          ]
        },
        {
          "metadata": {
            "tags": null
          },
          "name": "stderr",
          "output_type": "stream",
          "text": [
            "\u001b[32m[I 2022-08-09 14:40:15,188]\u001b[0m Trial 53 finished with value: 0.7954051361205287 and parameters: {'lambda': 0.05366641495011978, 'alpha': 0.09229784823357295, 'colsample_bytree': 0.6, 'subsample': 0.9, 'learning_rate': 0.01, 'max_depth': 6, 'min_child_weight': 142}. Best is trial 53 with value: 0.7954051361205287.\u001b[0m\n"
          ]
        },
        {
          "metadata": {
            "tags": null
          },
          "name": "stdout",
          "output_type": "stream",
          "text": [
            "[0]\ttrain-logloss:0.683292\tvalid-logloss:0.683371\n",
            "Multiple eval metrics have been passed: 'valid-logloss' will be used for early stopping.\n",
            "\n",
            "Will train until valid-logloss hasn't improved in 100 rounds.\n",
            "[300]\ttrain-logloss:0.227674\tvalid-logloss:0.234396\n",
            "[600]\ttrain-logloss:0.212869\tvalid-logloss:0.223904\n",
            "[900]\ttrain-logloss:0.206383\tvalid-logloss:0.220862\n",
            "[1200]\ttrain-logloss:0.201729\tvalid-logloss:0.219401\n",
            "[1500]\ttrain-logloss:0.197939\tvalid-logloss:0.218582\n",
            "[1800]\ttrain-logloss:0.194463\tvalid-logloss:0.218055\n",
            "[2100]\ttrain-logloss:0.191417\tvalid-logloss:0.217675\n",
            "[2400]\ttrain-logloss:0.188482\tvalid-logloss:0.2174\n",
            "[2700]\ttrain-logloss:0.185618\tvalid-logloss:0.217191\n",
            "[3000]\ttrain-logloss:0.182941\tvalid-logloss:0.217027\n",
            "[3300]\ttrain-logloss:0.180336\tvalid-logloss:0.216897\n",
            "[3600]\ttrain-logloss:0.177845\tvalid-logloss:0.216824\n",
            "Stopping. Best iteration:\n",
            "[3521]\ttrain-logloss:0.17845\tvalid-logloss:0.21682\n",
            "\n"
          ]
        },
        {
          "metadata": {
            "tags": null
          },
          "name": "stderr",
          "output_type": "stream",
          "text": [
            "\u001b[32m[I 2022-08-09 14:48:47,567]\u001b[0m Trial 54 finished with value: 0.794506793064778 and parameters: {'lambda': 0.08849433139422337, 'alpha': 0.07200964666593195, 'colsample_bytree': 0.5, 'subsample': 0.9, 'learning_rate': 0.015, 'max_depth': 6, 'min_child_weight': 146}. Best is trial 53 with value: 0.7954051361205287.\u001b[0m\n"
          ]
        },
        {
          "metadata": {
            "tags": null
          },
          "name": "stdout",
          "output_type": "stream",
          "text": [
            "[0]\ttrain-logloss:0.680209\tvalid-logloss:0.680299\n",
            "Multiple eval metrics have been passed: 'valid-logloss' will be used for early stopping.\n",
            "\n",
            "Will train until valid-logloss hasn't improved in 100 rounds.\n",
            "[300]\ttrain-logloss:0.225672\tvalid-logloss:0.231787\n",
            "[600]\ttrain-logloss:0.214283\tvalid-logloss:0.223755\n",
            "[900]\ttrain-logloss:0.208938\tvalid-logloss:0.221026\n",
            "[1200]\ttrain-logloss:0.205144\tvalid-logloss:0.21972\n",
            "[1500]\ttrain-logloss:0.202086\tvalid-logloss:0.21899\n",
            "[1800]\ttrain-logloss:0.199285\tvalid-logloss:0.218471\n",
            "[2100]\ttrain-logloss:0.196854\tvalid-logloss:0.218184\n",
            "[2400]\ttrain-logloss:0.194439\tvalid-logloss:0.217965\n",
            "[2700]\ttrain-logloss:0.192194\tvalid-logloss:0.217833\n",
            "[3000]\ttrain-logloss:0.19007\tvalid-logloss:0.217657\n",
            "[3300]\ttrain-logloss:0.188007\tvalid-logloss:0.217558\n",
            "[3600]\ttrain-logloss:0.186001\tvalid-logloss:0.217494\n",
            "Stopping. Best iteration:\n",
            "[3758]\ttrain-logloss:0.184968\tvalid-logloss:0.217441\n",
            "\n"
          ]
        },
        {
          "metadata": {
            "tags": null
          },
          "name": "stderr",
          "output_type": "stream",
          "text": [
            "\u001b[32m[I 2022-08-09 14:56:49,465]\u001b[0m Trial 55 finished with value: 0.7940284504424309 and parameters: {'lambda': 0.013477556098201778, 'alpha': 0.04618349056686201, 'colsample_bytree': 0.6, 'subsample': 1.0, 'learning_rate': 0.02, 'max_depth': 5, 'min_child_weight': 239}. Best is trial 53 with value: 0.7954051361205287.\u001b[0m\n"
          ]
        },
        {
          "metadata": {
            "tags": null
          },
          "name": "stdout",
          "output_type": "stream",
          "text": [
            "[0]\ttrain-logloss:0.686559\tvalid-logloss:0.686612\n",
            "Multiple eval metrics have been passed: 'valid-logloss' will be used for early stopping.\n",
            "\n",
            "Will train until valid-logloss hasn't improved in 100 rounds.\n",
            "[300]\ttrain-logloss:0.244162\tvalid-logloss:0.249645\n",
            "[600]\ttrain-logloss:0.220279\tvalid-logloss:0.22891\n",
            "[900]\ttrain-logloss:0.212515\tvalid-logloss:0.224027\n",
            "[1200]\ttrain-logloss:0.207737\tvalid-logloss:0.221668\n",
            "[1500]\ttrain-logloss:0.204196\tvalid-logloss:0.220307\n",
            "[1800]\ttrain-logloss:0.201135\tvalid-logloss:0.219451\n",
            "[2100]\ttrain-logloss:0.198388\tvalid-logloss:0.218832\n",
            "[2400]\ttrain-logloss:0.195912\tvalid-logloss:0.21841\n",
            "[2700]\ttrain-logloss:0.193623\tvalid-logloss:0.218088\n",
            "[3000]\ttrain-logloss:0.191445\tvalid-logloss:0.217829\n",
            "[3300]\ttrain-logloss:0.189347\tvalid-logloss:0.217612\n",
            "[3600]\ttrain-logloss:0.187357\tvalid-logloss:0.217448\n",
            "[3900]\ttrain-logloss:0.185344\tvalid-logloss:0.217289\n",
            "[4200]\ttrain-logloss:0.183472\tvalid-logloss:0.21717\n",
            "[4500]\ttrain-logloss:0.181542\tvalid-logloss:0.217094\n",
            "[4800]\ttrain-logloss:0.179714\tvalid-logloss:0.217042\n",
            "[5100]\ttrain-logloss:0.177975\tvalid-logloss:0.216975\n",
            "Stopping. Best iteration:\n",
            "[5196]\ttrain-logloss:0.177419\tvalid-logloss:0.216967\n",
            "\n"
          ]
        },
        {
          "metadata": {
            "tags": null
          },
          "name": "stderr",
          "output_type": "stream",
          "text": [
            "\u001b[32m[I 2022-08-09 15:09:09,389]\u001b[0m Trial 56 finished with value: 0.7944056680216457 and parameters: {'lambda': 0.05939603893662112, 'alpha': 0.0023407831759087346, 'colsample_bytree': 0.7, 'subsample': 0.9, 'learning_rate': 0.01, 'max_depth': 6, 'min_child_weight': 140}. Best is trial 53 with value: 0.7954051361205287.\u001b[0m\n"
          ]
        },
        {
          "metadata": {
            "tags": null
          },
          "name": "stdout",
          "output_type": "stream",
          "text": [
            "[0]\ttrain-logloss:0.676785\tvalid-logloss:0.676905\n",
            "Multiple eval metrics have been passed: 'valid-logloss' will be used for early stopping.\n",
            "\n",
            "Will train until valid-logloss hasn't improved in 100 rounds.\n",
            "[300]\ttrain-logloss:0.216744\tvalid-logloss:0.226399\n",
            "[600]\ttrain-logloss:0.206081\tvalid-logloss:0.220814\n",
            "[900]\ttrain-logloss:0.199791\tvalid-logloss:0.219196\n",
            "[1200]\ttrain-logloss:0.194941\tvalid-logloss:0.218431\n",
            "[1500]\ttrain-logloss:0.190702\tvalid-logloss:0.218005\n",
            "[1800]\ttrain-logloss:0.18679\tvalid-logloss:0.21779\n",
            "[2100]\ttrain-logloss:0.183114\tvalid-logloss:0.217646\n",
            "[2400]\ttrain-logloss:0.179404\tvalid-logloss:0.217571\n",
            "Stopping. Best iteration:\n",
            "[2525]\ttrain-logloss:0.178062\tvalid-logloss:0.21754\n",
            "\n"
          ]
        },
        {
          "metadata": {
            "tags": null
          },
          "name": "stderr",
          "output_type": "stream",
          "text": [
            "\u001b[32m[I 2022-08-09 15:15:17,053]\u001b[0m Trial 57 finished with value: 0.7942660063571074 and parameters: {'lambda': 0.007453207440152469, 'alpha': 0.12543374882233957, 'colsample_bytree': 0.7, 'subsample': 1.0, 'learning_rate': 0.025, 'max_depth': 6, 'min_child_weight': 213}. Best is trial 53 with value: 0.7954051361205287.\u001b[0m\n"
          ]
        },
        {
          "metadata": {
            "tags": null
          },
          "name": "stdout",
          "output_type": "stream",
          "text": [
            "[0]\ttrain-logloss:0.683179\tvalid-logloss:0.683265\n",
            "Multiple eval metrics have been passed: 'valid-logloss' will be used for early stopping.\n",
            "\n",
            "Will train until valid-logloss hasn't improved in 100 rounds.\n",
            "[300]\ttrain-logloss:0.22419\tvalid-logloss:0.232586\n",
            "[600]\ttrain-logloss:0.209778\tvalid-logloss:0.223008\n",
            "[900]\ttrain-logloss:0.203057\tvalid-logloss:0.220253\n",
            "[1200]\ttrain-logloss:0.198132\tvalid-logloss:0.219002\n",
            "[1500]\ttrain-logloss:0.193921\tvalid-logloss:0.21827\n",
            "[1800]\ttrain-logloss:0.190342\tvalid-logloss:0.217846\n",
            "[2100]\ttrain-logloss:0.186918\tvalid-logloss:0.217572\n",
            "[2400]\ttrain-logloss:0.183466\tvalid-logloss:0.217348\n",
            "[2700]\ttrain-logloss:0.180296\tvalid-logloss:0.217204\n",
            "[3000]\ttrain-logloss:0.177203\tvalid-logloss:0.217065\n",
            "[3300]\ttrain-logloss:0.17432\tvalid-logloss:0.216944\n",
            "[3600]\ttrain-logloss:0.171408\tvalid-logloss:0.21685\n",
            "Stopping. Best iteration:\n",
            "[3621]\ttrain-logloss:0.17123\tvalid-logloss:0.216844\n",
            "\n"
          ]
        },
        {
          "metadata": {
            "tags": null
          },
          "name": "stderr",
          "output_type": "stream",
          "text": [
            "\u001b[32m[I 2022-08-09 15:24:44,199]\u001b[0m Trial 58 finished with value: 0.7955117658049508 and parameters: {'lambda': 0.003436192907750857, 'alpha': 0.008754352592861614, 'colsample_bytree': 0.6, 'subsample': 0.9, 'learning_rate': 0.015, 'max_depth': 7, 'min_child_weight': 188}. Best is trial 58 with value: 0.7955117658049508.\u001b[0m\n"
          ]
        },
        {
          "metadata": {
            "tags": null
          },
          "name": "stdout",
          "output_type": "stream",
          "text": [
            "[0]\ttrain-logloss:0.68318\tvalid-logloss:0.683269\n",
            "Multiple eval metrics have been passed: 'valid-logloss' will be used for early stopping.\n",
            "\n",
            "Will train until valid-logloss hasn't improved in 100 rounds.\n",
            "[300]\ttrain-logloss:0.224686\tvalid-logloss:0.232733\n",
            "[600]\ttrain-logloss:0.21044\tvalid-logloss:0.223126\n",
            "[900]\ttrain-logloss:0.203642\tvalid-logloss:0.220294\n",
            "[1200]\ttrain-logloss:0.198761\tvalid-logloss:0.219034\n",
            "[1500]\ttrain-logloss:0.194661\tvalid-logloss:0.218315\n",
            "[1800]\ttrain-logloss:0.191067\tvalid-logloss:0.217869\n",
            "[2100]\ttrain-logloss:0.187589\tvalid-logloss:0.217595\n",
            "[2400]\ttrain-logloss:0.184221\tvalid-logloss:0.217397\n",
            "[2700]\ttrain-logloss:0.181003\tvalid-logloss:0.217228\n",
            "[3000]\ttrain-logloss:0.177997\tvalid-logloss:0.217116\n",
            "[3300]\ttrain-logloss:0.174962\tvalid-logloss:0.217042\n",
            "[3600]\ttrain-logloss:0.172001\tvalid-logloss:0.217016\n",
            "Stopping. Best iteration:\n",
            "[3521]\ttrain-logloss:0.172723\tvalid-logloss:0.217002\n",
            "\n"
          ]
        },
        {
          "metadata": {
            "tags": null
          },
          "name": "stderr",
          "output_type": "stream",
          "text": [
            "\u001b[32m[I 2022-08-09 15:34:02,758]\u001b[0m Trial 59 finished with value: 0.7945733829993413 and parameters: {'lambda': 0.002301745093034754, 'alpha': 0.015000296140424078, 'colsample_bytree': 0.7, 'subsample': 0.8, 'learning_rate': 0.015, 'max_depth': 7, 'min_child_weight': 183}. Best is trial 58 with value: 0.7955117658049508.\u001b[0m\n"
          ]
        },
        {
          "metadata": {
            "tags": null
          },
          "name": "stdout",
          "output_type": "stream",
          "text": [
            "[0]\ttrain-logloss:0.686495\tvalid-logloss:0.686548\n",
            "Multiple eval metrics have been passed: 'valid-logloss' will be used for early stopping.\n",
            "\n",
            "Will train until valid-logloss hasn't improved in 100 rounds.\n",
            "[300]\ttrain-logloss:0.241047\tvalid-logloss:0.246782\n",
            "[600]\ttrain-logloss:0.218417\tvalid-logloss:0.227186\n",
            "[900]\ttrain-logloss:0.211246\tvalid-logloss:0.222775\n",
            "[1200]\ttrain-logloss:0.206575\tvalid-logloss:0.220703\n",
            "[1500]\ttrain-logloss:0.202928\tvalid-logloss:0.219563\n",
            "[1800]\ttrain-logloss:0.199918\tvalid-logloss:0.21887\n",
            "[2100]\ttrain-logloss:0.197146\tvalid-logloss:0.2184\n",
            "[2400]\ttrain-logloss:0.194577\tvalid-logloss:0.218067\n",
            "[2700]\ttrain-logloss:0.192057\tvalid-logloss:0.217799\n",
            "[3000]\ttrain-logloss:0.189631\tvalid-logloss:0.217581\n",
            "[3300]\ttrain-logloss:0.187384\tvalid-logloss:0.217377\n",
            "[3600]\ttrain-logloss:0.185181\tvalid-logloss:0.217232\n",
            "[3900]\ttrain-logloss:0.183012\tvalid-logloss:0.217096\n",
            "[4200]\ttrain-logloss:0.180881\tvalid-logloss:0.21701\n",
            "Stopping. Best iteration:\n",
            "[4305]\ttrain-logloss:0.180128\tvalid-logloss:0.216988\n",
            "\n"
          ]
        },
        {
          "metadata": {
            "tags": null
          },
          "name": "stderr",
          "output_type": "stream",
          "text": [
            "\u001b[32m[I 2022-08-09 15:45:19,041]\u001b[0m Trial 60 finished with value: 0.7948160762677694 and parameters: {'lambda': 0.004671225834316246, 'alpha': 0.005815928217111668, 'colsample_bytree': 0.6, 'subsample': 0.5, 'learning_rate': 0.01, 'max_depth': 7, 'min_child_weight': 118}. Best is trial 58 with value: 0.7955117658049508.\u001b[0m\n"
          ]
        },
        {
          "metadata": {
            "tags": null
          },
          "name": "stdout",
          "output_type": "stream",
          "text": [
            "[0]\ttrain-logloss:0.683301\tvalid-logloss:0.683377\n",
            "Multiple eval metrics have been passed: 'valid-logloss' will be used for early stopping.\n",
            "\n",
            "Will train until valid-logloss hasn't improved in 100 rounds.\n",
            "[300]\ttrain-logloss:0.228371\tvalid-logloss:0.23482\n",
            "[600]\ttrain-logloss:0.21392\tvalid-logloss:0.224292\n",
            "[900]\ttrain-logloss:0.207679\tvalid-logloss:0.221155\n",
            "[1200]\ttrain-logloss:0.203238\tvalid-logloss:0.219627\n",
            "[1500]\ttrain-logloss:0.199571\tvalid-logloss:0.21882\n",
            "[1800]\ttrain-logloss:0.196394\tvalid-logloss:0.218289\n",
            "[2100]\ttrain-logloss:0.193488\tvalid-logloss:0.217928\n",
            "[2400]\ttrain-logloss:0.190729\tvalid-logloss:0.217676\n",
            "[2700]\ttrain-logloss:0.188079\tvalid-logloss:0.217474\n",
            "[3000]\ttrain-logloss:0.185637\tvalid-logloss:0.217322\n",
            "[3300]\ttrain-logloss:0.183205\tvalid-logloss:0.217206\n",
            "[3600]\ttrain-logloss:0.180815\tvalid-logloss:0.217106\n",
            "[3900]\ttrain-logloss:0.178393\tvalid-logloss:0.217016\n",
            "[4200]\ttrain-logloss:0.176116\tvalid-logloss:0.216971\n",
            "[4500]\ttrain-logloss:0.173933\tvalid-logloss:0.216927\n",
            "Stopping. Best iteration:\n",
            "[4540]\ttrain-logloss:0.173623\tvalid-logloss:0.216918\n",
            "\n"
          ]
        },
        {
          "metadata": {
            "tags": null
          },
          "name": "stderr",
          "output_type": "stream",
          "text": [
            "\u001b[32m[I 2022-08-09 15:56:04,004]\u001b[0m Trial 61 finished with value: 0.7944847949881781 and parameters: {'lambda': 0.0030433870613575374, 'alpha': 0.009260894241322145, 'colsample_bytree': 0.6, 'subsample': 0.9, 'learning_rate': 0.015, 'max_depth': 6, 'min_child_weight': 193}. Best is trial 58 with value: 0.7955117658049508.\u001b[0m\n"
          ]
        },
        {
          "metadata": {
            "tags": null
          },
          "name": "stdout",
          "output_type": "stream",
          "text": [
            "[0]\ttrain-logloss:0.686474\tvalid-logloss:0.68653\n",
            "Multiple eval metrics have been passed: 'valid-logloss' will be used for early stopping.\n",
            "\n",
            "Will train until valid-logloss hasn't improved in 100 rounds.\n",
            "[300]\ttrain-logloss:0.239754\tvalid-logloss:0.246732\n",
            "[600]\ttrain-logloss:0.216237\tvalid-logloss:0.227084\n",
            "[900]\ttrain-logloss:0.208495\tvalid-logloss:0.222741\n",
            "[1200]\ttrain-logloss:0.203588\tvalid-logloss:0.220717\n",
            "[1500]\ttrain-logloss:0.199715\tvalid-logloss:0.219546\n",
            "[1800]\ttrain-logloss:0.196325\tvalid-logloss:0.218792\n",
            "[2100]\ttrain-logloss:0.193302\tvalid-logloss:0.218289\n",
            "[2400]\ttrain-logloss:0.190519\tvalid-logloss:0.217929\n",
            "[2700]\ttrain-logloss:0.187843\tvalid-logloss:0.217651\n",
            "[3000]\ttrain-logloss:0.185374\tvalid-logloss:0.217429\n",
            "[3300]\ttrain-logloss:0.182912\tvalid-logloss:0.217254\n",
            "[3600]\ttrain-logloss:0.180606\tvalid-logloss:0.217108\n",
            "[3900]\ttrain-logloss:0.178284\tvalid-logloss:0.216992\n",
            "[4200]\ttrain-logloss:0.176117\tvalid-logloss:0.216878\n",
            "[4500]\ttrain-logloss:0.173942\tvalid-logloss:0.21678\n",
            "Stopping. Best iteration:\n",
            "[4662]\ttrain-logloss:0.172753\tvalid-logloss:0.216749\n",
            "\n"
          ]
        },
        {
          "metadata": {
            "tags": null
          },
          "name": "stderr",
          "output_type": "stream",
          "text": [
            "\u001b[32m[I 2022-08-09 16:08:10,818]\u001b[0m Trial 62 finished with value: 0.7946446945723686 and parameters: {'lambda': 0.024424282232174348, 'alpha': 0.015242542907060655, 'colsample_bytree': 0.6, 'subsample': 0.9, 'learning_rate': 0.01, 'max_depth': 7, 'min_child_weight': 155}. Best is trial 58 with value: 0.7955117658049508.\u001b[0m\n"
          ]
        },
        {
          "metadata": {
            "tags": null
          },
          "name": "stdout",
          "output_type": "stream",
          "text": [
            "[0]\ttrain-logloss:0.683305\tvalid-logloss:0.683381\n",
            "Multiple eval metrics have been passed: 'valid-logloss' will be used for early stopping.\n",
            "\n",
            "Will train until valid-logloss hasn't improved in 100 rounds.\n",
            "[300]\ttrain-logloss:0.228482\tvalid-logloss:0.234782\n",
            "[600]\ttrain-logloss:0.214256\tvalid-logloss:0.224323\n",
            "[900]\ttrain-logloss:0.208104\tvalid-logloss:0.221176\n",
            "[1200]\ttrain-logloss:0.203836\tvalid-logloss:0.21968\n",
            "[1500]\ttrain-logloss:0.200346\tvalid-logloss:0.218881\n",
            "[1800]\ttrain-logloss:0.19723\tvalid-logloss:0.218284\n",
            "[2100]\ttrain-logloss:0.194375\tvalid-logloss:0.217908\n",
            "[2400]\ttrain-logloss:0.1916\tvalid-logloss:0.21765\n",
            "[2700]\ttrain-logloss:0.189085\tvalid-logloss:0.217493\n",
            "[3000]\ttrain-logloss:0.186751\tvalid-logloss:0.217353\n",
            "[3300]\ttrain-logloss:0.18443\tvalid-logloss:0.217247\n",
            "[3600]\ttrain-logloss:0.182192\tvalid-logloss:0.217146\n",
            "[3900]\ttrain-logloss:0.179943\tvalid-logloss:0.217079\n",
            "[4200]\ttrain-logloss:0.177699\tvalid-logloss:0.217028\n",
            "[4500]\ttrain-logloss:0.175554\tvalid-logloss:0.216971\n",
            "Stopping. Best iteration:\n",
            "[4537]\ttrain-logloss:0.175319\tvalid-logloss:0.216958\n",
            "\n"
          ]
        },
        {
          "metadata": {
            "tags": null
          },
          "name": "stderr",
          "output_type": "stream",
          "text": [
            "\u001b[32m[I 2022-08-09 16:18:53,978]\u001b[0m Trial 63 finished with value: 0.7952026215645679 and parameters: {'lambda': 0.001854143222199064, 'alpha': 0.0025791547072438878, 'colsample_bytree': 0.5, 'subsample': 0.9, 'learning_rate': 0.015, 'max_depth': 6, 'min_child_weight': 204}. Best is trial 58 with value: 0.7955117658049508.\u001b[0m\n"
          ]
        },
        {
          "metadata": {
            "tags": null
          },
          "name": "stdout",
          "output_type": "stream",
          "text": [
            "[0]\ttrain-logloss:0.683305\tvalid-logloss:0.683382\n",
            "Multiple eval metrics have been passed: 'valid-logloss' will be used for early stopping.\n",
            "\n",
            "Will train until valid-logloss hasn't improved in 100 rounds.\n",
            "[300]\ttrain-logloss:0.228656\tvalid-logloss:0.235007\n",
            "[600]\ttrain-logloss:0.214233\tvalid-logloss:0.224347\n",
            "[900]\ttrain-logloss:0.207818\tvalid-logloss:0.22109\n",
            "[1200]\ttrain-logloss:0.203364\tvalid-logloss:0.219558\n",
            "[1500]\ttrain-logloss:0.199709\tvalid-logloss:0.218702\n",
            "[1800]\ttrain-logloss:0.196468\tvalid-logloss:0.218176\n",
            "[2100]\ttrain-logloss:0.193508\tvalid-logloss:0.217837\n",
            "[2400]\ttrain-logloss:0.190632\tvalid-logloss:0.217603\n",
            "[2700]\ttrain-logloss:0.18795\tvalid-logloss:0.217382\n",
            "[3000]\ttrain-logloss:0.185391\tvalid-logloss:0.217224\n",
            "[3300]\ttrain-logloss:0.182837\tvalid-logloss:0.217105\n",
            "[3600]\ttrain-logloss:0.180418\tvalid-logloss:0.217033\n",
            "[3900]\ttrain-logloss:0.177912\tvalid-logloss:0.216976\n",
            "Stopping. Best iteration:\n",
            "[4054]\ttrain-logloss:0.176677\tvalid-logloss:0.216925\n",
            "\n"
          ]
        },
        {
          "metadata": {
            "tags": null
          },
          "name": "stderr",
          "output_type": "stream",
          "text": [
            "\u001b[32m[I 2022-08-09 16:28:39,231]\u001b[0m Trial 64 finished with value: 0.7958373849385496 and parameters: {'lambda': 0.0013846546079365, 'alpha': 0.0022470733897401846, 'colsample_bytree': 0.7, 'subsample': 0.8, 'learning_rate': 0.015, 'max_depth': 6, 'min_child_weight': 175}. Best is trial 64 with value: 0.7958373849385496.\u001b[0m\n"
          ]
        },
        {
          "metadata": {
            "tags": null
          },
          "name": "stdout",
          "output_type": "stream",
          "text": [
            "[0]\ttrain-logloss:0.683183\tvalid-logloss:0.68327\n",
            "Multiple eval metrics have been passed: 'valid-logloss' will be used for early stopping.\n",
            "\n",
            "Will train until valid-logloss hasn't improved in 100 rounds.\n",
            "[300]\ttrain-logloss:0.22457\tvalid-logloss:0.232537\n",
            "[600]\ttrain-logloss:0.21034\tvalid-logloss:0.22285\n",
            "[900]\ttrain-logloss:0.203641\tvalid-logloss:0.220033\n",
            "[1200]\ttrain-logloss:0.198804\tvalid-logloss:0.218701\n",
            "[1500]\ttrain-logloss:0.194656\tvalid-logloss:0.217989\n",
            "[1800]\ttrain-logloss:0.191013\tvalid-logloss:0.217526\n",
            "[2100]\ttrain-logloss:0.187513\tvalid-logloss:0.217248\n",
            "[2400]\ttrain-logloss:0.184252\tvalid-logloss:0.216981\n",
            "[2700]\ttrain-logloss:0.181052\tvalid-logloss:0.216812\n",
            "[3000]\ttrain-logloss:0.177934\tvalid-logloss:0.216722\n",
            "[3300]\ttrain-logloss:0.174983\tvalid-logloss:0.216618\n",
            "Stopping. Best iteration:\n",
            "[3457]\ttrain-logloss:0.173459\tvalid-logloss:0.216569\n",
            "\n"
          ]
        },
        {
          "metadata": {
            "tags": null
          },
          "name": "stderr",
          "output_type": "stream",
          "text": [
            "\u001b[32m[I 2022-08-09 16:37:45,639]\u001b[0m Trial 65 finished with value: 0.7946065816076411 and parameters: {'lambda': 0.0017319412042155048, 'alpha': 0.0035141439854513437, 'colsample_bytree': 0.5, 'subsample': 0.8, 'learning_rate': 0.015, 'max_depth': 7, 'min_child_weight': 172}. Best is trial 64 with value: 0.7958373849385496.\u001b[0m\n"
          ]
        },
        {
          "metadata": {
            "tags": null
          },
          "name": "stdout",
          "output_type": "stream",
          "text": [
            "[0]\ttrain-logloss:0.683436\tvalid-logloss:0.683502\n",
            "Multiple eval metrics have been passed: 'valid-logloss' will be used for early stopping.\n",
            "\n",
            "Will train until valid-logloss hasn't improved in 100 rounds.\n",
            "[300]\ttrain-logloss:0.233219\tvalid-logloss:0.237718\n",
            "[600]\ttrain-logloss:0.218544\tvalid-logloss:0.225909\n",
            "[900]\ttrain-logloss:0.212498\tvalid-logloss:0.222273\n",
            "[1200]\ttrain-logloss:0.208427\tvalid-logloss:0.220428\n",
            "[1500]\ttrain-logloss:0.205227\tvalid-logloss:0.219381\n",
            "[1800]\ttrain-logloss:0.202569\tvalid-logloss:0.218641\n",
            "[2100]\ttrain-logloss:0.200164\tvalid-logloss:0.218179\n",
            "[2400]\ttrain-logloss:0.197923\tvalid-logloss:0.217814\n",
            "[2700]\ttrain-logloss:0.195806\tvalid-logloss:0.217516\n",
            "[3000]\ttrain-logloss:0.193809\tvalid-logloss:0.217344\n",
            "[3300]\ttrain-logloss:0.191845\tvalid-logloss:0.217182\n",
            "[3600]\ttrain-logloss:0.189888\tvalid-logloss:0.217053\n",
            "[3900]\ttrain-logloss:0.187949\tvalid-logloss:0.21695\n",
            "[4200]\ttrain-logloss:0.186137\tvalid-logloss:0.216858\n",
            "[4500]\ttrain-logloss:0.18438\tvalid-logloss:0.216797\n",
            "[4800]\ttrain-logloss:0.182598\tvalid-logloss:0.21674\n",
            "[5100]\ttrain-logloss:0.180866\tvalid-logloss:0.216676\n",
            "[5400]\ttrain-logloss:0.179139\tvalid-logloss:0.216622\n",
            "Stopping. Best iteration:\n",
            "[5544]\ttrain-logloss:0.178299\tvalid-logloss:0.216604\n",
            "\n"
          ]
        },
        {
          "metadata": {
            "tags": null
          },
          "name": "stderr",
          "output_type": "stream",
          "text": [
            "\u001b[32m[I 2022-08-09 16:49:37,122]\u001b[0m Trial 66 finished with value: 0.7950962331472908 and parameters: {'lambda': 0.0017639805815772985, 'alpha': 0.0011952957204669486, 'colsample_bytree': 0.5, 'subsample': 0.8, 'learning_rate': 0.015, 'max_depth': 5, 'min_child_weight': 162}. Best is trial 64 with value: 0.7958373849385496.\u001b[0m\n"
          ]
        },
        {
          "metadata": {
            "tags": null
          },
          "name": "stdout",
          "output_type": "stream",
          "text": [
            "[0]\ttrain-logloss:0.676824\tvalid-logloss:0.676946\n",
            "Multiple eval metrics have been passed: 'valid-logloss' will be used for early stopping.\n",
            "\n",
            "Will train until valid-logloss hasn't improved in 100 rounds.\n",
            "[300]\ttrain-logloss:0.217315\tvalid-logloss:0.226387\n",
            "[600]\ttrain-logloss:0.206592\tvalid-logloss:0.220773\n",
            "[900]\ttrain-logloss:0.200144\tvalid-logloss:0.21907\n",
            "[1200]\ttrain-logloss:0.194985\tvalid-logloss:0.21827\n",
            "[1500]\ttrain-logloss:0.19058\tvalid-logloss:0.217906\n",
            "[1800]\ttrain-logloss:0.186398\tvalid-logloss:0.217609\n",
            "[2100]\ttrain-logloss:0.182475\tvalid-logloss:0.217394\n",
            "[2400]\ttrain-logloss:0.17852\tvalid-logloss:0.217292\n",
            "[2700]\ttrain-logloss:0.174772\tvalid-logloss:0.217205\n",
            "Stopping. Best iteration:\n",
            "[2687]\ttrain-logloss:0.174928\tvalid-logloss:0.217194\n",
            "\n"
          ]
        },
        {
          "metadata": {
            "tags": null
          },
          "name": "stderr",
          "output_type": "stream",
          "text": [
            "\u001b[32m[I 2022-08-09 16:56:15,669]\u001b[0m Trial 67 finished with value: 0.7936359733812606 and parameters: {'lambda': 0.0037344984460770426, 'alpha': 0.0020720717762997987, 'colsample_bytree': 0.7, 'subsample': 0.9, 'learning_rate': 0.025, 'max_depth': 6, 'min_child_weight': 208}. Best is trial 64 with value: 0.7958373849385496.\u001b[0m\n"
          ]
        },
        {
          "metadata": {
            "tags": null
          },
          "name": "stdout",
          "output_type": "stream",
          "text": [
            "[0]\ttrain-logloss:0.683203\tvalid-logloss:0.683284\n",
            "Multiple eval metrics have been passed: 'valid-logloss' will be used for early stopping.\n",
            "\n",
            "Will train until valid-logloss hasn't improved in 100 rounds.\n",
            "[300]\ttrain-logloss:0.225857\tvalid-logloss:0.233099\n",
            "[600]\ttrain-logloss:0.21204\tvalid-logloss:0.223304\n",
            "[900]\ttrain-logloss:0.205693\tvalid-logloss:0.220362\n",
            "[1200]\ttrain-logloss:0.201234\tvalid-logloss:0.219007\n",
            "[1500]\ttrain-logloss:0.197461\tvalid-logloss:0.218308\n",
            "[1800]\ttrain-logloss:0.194086\tvalid-logloss:0.217815\n",
            "[2100]\ttrain-logloss:0.191014\tvalid-logloss:0.217519\n",
            "[2400]\ttrain-logloss:0.188052\tvalid-logloss:0.217294\n",
            "[2700]\ttrain-logloss:0.185078\tvalid-logloss:0.217054\n",
            "[3000]\ttrain-logloss:0.182251\tvalid-logloss:0.216965\n",
            "[3300]\ttrain-logloss:0.179551\tvalid-logloss:0.216895\n",
            "[3600]\ttrain-logloss:0.176846\tvalid-logloss:0.216841\n",
            "[3900]\ttrain-logloss:0.174209\tvalid-logloss:0.216755\n",
            "Stopping. Best iteration:\n",
            "[3899]\ttrain-logloss:0.174218\tvalid-logloss:0.216754\n",
            "\n"
          ]
        },
        {
          "metadata": {
            "tags": null
          },
          "name": "stderr",
          "output_type": "stream",
          "text": [
            "\u001b[32m[I 2022-08-09 17:06:27,818]\u001b[0m Trial 68 finished with value: 0.7948889026558843 and parameters: {'lambda': 0.002225932214091749, 'alpha': 0.0035826716408500154, 'colsample_bytree': 0.5, 'subsample': 0.8, 'learning_rate': 0.015, 'max_depth': 7, 'min_child_weight': 226}. Best is trial 64 with value: 0.7958373849385496.\u001b[0m\n"
          ]
        },
        {
          "metadata": {
            "tags": null
          },
          "name": "stdout",
          "output_type": "stream",
          "text": [
            "[0]\ttrain-logloss:0.680048\tvalid-logloss:0.680148\n",
            "Multiple eval metrics have been passed: 'valid-logloss' will be used for early stopping.\n",
            "\n",
            "Will train until valid-logloss hasn't improved in 100 rounds.\n",
            "[300]\ttrain-logloss:0.221204\tvalid-logloss:0.2293\n",
            "[600]\ttrain-logloss:0.209211\tvalid-logloss:0.22204\n",
            "[900]\ttrain-logloss:0.202876\tvalid-logloss:0.219711\n",
            "[1200]\ttrain-logloss:0.198072\tvalid-logloss:0.218688\n",
            "[1500]\ttrain-logloss:0.19408\tvalid-logloss:0.21815\n",
            "[1800]\ttrain-logloss:0.190216\tvalid-logloss:0.217785\n",
            "[2100]\ttrain-logloss:0.186638\tvalid-logloss:0.217506\n",
            "[2400]\ttrain-logloss:0.18321\tvalid-logloss:0.217363\n",
            "[2700]\ttrain-logloss:0.179963\tvalid-logloss:0.217245\n",
            "[3000]\ttrain-logloss:0.17688\tvalid-logloss:0.217161\n",
            "[3300]\ttrain-logloss:0.17392\tvalid-logloss:0.217077\n",
            "Stopping. Best iteration:\n",
            "[3443]\ttrain-logloss:0.1725\tvalid-logloss:0.217019\n",
            "\n"
          ]
        },
        {
          "metadata": {
            "tags": null
          },
          "name": "stderr",
          "output_type": "stream",
          "text": [
            "\u001b[32m[I 2022-08-09 17:14:45,828]\u001b[0m Trial 69 finished with value: 0.7945877028225279 and parameters: {'lambda': 0.005826918995812342, 'alpha': 0.021344254108259242, 'colsample_bytree': 0.7, 'subsample': 0.9, 'learning_rate': 0.02, 'max_depth': 6, 'min_child_weight': 186}. Best is trial 64 with value: 0.7958373849385496.\u001b[0m\n"
          ]
        },
        {
          "metadata": {
            "tags": null
          },
          "name": "stdout",
          "output_type": "stream",
          "text": [
            "[0]\ttrain-logloss:0.683165\tvalid-logloss:0.683254\n",
            "Multiple eval metrics have been passed: 'valid-logloss' will be used for early stopping.\n",
            "\n",
            "Will train until valid-logloss hasn't improved in 100 rounds.\n",
            "[300]\ttrain-logloss:0.223624\tvalid-logloss:0.232136\n",
            "[600]\ttrain-logloss:0.209091\tvalid-logloss:0.222563\n",
            "[900]\ttrain-logloss:0.202041\tvalid-logloss:0.219859\n",
            "[1200]\ttrain-logloss:0.196869\tvalid-logloss:0.218616\n",
            "[1500]\ttrain-logloss:0.192451\tvalid-logloss:0.217928\n",
            "[1800]\ttrain-logloss:0.188483\tvalid-logloss:0.217444\n",
            "[2100]\ttrain-logloss:0.18469\tvalid-logloss:0.217128\n",
            "[2400]\ttrain-logloss:0.181188\tvalid-logloss:0.216891\n",
            "[2700]\ttrain-logloss:0.177749\tvalid-logloss:0.21672\n",
            "[3000]\ttrain-logloss:0.174436\tvalid-logloss:0.216613\n",
            "[3300]\ttrain-logloss:0.171192\tvalid-logloss:0.216509\n",
            "Stopping. Best iteration:\n",
            "[3458]\ttrain-logloss:0.16956\tvalid-logloss:0.216452\n",
            "\n"
          ]
        },
        {
          "metadata": {
            "tags": null
          },
          "name": "stderr",
          "output_type": "stream",
          "text": [
            "\u001b[32m[I 2022-08-09 17:23:52,904]\u001b[0m Trial 70 finished with value: 0.7947992079882695 and parameters: {'lambda': 0.0010353433387736816, 'alpha': 0.002406736949927263, 'colsample_bytree': 0.5, 'subsample': 0.8, 'learning_rate': 0.015, 'max_depth': 7, 'min_child_weight': 138}. Best is trial 64 with value: 0.7958373849385496.\u001b[0m\n"
          ]
        },
        {
          "metadata": {
            "tags": null
          },
          "name": "stdout",
          "output_type": "stream",
          "text": [
            "[0]\ttrain-logloss:0.68657\tvalid-logloss:0.686617\n",
            "Multiple eval metrics have been passed: 'valid-logloss' will be used for early stopping.\n",
            "\n",
            "Will train until valid-logloss hasn't improved in 100 rounds.\n",
            "[300]\ttrain-logloss:0.245536\tvalid-logloss:0.250521\n",
            "[600]\ttrain-logloss:0.222144\tvalid-logloss:0.22975\n",
            "[900]\ttrain-logloss:0.214959\tvalid-logloss:0.224849\n",
            "[1200]\ttrain-logloss:0.210547\tvalid-logloss:0.222371\n",
            "[1500]\ttrain-logloss:0.207328\tvalid-logloss:0.220954\n",
            "[1800]\ttrain-logloss:0.204696\tvalid-logloss:0.220042\n",
            "[2100]\ttrain-logloss:0.202407\tvalid-logloss:0.219409\n",
            "[2400]\ttrain-logloss:0.200282\tvalid-logloss:0.218969\n",
            "[2700]\ttrain-logloss:0.198328\tvalid-logloss:0.218648\n",
            "[3000]\ttrain-logloss:0.196448\tvalid-logloss:0.218351\n",
            "[3300]\ttrain-logloss:0.19468\tvalid-logloss:0.218127\n",
            "[3600]\ttrain-logloss:0.19306\tvalid-logloss:0.217941\n",
            "[3900]\ttrain-logloss:0.191391\tvalid-logloss:0.217795\n",
            "[4200]\ttrain-logloss:0.189884\tvalid-logloss:0.217675\n",
            "[4500]\ttrain-logloss:0.188327\tvalid-logloss:0.217587\n",
            "[4800]\ttrain-logloss:0.186783\tvalid-logloss:0.217498\n",
            "[5100]\ttrain-logloss:0.185296\tvalid-logloss:0.217416\n",
            "[5400]\ttrain-logloss:0.183866\tvalid-logloss:0.217365\n",
            "[5700]\ttrain-logloss:0.182446\tvalid-logloss:0.217315\n",
            "[6000]\ttrain-logloss:0.181088\tvalid-logloss:0.217276\n",
            "[6300]\ttrain-logloss:0.179687\tvalid-logloss:0.217256\n",
            "Stopping. Best iteration:\n",
            "[6248]\ttrain-logloss:0.179931\tvalid-logloss:0.217243\n",
            "\n"
          ]
        },
        {
          "metadata": {
            "tags": null
          },
          "name": "stderr",
          "output_type": "stream",
          "text": [
            "\u001b[32m[I 2022-08-09 17:38:30,989]\u001b[0m Trial 71 finished with value: 0.7943397691608659 and parameters: {'lambda': 0.0013902591985347217, 'alpha': 0.0015798972434874225, 'colsample_bytree': 0.8, 'subsample': 0.9, 'learning_rate': 0.01, 'max_depth': 6, 'min_child_weight': 256}. Best is trial 64 with value: 0.7958373849385496.\u001b[0m\n"
          ]
        },
        {
          "metadata": {
            "tags": null
          },
          "name": "stdout",
          "output_type": "stream",
          "text": [
            "[0]\ttrain-logloss:0.686565\tvalid-logloss:0.686617\n",
            "Multiple eval metrics have been passed: 'valid-logloss' will be used for early stopping.\n",
            "\n",
            "Will train until valid-logloss hasn't improved in 100 rounds.\n",
            "[300]\ttrain-logloss:0.24452\tvalid-logloss:0.249768\n",
            "[600]\ttrain-logloss:0.220811\tvalid-logloss:0.228973\n",
            "[900]\ttrain-logloss:0.213333\tvalid-logloss:0.224105\n",
            "[1200]\ttrain-logloss:0.20878\tvalid-logloss:0.221797\n",
            "[1500]\ttrain-logloss:0.20535\tvalid-logloss:0.220433\n",
            "[1800]\ttrain-logloss:0.20239\tvalid-logloss:0.219518\n",
            "[2100]\ttrain-logloss:0.199811\tvalid-logloss:0.218869\n",
            "[2400]\ttrain-logloss:0.197493\tvalid-logloss:0.218449\n",
            "[2700]\ttrain-logloss:0.195373\tvalid-logloss:0.218117\n",
            "[3000]\ttrain-logloss:0.193327\tvalid-logloss:0.217847\n",
            "[3300]\ttrain-logloss:0.191315\tvalid-logloss:0.217621\n",
            "[3600]\ttrain-logloss:0.189434\tvalid-logloss:0.217445\n",
            "[3900]\ttrain-logloss:0.187574\tvalid-logloss:0.217306\n",
            "[4200]\ttrain-logloss:0.185852\tvalid-logloss:0.217188\n",
            "[4500]\ttrain-logloss:0.184052\tvalid-logloss:0.217067\n",
            "[4800]\ttrain-logloss:0.1823\tvalid-logloss:0.216982\n",
            "[5100]\ttrain-logloss:0.180657\tvalid-logloss:0.21691\n",
            "[5400]\ttrain-logloss:0.179021\tvalid-logloss:0.216857\n",
            "[5700]\ttrain-logloss:0.177395\tvalid-logloss:0.216827\n",
            "Stopping. Best iteration:\n",
            "[5677]\ttrain-logloss:0.177522\tvalid-logloss:0.216824\n",
            "\n"
          ]
        },
        {
          "metadata": {
            "tags": null
          },
          "name": "stderr",
          "output_type": "stream",
          "text": [
            "\u001b[32m[I 2022-08-09 17:51:52,971]\u001b[0m Trial 72 finished with value: 0.794411487606177 and parameters: {'lambda': 0.00282519201900501, 'alpha': 0.004158751991196553, 'colsample_bytree': 0.6, 'subsample': 0.9, 'learning_rate': 0.01, 'max_depth': 6, 'min_child_weight': 169}. Best is trial 64 with value: 0.7958373849385496.\u001b[0m\n"
          ]
        },
        {
          "metadata": {
            "tags": null
          },
          "name": "stdout",
          "output_type": "stream",
          "text": [
            "[0]\ttrain-logloss:0.683285\tvalid-logloss:0.683361\n",
            "Multiple eval metrics have been passed: 'valid-logloss' will be used for early stopping.\n",
            "\n",
            "Will train until valid-logloss hasn't improved in 100 rounds.\n",
            "[300]\ttrain-logloss:0.227278\tvalid-logloss:0.234534\n",
            "[600]\ttrain-logloss:0.212015\tvalid-logloss:0.224028\n",
            "[900]\ttrain-logloss:0.205014\tvalid-logloss:0.22089\n",
            "[1200]\ttrain-logloss:0.200104\tvalid-logloss:0.219464\n",
            "[1500]\ttrain-logloss:0.196088\tvalid-logloss:0.218645\n",
            "[1800]\ttrain-logloss:0.192417\tvalid-logloss:0.2181\n",
            "[2100]\ttrain-logloss:0.189082\tvalid-logloss:0.217763\n",
            "[2400]\ttrain-logloss:0.185778\tvalid-logloss:0.217558\n",
            "[2700]\ttrain-logloss:0.182651\tvalid-logloss:0.217331\n",
            "[3000]\ttrain-logloss:0.179713\tvalid-logloss:0.217208\n",
            "[3300]\ttrain-logloss:0.176861\tvalid-logloss:0.217063\n",
            "[3600]\ttrain-logloss:0.174211\tvalid-logloss:0.216958\n",
            "[3900]\ttrain-logloss:0.171437\tvalid-logloss:0.216883\n",
            "Stopping. Best iteration:\n",
            "[3901]\ttrain-logloss:0.171429\tvalid-logloss:0.21688\n",
            "\n"
          ]
        },
        {
          "metadata": {
            "tags": null
          },
          "name": "stderr",
          "output_type": "stream",
          "text": [
            "\u001b[32m[I 2022-08-09 18:01:14,965]\u001b[0m Trial 73 finished with value: 0.7935441197260161 and parameters: {'lambda': 0.00936107992927718, 'alpha': 0.06389577242817807, 'colsample_bytree': 0.8, 'subsample': 0.9, 'learning_rate': 0.015, 'max_depth': 6, 'min_child_weight': 123}. Best is trial 64 with value: 0.7958373849385496.\u001b[0m\n"
          ]
        },
        {
          "metadata": {
            "tags": null
          },
          "name": "stdout",
          "output_type": "stream",
          "text": [
            "[0]\ttrain-logloss:0.68656\tvalid-logloss:0.686612\n",
            "Multiple eval metrics have been passed: 'valid-logloss' will be used for early stopping.\n",
            "\n",
            "Will train until valid-logloss hasn't improved in 100 rounds.\n",
            "[300]\ttrain-logloss:0.244331\tvalid-logloss:0.249712\n",
            "[600]\ttrain-logloss:0.220565\tvalid-logloss:0.228985\n",
            "[900]\ttrain-logloss:0.212905\tvalid-logloss:0.224131\n",
            "[1200]\ttrain-logloss:0.20811\tvalid-logloss:0.221747\n",
            "[1500]\ttrain-logloss:0.204642\tvalid-logloss:0.220395\n",
            "[1800]\ttrain-logloss:0.20164\tvalid-logloss:0.219538\n",
            "[2100]\ttrain-logloss:0.198961\tvalid-logloss:0.218931\n",
            "[2400]\ttrain-logloss:0.19656\tvalid-logloss:0.218497\n",
            "[2700]\ttrain-logloss:0.194361\tvalid-logloss:0.218163\n",
            "[3000]\ttrain-logloss:0.192257\tvalid-logloss:0.217896\n",
            "[3300]\ttrain-logloss:0.190236\tvalid-logloss:0.217661\n",
            "[3600]\ttrain-logloss:0.188314\tvalid-logloss:0.217515\n",
            "[3900]\ttrain-logloss:0.186352\tvalid-logloss:0.217399\n",
            "[4200]\ttrain-logloss:0.184493\tvalid-logloss:0.217264\n",
            "[4500]\ttrain-logloss:0.182625\tvalid-logloss:0.217166\n",
            "[4800]\ttrain-logloss:0.180819\tvalid-logloss:0.217085\n",
            "[5100]\ttrain-logloss:0.179126\tvalid-logloss:0.217016\n",
            "Stopping. Best iteration:\n",
            "[5139]\ttrain-logloss:0.178895\tvalid-logloss:0.217013\n",
            "\n"
          ]
        },
        {
          "metadata": {
            "tags": null
          },
          "name": "stderr",
          "output_type": "stream",
          "text": [
            "\u001b[32m[I 2022-08-09 18:13:28,269]\u001b[0m Trial 74 finished with value: 0.794524631470586 and parameters: {'lambda': 0.003999330795717985, 'alpha': 0.007995764292022678, 'colsample_bytree': 0.7, 'subsample': 0.9, 'learning_rate': 0.01, 'max_depth': 6, 'min_child_weight': 154}. Best is trial 64 with value: 0.7958373849385496.\u001b[0m\n"
          ]
        },
        {
          "metadata": {
            "tags": null
          },
          "name": "stdout",
          "output_type": "stream",
          "text": [
            "[0]\ttrain-logloss:0.686646\tvalid-logloss:0.686692\n",
            "Multiple eval metrics have been passed: 'valid-logloss' will be used for early stopping.\n",
            "\n",
            "Will train until valid-logloss hasn't improved in 100 rounds.\n",
            "[300]\ttrain-logloss:0.249747\tvalid-logloss:0.253748\n",
            "[600]\ttrain-logloss:0.225137\tvalid-logloss:0.23145\n",
            "[900]\ttrain-logloss:0.217724\tvalid-logloss:0.22605\n",
            "[1200]\ttrain-logloss:0.213437\tvalid-logloss:0.223453\n",
            "[1500]\ttrain-logloss:0.210306\tvalid-logloss:0.221824\n",
            "[1800]\ttrain-logloss:0.20784\tvalid-logloss:0.220782\n",
            "[2100]\ttrain-logloss:0.205718\tvalid-logloss:0.220054\n",
            "[2400]\ttrain-logloss:0.203864\tvalid-logloss:0.219538\n",
            "[2700]\ttrain-logloss:0.202154\tvalid-logloss:0.219148\n",
            "[3000]\ttrain-logloss:0.200537\tvalid-logloss:0.218825\n",
            "[3300]\ttrain-logloss:0.198958\tvalid-logloss:0.218536\n",
            "[3600]\ttrain-logloss:0.197495\tvalid-logloss:0.218337\n",
            "[3900]\ttrain-logloss:0.196089\tvalid-logloss:0.21817\n",
            "[4200]\ttrain-logloss:0.194727\tvalid-logloss:0.218012\n",
            "[4500]\ttrain-logloss:0.19341\tvalid-logloss:0.2179\n",
            "[4800]\ttrain-logloss:0.192169\tvalid-logloss:0.217797\n",
            "[5100]\ttrain-logloss:0.19086\tvalid-logloss:0.217697\n",
            "[5400]\ttrain-logloss:0.189694\tvalid-logloss:0.217621\n",
            "[5700]\ttrain-logloss:0.188486\tvalid-logloss:0.217538\n",
            "[6000]\ttrain-logloss:0.18732\tvalid-logloss:0.21748\n",
            "[6300]\ttrain-logloss:0.186198\tvalid-logloss:0.21745\n",
            "[6600]\ttrain-logloss:0.185011\tvalid-logloss:0.217398\n",
            "[6900]\ttrain-logloss:0.183936\tvalid-logloss:0.217352\n",
            "Stopping. Best iteration:\n",
            "[7094]\ttrain-logloss:0.183213\tvalid-logloss:0.217338\n",
            "\n"
          ]
        },
        {
          "metadata": {
            "tags": null
          },
          "name": "stderr",
          "output_type": "stream",
          "text": [
            "\u001b[32m[I 2022-08-09 18:28:06,235]\u001b[0m Trial 75 finished with value: 0.7943079991711086 and parameters: {'lambda': 0.0016794992735020254, 'alpha': 0.011149584868364603, 'colsample_bytree': 0.6, 'subsample': 1.0, 'learning_rate': 0.01, 'max_depth': 5, 'min_child_weight': 175}. Best is trial 64 with value: 0.7958373849385496.\u001b[0m\n"
          ]
        },
        {
          "metadata": {
            "tags": null
          },
          "name": "stdout",
          "output_type": "stream",
          "text": [
            "[0]\ttrain-logloss:0.683286\tvalid-logloss:0.683362\n",
            "Multiple eval metrics have been passed: 'valid-logloss' will be used for early stopping.\n",
            "\n",
            "Will train until valid-logloss hasn't improved in 100 rounds.\n",
            "[300]\ttrain-logloss:0.227113\tvalid-logloss:0.234164\n",
            "[600]\ttrain-logloss:0.211785\tvalid-logloss:0.223672\n",
            "[900]\ttrain-logloss:0.204839\tvalid-logloss:0.220617\n",
            "[1200]\ttrain-logloss:0.199909\tvalid-logloss:0.219203\n",
            "[1500]\ttrain-logloss:0.195815\tvalid-logloss:0.218432\n",
            "[1800]\ttrain-logloss:0.192085\tvalid-logloss:0.217852\n",
            "[2100]\ttrain-logloss:0.18874\tvalid-logloss:0.217536\n",
            "[2400]\ttrain-logloss:0.185493\tvalid-logloss:0.217291\n",
            "[2700]\ttrain-logloss:0.182403\tvalid-logloss:0.217141\n",
            "[3000]\ttrain-logloss:0.179489\tvalid-logloss:0.216965\n",
            "[3300]\ttrain-logloss:0.176596\tvalid-logloss:0.21688\n",
            "[3600]\ttrain-logloss:0.173922\tvalid-logloss:0.216799\n",
            "[3900]\ttrain-logloss:0.17112\tvalid-logloss:0.216765\n",
            "[4200]\ttrain-logloss:0.168516\tvalid-logloss:0.216695\n",
            "Stopping. Best iteration:\n",
            "[4349]\ttrain-logloss:0.167243\tvalid-logloss:0.216663\n",
            "\n"
          ]
        },
        {
          "metadata": {
            "tags": null
          },
          "name": "stderr",
          "output_type": "stream",
          "text": [
            "\u001b[32m[I 2022-08-09 18:38:22,922]\u001b[0m Trial 76 finished with value: 0.7949163597188551 and parameters: {'lambda': 0.006894308952621757, 'alpha': 0.04094117111461156, 'colsample_bytree': 0.6, 'subsample': 0.9, 'learning_rate': 0.015, 'max_depth': 6, 'min_child_weight': 111}. Best is trial 64 with value: 0.7958373849385496.\u001b[0m\n"
          ]
        },
        {
          "metadata": {
            "tags": null
          },
          "name": "stdout",
          "output_type": "stream",
          "text": [
            "[0]\ttrain-logloss:0.686473\tvalid-logloss:0.686536\n",
            "Multiple eval metrics have been passed: 'valid-logloss' will be used for early stopping.\n",
            "\n",
            "Will train until valid-logloss hasn't improved in 100 rounds.\n",
            "[300]\ttrain-logloss:0.239794\tvalid-logloss:0.24666\n",
            "[600]\ttrain-logloss:0.216343\tvalid-logloss:0.226998\n",
            "[900]\ttrain-logloss:0.208585\tvalid-logloss:0.222642\n",
            "[1200]\ttrain-logloss:0.203535\tvalid-logloss:0.22061\n",
            "[1500]\ttrain-logloss:0.199548\tvalid-logloss:0.219446\n",
            "[1800]\ttrain-logloss:0.196105\tvalid-logloss:0.218696\n",
            "[2100]\ttrain-logloss:0.193018\tvalid-logloss:0.21822\n",
            "[2400]\ttrain-logloss:0.190176\tvalid-logloss:0.217836\n",
            "[2700]\ttrain-logloss:0.187494\tvalid-logloss:0.21755\n",
            "[3000]\ttrain-logloss:0.184938\tvalid-logloss:0.217406\n",
            "[3300]\ttrain-logloss:0.182359\tvalid-logloss:0.217263\n",
            "[3600]\ttrain-logloss:0.179875\tvalid-logloss:0.217123\n",
            "[3900]\ttrain-logloss:0.177423\tvalid-logloss:0.217006\n",
            "[4200]\ttrain-logloss:0.175094\tvalid-logloss:0.216923\n",
            "[4500]\ttrain-logloss:0.172823\tvalid-logloss:0.216873\n",
            "[4800]\ttrain-logloss:0.170505\tvalid-logloss:0.216803\n",
            "Stopping. Best iteration:\n",
            "[4999]\ttrain-logloss:0.169067\tvalid-logloss:0.216746\n",
            "\n"
          ]
        },
        {
          "metadata": {
            "tags": null
          },
          "name": "stderr",
          "output_type": "stream",
          "text": [
            "\u001b[32m[I 2022-08-09 18:51:23,031]\u001b[0m Trial 77 finished with value: 0.794393265341113 and parameters: {'lambda': 0.03361246746874012, 'alpha': 0.005119084454646331, 'colsample_bytree': 0.7, 'subsample': 0.8, 'learning_rate': 0.01, 'max_depth': 7, 'min_child_weight': 137}. Best is trial 64 with value: 0.7958373849385496.\u001b[0m\n"
          ]
        },
        {
          "metadata": {
            "tags": null
          },
          "name": "stdout",
          "output_type": "stream",
          "text": [
            "[0]\ttrain-logloss:0.680036\tvalid-logloss:0.680137\n",
            "Multiple eval metrics have been passed: 'valid-logloss' will be used for early stopping.\n",
            "\n",
            "Will train until valid-logloss hasn't improved in 100 rounds.\n",
            "[300]\ttrain-logloss:0.220461\tvalid-logloss:0.229166\n",
            "[600]\ttrain-logloss:0.208036\tvalid-logloss:0.221953\n",
            "[900]\ttrain-logloss:0.201393\tvalid-logloss:0.219702\n",
            "[1200]\ttrain-logloss:0.196125\tvalid-logloss:0.218669\n",
            "[1500]\ttrain-logloss:0.191695\tvalid-logloss:0.218087\n",
            "[1800]\ttrain-logloss:0.187526\tvalid-logloss:0.217713\n",
            "[2100]\ttrain-logloss:0.183801\tvalid-logloss:0.217494\n",
            "[2400]\ttrain-logloss:0.18003\tvalid-logloss:0.217369\n",
            "[2700]\ttrain-logloss:0.176438\tvalid-logloss:0.217224\n",
            "[3000]\ttrain-logloss:0.173153\tvalid-logloss:0.217153\n",
            "[3300]\ttrain-logloss:0.169922\tvalid-logloss:0.217088\n",
            "[3600]\ttrain-logloss:0.16676\tvalid-logloss:0.21705\n",
            "Stopping. Best iteration:\n",
            "[3629]\ttrain-logloss:0.16648\tvalid-logloss:0.217034\n",
            "\n"
          ]
        },
        {
          "metadata": {
            "tags": null
          },
          "name": "stderr",
          "output_type": "stream",
          "text": [
            "\u001b[32m[I 2022-08-09 19:00:04,457]\u001b[0m Trial 78 finished with value: 0.7941682957183284 and parameters: {'lambda': 0.015487607042355484, 'alpha': 0.21209647460733702, 'colsample_bytree': 0.8, 'subsample': 0.9, 'learning_rate': 0.02, 'max_depth': 6, 'min_child_weight': 145}. Best is trial 64 with value: 0.7958373849385496.\u001b[0m\n"
          ]
        },
        {
          "metadata": {
            "tags": null
          },
          "name": "stdout",
          "output_type": "stream",
          "text": [
            "[0]\ttrain-logloss:0.683423\tvalid-logloss:0.68349\n",
            "Multiple eval metrics have been passed: 'valid-logloss' will be used for early stopping.\n",
            "\n",
            "Will train until valid-logloss hasn't improved in 100 rounds.\n",
            "[300]\ttrain-logloss:0.232793\tvalid-logloss:0.237745\n",
            "[600]\ttrain-logloss:0.218081\tvalid-logloss:0.226136\n",
            "[900]\ttrain-logloss:0.212287\tvalid-logloss:0.222654\n",
            "[1200]\ttrain-logloss:0.208478\tvalid-logloss:0.220894\n",
            "[1500]\ttrain-logloss:0.205441\tvalid-logloss:0.219868\n",
            "[1800]\ttrain-logloss:0.202919\tvalid-logloss:0.219217\n",
            "[2100]\ttrain-logloss:0.200584\tvalid-logloss:0.218747\n",
            "[2400]\ttrain-logloss:0.198459\tvalid-logloss:0.218391\n",
            "[2700]\ttrain-logloss:0.196523\tvalid-logloss:0.218122\n",
            "[3000]\ttrain-logloss:0.194619\tvalid-logloss:0.217933\n",
            "[3300]\ttrain-logloss:0.192904\tvalid-logloss:0.217779\n",
            "[3600]\ttrain-logloss:0.191191\tvalid-logloss:0.217675\n",
            "[3900]\ttrain-logloss:0.189478\tvalid-logloss:0.217572\n",
            "[4200]\ttrain-logloss:0.187783\tvalid-logloss:0.217488\n",
            "[4500]\ttrain-logloss:0.186147\tvalid-logloss:0.217438\n",
            "[4800]\ttrain-logloss:0.184608\tvalid-logloss:0.217392\n",
            "[5100]\ttrain-logloss:0.183028\tvalid-logloss:0.217345\n",
            "Stopping. Best iteration:\n",
            "[5266]\ttrain-logloss:0.182231\tvalid-logloss:0.217311\n",
            "\n"
          ]
        },
        {
          "metadata": {
            "tags": null
          },
          "name": "stderr",
          "output_type": "stream",
          "text": [
            "\u001b[32m[I 2022-08-09 19:11:02,927]\u001b[0m Trial 79 finished with value: 0.7939286494439387 and parameters: {'lambda': 0.005639140684354373, 'alpha': 0.001575087429093922, 'colsample_bytree': 0.5, 'subsample': 1.0, 'learning_rate': 0.015, 'max_depth': 5, 'min_child_weight': 201}. Best is trial 64 with value: 0.7958373849385496.\u001b[0m\n"
          ]
        },
        {
          "metadata": {
            "tags": null
          },
          "name": "stdout",
          "output_type": "stream",
          "text": [
            "[0]\ttrain-logloss:0.660843\tvalid-logloss:0.66111\n",
            "Multiple eval metrics have been passed: 'valid-logloss' will be used for early stopping.\n",
            "\n",
            "Will train until valid-logloss hasn't improved in 100 rounds.\n",
            "[300]\ttrain-logloss:0.20175\tvalid-logloss:0.220619\n",
            "[600]\ttrain-logloss:0.187866\tvalid-logloss:0.218389\n",
            "[900]\ttrain-logloss:0.176397\tvalid-logloss:0.217949\n",
            "Stopping. Best iteration:\n",
            "[1076]\ttrain-logloss:0.170597\tvalid-logloss:0.217891\n",
            "\n"
          ]
        },
        {
          "metadata": {
            "tags": null
          },
          "name": "stderr",
          "output_type": "stream",
          "text": [
            "\u001b[32m[I 2022-08-09 19:14:07,091]\u001b[0m Trial 80 finished with value: 0.7929870882631236 and parameters: {'lambda': 0.07186977964349615, 'alpha': 0.09075662373494649, 'colsample_bytree': 0.7, 'subsample': 0.9, 'learning_rate': 0.05, 'max_depth': 6, 'min_child_weight': 83}. Best is trial 64 with value: 0.7958373849385496.\u001b[0m\n"
          ]
        },
        {
          "metadata": {
            "tags": null
          },
          "name": "stdout",
          "output_type": "stream",
          "text": [
            "[0]\ttrain-logloss:0.680052\tvalid-logloss:0.680153\n",
            "Multiple eval metrics have been passed: 'valid-logloss' will be used for early stopping.\n",
            "\n",
            "Will train until valid-logloss hasn't improved in 100 rounds.\n",
            "[300]\ttrain-logloss:0.221394\tvalid-logloss:0.229395\n",
            "[600]\ttrain-logloss:0.20971\tvalid-logloss:0.222156\n",
            "[900]\ttrain-logloss:0.203641\tvalid-logloss:0.219844\n",
            "[1200]\ttrain-logloss:0.198829\tvalid-logloss:0.218759\n",
            "[1500]\ttrain-logloss:0.194816\tvalid-logloss:0.218223\n",
            "[1800]\ttrain-logloss:0.19121\tvalid-logloss:0.217767\n",
            "[2100]\ttrain-logloss:0.187934\tvalid-logloss:0.217515\n",
            "[2400]\ttrain-logloss:0.184548\tvalid-logloss:0.217363\n",
            "[2700]\ttrain-logloss:0.181374\tvalid-logloss:0.217199\n",
            "[3000]\ttrain-logloss:0.178417\tvalid-logloss:0.217102\n",
            "[3300]\ttrain-logloss:0.175473\tvalid-logloss:0.217039\n",
            "[3600]\ttrain-logloss:0.172605\tvalid-logloss:0.216999\n",
            "Stopping. Best iteration:\n",
            "[3516]\ttrain-logloss:0.173376\tvalid-logloss:0.216985\n",
            "\n"
          ]
        },
        {
          "metadata": {
            "tags": null
          },
          "name": "stderr",
          "output_type": "stream",
          "text": [
            "\u001b[32m[I 2022-08-09 19:22:35,459]\u001b[0m Trial 81 finished with value: 0.7944714449787065 and parameters: {'lambda': 0.045740064841858274, 'alpha': 0.002906403372107236, 'colsample_bytree': 0.6, 'subsample': 0.9, 'learning_rate': 0.02, 'max_depth': 6, 'min_child_weight': 199}. Best is trial 64 with value: 0.7958373849385496.\u001b[0m\n"
          ]
        },
        {
          "metadata": {
            "tags": null
          },
          "name": "stdout",
          "output_type": "stream",
          "text": [
            "[0]\ttrain-logloss:0.683306\tvalid-logloss:0.683383\n",
            "Multiple eval metrics have been passed: 'valid-logloss' will be used for early stopping.\n",
            "\n",
            "Will train until valid-logloss hasn't improved in 100 rounds.\n",
            "[300]\ttrain-logloss:0.22846\tvalid-logloss:0.234875\n",
            "[600]\ttrain-logloss:0.214031\tvalid-logloss:0.224361\n",
            "[900]\ttrain-logloss:0.207784\tvalid-logloss:0.221168\n",
            "[1200]\ttrain-logloss:0.203473\tvalid-logloss:0.219653\n",
            "[1500]\ttrain-logloss:0.199933\tvalid-logloss:0.218832\n",
            "[1800]\ttrain-logloss:0.196678\tvalid-logloss:0.218281\n",
            "[2100]\ttrain-logloss:0.193814\tvalid-logloss:0.217902\n",
            "[2400]\ttrain-logloss:0.191082\tvalid-logloss:0.217629\n",
            "[2700]\ttrain-logloss:0.188459\tvalid-logloss:0.217398\n",
            "[3000]\ttrain-logloss:0.186062\tvalid-logloss:0.217244\n",
            "[3300]\ttrain-logloss:0.183704\tvalid-logloss:0.217135\n",
            "[3600]\ttrain-logloss:0.181294\tvalid-logloss:0.217036\n",
            "[3900]\ttrain-logloss:0.178977\tvalid-logloss:0.216968\n",
            "[4200]\ttrain-logloss:0.176783\tvalid-logloss:0.216915\n",
            "[4500]\ttrain-logloss:0.17463\tvalid-logloss:0.216852\n",
            "[4800]\ttrain-logloss:0.17251\tvalid-logloss:0.216803\n",
            "Stopping. Best iteration:\n",
            "[4879]\ttrain-logloss:0.171962\tvalid-logloss:0.216788\n",
            "\n"
          ]
        },
        {
          "metadata": {
            "tags": null
          },
          "name": "stderr",
          "output_type": "stream",
          "text": [
            "\u001b[32m[I 2022-08-09 19:34:03,991]\u001b[0m Trial 82 finished with value: 0.7954142179753279 and parameters: {'lambda': 0.020387734728168825, 'alpha': 2.37988260411608, 'colsample_bytree': 0.6, 'subsample': 0.9, 'learning_rate': 0.015, 'max_depth': 6, 'min_child_weight': 188}. Best is trial 64 with value: 0.7958373849385496.\u001b[0m\n"
          ]
        },
        {
          "metadata": {
            "tags": null
          },
          "name": "stdout",
          "output_type": "stream",
          "text": [
            "[0]\ttrain-logloss:0.686574\tvalid-logloss:0.686624\n",
            "Multiple eval metrics have been passed: 'valid-logloss' will be used for early stopping.\n",
            "\n",
            "Will train until valid-logloss hasn't improved in 100 rounds.\n",
            "[300]\ttrain-logloss:0.24497\tvalid-logloss:0.250104\n",
            "[600]\ttrain-logloss:0.221426\tvalid-logloss:0.229277\n",
            "[900]\ttrain-logloss:0.21405\tvalid-logloss:0.224397\n",
            "[1200]\ttrain-logloss:0.20962\tvalid-logloss:0.222028\n",
            "[1500]\ttrain-logloss:0.206328\tvalid-logloss:0.220624\n",
            "[1800]\ttrain-logloss:0.203544\tvalid-logloss:0.219729\n",
            "[2100]\ttrain-logloss:0.201156\tvalid-logloss:0.219089\n",
            "[2400]\ttrain-logloss:0.198925\tvalid-logloss:0.218639\n",
            "[2700]\ttrain-logloss:0.196907\tvalid-logloss:0.218296\n",
            "[3000]\ttrain-logloss:0.195033\tvalid-logloss:0.218029\n",
            "[3300]\ttrain-logloss:0.1932\tvalid-logloss:0.217785\n",
            "[3600]\ttrain-logloss:0.191485\tvalid-logloss:0.217598\n",
            "[3900]\ttrain-logloss:0.189774\tvalid-logloss:0.21746\n",
            "[4200]\ttrain-logloss:0.188114\tvalid-logloss:0.217316\n",
            "[4500]\ttrain-logloss:0.186448\tvalid-logloss:0.217201\n",
            "[4800]\ttrain-logloss:0.184823\tvalid-logloss:0.217128\n",
            "[5100]\ttrain-logloss:0.183257\tvalid-logloss:0.217047\n",
            "[5400]\ttrain-logloss:0.181777\tvalid-logloss:0.216993\n",
            "[5700]\ttrain-logloss:0.180266\tvalid-logloss:0.216913\n",
            "[6000]\ttrain-logloss:0.178837\tvalid-logloss:0.216882\n",
            "[6300]\ttrain-logloss:0.177391\tvalid-logloss:0.216827\n",
            "[6600]\ttrain-logloss:0.175995\tvalid-logloss:0.216788\n",
            "[6900]\ttrain-logloss:0.17456\tvalid-logloss:0.216754\n",
            "[7200]\ttrain-logloss:0.173189\tvalid-logloss:0.216741\n",
            "Stopping. Best iteration:\n",
            "[7242]\ttrain-logloss:0.173014\tvalid-logloss:0.21673\n",
            "\n"
          ]
        },
        {
          "metadata": {
            "tags": null
          },
          "name": "stderr",
          "output_type": "stream",
          "text": [
            "\u001b[32m[I 2022-08-09 19:50:46,139]\u001b[0m Trial 83 finished with value: 0.7942015332676717 and parameters: {'lambda': 0.018802728274107228, 'alpha': 4.500519516596224, 'colsample_bytree': 0.6, 'subsample': 0.9, 'learning_rate': 0.01, 'max_depth': 6, 'min_child_weight': 184}. Best is trial 64 with value: 0.7958373849385496.\u001b[0m\n"
          ]
        },
        {
          "metadata": {
            "tags": null
          },
          "name": "stdout",
          "output_type": "stream",
          "text": [
            "[0]\ttrain-logloss:0.683304\tvalid-logloss:0.683381\n",
            "Multiple eval metrics have been passed: 'valid-logloss' will be used for early stopping.\n",
            "\n",
            "Will train until valid-logloss hasn't improved in 100 rounds.\n",
            "[300]\ttrain-logloss:0.228155\tvalid-logloss:0.23477\n",
            "[600]\ttrain-logloss:0.213484\tvalid-logloss:0.224201\n",
            "[900]\ttrain-logloss:0.207128\tvalid-logloss:0.221074\n",
            "[1200]\ttrain-logloss:0.202601\tvalid-logloss:0.219597\n",
            "[1500]\ttrain-logloss:0.198951\tvalid-logloss:0.218773\n",
            "[1800]\ttrain-logloss:0.195684\tvalid-logloss:0.218203\n",
            "[2100]\ttrain-logloss:0.192805\tvalid-logloss:0.217841\n",
            "[2400]\ttrain-logloss:0.189992\tvalid-logloss:0.217572\n",
            "[2700]\ttrain-logloss:0.187295\tvalid-logloss:0.217396\n",
            "[3000]\ttrain-logloss:0.184812\tvalid-logloss:0.217224\n",
            "[3300]\ttrain-logloss:0.182333\tvalid-logloss:0.217092\n",
            "[3600]\ttrain-logloss:0.17993\tvalid-logloss:0.216999\n",
            "[3900]\ttrain-logloss:0.177487\tvalid-logloss:0.216901\n",
            "[4200]\ttrain-logloss:0.17523\tvalid-logloss:0.216837\n",
            "[4500]\ttrain-logloss:0.173019\tvalid-logloss:0.216814\n",
            "Stopping. Best iteration:\n",
            "[4512]\ttrain-logloss:0.172926\tvalid-logloss:0.21681\n",
            "\n"
          ]
        },
        {
          "metadata": {
            "tags": null
          },
          "name": "stderr",
          "output_type": "stream",
          "text": [
            "\u001b[32m[I 2022-08-09 20:01:28,202]\u001b[0m Trial 84 finished with value: 0.7945396247232159 and parameters: {'lambda': 0.020997013830924265, 'alpha': 2.581251475342679, 'colsample_bytree': 0.6, 'subsample': 0.9, 'learning_rate': 0.015, 'max_depth': 6, 'min_child_weight': 166}. Best is trial 64 with value: 0.7958373849385496.\u001b[0m\n"
          ]
        },
        {
          "metadata": {
            "tags": null
          },
          "name": "stdout",
          "output_type": "stream",
          "text": [
            "[0]\ttrain-logloss:0.686486\tvalid-logloss:0.686542\n",
            "Multiple eval metrics have been passed: 'valid-logloss' will be used for early stopping.\n",
            "\n",
            "Will train until valid-logloss hasn't improved in 100 rounds.\n",
            "[300]\ttrain-logloss:0.240572\tvalid-logloss:0.247131\n",
            "[600]\ttrain-logloss:0.217304\tvalid-logloss:0.227435\n",
            "[900]\ttrain-logloss:0.209899\tvalid-logloss:0.223043\n",
            "[1200]\ttrain-logloss:0.205205\tvalid-logloss:0.220956\n",
            "[1500]\ttrain-logloss:0.201551\tvalid-logloss:0.21975\n",
            "[1800]\ttrain-logloss:0.198367\tvalid-logloss:0.218979\n",
            "[2100]\ttrain-logloss:0.195492\tvalid-logloss:0.218442\n",
            "[2400]\ttrain-logloss:0.192904\tvalid-logloss:0.218067\n",
            "[2700]\ttrain-logloss:0.190443\tvalid-logloss:0.217782\n",
            "[3000]\ttrain-logloss:0.188161\tvalid-logloss:0.217546\n",
            "[3300]\ttrain-logloss:0.185904\tvalid-logloss:0.217347\n",
            "[3600]\ttrain-logloss:0.183735\tvalid-logloss:0.217203\n",
            "[3900]\ttrain-logloss:0.18161\tvalid-logloss:0.217095\n",
            "[4200]\ttrain-logloss:0.179614\tvalid-logloss:0.217\n",
            "[4500]\ttrain-logloss:0.17759\tvalid-logloss:0.21691\n",
            "[4800]\ttrain-logloss:0.175597\tvalid-logloss:0.216833\n",
            "Stopping. Best iteration:\n",
            "[4863]\ttrain-logloss:0.175184\tvalid-logloss:0.216814\n",
            "\n"
          ]
        },
        {
          "metadata": {
            "tags": null
          },
          "name": "stderr",
          "output_type": "stream",
          "text": [
            "\u001b[32m[I 2022-08-09 20:14:02,144]\u001b[0m Trial 85 finished with value: 0.7960961417893861 and parameters: {'lambda': 0.01266408599670852, 'alpha': 0.006135780234755984, 'colsample_bytree': 0.6, 'subsample': 0.9, 'learning_rate': 0.01, 'max_depth': 7, 'min_child_weight': 193}. Best is trial 85 with value: 0.7960961417893861.\u001b[0m\n"
          ]
        },
        {
          "metadata": {
            "tags": null
          },
          "name": "stdout",
          "output_type": "stream",
          "text": [
            "[0]\ttrain-logloss:0.663719\tvalid-logloss:0.663958\n",
            "Multiple eval metrics have been passed: 'valid-logloss' will be used for early stopping.\n",
            "\n",
            "Will train until valid-logloss hasn't improved in 100 rounds.\n",
            "[300]\ttrain-logloss:0.204274\tvalid-logloss:0.220899\n",
            "[600]\ttrain-logloss:0.19206\tvalid-logloss:0.218516\n",
            "[900]\ttrain-logloss:0.182379\tvalid-logloss:0.217902\n",
            "[1200]\ttrain-logloss:0.17395\tvalid-logloss:0.217786\n",
            "Stopping. Best iteration:\n",
            "[1289]\ttrain-logloss:0.171592\tvalid-logloss:0.217749\n",
            "\n"
          ]
        },
        {
          "metadata": {
            "tags": null
          },
          "name": "stderr",
          "output_type": "stream",
          "text": [
            "\u001b[32m[I 2022-08-09 20:17:51,618]\u001b[0m Trial 86 finished with value: 0.7935081943468769 and parameters: {'lambda': 0.010956459736737534, 'alpha': 0.005494205385360173, 'colsample_bytree': 0.6, 'subsample': 0.9, 'learning_rate': 0.045000000000000005, 'max_depth': 7, 'min_child_weight': 214}. Best is trial 85 with value: 0.7960961417893861.\u001b[0m\n"
          ]
        },
        {
          "metadata": {
            "tags": null
          },
          "name": "stdout",
          "output_type": "stream",
          "text": [
            "[0]\ttrain-logloss:0.683201\tvalid-logloss:0.683286\n",
            "Multiple eval metrics have been passed: 'valid-logloss' will be used for early stopping.\n",
            "\n",
            "Will train until valid-logloss hasn't improved in 100 rounds.\n",
            "[300]\ttrain-logloss:0.225826\tvalid-logloss:0.233217\n",
            "[600]\ttrain-logloss:0.212024\tvalid-logloss:0.223411\n",
            "[900]\ttrain-logloss:0.205719\tvalid-logloss:0.220551\n",
            "[1200]\ttrain-logloss:0.201164\tvalid-logloss:0.219242\n",
            "[1500]\ttrain-logloss:0.197361\tvalid-logloss:0.218555\n",
            "[1800]\ttrain-logloss:0.194028\tvalid-logloss:0.218134\n",
            "[2100]\ttrain-logloss:0.19088\tvalid-logloss:0.217803\n",
            "[2400]\ttrain-logloss:0.187913\tvalid-logloss:0.217553\n",
            "[2700]\ttrain-logloss:0.185\tvalid-logloss:0.217359\n",
            "[3000]\ttrain-logloss:0.182271\tvalid-logloss:0.217242\n",
            "[3300]\ttrain-logloss:0.179525\tvalid-logloss:0.217153\n",
            "[3600]\ttrain-logloss:0.176896\tvalid-logloss:0.217066\n",
            "Stopping. Best iteration:\n",
            "[3614]\ttrain-logloss:0.176793\tvalid-logloss:0.217054\n",
            "\n"
          ]
        },
        {
          "metadata": {
            "tags": null
          },
          "name": "stderr",
          "output_type": "stream",
          "text": [
            "\u001b[32m[I 2022-08-09 20:27:23,984]\u001b[0m Trial 87 finished with value: 0.7947631659262389 and parameters: {'lambda': 0.007661246041651034, 'alpha': 0.6164321891233884, 'colsample_bytree': 0.6, 'subsample': 0.8, 'learning_rate': 0.015, 'max_depth': 7, 'min_child_weight': 228}. Best is trial 85 with value: 0.7960961417893861.\u001b[0m\n"
          ]
        },
        {
          "metadata": {
            "tags": null
          },
          "name": "stdout",
          "output_type": "stream",
          "text": [
            "[0]\ttrain-logloss:0.686484\tvalid-logloss:0.686536\n",
            "Multiple eval metrics have been passed: 'valid-logloss' will be used for early stopping.\n",
            "\n",
            "Will train until valid-logloss hasn't improved in 100 rounds.\n",
            "[300]\ttrain-logloss:0.240051\tvalid-logloss:0.24691\n",
            "[600]\ttrain-logloss:0.216624\tvalid-logloss:0.227227\n",
            "[900]\ttrain-logloss:0.209187\tvalid-logloss:0.222926\n",
            "[1200]\ttrain-logloss:0.204497\tvalid-logloss:0.220862\n",
            "[1500]\ttrain-logloss:0.200855\tvalid-logloss:0.219683\n",
            "[1800]\ttrain-logloss:0.197788\tvalid-logloss:0.21896\n",
            "[2100]\ttrain-logloss:0.195032\tvalid-logloss:0.218454\n",
            "[2400]\ttrain-logloss:0.192514\tvalid-logloss:0.218056\n",
            "[2700]\ttrain-logloss:0.190168\tvalid-logloss:0.217783\n",
            "[3000]\ttrain-logloss:0.187967\tvalid-logloss:0.217569\n",
            "[3300]\ttrain-logloss:0.185871\tvalid-logloss:0.217419\n",
            "[3600]\ttrain-logloss:0.183801\tvalid-logloss:0.217286\n",
            "[3900]\ttrain-logloss:0.181818\tvalid-logloss:0.217148\n",
            "[4200]\ttrain-logloss:0.179868\tvalid-logloss:0.217051\n",
            "[4500]\ttrain-logloss:0.177964\tvalid-logloss:0.216951\n",
            "[4800]\ttrain-logloss:0.17611\tvalid-logloss:0.216888\n",
            "Stopping. Best iteration:\n",
            "[4780]\ttrain-logloss:0.176209\tvalid-logloss:0.216883\n",
            "\n"
          ]
        },
        {
          "metadata": {
            "tags": null
          },
          "name": "stderr",
          "output_type": "stream",
          "text": [
            "\u001b[32m[I 2022-08-09 20:39:27,444]\u001b[0m Trial 88 finished with value: 0.7941560958924425 and parameters: {'lambda': 0.014137299332305567, 'alpha': 0.0068538976488337735, 'colsample_bytree': 0.5, 'subsample': 1.0, 'learning_rate': 0.01, 'max_depth': 7, 'min_child_weight': 190}. Best is trial 85 with value: 0.7960961417893861.\u001b[0m\n"
          ]
        },
        {
          "metadata": {
            "tags": null
          },
          "name": "stdout",
          "output_type": "stream",
          "text": [
            "[0]\ttrain-logloss:0.6833\tvalid-logloss:0.683378\n",
            "Multiple eval metrics have been passed: 'valid-logloss' will be used for early stopping.\n",
            "\n",
            "Will train until valid-logloss hasn't improved in 100 rounds.\n",
            "[300]\ttrain-logloss:0.228136\tvalid-logloss:0.234736\n",
            "[600]\ttrain-logloss:0.213608\tvalid-logloss:0.22421\n",
            "[900]\ttrain-logloss:0.207245\tvalid-logloss:0.221058\n",
            "[1200]\ttrain-logloss:0.202802\tvalid-logloss:0.219608\n",
            "[1500]\ttrain-logloss:0.199055\tvalid-logloss:0.218768\n",
            "[1800]\ttrain-logloss:0.195775\tvalid-logloss:0.218201\n",
            "[2100]\ttrain-logloss:0.192822\tvalid-logloss:0.217833\n",
            "[2400]\ttrain-logloss:0.189929\tvalid-logloss:0.217567\n",
            "[2700]\ttrain-logloss:0.187256\tvalid-logloss:0.217395\n",
            "[3000]\ttrain-logloss:0.184797\tvalid-logloss:0.217228\n",
            "[3300]\ttrain-logloss:0.182256\tvalid-logloss:0.217118\n",
            "[3600]\ttrain-logloss:0.17979\tvalid-logloss:0.217013\n",
            "[3900]\ttrain-logloss:0.177302\tvalid-logloss:0.216936\n",
            "[4200]\ttrain-logloss:0.175004\tvalid-logloss:0.216871\n",
            "Stopping. Best iteration:\n",
            "[4383]\ttrain-logloss:0.173604\tvalid-logloss:0.216832\n",
            "\n"
          ]
        },
        {
          "metadata": {
            "tags": null
          },
          "name": "stderr",
          "output_type": "stream",
          "text": [
            "\u001b[32m[I 2022-08-09 20:49:53,014]\u001b[0m Trial 89 finished with value: 0.7945846782484464 and parameters: {'lambda': 0.0026832674395627395, 'alpha': 0.011686947708436698, 'colsample_bytree': 0.6, 'subsample': 0.9, 'learning_rate': 0.015, 'max_depth': 6, 'min_child_weight': 178}. Best is trial 85 with value: 0.7960961417893861.\u001b[0m\n"
          ]
        },
        {
          "output_type": "stream",
          "name": "stdout",
          "text": [
            "[0]\ttrain-logloss:0.67988\tvalid-logloss:0.680001\n",
            "Multiple eval metrics have been passed: 'valid-logloss' will be used for early stopping.\n",
            "\n",
            "Will train until valid-logloss hasn't improved in 100 rounds.\n",
            "[300]\ttrain-logloss:0.217313\tvalid-logloss:0.227328\n",
            "[600]\ttrain-logloss:0.205063\tvalid-logloss:0.220918\n",
            "[900]\ttrain-logloss:0.19806\tvalid-logloss:0.21902\n",
            "[1200]\ttrain-logloss:0.192373\tvalid-logloss:0.21817\n",
            "[1500]\ttrain-logloss:0.18739\tvalid-logloss:0.217669\n",
            "[1800]\ttrain-logloss:0.182945\tvalid-logloss:0.217384\n",
            "[2100]\ttrain-logloss:0.178381\tvalid-logloss:0.217231\n",
            "[2400]\ttrain-logloss:0.174158\tvalid-logloss:0.217113\n",
            "[2700]\ttrain-logloss:0.170143\tvalid-logloss:0.216979\n",
            "Stopping. Best iteration:\n",
            "[2703]\ttrain-logloss:0.170112\tvalid-logloss:0.216976\n",
            "\n"
          ]
        },
        {
          "output_type": "stream",
          "name": "stderr",
          "text": [
            "\u001b[32m[I 2022-08-09 20:57:10,304]\u001b[0m Trial 90 finished with value: 0.7945021110265922 and parameters: {'lambda': 0.010783338937454225, 'alpha': 0.03258871541937873, 'colsample_bytree': 0.6, 'subsample': 0.8, 'learning_rate': 0.02, 'max_depth': 7, 'min_child_weight': 160}. Best is trial 85 with value: 0.7960961417893861.\u001b[0m\n"
          ]
        },
        {
          "output_type": "stream",
          "name": "stdout",
          "text": [
            "[0]\ttrain-logloss:0.686578\tvalid-logloss:0.686627\n",
            "Multiple eval metrics have been passed: 'valid-logloss' will be used for early stopping.\n",
            "\n",
            "Will train until valid-logloss hasn't improved in 100 rounds.\n",
            "[300]\ttrain-logloss:0.245417\tvalid-logloss:0.250617\n",
            "[600]\ttrain-logloss:0.221762\tvalid-logloss:0.229715\n",
            "[900]\ttrain-logloss:0.214407\tvalid-logloss:0.224778\n",
            "[1200]\ttrain-logloss:0.209984\tvalid-logloss:0.222334\n",
            "[1500]\ttrain-logloss:0.206752\tvalid-logloss:0.220912\n",
            "[1800]\ttrain-logloss:0.204014\tvalid-logloss:0.219988\n",
            "[2100]\ttrain-logloss:0.201662\tvalid-logloss:0.219343\n",
            "[2400]\ttrain-logloss:0.199457\tvalid-logloss:0.218894\n",
            "[2700]\ttrain-logloss:0.197517\tvalid-logloss:0.218555\n",
            "[3000]\ttrain-logloss:0.195634\tvalid-logloss:0.218258\n",
            "[3300]\ttrain-logloss:0.19386\tvalid-logloss:0.21803\n",
            "[3600]\ttrain-logloss:0.19217\tvalid-logloss:0.21783\n",
            "[3900]\ttrain-logloss:0.190486\tvalid-logloss:0.217675\n",
            "[4200]\ttrain-logloss:0.188911\tvalid-logloss:0.217532\n",
            "[4500]\ttrain-logloss:0.187352\tvalid-logloss:0.217437\n",
            "[4800]\ttrain-logloss:0.185783\tvalid-logloss:0.217349\n",
            "[5100]\ttrain-logloss:0.184248\tvalid-logloss:0.217262\n",
            "[5400]\ttrain-logloss:0.182743\tvalid-logloss:0.217203\n",
            "[5700]\ttrain-logloss:0.181289\tvalid-logloss:0.217144\n",
            "[6000]\ttrain-logloss:0.17985\tvalid-logloss:0.217092\n",
            "[6300]\ttrain-logloss:0.178444\tvalid-logloss:0.217061\n",
            "[6600]\ttrain-logloss:0.17705\tvalid-logloss:0.217032\n",
            "Stopping. Best iteration:\n",
            "[6590]\ttrain-logloss:0.177109\tvalid-logloss:0.217029\n",
            "\n"
          ]
        },
        {
          "output_type": "stream",
          "name": "stderr",
          "text": [
            "\u001b[32m[I 2022-08-09 21:12:35,275]\u001b[0m Trial 91 finished with value: 0.7944274197333416 and parameters: {'lambda': 0.025517385329964226, 'alpha': 7.7005027249575155, 'colsample_bytree': 0.8, 'subsample': 0.9, 'learning_rate': 0.01, 'max_depth': 6, 'min_child_weight': 194}. Best is trial 85 with value: 0.7960961417893861.\u001b[0m\n"
          ]
        },
        {
          "output_type": "stream",
          "name": "stdout",
          "text": [
            "[0]\ttrain-logloss:0.686555\tvalid-logloss:0.686608\n",
            "Multiple eval metrics have been passed: 'valid-logloss' will be used for early stopping.\n",
            "\n",
            "Will train until valid-logloss hasn't improved in 100 rounds.\n",
            "[300]\ttrain-logloss:0.243568\tvalid-logloss:0.249273\n",
            "[600]\ttrain-logloss:0.219409\tvalid-logloss:0.228525\n",
            "[900]\ttrain-logloss:0.211318\tvalid-logloss:0.223656\n",
            "[1200]\ttrain-logloss:0.20621\tvalid-logloss:0.22133\n",
            "[1500]\ttrain-logloss:0.202305\tvalid-logloss:0.219993\n",
            "[1800]\ttrain-logloss:0.19899\tvalid-logloss:0.219159\n",
            "[2100]\ttrain-logloss:0.196075\tvalid-logloss:0.218553\n",
            "[2400]\ttrain-logloss:0.193373\tvalid-logloss:0.21817\n",
            "[2700]\ttrain-logloss:0.190907\tvalid-logloss:0.217846\n",
            "[3000]\ttrain-logloss:0.188516\tvalid-logloss:0.21761\n",
            "[3300]\ttrain-logloss:0.186232\tvalid-logloss:0.217385\n",
            "[3600]\ttrain-logloss:0.184082\tvalid-logloss:0.21723\n",
            "[3900]\ttrain-logloss:0.181931\tvalid-logloss:0.217118\n",
            "[4200]\ttrain-logloss:0.179888\tvalid-logloss:0.217011\n",
            "[4500]\ttrain-logloss:0.1779\tvalid-logloss:0.216931\n",
            "[4800]\ttrain-logloss:0.175904\tvalid-logloss:0.216862\n",
            "[5100]\ttrain-logloss:0.17403\tvalid-logloss:0.216806\n",
            "[5400]\ttrain-logloss:0.172131\tvalid-logloss:0.216783\n",
            "Stopping. Best iteration:\n",
            "[5347]\ttrain-logloss:0.172438\tvalid-logloss:0.216778\n",
            "\n"
          ]
        },
        {
          "output_type": "stream",
          "name": "stderr",
          "text": [
            "\u001b[32m[I 2022-08-09 21:25:12,348]\u001b[0m Trial 92 finished with value: 0.7944092910548084 and parameters: {'lambda': 0.03116305465057012, 'alpha': 0.004175885970781174, 'colsample_bytree': 0.7, 'subsample': 0.9, 'learning_rate': 0.01, 'max_depth': 6, 'min_child_weight': 101}. Best is trial 85 with value: 0.7960961417893861.\u001b[0m\n"
          ]
        },
        {
          "output_type": "stream",
          "name": "stdout",
          "text": [
            "[0]\ttrain-logloss:0.686567\tvalid-logloss:0.686618\n",
            "Multiple eval metrics have been passed: 'valid-logloss' will be used for early stopping.\n",
            "\n",
            "Will train until valid-logloss hasn't improved in 100 rounds.\n",
            "[300]\ttrain-logloss:0.24491\tvalid-logloss:0.249932\n",
            "[600]\ttrain-logloss:0.221455\tvalid-logloss:0.229189\n",
            "[900]\ttrain-logloss:0.214167\tvalid-logloss:0.224314\n",
            "[1200]\ttrain-logloss:0.209721\tvalid-logloss:0.221936\n",
            "[1500]\ttrain-logloss:0.206359\tvalid-logloss:0.220548\n",
            "[1800]\ttrain-logloss:0.203551\tvalid-logloss:0.219668\n",
            "[2100]\ttrain-logloss:0.201136\tvalid-logloss:0.219064\n",
            "[2400]\ttrain-logloss:0.198894\tvalid-logloss:0.218627\n",
            "[2700]\ttrain-logloss:0.196903\tvalid-logloss:0.218295\n",
            "[3000]\ttrain-logloss:0.195022\tvalid-logloss:0.218006\n",
            "[3300]\ttrain-logloss:0.193101\tvalid-logloss:0.217758\n",
            "[3600]\ttrain-logloss:0.191329\tvalid-logloss:0.217586\n",
            "[3900]\ttrain-logloss:0.189591\tvalid-logloss:0.217444\n",
            "[4200]\ttrain-logloss:0.187922\tvalid-logloss:0.217311\n",
            "[4500]\ttrain-logloss:0.186268\tvalid-logloss:0.2172\n",
            "[4800]\ttrain-logloss:0.184647\tvalid-logloss:0.217114\n",
            "[5100]\ttrain-logloss:0.183063\tvalid-logloss:0.217058\n",
            "[5400]\ttrain-logloss:0.18154\tvalid-logloss:0.217001\n",
            "[5700]\ttrain-logloss:0.179986\tvalid-logloss:0.216951\n",
            "Stopping. Best iteration:\n",
            "[5792]\ttrain-logloss:0.179531\tvalid-logloss:0.216934\n",
            "\n"
          ]
        },
        {
          "output_type": "stream",
          "name": "stderr",
          "text": [
            "\u001b[32m[I 2022-08-09 21:38:50,682]\u001b[0m Trial 93 finished with value: 0.7943784966281393 and parameters: {'lambda': 0.0012799790563823206, 'alpha': 0.0017374874185682617, 'colsample_bytree': 0.6, 'subsample': 0.9, 'learning_rate': 0.01, 'max_depth': 6, 'min_child_weight': 204}. Best is trial 85 with value: 0.7960961417893861.\u001b[0m\n"
          ]
        },
        {
          "output_type": "stream",
          "name": "stdout",
          "text": [
            "[0]\ttrain-logloss:0.68656\tvalid-logloss:0.686613\n",
            "Multiple eval metrics have been passed: 'valid-logloss' will be used for early stopping.\n",
            "\n",
            "Will train until valid-logloss hasn't improved in 100 rounds.\n",
            "[300]\ttrain-logloss:0.244123\tvalid-logloss:0.249661\n",
            "[600]\ttrain-logloss:0.220163\tvalid-logloss:0.228887\n",
            "[900]\ttrain-logloss:0.2123\tvalid-logloss:0.223993\n",
            "[1200]\ttrain-logloss:0.207461\tvalid-logloss:0.221609\n",
            "[1500]\ttrain-logloss:0.203807\tvalid-logloss:0.220236\n",
            "[1800]\ttrain-logloss:0.200656\tvalid-logloss:0.219342\n",
            "[2100]\ttrain-logloss:0.197898\tvalid-logloss:0.218722\n",
            "[2400]\ttrain-logloss:0.195437\tvalid-logloss:0.218315\n",
            "[2700]\ttrain-logloss:0.193132\tvalid-logloss:0.217986\n",
            "[3000]\ttrain-logloss:0.190943\tvalid-logloss:0.217718\n",
            "[3300]\ttrain-logloss:0.188834\tvalid-logloss:0.217475\n",
            "[3600]\ttrain-logloss:0.186861\tvalid-logloss:0.2173\n",
            "[3900]\ttrain-logloss:0.184882\tvalid-logloss:0.217167\n",
            "[4200]\ttrain-logloss:0.18299\tvalid-logloss:0.217043\n",
            "[4500]\ttrain-logloss:0.181094\tvalid-logloss:0.216964\n",
            "[4800]\ttrain-logloss:0.179248\tvalid-logloss:0.216887\n",
            "[5100]\ttrain-logloss:0.177531\tvalid-logloss:0.216833\n",
            "[5400]\ttrain-logloss:0.175812\tvalid-logloss:0.216793\n",
            "[5700]\ttrain-logloss:0.174115\tvalid-logloss:0.21674\n",
            "[6000]\ttrain-logloss:0.172456\tvalid-logloss:0.216719\n",
            "Stopping. Best iteration:\n",
            "[5939]\ttrain-logloss:0.172807\tvalid-logloss:0.216711\n",
            "\n"
          ]
        },
        {
          "output_type": "stream",
          "name": "stderr",
          "text": [
            "\u001b[32m[I 2022-08-09 21:52:43,226]\u001b[0m Trial 94 finished with value: 0.7952405793012873 and parameters: {'lambda': 0.018091739164788945, 'alpha': 2.110471741889085, 'colsample_bytree': 0.7, 'subsample': 0.9, 'learning_rate': 0.01, 'max_depth': 6, 'min_child_weight': 124}. Best is trial 85 with value: 0.7960961417893861.\u001b[0m\n"
          ]
        },
        {
          "output_type": "stream",
          "name": "stdout",
          "text": [
            "[0]\ttrain-logloss:0.683424\tvalid-logloss:0.683494\n",
            "Multiple eval metrics have been passed: 'valid-logloss' will be used for early stopping.\n",
            "\n",
            "Will train until valid-logloss hasn't improved in 100 rounds.\n",
            "[300]\ttrain-logloss:0.232853\tvalid-logloss:0.237854\n",
            "[600]\ttrain-logloss:0.217798\tvalid-logloss:0.226058\n",
            "[900]\ttrain-logloss:0.211656\tvalid-logloss:0.222475\n",
            "[1200]\ttrain-logloss:0.207469\tvalid-logloss:0.220649\n",
            "[1500]\ttrain-logloss:0.204225\tvalid-logloss:0.219566\n",
            "[1800]\ttrain-logloss:0.20142\tvalid-logloss:0.218881\n",
            "[2100]\ttrain-logloss:0.19892\tvalid-logloss:0.218432\n",
            "[2400]\ttrain-logloss:0.196543\tvalid-logloss:0.218118\n",
            "[2700]\ttrain-logloss:0.194334\tvalid-logloss:0.217861\n",
            "[3000]\ttrain-logloss:0.192265\tvalid-logloss:0.217647\n",
            "[3300]\ttrain-logloss:0.19025\tvalid-logloss:0.217484\n",
            "[3600]\ttrain-logloss:0.188319\tvalid-logloss:0.217345\n",
            "[3900]\ttrain-logloss:0.186381\tvalid-logloss:0.217232\n",
            "[4200]\ttrain-logloss:0.18459\tvalid-logloss:0.217153\n",
            "[4500]\ttrain-logloss:0.18275\tvalid-logloss:0.21708\n",
            "[4800]\ttrain-logloss:0.180945\tvalid-logloss:0.217056\n",
            "[5100]\ttrain-logloss:0.179273\tvalid-logloss:0.217002\n",
            "[5400]\ttrain-logloss:0.177584\tvalid-logloss:0.21699\n",
            "Stopping. Best iteration:\n",
            "[5352]\ttrain-logloss:0.177856\tvalid-logloss:0.21698\n",
            "\n"
          ]
        },
        {
          "output_type": "stream",
          "name": "stderr",
          "text": [
            "\u001b[32m[I 2022-08-09 22:04:06,084]\u001b[0m Trial 95 finished with value: 0.7937794357269259 and parameters: {'lambda': 0.0019826185894173355, 'alpha': 1.3356643754572388, 'colsample_bytree': 0.7, 'subsample': 0.9, 'learning_rate': 0.015, 'max_depth': 5, 'min_child_weight': 151}. Best is trial 85 with value: 0.7960961417893861.\u001b[0m\n"
          ]
        },
        {
          "output_type": "stream",
          "name": "stdout",
          "text": [
            "[0]\ttrain-logloss:0.686568\tvalid-logloss:0.686618\n",
            "Multiple eval metrics have been passed: 'valid-logloss' will be used for early stopping.\n",
            "\n",
            "Will train until valid-logloss hasn't improved in 100 rounds.\n",
            "[300]\ttrain-logloss:0.244726\tvalid-logloss:0.250014\n",
            "[600]\ttrain-logloss:0.221055\tvalid-logloss:0.229231\n",
            "[900]\ttrain-logloss:0.213564\tvalid-logloss:0.224377\n",
            "[1200]\ttrain-logloss:0.209026\tvalid-logloss:0.222017\n",
            "[1500]\ttrain-logloss:0.205711\tvalid-logloss:0.220622\n",
            "[1800]\ttrain-logloss:0.202834\tvalid-logloss:0.219734\n",
            "[2100]\ttrain-logloss:0.200324\tvalid-logloss:0.219107\n",
            "[2400]\ttrain-logloss:0.198012\tvalid-logloss:0.218665\n",
            "[2700]\ttrain-logloss:0.195921\tvalid-logloss:0.21835\n",
            "[3000]\ttrain-logloss:0.19394\tvalid-logloss:0.21808\n",
            "[3300]\ttrain-logloss:0.192021\tvalid-logloss:0.217846\n",
            "[3600]\ttrain-logloss:0.19022\tvalid-logloss:0.217635\n",
            "[3900]\ttrain-logloss:0.188409\tvalid-logloss:0.217488\n",
            "[4200]\ttrain-logloss:0.186686\tvalid-logloss:0.21735\n",
            "[4500]\ttrain-logloss:0.184965\tvalid-logloss:0.217231\n",
            "[4800]\ttrain-logloss:0.183309\tvalid-logloss:0.217156\n",
            "[5100]\ttrain-logloss:0.181705\tvalid-logloss:0.217084\n",
            "Stopping. Best iteration:\n",
            "[5084]\ttrain-logloss:0.1818\tvalid-logloss:0.217081\n",
            "\n"
          ]
        },
        {
          "output_type": "stream",
          "name": "stderr",
          "text": [
            "\u001b[32m[I 2022-08-09 22:16:12,368]\u001b[0m Trial 96 finished with value: 0.7938819705984392 and parameters: {'lambda': 0.009013045219972898, 'alpha': 2.3590006047365875, 'colsample_bytree': 0.7, 'subsample': 0.9, 'learning_rate': 0.01, 'max_depth': 6, 'min_child_weight': 173}. Best is trial 85 with value: 0.7960961417893861.\u001b[0m\n"
          ]
        },
        {
          "output_type": "stream",
          "name": "stdout",
          "text": [
            "[0]\ttrain-logloss:0.683299\tvalid-logloss:0.683374\n",
            "Multiple eval metrics have been passed: 'valid-logloss' will be used for early stopping.\n",
            "\n",
            "Will train until valid-logloss hasn't improved in 100 rounds.\n",
            "[300]\ttrain-logloss:0.228278\tvalid-logloss:0.234903\n",
            "[600]\ttrain-logloss:0.213772\tvalid-logloss:0.224363\n",
            "[900]\ttrain-logloss:0.207337\tvalid-logloss:0.221188\n",
            "[1200]\ttrain-logloss:0.202954\tvalid-logloss:0.219762\n",
            "[1500]\ttrain-logloss:0.199252\tvalid-logloss:0.21893\n",
            "[1800]\ttrain-logloss:0.195985\tvalid-logloss:0.218379\n",
            "[2100]\ttrain-logloss:0.193098\tvalid-logloss:0.217983\n",
            "[2400]\ttrain-logloss:0.190281\tvalid-logloss:0.217707\n",
            "[2700]\ttrain-logloss:0.187529\tvalid-logloss:0.217504\n",
            "[3000]\ttrain-logloss:0.184945\tvalid-logloss:0.21737\n",
            "[3300]\ttrain-logloss:0.182376\tvalid-logloss:0.217221\n",
            "[3600]\ttrain-logloss:0.179984\tvalid-logloss:0.217134\n",
            "[3900]\ttrain-logloss:0.177581\tvalid-logloss:0.217065\n",
            "[4200]\ttrain-logloss:0.175323\tvalid-logloss:0.217022\n",
            "[4500]\ttrain-logloss:0.173048\tvalid-logloss:0.216983\n",
            "Stopping. Best iteration:\n",
            "[4542]\ttrain-logloss:0.172725\tvalid-logloss:0.216974\n",
            "\n"
          ]
        },
        {
          "output_type": "stream",
          "name": "stderr",
          "text": [
            "\u001b[32m[I 2022-08-09 22:26:57,655]\u001b[0m Trial 97 finished with value: 0.7944800615288232 and parameters: {'lambda': 0.016860805299522143, 'alpha': 0.0029854114207875063, 'colsample_bytree': 0.7, 'subsample': 0.9, 'learning_rate': 0.015, 'max_depth': 6, 'min_child_weight': 187}. Best is trial 85 with value: 0.7960961417893861.\u001b[0m\n"
          ]
        },
        {
          "output_type": "stream",
          "name": "stdout",
          "text": [
            "[0]\ttrain-logloss:0.686471\tvalid-logloss:0.686536\n",
            "Multiple eval metrics have been passed: 'valid-logloss' will be used for early stopping.\n",
            "\n",
            "Will train until valid-logloss hasn't improved in 100 rounds.\n",
            "[300]\ttrain-logloss:0.238485\tvalid-logloss:0.246267\n",
            "[600]\ttrain-logloss:0.214438\tvalid-logloss:0.226728\n",
            "[900]\ttrain-logloss:0.206395\tvalid-logloss:0.222531\n",
            "[1200]\ttrain-logloss:0.201367\tvalid-logloss:0.220597\n",
            "[1500]\ttrain-logloss:0.197224\tvalid-logloss:0.219453\n",
            "[1800]\ttrain-logloss:0.193696\tvalid-logloss:0.218759\n",
            "[2100]\ttrain-logloss:0.190557\tvalid-logloss:0.218304\n",
            "[2400]\ttrain-logloss:0.187638\tvalid-logloss:0.217962\n",
            "[2700]\ttrain-logloss:0.184816\tvalid-logloss:0.217696\n",
            "[3000]\ttrain-logloss:0.182256\tvalid-logloss:0.217498\n",
            "[3300]\ttrain-logloss:0.17992\tvalid-logloss:0.217361\n",
            "[3600]\ttrain-logloss:0.177529\tvalid-logloss:0.217257\n",
            "[3900]\ttrain-logloss:0.175246\tvalid-logloss:0.217167\n",
            "[4200]\ttrain-logloss:0.173053\tvalid-logloss:0.217063\n",
            "[4500]\ttrain-logloss:0.170836\tvalid-logloss:0.217027\n",
            "[4800]\ttrain-logloss:0.168611\tvalid-logloss:0.216978\n",
            "[5100]\ttrain-logloss:0.166485\tvalid-logloss:0.216909\n",
            "Stopping. Best iteration:\n",
            "[5254]\ttrain-logloss:0.165434\tvalid-logloss:0.216881\n",
            "\n"
          ]
        },
        {
          "output_type": "stream",
          "name": "stderr",
          "text": [
            "\u001b[32m[I 2022-08-09 22:39:59,526]\u001b[0m Trial 98 finished with value: 0.7944200993558888 and parameters: {'lambda': 0.01291887609469414, 'alpha': 0.0213341954721546, 'colsample_bytree': 0.6, 'subsample': 1.0, 'learning_rate': 0.01, 'max_depth': 7, 'min_child_weight': 122}. Best is trial 85 with value: 0.7960961417893861.\u001b[0m\n"
          ]
        },
        {
          "output_type": "stream",
          "name": "stdout",
          "text": [
            "[0]\ttrain-logloss:0.670375\tvalid-logloss:0.670557\n",
            "Multiple eval metrics have been passed: 'valid-logloss' will be used for early stopping.\n",
            "\n",
            "Will train until valid-logloss hasn't improved in 100 rounds.\n",
            "[300]\ttrain-logloss:0.2101\tvalid-logloss:0.22302\n",
            "[600]\ttrain-logloss:0.198644\tvalid-logloss:0.219125\n",
            "[900]\ttrain-logloss:0.19039\tvalid-logloss:0.218154\n",
            "[1200]\ttrain-logloss:0.18335\tvalid-logloss:0.217631\n",
            "[1500]\ttrain-logloss:0.177124\tvalid-logloss:0.217516\n",
            "Stopping. Best iteration:\n",
            "[1590]\ttrain-logloss:0.175252\tvalid-logloss:0.217452\n",
            "\n"
          ]
        },
        {
          "output_type": "stream",
          "name": "stderr",
          "text": [
            "\u001b[32m[I 2022-08-09 22:44:12,076]\u001b[0m Trial 99 finished with value: 0.7934157527406644 and parameters: {'lambda': 0.005073730293494858, 'alpha': 0.0010480702615082676, 'colsample_bytree': 0.6, 'subsample': 0.9, 'learning_rate': 0.035, 'max_depth': 6, 'min_child_weight': 134}. Best is trial 85 with value: 0.7960961417893861.\u001b[0m\n"
          ]
        }
      ]
    },
    {
      "cell_type": "code",
      "source": [
        ""
      ],
      "metadata": {
        "id": "6eumC4KYYrUn"
      },
      "execution_count": null,
      "outputs": []
    },
    {
      "cell_type": "code",
      "source": [
        ""
      ],
      "metadata": {
        "id": "aFCQcar_YrR0"
      },
      "execution_count": null,
      "outputs": []
    },
    {
      "cell_type": "code",
      "source": [
        ""
      ],
      "metadata": {
        "id": "AjoCYdLUYrPJ"
      },
      "execution_count": null,
      "outputs": []
    },
    {
      "cell_type": "code",
      "source": [
        "temp = cudf.DataFrame({'a':[1,2,3,4], 'b':[1,2,3,4]})\n",
        "temp.groupby(['a']).size().sort_values('a')"
      ],
      "metadata": {
        "colab": {
          "base_uri": "https://localhost:8080/",
          "height": 341
        },
        "id": "936VIUeZDv2F",
        "outputId": "54fbe727-896f-455d-8aee-38638327a20f"
      },
      "execution_count": null,
      "outputs": [
        {
          "output_type": "error",
          "ename": "NotImplementedError",
          "evalue": "ignored",
          "traceback": [
            "\u001b[0;31m---------------------------------------------------------------------------\u001b[0m",
            "\u001b[0;31mNotImplementedError\u001b[0m                       Traceback (most recent call last)",
            "\u001b[0;32m<ipython-input-29-fde8ff07a142>\u001b[0m in \u001b[0;36m<module>\u001b[0;34m()\u001b[0m\n\u001b[1;32m      1\u001b[0m \u001b[0mtemp\u001b[0m \u001b[0;34m=\u001b[0m \u001b[0mcudf\u001b[0m\u001b[0;34m.\u001b[0m\u001b[0mDataFrame\u001b[0m\u001b[0;34m(\u001b[0m\u001b[0;34m{\u001b[0m\u001b[0;34m'a'\u001b[0m\u001b[0;34m:\u001b[0m\u001b[0;34m[\u001b[0m\u001b[0;36m1\u001b[0m\u001b[0;34m,\u001b[0m\u001b[0;36m2\u001b[0m\u001b[0;34m,\u001b[0m\u001b[0;36m3\u001b[0m\u001b[0;34m,\u001b[0m\u001b[0;36m4\u001b[0m\u001b[0;34m]\u001b[0m\u001b[0;34m,\u001b[0m \u001b[0;34m'b'\u001b[0m\u001b[0;34m:\u001b[0m\u001b[0;34m[\u001b[0m\u001b[0;36m1\u001b[0m\u001b[0;34m,\u001b[0m\u001b[0;36m2\u001b[0m\u001b[0;34m,\u001b[0m\u001b[0;36m3\u001b[0m\u001b[0;34m,\u001b[0m\u001b[0;36m4\u001b[0m\u001b[0;34m]\u001b[0m\u001b[0;34m}\u001b[0m\u001b[0;34m)\u001b[0m\u001b[0;34m\u001b[0m\u001b[0;34m\u001b[0m\u001b[0m\n\u001b[0;32m----> 2\u001b[0;31m \u001b[0mtemp\u001b[0m\u001b[0;34m.\u001b[0m\u001b[0mgroupby\u001b[0m\u001b[0;34m(\u001b[0m\u001b[0;34m[\u001b[0m\u001b[0;34m'a'\u001b[0m\u001b[0;34m]\u001b[0m\u001b[0;34m)\u001b[0m\u001b[0;34m.\u001b[0m\u001b[0msize\u001b[0m\u001b[0;34m(\u001b[0m\u001b[0;34m)\u001b[0m\u001b[0;34m.\u001b[0m\u001b[0msort_values\u001b[0m\u001b[0;34m(\u001b[0m\u001b[0;34m'a'\u001b[0m\u001b[0;34m)\u001b[0m\u001b[0;34m\u001b[0m\u001b[0;34m\u001b[0m\u001b[0m\n\u001b[0m",
            "\u001b[0;32m/usr/local/lib/python3.7/site-packages/cudf/core/series.py\u001b[0m in \u001b[0;36msort_values\u001b[0;34m(self, axis, ascending, inplace, kind, na_position, ignore_index)\u001b[0m\n\u001b[1;32m   1965\u001b[0m             \u001b[0mkind\u001b[0m\u001b[0;34m=\u001b[0m\u001b[0mkind\u001b[0m\u001b[0;34m,\u001b[0m\u001b[0;34m\u001b[0m\u001b[0;34m\u001b[0m\u001b[0m\n\u001b[1;32m   1966\u001b[0m             \u001b[0mna_position\u001b[0m\u001b[0;34m=\u001b[0m\u001b[0mna_position\u001b[0m\u001b[0;34m,\u001b[0m\u001b[0;34m\u001b[0m\u001b[0;34m\u001b[0m\u001b[0m\n\u001b[0;32m-> 1967\u001b[0;31m             \u001b[0mignore_index\u001b[0m\u001b[0;34m=\u001b[0m\u001b[0mignore_index\u001b[0m\u001b[0;34m,\u001b[0m\u001b[0;34m\u001b[0m\u001b[0;34m\u001b[0m\u001b[0m\n\u001b[0m\u001b[1;32m   1968\u001b[0m         )\n\u001b[1;32m   1969\u001b[0m \u001b[0;34m\u001b[0m\u001b[0m\n",
            "\u001b[0;32m/usr/local/lib/python3.7/site-packages/cudf/core/indexed_frame.py\u001b[0m in \u001b[0;36msort_values\u001b[0;34m(self, by, axis, ascending, inplace, kind, na_position, ignore_index)\u001b[0m\n\u001b[1;32m    498\u001b[0m             )\n\u001b[1;32m    499\u001b[0m         \u001b[0;32mif\u001b[0m \u001b[0maxis\u001b[0m \u001b[0;34m!=\u001b[0m \u001b[0;36m0\u001b[0m\u001b[0;34m:\u001b[0m\u001b[0;34m\u001b[0m\u001b[0;34m\u001b[0m\u001b[0m\n\u001b[0;32m--> 500\u001b[0;31m             \u001b[0;32mraise\u001b[0m \u001b[0mNotImplementedError\u001b[0m\u001b[0;34m(\u001b[0m\u001b[0;34m\"`axis` not currently implemented.\"\u001b[0m\u001b[0;34m)\u001b[0m\u001b[0;34m\u001b[0m\u001b[0;34m\u001b[0m\u001b[0m\n\u001b[0m\u001b[1;32m    501\u001b[0m \u001b[0;34m\u001b[0m\u001b[0m\n\u001b[1;32m    502\u001b[0m         \u001b[0;32mif\u001b[0m \u001b[0mlen\u001b[0m\u001b[0;34m(\u001b[0m\u001b[0mself\u001b[0m\u001b[0;34m)\u001b[0m \u001b[0;34m==\u001b[0m \u001b[0;36m0\u001b[0m\u001b[0;34m:\u001b[0m\u001b[0;34m\u001b[0m\u001b[0;34m\u001b[0m\u001b[0m\n",
            "\u001b[0;31mNotImplementedError\u001b[0m: `axis` not currently implemented."
          ]
        }
      ]
    },
    {
      "cell_type": "code",
      "source": [
        ""
      ],
      "metadata": {
        "id": "U3eaLtOJDvsS"
      },
      "execution_count": null,
      "outputs": []
    },
    {
      "cell_type": "code",
      "source": [
        "def number_of_obs(df):\n",
        "  df_presence = df.groupby(['customer_ID']).size().reset_index().rename(columns={0:'number_of_observations'})\n",
        "  df = df.merge(df_presence, on='customer_ID', how = 'left')\n",
        "  df.loc[df['B_33'].isnull() & (df.number_of_observations==1),'number_of_observations'] = 0.5\n",
        "  df_presence_agg = df.groupby(\"customer_ID\")['number_of_observations'].agg(['last'])\n",
        "  df_presence_agg.columns = ['_'.join(x) for x in df_presence_agg.columns]\n",
        "  gc.collect()\n",
        "  return df"
      ],
      "metadata": {
        "id": "vfZgVBfc_jnH"
      },
      "execution_count": null,
      "outputs": []
    },
    {
      "cell_type": "code",
      "source": [
        "train = number_of_obs(train)"
      ],
      "metadata": {
        "id": "WPtVqRV3_jiv"
      },
      "execution_count": null,
      "outputs": []
    },
    {
      "cell_type": "code",
      "source": [
        "def revertnan(df):\n",
        "  df = df.to_pandas()\n",
        "  df[df==-1] = np.nan \n",
        "  df = cudf.from_pandas(df)\n",
        "  return df"
      ],
      "metadata": {
        "id": "sP2rNYR7Bk4E"
      },
      "execution_count": null,
      "outputs": []
    },
    {
      "cell_type": "code",
      "source": [
        "train = revertnan(train)"
      ],
      "metadata": {
        "id": "c3HZWgwWJjxA"
      },
      "execution_count": null,
      "outputs": []
    },
    {
      "cell_type": "code",
      "source": [
        "def dummy_nan(df):\n",
        "\n",
        "  all_cols = [c for c in list(train.columns) if c not in ['customer_ID','S_2']]\n",
        "  cat_features = [\"B_30\",\"B_38\",\"D_114\",\"D_116\",\"D_117\",\"D_120\",\"D_126\",\"D_63\",\"D_64\",\"D_66\",\"D_68\"]\n",
        "  num_features = [col for col in all_cols if col not in cat_features]\n",
        "\n",
        "  nullvals = df.isnull().sum() / df.shape[0]\n",
        "\n",
        "  #keep only last für nan >90%\n",
        "  exclnullCols = nullvals[nullvals>0.9].index.to_arrow().to_pylist()\n",
        "\n",
        "    \n",
        "  #exclude nan>90% from aggregating functions\n",
        "  num_features = [col for col in num_features if col not in exclnullCols]\n",
        "  cat_features = [col for col in cat_features if col not in exclnullCols]\n",
        "\n",
        "  #dummy for 30% nan values\n",
        "  nullCols = nullvals[nullvals>0.3].index.to_arrow().to_pylist()\n",
        "  dummy_nan_col = [] \n",
        "  for col in nullCols:\n",
        "    df[col+'_null'] = df[col].isnull().astype(int)\n",
        "    dummy_nan_col.append(col+'_null')\n",
        "  return df, num_features, cat_features, all_cols, exclnullCols, dummy_nan_col"
      ],
      "metadata": {
        "id": "YLUsSs4J_jdX"
      },
      "execution_count": null,
      "outputs": []
    },
    {
      "cell_type": "code",
      "source": [
        "train, num_features, cat_features, all_cols, exclnullCols, dummy_nan_col = dummy_nan(train)"
      ],
      "metadata": {
        "id": "76t2W_vs_jaG"
      },
      "execution_count": null,
      "outputs": []
    },
    {
      "cell_type": "code",
      "source": [
        "list_features = [num_features, cat_features, all_cols, exclnullCols, dummy_nan_col]"
      ],
      "metadata": {
        "id": "8tl-jSo9ujHg"
      },
      "execution_count": null,
      "outputs": []
    },
    {
      "cell_type": "code",
      "source": [
        "# write feautures to file\n",
        "with open('/content/drive/MyDrive/Amex/parquet/XGB v3/features.csv', 'w') as f: \n",
        "    write = csv.writer(f)\n",
        "    write.writerows(list_features) \n",
        "\n"
      ],
      "metadata": {
        "id": "syoDXeWXmgk7"
      },
      "execution_count": null,
      "outputs": []
    },
    {
      "cell_type": "code",
      "source": [
        "#read features from filw\n",
        "import csv\n",
        "\n",
        "#file = open('/content/drive/MyDrive/Amex/parquet/XGB v3/features.csv', 'r')\n",
        "\n",
        "\n",
        "with open('/content/drive/MyDrive/Amex/parquet/XGB v3/features.csv') as file_obj:\n",
        "    reader = csv.reader(file_obj)\n",
        "    feature_all = list(reader)\n",
        "\n",
        "num_features = feature_all[0]\n",
        "cat_features = feature_all[1]\n",
        "all_cols = feature_all[2]\n",
        "exclnullCols = feature_all[3]\n",
        "dummy_nan_col = feature_all[4]"
      ],
      "metadata": {
        "id": "3p8urP48q4q_"
      },
      "execution_count": null,
      "outputs": []
    },
    {
      "cell_type": "code",
      "source": [
        "def addS2m(df):\n",
        "  df_S2min = df[['S_2','customer_ID']].groupby('customer_ID')['S_2'].agg(['min']).rename(columns={'min':'S_2_min'})\n",
        "  df = df.merge(df_S2min, on='customer_ID', how = 'left')\n",
        "  df['S_2_m'] = (df['S_2']-df['S_2_min']).dt.days.astype(int)\n",
        "  return df\n"
      ],
      "metadata": {
        "id": "GibxOrsn3LfO"
      },
      "execution_count": null,
      "outputs": []
    },
    {
      "cell_type": "code",
      "source": [
        "train = addS2m(train)"
      ],
      "metadata": {
        "id": "YO98PsIo3LcB"
      },
      "execution_count": null,
      "outputs": []
    },
    {
      "cell_type": "code",
      "source": [
        "train.drop('S_2_min', axis = 1, inplace = True)"
      ],
      "metadata": {
        "id": "gbHieBLm4RN8"
      },
      "execution_count": null,
      "outputs": []
    },
    {
      "cell_type": "code",
      "source": [
        "gc.collect()"
      ],
      "metadata": {
        "id": "GZhzzdAGbQAH",
        "outputId": "ccdefec3-e3be-497a-ee8a-9d81b6a06c7c",
        "colab": {
          "base_uri": "https://localhost:8080/"
        }
      },
      "execution_count": null,
      "outputs": [
        {
          "output_type": "execute_result",
          "data": {
            "text/plain": [
              "1436"
            ]
          },
          "metadata": {},
          "execution_count": 16
        }
      ]
    },
    {
      "cell_type": "code",
      "source": [
        "def bfillffill(df):\n",
        "  for i in df.columns:\n",
        "    df.loc[df['number_of_observations']>=10, i] = df[df['number_of_observations']>=10].sort_values(by =['S_2_m'], ascending = [True]).groupby('customer_ID')[i].apply(lambda x: x.bfill().ffill())\n",
        "  return df"
      ],
      "metadata": {
        "id": "wThkjf7LDHmV"
      },
      "execution_count": null,
      "outputs": []
    },
    {
      "cell_type": "code",
      "source": [
        "train = train.to_pandas()"
      ],
      "metadata": {
        "id": "VqGkdjlp8LMm"
      },
      "execution_count": null,
      "outputs": []
    },
    {
      "cell_type": "code",
      "source": [
        "train = bfillffill(train)\n",
        "train.to_parquet('/content/drive/MyDrive/Amex/parquet/XGB v3/train_fe_v3.parquet')"
      ],
      "metadata": {
        "id": "BZ0fH826E9xO"
      },
      "execution_count": null,
      "outputs": []
    },
    {
      "cell_type": "code",
      "source": [
        "train = cudf.read_parquet('/content/drive/MyDrive/Amex/parquet/XGB v3/train_fe_v3.parquet')"
      ],
      "metadata": {
        "id": "SybjWvfOVse3"
      },
      "execution_count": null,
      "outputs": []
    },
    {
      "cell_type": "code",
      "source": [
        "def afterpay(df):\n",
        "  # compute \"after pay\" features\n",
        "  for bcol in [f'B_{i}' for i in [11,14,17]]+['D_39','D_131']+[f'S_{i}' for i in [16,23]]:\n",
        "    for pcol in ['P_2','P_3']:\n",
        "      if bcol in df.columns:\n",
        "        df[f'{bcol}-{pcol}'] = df[bcol] - df[pcol]\n",
        "  return df"
      ],
      "metadata": {
        "id": "Vgc6rhzMVsbl"
      },
      "execution_count": null,
      "outputs": []
    },
    {
      "cell_type": "code",
      "source": [
        "def afterpay_num_features(df, num_features):\n",
        "  # compute \"after pay\" features\n",
        "  for bcol in [f'B_{i}' for i in [11,14,17]]+['D_39','D_131']+[f'S_{i}' for i in [16,23]]:\n",
        "    for pcol in ['P_2','P_3']:\n",
        "      if bcol in df.columns:\n",
        "        nf = f'{bcol}-{pcol}'\n",
        "        num_features.append(nf)\n",
        "  return num_features"
      ],
      "metadata": {
        "id": "Gorp0rAJ7LDN"
      },
      "execution_count": null,
      "outputs": []
    },
    {
      "cell_type": "code",
      "source": [
        "train = afterpay(train)"
      ],
      "metadata": {
        "id": "KF5uVbhfVsYF"
      },
      "execution_count": null,
      "outputs": []
    },
    {
      "cell_type": "code",
      "source": [
        "num_features = afterpay_num_features(train, num_features)"
      ],
      "metadata": {
        "id": "EhJUKqM5VsJ_"
      },
      "execution_count": null,
      "outputs": []
    },
    {
      "cell_type": "code",
      "source": [
        "train = agg_functions(train, num_features, cat_features, exclnullCols, dummy_nan_col)"
      ],
      "metadata": {
        "id": "XPij5v6j8Ar0"
      },
      "execution_count": null,
      "outputs": []
    },
    {
      "cell_type": "code",
      "source": [
        "train.info(verbose=True)"
      ],
      "metadata": {
        "id": "CI3hiCTgkUh7"
      },
      "execution_count": null,
      "outputs": []
    },
    {
      "cell_type": "code",
      "source": [
        "def add_growth(df, num_features):\n",
        "  \n",
        "  df.columns = ['_'.join(x) for x in df.columns]\n",
        "  df.drop(['number_of_observations_min', 'number_of_observations_std', 'number_of_observations_max', 'number_of_observations_mean', 'number_of_observations_first'], axis = 1, inplace = True)\n",
        "  df.rename(columns={'number_of_observations_last': 'number_of_observations'}, inplace = True)\n",
        "  \n",
        "  for i in [f for f in num_features if f not in ['number_of_observations']]:\n",
        "    first = f'{i}_first'\n",
        "    last = f'{i}_last'\n",
        "    diff = df[last] - df[first]\n",
        "    df[f'{i}_pctchange'] = np.nan\n",
        "    df.loc[(df[last]<0) & (df[first]<0) & ((df[last] - df[first]) > 0), f'{i}_pctchange'] = ((df[last] - df[first])/df[first])*-1*100/df['number_of_observations']\n",
        "    df.loc[(df[last]<0) & (df[first]<0) & ((df[last] - df[first]) < 0), f'{i}_pctchange'] = ((df[last] - df[first])/df[first])*-1*100/df['number_of_observations']\n",
        "    df.loc[(df[last]>0) & (df[first]<0), f'{i}_pctchange'] = (diff/df[first])*-1*100/df['number_of_observations']\n",
        "    df.loc[(df[last]<0) & (df[first]>0), f'{i}_pctchange'] = (diff/df[first])*100/df['number_of_observations']\n",
        "    df.loc[(df[last]>0) & (df[first]>0), f'{i}_pctchange'] = (diff/df[first])*100/df['number_of_observations']\n",
        "    df.loc[(df[last]==0) & (df[first]>0), f'{i}_pctchange'] = (diff/df[first])*100/df['number_of_observations']\n",
        "    df.loc[(df[last]==0) & (df[first]<0), f'{i}_pctchange'] = (diff/df[first])*-1*100/df['number_of_observations']\n",
        "    df.loc[(df[last]<0) & (df[first]==0), f'{i}_pctchange'] = 100/df['number_of_observations']\n",
        "    df.loc[(df[last]>0) & (df[first]==0), f'{i}_pctchange'] = -100/df['number_of_observations']\n",
        "\n",
        "  return df"
      ],
      "metadata": {
        "id": "3vh4oO57CTtn"
      },
      "execution_count": null,
      "outputs": []
    },
    {
      "cell_type": "code",
      "source": [
        "train = train.to_pandas()"
      ],
      "metadata": {
        "id": "II0vtv8qQ0MU"
      },
      "execution_count": null,
      "outputs": []
    },
    {
      "cell_type": "code",
      "source": [
        "train = add_growth(train, num_features)"
      ],
      "metadata": {
        "colab": {
          "base_uri": "https://localhost:8080/"
        },
        "id": "Coq_MWLLCTq9",
        "outputId": "4272aa03-b159-42db-d8dc-8aac41fabe45"
      },
      "execution_count": null,
      "outputs": [
        {
          "output_type": "stream",
          "name": "stderr",
          "text": [
            "/usr/local/lib/python3.7/dist-packages/ipykernel_launcher.py:11: PerformanceWarning: DataFrame is highly fragmented.  This is usually the result of calling `frame.insert` many times, which has poor performance.  Consider joining all columns at once using pd.concat(axis=1) instead.  To get a de-fragmented frame, use `newframe = frame.copy()`\n",
            "  # This is added back by InteractiveShellApp.init_path()\n"
          ]
        }
      ]
    },
    {
      "cell_type": "code",
      "source": [
        "def dropfirst(df):\n",
        "  droplist = list(df.loc[:, df.columns.str.contains('first')].columns)\n",
        "  df.drop(droplist, axis = 1, inplace = True)\n",
        "  return df\n"
      ],
      "metadata": {
        "id": "8zkgCQ2uewqQ"
      },
      "execution_count": null,
      "outputs": []
    },
    {
      "cell_type": "code",
      "source": [
        "train = dropfirst(train)"
      ],
      "metadata": {
        "id": "BKT-QDfVffCZ"
      },
      "execution_count": null,
      "outputs": []
    },
    {
      "cell_type": "code",
      "source": [
        "type(train)"
      ],
      "metadata": {
        "colab": {
          "base_uri": "https://localhost:8080/"
        },
        "id": "pS4i30P5ewhA",
        "outputId": "d2102ab3-5a05-4c7b-a3a8-36c48d8e69ae"
      },
      "execution_count": null,
      "outputs": [
        {
          "output_type": "execute_result",
          "data": {
            "text/plain": [
              "pandas.core.frame.DataFrame"
            ]
          },
          "metadata": {},
          "execution_count": 32
        }
      ]
    },
    {
      "cell_type": "code",
      "execution_count": null,
      "metadata": {
        "id": "Hzmlqlmrdxgm"
      },
      "outputs": [],
      "source": [
        "train.to_parquet('/content/drive/MyDrive/Amex/parquet/XGB_norevnan/train_fe_v6_pretarget.parquet')"
      ]
    },
    {
      "cell_type": "code",
      "source": [
        "train = pd.read_parquet('/content/drive/MyDrive/Amex/parquet/XGB_norevnan/train_fe_v6_pretarget.parquet')"
      ],
      "metadata": {
        "id": "ZwxN1SMBIQ6f"
      },
      "execution_count": null,
      "outputs": []
    },
    {
      "cell_type": "code",
      "execution_count": null,
      "metadata": {
        "id": "5EPlkwdMp0N9"
      },
      "outputs": [],
      "source": [
        "# ADD TARGETS\n",
        "def add_targets(df):\n",
        "  targets = cudf.read_csv('train_labels.csv')\n",
        "  targets['customer_ID'] = targets['customer_ID'].str[-16:].str.hex_to_int().astype('int64')\n",
        "  targets = targets.to_pandas()\n",
        "  targets = targets.set_index('customer_ID')\n",
        "  df = df.merge(targets, on='customer_ID', how='left')\n",
        "  df.target = df.target.astype('int8')\n",
        "  del targets\n",
        "  # NEEDED TO MAKE CV DETERMINISTIC (cudf merge above randomly shuffles rows)\n",
        "  df = df.sort_index().reset_index()\n",
        "  return df\n",
        "\n",
        "train = train.to_pandas()"
      ]
    },
    {
      "cell_type": "code",
      "source": [
        "train = add_targets(train)\n",
        "\n",
        "\n",
        "# FEATURES\n",
        "#FEATURES_all = train.columns[1:-1]\n",
        "print(f'There are {len(train.columns[1:-1])} features!')\n",
        "\n"
      ],
      "metadata": {
        "colab": {
          "base_uri": "https://localhost:8080/"
        },
        "id": "Qte4HcW61r1y",
        "outputId": "9dd3b205-7fc5-4c44-de2b-18c8464bc208"
      },
      "execution_count": null,
      "outputs": [
        {
          "output_type": "stream",
          "name": "stderr",
          "text": [
            "/usr/local/lib/python3.7/site-packages/pandas/core/frame.py:9203: FutureWarning: merging between different levels is deprecated and will be removed in a future version. (2 levels on the left,1 on the right)\n",
            "  validate=validate,\n",
            "/usr/local/lib/python3.7/site-packages/pandas/core/reshape/merge.py:121: PerformanceWarning: DataFrame is highly fragmented.  This is usually the result of calling `frame.insert` many times, which has poor performance.  Consider joining all columns at once using pd.concat(axis=1) instead.  To get a de-fragmented frame, use `newframe = frame.copy()`\n",
            "  return op.get_result()\n"
          ]
        },
        {
          "output_type": "stream",
          "name": "stdout",
          "text": [
            "There are 1145 features!\n"
          ]
        }
      ]
    },
    {
      "cell_type": "code",
      "source": [
        "train.to_parquet('/content/drive/MyDrive/Amex/parquet/XGB v3/train_fe_v6_posttarget.parquet')"
      ],
      "metadata": {
        "id": "wd5QGfJDNqab"
      },
      "execution_count": null,
      "outputs": []
    },
    {
      "cell_type": "code",
      "source": [
        "train = pd.read_parquet('/content/drive/MyDrive/Amex/parquet/XGB v3/train_fe_v6_posttarget.parquet')"
      ],
      "metadata": {
        "id": "8UuFEJu-TmqS"
      },
      "execution_count": null,
      "outputs": []
    },
    {
      "cell_type": "code",
      "source": [
        "gc.collect()"
      ],
      "metadata": {
        "colab": {
          "base_uri": "https://localhost:8080/"
        },
        "id": "adT_2FvOaegR",
        "outputId": "9c889872-cc87-482f-e1e8-e16cc11afa61"
      },
      "execution_count": null,
      "outputs": [
        {
          "output_type": "execute_result",
          "data": {
            "text/plain": [
              "88"
            ]
          },
          "metadata": {},
          "execution_count": 83
        }
      ]
    },
    {
      "cell_type": "code",
      "source": [
        ""
      ],
      "metadata": {
        "id": "ylpeKGjuaedH"
      },
      "execution_count": null,
      "outputs": []
    },
    {
      "cell_type": "code",
      "source": [
        "##############Optuna"
      ],
      "metadata": {
        "id": "zjJBOeLzTmnd"
      },
      "execution_count": null,
      "outputs": []
    },
    {
      "cell_type": "code",
      "source": [
        "FEATURES = train.columns[1:-1]"
      ],
      "metadata": {
        "id": "jbnU89cyTmiP"
      },
      "execution_count": null,
      "outputs": []
    },
    {
      "cell_type": "code",
      "source": [
        ""
      ],
      "metadata": {
        "id": "4XoB5SicTmZh"
      },
      "execution_count": null,
      "outputs": []
    },
    {
      "cell_type": "code",
      "source": [
        "!pip install optuna"
      ],
      "metadata": {
        "id": "7l42EHH3NqXz"
      },
      "execution_count": null,
      "outputs": []
    },
    {
      "cell_type": "code",
      "source": [
        "import optuna\n",
        "from sklearn.model_selection import KFold\n",
        "import xgboost as xgb"
      ],
      "metadata": {
        "id": "-h8k9uftTe61"
      },
      "execution_count": null,
      "outputs": []
    },
    {
      "cell_type": "code",
      "source": [
        "def amex_metric_mod(y_true, y_pred):\n",
        "\n",
        "    labels     = np.transpose(np.array([y_true, y_pred]))\n",
        "    labels     = labels[labels[:, 1].argsort()[::-1]]\n",
        "    weights    = np.where(labels[:,0]==0, 20, 1)\n",
        "    cut_vals   = labels[np.cumsum(weights) <= int(0.04 * np.sum(weights))]\n",
        "    top_four   = np.sum(cut_vals[:,0]) / np.sum(labels[:,0])\n",
        "\n",
        "    gini = [0,0]\n",
        "    for i in [1,0]:\n",
        "        labels         = np.transpose(np.array([y_true, y_pred]))\n",
        "        labels         = labels[labels[:, i].argsort()[::-1]]\n",
        "        weight         = np.where(labels[:,0]==0, 20, 1)\n",
        "        weight_random  = np.cumsum(weight / np.sum(weight))\n",
        "        total_pos      = np.sum(labels[:, 0] *  weight)\n",
        "        cum_pos_found  = np.cumsum(labels[:, 0] * weight)\n",
        "        lorentz        = cum_pos_found / total_pos\n",
        "        gini[i]        = np.sum((lorentz - weight_random) * weight)\n",
        "\n",
        "    return 0.5 * (gini[1]/gini[0] + top_four)"
      ],
      "metadata": {
        "id": "EYb2LRWMTe2l"
      },
      "execution_count": null,
      "outputs": []
    },
    {
      "cell_type": "code",
      "source": [
        "# NEEDED WITH DeviceQuantileDMatrix BELOW\n",
        "class IterLoadForDMatrix(xgb.core.DataIter):\n",
        "    def __init__(self, df=None, features=None, target=None, batch_size=256*1024):\n",
        "        self.features = features\n",
        "        self.target = target\n",
        "        self.df = df\n",
        "        self.it = 0 # set iterator to 0\n",
        "        self.batch_size = batch_size\n",
        "        self.batches = int( np.ceil( len(df) / self.batch_size ) )\n",
        "        super().__init__()\n",
        "\n",
        "    def reset(self):\n",
        "        '''Reset the iterator'''\n",
        "        self.it = 0\n",
        "\n",
        "    def next(self, input_data):\n",
        "        '''Yield next batch of data.'''\n",
        "        if self.it == self.batches:\n",
        "            return 0 # Return 0 when there's no more batch.\n",
        "        \n",
        "        a = self.it * self.batch_size\n",
        "        b = min( (self.it + 1) * self.batch_size, len(self.df) )\n",
        "        dt = cudf.DataFrame(self.df.iloc[a:b])\n",
        "        input_data(data=dt[self.features], label=dt[self.target]) #, weight=dt['weight'])\n",
        "        self.it += 1\n",
        "        return 1"
      ],
      "metadata": {
        "id": "m-mOFZI6Tezf"
      },
      "execution_count": null,
      "outputs": []
    },
    {
      "cell_type": "code",
      "source": [
        "study.best_params"
      ],
      "metadata": {
        "colab": {
          "base_uri": "https://localhost:8080/"
        },
        "id": "pyrVkSTKTOCJ",
        "outputId": "592c4a3d-f987-4dd2-f70c-7b293910274e"
      },
      "execution_count": null,
      "outputs": [
        {
          "output_type": "execute_result",
          "data": {
            "text/plain": [
              "{'alpha': 5.310972242098957,\n",
              " 'colsample_bytree': 0.8,\n",
              " 'lambda': 0.28743845532511914,\n",
              " 'learning_rate': 0.008,\n",
              " 'max_depth': 6,\n",
              " 'min_child_weight': 180,\n",
              " 'n_estimators': 350,\n",
              " 'subsample': 0.8}"
            ]
          },
          "metadata": {},
          "execution_count": 77
        }
      ]
    },
    {
      "cell_type": "code",
      "source": [
        "###################################################END"
      ],
      "metadata": {
        "id": "7a9lEUpGTN_N"
      },
      "execution_count": null,
      "outputs": []
    },
    {
      "cell_type": "code",
      "source": [
        "train.head()"
      ],
      "metadata": {
        "colab": {
          "base_uri": "https://localhost:8080/",
          "height": 317
        },
        "id": "LAdI4FlN0S1h",
        "outputId": "1940accd-a17a-4711-ba7c-bbceb917b226"
      },
      "execution_count": null,
      "outputs": [
        {
          "output_type": "execute_result",
          "data": {
            "text/plain": [
              "           customer_ID  P_2_mean   P_2_std   P_2_max   P_2_min  P_2_last  \\\n",
              "0 -9223358381327749917  0.415868  0.057145  0.498727  0.340178  0.340178   \n",
              "1 -9223193039457028513  0.974068  0.013094  1.002478  0.964483  1.002478   \n",
              "2 -9223189665817919541  0.802447  0.038025  0.828761  0.694073  0.694073   \n",
              "3 -9223188534444851899  0.791203  0.002688  0.794826  0.786647  0.787945   \n",
              "4 -9223173911659837606  0.115666  0.078554  0.252421  0.038207  0.040486   \n",
              "\n",
              "   D_39_mean  D_39_std  D_39_max  D_39_min  ...  B_17-P_3_pctchange  \\\n",
              "0   2.615385  4.628507        16         0  ...           -3.580365   \n",
              "1   0.000000  0.000000         0         0  ...                 NaN   \n",
              "2   0.000000  0.000000         0         0  ...                 NaN   \n",
              "3   0.000000  0.000000         0         0  ...                 NaN   \n",
              "4   4.384615  6.144625        17         0  ...           -1.971803   \n",
              "\n",
              "   D_39-P_2_pctchange  D_39-P_3_pctchange  D_131-P_2_pctchange  \\\n",
              "0          190.552659          524.036584             0.675892   \n",
              "1           -0.181974           -0.497476            -0.181974   \n",
              "2            1.145043           -0.534560             1.145043   \n",
              "3            0.060692            1.783088             0.060692   \n",
              "4          564.537034          269.071045             5.952709   \n",
              "\n",
              "   D_131-P_3_pctchange  S_16-P_2_pctchange  S_16-P_3_pctchange  \\\n",
              "0            -2.470080           22.800316           10.163649   \n",
              "1            -0.497476           -0.213644           -0.560310   \n",
              "2            -0.534560            1.144989           -0.554541   \n",
              "3             1.783088            0.001919            1.738592   \n",
              "4            -2.152752            6.090257           -2.207318   \n",
              "\n",
              "   S_23-P_2_pctchange  S_23-P_3_pctchange  target  \n",
              "0           10.416552            2.722761       1  \n",
              "1           -0.192483           -0.618111       0  \n",
              "2            1.446931           -0.567667       0  \n",
              "3            0.010588            2.093982       0  \n",
              "4           71.359826            5.487043       1  \n",
              "\n",
              "[5 rows x 1160 columns]"
            ],
            "text/html": [
              "\n",
              "  <div id=\"df-503d5aa1-0483-4cf5-aa80-a5502e396e62\">\n",
              "    <div class=\"colab-df-container\">\n",
              "      <div>\n",
              "<style scoped>\n",
              "    .dataframe tbody tr th:only-of-type {\n",
              "        vertical-align: middle;\n",
              "    }\n",
              "\n",
              "    .dataframe tbody tr th {\n",
              "        vertical-align: top;\n",
              "    }\n",
              "\n",
              "    .dataframe thead th {\n",
              "        text-align: right;\n",
              "    }\n",
              "</style>\n",
              "<table border=\"1\" class=\"dataframe\">\n",
              "  <thead>\n",
              "    <tr style=\"text-align: right;\">\n",
              "      <th></th>\n",
              "      <th>customer_ID</th>\n",
              "      <th>P_2_mean</th>\n",
              "      <th>P_2_std</th>\n",
              "      <th>P_2_max</th>\n",
              "      <th>P_2_min</th>\n",
              "      <th>P_2_last</th>\n",
              "      <th>D_39_mean</th>\n",
              "      <th>D_39_std</th>\n",
              "      <th>D_39_max</th>\n",
              "      <th>D_39_min</th>\n",
              "      <th>...</th>\n",
              "      <th>B_17-P_3_pctchange</th>\n",
              "      <th>D_39-P_2_pctchange</th>\n",
              "      <th>D_39-P_3_pctchange</th>\n",
              "      <th>D_131-P_2_pctchange</th>\n",
              "      <th>D_131-P_3_pctchange</th>\n",
              "      <th>S_16-P_2_pctchange</th>\n",
              "      <th>S_16-P_3_pctchange</th>\n",
              "      <th>S_23-P_2_pctchange</th>\n",
              "      <th>S_23-P_3_pctchange</th>\n",
              "      <th>target</th>\n",
              "    </tr>\n",
              "  </thead>\n",
              "  <tbody>\n",
              "    <tr>\n",
              "      <th>0</th>\n",
              "      <td>-9223358381327749917</td>\n",
              "      <td>0.415868</td>\n",
              "      <td>0.057145</td>\n",
              "      <td>0.498727</td>\n",
              "      <td>0.340178</td>\n",
              "      <td>0.340178</td>\n",
              "      <td>2.615385</td>\n",
              "      <td>4.628507</td>\n",
              "      <td>16</td>\n",
              "      <td>0</td>\n",
              "      <td>...</td>\n",
              "      <td>-3.580365</td>\n",
              "      <td>190.552659</td>\n",
              "      <td>524.036584</td>\n",
              "      <td>0.675892</td>\n",
              "      <td>-2.470080</td>\n",
              "      <td>22.800316</td>\n",
              "      <td>10.163649</td>\n",
              "      <td>10.416552</td>\n",
              "      <td>2.722761</td>\n",
              "      <td>1</td>\n",
              "    </tr>\n",
              "    <tr>\n",
              "      <th>1</th>\n",
              "      <td>-9223193039457028513</td>\n",
              "      <td>0.974068</td>\n",
              "      <td>0.013094</td>\n",
              "      <td>1.002478</td>\n",
              "      <td>0.964483</td>\n",
              "      <td>1.002478</td>\n",
              "      <td>0.000000</td>\n",
              "      <td>0.000000</td>\n",
              "      <td>0</td>\n",
              "      <td>0</td>\n",
              "      <td>...</td>\n",
              "      <td>NaN</td>\n",
              "      <td>-0.181974</td>\n",
              "      <td>-0.497476</td>\n",
              "      <td>-0.181974</td>\n",
              "      <td>-0.497476</td>\n",
              "      <td>-0.213644</td>\n",
              "      <td>-0.560310</td>\n",
              "      <td>-0.192483</td>\n",
              "      <td>-0.618111</td>\n",
              "      <td>0</td>\n",
              "    </tr>\n",
              "    <tr>\n",
              "      <th>2</th>\n",
              "      <td>-9223189665817919541</td>\n",
              "      <td>0.802447</td>\n",
              "      <td>0.038025</td>\n",
              "      <td>0.828761</td>\n",
              "      <td>0.694073</td>\n",
              "      <td>0.694073</td>\n",
              "      <td>0.000000</td>\n",
              "      <td>0.000000</td>\n",
              "      <td>0</td>\n",
              "      <td>0</td>\n",
              "      <td>...</td>\n",
              "      <td>NaN</td>\n",
              "      <td>1.145043</td>\n",
              "      <td>-0.534560</td>\n",
              "      <td>1.145043</td>\n",
              "      <td>-0.534560</td>\n",
              "      <td>1.144989</td>\n",
              "      <td>-0.554541</td>\n",
              "      <td>1.446931</td>\n",
              "      <td>-0.567667</td>\n",
              "      <td>0</td>\n",
              "    </tr>\n",
              "    <tr>\n",
              "      <th>3</th>\n",
              "      <td>-9223188534444851899</td>\n",
              "      <td>0.791203</td>\n",
              "      <td>0.002688</td>\n",
              "      <td>0.794826</td>\n",
              "      <td>0.786647</td>\n",
              "      <td>0.787945</td>\n",
              "      <td>0.000000</td>\n",
              "      <td>0.000000</td>\n",
              "      <td>0</td>\n",
              "      <td>0</td>\n",
              "      <td>...</td>\n",
              "      <td>NaN</td>\n",
              "      <td>0.060692</td>\n",
              "      <td>1.783088</td>\n",
              "      <td>0.060692</td>\n",
              "      <td>1.783088</td>\n",
              "      <td>0.001919</td>\n",
              "      <td>1.738592</td>\n",
              "      <td>0.010588</td>\n",
              "      <td>2.093982</td>\n",
              "      <td>0</td>\n",
              "    </tr>\n",
              "    <tr>\n",
              "      <th>4</th>\n",
              "      <td>-9223173911659837606</td>\n",
              "      <td>0.115666</td>\n",
              "      <td>0.078554</td>\n",
              "      <td>0.252421</td>\n",
              "      <td>0.038207</td>\n",
              "      <td>0.040486</td>\n",
              "      <td>4.384615</td>\n",
              "      <td>6.144625</td>\n",
              "      <td>17</td>\n",
              "      <td>0</td>\n",
              "      <td>...</td>\n",
              "      <td>-1.971803</td>\n",
              "      <td>564.537034</td>\n",
              "      <td>269.071045</td>\n",
              "      <td>5.952709</td>\n",
              "      <td>-2.152752</td>\n",
              "      <td>6.090257</td>\n",
              "      <td>-2.207318</td>\n",
              "      <td>71.359826</td>\n",
              "      <td>5.487043</td>\n",
              "      <td>1</td>\n",
              "    </tr>\n",
              "  </tbody>\n",
              "</table>\n",
              "<p>5 rows × 1160 columns</p>\n",
              "</div>\n",
              "      <button class=\"colab-df-convert\" onclick=\"convertToInteractive('df-503d5aa1-0483-4cf5-aa80-a5502e396e62')\"\n",
              "              title=\"Convert this dataframe to an interactive table.\"\n",
              "              style=\"display:none;\">\n",
              "        \n",
              "  <svg xmlns=\"http://www.w3.org/2000/svg\" height=\"24px\"viewBox=\"0 0 24 24\"\n",
              "       width=\"24px\">\n",
              "    <path d=\"M0 0h24v24H0V0z\" fill=\"none\"/>\n",
              "    <path d=\"M18.56 5.44l.94 2.06.94-2.06 2.06-.94-2.06-.94-.94-2.06-.94 2.06-2.06.94zm-11 1L8.5 8.5l.94-2.06 2.06-.94-2.06-.94L8.5 2.5l-.94 2.06-2.06.94zm10 10l.94 2.06.94-2.06 2.06-.94-2.06-.94-.94-2.06-.94 2.06-2.06.94z\"/><path d=\"M17.41 7.96l-1.37-1.37c-.4-.4-.92-.59-1.43-.59-.52 0-1.04.2-1.43.59L10.3 9.45l-7.72 7.72c-.78.78-.78 2.05 0 2.83L4 21.41c.39.39.9.59 1.41.59.51 0 1.02-.2 1.41-.59l7.78-7.78 2.81-2.81c.8-.78.8-2.07 0-2.86zM5.41 20L4 18.59l7.72-7.72 1.47 1.35L5.41 20z\"/>\n",
              "  </svg>\n",
              "      </button>\n",
              "      \n",
              "  <style>\n",
              "    .colab-df-container {\n",
              "      display:flex;\n",
              "      flex-wrap:wrap;\n",
              "      gap: 12px;\n",
              "    }\n",
              "\n",
              "    .colab-df-convert {\n",
              "      background-color: #E8F0FE;\n",
              "      border: none;\n",
              "      border-radius: 50%;\n",
              "      cursor: pointer;\n",
              "      display: none;\n",
              "      fill: #1967D2;\n",
              "      height: 32px;\n",
              "      padding: 0 0 0 0;\n",
              "      width: 32px;\n",
              "    }\n",
              "\n",
              "    .colab-df-convert:hover {\n",
              "      background-color: #E2EBFA;\n",
              "      box-shadow: 0px 1px 2px rgba(60, 64, 67, 0.3), 0px 1px 3px 1px rgba(60, 64, 67, 0.15);\n",
              "      fill: #174EA6;\n",
              "    }\n",
              "\n",
              "    [theme=dark] .colab-df-convert {\n",
              "      background-color: #3B4455;\n",
              "      fill: #D2E3FC;\n",
              "    }\n",
              "\n",
              "    [theme=dark] .colab-df-convert:hover {\n",
              "      background-color: #434B5C;\n",
              "      box-shadow: 0px 1px 3px 1px rgba(0, 0, 0, 0.15);\n",
              "      filter: drop-shadow(0px 1px 2px rgba(0, 0, 0, 0.3));\n",
              "      fill: #FFFFFF;\n",
              "    }\n",
              "  </style>\n",
              "\n",
              "      <script>\n",
              "        const buttonEl =\n",
              "          document.querySelector('#df-503d5aa1-0483-4cf5-aa80-a5502e396e62 button.colab-df-convert');\n",
              "        buttonEl.style.display =\n",
              "          google.colab.kernel.accessAllowed ? 'block' : 'none';\n",
              "\n",
              "        async function convertToInteractive(key) {\n",
              "          const element = document.querySelector('#df-503d5aa1-0483-4cf5-aa80-a5502e396e62');\n",
              "          const dataTable =\n",
              "            await google.colab.kernel.invokeFunction('convertToInteractive',\n",
              "                                                     [key], {});\n",
              "          if (!dataTable) return;\n",
              "\n",
              "          const docLinkHtml = 'Like what you see? Visit the ' +\n",
              "            '<a target=\"_blank\" href=https://colab.research.google.com/notebooks/data_table.ipynb>data table notebook</a>'\n",
              "            + ' to learn more about interactive tables.';\n",
              "          element.innerHTML = '';\n",
              "          dataTable['output_type'] = 'display_data';\n",
              "          await google.colab.output.renderOutput(dataTable, element);\n",
              "          const docLink = document.createElement('div');\n",
              "          docLink.innerHTML = docLinkHtml;\n",
              "          element.appendChild(docLink);\n",
              "        }\n",
              "      </script>\n",
              "    </div>\n",
              "  </div>\n",
              "  "
            ]
          },
          "metadata": {},
          "execution_count": 48
        }
      ]
    },
    {
      "cell_type": "code",
      "source": [
        "import seaborn as sns"
      ],
      "metadata": {
        "id": "j-kmvfG20SvN"
      },
      "execution_count": null,
      "outputs": []
    },
    {
      "cell_type": "code",
      "source": [
        ""
      ],
      "metadata": {
        "id": "rqiASnl7xFVI"
      },
      "execution_count": null,
      "outputs": []
    },
    {
      "cell_type": "code",
      "source": [
        ""
      ],
      "metadata": {
        "id": "mSzLp9WTxFN9"
      },
      "execution_count": null,
      "outputs": []
    },
    {
      "cell_type": "code",
      "source": [
        "gc.collect()"
      ],
      "metadata": {
        "colab": {
          "base_uri": "https://localhost:8080/"
        },
        "id": "LFQyg3j3xFIx",
        "outputId": "f60d853c-4232-4032-a2d0-7252fa9b4f33"
      },
      "execution_count": null,
      "outputs": [
        {
          "output_type": "execute_result",
          "data": {
            "text/plain": [
              "2805"
            ]
          },
          "metadata": {},
          "execution_count": 63
        }
      ]
    },
    {
      "cell_type": "code",
      "source": [
        ""
      ],
      "metadata": {
        "id": "6WK-WWzixFDW"
      },
      "execution_count": null,
      "outputs": []
    },
    {
      "cell_type": "code",
      "source": [
        ""
      ],
      "metadata": {
        "id": "9Fpha6wrxFAv"
      },
      "execution_count": null,
      "outputs": []
    },
    {
      "cell_type": "code",
      "source": [
        ""
      ],
      "metadata": {
        "id": "tSwJWXuRxE91"
      },
      "execution_count": null,
      "outputs": []
    },
    {
      "cell_type": "code",
      "source": [
        "# XGB MODEL PARAMETERS\n",
        "xgb_parms = { \n",
        "    'max_depth':4, \n",
        "    'learning_rate':0.05, \n",
        "    'subsample':0.8,\n",
        "    'colsample_bytree':0.6, \n",
        "    'eval_metric':'logloss',\n",
        "    'objective':'binary:logistic',\n",
        "    'tree_method':'gpu_hist',\n",
        "    'predictor':'gpu_predictor',\n",
        "    'random_state':SEED\n",
        "}"
      ],
      "metadata": {
        "id": "PW3hNAle0SsU"
      },
      "execution_count": null,
      "outputs": []
    },
    {
      "cell_type": "code",
      "source": [
        "importances = []\n",
        "oof = []\n",
        "#train = train.to_pandas() # free GPU memory\n",
        "TRAIN_SUBSAMPLE = 1.0\n",
        "gc.collect()\n",
        "\n",
        "skf = KFold(n_splits=FOLDS, shuffle=True, random_state=SEED)\n",
        "for fold,(train_idx, valid_idx) in enumerate(skf.split(\n",
        "            train, train.target )):\n",
        "    \n",
        "    # TRAIN WITH SUBSAMPLE OF TRAIN FOLD DATA\n",
        "    if TRAIN_SUBSAMPLE<1.0:\n",
        "        np.random.seed(SEED)\n",
        "        train_idx = np.random.choice(train_idx, \n",
        "                       int(len(train_idx)*TRAIN_SUBSAMPLE), replace=False)\n",
        "        np.random.seed(None)\n",
        "    \n",
        "    print('#'*25)\n",
        "    print('### Fold',fold+1)\n",
        "    print('### Train size',len(train_idx),'Valid size',len(valid_idx))\n",
        "    print(f'### Training with {int(TRAIN_SUBSAMPLE*100)}% fold data...')\n",
        "    print('#'*25)\n",
        "    \n",
        "    # TRAIN, VALID, TEST FOR FOLD K\n",
        "    Xy_train = IterLoadForDMatrix(train.loc[train_idx], FEATURES, 'target')\n",
        "    X_valid = train.loc[valid_idx, FEATURES]\n",
        "    y_valid = train.loc[valid_idx, 'target']\n",
        "    \n",
        "    dtrain = xgb.DeviceQuantileDMatrix(Xy_train, max_bin=256)\n",
        "    dvalid = xgb.DMatrix(data=X_valid, label=y_valid)\n",
        "    \n",
        "    # TRAIN MODEL FOLD K\n",
        "    model = xgb.train(xgb_parms, \n",
        "                dtrain=dtrain,\n",
        "                evals=[(dtrain,'train'),(dvalid,'valid')],\n",
        "                num_boost_round=9999,\n",
        "                early_stopping_rounds=100,\n",
        "                verbose_eval=100) \n",
        "    #model.save_model(f'XGB_v{VER}_fold{fold}.xgb')\n",
        "    \n",
        "    # GET FEATURE IMPORTANCE FOR FOLD K\n",
        "    dd = model.get_score(importance_type='weight')\n",
        "    df = pd.DataFrame({'feature':dd.keys(),f'importance_{fold}':dd.values()})\n",
        "    importances.append(df)\n",
        "            \n",
        "    # INFER OOF FOLD K\n",
        "    oof_preds = model.predict(dvalid)\n",
        "    acc = amex_metric_mod(y_valid.values, oof_preds)\n",
        "    print('Kaggle Metric =',acc,'\\n')\n",
        "    \n",
        "    # SAVE OOF\n",
        "    df = train.loc[valid_idx, ['customer_ID','target'] ].copy()\n",
        "    df['oof_pred'] = oof_preds\n",
        "    oof.append( df )\n",
        "    \n",
        "    del dtrain, Xy_train, dd, df\n",
        "    del X_valid, y_valid, dvalid, model\n",
        "    _ = gc.collect()\n",
        "    \n",
        "print('#'*25)\n",
        "oof = pd.concat(oof,axis=0,ignore_index=True).set_index('customer_ID')\n",
        "acc = amex_metric_mod(oof.target.values, oof.oof_pred.values)\n",
        "print('OVERALL CV Kaggle Metric =',acc)"
      ],
      "metadata": {
        "colab": {
          "base_uri": "https://localhost:8080/",
          "height": 396
        },
        "id": "e-u4aaw20Spe",
        "outputId": "d92d2cea-f2bf-4edc-885b-c57309c3609d"
      },
      "execution_count": null,
      "outputs": [
        {
          "output_type": "error",
          "ename": "KeyboardInterrupt",
          "evalue": "ignored",
          "traceback": [
            "\u001b[0;31m---------------------------------------------------------------------------\u001b[0m",
            "\u001b[0;31mKeyboardInterrupt\u001b[0m                         Traceback (most recent call last)",
            "\u001b[0;32m<ipython-input-84-ea451f782e2f>\u001b[0m in \u001b[0;36m<module>\u001b[0;34m()\u001b[0m\n\u001b[1;32m     36\u001b[0m                 \u001b[0mnum_boost_round\u001b[0m\u001b[0;34m=\u001b[0m\u001b[0;36m9999\u001b[0m\u001b[0;34m,\u001b[0m\u001b[0;34m\u001b[0m\u001b[0;34m\u001b[0m\u001b[0m\n\u001b[1;32m     37\u001b[0m                 \u001b[0mearly_stopping_rounds\u001b[0m\u001b[0;34m=\u001b[0m\u001b[0;36m100\u001b[0m\u001b[0;34m,\u001b[0m\u001b[0;34m\u001b[0m\u001b[0;34m\u001b[0m\u001b[0m\n\u001b[0;32m---> 38\u001b[0;31m                 verbose_eval=100) \n\u001b[0m\u001b[1;32m     39\u001b[0m     \u001b[0;31m#model.save_model(f'XGB_v{VER}_fold{fold}.xgb')\u001b[0m\u001b[0;34m\u001b[0m\u001b[0;34m\u001b[0m\u001b[0;34m\u001b[0m\u001b[0m\n\u001b[1;32m     40\u001b[0m \u001b[0;34m\u001b[0m\u001b[0m\n",
            "\u001b[0;32m/usr/local/lib/python3.7/site-packages/xgboost/training.py\u001b[0m in \u001b[0;36mtrain\u001b[0;34m(params, dtrain, num_boost_round, evals, obj, feval, maximize, early_stopping_rounds, evals_result, verbose_eval, xgb_model, callbacks)\u001b[0m\n\u001b[1;32m    194\u001b[0m                           \u001b[0mevals_result\u001b[0m\u001b[0;34m=\u001b[0m\u001b[0mevals_result\u001b[0m\u001b[0;34m,\u001b[0m\u001b[0;34m\u001b[0m\u001b[0;34m\u001b[0m\u001b[0m\n\u001b[1;32m    195\u001b[0m                           \u001b[0mmaximize\u001b[0m\u001b[0;34m=\u001b[0m\u001b[0mmaximize\u001b[0m\u001b[0;34m,\u001b[0m\u001b[0;34m\u001b[0m\u001b[0;34m\u001b[0m\u001b[0m\n\u001b[0;32m--> 196\u001b[0;31m                           early_stopping_rounds=early_stopping_rounds)\n\u001b[0m\u001b[1;32m    197\u001b[0m     \u001b[0;32mreturn\u001b[0m \u001b[0mbst\u001b[0m\u001b[0;34m\u001b[0m\u001b[0;34m\u001b[0m\u001b[0m\n\u001b[1;32m    198\u001b[0m \u001b[0;34m\u001b[0m\u001b[0m\n",
            "\u001b[0;32m/usr/local/lib/python3.7/site-packages/xgboost/training.py\u001b[0m in \u001b[0;36m_train_internal\u001b[0;34m(params, dtrain, num_boost_round, evals, obj, feval, xgb_model, callbacks, evals_result, maximize, verbose_eval, early_stopping_rounds)\u001b[0m\n\u001b[1;32m     79\u001b[0m         \u001b[0;32mif\u001b[0m \u001b[0mcallbacks\u001b[0m\u001b[0;34m.\u001b[0m\u001b[0mbefore_iteration\u001b[0m\u001b[0;34m(\u001b[0m\u001b[0mbst\u001b[0m\u001b[0;34m,\u001b[0m \u001b[0mi\u001b[0m\u001b[0;34m,\u001b[0m \u001b[0mdtrain\u001b[0m\u001b[0;34m,\u001b[0m \u001b[0mevals\u001b[0m\u001b[0;34m)\u001b[0m\u001b[0;34m:\u001b[0m\u001b[0;34m\u001b[0m\u001b[0;34m\u001b[0m\u001b[0m\n\u001b[1;32m     80\u001b[0m             \u001b[0;32mbreak\u001b[0m\u001b[0;34m\u001b[0m\u001b[0;34m\u001b[0m\u001b[0m\n\u001b[0;32m---> 81\u001b[0;31m         \u001b[0mbst\u001b[0m\u001b[0;34m.\u001b[0m\u001b[0mupdate\u001b[0m\u001b[0;34m(\u001b[0m\u001b[0mdtrain\u001b[0m\u001b[0;34m,\u001b[0m \u001b[0mi\u001b[0m\u001b[0;34m,\u001b[0m \u001b[0mobj\u001b[0m\u001b[0;34m)\u001b[0m\u001b[0;34m\u001b[0m\u001b[0;34m\u001b[0m\u001b[0m\n\u001b[0m\u001b[1;32m     82\u001b[0m         \u001b[0;32mif\u001b[0m \u001b[0mcallbacks\u001b[0m\u001b[0;34m.\u001b[0m\u001b[0mafter_iteration\u001b[0m\u001b[0;34m(\u001b[0m\u001b[0mbst\u001b[0m\u001b[0;34m,\u001b[0m \u001b[0mi\u001b[0m\u001b[0;34m,\u001b[0m \u001b[0mdtrain\u001b[0m\u001b[0;34m,\u001b[0m \u001b[0mevals\u001b[0m\u001b[0;34m)\u001b[0m\u001b[0;34m:\u001b[0m\u001b[0;34m\u001b[0m\u001b[0;34m\u001b[0m\u001b[0m\n\u001b[1;32m     83\u001b[0m             \u001b[0;32mbreak\u001b[0m\u001b[0;34m\u001b[0m\u001b[0;34m\u001b[0m\u001b[0m\n",
            "\u001b[0;32m/usr/local/lib/python3.7/site-packages/xgboost/core.py\u001b[0m in \u001b[0;36mupdate\u001b[0;34m(self, dtrain, iteration, fobj)\u001b[0m\n\u001b[1;32m   1680\u001b[0m             _check_call(_LIB.XGBoosterUpdateOneIter(self.handle,\n\u001b[1;32m   1681\u001b[0m                                                     \u001b[0mctypes\u001b[0m\u001b[0;34m.\u001b[0m\u001b[0mc_int\u001b[0m\u001b[0;34m(\u001b[0m\u001b[0miteration\u001b[0m\u001b[0;34m)\u001b[0m\u001b[0;34m,\u001b[0m\u001b[0;34m\u001b[0m\u001b[0;34m\u001b[0m\u001b[0m\n\u001b[0;32m-> 1682\u001b[0;31m                                                     dtrain.handle))\n\u001b[0m\u001b[1;32m   1683\u001b[0m         \u001b[0;32melse\u001b[0m\u001b[0;34m:\u001b[0m\u001b[0;34m\u001b[0m\u001b[0;34m\u001b[0m\u001b[0m\n\u001b[1;32m   1684\u001b[0m             \u001b[0mpred\u001b[0m \u001b[0;34m=\u001b[0m \u001b[0mself\u001b[0m\u001b[0;34m.\u001b[0m\u001b[0mpredict\u001b[0m\u001b[0;34m(\u001b[0m\u001b[0mdtrain\u001b[0m\u001b[0;34m,\u001b[0m \u001b[0moutput_margin\u001b[0m\u001b[0;34m=\u001b[0m\u001b[0;32mTrue\u001b[0m\u001b[0;34m,\u001b[0m \u001b[0mtraining\u001b[0m\u001b[0;34m=\u001b[0m\u001b[0;32mTrue\u001b[0m\u001b[0;34m)\u001b[0m\u001b[0;34m\u001b[0m\u001b[0;34m\u001b[0m\u001b[0m\n",
            "\u001b[0;31mKeyboardInterrupt\u001b[0m: "
          ]
        }
      ]
    },
    {
      "cell_type": "code",
      "source": [
        ""
      ],
      "metadata": {
        "id": "t7H3TDwr0Smu"
      },
      "execution_count": null,
      "outputs": []
    },
    {
      "cell_type": "code",
      "source": [
        ""
      ],
      "metadata": {
        "id": "Q27Bz5Bu0Sjx"
      },
      "execution_count": null,
      "outputs": []
    },
    {
      "cell_type": "code",
      "source": [
        "train"
      ],
      "metadata": {
        "id": "PxOW0F9V0ShG",
        "colab": {
          "base_uri": "https://localhost:8080/",
          "height": 171
        },
        "outputId": "84188afb-c2c0-4527-968b-7f67e78d8bc4"
      },
      "execution_count": null,
      "outputs": [
        {
          "output_type": "error",
          "ename": "NameError",
          "evalue": "ignored",
          "traceback": [
            "\u001b[0;31m---------------------------------------------------------------------------\u001b[0m",
            "\u001b[0;31mNameError\u001b[0m                                 Traceback (most recent call last)",
            "\u001b[0;32m<ipython-input-39-3536571a9bc3>\u001b[0m in \u001b[0;36m<module>\u001b[0;34m()\u001b[0m\n\u001b[0;32m----> 1\u001b[0;31m \u001b[0mtrain\u001b[0m\u001b[0;34m\u001b[0m\u001b[0;34m\u001b[0m\u001b[0m\n\u001b[0m",
            "\u001b[0;31mNameError\u001b[0m: name 'train' is not defined"
          ]
        }
      ]
    },
    {
      "cell_type": "code",
      "source": [
        "\n"
      ],
      "metadata": {
        "id": "brVd82Ln0Sec"
      },
      "execution_count": null,
      "outputs": []
    },
    {
      "cell_type": "code",
      "source": [
        ""
      ],
      "metadata": {
        "id": "l2ayriSc0Sbq"
      },
      "execution_count": null,
      "outputs": []
    },
    {
      "cell_type": "code",
      "source": [
        ""
      ],
      "metadata": {
        "id": "NgAPA71e0SYe"
      },
      "execution_count": null,
      "outputs": []
    },
    {
      "cell_type": "code",
      "source": [
        ""
      ],
      "metadata": {
        "id": "22mriKHPstPp"
      },
      "execution_count": null,
      "outputs": []
    },
    {
      "cell_type": "code",
      "source": [
        ""
      ],
      "metadata": {
        "id": "LeGeaoSLstIv"
      },
      "execution_count": null,
      "outputs": []
    },
    {
      "cell_type": "code",
      "source": [
        ""
      ],
      "metadata": {
        "id": "PRDYhwufstF8"
      },
      "execution_count": null,
      "outputs": []
    },
    {
      "cell_type": "code",
      "source": [
        ""
      ],
      "metadata": {
        "id": "BUTTSUOrstCx"
      },
      "execution_count": null,
      "outputs": []
    },
    {
      "cell_type": "code",
      "source": [
        ""
      ],
      "metadata": {
        "id": "Pq2a405Dss__"
      },
      "execution_count": null,
      "outputs": []
    },
    {
      "cell_type": "code",
      "source": [
        ""
      ],
      "metadata": {
        "id": "XUxbdf-Kss9R"
      },
      "execution_count": null,
      "outputs": []
    },
    {
      "cell_type": "code",
      "source": [
        ""
      ],
      "metadata": {
        "id": "Ols1U1Mbss56"
      },
      "execution_count": null,
      "outputs": []
    },
    {
      "cell_type": "code",
      "source": [
        ""
      ],
      "metadata": {
        "id": "iHOYQL76xeF6"
      },
      "execution_count": null,
      "outputs": []
    },
    {
      "cell_type": "code",
      "source": [
        "# CALCULATE SIZE OF EACH SEPARATE TEST PART\n",
        "def get_rows(customers, test, NUM_PARTS = 4, verbose = ''):\n",
        "    chunk = len(customers)//NUM_PARTS\n",
        "    if verbose != '':\n",
        "        print(f'We will process {verbose} data as {NUM_PARTS} separate parts.')\n",
        "        print(f'There will be {chunk} customers in each part (except the last part).')\n",
        "        print('Below are number of rows in each part:')\n",
        "    rows = []\n",
        "\n",
        "    for k in range(NUM_PARTS):\n",
        "        if k==NUM_PARTS-1: cc = customers[k*chunk:]\n",
        "        else: cc = customers[k*chunk:(k+1)*chunk]\n",
        "        s = test.loc[test.customer_ID.isin(cc)].shape[0]\n",
        "        rows.append(s)\n",
        "    if verbose != '': print( rows )\n",
        "    return rows,chunk\n",
        "\n",
        "# COMPUTE SIZE OF 4 PARTS FOR TEST DATA\n",
        "NUM_PARTS = 4\n",
        "\n",
        "\n",
        "print(f'Reading test data...')\n",
        "test = read_file(path = TEST_PATH, usecols = ['customer_ID','S_2'])\n",
        "customers = test[['customer_ID']].drop_duplicates().sort_index().values.flatten()\n",
        "rows,num_cust = get_rows(customers, test[['customer_ID']], NUM_PARTS = NUM_PARTS, verbose = 'test')"
      ],
      "metadata": {
        "colab": {
          "base_uri": "https://localhost:8080/"
        },
        "id": "X4crug8KKoZv",
        "outputId": "d94957b4-b431-4676-b5b1-0425e868e919"
      },
      "execution_count": null,
      "outputs": [
        {
          "output_type": "stream",
          "name": "stdout",
          "text": [
            "Reading test data...\n",
            "shape of data: (11363762, 2)\n",
            "We will process test data as 4 separate parts.\n",
            "There will be 231155 customers in each part (except the last part).\n",
            "Below are number of rows in each part:\n",
            "[2841209, 2839857, 2842105, 2840591]\n"
          ]
        }
      ]
    },
    {
      "cell_type": "code",
      "source": [
        "features_red= pd.read_csv(f'/content/drive/MyDrive/Amex/parquet/XGB v2/features/features_xgb_v16.csv')\n",
        "features_red = list(features_red['feature'])\n",
        "\n",
        "features = [f for f in f_all if f in features_red]"
      ],
      "metadata": {
        "id": "KhhU1XTDwT9A"
      },
      "execution_count": null,
      "outputs": []
    },
    {
      "cell_type": "code",
      "source": [
        "features"
      ],
      "metadata": {
        "id": "TarUqRjNKE2Y"
      },
      "execution_count": null,
      "outputs": []
    },
    {
      "cell_type": "code",
      "source": [
        "# INFER TEST DATA IN PARTS\n",
        "skip_rows = 0\n",
        "skip_cust = 0\n",
        "test_preds = []\n",
        "VER = 16\n",
        "\n",
        "for k in range(NUM_PARTS):\n",
        "    \n",
        "    # READ PART OF TEST DATA\n",
        "    print(f'\\nReading test data...')\n",
        "    test = read_file(path = TEST_PATH)\n",
        "    test = test.iloc[skip_rows:skip_rows+rows[k]]\n",
        "    skip_rows += rows[k]\n",
        "    print(f'=> Test part {k+1} has shape', test.shape )\n",
        "    \n",
        "    # PROCESS AND FEATURE ENGINEER PART OF TEST DATA\n",
        "    test = process_and_feature_engineer(test,cat_features, num_features, NAN_VALUE)\n",
        "    if k==NUM_PARTS-1: test = test.loc[customers[skip_cust:]]\n",
        "    else: test = test.loc[customers[skip_cust:skip_cust+num_cust]]\n",
        "    skip_cust += num_cust\n",
        "    \n",
        "    # TEST DATA FOR XGB\n",
        "    X_test = test[features]\n",
        "    dtest = xgb.DMatrix(data=X_test)\n",
        "    #test = test[['P_2_mean']] # reduce memory\n",
        "    #del X_test, test\n",
        "    gc.collect()\n",
        "\n",
        "    # INFER XGB MODELS ON TEST DATA\n",
        "    model = xgb.Booster()\n",
        "    model.load_model(f'/content/drive/MyDrive/Amex/parquet/XGB v2/models/XGB_base_v{VER}_fold0.xgb')\n",
        "    preds = model.predict(dtest)\n",
        "    for f in range(1,FOLDS):\n",
        "        model.load_model(f'/content/drive/MyDrive/Amex/parquet/XGB v2/models/XGB_base_v{VER}_fold{f}.xgb')\n",
        "        preds += model.predict(dtest)\n",
        "    preds /= FOLDS\n",
        "    test_preds.append(preds)\n",
        "\n",
        "    # CLEAN MEMORY\n",
        "    del dtest, model\n",
        "    _ = gc.collect()\n",
        "\n",
        "\n",
        "test_preds = np.concatenate(test_preds)\n",
        "test = cudf.DataFrame(index=customers,data={'prediction':test_preds})\n",
        "sub = cudf.read_csv('/content/drive/MyDrive/Amex/parquet/sample_submission.csv')[['customer_ID']]\n",
        "sub['customer_ID_hash'] = sub['customer_ID'].str[-16:].str.hex_to_int().astype('int64')\n",
        "sub = sub.set_index('customer_ID_hash')\n",
        "sub = sub.merge(test[['prediction']], left_index=True, right_index=True, how='left')\n",
        "sub = sub.reset_index(drop=True)\n",
        "\n",
        "sub.to_csv(f'submission_xgb_v{VER}.csv',index=False)"
      ],
      "metadata": {
        "id": "wAZ0pBLcQ8Sn"
      },
      "execution_count": null,
      "outputs": []
    },
    {
      "cell_type": "code",
      "source": [
        "sub.to_csv(f'submission_xgb_v{VER}.csv',index=False)"
      ],
      "metadata": {
        "id": "hmyefydkIMp6"
      },
      "execution_count": null,
      "outputs": []
    },
    {
      "cell_type": "code",
      "source": [
        "#################################Ende"
      ],
      "metadata": {
        "id": "ZyW8QqG8Pw_u"
      },
      "execution_count": null,
      "outputs": []
    },
    {
      "cell_type": "code",
      "source": [
        ""
      ],
      "metadata": {
        "id": "VULS2DKlPw8-"
      },
      "execution_count": null,
      "outputs": []
    },
    {
      "cell_type": "code",
      "source": [
        ""
      ],
      "metadata": {
        "id": "1C03h8TCAf3H"
      },
      "execution_count": null,
      "outputs": []
    },
    {
      "cell_type": "code",
      "execution_count": null,
      "metadata": {
        "id": "gCLz4GjqKWZF"
      },
      "outputs": [],
      "source": [
        "import itertools\n",
        "features_orig = X_train.loc[:,X_train.columns.str.contains('mean')].columns.to_list()\n",
        "fpairs = itertools.combinations(features_orig,2)\n",
        "fpairs = list(fpairs)\n",
        "chunk = 10\n",
        "s = len(fpairs)//chunk +1\n",
        "\n",
        "\n",
        "overview = pd.DataFrame({'chunk':[], 'result':[]})"
      ]
    },
    {
      "cell_type": "code",
      "execution_count": null,
      "metadata": {
        "colab": {
          "background_save": true
        },
        "id": "fIFLZppLzNP1"
      },
      "outputs": [],
      "source": [
        "#try all multiplication pairs\n",
        "\n",
        "\n",
        "for i in range(s): \n",
        "  if i == s-1:\n",
        "    pairs = fpairs[i*chunk:]\n",
        "  else: pairs = fpairs[i*chunk:(i+1)*chunk]\n",
        "\n",
        "  if i == 0:\n",
        "    dtrain = xgb.DMatrix(data=X_train, label=y_train)\n",
        "    dvalid = xgb.DMatrix(data=X_test, label=y_test)\n",
        "    \n",
        "    model = xgb.train(xgb_parms, \n",
        "                dtrain=dtrain,\n",
        "                evals=[(dtrain,'train'),(dvalid,'valid')],\n",
        "                num_boost_round=9999,\n",
        "                early_stopping_rounds=100,\n",
        "                verbose_eval=300) \n",
        "    #model.save_model(f'/content/drive/MyDrive/Amex/parquet/XGB v2/XGB_base.xgb')\n",
        "\n",
        "    oof_preds = model.predict(dvalid)\n",
        "    acc = amex_metric_mod(y_test.iloc[:,0].values, oof_preds)\n",
        "    print(acc)\n",
        "\n",
        "    overview = overview.append({'chunk': ['base'], 'result': acc}, \n",
        "                               ignore_index = True)\n",
        "\n",
        "    del dtrain, dvalid, model\n",
        "  \n",
        "  for m,k in pairs:\n",
        "    X_train[f'{m}_{k}'] = X_train[m]*X_train[k]\n",
        "    X_test[f'{m}_{k}'] = X_test[m]*X_train[k]\n",
        "\n",
        "\n",
        "  dtrain = xgb.DMatrix(data=X_train, label=y_train)\n",
        "  dvalid = xgb.DMatrix(data=X_test, label=y_test)\n",
        "\n",
        "  model = xgb.train(xgb_parms, \n",
        "                dtrain=dtrain,\n",
        "                evals=[(dtrain,'train'),(dvalid,'valid')],\n",
        "                num_boost_round=9999,\n",
        "                early_stopping_rounds=100,\n",
        "                verbose_eval=300) \n",
        "  #model.save_model(f'/content/drive/MyDrive/Amex/parquet/XGB v2/XGB_{i}.xgb')\n",
        "\n",
        "  oof_preds = model.predict(dvalid)\n",
        "  acc = amex_metric_mod(y_test.iloc[:,0].values, oof_preds)\n",
        "\n",
        "  print(acc)\n",
        "\n",
        "  overview = overview.append({'chunk': i, 'result': acc}, ignore_index = True)\n",
        "\n",
        "  overview.to_csv(f'/content/drive/MyDrive/Amex/parquet/XGB v2/xgb_mutliply_{i}.csv',index=False)\n",
        "\n",
        "  del dtrain, dvalid, model\n",
        "\n",
        "  X_train = X_train_base.copy()\n",
        "  X_test = X_test_base.copy()\n",
        "\n",
        "  _ = gc.collect\n",
        "\n",
        "\n",
        "\n",
        "\n"
      ]
    },
    {
      "cell_type": "code",
      "execution_count": null,
      "metadata": {
        "id": "sm3VV2nZImrQ"
      },
      "outputs": [],
      "source": [
        "results = pd.read_csv('/content/drive/MyDrive/Amex/parquet/XGB v2/xgb_mutliply_475.csv')"
      ]
    },
    {
      "cell_type": "code",
      "execution_count": null,
      "metadata": {
        "id": "72Y95JopImnV"
      },
      "outputs": [],
      "source": [
        "results_select = results[results.loc[:,'result']>=0.7910]"
      ]
    },
    {
      "cell_type": "code",
      "execution_count": null,
      "metadata": {
        "id": "LjOOX1_BImkZ"
      },
      "outputs": [],
      "source": [
        "results_select.reset_index(drop= True, inplace = True)"
      ]
    },
    {
      "cell_type": "code",
      "execution_count": null,
      "metadata": {
        "id": "sy8WvI-4SNSP"
      },
      "outputs": [],
      "source": [
        "results_select['chunk'] = results_select['chunk'].astype(str).astype(float)\n",
        "results_select['chunk'] = results_select['chunk'].astype(int)\n",
        "results_select"
      ]
    },
    {
      "cell_type": "code",
      "execution_count": null,
      "metadata": {
        "id": "djOaE0B3Imhe"
      },
      "outputs": [],
      "source": [
        "#create list of features\n",
        "features_select= []\n",
        "\n",
        "for index, row in results_select.iterrows():\n",
        "  i = row['chunk'].astype(int)\n",
        "  f_temp = fpairs[i*10:(i+1)*10]\n",
        "  features_select += f_temp\n",
        "\n",
        "\n"
      ]
    },
    {
      "cell_type": "code",
      "execution_count": null,
      "metadata": {
        "id": "wbZyjVpREpo1"
      },
      "outputs": [],
      "source": [
        "with open('/content/drive/MyDrive/Amex/parquet/XGB v2/results.csv', 'w') as csvfile: \n",
        "    # creating a csv writer object \n",
        "    writer = csv.writer(csvfile) \n",
        "\n",
        "    header = ['feature', 'F1', 'F2', 'result', 'keep']    \n",
        "    writer.writerow(header) \n",
        "\n",
        "def write_results(res):\n",
        "  f = open('/content/drive/MyDrive/Amex/parquet/XGB v2/results.csv', 'a', newline = '')\n",
        "  writer = csv.writer(f)\n",
        "  writer.writerow(res)\n",
        "  f.close()\n",
        "\n",
        "\n",
        "\n"
      ]
    },
    {
      "cell_type": "code",
      "source": [
        "X_train = X_train_base.copy()\n",
        "X_test = X_test_base.copy()\n",
        "\n",
        "\n",
        "gc.collect()"
      ],
      "metadata": {
        "colab": {
          "base_uri": "https://localhost:8080/"
        },
        "id": "_db_iqOsJ-eo",
        "outputId": "5c86685f-ed71-4f7c-b321-770f3d2c456b"
      },
      "execution_count": null,
      "outputs": [
        {
          "output_type": "execute_result",
          "data": {
            "text/plain": [
              "1217"
            ]
          },
          "metadata": {},
          "execution_count": 61
        }
      ]
    },
    {
      "cell_type": "code",
      "execution_count": null,
      "metadata": {
        "colab": {
          "base_uri": "https://localhost:8080/"
        },
        "id": "2LIVVFXGv8B7",
        "outputId": "2b3d082c-f122-4b56-ed8c-05c2d901ffc7"
      },
      "outputs": [
        {
          "output_type": "stream",
          "name": "stdout",
          "text": [
            "[0]\ttrain-logloss:0.66280\tvalid-logloss:0.66278\n",
            "[300]\ttrain-logloss:0.21617\tvalid-logloss:0.22258\n",
            "[600]\ttrain-logloss:0.20580\tvalid-logloss:0.21884\n",
            "[900]\ttrain-logloss:0.19848\tvalid-logloss:0.21766\n",
            "[1200]\ttrain-logloss:0.19204\tvalid-logloss:0.21716\n",
            "[1500]\ttrain-logloss:0.18597\tvalid-logloss:0.21690\n",
            "[1640]\ttrain-logloss:0.18326\tvalid-logloss:0.21689\n",
            "Rund no:  0 Metric :  0.792098599084659\n",
            "[0]\ttrain-logloss:0.66280\tvalid-logloss:0.66278\n",
            "[300]\ttrain-logloss:0.21617\tvalid-logloss:0.22252\n",
            "[600]\ttrain-logloss:0.20577\tvalid-logloss:0.21870\n",
            "[900]\ttrain-logloss:0.19844\tvalid-logloss:0.21757\n",
            "[1200]\ttrain-logloss:0.19192\tvalid-logloss:0.21695\n",
            "[1500]\ttrain-logloss:0.18588\tvalid-logloss:0.21674\n",
            "[1800]\ttrain-logloss:0.18015\tvalid-logloss:0.21658\n",
            "[1938]\ttrain-logloss:0.17763\tvalid-logloss:0.21660\n",
            "Rund no: 1 Metric : 0.7926531408705695 Max: 0.7926531408705695\n",
            "[0]\ttrain-logloss:0.66207\tvalid-logloss:0.66209\n",
            "[300]\ttrain-logloss:0.21622\tvalid-logloss:0.22291\n",
            "[600]\ttrain-logloss:0.20586\tvalid-logloss:0.21891\n",
            "[900]\ttrain-logloss:0.19847\tvalid-logloss:0.21766\n",
            "[1200]\ttrain-logloss:0.19206\tvalid-logloss:0.21716\n",
            "[1500]\ttrain-logloss:0.18596\tvalid-logloss:0.21696\n",
            "[1800]\ttrain-logloss:0.18020\tvalid-logloss:0.21678\n",
            "[2100]\ttrain-logloss:0.17475\tvalid-logloss:0.21675\n",
            "[2110]\ttrain-logloss:0.17457\tvalid-logloss:0.21673\n",
            "Rund no: 2 Metric : 0.7932302834166638 Max: 0.7932302834166638\n",
            "[0]\ttrain-logloss:0.66280\tvalid-logloss:0.66278\n",
            "[300]\ttrain-logloss:0.21615\tvalid-logloss:0.22260\n",
            "[600]\ttrain-logloss:0.20576\tvalid-logloss:0.21878\n",
            "[900]\ttrain-logloss:0.19840\tvalid-logloss:0.21764\n",
            "[1200]\ttrain-logloss:0.19196\tvalid-logloss:0.21728\n",
            "[1500]\ttrain-logloss:0.18591\tvalid-logloss:0.21707\n",
            "[1770]\ttrain-logloss:0.18075\tvalid-logloss:0.21691\n",
            "Rund no: 3 Metric : 0.7905996110330749 Max: 0.7932302834166638\n",
            "[0]\ttrain-logloss:0.66280\tvalid-logloss:0.66278\n",
            "[300]\ttrain-logloss:0.21611\tvalid-logloss:0.22255\n",
            "[600]\ttrain-logloss:0.20572\tvalid-logloss:0.21872\n",
            "[900]\ttrain-logloss:0.19841\tvalid-logloss:0.21763\n",
            "[1200]\ttrain-logloss:0.19194\tvalid-logloss:0.21723\n",
            "[1443]\ttrain-logloss:0.18704\tvalid-logloss:0.21721\n",
            "Rund no: 4 Metric : 0.7920402147039272 Max: 0.7932302834166638\n",
            "[0]\ttrain-logloss:0.66280\tvalid-logloss:0.66278\n",
            "[300]\ttrain-logloss:0.21606\tvalid-logloss:0.22259\n",
            "[600]\ttrain-logloss:0.20565\tvalid-logloss:0.21871\n",
            "[900]\ttrain-logloss:0.19829\tvalid-logloss:0.21761\n",
            "[1200]\ttrain-logloss:0.19184\tvalid-logloss:0.21719\n",
            "[1500]\ttrain-logloss:0.18574\tvalid-logloss:0.21707\n",
            "[1800]\ttrain-logloss:0.17996\tvalid-logloss:0.21695\n",
            "[1982]\ttrain-logloss:0.17667\tvalid-logloss:0.21693\n",
            "Rund no: 5 Metric : 0.7927658185815369 Max: 0.7932302834166638\n",
            "[0]\ttrain-logloss:0.66280\tvalid-logloss:0.66278\n",
            "[300]\ttrain-logloss:0.21611\tvalid-logloss:0.22253\n",
            "[600]\ttrain-logloss:0.20571\tvalid-logloss:0.21866\n",
            "[900]\ttrain-logloss:0.19839\tvalid-logloss:0.21760\n",
            "[1200]\ttrain-logloss:0.19190\tvalid-logloss:0.21713\n",
            "[1444]\ttrain-logloss:0.18699\tvalid-logloss:0.21703\n",
            "Rund no: 6 Metric : 0.7910812465939407 Max: 0.7932302834166638\n",
            "[0]\ttrain-logloss:0.66280\tvalid-logloss:0.66278\n",
            "[300]\ttrain-logloss:0.21611\tvalid-logloss:0.22281\n",
            "[600]\ttrain-logloss:0.20573\tvalid-logloss:0.21887\n",
            "[900]\ttrain-logloss:0.19840\tvalid-logloss:0.21773\n",
            "[1200]\ttrain-logloss:0.19189\tvalid-logloss:0.21734\n",
            "[1500]\ttrain-logloss:0.18580\tvalid-logloss:0.21716\n",
            "[1652]\ttrain-logloss:0.18288\tvalid-logloss:0.21716\n",
            "Rund no: 7 Metric : 0.7913837925207564 Max: 0.7932302834166638\n",
            "[0]\ttrain-logloss:0.66280\tvalid-logloss:0.66278\n",
            "[300]\ttrain-logloss:0.21617\tvalid-logloss:0.22257\n",
            "[600]\ttrain-logloss:0.20576\tvalid-logloss:0.21867\n",
            "[900]\ttrain-logloss:0.19838\tvalid-logloss:0.21753\n",
            "[1200]\ttrain-logloss:0.19191\tvalid-logloss:0.21712\n",
            "[1500]\ttrain-logloss:0.18580\tvalid-logloss:0.21685\n",
            "[1739]\ttrain-logloss:0.18125\tvalid-logloss:0.21671\n",
            "Rund no: 8 Metric : 0.7919621137062276 Max: 0.7932302834166638\n",
            "[0]\ttrain-logloss:0.66280\tvalid-logloss:0.66278\n",
            "[300]\ttrain-logloss:0.21612\tvalid-logloss:0.22259\n",
            "[600]\ttrain-logloss:0.20571\tvalid-logloss:0.21872\n",
            "[900]\ttrain-logloss:0.19838\tvalid-logloss:0.21765\n",
            "[1200]\ttrain-logloss:0.19186\tvalid-logloss:0.21723\n",
            "[1500]\ttrain-logloss:0.18574\tvalid-logloss:0.21704\n",
            "[1759]\ttrain-logloss:0.18075\tvalid-logloss:0.21712\n",
            "Rund no: 9 Metric : 0.7922090942988329 Max: 0.7932302834166638\n",
            "[0]\ttrain-logloss:0.66280\tvalid-logloss:0.66278\n",
            "[300]\ttrain-logloss:0.21613\tvalid-logloss:0.22271\n",
            "[600]\ttrain-logloss:0.20578\tvalid-logloss:0.21894\n",
            "[900]\ttrain-logloss:0.19843\tvalid-logloss:0.21784\n",
            "[1200]\ttrain-logloss:0.19196\tvalid-logloss:0.21731\n",
            "[1376]\ttrain-logloss:0.18834\tvalid-logloss:0.21727\n",
            "Rund no: 10 Metric : 0.7910564278378273 Max: 0.7932302834166638\n",
            "[0]\ttrain-logloss:0.66280\tvalid-logloss:0.66278\n",
            "[300]\ttrain-logloss:0.21612\tvalid-logloss:0.22258\n",
            "[600]\ttrain-logloss:0.20571\tvalid-logloss:0.21886\n",
            "[900]\ttrain-logloss:0.19836\tvalid-logloss:0.21770\n",
            "[1200]\ttrain-logloss:0.19190\tvalid-logloss:0.21721\n",
            "[1443]\ttrain-logloss:0.18691\tvalid-logloss:0.21708\n",
            "Rund no: 11 Metric : 0.7918306363385552 Max: 0.7932302834166638\n",
            "[0]\ttrain-logloss:0.66280\tvalid-logloss:0.66278\n",
            "[300]\ttrain-logloss:0.21611\tvalid-logloss:0.22251\n",
            "[600]\ttrain-logloss:0.20567\tvalid-logloss:0.21870\n",
            "[900]\ttrain-logloss:0.19837\tvalid-logloss:0.21754\n",
            "[1200]\ttrain-logloss:0.19188\tvalid-logloss:0.21716\n",
            "[1405]\ttrain-logloss:0.18771\tvalid-logloss:0.21709\n",
            "Rund no: 12 Metric : 0.7921380070759372 Max: 0.7932302834166638\n",
            "[0]\ttrain-logloss:0.66280\tvalid-logloss:0.66278\n",
            "[300]\ttrain-logloss:0.21612\tvalid-logloss:0.22258\n",
            "[600]\ttrain-logloss:0.20570\tvalid-logloss:0.21870\n",
            "[900]\ttrain-logloss:0.19840\tvalid-logloss:0.21765\n",
            "[1200]\ttrain-logloss:0.19188\tvalid-logloss:0.21734\n",
            "[1500]\ttrain-logloss:0.18579\tvalid-logloss:0.21714\n",
            "[1800]\ttrain-logloss:0.18011\tvalid-logloss:0.21697\n",
            "[2005]\ttrain-logloss:0.17637\tvalid-logloss:0.21692\n",
            "Rund no: 13 Metric : 0.7919255834912231 Max: 0.7932302834166638\n",
            "[0]\ttrain-logloss:0.66280\tvalid-logloss:0.66278\n",
            "[300]\ttrain-logloss:0.21613\tvalid-logloss:0.22266\n",
            "[600]\ttrain-logloss:0.20578\tvalid-logloss:0.21879\n",
            "[900]\ttrain-logloss:0.19838\tvalid-logloss:0.21764\n",
            "[1200]\ttrain-logloss:0.19190\tvalid-logloss:0.21716\n",
            "[1500]\ttrain-logloss:0.18584\tvalid-logloss:0.21701\n",
            "[1742]\ttrain-logloss:0.18123\tvalid-logloss:0.21698\n",
            "Rund no: 14 Metric : 0.7920621812049727 Max: 0.7932302834166638\n",
            "[0]\ttrain-logloss:0.66280\tvalid-logloss:0.66278\n",
            "[300]\ttrain-logloss:0.21610\tvalid-logloss:0.22252\n",
            "[600]\ttrain-logloss:0.20572\tvalid-logloss:0.21868\n",
            "[900]\ttrain-logloss:0.19838\tvalid-logloss:0.21753\n",
            "[1200]\ttrain-logloss:0.19193\tvalid-logloss:0.21715\n",
            "[1500]\ttrain-logloss:0.18591\tvalid-logloss:0.21690\n",
            "[1800]\ttrain-logloss:0.18013\tvalid-logloss:0.21666\n",
            "[1940]\ttrain-logloss:0.17757\tvalid-logloss:0.21667\n",
            "Rund no: 15 Metric : 0.792973949496246 Max: 0.7932302834166638\n",
            "[0]\ttrain-logloss:0.66280\tvalid-logloss:0.66278\n",
            "[300]\ttrain-logloss:0.21619\tvalid-logloss:0.22279\n",
            "[600]\ttrain-logloss:0.20585\tvalid-logloss:0.21886\n",
            "[900]\ttrain-logloss:0.19850\tvalid-logloss:0.21773\n",
            "[1200]\ttrain-logloss:0.19209\tvalid-logloss:0.21722\n",
            "[1268]\ttrain-logloss:0.19066\tvalid-logloss:0.21720\n",
            "Rund no: 16 Metric : 0.7915812071219697 Max: 0.7932302834166638\n",
            "[0]\ttrain-logloss:0.66280\tvalid-logloss:0.66278\n",
            "[300]\ttrain-logloss:0.21610\tvalid-logloss:0.22275\n",
            "[600]\ttrain-logloss:0.20574\tvalid-logloss:0.21885\n",
            "[900]\ttrain-logloss:0.19842\tvalid-logloss:0.21767\n",
            "[1200]\ttrain-logloss:0.19199\tvalid-logloss:0.21730\n",
            "[1426]\ttrain-logloss:0.18742\tvalid-logloss:0.21720\n",
            "Rund no: 17 Metric : 0.7911867979314793 Max: 0.7932302834166638\n",
            "[0]\ttrain-logloss:0.66280\tvalid-logloss:0.66278\n",
            "[300]\ttrain-logloss:0.21613\tvalid-logloss:0.22260\n",
            "[600]\ttrain-logloss:0.20569\tvalid-logloss:0.21876\n",
            "[900]\ttrain-logloss:0.19837\tvalid-logloss:0.21766\n",
            "[1200]\ttrain-logloss:0.19188\tvalid-logloss:0.21730\n",
            "[1373]\ttrain-logloss:0.18836\tvalid-logloss:0.21726\n",
            "Rund no: 18 Metric : 0.7920670799059498 Max: 0.7932302834166638\n",
            "[0]\ttrain-logloss:0.66280\tvalid-logloss:0.66278\n",
            "[300]\ttrain-logloss:0.21617\tvalid-logloss:0.22259\n",
            "[600]\ttrain-logloss:0.20578\tvalid-logloss:0.21879\n",
            "[900]\ttrain-logloss:0.19843\tvalid-logloss:0.21765\n",
            "[1200]\ttrain-logloss:0.19198\tvalid-logloss:0.21734\n",
            "[1500]\ttrain-logloss:0.18593\tvalid-logloss:0.21713\n",
            "[1743]\ttrain-logloss:0.18127\tvalid-logloss:0.21710\n",
            "Rund no: 19 Metric : 0.7919650652819603 Max: 0.7932302834166638\n",
            "[0]\ttrain-logloss:0.66280\tvalid-logloss:0.66278\n",
            "[300]\ttrain-logloss:0.21618\tvalid-logloss:0.22270\n",
            "[600]\ttrain-logloss:0.20574\tvalid-logloss:0.21883\n",
            "[900]\ttrain-logloss:0.19842\tvalid-logloss:0.21773\n",
            "[1200]\ttrain-logloss:0.19195\tvalid-logloss:0.21735\n",
            "[1500]\ttrain-logloss:0.18587\tvalid-logloss:0.21721\n",
            "[1800]\ttrain-logloss:0.18016\tvalid-logloss:0.21712\n",
            "[1829]\ttrain-logloss:0.17961\tvalid-logloss:0.21710\n",
            "Rund no: 20 Metric : 0.7919675752500627 Max: 0.7932302834166638\n",
            "[0]\ttrain-logloss:0.66280\tvalid-logloss:0.66278\n",
            "[300]\ttrain-logloss:0.21610\tvalid-logloss:0.22280\n",
            "[600]\ttrain-logloss:0.20572\tvalid-logloss:0.21884\n",
            "[900]\ttrain-logloss:0.19837\tvalid-logloss:0.21766\n",
            "[1200]\ttrain-logloss:0.19190\tvalid-logloss:0.21728\n",
            "[1443]\ttrain-logloss:0.18697\tvalid-logloss:0.21726\n",
            "Rund no: 21 Metric : 0.7921973450297728 Max: 0.7932302834166638\n",
            "[0]\ttrain-logloss:0.66280\tvalid-logloss:0.66278\n",
            "[300]\ttrain-logloss:0.21612\tvalid-logloss:0.22257\n",
            "[600]\ttrain-logloss:0.20565\tvalid-logloss:0.21883\n",
            "[900]\ttrain-logloss:0.19833\tvalid-logloss:0.21755\n",
            "[1200]\ttrain-logloss:0.19191\tvalid-logloss:0.21717\n",
            "[1500]\ttrain-logloss:0.18583\tvalid-logloss:0.21695\n",
            "[1743]\ttrain-logloss:0.18121\tvalid-logloss:0.21692\n",
            "Rund no: 22 Metric : 0.7922544674353846 Max: 0.7932302834166638\n",
            "[0]\ttrain-logloss:0.66280\tvalid-logloss:0.66278\n",
            "[300]\ttrain-logloss:0.21607\tvalid-logloss:0.22251\n",
            "[600]\ttrain-logloss:0.20569\tvalid-logloss:0.21864\n",
            "[900]\ttrain-logloss:0.19836\tvalid-logloss:0.21755\n",
            "[1200]\ttrain-logloss:0.19187\tvalid-logloss:0.21707\n",
            "[1443]\ttrain-logloss:0.18690\tvalid-logloss:0.21694\n",
            "Rund no: 23 Metric : 0.7917864902446321 Max: 0.7932302834166638\n",
            "[0]\ttrain-logloss:0.66280\tvalid-logloss:0.66278\n",
            "[300]\ttrain-logloss:0.21612\tvalid-logloss:0.22260\n",
            "[600]\ttrain-logloss:0.20575\tvalid-logloss:0.21868\n",
            "[900]\ttrain-logloss:0.19846\tvalid-logloss:0.21759\n",
            "[1200]\ttrain-logloss:0.19197\tvalid-logloss:0.21710\n",
            "[1375]\ttrain-logloss:0.18838\tvalid-logloss:0.21704\n",
            "Rund no: 24 Metric : 0.7914573648762102 Max: 0.7932302834166638\n",
            "[0]\ttrain-logloss:0.66280\tvalid-logloss:0.66278\n",
            "[300]\ttrain-logloss:0.21614\tvalid-logloss:0.22255\n",
            "[600]\ttrain-logloss:0.20578\tvalid-logloss:0.21880\n",
            "[900]\ttrain-logloss:0.19846\tvalid-logloss:0.21767\n",
            "[1200]\ttrain-logloss:0.19190\tvalid-logloss:0.21727\n",
            "[1500]\ttrain-logloss:0.18576\tvalid-logloss:0.21711\n",
            "[1738]\ttrain-logloss:0.18122\tvalid-logloss:0.21703\n",
            "Rund no: 25 Metric : 0.7910240707458611 Max: 0.7932302834166638\n",
            "[0]\ttrain-logloss:0.66280\tvalid-logloss:0.66278\n",
            "[300]\ttrain-logloss:0.21618\tvalid-logloss:0.22283\n",
            "[600]\ttrain-logloss:0.20578\tvalid-logloss:0.21898\n",
            "[900]\ttrain-logloss:0.19847\tvalid-logloss:0.21781\n",
            "[1200]\ttrain-logloss:0.19198\tvalid-logloss:0.21741\n",
            "[1227]\ttrain-logloss:0.19141\tvalid-logloss:0.21741\n",
            "Rund no: 26 Metric : 0.7921865312766734 Max: 0.7932302834166638\n",
            "[0]\ttrain-logloss:0.66280\tvalid-logloss:0.66278\n",
            "[300]\ttrain-logloss:0.21605\tvalid-logloss:0.22284\n",
            "[600]\ttrain-logloss:0.20567\tvalid-logloss:0.21887\n",
            "[900]\ttrain-logloss:0.19836\tvalid-logloss:0.21791\n",
            "[1200]\ttrain-logloss:0.19192\tvalid-logloss:0.21760\n",
            "[1372]\ttrain-logloss:0.18840\tvalid-logloss:0.21769\n",
            "Rund no: 27 Metric : 0.7921901868591477 Max: 0.7932302834166638\n",
            "[0]\ttrain-logloss:0.66280\tvalid-logloss:0.66278\n",
            "[300]\ttrain-logloss:0.21615\tvalid-logloss:0.22261\n",
            "[600]\ttrain-logloss:0.20575\tvalid-logloss:0.21883\n",
            "[900]\ttrain-logloss:0.19832\tvalid-logloss:0.21799\n",
            "[1200]\ttrain-logloss:0.19184\tvalid-logloss:0.21759\n",
            "[1500]\ttrain-logloss:0.18581\tvalid-logloss:0.21745\n",
            "[1623]\ttrain-logloss:0.18344\tvalid-logloss:0.21745\n",
            "Rund no: 28 Metric : 0.7920860591826311 Max: 0.7932302834166638\n",
            "[0]\ttrain-logloss:0.66280\tvalid-logloss:0.66278\n",
            "[300]\ttrain-logloss:0.21612\tvalid-logloss:0.22257\n",
            "[600]\ttrain-logloss:0.20569\tvalid-logloss:0.21878\n",
            "[900]\ttrain-logloss:0.19841\tvalid-logloss:0.21763\n",
            "[1200]\ttrain-logloss:0.19188\tvalid-logloss:0.21717\n",
            "[1500]\ttrain-logloss:0.18584\tvalid-logloss:0.21701\n",
            "[1754]\ttrain-logloss:0.18094\tvalid-logloss:0.21693\n",
            "Rund no: 29 Metric : 0.7922429055874536 Max: 0.7932302834166638\n",
            "[0]\ttrain-logloss:0.66280\tvalid-logloss:0.66278\n",
            "[300]\ttrain-logloss:0.21613\tvalid-logloss:0.22252\n",
            "[600]\ttrain-logloss:0.20578\tvalid-logloss:0.21869\n",
            "[900]\ttrain-logloss:0.19837\tvalid-logloss:0.21753\n",
            "[1200]\ttrain-logloss:0.19196\tvalid-logloss:0.21715\n",
            "[1444]\ttrain-logloss:0.18698\tvalid-logloss:0.21702\n",
            "Rund no: 30 Metric : 0.7916850874181581 Max: 0.7932302834166638\n",
            "[0]\ttrain-logloss:0.66280\tvalid-logloss:0.66278\n",
            "[300]\ttrain-logloss:0.21613\tvalid-logloss:0.22257\n",
            "[600]\ttrain-logloss:0.20576\tvalid-logloss:0.21878\n",
            "[900]\ttrain-logloss:0.19840\tvalid-logloss:0.21770\n",
            "[1200]\ttrain-logloss:0.19198\tvalid-logloss:0.21728\n",
            "[1411]\ttrain-logloss:0.18765\tvalid-logloss:0.21726\n",
            "Rund no: 31 Metric : 0.7918949754305236 Max: 0.7932302834166638\n",
            "[0]\ttrain-logloss:0.66280\tvalid-logloss:0.66278\n",
            "[300]\ttrain-logloss:0.21612\tvalid-logloss:0.22257\n",
            "[600]\ttrain-logloss:0.20573\tvalid-logloss:0.21871\n",
            "[900]\ttrain-logloss:0.19841\tvalid-logloss:0.21768\n",
            "[1200]\ttrain-logloss:0.19192\tvalid-logloss:0.21728\n",
            "[1500]\ttrain-logloss:0.18582\tvalid-logloss:0.21710\n",
            "[1607]\ttrain-logloss:0.18374\tvalid-logloss:0.21713\n",
            "Rund no: 32 Metric : 0.7917356869750641 Max: 0.7932302834166638\n",
            "[0]\ttrain-logloss:0.66280\tvalid-logloss:0.66278\n",
            "[300]\ttrain-logloss:0.21610\tvalid-logloss:0.22257\n",
            "[600]\ttrain-logloss:0.20578\tvalid-logloss:0.21883\n",
            "[900]\ttrain-logloss:0.19846\tvalid-logloss:0.21771\n",
            "[1200]\ttrain-logloss:0.19197\tvalid-logloss:0.21728\n",
            "[1372]\ttrain-logloss:0.18843\tvalid-logloss:0.21728\n",
            "Rund no: 33 Metric : 0.7915375874949462 Max: 0.7932302834166638\n",
            "[0]\ttrain-logloss:0.66280\tvalid-logloss:0.66278\n",
            "[300]\ttrain-logloss:0.21615\tvalid-logloss:0.22259\n",
            "[600]\ttrain-logloss:0.20579\tvalid-logloss:0.21883\n",
            "[900]\ttrain-logloss:0.19839\tvalid-logloss:0.21780\n",
            "[1200]\ttrain-logloss:0.19189\tvalid-logloss:0.21729\n",
            "[1448]\ttrain-logloss:0.18692\tvalid-logloss:0.21727\n",
            "Rund no: 34 Metric : 0.7925339848289565 Max: 0.7932302834166638\n",
            "[0]\ttrain-logloss:0.66280\tvalid-logloss:0.66278\n",
            "[300]\ttrain-logloss:0.21609\tvalid-logloss:0.22254\n",
            "[600]\ttrain-logloss:0.20570\tvalid-logloss:0.21875\n",
            "[900]\ttrain-logloss:0.19839\tvalid-logloss:0.21771\n",
            "[1200]\ttrain-logloss:0.19195\tvalid-logloss:0.21733\n",
            "[1500]\ttrain-logloss:0.18589\tvalid-logloss:0.21712\n",
            "[1652]\ttrain-logloss:0.18296\tvalid-logloss:0.21711\n",
            "Rund no: 35 Metric : 0.7916115457878619 Max: 0.7932302834166638\n",
            "[0]\ttrain-logloss:0.66280\tvalid-logloss:0.66278\n",
            "[300]\ttrain-logloss:0.21613\tvalid-logloss:0.22260\n",
            "[600]\ttrain-logloss:0.20571\tvalid-logloss:0.21883\n",
            "[900]\ttrain-logloss:0.19841\tvalid-logloss:0.21771\n",
            "[1200]\ttrain-logloss:0.19197\tvalid-logloss:0.21730\n",
            "[1500]\ttrain-logloss:0.18591\tvalid-logloss:0.21717\n",
            "[1762]\ttrain-logloss:0.18091\tvalid-logloss:0.21715\n",
            "Rund no: 36 Metric : 0.7926479731630907 Max: 0.7932302834166638\n",
            "[0]\ttrain-logloss:0.66280\tvalid-logloss:0.66278\n",
            "[300]\ttrain-logloss:0.21616\tvalid-logloss:0.22262\n",
            "[600]\ttrain-logloss:0.20574\tvalid-logloss:0.21869\n",
            "[900]\ttrain-logloss:0.19847\tvalid-logloss:0.21771\n",
            "[1200]\ttrain-logloss:0.19194\tvalid-logloss:0.21735\n",
            "[1500]\ttrain-logloss:0.18585\tvalid-logloss:0.21709\n",
            "[1767]\ttrain-logloss:0.18077\tvalid-logloss:0.21703\n",
            "Rund no: 37 Metric : 0.7931006210749973 Max: 0.7932302834166638\n",
            "[0]\ttrain-logloss:0.66280\tvalid-logloss:0.66278\n",
            "[300]\ttrain-logloss:0.21610\tvalid-logloss:0.22257\n",
            "[600]\ttrain-logloss:0.20567\tvalid-logloss:0.21863\n",
            "[900]\ttrain-logloss:0.19836\tvalid-logloss:0.21765\n",
            "[1200]\ttrain-logloss:0.19190\tvalid-logloss:0.21723\n",
            "[1500]\ttrain-logloss:0.18581\tvalid-logloss:0.21710\n",
            "[1720]\ttrain-logloss:0.18159\tvalid-logloss:0.21698\n",
            "Rund no: 38 Metric : 0.792545832287809 Max: 0.7932302834166638\n",
            "[0]\ttrain-logloss:0.66280\tvalid-logloss:0.66278\n",
            "[300]\ttrain-logloss:0.21612\tvalid-logloss:0.22258\n",
            "[600]\ttrain-logloss:0.20581\tvalid-logloss:0.21878\n",
            "[900]\ttrain-logloss:0.19847\tvalid-logloss:0.21769\n",
            "[1200]\ttrain-logloss:0.19196\tvalid-logloss:0.21719\n",
            "[1500]\ttrain-logloss:0.18587\tvalid-logloss:0.21702\n",
            "[1628]\ttrain-logloss:0.18345\tvalid-logloss:0.21699\n",
            "Rund no: 39 Metric : 0.7919262955074491 Max: 0.7932302834166638\n",
            "[0]\ttrain-logloss:0.66280\tvalid-logloss:0.66278\n",
            "[300]\ttrain-logloss:0.21608\tvalid-logloss:0.22262\n",
            "[600]\ttrain-logloss:0.20569\tvalid-logloss:0.21871\n",
            "[900]\ttrain-logloss:0.19834\tvalid-logloss:0.21765\n",
            "[1200]\ttrain-logloss:0.19190\tvalid-logloss:0.21729\n",
            "[1372]\ttrain-logloss:0.18837\tvalid-logloss:0.21736\n",
            "Rund no: 40 Metric : 0.7928081350911238 Max: 0.7932302834166638\n",
            "[0]\ttrain-logloss:0.66280\tvalid-logloss:0.66278\n",
            "[300]\ttrain-logloss:0.21612\tvalid-logloss:0.22260\n",
            "[600]\ttrain-logloss:0.20574\tvalid-logloss:0.21876\n",
            "[900]\ttrain-logloss:0.19842\tvalid-logloss:0.21770\n",
            "[1200]\ttrain-logloss:0.19196\tvalid-logloss:0.21725\n",
            "[1438]\ttrain-logloss:0.18712\tvalid-logloss:0.21722\n",
            "Rund no: 41 Metric : 0.7913777564136731 Max: 0.7932302834166638\n",
            "[0]\ttrain-logloss:0.66280\tvalid-logloss:0.66278\n",
            "[300]\ttrain-logloss:0.21613\tvalid-logloss:0.22257\n",
            "[600]\ttrain-logloss:0.20577\tvalid-logloss:0.21862\n",
            "[900]\ttrain-logloss:0.19847\tvalid-logloss:0.21759\n",
            "[1200]\ttrain-logloss:0.19192\tvalid-logloss:0.21717\n",
            "[1500]\ttrain-logloss:0.18587\tvalid-logloss:0.21697\n",
            "[1800]\ttrain-logloss:0.18017\tvalid-logloss:0.21689\n",
            "[2100]\ttrain-logloss:0.17470\tvalid-logloss:0.21682\n",
            "[2108]\ttrain-logloss:0.17456\tvalid-logloss:0.21682\n",
            "Rund no: 42 Metric : 0.7914813491762135 Max: 0.7932302834166638\n",
            "[0]\ttrain-logloss:0.66280\tvalid-logloss:0.66278\n",
            "[300]\ttrain-logloss:0.21613\tvalid-logloss:0.22263\n",
            "[600]\ttrain-logloss:0.20573\tvalid-logloss:0.21880\n",
            "[900]\ttrain-logloss:0.19843\tvalid-logloss:0.21764\n",
            "[1200]\ttrain-logloss:0.19197\tvalid-logloss:0.21721\n",
            "[1370]\ttrain-logloss:0.18847\tvalid-logloss:0.21718\n",
            "Rund no: 43 Metric : 0.7916751858306081 Max: 0.7932302834166638\n",
            "[0]\ttrain-logloss:0.66280\tvalid-logloss:0.66278\n",
            "[300]\ttrain-logloss:0.21612\tvalid-logloss:0.22259\n",
            "[600]\ttrain-logloss:0.20567\tvalid-logloss:0.21878\n",
            "[900]\ttrain-logloss:0.19838\tvalid-logloss:0.21769\n",
            "[1200]\ttrain-logloss:0.19190\tvalid-logloss:0.21733\n",
            "[1500]\ttrain-logloss:0.18578\tvalid-logloss:0.21715\n",
            "[1787]\ttrain-logloss:0.18030\tvalid-logloss:0.21704\n",
            "Rund no: 44 Metric : 0.7922064553989046 Max: 0.7932302834166638\n",
            "[0]\ttrain-logloss:0.66280\tvalid-logloss:0.66278\n",
            "[300]\ttrain-logloss:0.21610\tvalid-logloss:0.22255\n",
            "[600]\ttrain-logloss:0.20575\tvalid-logloss:0.21869\n",
            "[900]\ttrain-logloss:0.19848\tvalid-logloss:0.21764\n",
            "[1200]\ttrain-logloss:0.19200\tvalid-logloss:0.21723\n",
            "[1480]\ttrain-logloss:0.18629\tvalid-logloss:0.21717\n",
            "Rund no: 45 Metric : 0.7921334584650073 Max: 0.7932302834166638\n",
            "[0]\ttrain-logloss:0.66280\tvalid-logloss:0.66278\n",
            "[300]\ttrain-logloss:0.21615\tvalid-logloss:0.22255\n",
            "[600]\ttrain-logloss:0.20571\tvalid-logloss:0.21866\n",
            "[900]\ttrain-logloss:0.19846\tvalid-logloss:0.21765\n",
            "[1200]\ttrain-logloss:0.19200\tvalid-logloss:0.21721\n",
            "[1500]\ttrain-logloss:0.18592\tvalid-logloss:0.21708\n",
            "[1516]\ttrain-logloss:0.18560\tvalid-logloss:0.21707\n",
            "Rund no: 46 Metric : 0.7919756735322896 Max: 0.7932302834166638\n",
            "[0]\ttrain-logloss:0.66280\tvalid-logloss:0.66278\n",
            "[300]\ttrain-logloss:0.21612\tvalid-logloss:0.22258\n",
            "[600]\ttrain-logloss:0.20573\tvalid-logloss:0.21878\n",
            "[900]\ttrain-logloss:0.19842\tvalid-logloss:0.21761\n",
            "[1200]\ttrain-logloss:0.19194\tvalid-logloss:0.21723\n",
            "[1500]\ttrain-logloss:0.18591\tvalid-logloss:0.21705\n",
            "[1651]\ttrain-logloss:0.18298\tvalid-logloss:0.21702\n",
            "Rund no: 47 Metric : 0.7915951388461575 Max: 0.7932302834166638\n",
            "[0]\ttrain-logloss:0.66280\tvalid-logloss:0.66278\n",
            "[300]\ttrain-logloss:0.21612\tvalid-logloss:0.22256\n",
            "[600]\ttrain-logloss:0.20566\tvalid-logloss:0.21881\n",
            "[900]\ttrain-logloss:0.19840\tvalid-logloss:0.21767\n",
            "[1200]\ttrain-logloss:0.19191\tvalid-logloss:0.21722\n",
            "[1500]\ttrain-logloss:0.18589\tvalid-logloss:0.21706\n",
            "[1739]\ttrain-logloss:0.18128\tvalid-logloss:0.21700\n",
            "Rund no: 48 Metric : 0.7930458782450259 Max: 0.7932302834166638\n",
            "[0]\ttrain-logloss:0.66280\tvalid-logloss:0.66278\n",
            "[300]\ttrain-logloss:0.21615\tvalid-logloss:0.22263\n",
            "[600]\ttrain-logloss:0.20580\tvalid-logloss:0.21891\n",
            "[900]\ttrain-logloss:0.19845\tvalid-logloss:0.21774\n",
            "[1200]\ttrain-logloss:0.19205\tvalid-logloss:0.21730\n",
            "[1500]\ttrain-logloss:0.18595\tvalid-logloss:0.21721\n",
            "[1507]\ttrain-logloss:0.18581\tvalid-logloss:0.21720\n",
            "Rund no: 49 Metric : 0.7906156910303782 Max: 0.7932302834166638\n",
            "[0]\ttrain-logloss:0.66280\tvalid-logloss:0.66278\n",
            "[300]\ttrain-logloss:0.21612\tvalid-logloss:0.22258\n",
            "[600]\ttrain-logloss:0.20568\tvalid-logloss:0.21882\n",
            "[900]\ttrain-logloss:0.19836\tvalid-logloss:0.21783\n",
            "[1200]\ttrain-logloss:0.19191\tvalid-logloss:0.21744\n",
            "[1247]\ttrain-logloss:0.19090\tvalid-logloss:0.21740\n",
            "Rund no: 50 Metric : 0.7909121786289363 Max: 0.7932302834166638\n",
            "[0]\ttrain-logloss:0.66280\tvalid-logloss:0.66278\n",
            "[300]\ttrain-logloss:0.21612\tvalid-logloss:0.22258\n",
            "[600]\ttrain-logloss:0.20572\tvalid-logloss:0.21869\n",
            "[900]\ttrain-logloss:0.19831\tvalid-logloss:0.21751\n",
            "[1200]\ttrain-logloss:0.19186\tvalid-logloss:0.21713\n",
            "[1269]\ttrain-logloss:0.19045\tvalid-logloss:0.21713\n",
            "Rund no: 51 Metric : 0.7917277549327137 Max: 0.7932302834166638\n",
            "[0]\ttrain-logloss:0.66280\tvalid-logloss:0.66278\n",
            "[300]\ttrain-logloss:0.21619\tvalid-logloss:0.22268\n",
            "[600]\ttrain-logloss:0.20578\tvalid-logloss:0.21871\n",
            "[900]\ttrain-logloss:0.19843\tvalid-logloss:0.21758\n",
            "[1200]\ttrain-logloss:0.19191\tvalid-logloss:0.21724\n",
            "[1500]\ttrain-logloss:0.18588\tvalid-logloss:0.21702\n",
            "[1800]\ttrain-logloss:0.18018\tvalid-logloss:0.21684\n",
            "[1962]\ttrain-logloss:0.17719\tvalid-logloss:0.21682\n",
            "Rund no: 52 Metric : 0.7931806714901681 Max: 0.7932302834166638\n",
            "[0]\ttrain-logloss:0.66280\tvalid-logloss:0.66278\n",
            "[300]\ttrain-logloss:0.21617\tvalid-logloss:0.22252\n",
            "[600]\ttrain-logloss:0.20576\tvalid-logloss:0.21868\n",
            "[900]\ttrain-logloss:0.19838\tvalid-logloss:0.21764\n",
            "[1200]\ttrain-logloss:0.19196\tvalid-logloss:0.21722\n",
            "[1500]\ttrain-logloss:0.18588\tvalid-logloss:0.21693\n",
            "[1628]\ttrain-logloss:0.18340\tvalid-logloss:0.21697\n",
            "Rund no: 53 Metric : 0.7919298645467379 Max: 0.7932302834166638\n",
            "[0]\ttrain-logloss:0.66280\tvalid-logloss:0.66278\n",
            "[300]\ttrain-logloss:0.21608\tvalid-logloss:0.22259\n",
            "[600]\ttrain-logloss:0.20574\tvalid-logloss:0.21883\n",
            "[900]\ttrain-logloss:0.19844\tvalid-logloss:0.21772\n",
            "[1200]\ttrain-logloss:0.19200\tvalid-logloss:0.21739\n",
            "[1500]\ttrain-logloss:0.18587\tvalid-logloss:0.21720\n",
            "[1637]\ttrain-logloss:0.18322\tvalid-logloss:0.21721\n",
            "Rund no: 54 Metric : 0.790760018674398 Max: 0.7932302834166638\n",
            "[0]\ttrain-logloss:0.66280\tvalid-logloss:0.66278\n",
            "[300]\ttrain-logloss:0.21612\tvalid-logloss:0.22258\n",
            "[600]\ttrain-logloss:0.20575\tvalid-logloss:0.21881\n",
            "[900]\ttrain-logloss:0.19848\tvalid-logloss:0.21773\n",
            "[1200]\ttrain-logloss:0.19199\tvalid-logloss:0.21725\n",
            "[1443]\ttrain-logloss:0.18707\tvalid-logloss:0.21717\n",
            "Rund no: 55 Metric : 0.7918056133829 Max: 0.7932302834166638\n",
            "[0]\ttrain-logloss:0.66280\tvalid-logloss:0.66278\n",
            "[300]\ttrain-logloss:0.21612\tvalid-logloss:0.22257\n",
            "[600]\ttrain-logloss:0.20575\tvalid-logloss:0.21872\n",
            "[900]\ttrain-logloss:0.19837\tvalid-logloss:0.21764\n",
            "[1200]\ttrain-logloss:0.19195\tvalid-logloss:0.21724\n",
            "[1375]\ttrain-logloss:0.18844\tvalid-logloss:0.21721\n",
            "Rund no: 56 Metric : 0.7925632356781365 Max: 0.7932302834166638\n",
            "[0]\ttrain-logloss:0.66280\tvalid-logloss:0.66278\n",
            "[300]\ttrain-logloss:0.21612\tvalid-logloss:0.22258\n",
            "[600]\ttrain-logloss:0.20574\tvalid-logloss:0.21873\n",
            "[900]\ttrain-logloss:0.19838\tvalid-logloss:0.21772\n",
            "[1200]\ttrain-logloss:0.19184\tvalid-logloss:0.21727\n",
            "[1295]\ttrain-logloss:0.18993\tvalid-logloss:0.21728\n",
            "Rund no: 57 Metric : 0.7916537558593614 Max: 0.7932302834166638\n",
            "[0]\ttrain-logloss:0.66280\tvalid-logloss:0.66278\n",
            "[300]\ttrain-logloss:0.21612\tvalid-logloss:0.22260\n",
            "[600]\ttrain-logloss:0.20573\tvalid-logloss:0.21881\n",
            "[900]\ttrain-logloss:0.19844\tvalid-logloss:0.21770\n",
            "[1200]\ttrain-logloss:0.19195\tvalid-logloss:0.21725\n",
            "[1500]\ttrain-logloss:0.18583\tvalid-logloss:0.21700\n",
            "[1631]\ttrain-logloss:0.18328\tvalid-logloss:0.21699\n",
            "Rund no: 58 Metric : 0.7925527233898984 Max: 0.7932302834166638\n",
            "[0]\ttrain-logloss:0.66280\tvalid-logloss:0.66278\n",
            "[300]\ttrain-logloss:0.21610\tvalid-logloss:0.22255\n",
            "[600]\ttrain-logloss:0.20574\tvalid-logloss:0.21880\n",
            "[900]\ttrain-logloss:0.19846\tvalid-logloss:0.21767\n",
            "[1200]\ttrain-logloss:0.19198\tvalid-logloss:0.21729\n",
            "[1375]\ttrain-logloss:0.18841\tvalid-logloss:0.21724\n",
            "Rund no: 59 Metric : 0.7915045912789105 Max: 0.7932302834166638\n",
            "[0]\ttrain-logloss:0.66280\tvalid-logloss:0.66278\n",
            "[300]\ttrain-logloss:0.21613\tvalid-logloss:0.22259\n",
            "[600]\ttrain-logloss:0.20574\tvalid-logloss:0.21870\n",
            "[900]\ttrain-logloss:0.19839\tvalid-logloss:0.21752\n",
            "[1200]\ttrain-logloss:0.19191\tvalid-logloss:0.21718\n",
            "[1361]\ttrain-logloss:0.18861\tvalid-logloss:0.21726\n",
            "Rund no: 60 Metric : 0.7930851935401988 Max: 0.7932302834166638\n",
            "[0]\ttrain-logloss:0.66280\tvalid-logloss:0.66278\n",
            "[300]\ttrain-logloss:0.21612\tvalid-logloss:0.22268\n",
            "[600]\ttrain-logloss:0.20572\tvalid-logloss:0.21884\n",
            "[900]\ttrain-logloss:0.19839\tvalid-logloss:0.21775\n",
            "[1200]\ttrain-logloss:0.19199\tvalid-logloss:0.21725\n",
            "[1500]\ttrain-logloss:0.18590\tvalid-logloss:0.21702\n",
            "[1800]\ttrain-logloss:0.18012\tvalid-logloss:0.21681\n",
            "[2005]\ttrain-logloss:0.17636\tvalid-logloss:0.21691\n",
            "Rund no: 61 Metric : 0.792305114107553 Max: 0.7932302834166638\n",
            "[0]\ttrain-logloss:0.66280\tvalid-logloss:0.66278\n",
            "[300]\ttrain-logloss:0.21612\tvalid-logloss:0.22255\n",
            "[600]\ttrain-logloss:0.20573\tvalid-logloss:0.21877\n",
            "[900]\ttrain-logloss:0.19840\tvalid-logloss:0.21778\n",
            "[1200]\ttrain-logloss:0.19191\tvalid-logloss:0.21735\n",
            "[1500]\ttrain-logloss:0.18590\tvalid-logloss:0.21712\n",
            "[1800]\ttrain-logloss:0.18014\tvalid-logloss:0.21699\n",
            "[1948]\ttrain-logloss:0.17738\tvalid-logloss:0.21700\n",
            "Rund no: 62 Metric : 0.791794048325891 Max: 0.7932302834166638\n",
            "[0]\ttrain-logloss:0.66280\tvalid-logloss:0.66278\n",
            "[300]\ttrain-logloss:0.21620\tvalid-logloss:0.22271\n",
            "[600]\ttrain-logloss:0.20574\tvalid-logloss:0.21881\n",
            "[900]\ttrain-logloss:0.19844\tvalid-logloss:0.21770\n",
            "[1200]\ttrain-logloss:0.19202\tvalid-logloss:0.21722\n",
            "[1500]\ttrain-logloss:0.18598\tvalid-logloss:0.21698\n",
            "[1800]\ttrain-logloss:0.18031\tvalid-logloss:0.21675\n",
            "[2005]\ttrain-logloss:0.17658\tvalid-logloss:0.21668\n",
            "Rund no: 63 Metric : 0.7940104216604645 Max: 0.7940104216604645\n",
            "[0]\ttrain-logloss:0.66207\tvalid-logloss:0.66209\n",
            "[300]\ttrain-logloss:0.21623\tvalid-logloss:0.22259\n",
            "[600]\ttrain-logloss:0.20580\tvalid-logloss:0.21872\n",
            "[900]\ttrain-logloss:0.19843\tvalid-logloss:0.21752\n",
            "[1200]\ttrain-logloss:0.19190\tvalid-logloss:0.21704\n",
            "[1500]\ttrain-logloss:0.18584\tvalid-logloss:0.21676\n",
            "[1609]\ttrain-logloss:0.18372\tvalid-logloss:0.21677\n",
            "Rund no: 64 Metric : 0.7926650690415363 Max: 0.7940104216604645\n",
            "[0]\ttrain-logloss:0.66207\tvalid-logloss:0.66209\n",
            "[300]\ttrain-logloss:0.21619\tvalid-logloss:0.22251\n",
            "[600]\ttrain-logloss:0.20588\tvalid-logloss:0.21864\n",
            "[900]\ttrain-logloss:0.19841\tvalid-logloss:0.21738\n",
            "[1200]\ttrain-logloss:0.19190\tvalid-logloss:0.21685\n",
            "[1500]\ttrain-logloss:0.18584\tvalid-logloss:0.21649\n",
            "[1800]\ttrain-logloss:0.18005\tvalid-logloss:0.21636\n",
            "[1893]\ttrain-logloss:0.17834\tvalid-logloss:0.21637\n",
            "Rund no: 65 Metric : 0.7936716430735264 Max: 0.7940104216604645\n",
            "[0]\ttrain-logloss:0.66207\tvalid-logloss:0.66209\n",
            "[300]\ttrain-logloss:0.21619\tvalid-logloss:0.22247\n",
            "[600]\ttrain-logloss:0.20582\tvalid-logloss:0.21860\n",
            "[900]\ttrain-logloss:0.19834\tvalid-logloss:0.21754\n",
            "[1200]\ttrain-logloss:0.19187\tvalid-logloss:0.21701\n",
            "[1500]\ttrain-logloss:0.18574\tvalid-logloss:0.21668\n",
            "[1800]\ttrain-logloss:0.18000\tvalid-logloss:0.21654\n",
            "[1964]\ttrain-logloss:0.17702\tvalid-logloss:0.21657\n",
            "Rund no: 66 Metric : 0.7936009111862952 Max: 0.7940104216604645\n",
            "[0]\ttrain-logloss:0.66207\tvalid-logloss:0.66209\n",
            "[300]\ttrain-logloss:0.21622\tvalid-logloss:0.22262\n",
            "[600]\ttrain-logloss:0.20586\tvalid-logloss:0.21880\n",
            "[900]\ttrain-logloss:0.19846\tvalid-logloss:0.21769\n",
            "[1200]\ttrain-logloss:0.19200\tvalid-logloss:0.21717\n",
            "[1432]\ttrain-logloss:0.18724\tvalid-logloss:0.21710\n",
            "Rund no: 67 Metric : 0.7923958451707109 Max: 0.7940104216604645\n",
            "[0]\ttrain-logloss:0.66207\tvalid-logloss:0.66209\n",
            "[300]\ttrain-logloss:0.21622\tvalid-logloss:0.22261\n",
            "[600]\ttrain-logloss:0.20584\tvalid-logloss:0.21874\n",
            "[900]\ttrain-logloss:0.19839\tvalid-logloss:0.21762\n",
            "[1200]\ttrain-logloss:0.19196\tvalid-logloss:0.21713\n",
            "[1491]\ttrain-logloss:0.18601\tvalid-logloss:0.21694\n",
            "Rund no: 68 Metric : 0.7929604956554379 Max: 0.7940104216604645\n",
            "[0]\ttrain-logloss:0.66207\tvalid-logloss:0.66209\n",
            "[300]\ttrain-logloss:0.21626\tvalid-logloss:0.22272\n",
            "[600]\ttrain-logloss:0.20588\tvalid-logloss:0.21888\n",
            "[900]\ttrain-logloss:0.19848\tvalid-logloss:0.21774\n",
            "[1200]\ttrain-logloss:0.19198\tvalid-logloss:0.21724\n",
            "[1500]\ttrain-logloss:0.18584\tvalid-logloss:0.21693\n",
            "[1749]\ttrain-logloss:0.18114\tvalid-logloss:0.21690\n",
            "Rund no: 69 Metric : 0.7932171594319822 Max: 0.7940104216604645\n",
            "[0]\ttrain-logloss:0.66207\tvalid-logloss:0.66209\n",
            "[300]\ttrain-logloss:0.21612\tvalid-logloss:0.22258\n",
            "[600]\ttrain-logloss:0.20575\tvalid-logloss:0.21876\n",
            "[900]\ttrain-logloss:0.19837\tvalid-logloss:0.21777\n",
            "[1200]\ttrain-logloss:0.19191\tvalid-logloss:0.21737\n",
            "[1500]\ttrain-logloss:0.18578\tvalid-logloss:0.21715\n",
            "[1800]\ttrain-logloss:0.18004\tvalid-logloss:0.21709\n",
            "[1894]\ttrain-logloss:0.17831\tvalid-logloss:0.21713\n",
            "Rund no: 70 Metric : 0.7925908515076656 Max: 0.7940104216604645\n",
            "[0]\ttrain-logloss:0.66207\tvalid-logloss:0.66209\n",
            "[300]\ttrain-logloss:0.21619\tvalid-logloss:0.22251\n",
            "[600]\ttrain-logloss:0.20581\tvalid-logloss:0.21857\n",
            "[900]\ttrain-logloss:0.19831\tvalid-logloss:0.21746\n",
            "[1200]\ttrain-logloss:0.19190\tvalid-logloss:0.21708\n",
            "[1500]\ttrain-logloss:0.18584\tvalid-logloss:0.21681\n",
            "[1800]\ttrain-logloss:0.18011\tvalid-logloss:0.21663\n",
            "[1897]\ttrain-logloss:0.17832\tvalid-logloss:0.21664\n",
            "Rund no: 71 Metric : 0.7933452771654945 Max: 0.7940104216604645\n",
            "[0]\ttrain-logloss:0.66207\tvalid-logloss:0.66209\n",
            "[300]\ttrain-logloss:0.21617\tvalid-logloss:0.22253\n",
            "[600]\ttrain-logloss:0.20578\tvalid-logloss:0.21881\n",
            "[900]\ttrain-logloss:0.19836\tvalid-logloss:0.21772\n",
            "[1200]\ttrain-logloss:0.19187\tvalid-logloss:0.21731\n",
            "[1500]\ttrain-logloss:0.18576\tvalid-logloss:0.21692\n",
            "[1659]\ttrain-logloss:0.18276\tvalid-logloss:0.21693\n",
            "Rund no: 72 Metric : 0.7934796493759496 Max: 0.7940104216604645\n",
            "[0]\ttrain-logloss:0.66207\tvalid-logloss:0.66209\n",
            "[300]\ttrain-logloss:0.21618\tvalid-logloss:0.22268\n",
            "[600]\ttrain-logloss:0.20583\tvalid-logloss:0.21887\n",
            "[900]\ttrain-logloss:0.19840\tvalid-logloss:0.21773\n",
            "[1200]\ttrain-logloss:0.19195\tvalid-logloss:0.21714\n",
            "[1500]\ttrain-logloss:0.18578\tvalid-logloss:0.21679\n",
            "[1745]\ttrain-logloss:0.18106\tvalid-logloss:0.21673\n",
            "Rund no: 73 Metric : 0.7927469954477865 Max: 0.7940104216604645\n",
            "[0]\ttrain-logloss:0.66207\tvalid-logloss:0.66209\n",
            "[300]\ttrain-logloss:0.21615\tvalid-logloss:0.22251\n",
            "[600]\ttrain-logloss:0.20584\tvalid-logloss:0.21876\n",
            "[900]\ttrain-logloss:0.19836\tvalid-logloss:0.21759\n",
            "[1200]\ttrain-logloss:0.19192\tvalid-logloss:0.21709\n",
            "[1500]\ttrain-logloss:0.18578\tvalid-logloss:0.21686\n",
            "[1659]\ttrain-logloss:0.18276\tvalid-logloss:0.21682\n",
            "Rund no: 74 Metric : 0.7920970312646958 Max: 0.7940104216604645\n",
            "[0]\ttrain-logloss:0.66207\tvalid-logloss:0.66209\n",
            "[300]\ttrain-logloss:0.21624\tvalid-logloss:0.22256\n",
            "[600]\ttrain-logloss:0.20587\tvalid-logloss:0.21873\n",
            "[900]\ttrain-logloss:0.19850\tvalid-logloss:0.21757\n",
            "[1200]\ttrain-logloss:0.19205\tvalid-logloss:0.21707\n",
            "[1500]\ttrain-logloss:0.18595\tvalid-logloss:0.21683\n",
            "[1800]\ttrain-logloss:0.18024\tvalid-logloss:0.21672\n",
            "[1879]\ttrain-logloss:0.17880\tvalid-logloss:0.21674\n",
            "Rund no: 75 Metric : 0.7922077708317319 Max: 0.7940104216604645\n",
            "[0]\ttrain-logloss:0.66207\tvalid-logloss:0.66209\n",
            "[300]\ttrain-logloss:0.21622\tvalid-logloss:0.22261\n",
            "[600]\ttrain-logloss:0.20583\tvalid-logloss:0.21881\n",
            "[900]\ttrain-logloss:0.19837\tvalid-logloss:0.21757\n",
            "[1200]\ttrain-logloss:0.19198\tvalid-logloss:0.21703\n",
            "[1500]\ttrain-logloss:0.18587\tvalid-logloss:0.21677\n",
            "[1800]\ttrain-logloss:0.18017\tvalid-logloss:0.21666\n",
            "[2100]\ttrain-logloss:0.17475\tvalid-logloss:0.21660\n",
            "[2150]\ttrain-logloss:0.17389\tvalid-logloss:0.21661\n",
            "Rund no: 76 Metric : 0.7937289334353391 Max: 0.7940104216604645\n",
            "[0]\ttrain-logloss:0.66207\tvalid-logloss:0.66209\n",
            "[300]\ttrain-logloss:0.21622\tvalid-logloss:0.22261\n",
            "[600]\ttrain-logloss:0.20582\tvalid-logloss:0.21872\n",
            "[900]\ttrain-logloss:0.19838\tvalid-logloss:0.21764\n",
            "[1200]\ttrain-logloss:0.19190\tvalid-logloss:0.21712\n",
            "[1500]\ttrain-logloss:0.18583\tvalid-logloss:0.21683\n",
            "[1571]\ttrain-logloss:0.18446\tvalid-logloss:0.21684\n",
            "Rund no: 77 Metric : 0.7935083649323963 Max: 0.7940104216604645\n",
            "[0]\ttrain-logloss:0.66207\tvalid-logloss:0.66209\n",
            "[300]\ttrain-logloss:0.21622\tvalid-logloss:0.22261\n",
            "[600]\ttrain-logloss:0.20585\tvalid-logloss:0.21886\n",
            "[900]\ttrain-logloss:0.19845\tvalid-logloss:0.21764\n",
            "[1200]\ttrain-logloss:0.19204\tvalid-logloss:0.21724\n",
            "[1500]\ttrain-logloss:0.18586\tvalid-logloss:0.21691\n",
            "[1800]\ttrain-logloss:0.18013\tvalid-logloss:0.21676\n",
            "[2059]\ttrain-logloss:0.17545\tvalid-logloss:0.21679\n",
            "Rund no: 78 Metric : 0.7934335202260353 Max: 0.7940104216604645\n",
            "[0]\ttrain-logloss:0.66207\tvalid-logloss:0.66209\n",
            "[300]\ttrain-logloss:0.21616\tvalid-logloss:0.22252\n",
            "[600]\ttrain-logloss:0.20583\tvalid-logloss:0.21878\n",
            "[900]\ttrain-logloss:0.19841\tvalid-logloss:0.21752\n",
            "[1200]\ttrain-logloss:0.19191\tvalid-logloss:0.21707\n",
            "[1500]\ttrain-logloss:0.18580\tvalid-logloss:0.21671\n",
            "[1800]\ttrain-logloss:0.18007\tvalid-logloss:0.21659\n",
            "[1892]\ttrain-logloss:0.17838\tvalid-logloss:0.21664\n",
            "Rund no: 79 Metric : 0.7936624544511708 Max: 0.7940104216604645\n",
            "[0]\ttrain-logloss:0.66207\tvalid-logloss:0.66209\n",
            "[300]\ttrain-logloss:0.21618\tvalid-logloss:0.22259\n",
            "[600]\ttrain-logloss:0.20579\tvalid-logloss:0.21873\n",
            "[900]\ttrain-logloss:0.19842\tvalid-logloss:0.21763\n",
            "[1200]\ttrain-logloss:0.19193\tvalid-logloss:0.21705\n",
            "[1443]\ttrain-logloss:0.18696\tvalid-logloss:0.21697\n",
            "Rund no: 80 Metric : 0.7923456432226611 Max: 0.7940104216604645\n",
            "[0]\ttrain-logloss:0.66207\tvalid-logloss:0.66209\n",
            "[300]\ttrain-logloss:0.21613\tvalid-logloss:0.22252\n",
            "[600]\ttrain-logloss:0.20585\tvalid-logloss:0.21876\n",
            "[900]\ttrain-logloss:0.19837\tvalid-logloss:0.21752\n",
            "[1200]\ttrain-logloss:0.19190\tvalid-logloss:0.21708\n",
            "[1500]\ttrain-logloss:0.18576\tvalid-logloss:0.21690\n",
            "[1800]\ttrain-logloss:0.18004\tvalid-logloss:0.21673\n",
            "[2100]\ttrain-logloss:0.17466\tvalid-logloss:0.21676\n",
            "[2122]\ttrain-logloss:0.17429\tvalid-logloss:0.21679\n",
            "Rund no: 81 Metric : 0.7926429854447965 Max: 0.7940104216604645\n",
            "[0]\ttrain-logloss:0.66207\tvalid-logloss:0.66209\n",
            "[300]\ttrain-logloss:0.21619\tvalid-logloss:0.22263\n",
            "[600]\ttrain-logloss:0.20582\tvalid-logloss:0.21876\n",
            "[900]\ttrain-logloss:0.19844\tvalid-logloss:0.21754\n",
            "[1200]\ttrain-logloss:0.19196\tvalid-logloss:0.21707\n",
            "[1500]\ttrain-logloss:0.18585\tvalid-logloss:0.21679\n",
            "[1609]\ttrain-logloss:0.18371\tvalid-logloss:0.21681\n",
            "Rund no: 82 Metric : 0.7926141553084526 Max: 0.7940104216604645\n",
            "[0]\ttrain-logloss:0.66207\tvalid-logloss:0.66209\n",
            "[300]\ttrain-logloss:0.21626\tvalid-logloss:0.22258\n",
            "[600]\ttrain-logloss:0.20584\tvalid-logloss:0.21864\n",
            "[900]\ttrain-logloss:0.19846\tvalid-logloss:0.21744\n",
            "[1200]\ttrain-logloss:0.19199\tvalid-logloss:0.21696\n",
            "[1500]\ttrain-logloss:0.18587\tvalid-logloss:0.21667\n",
            "[1658]\ttrain-logloss:0.18285\tvalid-logloss:0.21663\n",
            "Rund no: 83 Metric : 0.7930988404112717 Max: 0.7940104216604645\n",
            "[0]\ttrain-logloss:0.66207\tvalid-logloss:0.66209\n",
            "[300]\ttrain-logloss:0.21611\tvalid-logloss:0.22253\n",
            "[600]\ttrain-logloss:0.20586\tvalid-logloss:0.21877\n",
            "[900]\ttrain-logloss:0.19839\tvalid-logloss:0.21752\n",
            "[1200]\ttrain-logloss:0.19189\tvalid-logloss:0.21697\n",
            "[1492]\ttrain-logloss:0.18594\tvalid-logloss:0.21685\n",
            "Rund no: 84 Metric : 0.792656760868938 Max: 0.7940104216604645\n",
            "[0]\ttrain-logloss:0.66207\tvalid-logloss:0.66209\n",
            "[300]\ttrain-logloss:0.21619\tvalid-logloss:0.22265\n",
            "[600]\ttrain-logloss:0.20578\tvalid-logloss:0.21882\n",
            "[900]\ttrain-logloss:0.19838\tvalid-logloss:0.21786\n",
            "[1200]\ttrain-logloss:0.19192\tvalid-logloss:0.21741\n",
            "[1500]\ttrain-logloss:0.18580\tvalid-logloss:0.21720\n",
            "[1765]\ttrain-logloss:0.18077\tvalid-logloss:0.21715\n",
            "Rund no: 85 Metric : 0.7920150366436252 Max: 0.7940104216604645\n",
            "[0]\ttrain-logloss:0.66207\tvalid-logloss:0.66209\n",
            "[300]\ttrain-logloss:0.21621\tvalid-logloss:0.22250\n",
            "[600]\ttrain-logloss:0.20584\tvalid-logloss:0.21866\n",
            "[900]\ttrain-logloss:0.19842\tvalid-logloss:0.21746\n",
            "[1200]\ttrain-logloss:0.19194\tvalid-logloss:0.21695\n",
            "[1500]\ttrain-logloss:0.18579\tvalid-logloss:0.21671\n",
            "[1800]\ttrain-logloss:0.18004\tvalid-logloss:0.21653\n",
            "[1891]\ttrain-logloss:0.17838\tvalid-logloss:0.21658\n",
            "Rund no: 86 Metric : 0.7935915936073239 Max: 0.7940104216604645\n",
            "[0]\ttrain-logloss:0.66207\tvalid-logloss:0.66209\n",
            "[300]\ttrain-logloss:0.21624\tvalid-logloss:0.22256\n",
            "[600]\ttrain-logloss:0.20581\tvalid-logloss:0.21868\n",
            "[900]\ttrain-logloss:0.19837\tvalid-logloss:0.21741\n",
            "[1200]\ttrain-logloss:0.19190\tvalid-logloss:0.21700\n",
            "[1500]\ttrain-logloss:0.18578\tvalid-logloss:0.21671\n",
            "[1653]\ttrain-logloss:0.18282\tvalid-logloss:0.21666\n",
            "Rund no: 87 Metric : 0.7931935480700258 Max: 0.7940104216604645\n",
            "[0]\ttrain-logloss:0.66207\tvalid-logloss:0.66209\n",
            "[300]\ttrain-logloss:0.21612\tvalid-logloss:0.22254\n",
            "[600]\ttrain-logloss:0.20580\tvalid-logloss:0.21879\n",
            "[900]\ttrain-logloss:0.19836\tvalid-logloss:0.21762\n",
            "[1200]\ttrain-logloss:0.19194\tvalid-logloss:0.21725\n",
            "[1500]\ttrain-logloss:0.18584\tvalid-logloss:0.21692\n",
            "[1752]\ttrain-logloss:0.18112\tvalid-logloss:0.21684\n",
            "Rund no: 88 Metric : 0.7930345263043448 Max: 0.7940104216604645\n",
            "[0]\ttrain-logloss:0.66207\tvalid-logloss:0.66209\n",
            "[300]\ttrain-logloss:0.21620\tvalid-logloss:0.22262\n",
            "[600]\ttrain-logloss:0.20584\tvalid-logloss:0.21869\n",
            "[900]\ttrain-logloss:0.19838\tvalid-logloss:0.21756\n",
            "[1200]\ttrain-logloss:0.19197\tvalid-logloss:0.21699\n",
            "[1500]\ttrain-logloss:0.18589\tvalid-logloss:0.21676\n",
            "[1800]\ttrain-logloss:0.18016\tvalid-logloss:0.21661\n",
            "[1942]\ttrain-logloss:0.17755\tvalid-logloss:0.21663\n",
            "Rund no: 89 Metric : 0.7938144199640923 Max: 0.7940104216604645\n",
            "[0]\ttrain-logloss:0.66207\tvalid-logloss:0.66209\n",
            "[300]\ttrain-logloss:0.21621\tvalid-logloss:0.22260\n",
            "[600]\ttrain-logloss:0.20586\tvalid-logloss:0.21875\n",
            "[900]\ttrain-logloss:0.19842\tvalid-logloss:0.21759\n",
            "[1200]\ttrain-logloss:0.19195\tvalid-logloss:0.21720\n",
            "[1500]\ttrain-logloss:0.18587\tvalid-logloss:0.21691\n",
            "[1637]\ttrain-logloss:0.18317\tvalid-logloss:0.21688\n",
            "Rund no: 90 Metric : 0.7924836675753213 Max: 0.7940104216604645\n",
            "[0]\ttrain-logloss:0.66207\tvalid-logloss:0.66209\n",
            "[300]\ttrain-logloss:0.21622\tvalid-logloss:0.22261\n",
            "[600]\ttrain-logloss:0.20581\tvalid-logloss:0.21885\n",
            "[900]\ttrain-logloss:0.19840\tvalid-logloss:0.21779\n",
            "[1200]\ttrain-logloss:0.19194\tvalid-logloss:0.21724\n",
            "[1500]\ttrain-logloss:0.18581\tvalid-logloss:0.21704\n",
            "[1800]\ttrain-logloss:0.18011\tvalid-logloss:0.21689\n",
            "[1869]\ttrain-logloss:0.17885\tvalid-logloss:0.21692\n",
            "Rund no: 91 Metric : 0.7914562815301409 Max: 0.7940104216604645\n",
            "[0]\ttrain-logloss:0.66207\tvalid-logloss:0.66209\n",
            "[300]\ttrain-logloss:0.21619\tvalid-logloss:0.22258\n",
            "[600]\ttrain-logloss:0.20586\tvalid-logloss:0.21876\n",
            "[900]\ttrain-logloss:0.19842\tvalid-logloss:0.21768\n",
            "[1200]\ttrain-logloss:0.19195\tvalid-logloss:0.21716\n",
            "[1500]\ttrain-logloss:0.18580\tvalid-logloss:0.21682\n",
            "[1800]\ttrain-logloss:0.18010\tvalid-logloss:0.21666\n",
            "[1906]\ttrain-logloss:0.17819\tvalid-logloss:0.21670\n",
            "Rund no: 92 Metric : 0.79310081603561 Max: 0.7940104216604645\n",
            "[0]\ttrain-logloss:0.66207\tvalid-logloss:0.66209\n",
            "[300]\ttrain-logloss:0.21618\tvalid-logloss:0.22260\n",
            "[600]\ttrain-logloss:0.20579\tvalid-logloss:0.21873\n",
            "[900]\ttrain-logloss:0.19828\tvalid-logloss:0.21754\n",
            "[1200]\ttrain-logloss:0.19182\tvalid-logloss:0.21702\n",
            "[1500]\ttrain-logloss:0.18569\tvalid-logloss:0.21676\n",
            "[1800]\ttrain-logloss:0.18000\tvalid-logloss:0.21663\n",
            "[2026]\ttrain-logloss:0.17586\tvalid-logloss:0.21667\n",
            "Rund no: 93 Metric : 0.7935622885486122 Max: 0.7940104216604645\n",
            "[0]\ttrain-logloss:0.66207\tvalid-logloss:0.66209\n",
            "[300]\ttrain-logloss:0.21618\tvalid-logloss:0.22264\n",
            "[600]\ttrain-logloss:0.20583\tvalid-logloss:0.21871\n",
            "[900]\ttrain-logloss:0.19836\tvalid-logloss:0.21778\n",
            "[933]\ttrain-logloss:0.19766\tvalid-logloss:0.21772\n",
            "Rund no: 94 Metric : 0.7917087322198513 Max: 0.7940104216604645\n",
            "[0]\ttrain-logloss:0.66207\tvalid-logloss:0.66209\n",
            "[300]\ttrain-logloss:0.21619\tvalid-logloss:0.22260\n",
            "[600]\ttrain-logloss:0.20582\tvalid-logloss:0.21876\n",
            "[900]\ttrain-logloss:0.19843\tvalid-logloss:0.21752\n",
            "[1200]\ttrain-logloss:0.19193\tvalid-logloss:0.21701\n",
            "[1500]\ttrain-logloss:0.18582\tvalid-logloss:0.21670\n",
            "[1800]\ttrain-logloss:0.18016\tvalid-logloss:0.21654\n",
            "[1895]\ttrain-logloss:0.17843\tvalid-logloss:0.21655\n",
            "Rund no: 95 Metric : 0.7951358214006115 Max: 0.7951358214006115\n",
            "[0]\ttrain-logloss:0.66280\tvalid-logloss:0.66278\n",
            "[300]\ttrain-logloss:0.21627\tvalid-logloss:0.22265\n",
            "[600]\ttrain-logloss:0.20590\tvalid-logloss:0.21876\n",
            "[900]\ttrain-logloss:0.19863\tvalid-logloss:0.21768\n",
            "[1200]\ttrain-logloss:0.19205\tvalid-logloss:0.21730\n",
            "[1253]\ttrain-logloss:0.19095\tvalid-logloss:0.21726\n",
            "Rund no: 96 Metric : 0.7918002362054719 Max: 0.7951358214006115\n",
            "[0]\ttrain-logloss:0.66280\tvalid-logloss:0.66278\n",
            "[300]\ttrain-logloss:0.21632\tvalid-logloss:0.22282\n",
            "[600]\ttrain-logloss:0.20590\tvalid-logloss:0.21894\n",
            "[900]\ttrain-logloss:0.19860\tvalid-logloss:0.21780\n",
            "[1200]\ttrain-logloss:0.19196\tvalid-logloss:0.21738\n",
            "[1500]\ttrain-logloss:0.18587\tvalid-logloss:0.21716\n",
            "[1799]\ttrain-logloss:0.18018\tvalid-logloss:0.21715\n",
            "Rund no: 97 Metric : 0.792787283089349 Max: 0.7951358214006115\n",
            "[0]\ttrain-logloss:0.66280\tvalid-logloss:0.66278\n",
            "[300]\ttrain-logloss:0.21627\tvalid-logloss:0.22262\n",
            "[600]\ttrain-logloss:0.20597\tvalid-logloss:0.21864\n",
            "[900]\ttrain-logloss:0.19867\tvalid-logloss:0.21753\n",
            "[1200]\ttrain-logloss:0.19212\tvalid-logloss:0.21708\n",
            "[1241]\ttrain-logloss:0.19127\tvalid-logloss:0.21707\n",
            "Rund no: 98 Metric : 0.7925538433183291 Max: 0.7951358214006115\n",
            "[0]\ttrain-logloss:0.66280\tvalid-logloss:0.66278\n",
            "[300]\ttrain-logloss:0.21628\tvalid-logloss:0.22263\n",
            "[600]\ttrain-logloss:0.20584\tvalid-logloss:0.21875\n",
            "[900]\ttrain-logloss:0.19859\tvalid-logloss:0.21762\n",
            "[1200]\ttrain-logloss:0.19206\tvalid-logloss:0.21740\n",
            "[1243]\ttrain-logloss:0.19116\tvalid-logloss:0.21737\n",
            "Rund no: 99 Metric : 0.7922178395174684 Max: 0.7951358214006115\n",
            "[0]\ttrain-logloss:0.66280\tvalid-logloss:0.66278\n",
            "[300]\ttrain-logloss:0.21626\tvalid-logloss:0.22261\n",
            "[600]\ttrain-logloss:0.20589\tvalid-logloss:0.21880\n",
            "[900]\ttrain-logloss:0.19864\tvalid-logloss:0.21769\n",
            "[1200]\ttrain-logloss:0.19213\tvalid-logloss:0.21712\n",
            "[1500]\ttrain-logloss:0.18598\tvalid-logloss:0.21696\n",
            "[1740]\ttrain-logloss:0.18134\tvalid-logloss:0.21690\n",
            "Rund no: 100 Metric : 0.7923621561324499 Max: 0.7951358214006115\n",
            "[0]\ttrain-logloss:0.66280\tvalid-logloss:0.66278\n",
            "[300]\ttrain-logloss:0.21627\tvalid-logloss:0.22268\n",
            "[600]\ttrain-logloss:0.20586\tvalid-logloss:0.21874\n",
            "[900]\ttrain-logloss:0.19855\tvalid-logloss:0.21767\n",
            "[1200]\ttrain-logloss:0.19201\tvalid-logloss:0.21724\n",
            "[1500]\ttrain-logloss:0.18596\tvalid-logloss:0.21702\n",
            "[1800]\ttrain-logloss:0.18024\tvalid-logloss:0.21685\n",
            "[1869]\ttrain-logloss:0.17899\tvalid-logloss:0.21684\n",
            "Rund no: 101 Metric : 0.7932301168718132 Max: 0.7951358214006115\n",
            "[0]\ttrain-logloss:0.66280\tvalid-logloss:0.66278\n",
            "[300]\ttrain-logloss:0.21626\tvalid-logloss:0.22265\n",
            "[600]\ttrain-logloss:0.20591\tvalid-logloss:0.21892\n",
            "[900]\ttrain-logloss:0.19859\tvalid-logloss:0.21779\n",
            "[1200]\ttrain-logloss:0.19214\tvalid-logloss:0.21729\n",
            "[1248]\ttrain-logloss:0.19114\tvalid-logloss:0.21721\n",
            "Rund no: 102 Metric : 0.7928314283914193 Max: 0.7951358214006115\n",
            "[0]\ttrain-logloss:0.66280\tvalid-logloss:0.66278\n",
            "[300]\ttrain-logloss:0.21628\tvalid-logloss:0.22280\n",
            "[600]\ttrain-logloss:0.20587\tvalid-logloss:0.21890\n",
            "[900]\ttrain-logloss:0.19856\tvalid-logloss:0.21764\n",
            "[1200]\ttrain-logloss:0.19203\tvalid-logloss:0.21709\n",
            "[1500]\ttrain-logloss:0.18597\tvalid-logloss:0.21682\n",
            "[1662]\ttrain-logloss:0.18276\tvalid-logloss:0.21681\n",
            "Rund no: 103 Metric : 0.7925882943826337 Max: 0.7951358214006115\n",
            "[0]\ttrain-logloss:0.66280\tvalid-logloss:0.66278\n",
            "[300]\ttrain-logloss:0.21625\tvalid-logloss:0.22274\n",
            "[600]\ttrain-logloss:0.20591\tvalid-logloss:0.21896\n",
            "[900]\ttrain-logloss:0.19857\tvalid-logloss:0.21782\n",
            "[1200]\ttrain-logloss:0.19201\tvalid-logloss:0.21738\n",
            "[1500]\ttrain-logloss:0.18592\tvalid-logloss:0.21723\n",
            "[1800]\ttrain-logloss:0.18014\tvalid-logloss:0.21712\n",
            "[1919]\ttrain-logloss:0.17800\tvalid-logloss:0.21713\n",
            "Rund no: 104 Metric : 0.7921441244882066 Max: 0.7951358214006115\n",
            "[0]\ttrain-logloss:0.66280\tvalid-logloss:0.66278\n",
            "[300]\ttrain-logloss:0.21626\tvalid-logloss:0.22261\n",
            "[600]\ttrain-logloss:0.20587\tvalid-logloss:0.21880\n",
            "[900]\ttrain-logloss:0.19859\tvalid-logloss:0.21770\n",
            "[1200]\ttrain-logloss:0.19200\tvalid-logloss:0.21722\n",
            "[1500]\ttrain-logloss:0.18592\tvalid-logloss:0.21696\n",
            "[1629]\ttrain-logloss:0.18340\tvalid-logloss:0.21698\n",
            "Rund no: 105 Metric : 0.7919159586563514 Max: 0.7951358214006115\n",
            "[0]\ttrain-logloss:0.66280\tvalid-logloss:0.66278\n",
            "[300]\ttrain-logloss:0.21625\tvalid-logloss:0.22282\n",
            "[600]\ttrain-logloss:0.20589\tvalid-logloss:0.21896\n",
            "[900]\ttrain-logloss:0.19861\tvalid-logloss:0.21779\n",
            "[1200]\ttrain-logloss:0.19204\tvalid-logloss:0.21735\n",
            "[1500]\ttrain-logloss:0.18591\tvalid-logloss:0.21709\n",
            "[1653]\ttrain-logloss:0.18294\tvalid-logloss:0.21707\n",
            "Rund no: 106 Metric : 0.7928974454863864 Max: 0.7951358214006115\n",
            "[0]\ttrain-logloss:0.66280\tvalid-logloss:0.66278\n",
            "[300]\ttrain-logloss:0.21626\tvalid-logloss:0.22277\n",
            "[600]\ttrain-logloss:0.20594\tvalid-logloss:0.21888\n",
            "[900]\ttrain-logloss:0.19861\tvalid-logloss:0.21772\n",
            "[1200]\ttrain-logloss:0.19205\tvalid-logloss:0.21721\n",
            "[1500]\ttrain-logloss:0.18597\tvalid-logloss:0.21694\n",
            "[1800]\ttrain-logloss:0.18024\tvalid-logloss:0.21686\n",
            "[1916]\ttrain-logloss:0.17817\tvalid-logloss:0.21692\n",
            "Rund no: 107 Metric : 0.7947968879911409 Max: 0.7951358214006115\n",
            "[0]\ttrain-logloss:0.66280\tvalid-logloss:0.66278\n",
            "[300]\ttrain-logloss:0.21630\tvalid-logloss:0.22284\n",
            "[600]\ttrain-logloss:0.20590\tvalid-logloss:0.21895\n",
            "[900]\ttrain-logloss:0.19857\tvalid-logloss:0.21776\n",
            "[1200]\ttrain-logloss:0.19200\tvalid-logloss:0.21732\n",
            "[1242]\ttrain-logloss:0.19109\tvalid-logloss:0.21727\n",
            "Rund no: 108 Metric : 0.791768281861788 Max: 0.7951358214006115\n",
            "[0]\ttrain-logloss:0.66280\tvalid-logloss:0.66278\n",
            "[300]\ttrain-logloss:0.21627\tvalid-logloss:0.22265\n",
            "[600]\ttrain-logloss:0.20588\tvalid-logloss:0.21876\n",
            "[900]\ttrain-logloss:0.19863\tvalid-logloss:0.21761\n",
            "[1200]\ttrain-logloss:0.19211\tvalid-logloss:0.21713\n",
            "[1500]\ttrain-logloss:0.18601\tvalid-logloss:0.21685\n",
            "[1653]\ttrain-logloss:0.18303\tvalid-logloss:0.21683\n",
            "Rund no: 109 Metric : 0.7925093500953692 Max: 0.7951358214006115\n",
            "[0]\ttrain-logloss:0.66280\tvalid-logloss:0.66278\n",
            "[300]\ttrain-logloss:0.21624\tvalid-logloss:0.22279\n",
            "[600]\ttrain-logloss:0.20591\tvalid-logloss:0.21910\n",
            "[900]\ttrain-logloss:0.19857\tvalid-logloss:0.21794\n",
            "[1200]\ttrain-logloss:0.19205\tvalid-logloss:0.21768\n",
            "[1250]\ttrain-logloss:0.19101\tvalid-logloss:0.21758\n",
            "Rund no: 110 Metric : 0.7923430174299764 Max: 0.7951358214006115\n",
            "[0]\ttrain-logloss:0.66280\tvalid-logloss:0.66278\n",
            "[300]\ttrain-logloss:0.21635\tvalid-logloss:0.22279\n",
            "[600]\ttrain-logloss:0.20589\tvalid-logloss:0.21885\n",
            "[900]\ttrain-logloss:0.19854\tvalid-logloss:0.21768\n",
            "[1200]\ttrain-logloss:0.19195\tvalid-logloss:0.21727\n",
            "[1500]\ttrain-logloss:0.18583\tvalid-logloss:0.21697\n",
            "[1659]\ttrain-logloss:0.18279\tvalid-logloss:0.21697\n",
            "Rund no: 111 Metric : 0.7923522025382792 Max: 0.7951358214006115\n",
            "[0]\ttrain-logloss:0.66280\tvalid-logloss:0.66278\n",
            "[300]\ttrain-logloss:0.21624\tvalid-logloss:0.22266\n",
            "[600]\ttrain-logloss:0.20583\tvalid-logloss:0.21885\n",
            "[900]\ttrain-logloss:0.19864\tvalid-logloss:0.21772\n",
            "[1200]\ttrain-logloss:0.19209\tvalid-logloss:0.21719\n",
            "[1500]\ttrain-logloss:0.18604\tvalid-logloss:0.21697\n",
            "[1653]\ttrain-logloss:0.18305\tvalid-logloss:0.21694\n",
            "Rund no: 112 Metric : 0.7919428024290522 Max: 0.7951358214006115\n",
            "[0]\ttrain-logloss:0.66280\tvalid-logloss:0.66278\n",
            "[300]\ttrain-logloss:0.21623\tvalid-logloss:0.22267\n",
            "[600]\ttrain-logloss:0.20588\tvalid-logloss:0.21884\n",
            "[900]\ttrain-logloss:0.19852\tvalid-logloss:0.21778\n",
            "[1200]\ttrain-logloss:0.19198\tvalid-logloss:0.21737\n",
            "[1500]\ttrain-logloss:0.18588\tvalid-logloss:0.21706\n",
            "[1745]\ttrain-logloss:0.18112\tvalid-logloss:0.21700\n",
            "Rund no: 113 Metric : 0.7940743136034668 Max: 0.7951358214006115\n",
            "[0]\ttrain-logloss:0.66280\tvalid-logloss:0.66278\n",
            "[300]\ttrain-logloss:0.21620\tvalid-logloss:0.22265\n",
            "[600]\ttrain-logloss:0.20590\tvalid-logloss:0.21875\n",
            "[900]\ttrain-logloss:0.19862\tvalid-logloss:0.21766\n",
            "[1200]\ttrain-logloss:0.19206\tvalid-logloss:0.21708\n",
            "[1500]\ttrain-logloss:0.18601\tvalid-logloss:0.21682\n",
            "[1660]\ttrain-logloss:0.18290\tvalid-logloss:0.21681\n",
            "Rund no: 114 Metric : 0.7930844028500328 Max: 0.7951358214006115\n",
            "[0]\ttrain-logloss:0.66280\tvalid-logloss:0.66278\n",
            "[300]\ttrain-logloss:0.21627\tvalid-logloss:0.22265\n",
            "[600]\ttrain-logloss:0.20586\tvalid-logloss:0.21868\n",
            "[900]\ttrain-logloss:0.19863\tvalid-logloss:0.21768\n",
            "[1200]\ttrain-logloss:0.19203\tvalid-logloss:0.21720\n",
            "[1500]\ttrain-logloss:0.18593\tvalid-logloss:0.21693\n",
            "[1656]\ttrain-logloss:0.18291\tvalid-logloss:0.21694\n",
            "Rund no: 115 Metric : 0.7933022689893461 Max: 0.7951358214006115\n",
            "[0]\ttrain-logloss:0.66280\tvalid-logloss:0.66278\n",
            "[300]\ttrain-logloss:0.21629\tvalid-logloss:0.22277\n",
            "[600]\ttrain-logloss:0.20584\tvalid-logloss:0.21886\n",
            "[900]\ttrain-logloss:0.19853\tvalid-logloss:0.21769\n",
            "[1200]\ttrain-logloss:0.19199\tvalid-logloss:0.21720\n",
            "[1500]\ttrain-logloss:0.18586\tvalid-logloss:0.21696\n",
            "[1704]\ttrain-logloss:0.18190\tvalid-logloss:0.21692\n",
            "Rund no: 116 Metric : 0.7932554337452284 Max: 0.7951358214006115\n",
            "[0]\ttrain-logloss:0.66280\tvalid-logloss:0.66278\n",
            "[300]\ttrain-logloss:0.21624\tvalid-logloss:0.22276\n",
            "[600]\ttrain-logloss:0.20588\tvalid-logloss:0.21885\n",
            "[900]\ttrain-logloss:0.19856\tvalid-logloss:0.21762\n",
            "[1200]\ttrain-logloss:0.19199\tvalid-logloss:0.21712\n",
            "[1500]\ttrain-logloss:0.18593\tvalid-logloss:0.21682\n",
            "[1722]\ttrain-logloss:0.18160\tvalid-logloss:0.21680\n",
            "Rund no: 117 Metric : 0.7929925031518561 Max: 0.7951358214006115\n",
            "[0]\ttrain-logloss:0.66280\tvalid-logloss:0.66278\n",
            "[300]\ttrain-logloss:0.21625\tvalid-logloss:0.22259\n",
            "[600]\ttrain-logloss:0.20582\tvalid-logloss:0.21864\n",
            "[900]\ttrain-logloss:0.19850\tvalid-logloss:0.21750\n",
            "[1200]\ttrain-logloss:0.19194\tvalid-logloss:0.21724\n",
            "[1250]\ttrain-logloss:0.19087\tvalid-logloss:0.21714\n",
            "Rund no: 118 Metric : 0.7929008139804261 Max: 0.7951358214006115\n",
            "[0]\ttrain-logloss:0.66280\tvalid-logloss:0.66278\n",
            "[300]\ttrain-logloss:0.21627\tvalid-logloss:0.22262\n",
            "[600]\ttrain-logloss:0.20585\tvalid-logloss:0.21873\n",
            "[900]\ttrain-logloss:0.19856\tvalid-logloss:0.21763\n",
            "[1200]\ttrain-logloss:0.19204\tvalid-logloss:0.21715\n",
            "[1500]\ttrain-logloss:0.18596\tvalid-logloss:0.21682\n",
            "[1800]\ttrain-logloss:0.18024\tvalid-logloss:0.21674\n",
            "[2091]\ttrain-logloss:0.17503\tvalid-logloss:0.21673\n",
            "Rund no: 119 Metric : 0.7933623358516322 Max: 0.7951358214006115\n",
            "[0]\ttrain-logloss:0.66280\tvalid-logloss:0.66278\n",
            "[300]\ttrain-logloss:0.21625\tvalid-logloss:0.22266\n",
            "[600]\ttrain-logloss:0.20588\tvalid-logloss:0.21884\n",
            "[900]\ttrain-logloss:0.19859\tvalid-logloss:0.21767\n",
            "[1200]\ttrain-logloss:0.19198\tvalid-logloss:0.21723\n",
            "[1500]\ttrain-logloss:0.18589\tvalid-logloss:0.21699\n",
            "[1644]\ttrain-logloss:0.18305\tvalid-logloss:0.21701\n",
            "Rund no: 120 Metric : 0.7924660791225457 Max: 0.7951358214006115\n",
            "[0]\ttrain-logloss:0.66280\tvalid-logloss:0.66278\n",
            "[300]\ttrain-logloss:0.21632\tvalid-logloss:0.22281\n",
            "[600]\ttrain-logloss:0.20594\tvalid-logloss:0.21890\n",
            "[900]\ttrain-logloss:0.19865\tvalid-logloss:0.21780\n",
            "[1200]\ttrain-logloss:0.19210\tvalid-logloss:0.21736\n",
            "[1238]\ttrain-logloss:0.19131\tvalid-logloss:0.21735\n",
            "Rund no: 121 Metric : 0.7927365776060258 Max: 0.7951358214006115\n",
            "[0]\ttrain-logloss:0.66280\tvalid-logloss:0.66278\n",
            "[300]\ttrain-logloss:0.21626\tvalid-logloss:0.22267\n",
            "[600]\ttrain-logloss:0.20586\tvalid-logloss:0.21865\n",
            "[900]\ttrain-logloss:0.19859\tvalid-logloss:0.21757\n",
            "[1200]\ttrain-logloss:0.19206\tvalid-logloss:0.21712\n",
            "[1500]\ttrain-logloss:0.18591\tvalid-logloss:0.21695\n",
            "[1661]\ttrain-logloss:0.18277\tvalid-logloss:0.21692\n",
            "Rund no: 122 Metric : 0.7930114051242816 Max: 0.7951358214006115\n",
            "[0]\ttrain-logloss:0.66280\tvalid-logloss:0.66278\n",
            "[300]\ttrain-logloss:0.21633\tvalid-logloss:0.22278\n",
            "[600]\ttrain-logloss:0.20592\tvalid-logloss:0.21884\n",
            "[900]\ttrain-logloss:0.19867\tvalid-logloss:0.21769\n",
            "[1200]\ttrain-logloss:0.19207\tvalid-logloss:0.21724\n",
            "[1243]\ttrain-logloss:0.19118\tvalid-logloss:0.21721\n",
            "Rund no: 123 Metric : 0.7921924413219894 Max: 0.7951358214006115\n",
            "[0]\ttrain-logloss:0.66280\tvalid-logloss:0.66278\n",
            "[300]\ttrain-logloss:0.21630\tvalid-logloss:0.22285\n",
            "[600]\ttrain-logloss:0.20588\tvalid-logloss:0.21895\n",
            "[900]\ttrain-logloss:0.19861\tvalid-logloss:0.21787\n",
            "[1200]\ttrain-logloss:0.19205\tvalid-logloss:0.21732\n",
            "[1500]\ttrain-logloss:0.18592\tvalid-logloss:0.21714\n",
            "[1643]\ttrain-logloss:0.18314\tvalid-logloss:0.21711\n",
            "Rund no: 124 Metric : 0.7923065031089415 Max: 0.7951358214006115\n",
            "[0]\ttrain-logloss:0.66280\tvalid-logloss:0.66278\n",
            "[300]\ttrain-logloss:0.21628\tvalid-logloss:0.22269\n",
            "[600]\ttrain-logloss:0.20586\tvalid-logloss:0.21872\n",
            "[900]\ttrain-logloss:0.19854\tvalid-logloss:0.21754\n",
            "[1200]\ttrain-logloss:0.19199\tvalid-logloss:0.21718\n",
            "[1244]\ttrain-logloss:0.19108\tvalid-logloss:0.21717\n",
            "Rund no: 125 Metric : 0.7920843856009865 Max: 0.7951358214006115\n",
            "[0]\ttrain-logloss:0.66280\tvalid-logloss:0.66278\n",
            "[300]\ttrain-logloss:0.21628\tvalid-logloss:0.22279\n",
            "[600]\ttrain-logloss:0.20593\tvalid-logloss:0.21898\n",
            "[900]\ttrain-logloss:0.19859\tvalid-logloss:0.21778\n",
            "[1200]\ttrain-logloss:0.19198\tvalid-logloss:0.21727\n",
            "[1379]\ttrain-logloss:0.18828\tvalid-logloss:0.21732\n",
            "Rund no: 126 Metric : 0.7924793066259694 Max: 0.7951358214006115\n",
            "[0]\ttrain-logloss:0.66280\tvalid-logloss:0.66278\n",
            "[300]\ttrain-logloss:0.21627\tvalid-logloss:0.22267\n",
            "[600]\ttrain-logloss:0.20586\tvalid-logloss:0.21866\n",
            "[900]\ttrain-logloss:0.19856\tvalid-logloss:0.21758\n",
            "[1200]\ttrain-logloss:0.19203\tvalid-logloss:0.21704\n",
            "[1500]\ttrain-logloss:0.18592\tvalid-logloss:0.21671\n",
            "[1653]\ttrain-logloss:0.18296\tvalid-logloss:0.21669\n",
            "Rund no: 127 Metric : 0.7924428530957228 Max: 0.7951358214006115\n",
            "[0]\ttrain-logloss:0.66280\tvalid-logloss:0.66278\n",
            "[300]\ttrain-logloss:0.21625\tvalid-logloss:0.22260\n",
            "[600]\ttrain-logloss:0.20588\tvalid-logloss:0.21872\n",
            "[900]\ttrain-logloss:0.19854\tvalid-logloss:0.21762\n",
            "[1200]\ttrain-logloss:0.19195\tvalid-logloss:0.21711\n",
            "[1427]\ttrain-logloss:0.18734\tvalid-logloss:0.21702\n",
            "Rund no: 128 Metric : 0.7927702250379491 Max: 0.7951358214006115\n",
            "[0]\ttrain-logloss:0.66280\tvalid-logloss:0.66278\n",
            "[300]\ttrain-logloss:0.21626\tvalid-logloss:0.22266\n",
            "[600]\ttrain-logloss:0.20587\tvalid-logloss:0.21880\n",
            "[900]\ttrain-logloss:0.19866\tvalid-logloss:0.21771\n",
            "[1200]\ttrain-logloss:0.19207\tvalid-logloss:0.21727\n",
            "[1446]\ttrain-logloss:0.18698\tvalid-logloss:0.21707\n",
            "Rund no: 129 Metric : 0.7926606299544106 Max: 0.7951358214006115\n",
            "[0]\ttrain-logloss:0.66280\tvalid-logloss:0.66278\n",
            "[300]\ttrain-logloss:0.21627\tvalid-logloss:0.22265\n",
            "[600]\ttrain-logloss:0.20592\tvalid-logloss:0.21876\n",
            "[900]\ttrain-logloss:0.19855\tvalid-logloss:0.21771\n",
            "[1200]\ttrain-logloss:0.19202\tvalid-logloss:0.21749\n",
            "[1243]\ttrain-logloss:0.19110\tvalid-logloss:0.21738\n",
            "Rund no: 130 Metric : 0.791962516884483 Max: 0.7951358214006115\n",
            "[0]\ttrain-logloss:0.66280\tvalid-logloss:0.66278\n",
            "[300]\ttrain-logloss:0.21623\tvalid-logloss:0.22257\n",
            "[600]\ttrain-logloss:0.20589\tvalid-logloss:0.21871\n",
            "[900]\ttrain-logloss:0.19850\tvalid-logloss:0.21757\n",
            "[1200]\ttrain-logloss:0.19196\tvalid-logloss:0.21711\n",
            "[1500]\ttrain-logloss:0.18585\tvalid-logloss:0.21686\n",
            "[1647]\ttrain-logloss:0.18299\tvalid-logloss:0.21684\n",
            "Rund no: 131 Metric : 0.792142205390417 Max: 0.7951358214006115\n",
            "[0]\ttrain-logloss:0.66280\tvalid-logloss:0.66278\n",
            "[300]\ttrain-logloss:0.21629\tvalid-logloss:0.22281\n",
            "[600]\ttrain-logloss:0.20586\tvalid-logloss:0.21895\n",
            "[900]\ttrain-logloss:0.19855\tvalid-logloss:0.21778\n",
            "[1200]\ttrain-logloss:0.19202\tvalid-logloss:0.21734\n",
            "[1500]\ttrain-logloss:0.18590\tvalid-logloss:0.21706\n",
            "[1735]\ttrain-logloss:0.18138\tvalid-logloss:0.21702\n",
            "Rund no: 132 Metric : 0.7927410235224757 Max: 0.7951358214006115\n",
            "[0]\ttrain-logloss:0.66280\tvalid-logloss:0.66278\n",
            "[300]\ttrain-logloss:0.21627\tvalid-logloss:0.22265\n",
            "[600]\ttrain-logloss:0.20584\tvalid-logloss:0.21863\n",
            "[900]\ttrain-logloss:0.19856\tvalid-logloss:0.21759\n",
            "[1200]\ttrain-logloss:0.19197\tvalid-logloss:0.21711\n",
            "[1500]\ttrain-logloss:0.18589\tvalid-logloss:0.21676\n",
            "[1800]\ttrain-logloss:0.18017\tvalid-logloss:0.21670\n",
            "[1822]\ttrain-logloss:0.17980\tvalid-logloss:0.21668\n",
            "Rund no: 133 Metric : 0.7942361229479449 Max: 0.7951358214006115\n",
            "[0]\ttrain-logloss:0.66280\tvalid-logloss:0.66278\n",
            "[300]\ttrain-logloss:0.21633\tvalid-logloss:0.22291\n",
            "[600]\ttrain-logloss:0.20581\tvalid-logloss:0.21894\n",
            "[900]\ttrain-logloss:0.19854\tvalid-logloss:0.21772\n",
            "[1200]\ttrain-logloss:0.19202\tvalid-logloss:0.21724\n",
            "[1500]\ttrain-logloss:0.18588\tvalid-logloss:0.21706\n",
            "[1663]\ttrain-logloss:0.18272\tvalid-logloss:0.21708\n",
            "Rund no: 134 Metric : 0.7925558387882817 Max: 0.7951358214006115\n",
            "[0]\ttrain-logloss:0.66280\tvalid-logloss:0.66278\n",
            "[300]\ttrain-logloss:0.21627\tvalid-logloss:0.22271\n",
            "[600]\ttrain-logloss:0.20589\tvalid-logloss:0.21888\n",
            "[900]\ttrain-logloss:0.19866\tvalid-logloss:0.21775\n",
            "[1200]\ttrain-logloss:0.19206\tvalid-logloss:0.21726\n",
            "[1394]\ttrain-logloss:0.18804\tvalid-logloss:0.21721\n",
            "Rund no: 135 Metric : 0.7917438510720548 Max: 0.7951358214006115\n",
            "[0]\ttrain-logloss:0.66280\tvalid-logloss:0.66278\n",
            "[300]\ttrain-logloss:0.21625\tvalid-logloss:0.22268\n",
            "[600]\ttrain-logloss:0.20584\tvalid-logloss:0.21872\n",
            "[900]\ttrain-logloss:0.19854\tvalid-logloss:0.21749\n",
            "[1200]\ttrain-logloss:0.19200\tvalid-logloss:0.21702\n",
            "[1246]\ttrain-logloss:0.19104\tvalid-logloss:0.21702\n",
            "Rund no: 136 Metric : 0.7930913742590548 Max: 0.7951358214006115\n",
            "[0]\ttrain-logloss:0.66280\tvalid-logloss:0.66278\n",
            "[300]\ttrain-logloss:0.21624\tvalid-logloss:0.22268\n",
            "[600]\ttrain-logloss:0.20583\tvalid-logloss:0.21881\n",
            "[900]\ttrain-logloss:0.19859\tvalid-logloss:0.21774\n",
            "[1200]\ttrain-logloss:0.19199\tvalid-logloss:0.21737\n",
            "[1246]\ttrain-logloss:0.19103\tvalid-logloss:0.21731\n",
            "Rund no: 137 Metric : 0.7922683875053463 Max: 0.7951358214006115\n",
            "[0]\ttrain-logloss:0.66280\tvalid-logloss:0.66278\n",
            "[300]\ttrain-logloss:0.21623\tvalid-logloss:0.22275\n",
            "[600]\ttrain-logloss:0.20588\tvalid-logloss:0.21887\n",
            "[900]\ttrain-logloss:0.19859\tvalid-logloss:0.21771\n",
            "[1200]\ttrain-logloss:0.19207\tvalid-logloss:0.21729\n",
            "[1500]\ttrain-logloss:0.18600\tvalid-logloss:0.21696\n",
            "[1662]\ttrain-logloss:0.18282\tvalid-logloss:0.21696\n",
            "Rund no: 138 Metric : 0.793132613526206 Max: 0.7951358214006115\n",
            "[0]\ttrain-logloss:0.66280\tvalid-logloss:0.66278\n",
            "[300]\ttrain-logloss:0.21627\tvalid-logloss:0.22262\n",
            "[600]\ttrain-logloss:0.20591\tvalid-logloss:0.21882\n",
            "[900]\ttrain-logloss:0.19864\tvalid-logloss:0.21767\n",
            "[1200]\ttrain-logloss:0.19202\tvalid-logloss:0.21715\n",
            "[1500]\ttrain-logloss:0.18593\tvalid-logloss:0.21695\n",
            "[1800]\ttrain-logloss:0.18019\tvalid-logloss:0.21673\n",
            "[2062]\ttrain-logloss:0.17546\tvalid-logloss:0.21667\n",
            "Rund no: 139 Metric : 0.7932400129656778 Max: 0.7951358214006115\n",
            "[0]\ttrain-logloss:0.66280\tvalid-logloss:0.66278\n",
            "[300]\ttrain-logloss:0.21627\tvalid-logloss:0.22265\n",
            "[600]\ttrain-logloss:0.20589\tvalid-logloss:0.21875\n",
            "[900]\ttrain-logloss:0.19860\tvalid-logloss:0.21756\n",
            "[1200]\ttrain-logloss:0.19205\tvalid-logloss:0.21709\n",
            "[1500]\ttrain-logloss:0.18590\tvalid-logloss:0.21683\n",
            "[1654]\ttrain-logloss:0.18292\tvalid-logloss:0.21685\n",
            "Rund no: 140 Metric : 0.7924095674497388 Max: 0.7951358214006115\n",
            "[0]\ttrain-logloss:0.66280\tvalid-logloss:0.66278\n",
            "[300]\ttrain-logloss:0.21628\tvalid-logloss:0.22266\n",
            "[600]\ttrain-logloss:0.20588\tvalid-logloss:0.21887\n",
            "[900]\ttrain-logloss:0.19854\tvalid-logloss:0.21768\n",
            "[1200]\ttrain-logloss:0.19199\tvalid-logloss:0.21710\n",
            "[1500]\ttrain-logloss:0.18583\tvalid-logloss:0.21683\n",
            "[1773]\ttrain-logloss:0.18058\tvalid-logloss:0.21688\n",
            "Rund no: 141 Metric : 0.7925006979611464 Max: 0.7951358214006115\n",
            "[0]\ttrain-logloss:0.66280\tvalid-logloss:0.66278\n",
            "[300]\ttrain-logloss:0.21623\tvalid-logloss:0.22267\n",
            "[600]\ttrain-logloss:0.20586\tvalid-logloss:0.21883\n",
            "[900]\ttrain-logloss:0.19858\tvalid-logloss:0.21764\n",
            "[1200]\ttrain-logloss:0.19201\tvalid-logloss:0.21716\n",
            "[1500]\ttrain-logloss:0.18598\tvalid-logloss:0.21687\n",
            "[1661]\ttrain-logloss:0.18284\tvalid-logloss:0.21685\n",
            "Rund no: 142 Metric : 0.7934577440447418 Max: 0.7951358214006115\n",
            "[0]\ttrain-logloss:0.66280\tvalid-logloss:0.66278\n",
            "[300]\ttrain-logloss:0.21624\tvalid-logloss:0.22278\n",
            "[600]\ttrain-logloss:0.20584\tvalid-logloss:0.21878\n",
            "[900]\ttrain-logloss:0.19855\tvalid-logloss:0.21761\n",
            "[1200]\ttrain-logloss:0.19196\tvalid-logloss:0.21714\n",
            "[1249]\ttrain-logloss:0.19093\tvalid-logloss:0.21709\n",
            "Rund no: 143 Metric : 0.7922700269463534 Max: 0.7951358214006115\n",
            "[0]\ttrain-logloss:0.66280\tvalid-logloss:0.66278\n",
            "[300]\ttrain-logloss:0.21625\tvalid-logloss:0.22258\n",
            "[600]\ttrain-logloss:0.20581\tvalid-logloss:0.21865\n",
            "[900]\ttrain-logloss:0.19855\tvalid-logloss:0.21745\n",
            "[1200]\ttrain-logloss:0.19207\tvalid-logloss:0.21707\n",
            "[1500]\ttrain-logloss:0.18593\tvalid-logloss:0.21682\n",
            "[1718]\ttrain-logloss:0.18169\tvalid-logloss:0.21689\n",
            "Rund no: 144 Metric : 0.7925310371632039 Max: 0.7951358214006115\n",
            "[0]\ttrain-logloss:0.66280\tvalid-logloss:0.66278\n",
            "[300]\ttrain-logloss:0.21626\tvalid-logloss:0.22282\n",
            "[600]\ttrain-logloss:0.20583\tvalid-logloss:0.21888\n",
            "[900]\ttrain-logloss:0.19854\tvalid-logloss:0.21778\n",
            "[1200]\ttrain-logloss:0.19193\tvalid-logloss:0.21730\n",
            "[1500]\ttrain-logloss:0.18588\tvalid-logloss:0.21701\n",
            "[1652]\ttrain-logloss:0.18293\tvalid-logloss:0.21696\n",
            "Rund no: 145 Metric : 0.7933584090442116 Max: 0.7951358214006115\n",
            "[0]\ttrain-logloss:0.66280\tvalid-logloss:0.66278\n",
            "[300]\ttrain-logloss:0.21623\tvalid-logloss:0.22283\n",
            "[600]\ttrain-logloss:0.20581\tvalid-logloss:0.21889\n",
            "[900]\ttrain-logloss:0.19855\tvalid-logloss:0.21770\n",
            "[1200]\ttrain-logloss:0.19196\tvalid-logloss:0.21712\n",
            "[1387]\ttrain-logloss:0.18810\tvalid-logloss:0.21703\n",
            "Rund no: 146 Metric : 0.7927164616317584 Max: 0.7951358214006115\n",
            "[0]\ttrain-logloss:0.66280\tvalid-logloss:0.66278\n",
            "[300]\ttrain-logloss:0.21624\tvalid-logloss:0.22270\n",
            "[600]\ttrain-logloss:0.20585\tvalid-logloss:0.21875\n",
            "[900]\ttrain-logloss:0.19857\tvalid-logloss:0.21761\n",
            "[1200]\ttrain-logloss:0.19201\tvalid-logloss:0.21714\n",
            "[1252]\ttrain-logloss:0.19092\tvalid-logloss:0.21706\n",
            "Rund no: 147 Metric : 0.7929833853510713 Max: 0.7951358214006115\n",
            "[0]\ttrain-logloss:0.66280\tvalid-logloss:0.66278\n",
            "[300]\ttrain-logloss:0.21626\tvalid-logloss:0.22262\n",
            "[600]\ttrain-logloss:0.20590\tvalid-logloss:0.21869\n",
            "[900]\ttrain-logloss:0.19861\tvalid-logloss:0.21763\n",
            "[1200]\ttrain-logloss:0.19206\tvalid-logloss:0.21718\n",
            "[1500]\ttrain-logloss:0.18594\tvalid-logloss:0.21693\n",
            "[1660]\ttrain-logloss:0.18282\tvalid-logloss:0.21688\n",
            "Rund no: 148 Metric : 0.7922482850418693 Max: 0.7951358214006115\n",
            "[0]\ttrain-logloss:0.66280\tvalid-logloss:0.66278\n",
            "[300]\ttrain-logloss:0.21627\tvalid-logloss:0.22265\n",
            "[600]\ttrain-logloss:0.20590\tvalid-logloss:0.21875\n",
            "[900]\ttrain-logloss:0.19861\tvalid-logloss:0.21759\n",
            "[1200]\ttrain-logloss:0.19199\tvalid-logloss:0.21704\n",
            "[1500]\ttrain-logloss:0.18592\tvalid-logloss:0.21680\n",
            "[1780]\ttrain-logloss:0.18053\tvalid-logloss:0.21673\n",
            "Rund no: 149 Metric : 0.7930953114191095 Max: 0.7951358214006115\n",
            "[0]\ttrain-logloss:0.66280\tvalid-logloss:0.66278\n",
            "[300]\ttrain-logloss:0.21627\tvalid-logloss:0.22269\n",
            "[600]\ttrain-logloss:0.20587\tvalid-logloss:0.21877\n",
            "[900]\ttrain-logloss:0.19861\tvalid-logloss:0.21770\n",
            "[1200]\ttrain-logloss:0.19214\tvalid-logloss:0.21726\n",
            "[1500]\ttrain-logloss:0.18603\tvalid-logloss:0.21698\n",
            "[1681]\ttrain-logloss:0.18256\tvalid-logloss:0.21701\n",
            "Rund no: 150 Metric : 0.7937810891163158 Max: 0.7951358214006115\n",
            "[0]\ttrain-logloss:0.66280\tvalid-logloss:0.66278\n",
            "[300]\ttrain-logloss:0.21627\tvalid-logloss:0.22267\n",
            "[600]\ttrain-logloss:0.20591\tvalid-logloss:0.21868\n",
            "[900]\ttrain-logloss:0.19859\tvalid-logloss:0.21760\n",
            "[1200]\ttrain-logloss:0.19199\tvalid-logloss:0.21714\n",
            "[1500]\ttrain-logloss:0.18595\tvalid-logloss:0.21686\n",
            "[1800]\ttrain-logloss:0.18019\tvalid-logloss:0.21675\n",
            "[2100]\ttrain-logloss:0.17480\tvalid-logloss:0.21670\n",
            "[2284]\ttrain-logloss:0.17165\tvalid-logloss:0.21668\n",
            "Rund no: 151 Metric : 0.7933450172805446 Max: 0.7951358214006115\n",
            "[0]\ttrain-logloss:0.66280\tvalid-logloss:0.66278\n",
            "[300]\ttrain-logloss:0.21630\tvalid-logloss:0.22287\n",
            "[600]\ttrain-logloss:0.20586\tvalid-logloss:0.21891\n",
            "[900]\ttrain-logloss:0.19857\tvalid-logloss:0.21771\n",
            "[1200]\ttrain-logloss:0.19201\tvalid-logloss:0.21719\n",
            "[1500]\ttrain-logloss:0.18591\tvalid-logloss:0.21682\n",
            "[1609]\ttrain-logloss:0.18380\tvalid-logloss:0.21685\n",
            "Rund no: 152 Metric : 0.7911596585170736 Max: 0.7951358214006115\n",
            "[0]\ttrain-logloss:0.66280\tvalid-logloss:0.66278\n",
            "[300]\ttrain-logloss:0.21626\tvalid-logloss:0.22274\n",
            "[600]\ttrain-logloss:0.20588\tvalid-logloss:0.21892\n",
            "[900]\ttrain-logloss:0.19858\tvalid-logloss:0.21776\n",
            "[1200]\ttrain-logloss:0.19201\tvalid-logloss:0.21730\n",
            "[1500]\ttrain-logloss:0.18593\tvalid-logloss:0.21704\n",
            "[1660]\ttrain-logloss:0.18285\tvalid-logloss:0.21699\n",
            "Rund no: 153 Metric : 0.7929335084094566 Max: 0.7951358214006115\n",
            "[0]\ttrain-logloss:0.66280\tvalid-logloss:0.66278\n",
            "[300]\ttrain-logloss:0.21627\tvalid-logloss:0.22265\n",
            "[600]\ttrain-logloss:0.20588\tvalid-logloss:0.21878\n",
            "[900]\ttrain-logloss:0.19860\tvalid-logloss:0.21769\n",
            "[1200]\ttrain-logloss:0.19202\tvalid-logloss:0.21719\n",
            "[1500]\ttrain-logloss:0.18592\tvalid-logloss:0.21695\n",
            "[1625]\ttrain-logloss:0.18346\tvalid-logloss:0.21697\n",
            "Rund no: 154 Metric : 0.7925942898326415 Max: 0.7951358214006115\n",
            "[0]\ttrain-logloss:0.66280\tvalid-logloss:0.66278\n",
            "[300]\ttrain-logloss:0.21624\tvalid-logloss:0.22268\n",
            "[600]\ttrain-logloss:0.20586\tvalid-logloss:0.21878\n",
            "[900]\ttrain-logloss:0.19856\tvalid-logloss:0.21758\n",
            "[1200]\ttrain-logloss:0.19197\tvalid-logloss:0.21711\n",
            "[1250]\ttrain-logloss:0.19087\tvalid-logloss:0.21707\n",
            "Rund no: 155 Metric : 0.7926684956213339 Max: 0.7951358214006115\n",
            "[0]\ttrain-logloss:0.66280\tvalid-logloss:0.66278\n",
            "[300]\ttrain-logloss:0.21627\tvalid-logloss:0.22265\n",
            "[600]\ttrain-logloss:0.20589\tvalid-logloss:0.21874\n",
            "[900]\ttrain-logloss:0.19863\tvalid-logloss:0.21756\n",
            "[1200]\ttrain-logloss:0.19203\tvalid-logloss:0.21709\n",
            "[1500]\ttrain-logloss:0.18593\tvalid-logloss:0.21688\n",
            "[1745]\ttrain-logloss:0.18122\tvalid-logloss:0.21682\n",
            "Rund no: 156 Metric : 0.793654023285645 Max: 0.7951358214006115\n",
            "[0]\ttrain-logloss:0.66280\tvalid-logloss:0.66278\n",
            "[300]\ttrain-logloss:0.21627\tvalid-logloss:0.22269\n",
            "[600]\ttrain-logloss:0.20590\tvalid-logloss:0.21880\n",
            "[900]\ttrain-logloss:0.19865\tvalid-logloss:0.21772\n",
            "[1200]\ttrain-logloss:0.19208\tvalid-logloss:0.21735\n",
            "[1247]\ttrain-logloss:0.19111\tvalid-logloss:0.21726\n",
            "Rund no: 157 Metric : 0.792347554451206 Max: 0.7951358214006115\n",
            "[0]\ttrain-logloss:0.66280\tvalid-logloss:0.66278\n",
            "[300]\ttrain-logloss:0.21624\tvalid-logloss:0.22272\n",
            "[600]\ttrain-logloss:0.20585\tvalid-logloss:0.21876\n",
            "[900]\ttrain-logloss:0.19855\tvalid-logloss:0.21763\n",
            "[1200]\ttrain-logloss:0.19198\tvalid-logloss:0.21727\n",
            "[1500]\ttrain-logloss:0.18592\tvalid-logloss:0.21697\n",
            "[1800]\ttrain-logloss:0.18013\tvalid-logloss:0.21687\n",
            "[1858]\ttrain-logloss:0.17908\tvalid-logloss:0.21689\n",
            "Rund no: 158 Metric : 0.7931571597862612 Max: 0.7951358214006115\n",
            "[0]\ttrain-logloss:0.66280\tvalid-logloss:0.66278\n",
            "[300]\ttrain-logloss:0.21621\tvalid-logloss:0.22275\n",
            "[600]\ttrain-logloss:0.20583\tvalid-logloss:0.21883\n",
            "[900]\ttrain-logloss:0.19851\tvalid-logloss:0.21771\n",
            "[1200]\ttrain-logloss:0.19198\tvalid-logloss:0.21720\n",
            "[1500]\ttrain-logloss:0.18590\tvalid-logloss:0.21691\n",
            "[1654]\ttrain-logloss:0.18292\tvalid-logloss:0.21690\n",
            "Rund no: 159 Metric : 0.7932406959314047 Max: 0.7951358214006115\n",
            "[0]\ttrain-logloss:0.66280\tvalid-logloss:0.66278\n",
            "[300]\ttrain-logloss:0.21628\tvalid-logloss:0.22267\n",
            "[600]\ttrain-logloss:0.20589\tvalid-logloss:0.21867\n",
            "[900]\ttrain-logloss:0.19856\tvalid-logloss:0.21742\n",
            "[1200]\ttrain-logloss:0.19198\tvalid-logloss:0.21692\n",
            "[1500]\ttrain-logloss:0.18591\tvalid-logloss:0.21669\n",
            "[1735]\ttrain-logloss:0.18141\tvalid-logloss:0.21663\n",
            "Rund no: 160 Metric : 0.7936396914937085 Max: 0.7951358214006115\n",
            "[0]\ttrain-logloss:0.66280\tvalid-logloss:0.66278\n",
            "[300]\ttrain-logloss:0.21622\tvalid-logloss:0.22281\n",
            "[600]\ttrain-logloss:0.20591\tvalid-logloss:0.21910\n",
            "[900]\ttrain-logloss:0.19862\tvalid-logloss:0.21791\n",
            "[1200]\ttrain-logloss:0.19202\tvalid-logloss:0.21738\n",
            "[1500]\ttrain-logloss:0.18596\tvalid-logloss:0.21720\n",
            "[1800]\ttrain-logloss:0.18023\tvalid-logloss:0.21716\n",
            "[2037]\ttrain-logloss:0.17594\tvalid-logloss:0.21716\n",
            "Rund no: 161 Metric : 0.7927206172278343 Max: 0.7951358214006115\n",
            "[0]\ttrain-logloss:0.66280\tvalid-logloss:0.66278\n",
            "[300]\ttrain-logloss:0.21625\tvalid-logloss:0.22276\n",
            "[600]\ttrain-logloss:0.20587\tvalid-logloss:0.21887\n",
            "[900]\ttrain-logloss:0.19864\tvalid-logloss:0.21779\n",
            "[1200]\ttrain-logloss:0.19207\tvalid-logloss:0.21743\n",
            "[1245]\ttrain-logloss:0.19109\tvalid-logloss:0.21736\n",
            "Rund no: 162 Metric : 0.7912921160682636 Max: 0.7951358214006115\n",
            "[0]\ttrain-logloss:0.66280\tvalid-logloss:0.66278\n",
            "[300]\ttrain-logloss:0.21622\tvalid-logloss:0.22274\n",
            "[600]\ttrain-logloss:0.20593\tvalid-logloss:0.21892\n",
            "[900]\ttrain-logloss:0.19867\tvalid-logloss:0.21779\n",
            "[1200]\ttrain-logloss:0.19206\tvalid-logloss:0.21741\n",
            "[1500]\ttrain-logloss:0.18596\tvalid-logloss:0.21713\n",
            "[1796]\ttrain-logloss:0.18025\tvalid-logloss:0.21705\n",
            "Rund no: 163 Metric : 0.7918812016069642 Max: 0.7951358214006115\n",
            "[0]\ttrain-logloss:0.66280\tvalid-logloss:0.66278\n",
            "[300]\ttrain-logloss:0.21627\tvalid-logloss:0.22267\n",
            "[600]\ttrain-logloss:0.20589\tvalid-logloss:0.21867\n",
            "[900]\ttrain-logloss:0.19858\tvalid-logloss:0.21756\n",
            "[1200]\ttrain-logloss:0.19201\tvalid-logloss:0.21717\n",
            "[1239]\ttrain-logloss:0.19122\tvalid-logloss:0.21715\n",
            "Rund no: 164 Metric : 0.7929490193200286 Max: 0.7951358214006115\n",
            "[0]\ttrain-logloss:0.66280\tvalid-logloss:0.66278\n",
            "[300]\ttrain-logloss:0.21631\tvalid-logloss:0.22279\n",
            "[600]\ttrain-logloss:0.20594\tvalid-logloss:0.21894\n",
            "[900]\ttrain-logloss:0.19859\tvalid-logloss:0.21779\n",
            "[1200]\ttrain-logloss:0.19208\tvalid-logloss:0.21729\n",
            "[1500]\ttrain-logloss:0.18599\tvalid-logloss:0.21702\n",
            "[1800]\ttrain-logloss:0.18025\tvalid-logloss:0.21710\n",
            "[1828]\ttrain-logloss:0.17976\tvalid-logloss:0.21711\n",
            "Rund no: 165 Metric : 0.7917103626699957 Max: 0.7951358214006115\n",
            "[0]\ttrain-logloss:0.66280\tvalid-logloss:0.66278\n",
            "[300]\ttrain-logloss:0.21624\tvalid-logloss:0.22278\n",
            "[600]\ttrain-logloss:0.20586\tvalid-logloss:0.21881\n",
            "[900]\ttrain-logloss:0.19851\tvalid-logloss:0.21752\n",
            "[1200]\ttrain-logloss:0.19195\tvalid-logloss:0.21702\n",
            "[1500]\ttrain-logloss:0.18587\tvalid-logloss:0.21673\n",
            "[1655]\ttrain-logloss:0.18289\tvalid-logloss:0.21674\n",
            "Rund no: 166 Metric : 0.7924135850152981 Max: 0.7951358214006115\n",
            "[0]\ttrain-logloss:0.66280\tvalid-logloss:0.66278\n",
            "[300]\ttrain-logloss:0.21627\tvalid-logloss:0.22263\n",
            "[600]\ttrain-logloss:0.20583\tvalid-logloss:0.21864\n",
            "[900]\ttrain-logloss:0.19852\tvalid-logloss:0.21753\n",
            "[1200]\ttrain-logloss:0.19193\tvalid-logloss:0.21733\n",
            "[1244]\ttrain-logloss:0.19100\tvalid-logloss:0.21727\n",
            "Rund no: 167 Metric : 0.7926247718656203 Max: 0.7951358214006115\n",
            "[0]\ttrain-logloss:0.66280\tvalid-logloss:0.66278\n",
            "[300]\ttrain-logloss:0.21626\tvalid-logloss:0.22261\n",
            "[600]\ttrain-logloss:0.20586\tvalid-logloss:0.21871\n",
            "[900]\ttrain-logloss:0.19854\tvalid-logloss:0.21769\n",
            "[1200]\ttrain-logloss:0.19200\tvalid-logloss:0.21738\n",
            "[1243]\ttrain-logloss:0.19109\tvalid-logloss:0.21731\n",
            "Rund no: 168 Metric : 0.7924310100168526 Max: 0.7951358214006115\n",
            "[0]\ttrain-logloss:0.66280\tvalid-logloss:0.66278\n",
            "[300]\ttrain-logloss:0.21628\tvalid-logloss:0.22269\n",
            "[600]\ttrain-logloss:0.20587\tvalid-logloss:0.21878\n",
            "[900]\ttrain-logloss:0.19856\tvalid-logloss:0.21753\n",
            "[1200]\ttrain-logloss:0.19206\tvalid-logloss:0.21696\n",
            "[1500]\ttrain-logloss:0.18599\tvalid-logloss:0.21663\n",
            "[1655]\ttrain-logloss:0.18304\tvalid-logloss:0.21665\n",
            "Rund no: 169 Metric : 0.7921902626118134 Max: 0.7951358214006115\n",
            "[0]\ttrain-logloss:0.66280\tvalid-logloss:0.66278\n",
            "[300]\ttrain-logloss:0.21630\tvalid-logloss:0.22281\n",
            "[600]\ttrain-logloss:0.20595\tvalid-logloss:0.21893\n",
            "[900]\ttrain-logloss:0.19858\tvalid-logloss:0.21775\n",
            "[1200]\ttrain-logloss:0.19201\tvalid-logloss:0.21721\n",
            "[1500]\ttrain-logloss:0.18598\tvalid-logloss:0.21708\n",
            "[1671]\ttrain-logloss:0.18263\tvalid-logloss:0.21702\n",
            "Rund no: 170 Metric : 0.7916120182853846 Max: 0.7951358214006115\n",
            "[0]\ttrain-logloss:0.66280\tvalid-logloss:0.66278\n",
            "[300]\ttrain-logloss:0.21630\tvalid-logloss:0.22276\n",
            "[600]\ttrain-logloss:0.20588\tvalid-logloss:0.21885\n",
            "[900]\ttrain-logloss:0.19861\tvalid-logloss:0.21775\n",
            "[1200]\ttrain-logloss:0.19207\tvalid-logloss:0.21743\n",
            "[1244]\ttrain-logloss:0.19114\tvalid-logloss:0.21737\n",
            "Rund no: 171 Metric : 0.7918922216133146 Max: 0.7951358214006115\n",
            "[0]\ttrain-logloss:0.66280\tvalid-logloss:0.66278\n",
            "[300]\ttrain-logloss:0.21627\tvalid-logloss:0.22274\n",
            "[600]\ttrain-logloss:0.20588\tvalid-logloss:0.21892\n",
            "[900]\ttrain-logloss:0.19859\tvalid-logloss:0.21780\n",
            "[1200]\ttrain-logloss:0.19204\tvalid-logloss:0.21728\n",
            "[1500]\ttrain-logloss:0.18603\tvalid-logloss:0.21710\n",
            "[1642]\ttrain-logloss:0.18324\tvalid-logloss:0.21713\n",
            "Rund no: 172 Metric : 0.792517836666119 Max: 0.7951358214006115\n",
            "[0]\ttrain-logloss:0.66280\tvalid-logloss:0.66278\n",
            "[300]\ttrain-logloss:0.21623\tvalid-logloss:0.22283\n",
            "[600]\ttrain-logloss:0.20588\tvalid-logloss:0.21880\n",
            "[900]\ttrain-logloss:0.19862\tvalid-logloss:0.21767\n",
            "[1200]\ttrain-logloss:0.19203\tvalid-logloss:0.21723\n",
            "[1500]\ttrain-logloss:0.18597\tvalid-logloss:0.21704\n",
            "[1662]\ttrain-logloss:0.18279\tvalid-logloss:0.21704\n",
            "Rund no: 173 Metric : 0.790394032359661 Max: 0.7951358214006115\n",
            "[0]\ttrain-logloss:0.66280\tvalid-logloss:0.66278\n",
            "[300]\ttrain-logloss:0.21630\tvalid-logloss:0.22282\n",
            "[600]\ttrain-logloss:0.20588\tvalid-logloss:0.21888\n",
            "[900]\ttrain-logloss:0.19866\tvalid-logloss:0.21778\n",
            "[1200]\ttrain-logloss:0.19209\tvalid-logloss:0.21731\n",
            "[1500]\ttrain-logloss:0.18596\tvalid-logloss:0.21712\n",
            "[1776]\ttrain-logloss:0.18067\tvalid-logloss:0.21706\n",
            "Rund no: 174 Metric : 0.7931953360499557 Max: 0.7951358214006115\n",
            "[0]\ttrain-logloss:0.66280\tvalid-logloss:0.66278\n",
            "[300]\ttrain-logloss:0.21628\tvalid-logloss:0.22277\n",
            "[600]\ttrain-logloss:0.20584\tvalid-logloss:0.21882\n",
            "[900]\ttrain-logloss:0.19860\tvalid-logloss:0.21772\n",
            "[1200]\ttrain-logloss:0.19207\tvalid-logloss:0.21745\n",
            "[1241]\ttrain-logloss:0.19123\tvalid-logloss:0.21741\n",
            "Rund no: 175 Metric : 0.792439827648385 Max: 0.7951358214006115\n",
            "[0]\ttrain-logloss:0.66280\tvalid-logloss:0.66278\n",
            "[300]\ttrain-logloss:0.21626\tvalid-logloss:0.22273\n",
            "[600]\ttrain-logloss:0.20592\tvalid-logloss:0.21890\n",
            "[900]\ttrain-logloss:0.19859\tvalid-logloss:0.21765\n",
            "[1200]\ttrain-logloss:0.19191\tvalid-logloss:0.21712\n",
            "[1249]\ttrain-logloss:0.19089\tvalid-logloss:0.21709\n",
            "Rund no: 176 Metric : 0.7922598738544733 Max: 0.7951358214006115\n",
            "[0]\ttrain-logloss:0.66280\tvalid-logloss:0.66278\n",
            "[300]\ttrain-logloss:0.21627\tvalid-logloss:0.22275\n",
            "[600]\ttrain-logloss:0.20589\tvalid-logloss:0.21885\n",
            "[900]\ttrain-logloss:0.19859\tvalid-logloss:0.21772\n",
            "[1200]\ttrain-logloss:0.19199\tvalid-logloss:0.21718\n",
            "[1500]\ttrain-logloss:0.18596\tvalid-logloss:0.21691\n",
            "[1661]\ttrain-logloss:0.18282\tvalid-logloss:0.21693\n",
            "Rund no: 177 Metric : 0.7928770603237135 Max: 0.7951358214006115\n",
            "[0]\ttrain-logloss:0.66280\tvalid-logloss:0.66278\n",
            "[300]\ttrain-logloss:0.21620\tvalid-logloss:0.22265\n",
            "[600]\ttrain-logloss:0.20592\tvalid-logloss:0.21883\n",
            "[900]\ttrain-logloss:0.19860\tvalid-logloss:0.21765\n",
            "[1200]\ttrain-logloss:0.19206\tvalid-logloss:0.21720\n",
            "[1500]\ttrain-logloss:0.18595\tvalid-logloss:0.21686\n",
            "[1735]\ttrain-logloss:0.18138\tvalid-logloss:0.21681\n",
            "Rund no: 178 Metric : 0.7941459274087124 Max: 0.7951358214006115\n",
            "[0]\ttrain-logloss:0.66280\tvalid-logloss:0.66278\n",
            "[300]\ttrain-logloss:0.21621\tvalid-logloss:0.22258\n",
            "[600]\ttrain-logloss:0.20594\tvalid-logloss:0.21872\n",
            "[900]\ttrain-logloss:0.19856\tvalid-logloss:0.21757\n",
            "[1200]\ttrain-logloss:0.19199\tvalid-logloss:0.21710\n",
            "[1500]\ttrain-logloss:0.18593\tvalid-logloss:0.21686\n",
            "[1800]\ttrain-logloss:0.18016\tvalid-logloss:0.21676\n",
            "[2086]\ttrain-logloss:0.17502\tvalid-logloss:0.21674\n",
            "Rund no: 179 Metric : 0.79267871781846 Max: 0.7951358214006115\n",
            "[0]\ttrain-logloss:0.66280\tvalid-logloss:0.66278\n",
            "[300]\ttrain-logloss:0.21627\tvalid-logloss:0.22264\n",
            "[600]\ttrain-logloss:0.20593\tvalid-logloss:0.21882\n",
            "[900]\ttrain-logloss:0.19856\tvalid-logloss:0.21758\n",
            "[1200]\ttrain-logloss:0.19195\tvalid-logloss:0.21703\n",
            "[1500]\ttrain-logloss:0.18585\tvalid-logloss:0.21676\n",
            "[1721]\ttrain-logloss:0.18159\tvalid-logloss:0.21672\n",
            "Rund no: 180 Metric : 0.7928688939004499 Max: 0.7951358214006115\n",
            "[0]\ttrain-logloss:0.66280\tvalid-logloss:0.66278\n",
            "[300]\ttrain-logloss:0.21625\tvalid-logloss:0.22276\n",
            "[600]\ttrain-logloss:0.20590\tvalid-logloss:0.21880\n",
            "[900]\ttrain-logloss:0.19857\tvalid-logloss:0.21761\n",
            "[1200]\ttrain-logloss:0.19200\tvalid-logloss:0.21713\n",
            "[1500]\ttrain-logloss:0.18594\tvalid-logloss:0.21685\n",
            "[1660]\ttrain-logloss:0.18281\tvalid-logloss:0.21686\n",
            "Rund no: 181 Metric : 0.7936425204307747 Max: 0.7951358214006115\n",
            "[0]\ttrain-logloss:0.66280\tvalid-logloss:0.66278\n",
            "[300]\ttrain-logloss:0.21627\tvalid-logloss:0.22265\n",
            "[600]\ttrain-logloss:0.20588\tvalid-logloss:0.21885\n",
            "[900]\ttrain-logloss:0.19853\tvalid-logloss:0.21768\n",
            "[1200]\ttrain-logloss:0.19204\tvalid-logloss:0.21722\n",
            "[1500]\ttrain-logloss:0.18595\tvalid-logloss:0.21706\n",
            "[1680]\ttrain-logloss:0.18242\tvalid-logloss:0.21712\n",
            "Rund no: 182 Metric : 0.7930596481261956 Max: 0.7951358214006115\n",
            "[0]\ttrain-logloss:0.66280\tvalid-logloss:0.66278\n",
            "[300]\ttrain-logloss:0.21623\tvalid-logloss:0.22268\n",
            "[600]\ttrain-logloss:0.20583\tvalid-logloss:0.21875\n",
            "[900]\ttrain-logloss:0.19857\tvalid-logloss:0.21765\n",
            "[1200]\ttrain-logloss:0.19198\tvalid-logloss:0.21740\n",
            "[1241]\ttrain-logloss:0.19111\tvalid-logloss:0.21735\n",
            "Rund no: 183 Metric : 0.7919911186697633 Max: 0.7951358214006115\n",
            "[0]\ttrain-logloss:0.66280\tvalid-logloss:0.66278\n",
            "[300]\ttrain-logloss:0.21625\tvalid-logloss:0.22265\n",
            "[600]\ttrain-logloss:0.20594\tvalid-logloss:0.21876\n",
            "[900]\ttrain-logloss:0.19863\tvalid-logloss:0.21769\n",
            "[1200]\ttrain-logloss:0.19210\tvalid-logloss:0.21731\n",
            "[1260]\ttrain-logloss:0.19085\tvalid-logloss:0.21726\n",
            "Rund no: 184 Metric : 0.7919327301478611 Max: 0.7951358214006115\n",
            "[0]\ttrain-logloss:0.66280\tvalid-logloss:0.66278\n",
            "[300]\ttrain-logloss:0.21623\tvalid-logloss:0.22264\n",
            "[600]\ttrain-logloss:0.20580\tvalid-logloss:0.21859\n",
            "[900]\ttrain-logloss:0.19857\tvalid-logloss:0.21752\n",
            "[1200]\ttrain-logloss:0.19205\tvalid-logloss:0.21710\n",
            "[1500]\ttrain-logloss:0.18601\tvalid-logloss:0.21683\n",
            "[1660]\ttrain-logloss:0.18286\tvalid-logloss:0.21685\n",
            "Rund no: 185 Metric : 0.7930444412379496 Max: 0.7951358214006115\n",
            "[0]\ttrain-logloss:0.66280\tvalid-logloss:0.66278\n",
            "[300]\ttrain-logloss:0.21626\tvalid-logloss:0.22260\n",
            "[600]\ttrain-logloss:0.20587\tvalid-logloss:0.21861\n",
            "[900]\ttrain-logloss:0.19859\tvalid-logloss:0.21756\n",
            "[1200]\ttrain-logloss:0.19200\tvalid-logloss:0.21710\n",
            "[1500]\ttrain-logloss:0.18586\tvalid-logloss:0.21680\n",
            "[1651]\ttrain-logloss:0.18292\tvalid-logloss:0.21680\n",
            "Rund no: 186 Metric : 0.7930071095765987 Max: 0.7951358214006115\n",
            "[0]\ttrain-logloss:0.66280\tvalid-logloss:0.66278\n",
            "[300]\ttrain-logloss:0.21627\tvalid-logloss:0.22272\n",
            "[600]\ttrain-logloss:0.20584\tvalid-logloss:0.21891\n",
            "[900]\ttrain-logloss:0.19863\tvalid-logloss:0.21785\n",
            "[1200]\ttrain-logloss:0.19202\tvalid-logloss:0.21738\n",
            "[1500]\ttrain-logloss:0.18593\tvalid-logloss:0.21706\n",
            "[1661]\ttrain-logloss:0.18278\tvalid-logloss:0.21706\n",
            "Rund no: 187 Metric : 0.792190882864026 Max: 0.7951358214006115\n",
            "[0]\ttrain-logloss:0.66280\tvalid-logloss:0.66278\n",
            "[300]\ttrain-logloss:0.21627\tvalid-logloss:0.22273\n",
            "[600]\ttrain-logloss:0.20592\tvalid-logloss:0.21884\n",
            "[900]\ttrain-logloss:0.19862\tvalid-logloss:0.21771\n",
            "[1200]\ttrain-logloss:0.19202\tvalid-logloss:0.21716\n",
            "[1500]\ttrain-logloss:0.18590\tvalid-logloss:0.21699\n",
            "[1800]\ttrain-logloss:0.18010\tvalid-logloss:0.21694\n",
            "[1830]\ttrain-logloss:0.17958\tvalid-logloss:0.21696\n",
            "Rund no: 188 Metric : 0.7920226850623068 Max: 0.7951358214006115\n",
            "[0]\ttrain-logloss:0.66280\tvalid-logloss:0.66278\n",
            "[300]\ttrain-logloss:0.21626\tvalid-logloss:0.22269\n",
            "[600]\ttrain-logloss:0.20589\tvalid-logloss:0.21880\n",
            "[900]\ttrain-logloss:0.19861\tvalid-logloss:0.21768\n",
            "[1200]\ttrain-logloss:0.19207\tvalid-logloss:0.21710\n",
            "[1500]\ttrain-logloss:0.18600\tvalid-logloss:0.21688\n",
            "[1800]\ttrain-logloss:0.18024\tvalid-logloss:0.21682\n",
            "[1835]\ttrain-logloss:0.17964\tvalid-logloss:0.21679\n",
            "Rund no: 189 Metric : 0.7917692625964181 Max: 0.7951358214006115\n",
            "[0]\ttrain-logloss:0.66280\tvalid-logloss:0.66278\n",
            "[300]\ttrain-logloss:0.21625\tvalid-logloss:0.22275\n",
            "[600]\ttrain-logloss:0.20579\tvalid-logloss:0.21886\n",
            "[900]\ttrain-logloss:0.19857\tvalid-logloss:0.21777\n",
            "[1200]\ttrain-logloss:0.19200\tvalid-logloss:0.21729\n",
            "[1500]\ttrain-logloss:0.18595\tvalid-logloss:0.21703\n",
            "[1800]\ttrain-logloss:0.18014\tvalid-logloss:0.21697\n",
            "[1972]\ttrain-logloss:0.17702\tvalid-logloss:0.21698\n",
            "Rund no: 190 Metric : 0.7924505965708286 Max: 0.7951358214006115\n",
            "[0]\ttrain-logloss:0.66280\tvalid-logloss:0.66278\n",
            "[300]\ttrain-logloss:0.21623\tvalid-logloss:0.22271\n",
            "[600]\ttrain-logloss:0.20584\tvalid-logloss:0.21879\n",
            "[900]\ttrain-logloss:0.19855\tvalid-logloss:0.21770\n",
            "[1200]\ttrain-logloss:0.19202\tvalid-logloss:0.21714\n",
            "[1500]\ttrain-logloss:0.18589\tvalid-logloss:0.21692\n",
            "[1652]\ttrain-logloss:0.18293\tvalid-logloss:0.21697\n",
            "Rund no: 191 Metric : 0.7917241291849717 Max: 0.7951358214006115\n",
            "[0]\ttrain-logloss:0.66280\tvalid-logloss:0.66278\n",
            "[300]\ttrain-logloss:0.21629\tvalid-logloss:0.22274\n",
            "[600]\ttrain-logloss:0.20586\tvalid-logloss:0.21882\n",
            "[900]\ttrain-logloss:0.19865\tvalid-logloss:0.21775\n",
            "[1200]\ttrain-logloss:0.19203\tvalid-logloss:0.21718\n",
            "[1428]\ttrain-logloss:0.18730\tvalid-logloss:0.21707\n",
            "Rund no: 192 Metric : 0.7922181117747151 Max: 0.7951358214006115\n",
            "[0]\ttrain-logloss:0.66280\tvalid-logloss:0.66278\n",
            "[300]\ttrain-logloss:0.21627\tvalid-logloss:0.22265\n",
            "[600]\ttrain-logloss:0.20592\tvalid-logloss:0.21875\n",
            "[900]\ttrain-logloss:0.19861\tvalid-logloss:0.21764\n",
            "[1200]\ttrain-logloss:0.19206\tvalid-logloss:0.21731\n",
            "[1244]\ttrain-logloss:0.19114\tvalid-logloss:0.21723\n",
            "Rund no: 193 Metric : 0.7920198466570489 Max: 0.7951358214006115\n",
            "[0]\ttrain-logloss:0.66280\tvalid-logloss:0.66278\n",
            "[300]\ttrain-logloss:0.21624\tvalid-logloss:0.22265\n",
            "[600]\ttrain-logloss:0.20591\tvalid-logloss:0.21879\n",
            "[900]\ttrain-logloss:0.19861\tvalid-logloss:0.21766\n",
            "[1200]\ttrain-logloss:0.19203\tvalid-logloss:0.21723\n",
            "[1500]\ttrain-logloss:0.18602\tvalid-logloss:0.21704\n",
            "[1661]\ttrain-logloss:0.18289\tvalid-logloss:0.21698\n",
            "Rund no: 194 Metric : 0.7934582422113297 Max: 0.7951358214006115\n",
            "[0]\ttrain-logloss:0.66280\tvalid-logloss:0.66278\n",
            "[300]\ttrain-logloss:0.21626\tvalid-logloss:0.22278\n",
            "[600]\ttrain-logloss:0.20589\tvalid-logloss:0.21895\n",
            "[900]\ttrain-logloss:0.19860\tvalid-logloss:0.21773\n",
            "[1200]\ttrain-logloss:0.19208\tvalid-logloss:0.21731\n",
            "[1251]\ttrain-logloss:0.19098\tvalid-logloss:0.21726\n",
            "Rund no: 195 Metric : 0.7935719498258996 Max: 0.7951358214006115\n",
            "[0]\ttrain-logloss:0.66280\tvalid-logloss:0.66278\n",
            "[300]\ttrain-logloss:0.21623\tvalid-logloss:0.22268\n",
            "[600]\ttrain-logloss:0.20588\tvalid-logloss:0.21874\n",
            "[900]\ttrain-logloss:0.19858\tvalid-logloss:0.21763\n",
            "[1200]\ttrain-logloss:0.19200\tvalid-logloss:0.21716\n",
            "[1500]\ttrain-logloss:0.18592\tvalid-logloss:0.21686\n",
            "[1800]\ttrain-logloss:0.18017\tvalid-logloss:0.21673\n",
            "[1971]\ttrain-logloss:0.17707\tvalid-logloss:0.21674\n",
            "Rund no: 196 Metric : 0.793425186020855 Max: 0.7951358214006115\n",
            "[0]\ttrain-logloss:0.66280\tvalid-logloss:0.66278\n",
            "[300]\ttrain-logloss:0.21626\tvalid-logloss:0.22265\n",
            "[600]\ttrain-logloss:0.20585\tvalid-logloss:0.21868\n",
            "[900]\ttrain-logloss:0.19856\tvalid-logloss:0.21757\n",
            "[1200]\ttrain-logloss:0.19202\tvalid-logloss:0.21713\n",
            "[1500]\ttrain-logloss:0.18598\tvalid-logloss:0.21687\n",
            "[1660]\ttrain-logloss:0.18283\tvalid-logloss:0.21687\n",
            "Rund no: 197 Metric : 0.7937596555400639 Max: 0.7951358214006115\n",
            "[0]\ttrain-logloss:0.66280\tvalid-logloss:0.66278\n",
            "[300]\ttrain-logloss:0.21630\tvalid-logloss:0.22278\n",
            "[600]\ttrain-logloss:0.20597\tvalid-logloss:0.21900\n",
            "[900]\ttrain-logloss:0.19864\tvalid-logloss:0.21787\n",
            "[1200]\ttrain-logloss:0.19207\tvalid-logloss:0.21733\n",
            "[1500]\ttrain-logloss:0.18598\tvalid-logloss:0.21709\n",
            "[1733]\ttrain-logloss:0.18145\tvalid-logloss:0.21700\n",
            "Rund no: 198 Metric : 0.7926111171081318 Max: 0.7951358214006115\n",
            "[0]\ttrain-logloss:0.66280\tvalid-logloss:0.66278\n",
            "[300]\ttrain-logloss:0.21624\tvalid-logloss:0.22265\n",
            "[600]\ttrain-logloss:0.20587\tvalid-logloss:0.21878\n",
            "[900]\ttrain-logloss:0.19853\tvalid-logloss:0.21762\n",
            "[1200]\ttrain-logloss:0.19205\tvalid-logloss:0.21709\n",
            "[1500]\ttrain-logloss:0.18592\tvalid-logloss:0.21674\n",
            "[1660]\ttrain-logloss:0.18280\tvalid-logloss:0.21674\n",
            "Rund no: 199 Metric : 0.7928170542522148 Max: 0.7951358214006115\n",
            "[0]\ttrain-logloss:0.66280\tvalid-logloss:0.66278\n",
            "[300]\ttrain-logloss:0.21627\tvalid-logloss:0.22265\n",
            "[600]\ttrain-logloss:0.20589\tvalid-logloss:0.21877\n",
            "[900]\ttrain-logloss:0.19859\tvalid-logloss:0.21768\n",
            "[1200]\ttrain-logloss:0.19205\tvalid-logloss:0.21717\n",
            "[1500]\ttrain-logloss:0.18600\tvalid-logloss:0.21698\n",
            "[1660]\ttrain-logloss:0.18291\tvalid-logloss:0.21698\n",
            "Rund no: 200 Metric : 0.7934748404933996 Max: 0.7951358214006115\n",
            "[0]\ttrain-logloss:0.66280\tvalid-logloss:0.66278\n",
            "[300]\ttrain-logloss:0.21622\tvalid-logloss:0.22274\n",
            "[600]\ttrain-logloss:0.20576\tvalid-logloss:0.21879\n",
            "[900]\ttrain-logloss:0.19850\tvalid-logloss:0.21773\n",
            "[1200]\ttrain-logloss:0.19189\tvalid-logloss:0.21720\n",
            "[1500]\ttrain-logloss:0.18585\tvalid-logloss:0.21694\n",
            "[1649]\ttrain-logloss:0.18297\tvalid-logloss:0.21693\n",
            "Rund no: 201 Metric : 0.7936435251938571 Max: 0.7951358214006115\n",
            "[0]\ttrain-logloss:0.66280\tvalid-logloss:0.66278\n",
            "[300]\ttrain-logloss:0.21627\tvalid-logloss:0.22270\n",
            "[600]\ttrain-logloss:0.20590\tvalid-logloss:0.21896\n",
            "[900]\ttrain-logloss:0.19861\tvalid-logloss:0.21773\n",
            "[1200]\ttrain-logloss:0.19212\tvalid-logloss:0.21734\n",
            "[1250]\ttrain-logloss:0.19106\tvalid-logloss:0.21732\n",
            "Rund no: 202 Metric : 0.7921275214966841 Max: 0.7951358214006115\n",
            "[0]\ttrain-logloss:0.66280\tvalid-logloss:0.66278\n",
            "[300]\ttrain-logloss:0.21627\tvalid-logloss:0.22265\n",
            "[600]\ttrain-logloss:0.20591\tvalid-logloss:0.21872\n",
            "[900]\ttrain-logloss:0.19864\tvalid-logloss:0.21758\n",
            "[1200]\ttrain-logloss:0.19203\tvalid-logloss:0.21708\n",
            "[1500]\ttrain-logloss:0.18592\tvalid-logloss:0.21676\n",
            "[1644]\ttrain-logloss:0.18315\tvalid-logloss:0.21676\n",
            "Rund no: 203 Metric : 0.7916343591434478 Max: 0.7951358214006115\n",
            "[0]\ttrain-logloss:0.66280\tvalid-logloss:0.66278\n",
            "[300]\ttrain-logloss:0.21625\tvalid-logloss:0.22260\n",
            "[600]\ttrain-logloss:0.20587\tvalid-logloss:0.21868\n",
            "[900]\ttrain-logloss:0.19855\tvalid-logloss:0.21756\n",
            "[1200]\ttrain-logloss:0.19198\tvalid-logloss:0.21714\n",
            "[1246]\ttrain-logloss:0.19099\tvalid-logloss:0.21709\n",
            "Rund no: 204 Metric : 0.7934087901898856 Max: 0.7951358214006115\n",
            "[0]\ttrain-logloss:0.66280\tvalid-logloss:0.66278\n",
            "[300]\ttrain-logloss:0.21628\tvalid-logloss:0.22267\n",
            "[600]\ttrain-logloss:0.20595\tvalid-logloss:0.21883\n",
            "[900]\ttrain-logloss:0.19865\tvalid-logloss:0.21784\n",
            "[1200]\ttrain-logloss:0.19201\tvalid-logloss:0.21724\n",
            "[1500]\ttrain-logloss:0.18593\tvalid-logloss:0.21697\n",
            "[1613]\ttrain-logloss:0.18371\tvalid-logloss:0.21698\n",
            "Rund no: 205 Metric : 0.7925540275227603 Max: 0.7951358214006115\n",
            "[0]\ttrain-logloss:0.66280\tvalid-logloss:0.66278\n",
            "[300]\ttrain-logloss:0.21623\tvalid-logloss:0.22267\n",
            "[600]\ttrain-logloss:0.20588\tvalid-logloss:0.21866\n",
            "[900]\ttrain-logloss:0.19855\tvalid-logloss:0.21759\n",
            "[1200]\ttrain-logloss:0.19205\tvalid-logloss:0.21727\n",
            "[1241]\ttrain-logloss:0.19119\tvalid-logloss:0.21724\n",
            "Rund no: 206 Metric : 0.7919839247331271 Max: 0.7951358214006115\n",
            "[0]\ttrain-logloss:0.66280\tvalid-logloss:0.66278\n",
            "[300]\ttrain-logloss:0.21625\tvalid-logloss:0.22270\n",
            "[600]\ttrain-logloss:0.20582\tvalid-logloss:0.21878\n",
            "[900]\ttrain-logloss:0.19859\tvalid-logloss:0.21762\n",
            "[1200]\ttrain-logloss:0.19200\tvalid-logloss:0.21709\n",
            "[1500]\ttrain-logloss:0.18595\tvalid-logloss:0.21686\n",
            "[1661]\ttrain-logloss:0.18279\tvalid-logloss:0.21685\n",
            "Rund no: 207 Metric : 0.793294168776773 Max: 0.7951358214006115\n",
            "[0]\ttrain-logloss:0.66280\tvalid-logloss:0.66278\n",
            "[300]\ttrain-logloss:0.21626\tvalid-logloss:0.22270\n",
            "[600]\ttrain-logloss:0.20592\tvalid-logloss:0.21892\n",
            "[900]\ttrain-logloss:0.19861\tvalid-logloss:0.21778\n",
            "[1200]\ttrain-logloss:0.19208\tvalid-logloss:0.21734\n",
            "[1500]\ttrain-logloss:0.18599\tvalid-logloss:0.21714\n",
            "[1800]\ttrain-logloss:0.18014\tvalid-logloss:0.21706\n",
            "[1831]\ttrain-logloss:0.17960\tvalid-logloss:0.21705\n",
            "Rund no: 208 Metric : 0.7924111627288739 Max: 0.7951358214006115\n",
            "[0]\ttrain-logloss:0.66280\tvalid-logloss:0.66278\n",
            "[300]\ttrain-logloss:0.21621\tvalid-logloss:0.22266\n",
            "[600]\ttrain-logloss:0.20588\tvalid-logloss:0.21872\n",
            "[900]\ttrain-logloss:0.19855\tvalid-logloss:0.21757\n",
            "[1200]\ttrain-logloss:0.19201\tvalid-logloss:0.21714\n",
            "[1500]\ttrain-logloss:0.18593\tvalid-logloss:0.21698\n",
            "[1770]\ttrain-logloss:0.18077\tvalid-logloss:0.21692\n",
            "Rund no: 209 Metric : 0.7935723185489925 Max: 0.7951358214006115\n",
            "[0]\ttrain-logloss:0.66280\tvalid-logloss:0.66278\n",
            "[300]\ttrain-logloss:0.21625\tvalid-logloss:0.22276\n",
            "[600]\ttrain-logloss:0.20592\tvalid-logloss:0.21888\n",
            "[900]\ttrain-logloss:0.19864\tvalid-logloss:0.21775\n",
            "[1200]\ttrain-logloss:0.19207\tvalid-logloss:0.21734\n",
            "[1500]\ttrain-logloss:0.18601\tvalid-logloss:0.21698\n",
            "[1800]\ttrain-logloss:0.18024\tvalid-logloss:0.21699\n",
            "[1807]\ttrain-logloss:0.18013\tvalid-logloss:0.21698\n",
            "Rund no: 210 Metric : 0.7919402788423309 Max: 0.7951358214006115\n",
            "[0]\ttrain-logloss:0.66280\tvalid-logloss:0.66278\n",
            "[300]\ttrain-logloss:0.21625\tvalid-logloss:0.22261\n",
            "[600]\ttrain-logloss:0.20589\tvalid-logloss:0.21868\n",
            "[900]\ttrain-logloss:0.19865\tvalid-logloss:0.21752\n",
            "[1200]\ttrain-logloss:0.19205\tvalid-logloss:0.21704\n",
            "[1500]\ttrain-logloss:0.18598\tvalid-logloss:0.21679\n",
            "[1717]\ttrain-logloss:0.18172\tvalid-logloss:0.21668\n",
            "Rund no: 211 Metric : 0.793000173090811 Max: 0.7951358214006115\n",
            "[0]\ttrain-logloss:0.66280\tvalid-logloss:0.66278\n",
            "[300]\ttrain-logloss:0.21627\tvalid-logloss:0.22265\n",
            "[600]\ttrain-logloss:0.20589\tvalid-logloss:0.21868\n",
            "[900]\ttrain-logloss:0.19864\tvalid-logloss:0.21760\n",
            "[1200]\ttrain-logloss:0.19203\tvalid-logloss:0.21715\n",
            "[1500]\ttrain-logloss:0.18593\tvalid-logloss:0.21682\n",
            "[1661]\ttrain-logloss:0.18278\tvalid-logloss:0.21684\n",
            "Rund no: 212 Metric : 0.7933467590525134 Max: 0.7951358214006115\n",
            "[0]\ttrain-logloss:0.66280\tvalid-logloss:0.66278\n",
            "[300]\ttrain-logloss:0.21627\tvalid-logloss:0.22265\n",
            "[600]\ttrain-logloss:0.20586\tvalid-logloss:0.21876\n",
            "[900]\ttrain-logloss:0.19849\tvalid-logloss:0.21759\n",
            "[1200]\ttrain-logloss:0.19194\tvalid-logloss:0.21721\n",
            "[1500]\ttrain-logloss:0.18579\tvalid-logloss:0.21694\n",
            "[1661]\ttrain-logloss:0.18270\tvalid-logloss:0.21688\n",
            "Rund no: 213 Metric : 0.7928262731961822 Max: 0.7951358214006115\n",
            "[0]\ttrain-logloss:0.66280\tvalid-logloss:0.66278\n",
            "[300]\ttrain-logloss:0.21626\tvalid-logloss:0.22263\n",
            "[600]\ttrain-logloss:0.20582\tvalid-logloss:0.21868\n",
            "[900]\ttrain-logloss:0.19860\tvalid-logloss:0.21758\n",
            "[1200]\ttrain-logloss:0.19206\tvalid-logloss:0.21716\n",
            "[1500]\ttrain-logloss:0.18602\tvalid-logloss:0.21690\n",
            "[1660]\ttrain-logloss:0.18290\tvalid-logloss:0.21689\n",
            "Rund no: 214 Metric : 0.7921413149515433 Max: 0.7951358214006115\n",
            "[0]\ttrain-logloss:0.66280\tvalid-logloss:0.66278\n",
            "[300]\ttrain-logloss:0.21622\tvalid-logloss:0.22264\n",
            "[600]\ttrain-logloss:0.20582\tvalid-logloss:0.21874\n",
            "[900]\ttrain-logloss:0.19849\tvalid-logloss:0.21766\n",
            "[1200]\ttrain-logloss:0.19193\tvalid-logloss:0.21716\n",
            "[1429]\ttrain-logloss:0.18722\tvalid-logloss:0.21697\n",
            "Rund no: 215 Metric : 0.7922650350131054 Max: 0.7951358214006115\n",
            "[0]\ttrain-logloss:0.66280\tvalid-logloss:0.66278\n",
            "[300]\ttrain-logloss:0.21622\tvalid-logloss:0.22273\n",
            "[600]\ttrain-logloss:0.20591\tvalid-logloss:0.21882\n",
            "[900]\ttrain-logloss:0.19859\tvalid-logloss:0.21765\n",
            "[1200]\ttrain-logloss:0.19207\tvalid-logloss:0.21740\n",
            "[1246]\ttrain-logloss:0.19111\tvalid-logloss:0.21731\n",
            "Rund no: 216 Metric : 0.7918628564399257 Max: 0.7951358214006115\n",
            "[0]\ttrain-logloss:0.66280\tvalid-logloss:0.66278\n",
            "[300]\ttrain-logloss:0.21624\tvalid-logloss:0.22276\n",
            "[600]\ttrain-logloss:0.20586\tvalid-logloss:0.21889\n",
            "[900]\ttrain-logloss:0.19864\tvalid-logloss:0.21786\n",
            "[1200]\ttrain-logloss:0.19202\tvalid-logloss:0.21724\n",
            "[1500]\ttrain-logloss:0.18599\tvalid-logloss:0.21700\n",
            "[1619]\ttrain-logloss:0.18366\tvalid-logloss:0.21701\n",
            "Rund no: 217 Metric : 0.7922283322726854 Max: 0.7951358214006115\n",
            "[0]\ttrain-logloss:0.66280\tvalid-logloss:0.66278\n",
            "[300]\ttrain-logloss:0.21620\tvalid-logloss:0.22264\n",
            "[600]\ttrain-logloss:0.20590\tvalid-logloss:0.21874\n",
            "[900]\ttrain-logloss:0.19861\tvalid-logloss:0.21761\n",
            "[1200]\ttrain-logloss:0.19199\tvalid-logloss:0.21698\n",
            "[1500]\ttrain-logloss:0.18591\tvalid-logloss:0.21670\n",
            "[1723]\ttrain-logloss:0.18166\tvalid-logloss:0.21670\n",
            "Rund no: 218 Metric : 0.7932698328691794 Max: 0.7951358214006115\n",
            "[0]\ttrain-logloss:0.66280\tvalid-logloss:0.66278\n",
            "[300]\ttrain-logloss:0.21626\tvalid-logloss:0.22262\n",
            "[600]\ttrain-logloss:0.20587\tvalid-logloss:0.21871\n",
            "[900]\ttrain-logloss:0.19862\tvalid-logloss:0.21754\n",
            "[1200]\ttrain-logloss:0.19203\tvalid-logloss:0.21705\n",
            "[1500]\ttrain-logloss:0.18588\tvalid-logloss:0.21678\n",
            "[1752]\ttrain-logloss:0.18105\tvalid-logloss:0.21672\n",
            "Rund no: 219 Metric : 0.7924251901763405 Max: 0.7951358214006115\n",
            "[0]\ttrain-logloss:0.66280\tvalid-logloss:0.66278\n",
            "[300]\ttrain-logloss:0.21630\tvalid-logloss:0.22281\n",
            "[600]\ttrain-logloss:0.20593\tvalid-logloss:0.21893\n",
            "[900]\ttrain-logloss:0.19860\tvalid-logloss:0.21786\n",
            "[1200]\ttrain-logloss:0.19208\tvalid-logloss:0.21732\n",
            "[1500]\ttrain-logloss:0.18597\tvalid-logloss:0.21711\n",
            "[1800]\ttrain-logloss:0.18019\tvalid-logloss:0.21699\n",
            "[1923]\ttrain-logloss:0.17799\tvalid-logloss:0.21709\n",
            "Rund no: 220 Metric : 0.7928873127931638 Max: 0.7951358214006115\n",
            "[0]\ttrain-logloss:0.66280\tvalid-logloss:0.66278\n",
            "[300]\ttrain-logloss:0.21625\tvalid-logloss:0.22282\n",
            "[600]\ttrain-logloss:0.20591\tvalid-logloss:0.21900\n",
            "[900]\ttrain-logloss:0.19860\tvalid-logloss:0.21782\n",
            "[1200]\ttrain-logloss:0.19206\tvalid-logloss:0.21744\n",
            "[1500]\ttrain-logloss:0.18595\tvalid-logloss:0.21724\n",
            "[1553]\ttrain-logloss:0.18488\tvalid-logloss:0.21716\n",
            "Rund no: 221 Metric : 0.7928745763220293 Max: 0.7951358214006115\n",
            "[0]\ttrain-logloss:0.66280\tvalid-logloss:0.66278\n",
            "[300]\ttrain-logloss:0.21625\tvalid-logloss:0.22263\n",
            "[600]\ttrain-logloss:0.20588\tvalid-logloss:0.21874\n",
            "[900]\ttrain-logloss:0.19855\tvalid-logloss:0.21761\n",
            "[1200]\ttrain-logloss:0.19199\tvalid-logloss:0.21707\n",
            "[1500]\ttrain-logloss:0.18582\tvalid-logloss:0.21682\n",
            "[1628]\ttrain-logloss:0.18336\tvalid-logloss:0.21683\n",
            "Rund no: 222 Metric : 0.7939672703652967 Max: 0.7951358214006115\n",
            "[0]\ttrain-logloss:0.66280\tvalid-logloss:0.66278\n",
            "[300]\ttrain-logloss:0.21625\tvalid-logloss:0.22277\n",
            "[600]\ttrain-logloss:0.20586\tvalid-logloss:0.21891\n",
            "[900]\ttrain-logloss:0.19859\tvalid-logloss:0.21769\n",
            "[1200]\ttrain-logloss:0.19205\tvalid-logloss:0.21720\n",
            "[1500]\ttrain-logloss:0.18594\tvalid-logloss:0.21700\n",
            "[1609]\ttrain-logloss:0.18379\tvalid-logloss:0.21705\n",
            "Rund no: 223 Metric : 0.7930926712652384 Max: 0.7951358214006115\n",
            "[0]\ttrain-logloss:0.66280\tvalid-logloss:0.66278\n",
            "[300]\ttrain-logloss:0.21626\tvalid-logloss:0.22272\n",
            "[600]\ttrain-logloss:0.20586\tvalid-logloss:0.21910\n",
            "[900]\ttrain-logloss:0.19860\tvalid-logloss:0.21832\n",
            "[1200]\ttrain-logloss:0.19209\tvalid-logloss:0.21804\n",
            "[1243]\ttrain-logloss:0.19119\tvalid-logloss:0.21797\n",
            "Rund no: 224 Metric : 0.792561574807809 Max: 0.7951358214006115\n",
            "[0]\ttrain-logloss:0.66280\tvalid-logloss:0.66278\n",
            "[300]\ttrain-logloss:0.21623\tvalid-logloss:0.22291\n",
            "[600]\ttrain-logloss:0.20589\tvalid-logloss:0.21900\n",
            "[900]\ttrain-logloss:0.19862\tvalid-logloss:0.21792\n",
            "[1200]\ttrain-logloss:0.19205\tvalid-logloss:0.21750\n",
            "[1500]\ttrain-logloss:0.18598\tvalid-logloss:0.21725\n",
            "[1661]\ttrain-logloss:0.18281\tvalid-logloss:0.21731\n",
            "Rund no: 225 Metric : 0.7910488773115836 Max: 0.7951358214006115\n",
            "[0]\ttrain-logloss:0.66280\tvalid-logloss:0.66278\n",
            "[300]\ttrain-logloss:0.21621\tvalid-logloss:0.22266\n",
            "[600]\ttrain-logloss:0.20582\tvalid-logloss:0.21876\n",
            "[900]\ttrain-logloss:0.19855\tvalid-logloss:0.21762\n",
            "[1200]\ttrain-logloss:0.19197\tvalid-logloss:0.21713\n",
            "[1500]\ttrain-logloss:0.18588\tvalid-logloss:0.21685\n",
            "[1611]\ttrain-logloss:0.18371\tvalid-logloss:0.21694\n",
            "Rund no: 226 Metric : 0.7919676083183703 Max: 0.7951358214006115\n",
            "[0]\ttrain-logloss:0.66280\tvalid-logloss:0.66278\n",
            "[300]\ttrain-logloss:0.21630\tvalid-logloss:0.22279\n",
            "[600]\ttrain-logloss:0.20588\tvalid-logloss:0.21898\n",
            "[900]\ttrain-logloss:0.19860\tvalid-logloss:0.21779\n",
            "[1200]\ttrain-logloss:0.19199\tvalid-logloss:0.21716\n",
            "[1500]\ttrain-logloss:0.18589\tvalid-logloss:0.21688\n",
            "[1800]\ttrain-logloss:0.18009\tvalid-logloss:0.21681\n",
            "[1833]\ttrain-logloss:0.17951\tvalid-logloss:0.21682\n",
            "Rund no: 227 Metric : 0.7928298963202971 Max: 0.7951358214006115\n",
            "[0]\ttrain-logloss:0.66280\tvalid-logloss:0.66278\n",
            "[300]\ttrain-logloss:0.21625\tvalid-logloss:0.22274\n",
            "[600]\ttrain-logloss:0.20582\tvalid-logloss:0.21874\n",
            "[900]\ttrain-logloss:0.19850\tvalid-logloss:0.21751\n",
            "[1200]\ttrain-logloss:0.19196\tvalid-logloss:0.21705\n",
            "[1500]\ttrain-logloss:0.18590\tvalid-logloss:0.21687\n",
            "[1626]\ttrain-logloss:0.18345\tvalid-logloss:0.21688\n",
            "Rund no: 228 Metric : 0.7928834656731785 Max: 0.7951358214006115\n",
            "[0]\ttrain-logloss:0.66280\tvalid-logloss:0.66278\n",
            "[300]\ttrain-logloss:0.21618\tvalid-logloss:0.22273\n",
            "[600]\ttrain-logloss:0.20575\tvalid-logloss:0.21875\n",
            "[900]\ttrain-logloss:0.19850\tvalid-logloss:0.21765\n",
            "[1200]\ttrain-logloss:0.19196\tvalid-logloss:0.21715\n",
            "[1424]\ttrain-logloss:0.18741\tvalid-logloss:0.21718\n",
            "Rund no: 229 Metric : 0.7913813567804484 Max: 0.7951358214006115\n",
            "[0]\ttrain-logloss:0.66280\tvalid-logloss:0.66278\n",
            "[300]\ttrain-logloss:0.21620\tvalid-logloss:0.22254\n",
            "[600]\ttrain-logloss:0.20580\tvalid-logloss:0.21874\n",
            "[900]\ttrain-logloss:0.19848\tvalid-logloss:0.21762\n",
            "[1200]\ttrain-logloss:0.19198\tvalid-logloss:0.21710\n",
            "[1500]\ttrain-logloss:0.18588\tvalid-logloss:0.21686\n",
            "[1800]\ttrain-logloss:0.18015\tvalid-logloss:0.21674\n",
            "[1968]\ttrain-logloss:0.17715\tvalid-logloss:0.21671\n",
            "Rund no: 230 Metric : 0.79428918155554 Max: 0.7951358214006115\n",
            "[0]\ttrain-logloss:0.66280\tvalid-logloss:0.66278\n",
            "[300]\ttrain-logloss:0.21624\tvalid-logloss:0.22259\n",
            "[600]\ttrain-logloss:0.20594\tvalid-logloss:0.21870\n",
            "[900]\ttrain-logloss:0.19858\tvalid-logloss:0.21749\n",
            "[1200]\ttrain-logloss:0.19200\tvalid-logloss:0.21697\n",
            "[1500]\ttrain-logloss:0.18590\tvalid-logloss:0.21662\n",
            "[1661]\ttrain-logloss:0.18281\tvalid-logloss:0.21657\n",
            "Rund no: 231 Metric : 0.7937469935769085 Max: 0.7951358214006115\n",
            "[0]\ttrain-logloss:0.66280\tvalid-logloss:0.66278\n",
            "[300]\ttrain-logloss:0.21627\tvalid-logloss:0.22261\n",
            "[600]\ttrain-logloss:0.20588\tvalid-logloss:0.21874\n",
            "[900]\ttrain-logloss:0.19859\tvalid-logloss:0.21763\n",
            "[1200]\ttrain-logloss:0.19201\tvalid-logloss:0.21719\n",
            "[1500]\ttrain-logloss:0.18593\tvalid-logloss:0.21701\n",
            "[1655]\ttrain-logloss:0.18290\tvalid-logloss:0.21702\n",
            "Rund no: 232 Metric : 0.7916858376990232 Max: 0.7951358214006115\n",
            "[0]\ttrain-logloss:0.66280\tvalid-logloss:0.66278\n",
            "[300]\ttrain-logloss:0.21621\tvalid-logloss:0.22265\n",
            "[600]\ttrain-logloss:0.20590\tvalid-logloss:0.21881\n",
            "[900]\ttrain-logloss:0.19858\tvalid-logloss:0.21767\n",
            "[1200]\ttrain-logloss:0.19201\tvalid-logloss:0.21726\n",
            "[1500]\ttrain-logloss:0.18591\tvalid-logloss:0.21693\n",
            "[1800]\ttrain-logloss:0.18008\tvalid-logloss:0.21686\n",
            "[1960]\ttrain-logloss:0.17720\tvalid-logloss:0.21684\n",
            "Rund no: 233 Metric : 0.7936915824152531 Max: 0.7951358214006115\n",
            "[0]\ttrain-logloss:0.66280\tvalid-logloss:0.66278\n",
            "[300]\ttrain-logloss:0.21633\tvalid-logloss:0.22289\n",
            "[600]\ttrain-logloss:0.20592\tvalid-logloss:0.21895\n",
            "[900]\ttrain-logloss:0.19863\tvalid-logloss:0.21783\n",
            "[1200]\ttrain-logloss:0.19210\tvalid-logloss:0.21726\n",
            "[1500]\ttrain-logloss:0.18599\tvalid-logloss:0.21703\n",
            "[1800]\ttrain-logloss:0.18021\tvalid-logloss:0.21688\n",
            "[1906]\ttrain-logloss:0.17832\tvalid-logloss:0.21687\n",
            "Rund no: 234 Metric : 0.7929337371640667 Max: 0.7951358214006115\n",
            "[0]\ttrain-logloss:0.66280\tvalid-logloss:0.66278\n",
            "[300]\ttrain-logloss:0.21623\tvalid-logloss:0.22268\n",
            "[600]\ttrain-logloss:0.20589\tvalid-logloss:0.21891\n",
            "[900]\ttrain-logloss:0.19855\tvalid-logloss:0.21771\n",
            "[1200]\ttrain-logloss:0.19201\tvalid-logloss:0.21717\n",
            "[1500]\ttrain-logloss:0.18590\tvalid-logloss:0.21690\n",
            "[1651]\ttrain-logloss:0.18292\tvalid-logloss:0.21688\n",
            "Rund no: 235 Metric : 0.7924950551662713 Max: 0.7951358214006115\n",
            "[0]\ttrain-logloss:0.66280\tvalid-logloss:0.66278\n",
            "[300]\ttrain-logloss:0.21620\tvalid-logloss:0.22263\n",
            "[600]\ttrain-logloss:0.20590\tvalid-logloss:0.21870\n",
            "[900]\ttrain-logloss:0.19856\tvalid-logloss:0.21750\n",
            "[1200]\ttrain-logloss:0.19197\tvalid-logloss:0.21693\n",
            "[1500]\ttrain-logloss:0.18593\tvalid-logloss:0.21661\n",
            "[1783]\ttrain-logloss:0.18044\tvalid-logloss:0.21654\n",
            "Rund no: 236 Metric : 0.7940460466887392 Max: 0.7951358214006115\n",
            "[0]\ttrain-logloss:0.66280\tvalid-logloss:0.66278\n",
            "[300]\ttrain-logloss:0.21631\tvalid-logloss:0.22270\n",
            "[600]\ttrain-logloss:0.20596\tvalid-logloss:0.21882\n",
            "[900]\ttrain-logloss:0.19871\tvalid-logloss:0.21772\n",
            "[1200]\ttrain-logloss:0.19210\tvalid-logloss:0.21716\n",
            "[1500]\ttrain-logloss:0.18600\tvalid-logloss:0.21690\n",
            "[1800]\ttrain-logloss:0.18024\tvalid-logloss:0.21682\n",
            "[1834]\ttrain-logloss:0.17964\tvalid-logloss:0.21680\n",
            "Rund no: 237 Metric : 0.7923812070887185 Max: 0.7951358214006115\n",
            "[0]\ttrain-logloss:0.66280\tvalid-logloss:0.66278\n",
            "[300]\ttrain-logloss:0.21627\tvalid-logloss:0.22266\n",
            "[600]\ttrain-logloss:0.20588\tvalid-logloss:0.21870\n",
            "[900]\ttrain-logloss:0.19861\tvalid-logloss:0.21759\n",
            "[1200]\ttrain-logloss:0.19201\tvalid-logloss:0.21715\n",
            "[1242]\ttrain-logloss:0.19110\tvalid-logloss:0.21709\n",
            "Rund no: 238 Metric : 0.792246082642555 Max: 0.7951358214006115\n",
            "[0]\ttrain-logloss:0.66280\tvalid-logloss:0.66278\n",
            "[300]\ttrain-logloss:0.21625\tvalid-logloss:0.22266\n",
            "[600]\ttrain-logloss:0.20585\tvalid-logloss:0.21878\n",
            "[900]\ttrain-logloss:0.19861\tvalid-logloss:0.21768\n",
            "[1200]\ttrain-logloss:0.19203\tvalid-logloss:0.21735\n",
            "[1247]\ttrain-logloss:0.19103\tvalid-logloss:0.21727\n",
            "Rund no: 239 Metric : 0.7920190460935086 Max: 0.7951358214006115\n",
            "[0]\ttrain-logloss:0.66280\tvalid-logloss:0.66278\n",
            "[300]\ttrain-logloss:0.21619\tvalid-logloss:0.22276\n",
            "[600]\ttrain-logloss:0.20584\tvalid-logloss:0.21896\n",
            "[900]\ttrain-logloss:0.19861\tvalid-logloss:0.21790\n",
            "[1200]\ttrain-logloss:0.19196\tvalid-logloss:0.21748\n",
            "[1500]\ttrain-logloss:0.18581\tvalid-logloss:0.21726\n",
            "[1745]\ttrain-logloss:0.18113\tvalid-logloss:0.21721\n",
            "Rund no: 240 Metric : 0.7934605346185959 Max: 0.7951358214006115\n",
            "[0]\ttrain-logloss:0.66280\tvalid-logloss:0.66278\n",
            "[300]\ttrain-logloss:0.21633\tvalid-logloss:0.22264\n",
            "[600]\ttrain-logloss:0.20590\tvalid-logloss:0.21877\n",
            "[900]\ttrain-logloss:0.19855\tvalid-logloss:0.21758\n",
            "[1200]\ttrain-logloss:0.19198\tvalid-logloss:0.21701\n",
            "[1500]\ttrain-logloss:0.18588\tvalid-logloss:0.21673\n",
            "[1753]\ttrain-logloss:0.18095\tvalid-logloss:0.21671\n",
            "Rund no: 241 Metric : 0.7927987930785175 Max: 0.7951358214006115\n",
            "[0]\ttrain-logloss:0.66280\tvalid-logloss:0.66278\n",
            "[300]\ttrain-logloss:0.21625\tvalid-logloss:0.22271\n",
            "[600]\ttrain-logloss:0.20587\tvalid-logloss:0.21886\n",
            "[900]\ttrain-logloss:0.19864\tvalid-logloss:0.21774\n",
            "[1200]\ttrain-logloss:0.19203\tvalid-logloss:0.21719\n",
            "[1500]\ttrain-logloss:0.18594\tvalid-logloss:0.21693\n",
            "[1658]\ttrain-logloss:0.18286\tvalid-logloss:0.21692\n",
            "Rund no: 242 Metric : 0.7933486641526333 Max: 0.7951358214006115\n",
            "[0]\ttrain-logloss:0.66280\tvalid-logloss:0.66278\n",
            "[300]\ttrain-logloss:0.21627\tvalid-logloss:0.22274\n",
            "[600]\ttrain-logloss:0.20589\tvalid-logloss:0.21890\n",
            "[900]\ttrain-logloss:0.19857\tvalid-logloss:0.21772\n",
            "[1200]\ttrain-logloss:0.19197\tvalid-logloss:0.21717\n",
            "[1500]\ttrain-logloss:0.18583\tvalid-logloss:0.21689\n",
            "[1662]\ttrain-logloss:0.18268\tvalid-logloss:0.21686\n",
            "Rund no: 243 Metric : 0.7917957031094618 Max: 0.7951358214006115\n",
            "[0]\ttrain-logloss:0.66280\tvalid-logloss:0.66278\n",
            "[300]\ttrain-logloss:0.21634\tvalid-logloss:0.22285\n",
            "[600]\ttrain-logloss:0.20589\tvalid-logloss:0.21887\n",
            "[900]\ttrain-logloss:0.19859\tvalid-logloss:0.21769\n",
            "[1200]\ttrain-logloss:0.19202\tvalid-logloss:0.21720\n",
            "[1500]\ttrain-logloss:0.18591\tvalid-logloss:0.21696\n",
            "[1652]\ttrain-logloss:0.18297\tvalid-logloss:0.21695\n",
            "Rund no: 244 Metric : 0.7927844918562603 Max: 0.7951358214006115\n",
            "[0]\ttrain-logloss:0.66280\tvalid-logloss:0.66278\n",
            "[300]\ttrain-logloss:0.21627\tvalid-logloss:0.22269\n",
            "[600]\ttrain-logloss:0.20592\tvalid-logloss:0.21873\n",
            "[900]\ttrain-logloss:0.19863\tvalid-logloss:0.21762\n",
            "[1200]\ttrain-logloss:0.19200\tvalid-logloss:0.21710\n",
            "[1500]\ttrain-logloss:0.18588\tvalid-logloss:0.21690\n",
            "[1651]\ttrain-logloss:0.18295\tvalid-logloss:0.21683\n",
            "Rund no: 245 Metric : 0.7932068307058169 Max: 0.7951358214006115\n",
            "[0]\ttrain-logloss:0.66280\tvalid-logloss:0.66278\n",
            "[300]\ttrain-logloss:0.21627\tvalid-logloss:0.22283\n",
            "[600]\ttrain-logloss:0.20587\tvalid-logloss:0.21889\n",
            "[900]\ttrain-logloss:0.19848\tvalid-logloss:0.21766\n",
            "[1200]\ttrain-logloss:0.19192\tvalid-logloss:0.21716\n",
            "[1500]\ttrain-logloss:0.18586\tvalid-logloss:0.21689\n",
            "[1661]\ttrain-logloss:0.18270\tvalid-logloss:0.21687\n",
            "Rund no: 246 Metric : 0.7920687712626246 Max: 0.7951358214006115\n",
            "[0]\ttrain-logloss:0.66280\tvalid-logloss:0.66278\n",
            "[300]\ttrain-logloss:0.21622\tvalid-logloss:0.22279\n",
            "[600]\ttrain-logloss:0.20584\tvalid-logloss:0.21891\n",
            "[900]\ttrain-logloss:0.19853\tvalid-logloss:0.21775\n",
            "[1200]\ttrain-logloss:0.19195\tvalid-logloss:0.21738\n",
            "[1251]\ttrain-logloss:0.19087\tvalid-logloss:0.21732\n",
            "Rund no: 247 Metric : 0.7919942425304635 Max: 0.7951358214006115\n",
            "[0]\ttrain-logloss:0.66280\tvalid-logloss:0.66278\n",
            "[300]\ttrain-logloss:0.21626\tvalid-logloss:0.22276\n",
            "[600]\ttrain-logloss:0.20585\tvalid-logloss:0.21879\n",
            "[900]\ttrain-logloss:0.19859\tvalid-logloss:0.21772\n",
            "[1200]\ttrain-logloss:0.19205\tvalid-logloss:0.21725\n",
            "[1500]\ttrain-logloss:0.18594\tvalid-logloss:0.21697\n",
            "[1655]\ttrain-logloss:0.18294\tvalid-logloss:0.21696\n",
            "Rund no: 248 Metric : 0.7924682651902979 Max: 0.7951358214006115\n",
            "[0]\ttrain-logloss:0.66280\tvalid-logloss:0.66278\n",
            "[300]\ttrain-logloss:0.21623\tvalid-logloss:0.22265\n",
            "[600]\ttrain-logloss:0.20585\tvalid-logloss:0.21876\n",
            "[900]\ttrain-logloss:0.19859\tvalid-logloss:0.21758\n",
            "[1200]\ttrain-logloss:0.19205\tvalid-logloss:0.21719\n",
            "[1500]\ttrain-logloss:0.18599\tvalid-logloss:0.21687\n",
            "[1662]\ttrain-logloss:0.18284\tvalid-logloss:0.21688\n",
            "Rund no: 249 Metric : 0.7938172566132886 Max: 0.7951358214006115\n",
            "[0]\ttrain-logloss:0.66280\tvalid-logloss:0.66278\n",
            "[300]\ttrain-logloss:0.21623\tvalid-logloss:0.22277\n",
            "[600]\ttrain-logloss:0.20590\tvalid-logloss:0.21899\n",
            "[900]\ttrain-logloss:0.19854\tvalid-logloss:0.21784\n",
            "[1200]\ttrain-logloss:0.19193\tvalid-logloss:0.21737\n",
            "[1500]\ttrain-logloss:0.18588\tvalid-logloss:0.21711\n",
            "[1651]\ttrain-logloss:0.18293\tvalid-logloss:0.21713\n",
            "Rund no: 250 Metric : 0.7927343334525148 Max: 0.7951358214006115\n",
            "[0]\ttrain-logloss:0.66280\tvalid-logloss:0.66278\n",
            "[300]\ttrain-logloss:0.21630\tvalid-logloss:0.22268\n",
            "[600]\ttrain-logloss:0.20584\tvalid-logloss:0.21871\n",
            "[900]\ttrain-logloss:0.19859\tvalid-logloss:0.21760\n",
            "[1200]\ttrain-logloss:0.19202\tvalid-logloss:0.21713\n",
            "[1395]\ttrain-logloss:0.18802\tvalid-logloss:0.21699\n",
            "Rund no: 251 Metric : 0.7918623932134501 Max: 0.7951358214006115\n",
            "[0]\ttrain-logloss:0.66280\tvalid-logloss:0.66278\n",
            "[300]\ttrain-logloss:0.21627\tvalid-logloss:0.22272\n",
            "[600]\ttrain-logloss:0.20587\tvalid-logloss:0.21883\n",
            "[900]\ttrain-logloss:0.19851\tvalid-logloss:0.21768\n",
            "[1200]\ttrain-logloss:0.19196\tvalid-logloss:0.21724\n",
            "[1500]\ttrain-logloss:0.18585\tvalid-logloss:0.21701\n",
            "[1653]\ttrain-logloss:0.18289\tvalid-logloss:0.21699\n",
            "Rund no: 252 Metric : 0.792122568809454 Max: 0.7951358214006115\n",
            "[0]\ttrain-logloss:0.66280\tvalid-logloss:0.66278\n",
            "[300]\ttrain-logloss:0.21627\tvalid-logloss:0.22265\n",
            "[600]\ttrain-logloss:0.20591\tvalid-logloss:0.21875\n",
            "[900]\ttrain-logloss:0.19856\tvalid-logloss:0.21764\n",
            "[1200]\ttrain-logloss:0.19198\tvalid-logloss:0.21712\n",
            "[1500]\ttrain-logloss:0.18585\tvalid-logloss:0.21695\n",
            "[1734]\ttrain-logloss:0.18135\tvalid-logloss:0.21690\n",
            "Rund no: 253 Metric : 0.7934577762057471 Max: 0.7951358214006115\n",
            "[0]\ttrain-logloss:0.66280\tvalid-logloss:0.66278\n",
            "[300]\ttrain-logloss:0.21627\tvalid-logloss:0.22278\n",
            "[600]\ttrain-logloss:0.20587\tvalid-logloss:0.21882\n",
            "[900]\ttrain-logloss:0.19862\tvalid-logloss:0.21768\n",
            "[1200]\ttrain-logloss:0.19204\tvalid-logloss:0.21722\n",
            "[1500]\ttrain-logloss:0.18595\tvalid-logloss:0.21696\n",
            "[1762]\ttrain-logloss:0.18094\tvalid-logloss:0.21690\n",
            "Rund no: 254 Metric : 0.7929395519313156 Max: 0.7951358214006115\n",
            "[0]\ttrain-logloss:0.66280\tvalid-logloss:0.66278\n",
            "[300]\ttrain-logloss:0.21628\tvalid-logloss:0.22272\n",
            "[600]\ttrain-logloss:0.20590\tvalid-logloss:0.21877\n",
            "[900]\ttrain-logloss:0.19855\tvalid-logloss:0.21765\n",
            "[1200]\ttrain-logloss:0.19198\tvalid-logloss:0.21730\n",
            "[1245]\ttrain-logloss:0.19104\tvalid-logloss:0.21724\n",
            "Rund no: 255 Metric : 0.7912135904725374 Max: 0.7951358214006115\n",
            "[0]\ttrain-logloss:0.66280\tvalid-logloss:0.66278\n",
            "[300]\ttrain-logloss:0.21627\tvalid-logloss:0.22265\n",
            "[600]\ttrain-logloss:0.20587\tvalid-logloss:0.21874\n",
            "[900]\ttrain-logloss:0.19859\tvalid-logloss:0.21763\n",
            "[1200]\ttrain-logloss:0.19196\tvalid-logloss:0.21713\n",
            "[1500]\ttrain-logloss:0.18590\tvalid-logloss:0.21696\n",
            "[1799]\ttrain-logloss:0.18020\tvalid-logloss:0.21691\n",
            "Rund no: 256 Metric : 0.7924080834676378 Max: 0.7951358214006115\n",
            "[0]\ttrain-logloss:0.66280\tvalid-logloss:0.66278\n",
            "[300]\ttrain-logloss:0.21625\tvalid-logloss:0.22271\n",
            "[600]\ttrain-logloss:0.20586\tvalid-logloss:0.21886\n",
            "[900]\ttrain-logloss:0.19857\tvalid-logloss:0.21780\n",
            "[1200]\ttrain-logloss:0.19199\tvalid-logloss:0.21733\n",
            "[1500]\ttrain-logloss:0.18591\tvalid-logloss:0.21704\n",
            "[1654]\ttrain-logloss:0.18295\tvalid-logloss:0.21705\n",
            "Rund no: 257 Metric : 0.7913095308571297 Max: 0.7951358214006115\n",
            "[0]\ttrain-logloss:0.66280\tvalid-logloss:0.66278\n",
            "[300]\ttrain-logloss:0.21620\tvalid-logloss:0.22262\n",
            "[600]\ttrain-logloss:0.20586\tvalid-logloss:0.21879\n",
            "[900]\ttrain-logloss:0.19853\tvalid-logloss:0.21762\n",
            "[1200]\ttrain-logloss:0.19197\tvalid-logloss:0.21711\n",
            "[1500]\ttrain-logloss:0.18592\tvalid-logloss:0.21700\n",
            "[1648]\ttrain-logloss:0.18303\tvalid-logloss:0.21700\n",
            "Rund no: 258 Metric : 0.7922520213024133 Max: 0.7951358214006115\n",
            "[0]\ttrain-logloss:0.66280\tvalid-logloss:0.66278\n",
            "[300]\ttrain-logloss:0.21627\tvalid-logloss:0.22267\n",
            "[600]\ttrain-logloss:0.20589\tvalid-logloss:0.21874\n",
            "[900]\ttrain-logloss:0.19858\tvalid-logloss:0.21746\n",
            "[1200]\ttrain-logloss:0.19204\tvalid-logloss:0.21691\n",
            "[1500]\ttrain-logloss:0.18593\tvalid-logloss:0.21668\n",
            "[1640]\ttrain-logloss:0.18320\tvalid-logloss:0.21664\n",
            "Rund no: 259 Metric : 0.7934079982041107 Max: 0.7951358214006115\n",
            "[0]\ttrain-logloss:0.66280\tvalid-logloss:0.66278\n",
            "[300]\ttrain-logloss:0.21620\tvalid-logloss:0.22256\n",
            "[600]\ttrain-logloss:0.20588\tvalid-logloss:0.21873\n",
            "[900]\ttrain-logloss:0.19857\tvalid-logloss:0.21759\n",
            "[1200]\ttrain-logloss:0.19200\tvalid-logloss:0.21723\n",
            "[1500]\ttrain-logloss:0.18592\tvalid-logloss:0.21684\n",
            "[1746]\ttrain-logloss:0.18115\tvalid-logloss:0.21675\n",
            "Rund no: 260 Metric : 0.7931675137114886 Max: 0.7951358214006115\n",
            "[0]\ttrain-logloss:0.66280\tvalid-logloss:0.66278\n",
            "[300]\ttrain-logloss:0.21624\tvalid-logloss:0.22264\n",
            "[600]\ttrain-logloss:0.20584\tvalid-logloss:0.21874\n",
            "[900]\ttrain-logloss:0.19859\tvalid-logloss:0.21771\n",
            "[1200]\ttrain-logloss:0.19206\tvalid-logloss:0.21720\n",
            "[1500]\ttrain-logloss:0.18599\tvalid-logloss:0.21701\n",
            "[1507]\ttrain-logloss:0.18585\tvalid-logloss:0.21701\n",
            "Rund no: 261 Metric : 0.792825660838005 Max: 0.7951358214006115\n",
            "[0]\ttrain-logloss:0.66280\tvalid-logloss:0.66278\n",
            "[300]\ttrain-logloss:0.21623\tvalid-logloss:0.22266\n",
            "[600]\ttrain-logloss:0.20581\tvalid-logloss:0.21875\n",
            "[900]\ttrain-logloss:0.19855\tvalid-logloss:0.21761\n",
            "[1200]\ttrain-logloss:0.19191\tvalid-logloss:0.21706\n",
            "[1500]\ttrain-logloss:0.18582\tvalid-logloss:0.21689\n",
            "[1800]\ttrain-logloss:0.18007\tvalid-logloss:0.21676\n",
            "[2098]\ttrain-logloss:0.17469\tvalid-logloss:0.21669\n",
            "Rund no: 262 Metric : 0.7929990575268295 Max: 0.7951358214006115\n",
            "[0]\ttrain-logloss:0.66280\tvalid-logloss:0.66278\n",
            "[300]\ttrain-logloss:0.21625\tvalid-logloss:0.22274\n",
            "[600]\ttrain-logloss:0.20581\tvalid-logloss:0.21884\n",
            "[900]\ttrain-logloss:0.19859\tvalid-logloss:0.21775\n",
            "[1200]\ttrain-logloss:0.19205\tvalid-logloss:0.21718\n",
            "[1500]\ttrain-logloss:0.18596\tvalid-logloss:0.21688\n",
            "[1647]\ttrain-logloss:0.18318\tvalid-logloss:0.21682\n",
            "Rund no: 263 Metric : 0.7928391819863312 Max: 0.7951358214006115\n",
            "[0]\ttrain-logloss:0.66280\tvalid-logloss:0.66278\n",
            "[300]\ttrain-logloss:0.21624\tvalid-logloss:0.22278\n",
            "[600]\ttrain-logloss:0.20590\tvalid-logloss:0.21897\n",
            "[900]\ttrain-logloss:0.19855\tvalid-logloss:0.21793\n",
            "[1200]\ttrain-logloss:0.19194\tvalid-logloss:0.21752\n",
            "[1500]\ttrain-logloss:0.18586\tvalid-logloss:0.21729\n",
            "[1639]\ttrain-logloss:0.18315\tvalid-logloss:0.21732\n",
            "Rund no: 264 Metric : 0.791510059322307 Max: 0.7951358214006115\n",
            "[0]\ttrain-logloss:0.66280\tvalid-logloss:0.66278\n",
            "[300]\ttrain-logloss:0.21627\tvalid-logloss:0.22262\n",
            "[600]\ttrain-logloss:0.20584\tvalid-logloss:0.21868\n",
            "[900]\ttrain-logloss:0.19862\tvalid-logloss:0.21750\n",
            "[1200]\ttrain-logloss:0.19202\tvalid-logloss:0.21703\n",
            "[1500]\ttrain-logloss:0.18598\tvalid-logloss:0.21675\n",
            "[1786]\ttrain-logloss:0.18048\tvalid-logloss:0.21668\n",
            "Rund no: 265 Metric : 0.7929440591178134 Max: 0.7951358214006115\n",
            "[0]\ttrain-logloss:0.66280\tvalid-logloss:0.66278\n",
            "[300]\ttrain-logloss:0.21627\tvalid-logloss:0.22265\n",
            "[600]\ttrain-logloss:0.20586\tvalid-logloss:0.21881\n",
            "[900]\ttrain-logloss:0.19852\tvalid-logloss:0.21759\n",
            "[1200]\ttrain-logloss:0.19197\tvalid-logloss:0.21712\n",
            "[1500]\ttrain-logloss:0.18581\tvalid-logloss:0.21680\n",
            "[1734]\ttrain-logloss:0.18129\tvalid-logloss:0.21673\n",
            "Rund no: 266 Metric : 0.7945463889392752 Max: 0.7951358214006115\n",
            "[0]\ttrain-logloss:0.66280\tvalid-logloss:0.66278\n",
            "[300]\ttrain-logloss:0.21628\tvalid-logloss:0.22265\n",
            "[600]\ttrain-logloss:0.20588\tvalid-logloss:0.21875\n",
            "[900]\ttrain-logloss:0.19858\tvalid-logloss:0.21765\n",
            "[1200]\ttrain-logloss:0.19201\tvalid-logloss:0.21715\n",
            "[1500]\ttrain-logloss:0.18591\tvalid-logloss:0.21691\n",
            "[1800]\ttrain-logloss:0.18013\tvalid-logloss:0.21686\n",
            "[1820]\ttrain-logloss:0.17979\tvalid-logloss:0.21685\n",
            "Rund no: 267 Metric : 0.7930762351235403 Max: 0.7951358214006115\n",
            "[0]\ttrain-logloss:0.66280\tvalid-logloss:0.66278\n",
            "[300]\ttrain-logloss:0.21627\tvalid-logloss:0.22265\n",
            "[600]\ttrain-logloss:0.20588\tvalid-logloss:0.21862\n",
            "[900]\ttrain-logloss:0.19856\tvalid-logloss:0.21745\n",
            "[1200]\ttrain-logloss:0.19207\tvalid-logloss:0.21697\n",
            "[1500]\ttrain-logloss:0.18592\tvalid-logloss:0.21678\n",
            "[1660]\ttrain-logloss:0.18280\tvalid-logloss:0.21676\n",
            "Rund no: 268 Metric : 0.793439346524442 Max: 0.7951358214006115\n",
            "[0]\ttrain-logloss:0.66280\tvalid-logloss:0.66278\n",
            "[300]\ttrain-logloss:0.21624\tvalid-logloss:0.22275\n",
            "[600]\ttrain-logloss:0.20586\tvalid-logloss:0.21894\n",
            "[900]\ttrain-logloss:0.19853\tvalid-logloss:0.21784\n",
            "[1200]\ttrain-logloss:0.19195\tvalid-logloss:0.21735\n",
            "[1244]\ttrain-logloss:0.19104\tvalid-logloss:0.21730\n",
            "Rund no: 269 Metric : 0.7918716791106744 Max: 0.7951358214006115\n",
            "[0]\ttrain-logloss:0.66280\tvalid-logloss:0.66278\n",
            "[300]\ttrain-logloss:0.21621\tvalid-logloss:0.22276\n",
            "[600]\ttrain-logloss:0.20582\tvalid-logloss:0.21891\n",
            "[900]\ttrain-logloss:0.19853\tvalid-logloss:0.21783\n",
            "[1200]\ttrain-logloss:0.19200\tvalid-logloss:0.21738\n",
            "[1500]\ttrain-logloss:0.18593\tvalid-logloss:0.21710\n",
            "[1662]\ttrain-logloss:0.18277\tvalid-logloss:0.21704\n",
            "Rund no: 270 Metric : 0.7923487903444579 Max: 0.7951358214006115\n",
            "[0]\ttrain-logloss:0.66280\tvalid-logloss:0.66278\n",
            "[300]\ttrain-logloss:0.21626\tvalid-logloss:0.22270\n",
            "[600]\ttrain-logloss:0.20597\tvalid-logloss:0.21890\n",
            "[900]\ttrain-logloss:0.19859\tvalid-logloss:0.21778\n",
            "[1200]\ttrain-logloss:0.19198\tvalid-logloss:0.21744\n",
            "[1245]\ttrain-logloss:0.19104\tvalid-logloss:0.21734\n",
            "Rund no: 271 Metric : 0.7923677865474095 Max: 0.7951358214006115\n",
            "[0]\ttrain-logloss:0.66280\tvalid-logloss:0.66278\n",
            "[300]\ttrain-logloss:0.21627\tvalid-logloss:0.22264\n",
            "[600]\ttrain-logloss:0.20584\tvalid-logloss:0.21872\n",
            "[900]\ttrain-logloss:0.19852\tvalid-logloss:0.21754\n",
            "[1200]\ttrain-logloss:0.19196\tvalid-logloss:0.21705\n",
            "[1500]\ttrain-logloss:0.18591\tvalid-logloss:0.21677\n",
            "[1800]\ttrain-logloss:0.18010\tvalid-logloss:0.21664\n",
            "[2056]\ttrain-logloss:0.17556\tvalid-logloss:0.21670\n",
            "Rund no: 272 Metric : 0.7930805622712738 Max: 0.7951358214006115\n",
            "[0]\ttrain-logloss:0.66280\tvalid-logloss:0.66278\n",
            "[300]\ttrain-logloss:0.21626\tvalid-logloss:0.22277\n",
            "[600]\ttrain-logloss:0.20588\tvalid-logloss:0.21883\n",
            "[900]\ttrain-logloss:0.19854\tvalid-logloss:0.21761\n",
            "[1200]\ttrain-logloss:0.19196\tvalid-logloss:0.21722\n",
            "[1249]\ttrain-logloss:0.19094\tvalid-logloss:0.21719\n",
            "Rund no: 273 Metric : 0.7925524977534155 Max: 0.7951358214006115\n",
            "[0]\ttrain-logloss:0.66280\tvalid-logloss:0.66278\n",
            "[300]\ttrain-logloss:0.21622\tvalid-logloss:0.22265\n",
            "[600]\ttrain-logloss:0.20583\tvalid-logloss:0.21879\n",
            "[900]\ttrain-logloss:0.19854\tvalid-logloss:0.21771\n",
            "[1200]\ttrain-logloss:0.19198\tvalid-logloss:0.21717\n",
            "[1500]\ttrain-logloss:0.18591\tvalid-logloss:0.21695\n",
            "[1800]\ttrain-logloss:0.18014\tvalid-logloss:0.21685\n",
            "Rund no: 274 Metric : 0.7933301401915176 Max: 0.7951358214006115\n",
            "[0]\ttrain-logloss:0.66280\tvalid-logloss:0.66278\n",
            "[300]\ttrain-logloss:0.21620\tvalid-logloss:0.22261\n",
            "[600]\ttrain-logloss:0.20584\tvalid-logloss:0.21870\n",
            "[900]\ttrain-logloss:0.19857\tvalid-logloss:0.21767\n",
            "[1200]\ttrain-logloss:0.19203\tvalid-logloss:0.21727\n",
            "[1246]\ttrain-logloss:0.19107\tvalid-logloss:0.21718\n",
            "Rund no: 275 Metric : 0.7940704070868745 Max: 0.7951358214006115\n",
            "[0]\ttrain-logloss:0.66280\tvalid-logloss:0.66278\n",
            "[300]\ttrain-logloss:0.21629\tvalid-logloss:0.22275\n",
            "[600]\ttrain-logloss:0.20588\tvalid-logloss:0.21884\n",
            "[900]\ttrain-logloss:0.19859\tvalid-logloss:0.21797\n",
            "[980]\ttrain-logloss:0.19676\tvalid-logloss:0.21778\n",
            "Rund no: 276 Metric : 0.7914214875689235 Max: 0.7951358214006115\n",
            "[0]\ttrain-logloss:0.66280\tvalid-logloss:0.66278\n",
            "[300]\ttrain-logloss:0.21627\tvalid-logloss:0.22265\n",
            "[600]\ttrain-logloss:0.20587\tvalid-logloss:0.21879\n",
            "[900]\ttrain-logloss:0.19856\tvalid-logloss:0.21766\n",
            "[1200]\ttrain-logloss:0.19193\tvalid-logloss:0.21707\n",
            "[1385]\ttrain-logloss:0.18814\tvalid-logloss:0.21701\n",
            "Rund no: 277 Metric : 0.7914559557735203 Max: 0.7951358214006115\n",
            "[0]\ttrain-logloss:0.66280\tvalid-logloss:0.66278\n",
            "[300]\ttrain-logloss:0.21627\tvalid-logloss:0.22265\n",
            "[600]\ttrain-logloss:0.20590\tvalid-logloss:0.21875\n",
            "[900]\ttrain-logloss:0.19862\tvalid-logloss:0.21767\n",
            "[1200]\ttrain-logloss:0.19202\tvalid-logloss:0.21712\n",
            "[1500]\ttrain-logloss:0.18593\tvalid-logloss:0.21691\n",
            "[1661]\ttrain-logloss:0.18282\tvalid-logloss:0.21688\n",
            "Rund no: 278 Metric : 0.7920212740292694 Max: 0.7951358214006115\n",
            "[0]\ttrain-logloss:0.66280\tvalid-logloss:0.66278\n",
            "[300]\ttrain-logloss:0.21623\tvalid-logloss:0.22267\n",
            "[600]\ttrain-logloss:0.20586\tvalid-logloss:0.21877\n",
            "[900]\ttrain-logloss:0.19856\tvalid-logloss:0.21765\n",
            "[1200]\ttrain-logloss:0.19206\tvalid-logloss:0.21721\n",
            "[1500]\ttrain-logloss:0.18594\tvalid-logloss:0.21692\n",
            "[1610]\ttrain-logloss:0.18383\tvalid-logloss:0.21690\n",
            "Rund no: 279 Metric : 0.7930578649221747 Max: 0.7951358214006115\n",
            "[0]\ttrain-logloss:0.66280\tvalid-logloss:0.66278\n",
            "[300]\ttrain-logloss:0.21630\tvalid-logloss:0.22275\n",
            "[600]\ttrain-logloss:0.20590\tvalid-logloss:0.21889\n",
            "[900]\ttrain-logloss:0.19867\tvalid-logloss:0.21778\n",
            "[1200]\ttrain-logloss:0.19210\tvalid-logloss:0.21734\n",
            "[1500]\ttrain-logloss:0.18597\tvalid-logloss:0.21704\n",
            "[1744]\ttrain-logloss:0.18130\tvalid-logloss:0.21704\n",
            "Rund no: 280 Metric : 0.7919736252145763 Max: 0.7951358214006115\n",
            "[0]\ttrain-logloss:0.66280\tvalid-logloss:0.66278\n",
            "[300]\ttrain-logloss:0.21625\tvalid-logloss:0.22262\n",
            "[600]\ttrain-logloss:0.20588\tvalid-logloss:0.21868\n",
            "[900]\ttrain-logloss:0.19856\tvalid-logloss:0.21754\n",
            "[1200]\ttrain-logloss:0.19200\tvalid-logloss:0.21711\n",
            "[1500]\ttrain-logloss:0.18591\tvalid-logloss:0.21687\n",
            "[1800]\ttrain-logloss:0.18012\tvalid-logloss:0.21676\n",
            "[2083]\ttrain-logloss:0.17504\tvalid-logloss:0.21671\n",
            "Rund no: 281 Metric : 0.7939157682929376 Max: 0.7951358214006115\n",
            "[0]\ttrain-logloss:0.66280\tvalid-logloss:0.66278\n",
            "[300]\ttrain-logloss:0.21627\tvalid-logloss:0.22265\n",
            "[600]\ttrain-logloss:0.20591\tvalid-logloss:0.21876\n",
            "[900]\ttrain-logloss:0.19863\tvalid-logloss:0.21759\n",
            "[1200]\ttrain-logloss:0.19201\tvalid-logloss:0.21718\n",
            "[1246]\ttrain-logloss:0.19105\tvalid-logloss:0.21714\n",
            "Rund no: 282 Metric : 0.7917922730820677 Max: 0.7951358214006115\n",
            "[0]\ttrain-logloss:0.66280\tvalid-logloss:0.66278\n",
            "[300]\ttrain-logloss:0.21627\tvalid-logloss:0.22265\n",
            "[600]\ttrain-logloss:0.20590\tvalid-logloss:0.21876\n",
            "[900]\ttrain-logloss:0.19870\tvalid-logloss:0.21771\n",
            "[1200]\ttrain-logloss:0.19211\tvalid-logloss:0.21723\n",
            "[1500]\ttrain-logloss:0.18601\tvalid-logloss:0.21696\n",
            "[1623]\ttrain-logloss:0.18360\tvalid-logloss:0.21710\n",
            "Rund no: 283 Metric : 0.791896087258517 Max: 0.7951358214006115\n",
            "[0]\ttrain-logloss:0.66280\tvalid-logloss:0.66278\n",
            "[300]\ttrain-logloss:0.21627\tvalid-logloss:0.22268\n",
            "[600]\ttrain-logloss:0.20592\tvalid-logloss:0.21885\n",
            "[900]\ttrain-logloss:0.19864\tvalid-logloss:0.21762\n",
            "[1200]\ttrain-logloss:0.19205\tvalid-logloss:0.21710\n",
            "[1500]\ttrain-logloss:0.18599\tvalid-logloss:0.21683\n",
            "[1800]\ttrain-logloss:0.18022\tvalid-logloss:0.21670\n",
            "[1946]\ttrain-logloss:0.17760\tvalid-logloss:0.21673\n",
            "Rund no: 284 Metric : 0.79338377066495 Max: 0.7951358214006115\n",
            "[0]\ttrain-logloss:0.66280\tvalid-logloss:0.66278\n",
            "[300]\ttrain-logloss:0.21626\tvalid-logloss:0.22281\n",
            "[600]\ttrain-logloss:0.20588\tvalid-logloss:0.21887\n",
            "[900]\ttrain-logloss:0.19864\tvalid-logloss:0.21768\n",
            "[1200]\ttrain-logloss:0.19213\tvalid-logloss:0.21711\n",
            "[1500]\ttrain-logloss:0.18605\tvalid-logloss:0.21696\n",
            "[1503]\ttrain-logloss:0.18598\tvalid-logloss:0.21695\n",
            "Rund no: 285 Metric : 0.7926358743477684 Max: 0.7951358214006115\n",
            "[0]\ttrain-logloss:0.66280\tvalid-logloss:0.66278\n",
            "[300]\ttrain-logloss:0.21625\tvalid-logloss:0.22291\n",
            "[600]\ttrain-logloss:0.20583\tvalid-logloss:0.21889\n",
            "[900]\ttrain-logloss:0.19852\tvalid-logloss:0.21775\n",
            "[1200]\ttrain-logloss:0.19198\tvalid-logloss:0.21728\n",
            "[1500]\ttrain-logloss:0.18590\tvalid-logloss:0.21698\n",
            "[1662]\ttrain-logloss:0.18277\tvalid-logloss:0.21705\n",
            "Rund no: 286 Metric : 0.7928016246884968 Max: 0.7951358214006115\n",
            "[0]\ttrain-logloss:0.66280\tvalid-logloss:0.66278\n",
            "[300]\ttrain-logloss:0.21626\tvalid-logloss:0.22265\n",
            "[600]\ttrain-logloss:0.20590\tvalid-logloss:0.21873\n",
            "[900]\ttrain-logloss:0.19865\tvalid-logloss:0.21767\n",
            "[1200]\ttrain-logloss:0.19205\tvalid-logloss:0.21719\n",
            "[1500]\ttrain-logloss:0.18595\tvalid-logloss:0.21701\n",
            "[1800]\ttrain-logloss:0.18020\tvalid-logloss:0.21691\n",
            "[1837]\ttrain-logloss:0.17955\tvalid-logloss:0.21691\n",
            "Rund no: 287 Metric : 0.7927853378111185 Max: 0.7951358214006115\n",
            "[0]\ttrain-logloss:0.66280\tvalid-logloss:0.66278\n",
            "[300]\ttrain-logloss:0.21619\tvalid-logloss:0.22257\n",
            "[600]\ttrain-logloss:0.20580\tvalid-logloss:0.21881\n",
            "[900]\ttrain-logloss:0.19851\tvalid-logloss:0.21769\n",
            "[1200]\ttrain-logloss:0.19200\tvalid-logloss:0.21729\n",
            "[1500]\ttrain-logloss:0.18592\tvalid-logloss:0.21701\n",
            "[1800]\ttrain-logloss:0.18013\tvalid-logloss:0.21693\n",
            "[2068]\ttrain-logloss:0.17532\tvalid-logloss:0.21686\n",
            "Rund no: 288 Metric : 0.7943920096515327 Max: 0.7951358214006115\n",
            "[0]\ttrain-logloss:0.66280\tvalid-logloss:0.66278\n",
            "[300]\ttrain-logloss:0.21625\tvalid-logloss:0.22265\n",
            "[600]\ttrain-logloss:0.20587\tvalid-logloss:0.21872\n",
            "[900]\ttrain-logloss:0.19858\tvalid-logloss:0.21759\n",
            "[1200]\ttrain-logloss:0.19196\tvalid-logloss:0.21713\n",
            "[1250]\ttrain-logloss:0.19093\tvalid-logloss:0.21703\n",
            "Rund no: 289 Metric : 0.792398275021406 Max: 0.7951358214006115\n",
            "[0]\ttrain-logloss:0.66280\tvalid-logloss:0.66278\n",
            "[300]\ttrain-logloss:0.21625\tvalid-logloss:0.22266\n",
            "[600]\ttrain-logloss:0.20590\tvalid-logloss:0.21886\n",
            "[900]\ttrain-logloss:0.19863\tvalid-logloss:0.21771\n",
            "[1200]\ttrain-logloss:0.19209\tvalid-logloss:0.21724\n",
            "[1500]\ttrain-logloss:0.18591\tvalid-logloss:0.21694\n",
            "[1623]\ttrain-logloss:0.18353\tvalid-logloss:0.21693\n",
            "Rund no: 290 Metric : 0.7921817850735917 Max: 0.7951358214006115\n",
            "[0]\ttrain-logloss:0.66280\tvalid-logloss:0.66278\n",
            "[300]\ttrain-logloss:0.21627\tvalid-logloss:0.22267\n",
            "[600]\ttrain-logloss:0.20583\tvalid-logloss:0.21872\n",
            "[900]\ttrain-logloss:0.19863\tvalid-logloss:0.21762\n",
            "[1200]\ttrain-logloss:0.19198\tvalid-logloss:0.21713\n",
            "[1500]\ttrain-logloss:0.18587\tvalid-logloss:0.21688\n",
            "[1661]\ttrain-logloss:0.18273\tvalid-logloss:0.21684\n",
            "Rund no: 291 Metric : 0.7916571223397213 Max: 0.7951358214006115\n",
            "[0]\ttrain-logloss:0.66280\tvalid-logloss:0.66278\n",
            "[300]\ttrain-logloss:0.21626\tvalid-logloss:0.22283\n",
            "[600]\ttrain-logloss:0.20586\tvalid-logloss:0.21892\n",
            "[900]\ttrain-logloss:0.19857\tvalid-logloss:0.21774\n",
            "[1200]\ttrain-logloss:0.19200\tvalid-logloss:0.21736\n",
            "[1353]\ttrain-logloss:0.18880\tvalid-logloss:0.21733\n",
            "Rund no: 292 Metric : 0.7906444781509634 Max: 0.7951358214006115\n",
            "[0]\ttrain-logloss:0.66280\tvalid-logloss:0.66278\n",
            "[300]\ttrain-logloss:0.21624\tvalid-logloss:0.22276\n",
            "[600]\ttrain-logloss:0.20589\tvalid-logloss:0.21898\n",
            "[900]\ttrain-logloss:0.19863\tvalid-logloss:0.21788\n",
            "[1200]\ttrain-logloss:0.19208\tvalid-logloss:0.21746\n",
            "[1500]\ttrain-logloss:0.18602\tvalid-logloss:0.21719\n",
            "[1605]\ttrain-logloss:0.18399\tvalid-logloss:0.21737\n",
            "Rund no: 293 Metric : 0.7928856420739576 Max: 0.7951358214006115\n",
            "[0]\ttrain-logloss:0.66280\tvalid-logloss:0.66278\n",
            "[300]\ttrain-logloss:0.21627\tvalid-logloss:0.22266\n",
            "[600]\ttrain-logloss:0.20587\tvalid-logloss:0.21885\n",
            "[900]\ttrain-logloss:0.19856\tvalid-logloss:0.21782\n",
            "[1200]\ttrain-logloss:0.19200\tvalid-logloss:0.21725\n",
            "[1442]\ttrain-logloss:0.18711\tvalid-logloss:0.21717\n",
            "Rund no: 294 Metric : 0.7929611069584548 Max: 0.7951358214006115\n",
            "[0]\ttrain-logloss:0.66280\tvalid-logloss:0.66278\n",
            "[300]\ttrain-logloss:0.21622\tvalid-logloss:0.22260\n",
            "[600]\ttrain-logloss:0.20593\tvalid-logloss:0.21868\n",
            "[900]\ttrain-logloss:0.19861\tvalid-logloss:0.21756\n",
            "[1200]\ttrain-logloss:0.19202\tvalid-logloss:0.21713\n",
            "[1500]\ttrain-logloss:0.18593\tvalid-logloss:0.21689\n",
            "[1627]\ttrain-logloss:0.18348\tvalid-logloss:0.21695\n",
            "Rund no: 295 Metric : 0.7926616252228753 Max: 0.7951358214006115\n",
            "[0]\ttrain-logloss:0.66280\tvalid-logloss:0.66278\n",
            "[300]\ttrain-logloss:0.21622\tvalid-logloss:0.22271\n",
            "[600]\ttrain-logloss:0.20584\tvalid-logloss:0.21876\n",
            "[900]\ttrain-logloss:0.19855\tvalid-logloss:0.21771\n",
            "[1200]\ttrain-logloss:0.19197\tvalid-logloss:0.21718\n",
            "[1500]\ttrain-logloss:0.18590\tvalid-logloss:0.21682\n",
            "[1672]\ttrain-logloss:0.18258\tvalid-logloss:0.21681\n",
            "Rund no: 296 Metric : 0.7923675745940715 Max: 0.7951358214006115\n",
            "[0]\ttrain-logloss:0.66280\tvalid-logloss:0.66278\n",
            "[300]\ttrain-logloss:0.21624\tvalid-logloss:0.22259\n",
            "[600]\ttrain-logloss:0.20588\tvalid-logloss:0.21868\n",
            "[900]\ttrain-logloss:0.19862\tvalid-logloss:0.21757\n",
            "[1200]\ttrain-logloss:0.19203\tvalid-logloss:0.21716\n",
            "[1500]\ttrain-logloss:0.18597\tvalid-logloss:0.21702\n",
            "[1800]\ttrain-logloss:0.18018\tvalid-logloss:0.21696\n",
            "[1817]\ttrain-logloss:0.17988\tvalid-logloss:0.21698\n",
            "Rund no: 297 Metric : 0.7927028481908733 Max: 0.7951358214006115\n",
            "[0]\ttrain-logloss:0.66280\tvalid-logloss:0.66278\n",
            "[300]\ttrain-logloss:0.21620\tvalid-logloss:0.22259\n",
            "[600]\ttrain-logloss:0.20584\tvalid-logloss:0.21880\n",
            "[900]\ttrain-logloss:0.19855\tvalid-logloss:0.21766\n",
            "[1200]\ttrain-logloss:0.19205\tvalid-logloss:0.21721\n",
            "[1500]\ttrain-logloss:0.18596\tvalid-logloss:0.21688\n",
            "[1661]\ttrain-logloss:0.18286\tvalid-logloss:0.21684\n",
            "Rund no: 298 Metric : 0.7930299721504428 Max: 0.7951358214006115\n",
            "[0]\ttrain-logloss:0.66280\tvalid-logloss:0.66278\n",
            "[300]\ttrain-logloss:0.21626\tvalid-logloss:0.22268\n",
            "[600]\ttrain-logloss:0.20592\tvalid-logloss:0.21882\n",
            "[900]\ttrain-logloss:0.19858\tvalid-logloss:0.21764\n",
            "[1200]\ttrain-logloss:0.19201\tvalid-logloss:0.21718\n",
            "[1243]\ttrain-logloss:0.19110\tvalid-logloss:0.21712\n",
            "Rund no: 299 Metric : 0.7922428488713806 Max: 0.7951358214006115\n",
            "[0]\ttrain-logloss:0.66280\tvalid-logloss:0.66278\n",
            "[300]\ttrain-logloss:0.21626\tvalid-logloss:0.22269\n",
            "[600]\ttrain-logloss:0.20589\tvalid-logloss:0.21873\n",
            "[900]\ttrain-logloss:0.19864\tvalid-logloss:0.21774\n",
            "[1200]\ttrain-logloss:0.19202\tvalid-logloss:0.21724\n",
            "[1247]\ttrain-logloss:0.19103\tvalid-logloss:0.21721\n",
            "Rund no: 300 Metric : 0.7924169062293391 Max: 0.7951358214006115\n",
            "[0]\ttrain-logloss:0.66280\tvalid-logloss:0.66278\n",
            "[300]\ttrain-logloss:0.21627\tvalid-logloss:0.22265\n",
            "[600]\ttrain-logloss:0.20587\tvalid-logloss:0.21872\n",
            "[900]\ttrain-logloss:0.19857\tvalid-logloss:0.21759\n",
            "[1200]\ttrain-logloss:0.19201\tvalid-logloss:0.21715\n",
            "[1500]\ttrain-logloss:0.18591\tvalid-logloss:0.21695\n",
            "[1800]\ttrain-logloss:0.18011\tvalid-logloss:0.21684\n",
            "[1828]\ttrain-logloss:0.17960\tvalid-logloss:0.21682\n",
            "Rund no: 301 Metric : 0.7924015476102609 Max: 0.7951358214006115\n",
            "[0]\ttrain-logloss:0.66280\tvalid-logloss:0.66278\n",
            "[300]\ttrain-logloss:0.21626\tvalid-logloss:0.22268\n",
            "[600]\ttrain-logloss:0.20593\tvalid-logloss:0.21876\n",
            "[900]\ttrain-logloss:0.19865\tvalid-logloss:0.21751\n",
            "[1200]\ttrain-logloss:0.19213\tvalid-logloss:0.21712\n",
            "[1249]\ttrain-logloss:0.19110\tvalid-logloss:0.21709\n",
            "Rund no: 302 Metric : 0.7933423860851256 Max: 0.7951358214006115\n",
            "[0]\ttrain-logloss:0.66280\tvalid-logloss:0.66278\n",
            "[300]\ttrain-logloss:0.21626\tvalid-logloss:0.22260\n",
            "[600]\ttrain-logloss:0.20585\tvalid-logloss:0.21869\n",
            "[900]\ttrain-logloss:0.19861\tvalid-logloss:0.21759\n",
            "[1200]\ttrain-logloss:0.19206\tvalid-logloss:0.21703\n",
            "[1423]\ttrain-logloss:0.18747\tvalid-logloss:0.21698\n",
            "Rund no: 303 Metric : 0.7924971957841631 Max: 0.7951358214006115\n",
            "[0]\ttrain-logloss:0.66280\tvalid-logloss:0.66278\n",
            "[300]\ttrain-logloss:0.21624\tvalid-logloss:0.22274\n",
            "[600]\ttrain-logloss:0.20591\tvalid-logloss:0.21893\n",
            "[900]\ttrain-logloss:0.19854\tvalid-logloss:0.21772\n",
            "[1200]\ttrain-logloss:0.19195\tvalid-logloss:0.21723\n",
            "[1500]\ttrain-logloss:0.18586\tvalid-logloss:0.21699\n",
            "[1662]\ttrain-logloss:0.18271\tvalid-logloss:0.21699\n",
            "Rund no: 304 Metric : 0.7920727548201646 Max: 0.7951358214006115\n",
            "[0]\ttrain-logloss:0.66280\tvalid-logloss:0.66278\n",
            "[300]\ttrain-logloss:0.21627\tvalid-logloss:0.22265\n",
            "[600]\ttrain-logloss:0.20591\tvalid-logloss:0.21876\n",
            "[900]\ttrain-logloss:0.19865\tvalid-logloss:0.21768\n",
            "[1200]\ttrain-logloss:0.19207\tvalid-logloss:0.21719\n",
            "[1500]\ttrain-logloss:0.18594\tvalid-logloss:0.21692\n",
            "[1800]\ttrain-logloss:0.18016\tvalid-logloss:0.21680\n",
            "[1965]\ttrain-logloss:0.17719\tvalid-logloss:0.21678\n",
            "Rund no: 305 Metric : 0.7925704967896723 Max: 0.7951358214006115\n",
            "[0]\ttrain-logloss:0.66280\tvalid-logloss:0.66278\n",
            "[300]\ttrain-logloss:0.21629\tvalid-logloss:0.22270\n",
            "[600]\ttrain-logloss:0.20591\tvalid-logloss:0.21886\n",
            "[900]\ttrain-logloss:0.19857\tvalid-logloss:0.21761\n",
            "[1200]\ttrain-logloss:0.19199\tvalid-logloss:0.21708\n",
            "[1500]\ttrain-logloss:0.18588\tvalid-logloss:0.21684\n",
            "[1734]\ttrain-logloss:0.18137\tvalid-logloss:0.21677\n",
            "Rund no: 306 Metric : 0.7927023250809112 Max: 0.7951358214006115\n",
            "[0]\ttrain-logloss:0.66280\tvalid-logloss:0.66278\n",
            "[300]\ttrain-logloss:0.21627\tvalid-logloss:0.22285\n",
            "[600]\ttrain-logloss:0.20583\tvalid-logloss:0.21890\n",
            "[900]\ttrain-logloss:0.19855\tvalid-logloss:0.21783\n",
            "[1200]\ttrain-logloss:0.19200\tvalid-logloss:0.21726\n",
            "[1500]\ttrain-logloss:0.18587\tvalid-logloss:0.21692\n",
            "[1660]\ttrain-logloss:0.18272\tvalid-logloss:0.21693\n",
            "Rund no: 307 Metric : 0.7925607927694842 Max: 0.7951358214006115\n",
            "[0]\ttrain-logloss:0.66280\tvalid-logloss:0.66278\n",
            "[300]\ttrain-logloss:0.21627\tvalid-logloss:0.22290\n",
            "[600]\ttrain-logloss:0.20594\tvalid-logloss:0.21896\n",
            "[900]\ttrain-logloss:0.19864\tvalid-logloss:0.21774\n",
            "[1200]\ttrain-logloss:0.19197\tvalid-logloss:0.21715\n",
            "[1428]\ttrain-logloss:0.18733\tvalid-logloss:0.21706\n",
            "Rund no: 308 Metric : 0.7912421880104537 Max: 0.7951358214006115\n",
            "[0]\ttrain-logloss:0.66280\tvalid-logloss:0.66278\n",
            "[300]\ttrain-logloss:0.21619\tvalid-logloss:0.22264\n",
            "[600]\ttrain-logloss:0.20580\tvalid-logloss:0.21865\n",
            "[900]\ttrain-logloss:0.19857\tvalid-logloss:0.21753\n",
            "[1200]\ttrain-logloss:0.19203\tvalid-logloss:0.21701\n",
            "[1500]\ttrain-logloss:0.18589\tvalid-logloss:0.21678\n",
            "[1660]\ttrain-logloss:0.18277\tvalid-logloss:0.21673\n",
            "Rund no: 309 Metric : 0.7937363595251893 Max: 0.7951358214006115\n",
            "[0]\ttrain-logloss:0.66280\tvalid-logloss:0.66278\n",
            "[300]\ttrain-logloss:0.21627\tvalid-logloss:0.22265\n",
            "[600]\ttrain-logloss:0.20585\tvalid-logloss:0.21870\n",
            "[900]\ttrain-logloss:0.19859\tvalid-logloss:0.21765\n",
            "[1200]\ttrain-logloss:0.19199\tvalid-logloss:0.21710\n",
            "[1500]\ttrain-logloss:0.18592\tvalid-logloss:0.21681\n",
            "[1654]\ttrain-logloss:0.18292\tvalid-logloss:0.21678\n",
            "Rund no: 310 Metric : 0.7936926470125347 Max: 0.7951358214006115\n",
            "[0]\ttrain-logloss:0.66280\tvalid-logloss:0.66278\n",
            "[300]\ttrain-logloss:0.21627\tvalid-logloss:0.22265\n",
            "[600]\ttrain-logloss:0.20588\tvalid-logloss:0.21873\n",
            "[900]\ttrain-logloss:0.19861\tvalid-logloss:0.21753\n",
            "[1200]\ttrain-logloss:0.19205\tvalid-logloss:0.21701\n",
            "[1500]\ttrain-logloss:0.18596\tvalid-logloss:0.21679\n",
            "[1721]\ttrain-logloss:0.18163\tvalid-logloss:0.21675\n",
            "Rund no: 311 Metric : 0.7919553991381051 Max: 0.7951358214006115\n",
            "[0]\ttrain-logloss:0.66280\tvalid-logloss:0.66278\n",
            "[300]\ttrain-logloss:0.21628\tvalid-logloss:0.22278\n",
            "[600]\ttrain-logloss:0.20587\tvalid-logloss:0.21888\n",
            "[900]\ttrain-logloss:0.19856\tvalid-logloss:0.21765\n",
            "[1200]\ttrain-logloss:0.19202\tvalid-logloss:0.21720\n",
            "[1500]\ttrain-logloss:0.18595\tvalid-logloss:0.21698\n",
            "[1800]\ttrain-logloss:0.18021\tvalid-logloss:0.21691\n",
            "[1801]\ttrain-logloss:0.18020\tvalid-logloss:0.21691\n",
            "Rund no: 312 Metric : 0.7931143246961904 Max: 0.7951358214006115\n",
            "[0]\ttrain-logloss:0.66280\tvalid-logloss:0.66278\n",
            "[300]\ttrain-logloss:0.21620\tvalid-logloss:0.22272\n",
            "[600]\ttrain-logloss:0.20581\tvalid-logloss:0.21873\n",
            "[900]\ttrain-logloss:0.19856\tvalid-logloss:0.21757\n",
            "[1200]\ttrain-logloss:0.19198\tvalid-logloss:0.21698\n",
            "[1500]\ttrain-logloss:0.18598\tvalid-logloss:0.21674\n",
            "[1581]\ttrain-logloss:0.18438\tvalid-logloss:0.21673\n",
            "Rund no: 313 Metric : 0.7923206096924382 Max: 0.7951358214006115\n",
            "[0]\ttrain-logloss:0.66280\tvalid-logloss:0.66278\n",
            "[300]\ttrain-logloss:0.21622\tvalid-logloss:0.22266\n",
            "[600]\ttrain-logloss:0.20589\tvalid-logloss:0.21889\n",
            "[900]\ttrain-logloss:0.19864\tvalid-logloss:0.21774\n",
            "[1200]\ttrain-logloss:0.19198\tvalid-logloss:0.21726\n",
            "[1500]\ttrain-logloss:0.18582\tvalid-logloss:0.21701\n",
            "[1626]\ttrain-logloss:0.18337\tvalid-logloss:0.21701\n",
            "Rund no: 314 Metric : 0.7928089445790707 Max: 0.7951358214006115\n",
            "[0]\ttrain-logloss:0.66280\tvalid-logloss:0.66278\n",
            "[300]\ttrain-logloss:0.21626\tvalid-logloss:0.22270\n",
            "[600]\ttrain-logloss:0.20585\tvalid-logloss:0.21885\n",
            "[900]\ttrain-logloss:0.19855\tvalid-logloss:0.21764\n",
            "[1200]\ttrain-logloss:0.19203\tvalid-logloss:0.21722\n",
            "[1500]\ttrain-logloss:0.18593\tvalid-logloss:0.21700\n",
            "[1660]\ttrain-logloss:0.18280\tvalid-logloss:0.21698\n",
            "Rund no: 315 Metric : 0.792366047596212 Max: 0.7951358214006115\n",
            "[0]\ttrain-logloss:0.66280\tvalid-logloss:0.66278\n",
            "[300]\ttrain-logloss:0.21626\tvalid-logloss:0.22269\n",
            "[600]\ttrain-logloss:0.20585\tvalid-logloss:0.21881\n",
            "[900]\ttrain-logloss:0.19854\tvalid-logloss:0.21772\n",
            "[1200]\ttrain-logloss:0.19199\tvalid-logloss:0.21721\n",
            "[1500]\ttrain-logloss:0.18589\tvalid-logloss:0.21692\n",
            "[1662]\ttrain-logloss:0.18273\tvalid-logloss:0.21688\n",
            "Rund no: 316 Metric : 0.7929003660965142 Max: 0.7951358214006115\n",
            "[0]\ttrain-logloss:0.66280\tvalid-logloss:0.66278\n",
            "[300]\ttrain-logloss:0.21622\tvalid-logloss:0.22263\n",
            "[600]\ttrain-logloss:0.20585\tvalid-logloss:0.21871\n",
            "[900]\ttrain-logloss:0.19862\tvalid-logloss:0.21766\n",
            "[1200]\ttrain-logloss:0.19208\tvalid-logloss:0.21726\n",
            "[1500]\ttrain-logloss:0.18597\tvalid-logloss:0.21703\n",
            "[1661]\ttrain-logloss:0.18282\tvalid-logloss:0.21707\n",
            "Rund no: 317 Metric : 0.7916965210351636 Max: 0.7951358214006115\n",
            "[0]\ttrain-logloss:0.66280\tvalid-logloss:0.66278\n",
            "[300]\ttrain-logloss:0.21621\tvalid-logloss:0.22261\n",
            "[600]\ttrain-logloss:0.20588\tvalid-logloss:0.21878\n",
            "[900]\ttrain-logloss:0.19864\tvalid-logloss:0.21765\n",
            "[1200]\ttrain-logloss:0.19210\tvalid-logloss:0.21721\n",
            "[1500]\ttrain-logloss:0.18598\tvalid-logloss:0.21685\n",
            "[1652]\ttrain-logloss:0.18303\tvalid-logloss:0.21684\n",
            "Rund no: 318 Metric : 0.7931955685250198 Max: 0.7951358214006115\n",
            "[0]\ttrain-logloss:0.66280\tvalid-logloss:0.66278\n",
            "[300]\ttrain-logloss:0.21624\tvalid-logloss:0.22268\n",
            "[600]\ttrain-logloss:0.20593\tvalid-logloss:0.21870\n",
            "[900]\ttrain-logloss:0.19865\tvalid-logloss:0.21755\n",
            "[1200]\ttrain-logloss:0.19209\tvalid-logloss:0.21710\n",
            "[1500]\ttrain-logloss:0.18600\tvalid-logloss:0.21689\n",
            "[1689]\ttrain-logloss:0.18235\tvalid-logloss:0.21685\n",
            "Rund no: 319 Metric : 0.7937286309891004 Max: 0.7951358214006115\n",
            "[0]\ttrain-logloss:0.66280\tvalid-logloss:0.66278\n",
            "[300]\ttrain-logloss:0.21619\tvalid-logloss:0.22289\n",
            "[600]\ttrain-logloss:0.20590\tvalid-logloss:0.21901\n",
            "[900]\ttrain-logloss:0.19859\tvalid-logloss:0.21790\n",
            "[1200]\ttrain-logloss:0.19204\tvalid-logloss:0.21735\n",
            "[1500]\ttrain-logloss:0.18601\tvalid-logloss:0.21702\n",
            "[1800]\ttrain-logloss:0.18020\tvalid-logloss:0.21699\n",
            "[1816]\ttrain-logloss:0.17994\tvalid-logloss:0.21700\n",
            "Rund no: 320 Metric : 0.7938256284314935 Max: 0.7951358214006115\n",
            "[0]\ttrain-logloss:0.66280\tvalid-logloss:0.66278\n",
            "[300]\ttrain-logloss:0.21620\tvalid-logloss:0.22262\n",
            "[600]\ttrain-logloss:0.20582\tvalid-logloss:0.21876\n",
            "[900]\ttrain-logloss:0.19858\tvalid-logloss:0.21767\n",
            "[1200]\ttrain-logloss:0.19198\tvalid-logloss:0.21718\n",
            "[1500]\ttrain-logloss:0.18590\tvalid-logloss:0.21698\n",
            "[1701]\ttrain-logloss:0.18199\tvalid-logloss:0.21691\n",
            "Rund no: 321 Metric : 0.7933519210939506 Max: 0.7951358214006115\n",
            "[0]\ttrain-logloss:0.66280\tvalid-logloss:0.66278\n",
            "[300]\ttrain-logloss:0.21623\tvalid-logloss:0.22265\n",
            "[600]\ttrain-logloss:0.20587\tvalid-logloss:0.21880\n",
            "[900]\ttrain-logloss:0.19856\tvalid-logloss:0.21768\n",
            "[1200]\ttrain-logloss:0.19200\tvalid-logloss:0.21729\n",
            "[1241]\ttrain-logloss:0.19114\tvalid-logloss:0.21720\n",
            "Rund no: 322 Metric : 0.7924109986088692 Max: 0.7951358214006115\n",
            "[0]\ttrain-logloss:0.66280\tvalid-logloss:0.66278\n",
            "[300]\ttrain-logloss:0.21629\tvalid-logloss:0.22273\n",
            "[600]\ttrain-logloss:0.20582\tvalid-logloss:0.21885\n",
            "[900]\ttrain-logloss:0.19848\tvalid-logloss:0.21766\n",
            "[1200]\ttrain-logloss:0.19193\tvalid-logloss:0.21726\n",
            "[1243]\ttrain-logloss:0.19103\tvalid-logloss:0.21721\n",
            "Rund no: 323 Metric : 0.7930190899437117 Max: 0.7951358214006115\n",
            "[0]\ttrain-logloss:0.66280\tvalid-logloss:0.66278\n",
            "[300]\ttrain-logloss:0.21625\tvalid-logloss:0.22274\n",
            "[600]\ttrain-logloss:0.20591\tvalid-logloss:0.21890\n",
            "[900]\ttrain-logloss:0.19860\tvalid-logloss:0.21781\n",
            "[1200]\ttrain-logloss:0.19202\tvalid-logloss:0.21724\n",
            "[1500]\ttrain-logloss:0.18597\tvalid-logloss:0.21699\n",
            "[1660]\ttrain-logloss:0.18288\tvalid-logloss:0.21698\n",
            "Rund no: 324 Metric : 0.7929176200237408 Max: 0.7951358214006115\n",
            "[0]\ttrain-logloss:0.66280\tvalid-logloss:0.66278\n",
            "[300]\ttrain-logloss:0.21625\tvalid-logloss:0.22263\n",
            "[600]\ttrain-logloss:0.20588\tvalid-logloss:0.21866\n",
            "[900]\ttrain-logloss:0.19859\tvalid-logloss:0.21753\n",
            "[1200]\ttrain-logloss:0.19194\tvalid-logloss:0.21705\n",
            "[1500]\ttrain-logloss:0.18590\tvalid-logloss:0.21683\n",
            "[1661]\ttrain-logloss:0.18278\tvalid-logloss:0.21688\n",
            "Rund no: 325 Metric : 0.7920030071647405 Max: 0.7951358214006115\n",
            "[0]\ttrain-logloss:0.66280\tvalid-logloss:0.66278\n",
            "[300]\ttrain-logloss:0.21624\tvalid-logloss:0.22270\n",
            "[600]\ttrain-logloss:0.20587\tvalid-logloss:0.21882\n",
            "[900]\ttrain-logloss:0.19860\tvalid-logloss:0.21765\n",
            "[1200]\ttrain-logloss:0.19205\tvalid-logloss:0.21713\n",
            "[1500]\ttrain-logloss:0.18602\tvalid-logloss:0.21683\n",
            "[1717]\ttrain-logloss:0.18184\tvalid-logloss:0.21684\n",
            "Rund no: 326 Metric : 0.7922704747469329 Max: 0.7951358214006115\n",
            "[0]\ttrain-logloss:0.66280\tvalid-logloss:0.66278\n",
            "[300]\ttrain-logloss:0.21625\tvalid-logloss:0.22271\n",
            "[600]\ttrain-logloss:0.20589\tvalid-logloss:0.21885\n",
            "[900]\ttrain-logloss:0.19857\tvalid-logloss:0.21773\n",
            "[1200]\ttrain-logloss:0.19203\tvalid-logloss:0.21732\n",
            "[1500]\ttrain-logloss:0.18596\tvalid-logloss:0.21709\n",
            "[1670]\ttrain-logloss:0.18264\tvalid-logloss:0.21709\n",
            "Rund no: 327 Metric : 0.7928490769757476 Max: 0.7951358214006115\n",
            "[0]\ttrain-logloss:0.66280\tvalid-logloss:0.66278\n",
            "[300]\ttrain-logloss:0.21628\tvalid-logloss:0.22284\n",
            "[600]\ttrain-logloss:0.20595\tvalid-logloss:0.21897\n",
            "[900]\ttrain-logloss:0.19867\tvalid-logloss:0.21790\n",
            "[1200]\ttrain-logloss:0.19208\tvalid-logloss:0.21735\n",
            "[1361]\ttrain-logloss:0.18876\tvalid-logloss:0.21730\n",
            "Rund no: 328 Metric : 0.7921565836460022 Max: 0.7951358214006115\n",
            "[0]\ttrain-logloss:0.66280\tvalid-logloss:0.66278\n",
            "[300]\ttrain-logloss:0.21627\tvalid-logloss:0.22265\n",
            "[600]\ttrain-logloss:0.20587\tvalid-logloss:0.21878\n",
            "[900]\ttrain-logloss:0.19861\tvalid-logloss:0.21768\n",
            "[1200]\ttrain-logloss:0.19202\tvalid-logloss:0.21723\n",
            "[1420]\ttrain-logloss:0.18752\tvalid-logloss:0.21713\n",
            "Rund no: 329 Metric : 0.7923673312811308 Max: 0.7951358214006115\n"
          ]
        }
      ],
      "source": [
        "import csv\n",
        "\n",
        "thresh = 0.7922\n",
        "results = pd.DataFrame({'feature':[], 'result':[]})\n",
        "acc_hist = []\n",
        "\n",
        "\n",
        "\n",
        "for i, (m,k) in enumerate(features_select):\n",
        "  X_train[f'{m}_{k}'] = X_train[m]*X_train[k]\n",
        "  X_test[f'{m}_{k}'] = X_test[m]*X_train[k]\n",
        "\n",
        "\n",
        "  dtrain = xgb.DMatrix(data=X_train, label=y_train)\n",
        "  dvalid = xgb.DMatrix(data=X_test, label=y_test)\n",
        "\n",
        "  model = xgb.train(xgb_parms, \n",
        "                      dtrain=dtrain,\n",
        "                      evals=[(dtrain,'train'),(dvalid,'valid')],\n",
        "                      num_boost_round=9999,\n",
        "                      early_stopping_rounds=100,\n",
        "                      verbose_eval=300) \n",
        "          #model.save_model(f'/content/drive/MyDrive/Amex/parquet/XGB v2/XGB_{i}.xgb')\n",
        "\n",
        "  oof_preds = model.predict(dvalid)\n",
        "  acc = amex_metric_mod(y_test.iloc[:,0].values, oof_preds)\n",
        "\n",
        "  if i > 0: print('Rund no:',i, 'Metric :' ,acc, 'Max:' , max(max(acc_hist), acc))\n",
        "  else: print('Rund no: ',i, 'Metric : ' ,acc)\n",
        "\n",
        "  results = results.append({'feature': f'{m}_{k}', 'result': acc}, ignore_index = True)\n",
        "\n",
        "  del dtrain, dvalid, model\n",
        "  _ = gc.collect\n",
        "\n",
        "\n",
        "  if i ==0: \n",
        "    if acc <= thresh:\n",
        "      X_train = X_train_base.copy()\n",
        "      X_test = X_test_base.copy()\n",
        "      keep = 'no'\n",
        "    else: keep = 'yes'\n",
        "  elif i != 0:\n",
        "    if acc <= max(acc_hist):\n",
        "      X_train = X_train.drop([f'{m}_{k}'], axis =1)\n",
        "      X_test = X_test.drop([f'{m}_{k}'], axis =1)\n",
        "      keep = 'no'\n",
        "    else: keep = 'yes'\n",
        "\n",
        "  acc_hist.append(acc)\n",
        "  res = [f'{m}_{k}',m,k, acc, keep ]\n",
        "\n",
        "  write_results(res)\n",
        "\n",
        "  del keep, res\n",
        "\n",
        "\n",
        "\n",
        "      \n"
      ]
    },
    {
      "cell_type": "code",
      "execution_count": null,
      "metadata": {
        "id": "n3Msg6i2X0Ns"
      },
      "outputs": [],
      "source": [
        ""
      ]
    },
    {
      "cell_type": "code",
      "source": [
        "res_final = pd.read_csv('/content/drive/MyDrive/Amex/parquet/XGB v2/results.csv')"
      ],
      "metadata": {
        "id": "SoTTzzRwC7Pr"
      },
      "execution_count": null,
      "outputs": []
    },
    {
      "cell_type": "code",
      "source": [
        "res_final = res_final[res_final['keep']=='yes']"
      ],
      "metadata": {
        "id": "jUi-a4KTFVCB"
      },
      "execution_count": null,
      "outputs": []
    },
    {
      "cell_type": "code",
      "source": [
        "res_final"
      ],
      "metadata": {
        "colab": {
          "base_uri": "https://localhost:8080/",
          "height": 175
        },
        "id": "QEj5TSwCIIiU",
        "outputId": "52105fbe-ae80-422b-e4a9-52c20ce5a32a"
      },
      "execution_count": null,
      "outputs": [
        {
          "output_type": "execute_result",
          "data": {
            "text/plain": [
              "                feature         F1         F2    result keep\n",
              "1   S_26_mean_B_14_mean  S_26_mean  B_14_mean  0.792653  yes\n",
              "2   S_26_mean_B_13_mean  S_26_mean  B_13_mean  0.793230  yes\n",
              "63   B_26_mean_B_3_mean  B_26_mean   B_3_mean  0.794010  yes\n",
              "95  R_27_mean_D_48_mean  R_27_mean  D_48_mean  0.795136  yes"
            ],
            "text/html": [
              "\n",
              "  <div id=\"df-2ded8bac-458b-4223-a30f-a1a74991f898\">\n",
              "    <div class=\"colab-df-container\">\n",
              "      <div>\n",
              "<style scoped>\n",
              "    .dataframe tbody tr th:only-of-type {\n",
              "        vertical-align: middle;\n",
              "    }\n",
              "\n",
              "    .dataframe tbody tr th {\n",
              "        vertical-align: top;\n",
              "    }\n",
              "\n",
              "    .dataframe thead th {\n",
              "        text-align: right;\n",
              "    }\n",
              "</style>\n",
              "<table border=\"1\" class=\"dataframe\">\n",
              "  <thead>\n",
              "    <tr style=\"text-align: right;\">\n",
              "      <th></th>\n",
              "      <th>feature</th>\n",
              "      <th>F1</th>\n",
              "      <th>F2</th>\n",
              "      <th>result</th>\n",
              "      <th>keep</th>\n",
              "    </tr>\n",
              "  </thead>\n",
              "  <tbody>\n",
              "    <tr>\n",
              "      <th>1</th>\n",
              "      <td>S_26_mean_B_14_mean</td>\n",
              "      <td>S_26_mean</td>\n",
              "      <td>B_14_mean</td>\n",
              "      <td>0.792653</td>\n",
              "      <td>yes</td>\n",
              "    </tr>\n",
              "    <tr>\n",
              "      <th>2</th>\n",
              "      <td>S_26_mean_B_13_mean</td>\n",
              "      <td>S_26_mean</td>\n",
              "      <td>B_13_mean</td>\n",
              "      <td>0.793230</td>\n",
              "      <td>yes</td>\n",
              "    </tr>\n",
              "    <tr>\n",
              "      <th>63</th>\n",
              "      <td>B_26_mean_B_3_mean</td>\n",
              "      <td>B_26_mean</td>\n",
              "      <td>B_3_mean</td>\n",
              "      <td>0.794010</td>\n",
              "      <td>yes</td>\n",
              "    </tr>\n",
              "    <tr>\n",
              "      <th>95</th>\n",
              "      <td>R_27_mean_D_48_mean</td>\n",
              "      <td>R_27_mean</td>\n",
              "      <td>D_48_mean</td>\n",
              "      <td>0.795136</td>\n",
              "      <td>yes</td>\n",
              "    </tr>\n",
              "  </tbody>\n",
              "</table>\n",
              "</div>\n",
              "      <button class=\"colab-df-convert\" onclick=\"convertToInteractive('df-2ded8bac-458b-4223-a30f-a1a74991f898')\"\n",
              "              title=\"Convert this dataframe to an interactive table.\"\n",
              "              style=\"display:none;\">\n",
              "        \n",
              "  <svg xmlns=\"http://www.w3.org/2000/svg\" height=\"24px\"viewBox=\"0 0 24 24\"\n",
              "       width=\"24px\">\n",
              "    <path d=\"M0 0h24v24H0V0z\" fill=\"none\"/>\n",
              "    <path d=\"M18.56 5.44l.94 2.06.94-2.06 2.06-.94-2.06-.94-.94-2.06-.94 2.06-2.06.94zm-11 1L8.5 8.5l.94-2.06 2.06-.94-2.06-.94L8.5 2.5l-.94 2.06-2.06.94zm10 10l.94 2.06.94-2.06 2.06-.94-2.06-.94-.94-2.06-.94 2.06-2.06.94z\"/><path d=\"M17.41 7.96l-1.37-1.37c-.4-.4-.92-.59-1.43-.59-.52 0-1.04.2-1.43.59L10.3 9.45l-7.72 7.72c-.78.78-.78 2.05 0 2.83L4 21.41c.39.39.9.59 1.41.59.51 0 1.02-.2 1.41-.59l7.78-7.78 2.81-2.81c.8-.78.8-2.07 0-2.86zM5.41 20L4 18.59l7.72-7.72 1.47 1.35L5.41 20z\"/>\n",
              "  </svg>\n",
              "      </button>\n",
              "      \n",
              "  <style>\n",
              "    .colab-df-container {\n",
              "      display:flex;\n",
              "      flex-wrap:wrap;\n",
              "      gap: 12px;\n",
              "    }\n",
              "\n",
              "    .colab-df-convert {\n",
              "      background-color: #E8F0FE;\n",
              "      border: none;\n",
              "      border-radius: 50%;\n",
              "      cursor: pointer;\n",
              "      display: none;\n",
              "      fill: #1967D2;\n",
              "      height: 32px;\n",
              "      padding: 0 0 0 0;\n",
              "      width: 32px;\n",
              "    }\n",
              "\n",
              "    .colab-df-convert:hover {\n",
              "      background-color: #E2EBFA;\n",
              "      box-shadow: 0px 1px 2px rgba(60, 64, 67, 0.3), 0px 1px 3px 1px rgba(60, 64, 67, 0.15);\n",
              "      fill: #174EA6;\n",
              "    }\n",
              "\n",
              "    [theme=dark] .colab-df-convert {\n",
              "      background-color: #3B4455;\n",
              "      fill: #D2E3FC;\n",
              "    }\n",
              "\n",
              "    [theme=dark] .colab-df-convert:hover {\n",
              "      background-color: #434B5C;\n",
              "      box-shadow: 0px 1px 3px 1px rgba(0, 0, 0, 0.15);\n",
              "      filter: drop-shadow(0px 1px 2px rgba(0, 0, 0, 0.3));\n",
              "      fill: #FFFFFF;\n",
              "    }\n",
              "  </style>\n",
              "\n",
              "      <script>\n",
              "        const buttonEl =\n",
              "          document.querySelector('#df-2ded8bac-458b-4223-a30f-a1a74991f898 button.colab-df-convert');\n",
              "        buttonEl.style.display =\n",
              "          google.colab.kernel.accessAllowed ? 'block' : 'none';\n",
              "\n",
              "        async function convertToInteractive(key) {\n",
              "          const element = document.querySelector('#df-2ded8bac-458b-4223-a30f-a1a74991f898');\n",
              "          const dataTable =\n",
              "            await google.colab.kernel.invokeFunction('convertToInteractive',\n",
              "                                                     [key], {});\n",
              "          if (!dataTable) return;\n",
              "\n",
              "          const docLinkHtml = 'Like what you see? Visit the ' +\n",
              "            '<a target=\"_blank\" href=https://colab.research.google.com/notebooks/data_table.ipynb>data table notebook</a>'\n",
              "            + ' to learn more about interactive tables.';\n",
              "          element.innerHTML = '';\n",
              "          dataTable['output_type'] = 'display_data';\n",
              "          await google.colab.output.renderOutput(dataTable, element);\n",
              "          const docLink = document.createElement('div');\n",
              "          docLink.innerHTML = docLinkHtml;\n",
              "          element.appendChild(docLink);\n",
              "        }\n",
              "      </script>\n",
              "    </div>\n",
              "  </div>\n",
              "  "
            ]
          },
          "metadata": {},
          "execution_count": 71
        }
      ]
    },
    {
      "cell_type": "code",
      "source": [
        "col_added = list(zip(res_final.loc[:,'F1'], res_final.loc[:,'F2']))\n",
        "col_added"
      ],
      "metadata": {
        "colab": {
          "base_uri": "https://localhost:8080/"
        },
        "id": "epRmw1I6ILWi",
        "outputId": "3c4d752d-ac48-4a84-a19e-ca752c70da4d"
      },
      "execution_count": null,
      "outputs": [
        {
          "output_type": "execute_result",
          "data": {
            "text/plain": [
              "[('S_26_mean', 'B_14_mean'),\n",
              " ('S_26_mean', 'B_13_mean'),\n",
              " ('B_26_mean', 'B_3_mean'),\n",
              " ('R_27_mean', 'D_48_mean')]"
            ]
          },
          "metadata": {},
          "execution_count": 73
        }
      ]
    },
    {
      "cell_type": "code",
      "source": [
        "col_ad = []\n",
        "\n",
        "for m,k in col_added:\n",
        "  train[f'{m}_{k}']= train[m]*train[k] \n",
        "  col_ad = col_ad + [f'{m}_{k}']"
      ],
      "metadata": {
        "id": "EpyLSeq2ILS5"
      },
      "execution_count": null,
      "outputs": []
    },
    {
      "cell_type": "code",
      "source": [
        ""
      ],
      "metadata": {
        "colab": {
          "base_uri": "https://localhost:8080/",
          "height": 171
        },
        "id": "W0nL-G8MSVMl",
        "outputId": "82587af4-b096-4591-80bb-26360665abb9"
      },
      "execution_count": null,
      "outputs": [
        {
          "output_type": "error",
          "ename": "NameError",
          "evalue": "ignored",
          "traceback": [
            "\u001b[0;31m---------------------------------------------------------------------------\u001b[0m",
            "\u001b[0;31mNameError\u001b[0m                                 Traceback (most recent call last)",
            "\u001b[0;32m<ipython-input-119-0c1cdefd54ea>\u001b[0m in \u001b[0;36m<module>\u001b[0;34m()\u001b[0m\n\u001b[0;32m----> 1\u001b[0;31m \u001b[0mX_test\u001b[0m\u001b[0;34m\u001b[0m\u001b[0;34m\u001b[0m\u001b[0m\n\u001b[0m",
            "\u001b[0;31mNameError\u001b[0m: name 'X_test' is not defined"
          ]
        }
      ]
    },
    {
      "cell_type": "code",
      "source": [
        "col_ad =pd.Index(col_ad)\n"
      ],
      "metadata": {
        "colab": {
          "base_uri": "https://localhost:8080/"
        },
        "id": "MQCbJhYUOrsg",
        "outputId": "9e67d624-8bfc-42f5-c469-74f5e2385988"
      },
      "execution_count": null,
      "outputs": [
        {
          "output_type": "execute_result",
          "data": {
            "text/plain": [
              "Index(['S_26_mean_B_14_mean', 'S_26_mean_B_13_mean', 'B_26_mean_B_3_mean',\n",
              "       'R_27_mean_D_48_mean'],\n",
              "      dtype='object')"
            ]
          },
          "metadata": {},
          "execution_count": 106
        }
      ]
    },
    {
      "cell_type": "code",
      "source": [
        "FEATURES = FEATURES.append(col_ad)\n",
        "FEATURES"
      ],
      "metadata": {
        "id": "iX3i1WrgO_2-"
      },
      "execution_count": null,
      "outputs": []
    },
    {
      "cell_type": "code",
      "source": [
        "del X_train, X_train_base, X_test, X_test_base, y_train, y_test\n",
        "_ = gc.collect"
      ],
      "metadata": {
        "id": "xQj9-CmPFtIO"
      },
      "execution_count": null,
      "outputs": []
    },
    {
      "cell_type": "code",
      "execution_count": null,
      "metadata": {
        "id": "Pry4EU1SIfK8"
      },
      "outputs": [],
      "source": [
        "# NEEDED WITH DeviceQuantileDMatrix BELOW\n",
        "class IterLoadForDMatrix(xgb.core.DataIter):\n",
        "    def __init__(self, df=None, features=None, target=None, batch_size=256*1024):\n",
        "        self.features = features\n",
        "        self.target = target\n",
        "        self.df = df\n",
        "        self.it = 0 # set iterator to 0\n",
        "        self.batch_size = batch_size\n",
        "        self.batches = int( np.ceil( len(df) / self.batch_size ) )\n",
        "        super().__init__()\n",
        "\n",
        "    def reset(self):\n",
        "        '''Reset the iterator'''\n",
        "        self.it = 0\n",
        "\n",
        "    def next(self, input_data):\n",
        "        '''Yield next batch of data.'''\n",
        "        if self.it == self.batches:\n",
        "            return 0 # Return 0 when there's no more batch.\n",
        "        \n",
        "        a = self.it * self.batch_size\n",
        "        b = min( (self.it + 1) * self.batch_size, len(self.df) )\n",
        "        dt = cudf.DataFrame(self.df.iloc[a:b])\n",
        "        input_data(data=dt[self.features], label=dt[self.target]) #, weight=dt['weight'])\n",
        "        self.it += 1\n",
        "        return 1"
      ]
    },
    {
      "cell_type": "code",
      "execution_count": null,
      "metadata": {
        "id": "TnZKA9EO-76N",
        "colab": {
          "base_uri": "https://localhost:8080/",
          "height": 244
        },
        "outputId": "2a7b2990-bd4b-461b-ab61-f2b6f2634faf"
      },
      "outputs": [
        {
          "output_type": "error",
          "ename": "NameError",
          "evalue": "ignored",
          "traceback": [
            "\u001b[0;31m---------------------------------------------------------------------------\u001b[0m",
            "\u001b[0;31mNameError\u001b[0m                                 Traceback (most recent call last)",
            "\u001b[0;32m<ipython-input-120-953c8026e652>\u001b[0m in \u001b[0;36m<module>\u001b[0;34m()\u001b[0m\n\u001b[1;32m      7\u001b[0m \u001b[0mskf\u001b[0m \u001b[0;34m=\u001b[0m \u001b[0mKFold\u001b[0m\u001b[0;34m(\u001b[0m\u001b[0mn_splits\u001b[0m\u001b[0;34m=\u001b[0m\u001b[0mFOLDS\u001b[0m\u001b[0;34m,\u001b[0m \u001b[0mshuffle\u001b[0m\u001b[0;34m=\u001b[0m\u001b[0;32mTrue\u001b[0m\u001b[0;34m,\u001b[0m \u001b[0mrandom_state\u001b[0m\u001b[0;34m=\u001b[0m\u001b[0mSEED\u001b[0m\u001b[0;34m)\u001b[0m\u001b[0;34m\u001b[0m\u001b[0;34m\u001b[0m\u001b[0m\n\u001b[1;32m      8\u001b[0m for fold,(train_idx, valid_idx) in enumerate(skf.split(\n\u001b[0;32m----> 9\u001b[0;31m             train, train.target )):\n\u001b[0m\u001b[1;32m     10\u001b[0m \u001b[0;34m\u001b[0m\u001b[0m\n\u001b[1;32m     11\u001b[0m     \u001b[0;31m# TRAIN WITH SUBSAMPLE OF TRAIN FOLD DATA\u001b[0m\u001b[0;34m\u001b[0m\u001b[0;34m\u001b[0m\u001b[0;34m\u001b[0m\u001b[0m\n",
            "\u001b[0;31mNameError\u001b[0m: name 'train' is not defined"
          ]
        }
      ],
      "source": [
        "importances = []\n",
        "oof = []\n",
        "#train = train.to_pandas() # free GPU memory\n",
        "TRAIN_SUBSAMPLE = 1.0\n",
        "gc.collect()\n",
        "\n",
        "skf = KFold(n_splits=FOLDS, shuffle=True, random_state=SEED)\n",
        "for fold,(train_idx, valid_idx) in enumerate(skf.split(\n",
        "            train, train.target )):\n",
        "    \n",
        "    # TRAIN WITH SUBSAMPLE OF TRAIN FOLD DATA\n",
        "    if TRAIN_SUBSAMPLE<1.0:\n",
        "        np.random.seed(SEED)\n",
        "        train_idx = np.random.choice(train_idx, \n",
        "                       int(len(train_idx)*TRAIN_SUBSAMPLE), replace=False)\n",
        "        np.random.seed(None)\n",
        "    \n",
        "    print('#'*25)\n",
        "    print('### Fold',fold+1)\n",
        "    print('### Train size',len(train_idx),'Valid size',len(valid_idx))\n",
        "    print(f'### Training with {int(TRAIN_SUBSAMPLE*100)}% fold data...')\n",
        "    print('#'*25)\n",
        "    \n",
        "    # TRAIN, VALID, TEST FOR FOLD K\n",
        "    Xy_train = IterLoadForDMatrix(train.loc[train_idx], FEATURES, 'target')\n",
        "    X_valid = train.loc[valid_idx, FEATURES]\n",
        "    y_valid = train.loc[valid_idx, 'target']\n",
        "    \n",
        "    dtrain = xgb.DeviceQuantileDMatrix(Xy_train, max_bin=256)\n",
        "    dvalid = xgb.DMatrix(data=X_valid, label=y_valid)\n",
        "    \n",
        "    # TRAIN MODEL FOLD K\n",
        "    model = xgb.train(xgb_parms, \n",
        "                dtrain=dtrain,\n",
        "                evals=[(dtrain,'train'),(dvalid,'valid')],\n",
        "                num_boost_round=9999,\n",
        "                early_stopping_rounds=100,\n",
        "                verbose_eval=100) \n",
        "    model.save_model(f'/content/drive/MyDrive/Amex/parquet/XGB v2/XGB_v{VER}_fold{fold}.xgb')\n",
        "    \n",
        "    # GET FEATURE IMPORTANCE FOR FOLD K\n",
        "    dd = model.get_score(importance_type='weight')\n",
        "    df = pd.DataFrame({'feature':dd.keys(),f'importance_{fold}':dd.values()})\n",
        "    importances.append(df)\n",
        "            \n",
        "    # INFER OOF FOLD K\n",
        "    oof_preds = model.predict(dvalid)\n",
        "    acc = amex_metric_mod(y_valid.values, oof_preds)\n",
        "    print('Kaggle Metric =',acc,'\\n')\n",
        "    \n",
        "    # SAVE OOF\n",
        "    df = train.loc[valid_idx, ['customer_ID','target'] ].copy()\n",
        "    df['oof_pred'] = oof_preds\n",
        "    oof.append( df )\n",
        "    \n",
        "    del dtrain, Xy_train, dd, df\n",
        "    del X_valid, y_valid, dvalid, model\n",
        "    _ = gc.collect()\n",
        "    \n",
        "print('#'*25)\n",
        "oof = pd.concat(oof,axis=0,ignore_index=True).set_index('customer_ID')\n",
        "acc = amex_metric_mod(oof.target.values, oof.oof_pred.values)\n",
        "print('OVERALL CV Kaggle Metric =',acc)"
      ]
    },
    {
      "cell_type": "code",
      "execution_count": null,
      "metadata": {
        "id": "nbmXCE7yN59I"
      },
      "outputs": [],
      "source": [
        "# #train model again with full set\n",
        "\n",
        "# Xy_train = IterLoadForDMatrix(train, FEATURES, 'target')\n",
        "# dtrain = xgb.DeviceQuantileDMatrix(Xy_train, max_bin=256)\n",
        "# # TRAIN MODEL\n",
        "# model = xgb.train(xgb_parms, \n",
        "#                 dtrain=dtrain,\n",
        "#                 evals=[(dtrain,'train'),(dtrain,'train')],\n",
        "#                 num_boost_round=1200,\n",
        "#                 early_stopping_rounds=100,\n",
        "#                 verbose_eval=100\n",
        "#                 )\n",
        "# model.save_model(f'XGB_full.xgb')"
      ]
    },
    {
      "cell_type": "code",
      "execution_count": null,
      "metadata": {
        "id": "2fY06mhh-73M"
      },
      "outputs": [],
      "source": [
        "# CLEAN RAM\n",
        "del train\n",
        "_ = gc.collect()"
      ]
    },
    {
      "cell_type": "code",
      "execution_count": null,
      "metadata": {
        "id": "7sW60y39kqZt"
      },
      "outputs": [],
      "source": [
        ""
      ]
    },
    {
      "cell_type": "markdown",
      "metadata": {
        "id": "Tkn5B21Tp0OA"
      },
      "source": [
        "# Save OOF Preds"
      ]
    },
    {
      "cell_type": "code",
      "execution_count": null,
      "metadata": {
        "colab": {
          "base_uri": "https://localhost:8080/",
          "height": 206
        },
        "id": "69sI09-OYv-i",
        "outputId": "e93e7c87-fcc9-446d-d55c-f72779c44a8b"
      },
      "outputs": [
        {
          "output_type": "execute_result",
          "data": {
            "text/plain": [
              "                                         customer_ID  target  oof_pred\n",
              "0  20eac26171c3d251c55fc78204e59fab1c15fc2bc96d0c...       1  0.694981\n",
              "1  aea50fdf9b974ccec95fa177c3225a0f913483b457de6e...       0  0.000489\n",
              "2  32cd2d41aef737b69089882754395925c96eaee1f4a859...       0  0.002206\n",
              "3  8daa6d5dc2655a8a437531e6b8b96829113cdfe9bf6cae...       0  0.020012\n",
              "4  0ceba351a3851202542feb49d7385bcef32f6037fc57c7...       1  0.866356"
            ],
            "text/html": [
              "\n",
              "  <div id=\"df-a7c2b20e-7f89-46f8-b328-c067ede1884c\">\n",
              "    <div class=\"colab-df-container\">\n",
              "      <div>\n",
              "<style scoped>\n",
              "    .dataframe tbody tr th:only-of-type {\n",
              "        vertical-align: middle;\n",
              "    }\n",
              "\n",
              "    .dataframe tbody tr th {\n",
              "        vertical-align: top;\n",
              "    }\n",
              "\n",
              "    .dataframe thead th {\n",
              "        text-align: right;\n",
              "    }\n",
              "</style>\n",
              "<table border=\"1\" class=\"dataframe\">\n",
              "  <thead>\n",
              "    <tr style=\"text-align: right;\">\n",
              "      <th></th>\n",
              "      <th>customer_ID</th>\n",
              "      <th>target</th>\n",
              "      <th>oof_pred</th>\n",
              "    </tr>\n",
              "  </thead>\n",
              "  <tbody>\n",
              "    <tr>\n",
              "      <th>0</th>\n",
              "      <td>20eac26171c3d251c55fc78204e59fab1c15fc2bc96d0c...</td>\n",
              "      <td>1</td>\n",
              "      <td>0.694981</td>\n",
              "    </tr>\n",
              "    <tr>\n",
              "      <th>1</th>\n",
              "      <td>aea50fdf9b974ccec95fa177c3225a0f913483b457de6e...</td>\n",
              "      <td>0</td>\n",
              "      <td>0.000489</td>\n",
              "    </tr>\n",
              "    <tr>\n",
              "      <th>2</th>\n",
              "      <td>32cd2d41aef737b69089882754395925c96eaee1f4a859...</td>\n",
              "      <td>0</td>\n",
              "      <td>0.002206</td>\n",
              "    </tr>\n",
              "    <tr>\n",
              "      <th>3</th>\n",
              "      <td>8daa6d5dc2655a8a437531e6b8b96829113cdfe9bf6cae...</td>\n",
              "      <td>0</td>\n",
              "      <td>0.020012</td>\n",
              "    </tr>\n",
              "    <tr>\n",
              "      <th>4</th>\n",
              "      <td>0ceba351a3851202542feb49d7385bcef32f6037fc57c7...</td>\n",
              "      <td>1</td>\n",
              "      <td>0.866356</td>\n",
              "    </tr>\n",
              "  </tbody>\n",
              "</table>\n",
              "</div>\n",
              "      <button class=\"colab-df-convert\" onclick=\"convertToInteractive('df-a7c2b20e-7f89-46f8-b328-c067ede1884c')\"\n",
              "              title=\"Convert this dataframe to an interactive table.\"\n",
              "              style=\"display:none;\">\n",
              "        \n",
              "  <svg xmlns=\"http://www.w3.org/2000/svg\" height=\"24px\"viewBox=\"0 0 24 24\"\n",
              "       width=\"24px\">\n",
              "    <path d=\"M0 0h24v24H0V0z\" fill=\"none\"/>\n",
              "    <path d=\"M18.56 5.44l.94 2.06.94-2.06 2.06-.94-2.06-.94-.94-2.06-.94 2.06-2.06.94zm-11 1L8.5 8.5l.94-2.06 2.06-.94-2.06-.94L8.5 2.5l-.94 2.06-2.06.94zm10 10l.94 2.06.94-2.06 2.06-.94-2.06-.94-.94-2.06-.94 2.06-2.06.94z\"/><path d=\"M17.41 7.96l-1.37-1.37c-.4-.4-.92-.59-1.43-.59-.52 0-1.04.2-1.43.59L10.3 9.45l-7.72 7.72c-.78.78-.78 2.05 0 2.83L4 21.41c.39.39.9.59 1.41.59.51 0 1.02-.2 1.41-.59l7.78-7.78 2.81-2.81c.8-.78.8-2.07 0-2.86zM5.41 20L4 18.59l7.72-7.72 1.47 1.35L5.41 20z\"/>\n",
              "  </svg>\n",
              "      </button>\n",
              "      \n",
              "  <style>\n",
              "    .colab-df-container {\n",
              "      display:flex;\n",
              "      flex-wrap:wrap;\n",
              "      gap: 12px;\n",
              "    }\n",
              "\n",
              "    .colab-df-convert {\n",
              "      background-color: #E8F0FE;\n",
              "      border: none;\n",
              "      border-radius: 50%;\n",
              "      cursor: pointer;\n",
              "      display: none;\n",
              "      fill: #1967D2;\n",
              "      height: 32px;\n",
              "      padding: 0 0 0 0;\n",
              "      width: 32px;\n",
              "    }\n",
              "\n",
              "    .colab-df-convert:hover {\n",
              "      background-color: #E2EBFA;\n",
              "      box-shadow: 0px 1px 2px rgba(60, 64, 67, 0.3), 0px 1px 3px 1px rgba(60, 64, 67, 0.15);\n",
              "      fill: #174EA6;\n",
              "    }\n",
              "\n",
              "    [theme=dark] .colab-df-convert {\n",
              "      background-color: #3B4455;\n",
              "      fill: #D2E3FC;\n",
              "    }\n",
              "\n",
              "    [theme=dark] .colab-df-convert:hover {\n",
              "      background-color: #434B5C;\n",
              "      box-shadow: 0px 1px 3px 1px rgba(0, 0, 0, 0.15);\n",
              "      filter: drop-shadow(0px 1px 2px rgba(0, 0, 0, 0.3));\n",
              "      fill: #FFFFFF;\n",
              "    }\n",
              "  </style>\n",
              "\n",
              "      <script>\n",
              "        const buttonEl =\n",
              "          document.querySelector('#df-a7c2b20e-7f89-46f8-b328-c067ede1884c button.colab-df-convert');\n",
              "        buttonEl.style.display =\n",
              "          google.colab.kernel.accessAllowed ? 'block' : 'none';\n",
              "\n",
              "        async function convertToInteractive(key) {\n",
              "          const element = document.querySelector('#df-a7c2b20e-7f89-46f8-b328-c067ede1884c');\n",
              "          const dataTable =\n",
              "            await google.colab.kernel.invokeFunction('convertToInteractive',\n",
              "                                                     [key], {});\n",
              "          if (!dataTable) return;\n",
              "\n",
              "          const docLinkHtml = 'Like what you see? Visit the ' +\n",
              "            '<a target=\"_blank\" href=https://colab.research.google.com/notebooks/data_table.ipynb>data table notebook</a>'\n",
              "            + ' to learn more about interactive tables.';\n",
              "          element.innerHTML = '';\n",
              "          dataTable['output_type'] = 'display_data';\n",
              "          await google.colab.output.renderOutput(dataTable, element);\n",
              "          const docLink = document.createElement('div');\n",
              "          docLink.innerHTML = docLinkHtml;\n",
              "          element.appendChild(docLink);\n",
              "        }\n",
              "      </script>\n",
              "    </div>\n",
              "  </div>\n",
              "  "
            ]
          },
          "metadata": {},
          "execution_count": 112
        }
      ],
      "source": [
        "oof_xgb = pd.read_parquet(TRAIN_PATH, columns=['customer_ID']).drop_duplicates()\n",
        "oof_xgb['customer_ID_hash'] = oof_xgb['customer_ID'].apply(lambda x: int(x[-16:],16) ).astype('int64')\n",
        "oof_xgb = oof_xgb.set_index('customer_ID_hash')\n",
        "oof_xgb = oof_xgb.merge(oof, left_index=True, right_index=True)\n",
        "oof_xgb = oof_xgb.sort_index().reset_index(drop=True)\n",
        "oof_xgb.to_csv(f'oof_xgb_v{VER}.csv',index=False)\n",
        "oof_xgb.head()"
      ]
    },
    {
      "cell_type": "code",
      "execution_count": null,
      "metadata": {
        "colab": {
          "base_uri": "https://localhost:8080/",
          "height": 281
        },
        "id": "dZUhtbYQYv00",
        "outputId": "ea2125eb-a66a-4bac-81e6-c2cae1bb562d"
      },
      "outputs": [
        {
          "data": {
            "image/png": "[encoded data removed]",
            "text/plain": [
              "<Figure size 432x288 with 1 Axes>"
            ]
          },
          "metadata": {},
          "output_type": "display_data"
        }
      ],
      "source": [
        "# PLOT OOF PREDICTIONS\n",
        "plt.hist(oof_xgb.oof_pred.values, bins=100)\n",
        "plt.title('OOF Predictions')\n",
        "plt.show()"
      ]
    },
    {
      "cell_type": "code",
      "execution_count": null,
      "metadata": {
        "id": "Ttbu6b88p0OA"
      },
      "outputs": [],
      "source": [
        "# CLEAR VRAM, RAM FOR INFERENCE BELOW\n",
        "del oof_xgb, oof\n",
        "_ = gc.collect()"
      ]
    },
    {
      "cell_type": "markdown",
      "metadata": {
        "id": "T_S5V_ZCp0OA"
      },
      "source": [
        "# Feature Importance"
      ]
    },
    {
      "cell_type": "code",
      "execution_count": null,
      "metadata": {
        "id": "jNrw2WYOV7zt"
      },
      "outputs": [],
      "source": [
        "import matplotlib.pyplot as plt\n",
        "\n",
        "df = importances[0].copy()\n",
        "for k in range(1,FOLDS): df = df.merge(importances[k], on='feature', how='left')\n",
        "df['importance'] = df.iloc[:,1:].mean(axis=1)\n",
        "df = df.sort_values('importance',ascending=False)\n",
        "df.to_csv(f'xgb_feature_importance_v{VER}.csv',index=False)"
      ]
    },
    {
      "cell_type": "code",
      "execution_count": null,
      "metadata": {
        "colab": {
          "base_uri": "https://localhost:8080/",
          "height": 607
        },
        "id": "QXCr0VOyV8bZ",
        "outputId": "bac1cc64-f96d-4a60-c2a4-801d2a810020"
      },
      "outputs": [
        {
          "output_type": "display_data",
          "data": {
            "text/plain": [
              "<Figure size 720x720 with 1 Axes>"
            ],
            "image/png": "[encoded data removed]"
          },
          "metadata": {
            "needs_background": "light"
          }
        }
      ],
      "source": [
        "NUM_FEATURES = 20\n",
        "plt.figure(figsize=(10,5*NUM_FEATURES//10))\n",
        "plt.barh(np.arange(NUM_FEATURES,0,-1), df.importance.values[:NUM_FEATURES])\n",
        "plt.yticks(np.arange(NUM_FEATURES,0,-1), df.feature.values[:NUM_FEATURES])\n",
        "plt.title(f'XGB Feature Importance - Top {NUM_FEATURES}')\n",
        "plt.show()"
      ]
    },
    {
      "cell_type": "markdown",
      "metadata": {
        "id": "3NnTqDaIp0OB"
      },
      "source": [
        "# Process and Feature Engineer Test Data\n"
      ]
    },
    {
      "cell_type": "code",
      "execution_count": null,
      "metadata": {
        "id": "DBnfSzhIeECa"
      },
      "outputs": [],
      "source": [
        "_ = gc.collect()"
      ]
    },
    {
      "cell_type": "code",
      "execution_count": null,
      "metadata": {
        "colab": {
          "base_uri": "https://localhost:8080/"
        },
        "id": "mLEPOC2ap0OB",
        "outputId": "760dbbcf-0a25-4489-bb24-cbf86397bd2a"
      },
      "outputs": [
        {
          "output_type": "stream",
          "name": "stdout",
          "text": [
            "Reading test data...\n",
            "shape of data: (11363762, 2)\n",
            "We will process test data as 4 separate parts.\n",
            "There will be 231155 customers in each part (except the last part).\n",
            "Below are number of rows in each part:\n",
            "[2841209, 2839857, 2842105, 2840591]\n"
          ]
        }
      ],
      "source": [
        "# CALCULATE SIZE OF EACH SEPARATE TEST PART\n",
        "def get_rows(customers, test, NUM_PARTS = 4, verbose = ''):\n",
        "    chunk = len(customers)//NUM_PARTS\n",
        "    if verbose != '':\n",
        "        print(f'We will process {verbose} data as {NUM_PARTS} separate parts.')\n",
        "        print(f'There will be {chunk} customers in each part (except the last part).')\n",
        "        print('Below are number of rows in each part:')\n",
        "    rows = []\n",
        "\n",
        "    for k in range(NUM_PARTS):\n",
        "        if k==NUM_PARTS-1: cc = customers[k*chunk:]\n",
        "        else: cc = customers[k*chunk:(k+1)*chunk]\n",
        "        s = test.loc[test.customer_ID.isin(cc)].shape[0]\n",
        "        rows.append(s)\n",
        "    if verbose != '': print( rows )\n",
        "    return rows,chunk\n",
        "\n",
        "# COMPUTE SIZE OF 4 PARTS FOR TEST DATA\n",
        "NUM_PARTS = 4\n",
        "TEST_PATH = 'test.parquet'\n",
        "\n",
        "print(f'Reading test data...')\n",
        "test = read_file(path = TEST_PATH, usecols = ['customer_ID','S_2'])\n",
        "test = handle_na(test,NAN_VALUE)\n",
        "customers = test[['customer_ID']].drop_duplicates().sort_index().values.flatten()\n",
        "rows,num_cust = get_rows(customers, test[['customer_ID']], NUM_PARTS = NUM_PARTS, verbose = 'test')"
      ]
    },
    {
      "cell_type": "code",
      "execution_count": null,
      "metadata": {
        "id": "bJeJFYqQpdzT"
      },
      "outputs": [],
      "source": [
        "os.chdir('/content/drive/MyDrive/Amex/parquet/')"
      ]
    },
    {
      "cell_type": "markdown",
      "metadata": {
        "id": "JOK1diNsp0OB"
      },
      "source": [
        "# Infer Test"
      ]
    },
    {
      "cell_type": "code",
      "execution_count": null,
      "metadata": {
        "colab": {
          "base_uri": "https://localhost:8080/"
        },
        "id": "9OGciocgp0OC",
        "outputId": "63fe6f6d-756e-4638-9a35-0a2dee7ac5b2"
      },
      "outputs": [
        {
          "output_type": "stream",
          "name": "stdout",
          "text": [
            "\n",
            "Reading test data...\n",
            "shape of data: (11363762, 190)\n",
            "=> Test part 1 has shape (2841209, 190)\n",
            "shape after engineering (231155, 1114)\n",
            "\n",
            "Reading test data...\n",
            "shape of data: (11363762, 190)\n",
            "=> Test part 2 has shape (2839857, 190)\n",
            "shape after engineering (231155, 1114)\n",
            "\n",
            "Reading test data...\n",
            "shape of data: (11363762, 190)\n",
            "=> Test part 3 has shape (2842105, 190)\n",
            "shape after engineering (231155, 1114)\n",
            "\n",
            "Reading test data...\n",
            "shape of data: (11363762, 190)\n",
            "=> Test part 4 has shape (2840591, 190)\n",
            "shape after engineering (231156, 1114)\n"
          ]
        }
      ],
      "source": [
        "# INFER TEST DATA IN PARTS\n",
        "skip_rows = 0\n",
        "skip_cust = 0\n",
        "test_preds = []\n",
        "\n",
        "for k in range(NUM_PARTS):\n",
        "    \n",
        "    # READ PART OF TEST DATA\n",
        "    print(f'\\nReading test data...')\n",
        "    test = read_file(path = TEST_PATH)\n",
        "    test = test.iloc[skip_rows:skip_rows+rows[k]]\n",
        "    skip_rows += rows[k]\n",
        "    print(f'=> Test part {k+1} has shape', test.shape )\n",
        "    \n",
        "    # PROCESS AND FEATURE ENGINEER PART OF TEST DATA\n",
        "    test = process_and_feature_engineer(test,cat_features, num_features, growth)\n",
        "    for m,k in col_added:\n",
        "      test[f'{m}_{k}']= test[m]*test[k] \n",
        "    if k==NUM_PARTS-1: test = test.loc[customers[skip_cust:]]\n",
        "    else: test = test.loc[customers[skip_cust:skip_cust+num_cust]]\n",
        "    skip_cust += num_cust\n",
        "    \n",
        "    # TEST DATA FOR XGB\n",
        "    X_test = test[FEATURES]\n",
        "    dtest = xgb.DMatrix(data=X_test)\n",
        "    del test \n",
        "    del X_test\n",
        "    gc.collect()\n",
        "\n",
        "    # INFER XGB MODELS ON TEST DATA\n",
        "    model = xgb.Booster()\n",
        "    model.load_model(f'XGB_v{VER}_fold0.xgb')\n",
        "    #model.load_model('XGB_full.xgb')\n",
        "    preds = model.predict(dtest)\n",
        "    for f in range(1,FOLDS):\n",
        "        model.load_model(f'XGB_v{VER}_fold{fold}.xgb')\n",
        "        #model.load_model(f'XGB_full.xgb')\n",
        "        preds += model.predict(dtest)\n",
        "    preds /= FOLDS\n",
        "    test_preds.append(preds)\n",
        "\n",
        "    # CLEAN MEMORY\n",
        "    del dtest, model\n",
        "    _ = gc.collect()"
      ]
    },
    {
      "cell_type": "markdown",
      "metadata": {
        "id": "wgvQnNhip0OC"
      },
      "source": [
        "# Create Submission CSV"
      ]
    },
    {
      "cell_type": "code",
      "execution_count": null,
      "metadata": {
        "colab": {
          "base_uri": "https://localhost:8080/",
          "height": 433
        },
        "id": "XmDkNfhrp0OC",
        "outputId": "f1062d85-485b-4d04-fd96-8ab9340e7a97"
      },
      "outputs": [
        {
          "output_type": "error",
          "ename": "TypeError",
          "evalue": "ignored",
          "traceback": [
            "\u001b[0;31m---------------------------------------------------------------------------\u001b[0m",
            "\u001b[0;31mTypeError\u001b[0m                                 Traceback (most recent call last)",
            "\u001b[0;32m<ipython-input-154-8c6867ac9a70>\u001b[0m in \u001b[0;36m<module>\u001b[0;34m()\u001b[0m\n\u001b[1;32m      1\u001b[0m \u001b[0;31m# WRITE SUBMISSION FILE\u001b[0m\u001b[0;34m\u001b[0m\u001b[0;34m\u001b[0m\u001b[0;34m\u001b[0m\u001b[0m\n\u001b[1;32m      2\u001b[0m \u001b[0;31m#test_preds = np.concatenate(test_preds).to_numpy()\u001b[0m\u001b[0;34m\u001b[0m\u001b[0;34m\u001b[0m\u001b[0;34m\u001b[0m\u001b[0m\n\u001b[0;32m----> 3\u001b[0;31m \u001b[0mtest\u001b[0m \u001b[0;34m=\u001b[0m \u001b[0mpd\u001b[0m\u001b[0;34m.\u001b[0m\u001b[0mDataFrame\u001b[0m\u001b[0;34m(\u001b[0m\u001b[0mindex\u001b[0m\u001b[0;34m=\u001b[0m\u001b[0mcustomers\u001b[0m\u001b[0;34m,\u001b[0m\u001b[0mdata\u001b[0m\u001b[0;34m=\u001b[0m\u001b[0;34m{\u001b[0m\u001b[0;34m'prediction'\u001b[0m\u001b[0;34m:\u001b[0m\u001b[0;34m[\u001b[0m\u001b[0mtest_preds\u001b[0m\u001b[0;34m]\u001b[0m\u001b[0;34m}\u001b[0m\u001b[0;34m)\u001b[0m\u001b[0;34m\u001b[0m\u001b[0;34m\u001b[0m\u001b[0m\n\u001b[0m\u001b[1;32m      4\u001b[0m \u001b[0msub\u001b[0m \u001b[0;34m=\u001b[0m \u001b[0mpd\u001b[0m\u001b[0;34m.\u001b[0m\u001b[0mread_csv\u001b[0m\u001b[0;34m(\u001b[0m\u001b[0;34m'/content/drive/MyDrive/Amex/parquet/sample_submission.csv'\u001b[0m\u001b[0;34m)\u001b[0m\u001b[0;34m[\u001b[0m\u001b[0;34m[\u001b[0m\u001b[0;34m'customer_ID'\u001b[0m\u001b[0;34m]\u001b[0m\u001b[0;34m]\u001b[0m\u001b[0;34m\u001b[0m\u001b[0;34m\u001b[0m\u001b[0m\n\u001b[1;32m      5\u001b[0m \u001b[0msub\u001b[0m\u001b[0;34m[\u001b[0m\u001b[0;34m'customer_ID_hash'\u001b[0m\u001b[0;34m]\u001b[0m \u001b[0;34m=\u001b[0m \u001b[0msub\u001b[0m\u001b[0;34m[\u001b[0m\u001b[0;34m'customer_ID'\u001b[0m\u001b[0;34m]\u001b[0m\u001b[0;34m.\u001b[0m\u001b[0mstr\u001b[0m\u001b[0;34m[\u001b[0m\u001b[0;34m-\u001b[0m\u001b[0;36m16\u001b[0m\u001b[0;34m:\u001b[0m\u001b[0;34m]\u001b[0m\u001b[0;34m.\u001b[0m\u001b[0mstr\u001b[0m\u001b[0;34m.\u001b[0m\u001b[0mhex_to_int\u001b[0m\u001b[0;34m(\u001b[0m\u001b[0;34m)\u001b[0m\u001b[0;34m.\u001b[0m\u001b[0mastype\u001b[0m\u001b[0;34m(\u001b[0m\u001b[0;34m'int64'\u001b[0m\u001b[0;34m)\u001b[0m\u001b[0;34m\u001b[0m\u001b[0;34m\u001b[0m\u001b[0m\n",
            "\u001b[0;32m/usr/local/lib/python3.7/site-packages/pandas/core/frame.py\u001b[0m in \u001b[0;36m__init__\u001b[0;34m(self, data, index, columns, dtype, copy)\u001b[0m\n\u001b[1;32m    612\u001b[0m         \u001b[0;32melif\u001b[0m \u001b[0misinstance\u001b[0m\u001b[0;34m(\u001b[0m\u001b[0mdata\u001b[0m\u001b[0;34m,\u001b[0m \u001b[0mdict\u001b[0m\u001b[0;34m)\u001b[0m\u001b[0;34m:\u001b[0m\u001b[0;34m\u001b[0m\u001b[0;34m\u001b[0m\u001b[0m\n\u001b[1;32m    613\u001b[0m             \u001b[0;31m# GH#38939 de facto copy defaults to False only in non-dict cases\u001b[0m\u001b[0;34m\u001b[0m\u001b[0;34m\u001b[0m\u001b[0;34m\u001b[0m\u001b[0m\n\u001b[0;32m--> 614\u001b[0;31m             \u001b[0mmgr\u001b[0m \u001b[0;34m=\u001b[0m \u001b[0mdict_to_mgr\u001b[0m\u001b[0;34m(\u001b[0m\u001b[0mdata\u001b[0m\u001b[0;34m,\u001b[0m \u001b[0mindex\u001b[0m\u001b[0;34m,\u001b[0m \u001b[0mcolumns\u001b[0m\u001b[0;34m,\u001b[0m \u001b[0mdtype\u001b[0m\u001b[0;34m=\u001b[0m\u001b[0mdtype\u001b[0m\u001b[0;34m,\u001b[0m \u001b[0mcopy\u001b[0m\u001b[0;34m=\u001b[0m\u001b[0mcopy\u001b[0m\u001b[0;34m,\u001b[0m \u001b[0mtyp\u001b[0m\u001b[0;34m=\u001b[0m\u001b[0mmanager\u001b[0m\u001b[0;34m)\u001b[0m\u001b[0;34m\u001b[0m\u001b[0;34m\u001b[0m\u001b[0m\n\u001b[0m\u001b[1;32m    615\u001b[0m         \u001b[0;32melif\u001b[0m \u001b[0misinstance\u001b[0m\u001b[0;34m(\u001b[0m\u001b[0mdata\u001b[0m\u001b[0;34m,\u001b[0m \u001b[0mma\u001b[0m\u001b[0;34m.\u001b[0m\u001b[0mMaskedArray\u001b[0m\u001b[0;34m)\u001b[0m\u001b[0;34m:\u001b[0m\u001b[0;34m\u001b[0m\u001b[0;34m\u001b[0m\u001b[0m\n\u001b[1;32m    616\u001b[0m             \u001b[0;32mimport\u001b[0m \u001b[0mnumpy\u001b[0m\u001b[0;34m.\u001b[0m\u001b[0mma\u001b[0m\u001b[0;34m.\u001b[0m\u001b[0mmrecords\u001b[0m \u001b[0;32mas\u001b[0m \u001b[0mmrecords\u001b[0m\u001b[0;34m\u001b[0m\u001b[0;34m\u001b[0m\u001b[0m\n",
            "\u001b[0;32m/usr/local/lib/python3.7/site-packages/pandas/core/internals/construction.py\u001b[0m in \u001b[0;36mdict_to_mgr\u001b[0;34m(data, index, columns, dtype, typ, copy)\u001b[0m\n\u001b[1;32m    463\u001b[0m \u001b[0;34m\u001b[0m\u001b[0m\n\u001b[1;32m    464\u001b[0m     return arrays_to_mgr(\n\u001b[0;32m--> 465\u001b[0;31m         \u001b[0marrays\u001b[0m\u001b[0;34m,\u001b[0m \u001b[0mdata_names\u001b[0m\u001b[0;34m,\u001b[0m \u001b[0mindex\u001b[0m\u001b[0;34m,\u001b[0m \u001b[0mcolumns\u001b[0m\u001b[0;34m,\u001b[0m \u001b[0mdtype\u001b[0m\u001b[0;34m=\u001b[0m\u001b[0mdtype\u001b[0m\u001b[0;34m,\u001b[0m \u001b[0mtyp\u001b[0m\u001b[0;34m=\u001b[0m\u001b[0mtyp\u001b[0m\u001b[0;34m,\u001b[0m \u001b[0mconsolidate\u001b[0m\u001b[0;34m=\u001b[0m\u001b[0mcopy\u001b[0m\u001b[0;34m\u001b[0m\u001b[0;34m\u001b[0m\u001b[0m\n\u001b[0m\u001b[1;32m    466\u001b[0m     )\n\u001b[1;32m    467\u001b[0m \u001b[0;34m\u001b[0m\u001b[0m\n",
            "\u001b[0;32m/usr/local/lib/python3.7/site-packages/pandas/core/internals/construction.py\u001b[0m in \u001b[0;36marrays_to_mgr\u001b[0;34m(arrays, arr_names, index, columns, dtype, verify_integrity, typ, consolidate)\u001b[0m\n\u001b[1;32m    119\u001b[0m             \u001b[0mindex\u001b[0m \u001b[0;34m=\u001b[0m \u001b[0m_extract_index\u001b[0m\u001b[0;34m(\u001b[0m\u001b[0marrays\u001b[0m\u001b[0;34m)\u001b[0m\u001b[0;34m\u001b[0m\u001b[0;34m\u001b[0m\u001b[0m\n\u001b[1;32m    120\u001b[0m         \u001b[0;32melse\u001b[0m\u001b[0;34m:\u001b[0m\u001b[0;34m\u001b[0m\u001b[0;34m\u001b[0m\u001b[0m\n\u001b[0;32m--> 121\u001b[0;31m             \u001b[0mindex\u001b[0m \u001b[0;34m=\u001b[0m \u001b[0mensure_index\u001b[0m\u001b[0;34m(\u001b[0m\u001b[0mindex\u001b[0m\u001b[0;34m)\u001b[0m\u001b[0;34m\u001b[0m\u001b[0;34m\u001b[0m\u001b[0m\n\u001b[0m\u001b[1;32m    122\u001b[0m \u001b[0;34m\u001b[0m\u001b[0m\n\u001b[1;32m    123\u001b[0m         \u001b[0;31m# don't force copy because getting jammed in an ndarray anyway\u001b[0m\u001b[0;34m\u001b[0m\u001b[0;34m\u001b[0m\u001b[0;34m\u001b[0m\u001b[0m\n",
            "\u001b[0;32m/usr/local/lib/python3.7/site-packages/pandas/core/indexes/base.py\u001b[0m in \u001b[0;36mensure_index\u001b[0;34m(index_like, copy)\u001b[0m\n\u001b[1;32m   6334\u001b[0m     \u001b[0;32melse\u001b[0m\u001b[0;34m:\u001b[0m\u001b[0;34m\u001b[0m\u001b[0;34m\u001b[0m\u001b[0m\n\u001b[1;32m   6335\u001b[0m \u001b[0;34m\u001b[0m\u001b[0m\n\u001b[0;32m-> 6336\u001b[0;31m         \u001b[0;32mreturn\u001b[0m \u001b[0mIndex\u001b[0m\u001b[0;34m(\u001b[0m\u001b[0mindex_like\u001b[0m\u001b[0;34m,\u001b[0m \u001b[0mcopy\u001b[0m\u001b[0;34m=\u001b[0m\u001b[0mcopy\u001b[0m\u001b[0;34m)\u001b[0m\u001b[0;34m\u001b[0m\u001b[0;34m\u001b[0m\u001b[0m\n\u001b[0m\u001b[1;32m   6337\u001b[0m \u001b[0;34m\u001b[0m\u001b[0m\n\u001b[1;32m   6338\u001b[0m \u001b[0;34m\u001b[0m\u001b[0m\n",
            "\u001b[0;32m/usr/local/lib/python3.7/site-packages/pandas/core/indexes/base.py\u001b[0m in \u001b[0;36m__new__\u001b[0;34m(cls, data, dtype, copy, name, tupleize_cols, **kwargs)\u001b[0m\n\u001b[1;32m    474\u001b[0m             \u001b[0;32mraise\u001b[0m \u001b[0mcls\u001b[0m\u001b[0;34m.\u001b[0m\u001b[0m_scalar_data_error\u001b[0m\u001b[0;34m(\u001b[0m\u001b[0mdata\u001b[0m\u001b[0;34m)\u001b[0m\u001b[0;34m\u001b[0m\u001b[0;34m\u001b[0m\u001b[0m\n\u001b[1;32m    475\u001b[0m         \u001b[0;32melif\u001b[0m \u001b[0mhasattr\u001b[0m\u001b[0;34m(\u001b[0m\u001b[0mdata\u001b[0m\u001b[0;34m,\u001b[0m \u001b[0;34m\"__array__\"\u001b[0m\u001b[0;34m)\u001b[0m\u001b[0;34m:\u001b[0m\u001b[0;34m\u001b[0m\u001b[0;34m\u001b[0m\u001b[0m\n\u001b[0;32m--> 476\u001b[0;31m             \u001b[0;32mreturn\u001b[0m \u001b[0mIndex\u001b[0m\u001b[0;34m(\u001b[0m\u001b[0mnp\u001b[0m\u001b[0;34m.\u001b[0m\u001b[0masarray\u001b[0m\u001b[0;34m(\u001b[0m\u001b[0mdata\u001b[0m\u001b[0;34m)\u001b[0m\u001b[0;34m,\u001b[0m \u001b[0mdtype\u001b[0m\u001b[0;34m=\u001b[0m\u001b[0mdtype\u001b[0m\u001b[0;34m,\u001b[0m \u001b[0mcopy\u001b[0m\u001b[0;34m=\u001b[0m\u001b[0mcopy\u001b[0m\u001b[0;34m,\u001b[0m \u001b[0mname\u001b[0m\u001b[0;34m=\u001b[0m\u001b[0mname\u001b[0m\u001b[0;34m,\u001b[0m \u001b[0;34m**\u001b[0m\u001b[0mkwargs\u001b[0m\u001b[0;34m)\u001b[0m\u001b[0;34m\u001b[0m\u001b[0;34m\u001b[0m\u001b[0m\n\u001b[0m\u001b[1;32m    477\u001b[0m         \u001b[0;32melse\u001b[0m\u001b[0;34m:\u001b[0m\u001b[0;34m\u001b[0m\u001b[0;34m\u001b[0m\u001b[0m\n\u001b[1;32m    478\u001b[0m \u001b[0;34m\u001b[0m\u001b[0m\n",
            "\u001b[0;32mcupy/_core/core.pyx\u001b[0m in \u001b[0;36mcupy._core.core.ndarray.__array__\u001b[0;34m()\u001b[0m\n",
            "\u001b[0;31mTypeError\u001b[0m: Implicit conversion to a NumPy array is not allowed. Please use `.get()` to construct a NumPy array explicitly."
          ]
        }
      ],
      "source": [
        "# WRITE SUBMISSION FILE\n",
        "#test_preds = np.concatenate(test_preds).to_numpy()\n",
        "test = pd.DataFrame(index=customers,data={'prediction':[test_preds]})\n",
        "sub = pd.read_csv('/content/drive/MyDrive/Amex/parquet/sample_submission.csv')[['customer_ID']]\n",
        "sub['customer_ID_hash'] = sub['customer_ID'].str[-16:].str.hex_to_int().astype('int64')\n",
        "sub = sub.set_index('customer_ID_hash')\n",
        "sub = sub.merge(test['prediction'], left_index=True, right_index=True, how='left')\n",
        "sub = sub.reset_index(drop=True)"
      ]
    },
    {
      "cell_type": "code",
      "execution_count": null,
      "metadata": {
        "id": "feR6CECRp0OC"
      },
      "outputs": [],
      "source": [
        "sub.to_csv(f'/content/drive/My Drive/Amex/parquet/XGB Baseline/submission.csv',index=False)"
      ]
    },
    {
      "cell_type": "code",
      "execution_count": null,
      "metadata": {
        "colab": {
          "base_uri": "https://localhost:8080/",
          "height": 281
        },
        "id": "lZwCEYdKp0OC",
        "outputId": "4d2277e3-8ba0-449b-eb2b-0144b6737813"
      },
      "outputs": [
        {
          "data": {
            "image/png": "[encoded data removed]",
            "text/plain": [
              "<Figure size 432x288 with 1 Axes>"
            ]
          },
          "metadata": {},
          "output_type": "display_data"
        }
      ],
      "source": [
        "# PLOT PREDICTIONS\n",
        "plt.hist(sub.to_pandas().prediction, bins=100)\n",
        "plt.title('Test Predictions')\n",
        "plt.show()"
      ]
    },
    {
      "cell_type": "markdown",
      "metadata": {
        "id": "FrtP9j0mxhCM"
      },
      "source": [
        "Feature Engineering"
      ]
    },
    {
      "cell_type": "code",
      "execution_count": null,
      "metadata": {
        "id": "P9FSILOswW2E"
      },
      "outputs": [],
      "source": [
        "from sklearn.model_selection import train_test_split\n",
        "from xgboost import XGBClassifier\n",
        "from sklearn.metrics import accuracy_score\n",
        "from xgboost import plot_importance\n"
      ]
    },
    {
      "cell_type": "code",
      "execution_count": null,
      "metadata": {
        "id": "jqOO1fQuxlMl"
      },
      "outputs": [],
      "source": [
        "X_train, X_test, y_train, y_test = train_test_split(X, \n",
        "                                                    y, \n",
        "                                                    test_size = 0.2, \n",
        "                                                    random_state=100,\n",
        "                                                    stratify=y)"
      ]
    }
  ],
  "metadata": {
    "accelerator": "GPU",
    "colab": {
      "collapsed_sections": [],
      "machine_shape": "hm",
      "name": "Amex XGBoost fin_pd_V14.ipynb",
      "provenance": [],
      "include_colab_link": true
    },
    "gpuClass": "standard",
    "kernelspec": {
      "display_name": "Python 3",
      "language": "python",
      "name": "python3"
    },
    "language_info": {
      "codemirror_mode": {
        "name": "ipython",
        "version": 3
      },
      "file_extension": ".py",
      "mimetype": "text/x-python",
      "name": "python",
      "nbconvert_exporter": "python",
      "pygments_lexer": "ipython3",
      "version": "3.7.12"
    }
  },
  "nbformat": 4,
  "nbformat_minor": 0
}