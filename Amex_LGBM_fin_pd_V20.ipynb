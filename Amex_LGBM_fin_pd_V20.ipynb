{
  "cells": [
    {
      "cell_type": "markdown",
      "metadata": {
        "id": "view-in-github",
        "colab_type": "text"
      },
      "source": [
        "<a href=\"https://colab.research.google.com/github/pyagoubi/Credit-Default-Prediction/blob/main/Amex_LGBM_fin_pd_V20.ipynb\" target=\"_parent\"><img src=\"https://colab.research.google.com/assets/colab-badge.svg\" alt=\"Open In Colab\"/></a>"
      ]
    },
    {
      "cell_type": "code",
      "source": [
        "!pip uninstall lightgbm"
      ],
      "metadata": {
        "id": "2U4C0_FO1qcp"
      },
      "execution_count": null,
      "outputs": []
    },
    {
      "cell_type": "code",
      "source": [
        "!pip install lightgbm --install-option=--gpu --install-option=\"--opencl-include-dir=/usr/local/cuda/include/\" --install-option=\"--opencl-library=/usr/local/cuda/lib64/libOpenCL.so\""
      ],
      "metadata": {
        "id": "3Cq_ajZs_4Pz"
      },
      "execution_count": null,
      "outputs": []
    },
    {
      "cell_type": "code",
      "source": [
        ""
      ],
      "metadata": {
        "id": "Y4dwQMcXcBNV"
      },
      "execution_count": null,
      "outputs": []
    },
    {
      "cell_type": "code",
      "execution_count": 1,
      "metadata": {
        "colab": {
          "base_uri": "https://localhost:8080/"
        },
        "id": "gOOdZDzIItEG",
        "outputId": "c2f1815a-b868-4699-cd30-a59346bff637"
      },
      "outputs": [
        {
          "output_type": "stream",
          "name": "stdout",
          "text": [
            "Drive already mounted at /content/drive; to attempt to forcibly remount, call drive.mount(\"/content/drive\", force_remount=True).\n"
          ]
        }
      ],
      "source": [
        "#Mounting Google Drive\n",
        "from google.colab import drive\n",
        "drive.mount('/content/drive')"
      ]
    },
    {
      "cell_type": "code",
      "execution_count": 2,
      "metadata": {
        "id": "6lJRhid0ItBS"
      },
      "outputs": [],
      "source": [
        "#set WD\n",
        "import os\n",
        "os.chdir('/content/drive/MyDrive/Amex/parquet')"
      ]
    },
    {
      "cell_type": "markdown",
      "metadata": {
        "id": "rda9uzwxp0N0"
      },
      "source": [
        "# XGBoost \n"
      ]
    },
    {
      "cell_type": "markdown",
      "metadata": {
        "id": "vMo1TkPZp0N4"
      },
      "source": [
        "# Load Libraries"
      ]
    },
    {
      "cell_type": "code",
      "execution_count": 3,
      "metadata": {
        "id": "GRgokt4bp0N4"
      },
      "outputs": [],
      "source": [
        "# LOAD LIBRARIES\n",
        "import pandas as pd, numpy as np # CPU libraries\n",
        "#import cupy, cudf # GPU libraries\n",
        "import matplotlib.pyplot as plt, gc, os\n",
        "\n",
        "from sklearn.model_selection import KFold\n",
        "import xgboost as xgb\n",
        "from xgboost import XGBRegressor\n",
        "from xgboost import XGBClassifier\n",
        "import csv, itertools\n",
        "from sklearn.experimental import enable_iterative_imputer\n",
        "from sklearn.impute import IterativeImputer\n",
        "import xgboost\n",
        "\n",
        "from sklearn.model_selection import train_test_split, StratifiedKFold\n",
        "from xgboost import plot_importance\n",
        "from sklearn.inspection import permutation_importance\n",
        "from sklearn.preprocessing import LabelEncoder\n",
        "from tqdm.auto import tqdm\n",
        "import lightgbm as lgb\n",
        "\n",
        "import itertools\n",
        "\n",
        "\n",
        "#print('RAPIDS version',cudf.__version__)"
      ]
    },
    {
      "cell_type": "code",
      "execution_count": 4,
      "metadata": {
        "id": "Sct61n7Yp0N5"
      },
      "outputs": [],
      "source": [
        "# VERSION NAME FOR SAVED MODEL FILES\n",
        "VER = 20\n",
        "\n",
        "# TRAIN RANDOM SEED\n",
        "SEED = 42\n",
        "\n",
        "# FILL NAN VALUE\n",
        "NAN_VALUE = -127 # will fit in int8\n",
        "\n",
        "# FOLDS PER MODEL\n",
        "FOLDS = 5\n",
        "\n",
        "NUM_PARTS = 10\n",
        "\n",
        "\n",
        "TRAIN_PATH = 'train.parquet'\n",
        "TEST_PATH = 'test.parquet'\n",
        "TARGET_PATH = 'train_labels.csv'\n",
        "SAVE_PATH = '/content/drive/MyDrive/Amex/parquet/XGB final/'\n",
        "SUBMISSION_FILE_PATH = '/content/drive/MyDrive/Amex/parquet/sample_submission.csv'"
      ]
    },
    {
      "cell_type": "markdown",
      "metadata": {
        "id": "vEV9Z8ZIp0N6"
      },
      "source": [
        "# Process and Feature Engineer Train Data"
      ]
    },
    {
      "cell_type": "code",
      "execution_count": 5,
      "metadata": {
        "id": "QWJevsrgp0N6"
      },
      "outputs": [],
      "source": [
        "def read_file(path = '', usecols = None):\n",
        "    # LOAD DATAFRAME\n",
        "    if usecols is not None: df = pd.read_parquet(path, columns=usecols)\n",
        "    else: df = pd.read_parquet(path) #df = cudf.read_parquet(path)\n",
        "    df['customer_ID'] = df['customer_ID'].str[-16:].apply(int, base =16)\n",
        "    df.S_2 = pd.to_datetime( df.S_2 )\n",
        "    print('shape of data:', df.shape)\n",
        "    return df\n",
        "\n",
        "def revertnan(df):\n",
        "  df[df==-1] = np.nan \n",
        "  return df\n",
        "\n",
        "def fill_na(df, NAN_VALUE):\n",
        "  df = df.fillna(NAN_VALUE)\n",
        "  return df\n",
        "\n",
        "def numberobs_feature(df):\n",
        "  df['number_of_observations'] = df.groupby('customer_ID')['customer_ID'].transform('count')\n",
        "  df.loc[df['B_33'].isnull() & (df.number_of_observations==1),'number_of_observations'] = 0.5\n",
        "  return df\n",
        "\n",
        "def afterpay(df):\n",
        "  # compute \"after pay\" features\n",
        "  for bcol in [f'B_{i}_last' for i in [11,14,17]]+['D_39_last','D_131_last']+[f'S_{i}_last' for i in [16,23]]:\n",
        "    for pcol in ['P_2_last','P_3_last']:\n",
        "      if bcol in df.columns:\n",
        "        df[f'{bcol}-{pcol}'] = df[bcol] - df[pcol]\n",
        "  return df\n",
        "\n",
        "def get_features(df):\n",
        "  all_cols = [c for c in list(df.columns) if c not in ['customer_ID','S_2']]\n",
        "  cat_features = [\"B_30\",\"B_38\",\"D_114\",\"D_116\",\"D_117\",\"D_120\",\"D_126\",\"D_63\",\"D_64\",\"D_66\",\"D_68\"]\n",
        "  num_features = [col for col in all_cols if col not in cat_features]\n",
        "  return all_cols, cat_features, num_features\n",
        "\n",
        "def agg_functions(df, num_features, cat_features, numberobs = False#, exclnullCols, \n",
        "                  #dummy_nan_col\n",
        "                  ):\n",
        "  \n",
        "  test_num_agg = df.groupby(\"customer_ID\")[num_features].agg(['mean', 'std', 'max', 'min', 'last', 'first'])\n",
        "\n",
        "  print('num agg complete')\n",
        "\n",
        "  #test_nan_agg = df.groupby(\"customer_ID\")[exclnullCols].agg(['last'])\n",
        "  ##dummy_nan_col_agg = df.groupby(\"customer_ID\")[dummy_nan_col].agg(['sum'])\n",
        "  #df_presence_agg = df.groupby(\"customer_ID\")['number_of_observations'].agg(['last'])\n",
        "  \n",
        "  test_cat_agg = df.groupby(\"customer_ID\")[cat_features].agg(['count', 'last', 'nunique'])\n",
        "  print('cat agg complete')\n",
        "\n",
        "  df = pd.concat([test_num_agg, test_cat_agg],   #dummy_nan_col_agg, \n",
        "                   # test_nan_agg], \n",
        "                   axis=1)\n",
        "  \n",
        "  print('concat complete')\n",
        "  df.columns = ['_'.join(x) for x in df.columns]\n",
        "\n",
        "\n",
        "  for col in num_features:\n",
        "    if col not in ['number_of_observations']:\n",
        "      # max = f'{col}_max'\n",
        "      # min = f'{col}_min'\n",
        "      # df[f'{col}_minmax'] = df[max] -df[min]\n",
        "      last = f'{col}_last'\n",
        "      first = f'{col}_first'\n",
        "      df[f'{col}_abschange'] = df[last] -df[first]  \n",
        "\n",
        "\n",
        "\n",
        "\n",
        "\n",
        "  print('drop numberobs')\n",
        "\n",
        "  if numberobs ==True:\n",
        "    to_drop = ['number_of_observations_mean',  'number_of_observations_max','number_of_observations_std', 'number_of_observations_min', 'number_of_observations_first']\n",
        "    df.drop(to_drop, axis = 1, inplace = True)\n",
        "    df.rename(columns={'number_of_observations_last':'number_of_observations'}, inplace = True)\n",
        "\n",
        "  print('drop first')\n",
        "  droplist = list(df.loc[:, df.columns.str.contains('first')].columns)\n",
        "  df.drop(droplist, axis = 1, inplace = True)\n",
        "\n",
        "\n",
        "  print('drop numberobs complete')\n",
        "  del test_num_agg, test_cat_agg\n",
        "  _ = gc.collect()\n",
        "  print('shape after engineering', df.shape )\n",
        "  return df\n",
        "\n",
        "def add_meandev(df, num_features):\n",
        "  \n",
        "  for i in [f for f in num_features if f not in ['number_of_observations']]:\n",
        "    last = f'{i}_last'\n",
        "    mean = f'{i}_mean' \n",
        "    df[f'{i}_meandev'] = np.nan\n",
        "    df.loc[(df[last] != np.nan), f'{i}_meandev'] = df[last] -df[mean]\n",
        "\n",
        "  return df\n",
        "\n",
        "def dropfirst(df):\n",
        "  droplist = list(df.loc[:, df.columns.str.contains('first')].columns)\n",
        "  df.drop(droplist, axis = 1, inplace = True)\n",
        "  print('shape after engineering', df.shape )\n",
        "  return df\n",
        "\n",
        "def add_targets(df, TARGET_PATH):\n",
        "  # ADD TARGETS\n",
        "  targets = pd.read_csv(TARGET_PATH)\n",
        "  targets['customer_ID'] = targets['customer_ID'].str[-16:].apply(int, base =16)\n",
        "  targets = targets.set_index('customer_ID')\n",
        "  df = df.merge(targets, left_index=True, right_index=True, how='left', sort = True)\n",
        "  df.target = df.target.astype('int8')\n",
        "  del targets\n",
        "\n",
        "  # NEEDED TO MAKE CV DETERMINISTIC (cudf merge above randomly shuffles rows)\n",
        "  df = df.reset_index()\n",
        "  return df\n",
        "\n",
        "\n",
        "def get_difference(df, num_features, train_set = None, Part =None):\n",
        "    df1 = []\n",
        "    customer_ids = []\n",
        "    for customer_id, cus in tqdm(df.groupby(['customer_ID'])):\n",
        "        # Get the differences\n",
        "        diff_df1 = cus[num_features].diff(1).iloc[[-1]].values.astype(np.float32)\n",
        "        # Append to lists\n",
        "        df1.append(diff_df1)\n",
        "        customer_ids.append(customer_id)\n",
        "    # Concatenate\n",
        "    df1 = np.concatenate(df1, axis = 0)\n",
        "    # Transform to dataframe\n",
        "    df1 = pd.DataFrame(df1, columns = [col + '_diff1' for col in df[num_features].columns])\n",
        "    # Add customer id\n",
        "    df1['customer_ID'] = customer_ids\n",
        "    df1.set_index('customer_ID', inplace = True)\n",
        "    if train_set == True: df1.to_parquet(f'{SAVE_PATH}diff_{VER}.parquet')\n",
        "    elif train_set == False: df1.to_parquet(f'{SAVE_PATH}diff_test_{VER}_num{Part}.parquet')\n",
        "    return df1\n",
        "  \n",
        "def onehot_encoding(df, cat_cols):\n",
        "  cat_cols = [f'{i}_last' for i in cat_cols]\n",
        "  for col in cat_cols:\n",
        "    df = pd.get_dummies(df, columns=[col], drop_first=True)\n",
        "  return df\n",
        "\n",
        "def get_difference_two(df, num_features, train_set = None, Part =None):\n",
        "    df2 = []\n",
        "    customer_ids = []\n",
        "    for customer_id, cus in tqdm(df.groupby(['customer_ID'])):\n",
        "        # Get the differences\n",
        "        diff_df2 = cus[num_features].diff(2).iloc[[-1]].values.astype(np.float32)\n",
        "        # Append to lists\n",
        "        df2.append(diff_df2)\n",
        "        customer_ids.append(customer_id)\n",
        "    # Concatenate\n",
        "    df2 = np.concatenate(df2, axis = 0)\n",
        "    # Transform to dataframe\n",
        "    df2 = pd.DataFrame(df2, columns = [col + '_diff2' for col in df[num_features].columns])\n",
        "    # Add customer id\n",
        "    df2['customer_ID'] = customer_ids\n",
        "    df2.set_index('customer_ID', inplace = True)\n",
        "    if train_set == True: df2.to_parquet(f'{SAVE_PATH}diff2_{VER}.parquet')\n",
        "    elif train_set == False: df2.to_parquet(f'{SAVE_PATH}diff2_test_{VER}_num{Part}.parquet')\n",
        "    return df2\n",
        "\n",
        "\n",
        "def label_encoding(df, cat_cols):\n",
        "  cat_cols = [f'{i}_last' for i in cat_cols]\n",
        "  for col in cat_cols:\n",
        "    encoder = LabelEncoder()\n",
        "    df[col] = encoder.fit_transform(df[col])\n",
        "    return df\n",
        "\n",
        "def iterative_imputer(df):\n",
        "  imp = IterativeImputer(\n",
        "    estimator=xgboost.XGBRegressor(\n",
        "        #n_estimators=10,\n",
        "        random_state=SEED,\n",
        "        tree_method='gpu_hist',\n",
        "    ),\n",
        "    missing_values=np.nan,\n",
        "    #max_iter=20,\n",
        "    initial_strategy='mean',\n",
        "    imputation_order='ascending',\n",
        "    #verbose=100,\n",
        "    random_state=1\n",
        "    )\n",
        "\n",
        "  df[:] = imp.fit_transform(df)\n",
        "  return df\n",
        "\n"
      ]
    },
    {
      "cell_type": "code",
      "source": [
        "#all functions compact\n",
        "def preprocess(PATH = TRAIN_PATH, TARGET_PATH = TARGET_PATH, train_set = True, test = None, Part = None):\n",
        "  if train_set == True:\n",
        "    df = read_file(path = TRAIN_PATH)\n",
        "  else:\n",
        "    df = test\n",
        "  print('read file complete')\n",
        "  df = revertnan(df)\n",
        "  print('revertnan complete')\n",
        "  df = numberobs_feature(df)\n",
        "  print('numberobs complete')\n",
        "  all_cols, cat_features, num_features = get_features(df)\n",
        "  print('get features complete')\n",
        "  #diff1 = get_difference(df, num_features, train_set = train_set, Part = Part)\n",
        "  if train_set == True: diff1 = pd.read_parquet(f'{SAVE_PATH}diff_12.parquet')\n",
        "  elif train_set == False: diff1 = pd.read_parquet(f'{SAVE_PATH}diff_test_12_num{Part}.parquet')\n",
        "  print('get diff complete')\n",
        "  #diff2 = get_difference_two(df, num_features, train_set = train_set, Part = Part)\n",
        "  if train_set == True: diff2 = pd.read_parquet(f'{SAVE_PATH}diff2_20.parquet')\n",
        "  elif train_set == False: diff2 = pd.read_parquet(f'{SAVE_PATH}diff2_test_20_num{Part}.parquet')\n",
        "  print('get diff2 complete')\n",
        "  df = agg_functions(df, num_features, cat_features, numberobs = True)\n",
        "  df = df.merge(diff1, left_index=True, right_index=True, how='left') \n",
        "  df = df.merge(diff2, left_index=True, right_index=True, how='left') \n",
        "  del diff1\n",
        "  _ = gc.collect()\n",
        "  del diff2\n",
        "  _ = gc.collect()\n",
        "  print('agg features complete')\n",
        "  df = add_meandev(df, num_features)\n",
        "  print('meandev complete')\n",
        "  df = afterpay(df)\n",
        "  print('afterpay complete')\n",
        "  # df = onehot_encoding(df, cat_cols=cat_features)\n",
        "  # print('onehot complete')\n",
        "  df = label_encoding(df, cat_cols=cat_features)\n",
        "  print('label encoding complete')\n",
        "  # df = add_Bratios(df)\n",
        "  df = fill_na(df, NAN_VALUE)\n",
        "  print('fillna complete')\n",
        "  #df = iterative_imputer(df)\n",
        "  gc.collect()\n",
        "  if train_set == True:\n",
        "    df = add_targets(df, TARGET_PATH)\n",
        "  return df"
      ],
      "metadata": {
        "id": "ESGxGlx23_r9"
      },
      "execution_count": 6,
      "outputs": []
    },
    {
      "cell_type": "code",
      "source": [
        "train = preprocess(PATH = TRAIN_PATH)"
      ],
      "metadata": {
        "id": "wneXMBFCxsi7"
      },
      "execution_count": null,
      "outputs": []
    },
    {
      "cell_type": "code",
      "source": [
        "train.to_parquet(f'{SAVE_PATH}train_{VER}.parquet')"
      ],
      "metadata": {
        "id": "9_72R0miBzTK"
      },
      "execution_count": 8,
      "outputs": []
    },
    {
      "cell_type": "code",
      "source": [
        "train = pd.read_parquet(f'{SAVE_PATH}train_{VER}.parquet')"
      ],
      "metadata": {
        "id": "rZn6fq8A6S-s"
      },
      "execution_count": 7,
      "outputs": []
    },
    {
      "cell_type": "code",
      "source": [
        "import os\n",
        "import gc\n",
        "import warnings\n",
        "warnings.filterwarnings('ignore')\n",
        "import random\n",
        "import scipy as sp\n",
        "import numpy as np\n",
        "import pandas as pd\n",
        "import joblib\n",
        "import itertools\n",
        "from tqdm.auto import tqdm\n",
        "from sklearn.model_selection import StratifiedKFold, train_test_split\n",
        "from sklearn.preprocessing import LabelEncoder\n",
        "import lightgbm as lgb\n",
        "from itertools import combinations"
      ],
      "metadata": {
        "id": "g4xZ_ghHImZ8"
      },
      "execution_count": 8,
      "outputs": []
    },
    {
      "cell_type": "code",
      "source": [
        "data = read_file(path = TRAIN_PATH)"
      ],
      "metadata": {
        "colab": {
          "base_uri": "https://localhost:8080/"
        },
        "id": "oVfIbRmjQwLs",
        "outputId": "741293d3-a7e1-4410-c05e-70d0c7216c17"
      },
      "execution_count": 9,
      "outputs": [
        {
          "output_type": "stream",
          "name": "stdout",
          "text": [
            "shape of data: (5531451, 190)\n"
          ]
        }
      ]
    },
    {
      "cell_type": "code",
      "source": [
        "all_cols, cat_features, num_features = get_features(data)"
      ],
      "metadata": {
        "id": "Ynxer_wqQu48"
      },
      "execution_count": 10,
      "outputs": []
    },
    {
      "cell_type": "code",
      "source": [
        "del data"
      ],
      "metadata": {
        "id": "0ErQrkOkQuwG"
      },
      "execution_count": 11,
      "outputs": []
    },
    {
      "cell_type": "code",
      "source": [
        "cat_features = [f\"{cf}_last\" for cf in cat_features]"
      ],
      "metadata": {
        "id": "x9eSWTFDR9QM"
      },
      "execution_count": 12,
      "outputs": []
    },
    {
      "cell_type": "code",
      "source": [
        "gc.collect()"
      ],
      "metadata": {
        "id": "BUMFnNii6aig",
        "colab": {
          "base_uri": "https://localhost:8080/"
        },
        "outputId": "3c77c56f-23b0-450c-b85f-afe8a2ce54e1"
      },
      "execution_count": 13,
      "outputs": [
        {
          "output_type": "execute_result",
          "data": {
            "text/plain": [
              "151"
            ]
          },
          "metadata": {},
          "execution_count": 13
        }
      ]
    },
    {
      "cell_type": "code",
      "source": [
        "#del train, test\n",
        "gc.collect()\n",
        "#train['number_of_observations']"
      ],
      "metadata": {
        "colab": {
          "base_uri": "https://localhost:8080/"
        },
        "id": "IvDct2Dakbao",
        "outputId": "3daf2dc6-e820-4fc0-9a00-170e4e30bd47"
      },
      "execution_count": 14,
      "outputs": [
        {
          "output_type": "execute_result",
          "data": {
            "text/plain": [
              "22"
            ]
          },
          "metadata": {},
          "execution_count": 14
        }
      ]
    },
    {
      "cell_type": "code",
      "source": [
        "def get_feature_list(df):\n",
        "  features = df.columns[1:-1]\n",
        "  print(f'There are {len(features)} features!')\n",
        "  return features"
      ],
      "metadata": {
        "id": "dLSwWNVkwika"
      },
      "execution_count": 17,
      "outputs": []
    },
    {
      "cell_type": "code",
      "source": [
        "features = get_feature_list(train)"
      ],
      "metadata": {
        "colab": {
          "base_uri": "https://localhost:8080/"
        },
        "id": "zuPN-LUvwih1",
        "outputId": "6912d139-45f5-49f3-b0e2-f28bc1309482"
      },
      "execution_count": 18,
      "outputs": [
        {
          "output_type": "stream",
          "name": "stdout",
          "text": [
            "There are 1643 features!\n"
          ]
        }
      ]
    },
    {
      "cell_type": "code",
      "source": [
        "features"
      ],
      "metadata": {
        "id": "qH6ICggMAR2s"
      },
      "execution_count": null,
      "outputs": []
    },
    {
      "cell_type": "code",
      "source": [
        "def save_features(features):\n",
        "  with open(f'{SAVE_PATH}features_V{VER}.csv', 'w') as csvfile:\n",
        "    # creating a csv writer object\n",
        "    writer = csv.writer(csvfile)    \n",
        "    writer.writerow(features) "
      ],
      "metadata": {
        "id": "UVJBCPcPFqHf"
      },
      "execution_count": 17,
      "outputs": []
    },
    {
      "cell_type": "code",
      "source": [
        "save_features(features)"
      ],
      "metadata": {
        "id": "q_BYp1ZEHfsr"
      },
      "execution_count": 18,
      "outputs": []
    },
    {
      "cell_type": "code",
      "source": [
        "del features"
      ],
      "metadata": {
        "id": "6z9E2agCBXwy"
      },
      "execution_count": null,
      "outputs": []
    },
    {
      "cell_type": "code",
      "source": [
        "features = pd.read_csv(f'{SAVE_PATH}features_V{VER}.csv')\n",
        "features = pd.Index(features.columns)\n"
      ],
      "metadata": {
        "id": "r2xe0RQw307T"
      },
      "execution_count": 15,
      "outputs": []
    },
    {
      "cell_type": "markdown",
      "source": [
        "Train XGB"
      ],
      "metadata": {
        "id": "4YdNxSUbxUyq"
      }
    },
    {
      "cell_type": "code",
      "source": [
        "def amex_metric_mod(y_true, y_pred):\n",
        "\n",
        "    labels     = np.transpose(np.array([y_true, y_pred]))\n",
        "    labels     = labels[labels[:, 1].argsort()[::-1]]\n",
        "    weights    = np.where(labels[:,0]==0, 20, 1)\n",
        "    cut_vals   = labels[np.cumsum(weights) <= int(0.04 * np.sum(weights))]\n",
        "    top_four   = np.sum(cut_vals[:,0]) / np.sum(labels[:,0])\n",
        "\n",
        "    gini = [0,0]\n",
        "    for i in [1,0]:\n",
        "        labels         = np.transpose(np.array([y_true, y_pred]))\n",
        "        labels         = labels[labels[:, i].argsort()[::-1]]\n",
        "        weight         = np.where(labels[:,0]==0, 20, 1)\n",
        "        weight_random  = np.cumsum(weight / np.sum(weight))\n",
        "        total_pos      = np.sum(labels[:, 0] *  weight)\n",
        "        cum_pos_found  = np.cumsum(labels[:, 0] * weight)\n",
        "        lorentz        = cum_pos_found / total_pos\n",
        "        gini[i]        = np.sum((lorentz - weight_random) * weight)\n",
        "\n",
        "    return 0.5 * (gini[1]/gini[0] + top_four)"
      ],
      "metadata": {
        "id": "vs-L3HSwybZq"
      },
      "execution_count": 16,
      "outputs": []
    },
    {
      "cell_type": "code",
      "source": [
        "def lgb_amex_metric(y_pred, y_true):\n",
        "    y_true = y_true.get_label()\n",
        "    return 'amex_metric', amex_metric_mod(y_true, y_pred), True"
      ],
      "metadata": {
        "id": "X1dMZTycN980"
      },
      "execution_count": 18,
      "outputs": []
    },
    {
      "cell_type": "code",
      "source": [
        "def get_lgb_parameters():\n",
        "  \n",
        "  lgb_parms = {\n",
        "        'objective': 'binary',\n",
        "        'metric': 'binary_logloss',\n",
        "        'boosting': 'dart',\n",
        "        'seed': SEED,\n",
        "        'num_leaves': 100,\n",
        "        'learning_rate': 0.01,\n",
        "        'feature_fraction': 0.20,\n",
        "        'bagging_freq': 10,\n",
        "        'bagging_fraction': 0.50,\n",
        "        'n_jobs': -1,\n",
        "        'lambda_l2': 2,\n",
        "        'min_data_in_leaf': 40,\n",
        "        'device_type': 'gpu'\n",
        "        }\n",
        "  \n",
        "  \n",
        "  \n",
        "  \n",
        "  return lgb_parms"
      ],
      "metadata": {
        "id": "oGTdE15Ax1yH"
      },
      "execution_count": 17,
      "outputs": []
    },
    {
      "cell_type": "code",
      "source": [
        "lgb_parms = get_lgb_parameters()"
      ],
      "metadata": {
        "id": "3iP8P1w5x1uj"
      },
      "execution_count": 19,
      "outputs": []
    },
    {
      "cell_type": "code",
      "source": [
        "def train_model(df, SEED=SEED, SAVE_PATH =SAVE_PATH, VER=VER, cat_features = cat_features):\n",
        "  features_importance= pd.DataFrame({'Feature':[], 'Importance':[]})\n",
        "  oof = []\n",
        "  TRAIN_SUBSAMPLE = 1.0\n",
        "  gc.collect()\n",
        "  kaggle_metrics_folds =[]\n",
        "\n",
        "  skf = StratifiedKFold(n_splits=FOLDS, shuffle=True, random_state=SEED)\n",
        "  for fold,(train_idx, valid_idx) in enumerate(skf.split(\n",
        "            df, df.target )):\n",
        "\n",
        "    \n",
        "    print('#'*25)\n",
        "    print('### Fold',fold+1)\n",
        "    print('### Train size',len(train_idx),'Valid size',len(valid_idx))\n",
        "    print(f'### Training with {int(TRAIN_SUBSAMPLE*100)}% fold data...')\n",
        "    print('#'*25)\n",
        "    \n",
        "    # TRAIN, VALID, TEST FOR FOLD K\n",
        "    X_train = df.loc[train_idx, features]\n",
        "    y_train = df.loc[train_idx, 'target']\n",
        "\n",
        "    X_valid = df.loc[valid_idx, features]\n",
        "    y_valid = df.loc[valid_idx, 'target']\n",
        "    \n",
        "\n",
        "    lgb_train = lgb.Dataset(X_train, y_train, categorical_feature = cat_features)\n",
        "    lgb_valid = lgb.Dataset(X_valid, y_valid, categorical_feature = cat_features)\n",
        "\n",
        "    print('datasets created')\n",
        "    \n",
        "    # TRAIN MODEL FOLD K\n",
        "\n",
        "    model = lgb.train(\n",
        "            params = lgb_parms,\n",
        "            train_set = lgb_train,\n",
        "            num_boost_round = 10500,\n",
        "            valid_sets = [lgb_train, lgb_valid],\n",
        "            early_stopping_rounds = 1500,\n",
        "            verbose_eval = 300\n",
        "            #feval = lgb_amex_metric\n",
        "            )\n",
        "    model.save_model(f'{SAVE_PATH}XGB_v{VER}_fold{fold}.xgb')\n",
        "    \n",
        "    # # GET FEATURE IMPORTANCE FOR FOLD K\n",
        "    # dd = model.get_score(importance_type='weight')\n",
        "    # df_pred = pd.DataFrame({'feature':dd.keys(),f'importance_{fold}':dd.values()})\n",
        "    # importances.append(df_pred)\n",
        "\n",
        "    fold_importance_df= pd.DataFrame({'Feature':[], 'Importance':[]})\n",
        "    fold_importance_df['Feature']= features\n",
        "    fold_importance_df['Importance']= model.feature_importance()\n",
        "    fold_importance_df[\"fold\"] = fold + 1\n",
        "    features_importance = pd.concat([features_importance, fold_importance_df], axis=0)\n",
        "            \n",
        "    # INFER OOF FOLD K\n",
        "    oof_preds = model.predict(df.loc[valid_idx, features], num_iteration=model.best_iteration)\n",
        "    acc = amex_metric_mod(y_valid.values, oof_preds)\n",
        "    print('Kaggle Metric =',acc,'\\n')\n",
        "    kaggle_metrics_folds.append(acc)\n",
        "    \n",
        "    # SAVE OOF\n",
        "    df_pred = df.loc[valid_idx, ['customer_ID','target'] ].copy()\n",
        "    df_pred['oof_pred'] = oof_preds\n",
        "    oof.append( df_pred )\n",
        "    \n",
        "    del  X_train, y_train #,Xy_train,\n",
        "    del X_valid, y_valid, model\n",
        "    _ = gc.collect()\n",
        "    \n",
        "  print('#'*25)\n",
        "  oof = pd.concat(oof,axis=0,ignore_index=True).set_index('customer_ID')\n",
        "  acc = amex_metric_mod(oof.target.values, oof.oof_pred.values)\n",
        "  print('OVERALL CV Kaggle Metric =',acc)\n",
        "  print(kaggle_metrics_folds)\n",
        "\n",
        "\n",
        "  # imp = importances[0].copy()\n",
        "  # for k in range(1,FOLDS): imp = imp.merge(importances[k], on='feature', how='left')\n",
        "  # imp['importance'] = imp.iloc[:,1:].mean(axis=1)\n",
        "  # imp = imp.sort_values('importance',ascending=False)\n",
        "  # imp.to_csv(f'xgb_feature_importance_v{VER}.csv',index=False)\n",
        "  return oof, features_importance"
      ],
      "metadata": {
        "id": "glTabRzUx1nn"
      },
      "execution_count": 20,
      "outputs": []
    },
    {
      "cell_type": "code",
      "source": [
        "oof, features_importance = train_model(train)"
      ],
      "metadata": {
        "colab": {
          "base_uri": "https://localhost:8080/"
        },
        "id": "AxBFuMW5x1kM",
        "outputId": "28f27812-d1f3-452c-b754-3aaae636fff6"
      },
      "execution_count": 21,
      "outputs": [
        {
          "output_type": "stream",
          "name": "stdout",
          "text": [
            "#########################\n",
            "### Fold 1\n",
            "### Train size 367130 Valid size 91783\n",
            "### Training with 100% fold data...\n",
            "#########################\n",
            "datasets created\n",
            "[LightGBM] [Info] Number of positive: 95062, number of negative: 272068\n",
            "[LightGBM] [Info] This is the GPU trainer!!\n",
            "[LightGBM] [Info] Total Bins 266820\n",
            "[LightGBM] [Info] Number of data points in the train set: 367130, number of used features: 1637\n",
            "[LightGBM] [Info] Using GPU Device: Tesla P100-PCIE-16GB, Vendor: NVIDIA Corporation\n",
            "[LightGBM] [Info] Compiling OpenCL Kernel with 256 bins...\n",
            "[LightGBM] [Info] GPU programs have been built\n",
            "[LightGBM] [Info] Size of histogram bin entry: 8\n",
            "[LightGBM] [Info] 808 dense feature groups (282.90 MB) transferred to GPU in 0.205022 secs. 1 sparse feature groups\n",
            "[LightGBM] [Info] [binary:BoostFromScore]: pavg=0.258933 -> initscore=-1.051523\n",
            "[LightGBM] [Info] Start training from score -1.051523\n",
            "[300]\ttraining's binary_logloss: 0.391992\tvalid_1's binary_logloss: 0.394399\n",
            "[600]\ttraining's binary_logloss: 0.316505\tvalid_1's binary_logloss: 0.320491\n",
            "[900]\ttraining's binary_logloss: 0.251012\tvalid_1's binary_logloss: 0.258148\n",
            "[1200]\ttraining's binary_logloss: 0.231512\tvalid_1's binary_logloss: 0.24117\n",
            "[1500]\ttraining's binary_logloss: 0.220803\tvalid_1's binary_logloss: 0.232895\n",
            "[1800]\ttraining's binary_logloss: 0.211966\tvalid_1's binary_logloss: 0.227172\n",
            "[2100]\ttraining's binary_logloss: 0.205886\tvalid_1's binary_logloss: 0.224069\n",
            "[2400]\ttraining's binary_logloss: 0.201699\tvalid_1's binary_logloss: 0.222446\n",
            "[2700]\ttraining's binary_logloss: 0.197579\tvalid_1's binary_logloss: 0.2211\n",
            "[3000]\ttraining's binary_logloss: 0.193533\tvalid_1's binary_logloss: 0.219923\n",
            "[3300]\ttraining's binary_logloss: 0.189865\tvalid_1's binary_logloss: 0.219084\n",
            "[3600]\ttraining's binary_logloss: 0.185993\tvalid_1's binary_logloss: 0.21839\n",
            "[3900]\ttraining's binary_logloss: 0.182401\tvalid_1's binary_logloss: 0.217815\n",
            "[4200]\ttraining's binary_logloss: 0.179031\tvalid_1's binary_logloss: 0.217316\n",
            "[4500]\ttraining's binary_logloss: 0.175923\tvalid_1's binary_logloss: 0.216977\n",
            "[4800]\ttraining's binary_logloss: 0.172555\tvalid_1's binary_logloss: 0.216567\n",
            "[5100]\ttraining's binary_logloss: 0.169643\tvalid_1's binary_logloss: 0.216337\n",
            "[5400]\ttraining's binary_logloss: 0.166727\tvalid_1's binary_logloss: 0.21608\n",
            "[5700]\ttraining's binary_logloss: 0.163784\tvalid_1's binary_logloss: 0.215886\n",
            "[6000]\ttraining's binary_logloss: 0.161422\tvalid_1's binary_logloss: 0.215724\n",
            "[6300]\ttraining's binary_logloss: 0.158818\tvalid_1's binary_logloss: 0.215603\n",
            "[6600]\ttraining's binary_logloss: 0.155921\tvalid_1's binary_logloss: 0.21543\n",
            "[6900]\ttraining's binary_logloss: 0.152912\tvalid_1's binary_logloss: 0.215273\n",
            "[7200]\ttraining's binary_logloss: 0.149886\tvalid_1's binary_logloss: 0.215178\n",
            "[7500]\ttraining's binary_logloss: 0.147166\tvalid_1's binary_logloss: 0.215093\n",
            "[7800]\ttraining's binary_logloss: 0.144832\tvalid_1's binary_logloss: 0.215018\n",
            "[8100]\ttraining's binary_logloss: 0.142159\tvalid_1's binary_logloss: 0.214972\n",
            "[8400]\ttraining's binary_logloss: 0.139904\tvalid_1's binary_logloss: 0.214938\n",
            "[8700]\ttraining's binary_logloss: 0.13736\tvalid_1's binary_logloss: 0.214899\n",
            "[9000]\ttraining's binary_logloss: 0.135107\tvalid_1's binary_logloss: 0.21487\n",
            "[9300]\ttraining's binary_logloss: 0.13276\tvalid_1's binary_logloss: 0.214845\n",
            "[9600]\ttraining's binary_logloss: 0.130628\tvalid_1's binary_logloss: 0.21482\n",
            "[9900]\ttraining's binary_logloss: 0.128367\tvalid_1's binary_logloss: 0.214774\n",
            "[10200]\ttraining's binary_logloss: 0.126723\tvalid_1's binary_logloss: 0.214738\n",
            "[10500]\ttraining's binary_logloss: 0.124556\tvalid_1's binary_logloss: 0.21471\n",
            "Kaggle Metric = 0.7964603146982978 \n",
            "\n",
            "#########################\n",
            "### Fold 2\n",
            "### Train size 367130 Valid size 91783\n",
            "### Training with 100% fold data...\n",
            "#########################\n",
            "datasets created\n",
            "[LightGBM] [Info] Number of positive: 95062, number of negative: 272068\n",
            "[LightGBM] [Info] This is the GPU trainer!!\n",
            "[LightGBM] [Info] Total Bins 266747\n",
            "[LightGBM] [Info] Number of data points in the train set: 367130, number of used features: 1637\n",
            "[LightGBM] [Info] Using GPU Device: Tesla P100-PCIE-16GB, Vendor: NVIDIA Corporation\n",
            "[LightGBM] [Info] Compiling OpenCL Kernel with 256 bins...\n",
            "[LightGBM] [Info] GPU programs have been built\n",
            "[LightGBM] [Info] Size of histogram bin entry: 8\n",
            "[LightGBM] [Info] 809 dense feature groups (284.30 MB) transferred to GPU in 0.196531 secs. 1 sparse feature groups\n",
            "[LightGBM] [Info] [binary:BoostFromScore]: pavg=0.258933 -> initscore=-1.051523\n",
            "[LightGBM] [Info] Start training from score -1.051523\n",
            "[300]\ttraining's binary_logloss: 0.391982\tvalid_1's binary_logloss: 0.394376\n",
            "[600]\ttraining's binary_logloss: 0.316564\tvalid_1's binary_logloss: 0.320486\n",
            "[900]\ttraining's binary_logloss: 0.251109\tvalid_1's binary_logloss: 0.258014\n",
            "[1200]\ttraining's binary_logloss: 0.231597\tvalid_1's binary_logloss: 0.240831\n",
            "[1500]\ttraining's binary_logloss: 0.220872\tvalid_1's binary_logloss: 0.23246\n",
            "[1800]\ttraining's binary_logloss: 0.212085\tvalid_1's binary_logloss: 0.226678\n",
            "[2100]\ttraining's binary_logloss: 0.205971\tvalid_1's binary_logloss: 0.22358\n",
            "[2400]\ttraining's binary_logloss: 0.201759\tvalid_1's binary_logloss: 0.22192\n",
            "[2700]\ttraining's binary_logloss: 0.197642\tvalid_1's binary_logloss: 0.220577\n",
            "[3000]\ttraining's binary_logloss: 0.193696\tvalid_1's binary_logloss: 0.219471\n",
            "[3300]\ttraining's binary_logloss: 0.190011\tvalid_1's binary_logloss: 0.218598\n",
            "[3600]\ttraining's binary_logloss: 0.186159\tvalid_1's binary_logloss: 0.217849\n",
            "[3900]\ttraining's binary_logloss: 0.182522\tvalid_1's binary_logloss: 0.217305\n",
            "[4200]\ttraining's binary_logloss: 0.179146\tvalid_1's binary_logloss: 0.216846\n",
            "[4500]\ttraining's binary_logloss: 0.176027\tvalid_1's binary_logloss: 0.216512\n",
            "[4800]\ttraining's binary_logloss: 0.172623\tvalid_1's binary_logloss: 0.216097\n",
            "[5100]\ttraining's binary_logloss: 0.169717\tvalid_1's binary_logloss: 0.215853\n",
            "[5400]\ttraining's binary_logloss: 0.166809\tvalid_1's binary_logloss: 0.215612\n",
            "[5700]\ttraining's binary_logloss: 0.163847\tvalid_1's binary_logloss: 0.215467\n",
            "[6000]\ttraining's binary_logloss: 0.161491\tvalid_1's binary_logloss: 0.215374\n",
            "[6300]\ttraining's binary_logloss: 0.158888\tvalid_1's binary_logloss: 0.215231\n",
            "[6600]\ttraining's binary_logloss: 0.15598\tvalid_1's binary_logloss: 0.215078\n",
            "[6900]\ttraining's binary_logloss: 0.152956\tvalid_1's binary_logloss: 0.21492\n",
            "[7200]\ttraining's binary_logloss: 0.149942\tvalid_1's binary_logloss: 0.214851\n",
            "[7500]\ttraining's binary_logloss: 0.147221\tvalid_1's binary_logloss: 0.214804\n",
            "[7800]\ttraining's binary_logloss: 0.144881\tvalid_1's binary_logloss: 0.214662\n",
            "[8100]\ttraining's binary_logloss: 0.142167\tvalid_1's binary_logloss: 0.214569\n",
            "[8400]\ttraining's binary_logloss: 0.139887\tvalid_1's binary_logloss: 0.21452\n",
            "[8700]\ttraining's binary_logloss: 0.137355\tvalid_1's binary_logloss: 0.214519\n",
            "[9000]\ttraining's binary_logloss: 0.135083\tvalid_1's binary_logloss: 0.214521\n",
            "[9300]\ttraining's binary_logloss: 0.132715\tvalid_1's binary_logloss: 0.214507\n",
            "[9600]\ttraining's binary_logloss: 0.130583\tvalid_1's binary_logloss: 0.21452\n",
            "[9900]\ttraining's binary_logloss: 0.128322\tvalid_1's binary_logloss: 0.214508\n",
            "[10200]\ttraining's binary_logloss: 0.126682\tvalid_1's binary_logloss: 0.214532\n",
            "[10500]\ttraining's binary_logloss: 0.124507\tvalid_1's binary_logloss: 0.214528\n",
            "Kaggle Metric = 0.7959128588711647 \n",
            "\n",
            "#########################\n",
            "### Fold 3\n",
            "### Train size 367130 Valid size 91783\n",
            "### Training with 100% fold data...\n",
            "#########################\n",
            "datasets created\n",
            "[LightGBM] [Info] Number of positive: 95062, number of negative: 272068\n",
            "[LightGBM] [Info] This is the GPU trainer!!\n",
            "[LightGBM] [Info] Total Bins 266925\n",
            "[LightGBM] [Info] Number of data points in the train set: 367130, number of used features: 1637\n",
            "[LightGBM] [Info] Using GPU Device: Tesla P100-PCIE-16GB, Vendor: NVIDIA Corporation\n",
            "[LightGBM] [Info] Compiling OpenCL Kernel with 256 bins...\n",
            "[LightGBM] [Info] GPU programs have been built\n",
            "[LightGBM] [Info] Size of histogram bin entry: 8\n",
            "[LightGBM] [Info] 809 dense feature groups (284.30 MB) transferred to GPU in 0.197550 secs. 1 sparse feature groups\n",
            "[LightGBM] [Info] [binary:BoostFromScore]: pavg=0.258933 -> initscore=-1.051523\n",
            "[LightGBM] [Info] Start training from score -1.051523\n",
            "[300]\ttraining's binary_logloss: 0.392376\tvalid_1's binary_logloss: 0.393652\n",
            "[600]\ttraining's binary_logloss: 0.316891\tvalid_1's binary_logloss: 0.319233\n",
            "[900]\ttraining's binary_logloss: 0.251596\tvalid_1's binary_logloss: 0.256287\n",
            "[1200]\ttraining's binary_logloss: 0.232154\tvalid_1's binary_logloss: 0.239213\n",
            "[1500]\ttraining's binary_logloss: 0.221472\tvalid_1's binary_logloss: 0.230841\n",
            "[1800]\ttraining's binary_logloss: 0.212657\tvalid_1's binary_logloss: 0.224876\n",
            "[2100]\ttraining's binary_logloss: 0.206555\tvalid_1's binary_logloss: 0.221631\n",
            "[2400]\ttraining's binary_logloss: 0.202328\tvalid_1's binary_logloss: 0.21998\n",
            "[2700]\ttraining's binary_logloss: 0.198199\tvalid_1's binary_logloss: 0.218504\n",
            "[3000]\ttraining's binary_logloss: 0.194194\tvalid_1's binary_logloss: 0.21732\n",
            "[3300]\ttraining's binary_logloss: 0.190516\tvalid_1's binary_logloss: 0.216508\n",
            "[3600]\ttraining's binary_logloss: 0.186605\tvalid_1's binary_logloss: 0.215754\n",
            "[3900]\ttraining's binary_logloss: 0.182989\tvalid_1's binary_logloss: 0.215147\n",
            "[4200]\ttraining's binary_logloss: 0.179643\tvalid_1's binary_logloss: 0.214727\n",
            "[4500]\ttraining's binary_logloss: 0.176548\tvalid_1's binary_logloss: 0.214413\n",
            "[4800]\ttraining's binary_logloss: 0.173142\tvalid_1's binary_logloss: 0.214063\n",
            "[5100]\ttraining's binary_logloss: 0.17022\tvalid_1's binary_logloss: 0.213834\n",
            "[5400]\ttraining's binary_logloss: 0.167332\tvalid_1's binary_logloss: 0.21362\n",
            "[5700]\ttraining's binary_logloss: 0.164396\tvalid_1's binary_logloss: 0.213408\n",
            "[6000]\ttraining's binary_logloss: 0.162026\tvalid_1's binary_logloss: 0.213345\n",
            "[6300]\ttraining's binary_logloss: 0.159429\tvalid_1's binary_logloss: 0.213203\n",
            "[6600]\ttraining's binary_logloss: 0.156521\tvalid_1's binary_logloss: 0.213053\n",
            "[6900]\ttraining's binary_logloss: 0.153494\tvalid_1's binary_logloss: 0.212874\n",
            "[7200]\ttraining's binary_logloss: 0.150476\tvalid_1's binary_logloss: 0.212787\n",
            "[7500]\ttraining's binary_logloss: 0.147773\tvalid_1's binary_logloss: 0.212677\n",
            "[7800]\ttraining's binary_logloss: 0.145466\tvalid_1's binary_logloss: 0.212666\n",
            "[8100]\ttraining's binary_logloss: 0.142756\tvalid_1's binary_logloss: 0.212596\n",
            "[8400]\ttraining's binary_logloss: 0.140476\tvalid_1's binary_logloss: 0.212547\n",
            "[8700]\ttraining's binary_logloss: 0.137922\tvalid_1's binary_logloss: 0.212464\n",
            "[9000]\ttraining's binary_logloss: 0.135641\tvalid_1's binary_logloss: 0.212438\n",
            "[9300]\ttraining's binary_logloss: 0.133271\tvalid_1's binary_logloss: 0.212395\n",
            "[9600]\ttraining's binary_logloss: 0.13113\tvalid_1's binary_logloss: 0.212358\n",
            "[9900]\ttraining's binary_logloss: 0.128857\tvalid_1's binary_logloss: 0.212299\n",
            "[10200]\ttraining's binary_logloss: 0.127213\tvalid_1's binary_logloss: 0.212324\n",
            "[10500]\ttraining's binary_logloss: 0.125016\tvalid_1's binary_logloss: 0.212284\n",
            "Kaggle Metric = 0.8014748225089119 \n",
            "\n",
            "#########################\n",
            "### Fold 4\n",
            "### Train size 367131 Valid size 91782\n",
            "### Training with 100% fold data...\n",
            "#########################\n",
            "datasets created\n",
            "[LightGBM] [Info] Number of positive: 95063, number of negative: 272068\n",
            "[LightGBM] [Info] This is the GPU trainer!!\n",
            "[LightGBM] [Info] Total Bins 266844\n",
            "[LightGBM] [Info] Number of data points in the train set: 367131, number of used features: 1637\n",
            "[LightGBM] [Info] Using GPU Device: Tesla P100-PCIE-16GB, Vendor: NVIDIA Corporation\n",
            "[LightGBM] [Info] Compiling OpenCL Kernel with 256 bins...\n",
            "[LightGBM] [Info] GPU programs have been built\n",
            "[LightGBM] [Info] Size of histogram bin entry: 8\n",
            "[LightGBM] [Info] 811 dense feature groups (284.30 MB) transferred to GPU in 0.195456 secs. 1 sparse feature groups\n",
            "[LightGBM] [Info] [binary:BoostFromScore]: pavg=0.258935 -> initscore=-1.051512\n",
            "[LightGBM] [Info] Start training from score -1.051512\n",
            "[300]\ttraining's binary_logloss: 0.39183\tvalid_1's binary_logloss: 0.394742\n",
            "[600]\ttraining's binary_logloss: 0.316141\tvalid_1's binary_logloss: 0.321075\n",
            "[900]\ttraining's binary_logloss: 0.250623\tvalid_1's binary_logloss: 0.259232\n",
            "[1200]\ttraining's binary_logloss: 0.231094\tvalid_1's binary_logloss: 0.242422\n",
            "[1500]\ttraining's binary_logloss: 0.22038\tvalid_1's binary_logloss: 0.234164\n",
            "[1800]\ttraining's binary_logloss: 0.211599\tvalid_1's binary_logloss: 0.228439\n",
            "[2100]\ttraining's binary_logloss: 0.205574\tvalid_1's binary_logloss: 0.225378\n",
            "[2400]\ttraining's binary_logloss: 0.201353\tvalid_1's binary_logloss: 0.223711\n",
            "[2700]\ttraining's binary_logloss: 0.197202\tvalid_1's binary_logloss: 0.22233\n",
            "[3000]\ttraining's binary_logloss: 0.193158\tvalid_1's binary_logloss: 0.221192\n",
            "[3300]\ttraining's binary_logloss: 0.189521\tvalid_1's binary_logloss: 0.220368\n",
            "[3600]\ttraining's binary_logloss: 0.185658\tvalid_1's binary_logloss: 0.219662\n",
            "[3900]\ttraining's binary_logloss: 0.182099\tvalid_1's binary_logloss: 0.219116\n",
            "[4200]\ttraining's binary_logloss: 0.178731\tvalid_1's binary_logloss: 0.218698\n",
            "[4500]\ttraining's binary_logloss: 0.175644\tvalid_1's binary_logloss: 0.218409\n",
            "[4800]\ttraining's binary_logloss: 0.172253\tvalid_1's binary_logloss: 0.217995\n",
            "[5100]\ttraining's binary_logloss: 0.169334\tvalid_1's binary_logloss: 0.217815\n",
            "[5400]\ttraining's binary_logloss: 0.166437\tvalid_1's binary_logloss: 0.217632\n",
            "[5700]\ttraining's binary_logloss: 0.163516\tvalid_1's binary_logloss: 0.217478\n",
            "[6000]\ttraining's binary_logloss: 0.161124\tvalid_1's binary_logloss: 0.217327\n",
            "[6300]\ttraining's binary_logloss: 0.158509\tvalid_1's binary_logloss: 0.217179\n",
            "[6600]\ttraining's binary_logloss: 0.155597\tvalid_1's binary_logloss: 0.216989\n",
            "[6900]\ttraining's binary_logloss: 0.152594\tvalid_1's binary_logloss: 0.21683\n",
            "[7200]\ttraining's binary_logloss: 0.149552\tvalid_1's binary_logloss: 0.216717\n",
            "[7500]\ttraining's binary_logloss: 0.146843\tvalid_1's binary_logloss: 0.216608\n",
            "[7800]\ttraining's binary_logloss: 0.144516\tvalid_1's binary_logloss: 0.216581\n",
            "[8100]\ttraining's binary_logloss: 0.141796\tvalid_1's binary_logloss: 0.216487\n",
            "[8400]\ttraining's binary_logloss: 0.139544\tvalid_1's binary_logloss: 0.216481\n",
            "[8700]\ttraining's binary_logloss: 0.136965\tvalid_1's binary_logloss: 0.216422\n",
            "[9000]\ttraining's binary_logloss: 0.134699\tvalid_1's binary_logloss: 0.216426\n",
            "[9300]\ttraining's binary_logloss: 0.132346\tvalid_1's binary_logloss: 0.216364\n",
            "[9600]\ttraining's binary_logloss: 0.130244\tvalid_1's binary_logloss: 0.216382\n",
            "[9900]\ttraining's binary_logloss: 0.127991\tvalid_1's binary_logloss: 0.216338\n",
            "[10200]\ttraining's binary_logloss: 0.126356\tvalid_1's binary_logloss: 0.216356\n",
            "[10500]\ttraining's binary_logloss: 0.124186\tvalid_1's binary_logloss: 0.216328\n",
            "Kaggle Metric = 0.7938269570286345 \n",
            "\n",
            "#########################\n",
            "### Fold 5\n",
            "### Train size 367131 Valid size 91782\n",
            "### Training with 100% fold data...\n",
            "#########################\n",
            "datasets created\n",
            "[LightGBM] [Info] Number of positive: 95063, number of negative: 272068\n",
            "[LightGBM] [Info] This is the GPU trainer!!\n",
            "[LightGBM] [Info] Total Bins 266764\n",
            "[LightGBM] [Info] Number of data points in the train set: 367131, number of used features: 1637\n",
            "[LightGBM] [Info] Using GPU Device: Tesla P100-PCIE-16GB, Vendor: NVIDIA Corporation\n",
            "[LightGBM] [Info] Compiling OpenCL Kernel with 256 bins...\n",
            "[LightGBM] [Info] GPU programs have been built\n",
            "[LightGBM] [Info] Size of histogram bin entry: 8\n",
            "[LightGBM] [Info] 809 dense feature groups (284.30 MB) transferred to GPU in 0.197712 secs. 1 sparse feature groups\n",
            "[LightGBM] [Info] [binary:BoostFromScore]: pavg=0.258935 -> initscore=-1.051512\n",
            "[LightGBM] [Info] Start training from score -1.051512\n",
            "[300]\ttraining's binary_logloss: 0.392106\tvalid_1's binary_logloss: 0.394086\n",
            "[600]\ttraining's binary_logloss: 0.31663\tvalid_1's binary_logloss: 0.320129\n",
            "[900]\ttraining's binary_logloss: 0.251307\tvalid_1's binary_logloss: 0.257423\n",
            "[1200]\ttraining's binary_logloss: 0.231871\tvalid_1's binary_logloss: 0.240272\n",
            "[1500]\ttraining's binary_logloss: 0.221197\tvalid_1's binary_logloss: 0.231866\n",
            "[1800]\ttraining's binary_logloss: 0.212446\tvalid_1's binary_logloss: 0.225924\n",
            "[2100]\ttraining's binary_logloss: 0.206339\tvalid_1's binary_logloss: 0.222726\n",
            "[2400]\ttraining's binary_logloss: 0.202134\tvalid_1's binary_logloss: 0.221006\n",
            "[2700]\ttraining's binary_logloss: 0.197987\tvalid_1's binary_logloss: 0.219503\n",
            "[3000]\ttraining's binary_logloss: 0.193979\tvalid_1's binary_logloss: 0.218362\n",
            "[3300]\ttraining's binary_logloss: 0.190316\tvalid_1's binary_logloss: 0.217461\n",
            "[3600]\ttraining's binary_logloss: 0.186436\tvalid_1's binary_logloss: 0.216672\n",
            "[3900]\ttraining's binary_logloss: 0.182824\tvalid_1's binary_logloss: 0.216084\n",
            "[4200]\ttraining's binary_logloss: 0.179454\tvalid_1's binary_logloss: 0.215607\n",
            "[4500]\ttraining's binary_logloss: 0.176342\tvalid_1's binary_logloss: 0.215247\n",
            "[4800]\ttraining's binary_logloss: 0.172937\tvalid_1's binary_logloss: 0.214841\n",
            "[5100]\ttraining's binary_logloss: 0.170013\tvalid_1's binary_logloss: 0.214619\n",
            "[5400]\ttraining's binary_logloss: 0.167122\tvalid_1's binary_logloss: 0.214405\n",
            "[5700]\ttraining's binary_logloss: 0.164197\tvalid_1's binary_logloss: 0.214272\n",
            "[6000]\ttraining's binary_logloss: 0.161826\tvalid_1's binary_logloss: 0.214119\n",
            "[6300]\ttraining's binary_logloss: 0.1592\tvalid_1's binary_logloss: 0.213936\n",
            "[6600]\ttraining's binary_logloss: 0.156288\tvalid_1's binary_logloss: 0.213814\n",
            "[6900]\ttraining's binary_logloss: 0.153267\tvalid_1's binary_logloss: 0.213718\n",
            "[7200]\ttraining's binary_logloss: 0.150224\tvalid_1's binary_logloss: 0.213603\n",
            "[7500]\ttraining's binary_logloss: 0.147487\tvalid_1's binary_logloss: 0.213503\n",
            "[7800]\ttraining's binary_logloss: 0.145148\tvalid_1's binary_logloss: 0.213491\n",
            "[8100]\ttraining's binary_logloss: 0.142439\tvalid_1's binary_logloss: 0.213392\n",
            "[8400]\ttraining's binary_logloss: 0.140177\tvalid_1's binary_logloss: 0.213307\n",
            "[8700]\ttraining's binary_logloss: 0.13761\tvalid_1's binary_logloss: 0.213239\n",
            "[9000]\ttraining's binary_logloss: 0.135325\tvalid_1's binary_logloss: 0.213235\n",
            "[9300]\ttraining's binary_logloss: 0.132965\tvalid_1's binary_logloss: 0.213258\n",
            "[9600]\ttraining's binary_logloss: 0.130839\tvalid_1's binary_logloss: 0.213263\n",
            "[9900]\ttraining's binary_logloss: 0.128579\tvalid_1's binary_logloss: 0.213255\n",
            "[10200]\ttraining's binary_logloss: 0.126935\tvalid_1's binary_logloss: 0.21327\n",
            "[10500]\ttraining's binary_logloss: 0.124758\tvalid_1's binary_logloss: 0.213286\n",
            "Kaggle Metric = 0.8000917093881275 \n",
            "\n",
            "#########################\n",
            "OVERALL CV Kaggle Metric = 0.7974856519454689\n",
            "[0.7964603146982978, 0.7959128588711647, 0.8014748225089119, 0.7938269570286345, 0.8000917093881275]\n"
          ]
        }
      ]
    },
    {
      "cell_type": "code",
      "source": [
        "oof.to_parquet(f'{SAVE_PATH}oof_V{VER}.csv')\n",
        "features_importance.to_parquet(f'{SAVE_PATH}importance_V{VER}.csv')"
      ],
      "metadata": {
        "id": "tZuh3N1QlKcg"
      },
      "execution_count": 22,
      "outputs": []
    },
    {
      "cell_type": "code",
      "source": [
        "def get_header(df):\n",
        "  header=['Version']\n",
        "  for col in df.columns:\n",
        "    if col not in ['customer_ID', 'S_2']:\n",
        "      cname = f'{col}_lower'\n",
        "      header.append(cname)\n",
        "      cname = f'{col}_upper'\n",
        "      header.append(cname)\n",
        "  return header\n",
        "\n",
        "\n",
        "header = get_header(train_agg)\n",
        "\n",
        "with open(f'{SAVE_PATH}oof_results.csv', 'w') as csvfile: \n",
        "    # creating a csv writer object \n",
        "    writer = csv.writer(csvfile) \n",
        "\n",
        "    #header = ['Version'] +list(train_agg.columns)    \n",
        "    writer.writerow(header) "
      ],
      "metadata": {
        "id": "hLssDQpPWEoc"
      },
      "execution_count": null,
      "outputs": []
    },
    {
      "cell_type": "code",
      "source": [
        "gc.collect()"
      ],
      "metadata": {
        "colab": {
          "base_uri": "https://localhost:8080/"
        },
        "id": "k4C-p1qFLFdy",
        "outputId": "aa25a3e2-7f76-447e-832a-f424102e16bd"
      },
      "execution_count": 30,
      "outputs": [
        {
          "output_type": "execute_result",
          "data": {
            "text/plain": [
              "63"
            ]
          },
          "metadata": {},
          "execution_count": 30
        }
      ]
    },
    {
      "cell_type": "code",
      "source": [
        "breakdown"
      ],
      "metadata": {
        "id": "YjixIjoLEeRq"
      },
      "execution_count": null,
      "outputs": []
    },
    {
      "cell_type": "code",
      "source": [
        "breakdown.to_parquet(f'{SAVE_PATH}breakdown_V{VER}.csv')"
      ],
      "metadata": {
        "id": "I8-_wPiRNHPs"
      },
      "execution_count": 34,
      "outputs": []
    },
    {
      "cell_type": "code",
      "source": [
        "oof"
      ],
      "metadata": {
        "colab": {
          "base_uri": "https://localhost:8080/",
          "height": 455
        },
        "id": "UVFYG8Im0uJZ",
        "outputId": "584d17dd-923d-4f9b-c8ed-d3cd64a81689"
      },
      "execution_count": 42,
      "outputs": [
        {
          "output_type": "execute_result",
          "data": {
            "text/plain": [
              "                      target  oof_pred\n",
              "customer_ID                           \n",
              "195745370954238            0  0.000196\n",
              "861377627745855            0  0.000675\n",
              "928884405244202            0  0.044520\n",
              "1239928347876539           0  0.003082\n",
              "1243572453994939           0  0.007462\n",
              "...                      ...       ...\n",
              "18445652994177242937       0  0.005339\n",
              "18445805218934687167       0  0.001437\n",
              "18446212425763655834       0  0.024474\n",
              "18446361221730311137       0  0.001267\n",
              "18446496002574017303       0  0.002114\n",
              "\n",
              "[458913 rows x 2 columns]"
            ],
            "text/html": [
              "\n",
              "  <div id=\"df-37b614e2-23b0-4aed-bec6-a31e4e8e327f\">\n",
              "    <div class=\"colab-df-container\">\n",
              "      <div>\n",
              "<style scoped>\n",
              "    .dataframe tbody tr th:only-of-type {\n",
              "        vertical-align: middle;\n",
              "    }\n",
              "\n",
              "    .dataframe tbody tr th {\n",
              "        vertical-align: top;\n",
              "    }\n",
              "\n",
              "    .dataframe thead th {\n",
              "        text-align: right;\n",
              "    }\n",
              "</style>\n",
              "<table border=\"1\" class=\"dataframe\">\n",
              "  <thead>\n",
              "    <tr style=\"text-align: right;\">\n",
              "      <th></th>\n",
              "      <th>target</th>\n",
              "      <th>oof_pred</th>\n",
              "    </tr>\n",
              "    <tr>\n",
              "      <th>customer_ID</th>\n",
              "      <th></th>\n",
              "      <th></th>\n",
              "    </tr>\n",
              "  </thead>\n",
              "  <tbody>\n",
              "    <tr>\n",
              "      <th>195745370954238</th>\n",
              "      <td>0</td>\n",
              "      <td>0.000196</td>\n",
              "    </tr>\n",
              "    <tr>\n",
              "      <th>861377627745855</th>\n",
              "      <td>0</td>\n",
              "      <td>0.000675</td>\n",
              "    </tr>\n",
              "    <tr>\n",
              "      <th>928884405244202</th>\n",
              "      <td>0</td>\n",
              "      <td>0.044520</td>\n",
              "    </tr>\n",
              "    <tr>\n",
              "      <th>1239928347876539</th>\n",
              "      <td>0</td>\n",
              "      <td>0.003082</td>\n",
              "    </tr>\n",
              "    <tr>\n",
              "      <th>1243572453994939</th>\n",
              "      <td>0</td>\n",
              "      <td>0.007462</td>\n",
              "    </tr>\n",
              "    <tr>\n",
              "      <th>...</th>\n",
              "      <td>...</td>\n",
              "      <td>...</td>\n",
              "    </tr>\n",
              "    <tr>\n",
              "      <th>18445652994177242937</th>\n",
              "      <td>0</td>\n",
              "      <td>0.005339</td>\n",
              "    </tr>\n",
              "    <tr>\n",
              "      <th>18445805218934687167</th>\n",
              "      <td>0</td>\n",
              "      <td>0.001437</td>\n",
              "    </tr>\n",
              "    <tr>\n",
              "      <th>18446212425763655834</th>\n",
              "      <td>0</td>\n",
              "      <td>0.024474</td>\n",
              "    </tr>\n",
              "    <tr>\n",
              "      <th>18446361221730311137</th>\n",
              "      <td>0</td>\n",
              "      <td>0.001267</td>\n",
              "    </tr>\n",
              "    <tr>\n",
              "      <th>18446496002574017303</th>\n",
              "      <td>0</td>\n",
              "      <td>0.002114</td>\n",
              "    </tr>\n",
              "  </tbody>\n",
              "</table>\n",
              "<p>458913 rows × 2 columns</p>\n",
              "</div>\n",
              "      <button class=\"colab-df-convert\" onclick=\"convertToInteractive('df-37b614e2-23b0-4aed-bec6-a31e4e8e327f')\"\n",
              "              title=\"Convert this dataframe to an interactive table.\"\n",
              "              style=\"display:none;\">\n",
              "        \n",
              "  <svg xmlns=\"http://www.w3.org/2000/svg\" height=\"24px\"viewBox=\"0 0 24 24\"\n",
              "       width=\"24px\">\n",
              "    <path d=\"M0 0h24v24H0V0z\" fill=\"none\"/>\n",
              "    <path d=\"M18.56 5.44l.94 2.06.94-2.06 2.06-.94-2.06-.94-.94-2.06-.94 2.06-2.06.94zm-11 1L8.5 8.5l.94-2.06 2.06-.94-2.06-.94L8.5 2.5l-.94 2.06-2.06.94zm10 10l.94 2.06.94-2.06 2.06-.94-2.06-.94-.94-2.06-.94 2.06-2.06.94z\"/><path d=\"M17.41 7.96l-1.37-1.37c-.4-.4-.92-.59-1.43-.59-.52 0-1.04.2-1.43.59L10.3 9.45l-7.72 7.72c-.78.78-.78 2.05 0 2.83L4 21.41c.39.39.9.59 1.41.59.51 0 1.02-.2 1.41-.59l7.78-7.78 2.81-2.81c.8-.78.8-2.07 0-2.86zM5.41 20L4 18.59l7.72-7.72 1.47 1.35L5.41 20z\"/>\n",
              "  </svg>\n",
              "      </button>\n",
              "      \n",
              "  <style>\n",
              "    .colab-df-container {\n",
              "      display:flex;\n",
              "      flex-wrap:wrap;\n",
              "      gap: 12px;\n",
              "    }\n",
              "\n",
              "    .colab-df-convert {\n",
              "      background-color: #E8F0FE;\n",
              "      border: none;\n",
              "      border-radius: 50%;\n",
              "      cursor: pointer;\n",
              "      display: none;\n",
              "      fill: #1967D2;\n",
              "      height: 32px;\n",
              "      padding: 0 0 0 0;\n",
              "      width: 32px;\n",
              "    }\n",
              "\n",
              "    .colab-df-convert:hover {\n",
              "      background-color: #E2EBFA;\n",
              "      box-shadow: 0px 1px 2px rgba(60, 64, 67, 0.3), 0px 1px 3px 1px rgba(60, 64, 67, 0.15);\n",
              "      fill: #174EA6;\n",
              "    }\n",
              "\n",
              "    [theme=dark] .colab-df-convert {\n",
              "      background-color: #3B4455;\n",
              "      fill: #D2E3FC;\n",
              "    }\n",
              "\n",
              "    [theme=dark] .colab-df-convert:hover {\n",
              "      background-color: #434B5C;\n",
              "      box-shadow: 0px 1px 3px 1px rgba(0, 0, 0, 0.15);\n",
              "      filter: drop-shadow(0px 1px 2px rgba(0, 0, 0, 0.3));\n",
              "      fill: #FFFFFF;\n",
              "    }\n",
              "  </style>\n",
              "\n",
              "      <script>\n",
              "        const buttonEl =\n",
              "          document.querySelector('#df-37b614e2-23b0-4aed-bec6-a31e4e8e327f button.colab-df-convert');\n",
              "        buttonEl.style.display =\n",
              "          google.colab.kernel.accessAllowed ? 'block' : 'none';\n",
              "\n",
              "        async function convertToInteractive(key) {\n",
              "          const element = document.querySelector('#df-37b614e2-23b0-4aed-bec6-a31e4e8e327f');\n",
              "          const dataTable =\n",
              "            await google.colab.kernel.invokeFunction('convertToInteractive',\n",
              "                                                     [key], {});\n",
              "          if (!dataTable) return;\n",
              "\n",
              "          const docLinkHtml = 'Like what you see? Visit the ' +\n",
              "            '<a target=\"_blank\" href=https://colab.research.google.com/notebooks/data_table.ipynb>data table notebook</a>'\n",
              "            + ' to learn more about interactive tables.';\n",
              "          element.innerHTML = '';\n",
              "          dataTable['output_type'] = 'display_data';\n",
              "          await google.colab.output.renderOutput(dataTable, element);\n",
              "          const docLink = document.createElement('div');\n",
              "          docLink.innerHTML = docLinkHtml;\n",
              "          element.appendChild(docLink);\n",
              "        }\n",
              "      </script>\n",
              "    </div>\n",
              "  </div>\n",
              "  "
            ]
          },
          "metadata": {},
          "execution_count": 42
        }
      ]
    },
    {
      "cell_type": "markdown",
      "source": [
        "\n",
        "\n",
        "```\n",
        "base = 0.791536\n",
        "ohne na Behandlung = 0.790870\n",
        "na fill nach agg = 0.7916640\n",
        "revertnan und na_fill nach agg = 0.791823\n",
        "mit number of obs (und na_fill nach agg) = 0.79223834\n",
        "so mit growth feature = 0.79185923 ??\n",
        "mit abschange = 0.7917617 ??\n",
        "mit abschange nicht skaliert = 0.791859 ?\n",
        "number of obs in buckets (größer 10) + abschange = 0.7915386 ?\n",
        "mit number_of_obs und min-max = 0.792181\n",
        "mit number of obs (und na_fill nach agg)fillna vor meandev + mean deviation = 0.792464\n",
        "mit number of obs (und na_fill nach agg) fillna nach meandev + mean deviation = 0.79237036 (=VER 1, 0.794 public lb)\n",
        "s.o. + after pay features = 0.79310\n",
        "VER 3: s.o. mit getunten Hyperparametern = 0.794355 (V3, 0.796 public lb)\n",
        "s.o. mit B_29 = 0.794610 (v5, 0.796 public lb)\n",
        "so ohne B_29 mit 1:100 Bratios = 0.7951046\n",
        "so mit allen Bratios = 0.7952144 (0.795 lb)\n",
        "VER 3 + first: 0.794577\n",
        "Ver 3 + forst + first diff = 0.7955055\n",
        "Ver 3 +  first diff = 0.79504522 ( 0.796735284564001, 0.79686627331464, 0.7968411263507417, 0.7920236043263609, 0.793339220870202 )\n",
        "\n",
        "V7 = V3 + first + first diff = OVERALL CV Kaggle Metric = 0.7951661498772574 (LB 0.797)\n",
        "[0.7962198773071689, 0.7965380847686576, 0.7972899788446302, 0.7909934597488399, 0.794277615381761] (Unterschied zu so 0.7955 konnte nicht nachvollzogen werden)\n",
        "\n",
        "V9 = V9 mit getunten hyperparametern :OVERALL CV Kaggle Metric = 0.795368601110926\n",
        "[0.7954320326411877, 0.7974078889361778, 0.7973913538116686, 0.7913097036060067, 0.7957431778045534]\n",
        "\n",
        "V12: after pay nur mit last, one hot encoding OVERALL CV Kaggle Metric = 0.7957373107518337 (lb 0.797)\n",
        "[0.7969486198782119, 0.7962363538077044, 0.7973269062536987, 0.7920697622584665, 0.7955655878459955]\n",
        "\n",
        "V13: mit maxmin, ohne std, ohne min, OVERALL CV Kaggle Metric = 0.7953608849564417 (0.796 lb)\n",
        "[0.7968882798164574, 0.7964878206575973, 0.7974681877663161, 0.7917797910863018, 0.793948382819542]\n",
        "\n",
        "V14: mit min, ohne std: OVERALL CV Kaggle Metric = 0.7952813107927237\n",
        "[0.7969120719048222, 0.7965001952586592, 0.7967465309957907, 0.7922152777481679, 0.7941480645671318]\n",
        "\n",
        "V15: so mit abs change: 0.7952517408213524\n",
        "[0.7973194651977258, 0.7966489899997335, 0.7973107084598802, 0.7926435788160571, 0.7921604620461141]\n",
        "\n",
        "V16: wie 15 mit ordinal encoder OVERALL CV Kaggle Metric = 0.794532772359821\n",
        "[0.7972029207650211, 0.7965792540555843, 0.7963623626951393, 0.7914712548912595, 0.7919712944759572]\n",
        "\n",
        "V17: wie 12 mit stratifiedkfold: OVERALL CV Kaggle Metric = 0.7955119445098058\n",
        "[0.7940790990360199, 0.7933681806036881, 0.7991199768804013, 0.7928613145718828, 0.7980624519463699] (lb 0.796)\n",
        "\n",
        "V18 lgb OVERALL CV Kaggle Metric = 0.7967385072608157\n",
        "[0.7951264519106611, 0.7954861934823085, 0.8002551252292345, 0.7920291716075025, 0.8000457888549861]\n",
        "\n",
        "V16 (kapo) mit diff2 = 0.7959986936294856\n",
        "[0.7974611116231001, 0.7962414905558102, 0.7978782783323859, 0.793126064579345, 0.7948356461615571] (lb 0.796)\n"
      ],
      "metadata": {
        "id": "0pXdNTZV-CMC"
      }
    },
    {
      "cell_type": "markdown",
      "source": [
        "Prepare Testdata"
      ],
      "metadata": {
        "id": "-FSci_IVK90h"
      }
    },
    {
      "cell_type": "code",
      "source": [
        "# CALCULATE SIZE OF EACH SEPARATE TEST PART\n",
        "def get_rows(customers, test, NUM_PARTS = NUM_PARTS, verbose = ''):\n",
        "    chunk = len(customers)//NUM_PARTS\n",
        "    if verbose != '':\n",
        "        print(f'We will process {verbose} data as {NUM_PARTS} separate parts.')\n",
        "        print(f'There will be {chunk} customers in each part (except the last part).')\n",
        "        print('Below are number of rows in each part:')\n",
        "    rows = []\n",
        "\n",
        "    for k in range(NUM_PARTS):\n",
        "        if k==NUM_PARTS-1: cc = customers[k*chunk:]\n",
        "        else: cc = customers[k*chunk:(k+1)*chunk]\n",
        "        s = test.loc[test.customer_ID.isin(cc)].shape[0]\n",
        "        rows.append(s)\n",
        "    if verbose != '': print( rows )\n",
        "    return rows,chunk"
      ],
      "metadata": {
        "id": "uDCUADjDKwWb"
      },
      "execution_count": 26,
      "outputs": []
    },
    {
      "cell_type": "code",
      "source": [
        "def get_rowsnumcust(TEST_PATH, NUM_PARTS=NUM_PARTS):\n",
        "  print(f'Reading test data...')\n",
        "  test = read_file(path = TEST_PATH, usecols = ['customer_ID','S_2'])\n",
        "  customers = test[['customer_ID']].drop_duplicates().sort_index().values.flatten()\n",
        "  rows,num_cust = get_rows(customers, test[['customer_ID']], NUM_PARTS = NUM_PARTS, verbose = 'test')\n",
        "  return rows,num_cust,customers"
      ],
      "metadata": {
        "id": "eq3hBpd44pR2"
      },
      "execution_count": 27,
      "outputs": []
    },
    {
      "cell_type": "code",
      "source": [
        "rows,num_cust, customers = get_rowsnumcust(TEST_PATH, NUM_PARTS=NUM_PARTS)"
      ],
      "metadata": {
        "id": "hgVJ0VjZy4By",
        "colab": {
          "base_uri": "https://localhost:8080/"
        },
        "outputId": "42d02ef3-8cba-46fc-8c82-8d59ca28efdc"
      },
      "execution_count": 28,
      "outputs": [
        {
          "output_type": "stream",
          "name": "stdout",
          "text": [
            "Reading test data...\n",
            "shape of data: (11363762, 2)\n",
            "We will process test data as 10 separate parts.\n",
            "There will be 92462 customers in each part (except the last part).\n",
            "Below are number of rows in each part:\n",
            "[1136415, 1137255, 1135580, 1135734, 1136082, 1137166, 1136612, 1137228, 1136301, 1135389]\n"
          ]
        }
      ]
    },
    {
      "cell_type": "code",
      "source": [
        "# INFER TEST DATA IN PARTS\n",
        "skip_rows = 0\n",
        "skip_cust = 0\n",
        "test_preds = []\n",
        "\n",
        "for k in range(NUM_PARTS):\n",
        "  # READ PART OF TEST DATA\n",
        "  print(f'\\nReading test data...')\n",
        "  test = read_file(path = TEST_PATH)\n",
        "  test = test.sort_index()\n",
        "  test = test.iloc[skip_rows:skip_rows+rows[k]]\n",
        "  skip_rows += rows[k]\n",
        "  print(f'=> Test part {k+1} has shape', test.shape )\n",
        "    \n",
        "  # PROCESS AND FEATURE ENGINEER PART OF TEST DATA\n",
        "  test = preprocess(train_set = False, test = test, Part =k)\n",
        "  if k==NUM_PARTS-1: test = test.loc[customers[skip_cust:]]\n",
        "  else: test = test.loc[customers[skip_cust:skip_cust+num_cust]]\n",
        "  skip_cust += num_cust\n",
        " \n",
        "   \n",
        "  #ammend for one hot encoding\n",
        "  test['D_64_last_1.0'] = 0\n",
        "  test['D_66_last_1.0'] = 0\n",
        "  test['D_68_last_1.0'] = 0\n",
        "  # TEST DATA FOR XGB\n",
        "  X_test = test[features]\n",
        "  print('X_test complete')\n",
        "  dtest = xgb.DMatrix(data=X_test)\n",
        "  print('dtest complete')\n",
        "  #test = test[['P_2_mean']] # reduce memory\n",
        "  del test, X_test\n",
        "  gc.collect()\n",
        "  gc.collect()\n",
        "\n",
        "  # INFER XGB MODELS ON TEST DATA\n",
        "  model = xgb.Booster()\n",
        "  model.load_model(f'{SAVE_PATH}XGB_v{VER}_fold0.xgb')\n",
        "  print('load model complete')\n",
        "  preds = model.predict(dtest)\n",
        "  print('preds complete')\n",
        "  for f in range(1,FOLDS):\n",
        "    del model\n",
        "    gc.collect()\n",
        "    model = xgb.Booster()\n",
        "    model.load_model(f'{SAVE_PATH}XGB_v{VER}_fold{f}.xgb')\n",
        "    print(f'load {f} complete')\n",
        "    preds += model.predict(dtest)\n",
        "    print(f'preds {f} complete')\n",
        "  preds /= FOLDS\n",
        "  test_preds.append(preds)\n",
        "\n",
        "  # CLEAN MEMORY\n",
        "  del dtest, model\n",
        "  _ = gc.collect()\n",
        "\n",
        "test_preds = np.concatenate(test_preds)\n",
        "#test = cudf.DataFrame(index=customers,data={'prediction':test_preds})\n",
        "test = pd.DataFrame(index=customers,data={'prediction':test_preds})\n",
        "#sub = cudf.read_csv(SUBMISSION_FILE_PATH)[['customer_ID']]\n",
        "sub = pd.read_csv(SUBMISSION_FILE_PATH)[['customer_ID']]\n",
        "#sub['customer_ID_hash'] = sub['customer_ID'].str[-16:].str.hex_to_int().astype('int64')\n",
        "sub['customer_ID_hash'] = sub['customer_ID'].str[-16:].apply(int, base =16)\n",
        "sub = sub.set_index('customer_ID_hash')\n",
        "#sub = sub.set_index('customer_ID')\n",
        "sub = sub.merge(test[['prediction']], left_index=True, right_index=True, how='left')\n",
        "sub = sub.reset_index(drop=True)\n",
        "\n",
        "sub.to_csv(f'{SAVE_PATH}submission_xgb_v{VER}.csv',index=False)\n",
        "print('Submission file shape is', sub.shape )\n",
        "sub.head()"
      ],
      "metadata": {
        "colab": {
          "base_uri": "https://localhost:8080/",
          "height": 1000
        },
        "id": "8pnE74mOdQVW",
        "outputId": "29c96dff-7e70-4587-efb8-7d2538730dd3"
      },
      "execution_count": 29,
      "outputs": [
        {
          "output_type": "stream",
          "name": "stdout",
          "text": [
            "\n",
            "Reading test data...\n",
            "shape of data: (11363762, 190)\n",
            "=> Test part 1 has shape (1136415, 190)\n",
            "read file complete\n",
            "revertnan complete\n",
            "numberobs complete\n",
            "get features complete\n",
            "get diff complete\n",
            "num agg complete\n",
            "cat agg complete\n",
            "concat complete\n",
            "drop numberobs\n",
            "drop numberobs complete\n",
            "shape after engineering (92462, 1096)\n",
            "agg features complete\n"
          ]
        },
        {
          "output_type": "stream",
          "name": "stderr",
          "text": [
            "/usr/local/lib/python3.7/dist-packages/ipykernel_launcher.py:88: PerformanceWarning: DataFrame is highly fragmented.  This is usually the result of calling `frame.insert` many times, which has poor performance.  Consider joining all columns at once using pd.concat(axis=1) instead.  To get a de-fragmented frame, use `newframe = frame.copy()`\n"
          ]
        },
        {
          "output_type": "stream",
          "name": "stdout",
          "text": [
            "meandev complete\n",
            "afterpay complete\n"
          ]
        },
        {
          "output_type": "stream",
          "name": "stderr",
          "text": [
            "/usr/local/lib/python3.7/dist-packages/ipykernel_launcher.py:28: PerformanceWarning: DataFrame is highly fragmented.  This is usually the result of calling `frame.insert` many times, which has poor performance.  Consider joining all columns at once using pd.concat(axis=1) instead.  To get a de-fragmented frame, use `newframe = frame.copy()`\n"
          ]
        },
        {
          "output_type": "stream",
          "name": "stdout",
          "text": [
            "onehot complete\n",
            "fillna complete\n",
            "X_test complete\n",
            "dtest complete\n",
            "load model complete\n",
            "preds complete\n",
            "load 1 complete\n",
            "preds 1 complete\n",
            "load 2 complete\n",
            "preds 2 complete\n",
            "load 3 complete\n",
            "preds 3 complete\n",
            "load 4 complete\n",
            "preds 4 complete\n",
            "\n",
            "Reading test data...\n",
            "shape of data: (11363762, 190)\n",
            "=> Test part 2 has shape (1137255, 190)\n",
            "read file complete\n",
            "revertnan complete\n",
            "numberobs complete\n",
            "get features complete\n",
            "get diff complete\n",
            "num agg complete\n",
            "cat agg complete\n",
            "concat complete\n",
            "drop numberobs\n",
            "drop numberobs complete\n",
            "shape after engineering (92462, 1096)\n",
            "agg features complete\n",
            "meandev complete\n",
            "afterpay complete\n",
            "onehot complete\n",
            "fillna complete\n",
            "X_test complete\n",
            "dtest complete\n",
            "load model complete\n",
            "preds complete\n",
            "load 1 complete\n",
            "preds 1 complete\n",
            "load 2 complete\n",
            "preds 2 complete\n",
            "load 3 complete\n",
            "preds 3 complete\n",
            "load 4 complete\n",
            "preds 4 complete\n",
            "\n",
            "Reading test data...\n",
            "shape of data: (11363762, 190)\n",
            "=> Test part 3 has shape (1135580, 190)\n",
            "read file complete\n",
            "revertnan complete\n",
            "numberobs complete\n",
            "get features complete\n",
            "get diff complete\n",
            "num agg complete\n",
            "cat agg complete\n",
            "concat complete\n",
            "drop numberobs\n",
            "drop numberobs complete\n",
            "shape after engineering (92462, 1096)\n",
            "agg features complete\n",
            "meandev complete\n",
            "afterpay complete\n",
            "onehot complete\n",
            "fillna complete\n",
            "X_test complete\n",
            "dtest complete\n",
            "load model complete\n",
            "preds complete\n",
            "load 1 complete\n",
            "preds 1 complete\n",
            "load 2 complete\n",
            "preds 2 complete\n",
            "load 3 complete\n",
            "preds 3 complete\n",
            "load 4 complete\n",
            "preds 4 complete\n",
            "\n",
            "Reading test data...\n",
            "shape of data: (11363762, 190)\n",
            "=> Test part 4 has shape (1135734, 190)\n",
            "read file complete\n",
            "revertnan complete\n",
            "numberobs complete\n",
            "get features complete\n",
            "get diff complete\n",
            "num agg complete\n",
            "cat agg complete\n",
            "concat complete\n",
            "drop numberobs\n",
            "drop numberobs complete\n",
            "shape after engineering (92462, 1096)\n",
            "agg features complete\n",
            "meandev complete\n",
            "afterpay complete\n",
            "onehot complete\n",
            "fillna complete\n",
            "X_test complete\n",
            "dtest complete\n",
            "load model complete\n",
            "preds complete\n",
            "load 1 complete\n",
            "preds 1 complete\n",
            "load 2 complete\n",
            "preds 2 complete\n",
            "load 3 complete\n",
            "preds 3 complete\n",
            "load 4 complete\n",
            "preds 4 complete\n",
            "\n",
            "Reading test data...\n",
            "shape of data: (11363762, 190)\n",
            "=> Test part 5 has shape (1136082, 190)\n",
            "read file complete\n",
            "revertnan complete\n",
            "numberobs complete\n",
            "get features complete\n",
            "get diff complete\n",
            "num agg complete\n",
            "cat agg complete\n",
            "concat complete\n",
            "drop numberobs\n",
            "drop numberobs complete\n",
            "shape after engineering (92462, 1096)\n",
            "agg features complete\n",
            "meandev complete\n",
            "afterpay complete\n",
            "onehot complete\n",
            "fillna complete\n",
            "X_test complete\n",
            "dtest complete\n",
            "load model complete\n",
            "preds complete\n",
            "load 1 complete\n",
            "preds 1 complete\n",
            "load 2 complete\n",
            "preds 2 complete\n",
            "load 3 complete\n",
            "preds 3 complete\n",
            "load 4 complete\n",
            "preds 4 complete\n",
            "\n",
            "Reading test data...\n",
            "shape of data: (11363762, 190)\n",
            "=> Test part 6 has shape (1137166, 190)\n",
            "read file complete\n",
            "revertnan complete\n",
            "numberobs complete\n",
            "get features complete\n",
            "get diff complete\n",
            "num agg complete\n",
            "cat agg complete\n",
            "concat complete\n",
            "drop numberobs\n",
            "drop numberobs complete\n",
            "shape after engineering (92462, 1096)\n",
            "agg features complete\n",
            "meandev complete\n",
            "afterpay complete\n",
            "onehot complete\n",
            "fillna complete\n",
            "X_test complete\n",
            "dtest complete\n",
            "load model complete\n",
            "preds complete\n",
            "load 1 complete\n",
            "preds 1 complete\n",
            "load 2 complete\n",
            "preds 2 complete\n",
            "load 3 complete\n",
            "preds 3 complete\n",
            "load 4 complete\n",
            "preds 4 complete\n",
            "\n",
            "Reading test data...\n",
            "shape of data: (11363762, 190)\n",
            "=> Test part 7 has shape (1136612, 190)\n",
            "read file complete\n",
            "revertnan complete\n",
            "numberobs complete\n",
            "get features complete\n",
            "get diff complete\n",
            "num agg complete\n",
            "cat agg complete\n",
            "concat complete\n",
            "drop numberobs\n",
            "drop numberobs complete\n",
            "shape after engineering (92462, 1096)\n",
            "agg features complete\n",
            "meandev complete\n",
            "afterpay complete\n",
            "onehot complete\n",
            "fillna complete\n",
            "X_test complete\n",
            "dtest complete\n",
            "load model complete\n",
            "preds complete\n",
            "load 1 complete\n",
            "preds 1 complete\n",
            "load 2 complete\n",
            "preds 2 complete\n",
            "load 3 complete\n",
            "preds 3 complete\n",
            "load 4 complete\n",
            "preds 4 complete\n",
            "\n",
            "Reading test data...\n",
            "shape of data: (11363762, 190)\n",
            "=> Test part 8 has shape (1137228, 190)\n",
            "read file complete\n",
            "revertnan complete\n",
            "numberobs complete\n",
            "get features complete\n",
            "get diff complete\n",
            "num agg complete\n",
            "cat agg complete\n",
            "concat complete\n",
            "drop numberobs\n",
            "drop numberobs complete\n",
            "shape after engineering (92462, 1096)\n",
            "agg features complete\n",
            "meandev complete\n",
            "afterpay complete\n",
            "onehot complete\n",
            "fillna complete\n",
            "X_test complete\n",
            "dtest complete\n",
            "load model complete\n",
            "preds complete\n",
            "load 1 complete\n",
            "preds 1 complete\n",
            "load 2 complete\n",
            "preds 2 complete\n",
            "load 3 complete\n",
            "preds 3 complete\n",
            "load 4 complete\n",
            "preds 4 complete\n",
            "\n",
            "Reading test data...\n",
            "shape of data: (11363762, 190)\n",
            "=> Test part 9 has shape (1136301, 190)\n",
            "read file complete\n",
            "revertnan complete\n",
            "numberobs complete\n",
            "get features complete\n",
            "get diff complete\n",
            "num agg complete\n",
            "cat agg complete\n",
            "concat complete\n",
            "drop numberobs\n",
            "drop numberobs complete\n",
            "shape after engineering (92462, 1096)\n",
            "agg features complete\n",
            "meandev complete\n",
            "afterpay complete\n",
            "onehot complete\n",
            "fillna complete\n",
            "X_test complete\n",
            "dtest complete\n",
            "load model complete\n",
            "preds complete\n",
            "load 1 complete\n",
            "preds 1 complete\n",
            "load 2 complete\n",
            "preds 2 complete\n",
            "load 3 complete\n",
            "preds 3 complete\n",
            "load 4 complete\n",
            "preds 4 complete\n",
            "\n",
            "Reading test data...\n",
            "shape of data: (11363762, 190)\n",
            "=> Test part 10 has shape (1135389, 190)\n",
            "read file complete\n",
            "revertnan complete\n",
            "numberobs complete\n",
            "get features complete\n",
            "get diff complete\n",
            "num agg complete\n",
            "cat agg complete\n",
            "concat complete\n",
            "drop numberobs\n",
            "drop numberobs complete\n",
            "shape after engineering (92463, 1096)\n",
            "agg features complete\n",
            "meandev complete\n",
            "afterpay complete\n",
            "onehot complete\n",
            "fillna complete\n",
            "X_test complete\n",
            "dtest complete\n",
            "load model complete\n",
            "preds complete\n",
            "load 1 complete\n",
            "preds 1 complete\n",
            "load 2 complete\n",
            "preds 2 complete\n",
            "load 3 complete\n",
            "preds 3 complete\n",
            "load 4 complete\n",
            "preds 4 complete\n",
            "Submission file shape is (924621, 2)\n"
          ]
        },
        {
          "output_type": "execute_result",
          "data": {
            "text/plain": [
              "                                         customer_ID  prediction\n",
              "0  00000469ba478561f23a92a868bd366de6f6527a684c9a...    0.038103\n",
              "1  00001bf2e77ff879fab36aa4fac689b9ba411dae63ae39...    0.000712\n",
              "2  0000210045da4f81e5f122c6bde5c2a617d03eef67f82c...    0.028836\n",
              "3  00003b41e58ede33b8daf61ab56d9952f17c9ad1c3976c...    0.178760\n",
              "4  00004b22eaeeeb0ec976890c1d9bfc14fd9427e98c4ee9...    0.879854"
            ],
            "text/html": [
              "\n",
              "  <div id=\"df-0ab9f8dd-9990-4aed-a1f5-46b3e782e1ad\">\n",
              "    <div class=\"colab-df-container\">\n",
              "      <div>\n",
              "<style scoped>\n",
              "    .dataframe tbody tr th:only-of-type {\n",
              "        vertical-align: middle;\n",
              "    }\n",
              "\n",
              "    .dataframe tbody tr th {\n",
              "        vertical-align: top;\n",
              "    }\n",
              "\n",
              "    .dataframe thead th {\n",
              "        text-align: right;\n",
              "    }\n",
              "</style>\n",
              "<table border=\"1\" class=\"dataframe\">\n",
              "  <thead>\n",
              "    <tr style=\"text-align: right;\">\n",
              "      <th></th>\n",
              "      <th>customer_ID</th>\n",
              "      <th>prediction</th>\n",
              "    </tr>\n",
              "  </thead>\n",
              "  <tbody>\n",
              "    <tr>\n",
              "      <th>0</th>\n",
              "      <td>00000469ba478561f23a92a868bd366de6f6527a684c9a...</td>\n",
              "      <td>0.038103</td>\n",
              "    </tr>\n",
              "    <tr>\n",
              "      <th>1</th>\n",
              "      <td>00001bf2e77ff879fab36aa4fac689b9ba411dae63ae39...</td>\n",
              "      <td>0.000712</td>\n",
              "    </tr>\n",
              "    <tr>\n",
              "      <th>2</th>\n",
              "      <td>0000210045da4f81e5f122c6bde5c2a617d03eef67f82c...</td>\n",
              "      <td>0.028836</td>\n",
              "    </tr>\n",
              "    <tr>\n",
              "      <th>3</th>\n",
              "      <td>00003b41e58ede33b8daf61ab56d9952f17c9ad1c3976c...</td>\n",
              "      <td>0.178760</td>\n",
              "    </tr>\n",
              "    <tr>\n",
              "      <th>4</th>\n",
              "      <td>00004b22eaeeeb0ec976890c1d9bfc14fd9427e98c4ee9...</td>\n",
              "      <td>0.879854</td>\n",
              "    </tr>\n",
              "  </tbody>\n",
              "</table>\n",
              "</div>\n",
              "      <button class=\"colab-df-convert\" onclick=\"convertToInteractive('df-0ab9f8dd-9990-4aed-a1f5-46b3e782e1ad')\"\n",
              "              title=\"Convert this dataframe to an interactive table.\"\n",
              "              style=\"display:none;\">\n",
              "        \n",
              "  <svg xmlns=\"http://www.w3.org/2000/svg\" height=\"24px\"viewBox=\"0 0 24 24\"\n",
              "       width=\"24px\">\n",
              "    <path d=\"M0 0h24v24H0V0z\" fill=\"none\"/>\n",
              "    <path d=\"M18.56 5.44l.94 2.06.94-2.06 2.06-.94-2.06-.94-.94-2.06-.94 2.06-2.06.94zm-11 1L8.5 8.5l.94-2.06 2.06-.94-2.06-.94L8.5 2.5l-.94 2.06-2.06.94zm10 10l.94 2.06.94-2.06 2.06-.94-2.06-.94-.94-2.06-.94 2.06-2.06.94z\"/><path d=\"M17.41 7.96l-1.37-1.37c-.4-.4-.92-.59-1.43-.59-.52 0-1.04.2-1.43.59L10.3 9.45l-7.72 7.72c-.78.78-.78 2.05 0 2.83L4 21.41c.39.39.9.59 1.41.59.51 0 1.02-.2 1.41-.59l7.78-7.78 2.81-2.81c.8-.78.8-2.07 0-2.86zM5.41 20L4 18.59l7.72-7.72 1.47 1.35L5.41 20z\"/>\n",
              "  </svg>\n",
              "      </button>\n",
              "      \n",
              "  <style>\n",
              "    .colab-df-container {\n",
              "      display:flex;\n",
              "      flex-wrap:wrap;\n",
              "      gap: 12px;\n",
              "    }\n",
              "\n",
              "    .colab-df-convert {\n",
              "      background-color: #E8F0FE;\n",
              "      border: none;\n",
              "      border-radius: 50%;\n",
              "      cursor: pointer;\n",
              "      display: none;\n",
              "      fill: #1967D2;\n",
              "      height: 32px;\n",
              "      padding: 0 0 0 0;\n",
              "      width: 32px;\n",
              "    }\n",
              "\n",
              "    .colab-df-convert:hover {\n",
              "      background-color: #E2EBFA;\n",
              "      box-shadow: 0px 1px 2px rgba(60, 64, 67, 0.3), 0px 1px 3px 1px rgba(60, 64, 67, 0.15);\n",
              "      fill: #174EA6;\n",
              "    }\n",
              "\n",
              "    [theme=dark] .colab-df-convert {\n",
              "      background-color: #3B4455;\n",
              "      fill: #D2E3FC;\n",
              "    }\n",
              "\n",
              "    [theme=dark] .colab-df-convert:hover {\n",
              "      background-color: #434B5C;\n",
              "      box-shadow: 0px 1px 3px 1px rgba(0, 0, 0, 0.15);\n",
              "      filter: drop-shadow(0px 1px 2px rgba(0, 0, 0, 0.3));\n",
              "      fill: #FFFFFF;\n",
              "    }\n",
              "  </style>\n",
              "\n",
              "      <script>\n",
              "        const buttonEl =\n",
              "          document.querySelector('#df-0ab9f8dd-9990-4aed-a1f5-46b3e782e1ad button.colab-df-convert');\n",
              "        buttonEl.style.display =\n",
              "          google.colab.kernel.accessAllowed ? 'block' : 'none';\n",
              "\n",
              "        async function convertToInteractive(key) {\n",
              "          const element = document.querySelector('#df-0ab9f8dd-9990-4aed-a1f5-46b3e782e1ad');\n",
              "          const dataTable =\n",
              "            await google.colab.kernel.invokeFunction('convertToInteractive',\n",
              "                                                     [key], {});\n",
              "          if (!dataTable) return;\n",
              "\n",
              "          const docLinkHtml = 'Like what you see? Visit the ' +\n",
              "            '<a target=\"_blank\" href=https://colab.research.google.com/notebooks/data_table.ipynb>data table notebook</a>'\n",
              "            + ' to learn more about interactive tables.';\n",
              "          element.innerHTML = '';\n",
              "          dataTable['output_type'] = 'display_data';\n",
              "          await google.colab.output.renderOutput(dataTable, element);\n",
              "          const docLink = document.createElement('div');\n",
              "          docLink.innerHTML = docLinkHtml;\n",
              "          element.appendChild(docLink);\n",
              "        }\n",
              "      </script>\n",
              "    </div>\n",
              "  </div>\n",
              "  "
            ]
          },
          "metadata": {},
          "execution_count": 29
        }
      ]
    },
    {
      "cell_type": "code",
      "source": [
        "gc.collect()"
      ],
      "metadata": {
        "colab": {
          "base_uri": "https://localhost:8080/"
        },
        "id": "WIZsAKcznOGn",
        "outputId": "0260d2ab-2d99-4f1a-adb9-5ecdde870296"
      },
      "execution_count": 43,
      "outputs": [
        {
          "output_type": "execute_result",
          "data": {
            "text/plain": [
              "631"
            ]
          },
          "metadata": {},
          "execution_count": 43
        }
      ]
    },
    {
      "cell_type": "markdown",
      "source": [
        "### ENDE"
      ],
      "metadata": {
        "id": "GvDANWlLDq5W"
      }
    },
    {
      "cell_type": "code",
      "source": [
        "train\n"
      ],
      "metadata": {
        "id": "eS-OIp7O90XU",
        "colab": {
          "base_uri": "https://localhost:8080/",
          "height": 505
        },
        "outputId": "d09c0a7a-db68-4614-d4da-96bd15cc2e36"
      },
      "execution_count": null,
      "outputs": [
        {
          "output_type": "execute_result",
          "data": {
            "text/plain": [
              "                 customer_ID  P_2_mean   P_2_std   P_2_max   P_2_min  \\\n",
              "0              3249127622875  1.003573  0.001341  1.005004  1.002345   \n",
              "1             23402014749356  0.415518  0.100825  0.498842  0.188222   \n",
              "2             37423844044824  0.621856  0.032564  0.689850  0.583851   \n",
              "3            149683802139734  0.913329  0.034975  0.976633  0.845514   \n",
              "4            160820792638518  0.555897  0.046583  0.662159  0.468876   \n",
              "...                      ...       ...       ...       ...       ...   \n",
              "458908  18446623475205808948  0.342072  0.103027  0.486856  0.115548   \n",
              "458909  18446629179309953275  0.242426  0.054706  0.317476  0.199567   \n",
              "458910  18446635398005430687  0.541245  0.097363  0.666280  0.310770   \n",
              "458911  18446654790786387807  0.996442  0.013313  1.009017  0.974290   \n",
              "458912  18446722875431722897  0.838490  0.012000  0.861411  0.820854   \n",
              "\n",
              "        P_2_last  P_2_first  D_39_mean   D_39_std  D_39_max  ...  \\\n",
              "0       1.005004   1.002345   2.846154   6.841615        21  ...   \n",
              "1       0.215565   0.463519   3.230769   4.657500        15  ...   \n",
              "2       0.583851   0.689850  12.000000  12.006942        46  ...   \n",
              "3       0.931456   0.976633   3.230769   7.886210        21  ...   \n",
              "4       0.518131   0.468876   1.384615   3.477031        11  ...   \n",
              "...          ...        ...        ...        ...       ...  ...   \n",
              "458908  0.115548   0.486856   2.076923   3.593085        11  ...   \n",
              "458909  0.215042   0.317476  13.571429  10.373960        24  ...   \n",
              "458910  0.445689   0.666280   0.000000   0.000000         0  ...   \n",
              "458911  0.974290   1.004322   0.000000   0.000000         0  ...   \n",
              "458912  0.858889   0.861411   0.076923   0.277350         1  ...   \n",
              "\n",
              "        B_17-P_3_meandev  D_39-P_2_meandev  D_39-P_3_meandev  \\\n",
              "0            -127.000000         -0.001431          9.662469   \n",
              "1               0.398372         -2.030815         -1.767706   \n",
              "2               0.151129          1.038004          0.975343   \n",
              "3            -127.000000         -3.248897         -3.290519   \n",
              "4              -0.018422         -1.346849         -1.279861   \n",
              "...                  ...               ...               ...   \n",
              "458908          0.273784         -1.850400         -1.783496   \n",
              "458909          0.000515          8.194051          5.000153   \n",
              "458910         -0.218169          0.095556          0.098894   \n",
              "458911       -127.000000          0.022152          0.029393   \n",
              "458912       -127.000000         -0.097321         -0.151969   \n",
              "\n",
              "        D_131-P_2_meandev  D_131-P_3_meandev  S_16-P_2_meandev  \\\n",
              "0               -0.000816          -0.004198         -0.002197   \n",
              "1                0.952465           1.215575          0.518049   \n",
              "2                0.038005          -0.024657          0.041275   \n",
              "3               -0.018127          -0.059750         -0.015045   \n",
              "4                0.037766           0.104755          0.040179   \n",
              "...                   ...                ...               ...   \n",
              "458908           0.226523           0.293427         -0.861105   \n",
              "458909           0.029562           0.002935          0.031139   \n",
              "458910           0.095556           0.098894          5.205449   \n",
              "458911           0.022152           0.029393          0.022832   \n",
              "458912          -0.020547          -0.074023         -0.016298   \n",
              "\n",
              "        S_16-P_3_meandev  S_23-P_2_meandev  S_23-P_3_meandev  target  \n",
              "0              -0.006118         -0.003054         -0.002010       0  \n",
              "1               0.781159          0.201210          0.464319       1  \n",
              "2              -0.021386          0.418291          0.355629       1  \n",
              "3              -0.056667          0.048592          0.006970       0  \n",
              "4               0.107168          0.040386          0.107375       1  \n",
              "...                  ...               ...               ...     ...  \n",
              "458908         -0.794201          0.301186          0.368090       1  \n",
              "458909          0.003970          0.030783          0.002520       0  \n",
              "458910          5.142211          0.002523         -0.002024       0  \n",
              "458911          0.030073          0.024370          0.031610       0  \n",
              "458912         -0.070945         -0.023792         -0.078440       0  \n",
              "\n",
              "[458913 rows x 1565 columns]"
            ],
            "text/html": [
              "\n",
              "  <div id=\"df-ab470148-3c98-4323-91f9-5384d8ef6aa8\">\n",
              "    <div class=\"colab-df-container\">\n",
              "      <div>\n",
              "<style scoped>\n",
              "    .dataframe tbody tr th:only-of-type {\n",
              "        vertical-align: middle;\n",
              "    }\n",
              "\n",
              "    .dataframe tbody tr th {\n",
              "        vertical-align: top;\n",
              "    }\n",
              "\n",
              "    .dataframe thead th {\n",
              "        text-align: right;\n",
              "    }\n",
              "</style>\n",
              "<table border=\"1\" class=\"dataframe\">\n",
              "  <thead>\n",
              "    <tr style=\"text-align: right;\">\n",
              "      <th></th>\n",
              "      <th>customer_ID</th>\n",
              "      <th>P_2_mean</th>\n",
              "      <th>P_2_std</th>\n",
              "      <th>P_2_max</th>\n",
              "      <th>P_2_min</th>\n",
              "      <th>P_2_last</th>\n",
              "      <th>P_2_first</th>\n",
              "      <th>D_39_mean</th>\n",
              "      <th>D_39_std</th>\n",
              "      <th>D_39_max</th>\n",
              "      <th>...</th>\n",
              "      <th>B_17-P_3_meandev</th>\n",
              "      <th>D_39-P_2_meandev</th>\n",
              "      <th>D_39-P_3_meandev</th>\n",
              "      <th>D_131-P_2_meandev</th>\n",
              "      <th>D_131-P_3_meandev</th>\n",
              "      <th>S_16-P_2_meandev</th>\n",
              "      <th>S_16-P_3_meandev</th>\n",
              "      <th>S_23-P_2_meandev</th>\n",
              "      <th>S_23-P_3_meandev</th>\n",
              "      <th>target</th>\n",
              "    </tr>\n",
              "  </thead>\n",
              "  <tbody>\n",
              "    <tr>\n",
              "      <th>0</th>\n",
              "      <td>3249127622875</td>\n",
              "      <td>1.003573</td>\n",
              "      <td>0.001341</td>\n",
              "      <td>1.005004</td>\n",
              "      <td>1.002345</td>\n",
              "      <td>1.005004</td>\n",
              "      <td>1.002345</td>\n",
              "      <td>2.846154</td>\n",
              "      <td>6.841615</td>\n",
              "      <td>21</td>\n",
              "      <td>...</td>\n",
              "      <td>-127.000000</td>\n",
              "      <td>-0.001431</td>\n",
              "      <td>9.662469</td>\n",
              "      <td>-0.000816</td>\n",
              "      <td>-0.004198</td>\n",
              "      <td>-0.002197</td>\n",
              "      <td>-0.006118</td>\n",
              "      <td>-0.003054</td>\n",
              "      <td>-0.002010</td>\n",
              "      <td>0</td>\n",
              "    </tr>\n",
              "    <tr>\n",
              "      <th>1</th>\n",
              "      <td>23402014749356</td>\n",
              "      <td>0.415518</td>\n",
              "      <td>0.100825</td>\n",
              "      <td>0.498842</td>\n",
              "      <td>0.188222</td>\n",
              "      <td>0.215565</td>\n",
              "      <td>0.463519</td>\n",
              "      <td>3.230769</td>\n",
              "      <td>4.657500</td>\n",
              "      <td>15</td>\n",
              "      <td>...</td>\n",
              "      <td>0.398372</td>\n",
              "      <td>-2.030815</td>\n",
              "      <td>-1.767706</td>\n",
              "      <td>0.952465</td>\n",
              "      <td>1.215575</td>\n",
              "      <td>0.518049</td>\n",
              "      <td>0.781159</td>\n",
              "      <td>0.201210</td>\n",
              "      <td>0.464319</td>\n",
              "      <td>1</td>\n",
              "    </tr>\n",
              "    <tr>\n",
              "      <th>2</th>\n",
              "      <td>37423844044824</td>\n",
              "      <td>0.621856</td>\n",
              "      <td>0.032564</td>\n",
              "      <td>0.689850</td>\n",
              "      <td>0.583851</td>\n",
              "      <td>0.583851</td>\n",
              "      <td>0.689850</td>\n",
              "      <td>12.000000</td>\n",
              "      <td>12.006942</td>\n",
              "      <td>46</td>\n",
              "      <td>...</td>\n",
              "      <td>0.151129</td>\n",
              "      <td>1.038004</td>\n",
              "      <td>0.975343</td>\n",
              "      <td>0.038005</td>\n",
              "      <td>-0.024657</td>\n",
              "      <td>0.041275</td>\n",
              "      <td>-0.021386</td>\n",
              "      <td>0.418291</td>\n",
              "      <td>0.355629</td>\n",
              "      <td>1</td>\n",
              "    </tr>\n",
              "    <tr>\n",
              "      <th>3</th>\n",
              "      <td>149683802139734</td>\n",
              "      <td>0.913329</td>\n",
              "      <td>0.034975</td>\n",
              "      <td>0.976633</td>\n",
              "      <td>0.845514</td>\n",
              "      <td>0.931456</td>\n",
              "      <td>0.976633</td>\n",
              "      <td>3.230769</td>\n",
              "      <td>7.886210</td>\n",
              "      <td>21</td>\n",
              "      <td>...</td>\n",
              "      <td>-127.000000</td>\n",
              "      <td>-3.248897</td>\n",
              "      <td>-3.290519</td>\n",
              "      <td>-0.018127</td>\n",
              "      <td>-0.059750</td>\n",
              "      <td>-0.015045</td>\n",
              "      <td>-0.056667</td>\n",
              "      <td>0.048592</td>\n",
              "      <td>0.006970</td>\n",
              "      <td>0</td>\n",
              "    </tr>\n",
              "    <tr>\n",
              "      <th>4</th>\n",
              "      <td>160820792638518</td>\n",
              "      <td>0.555897</td>\n",
              "      <td>0.046583</td>\n",
              "      <td>0.662159</td>\n",
              "      <td>0.468876</td>\n",
              "      <td>0.518131</td>\n",
              "      <td>0.468876</td>\n",
              "      <td>1.384615</td>\n",
              "      <td>3.477031</td>\n",
              "      <td>11</td>\n",
              "      <td>...</td>\n",
              "      <td>-0.018422</td>\n",
              "      <td>-1.346849</td>\n",
              "      <td>-1.279861</td>\n",
              "      <td>0.037766</td>\n",
              "      <td>0.104755</td>\n",
              "      <td>0.040179</td>\n",
              "      <td>0.107168</td>\n",
              "      <td>0.040386</td>\n",
              "      <td>0.107375</td>\n",
              "      <td>1</td>\n",
              "    </tr>\n",
              "    <tr>\n",
              "      <th>...</th>\n",
              "      <td>...</td>\n",
              "      <td>...</td>\n",
              "      <td>...</td>\n",
              "      <td>...</td>\n",
              "      <td>...</td>\n",
              "      <td>...</td>\n",
              "      <td>...</td>\n",
              "      <td>...</td>\n",
              "      <td>...</td>\n",
              "      <td>...</td>\n",
              "      <td>...</td>\n",
              "      <td>...</td>\n",
              "      <td>...</td>\n",
              "      <td>...</td>\n",
              "      <td>...</td>\n",
              "      <td>...</td>\n",
              "      <td>...</td>\n",
              "      <td>...</td>\n",
              "      <td>...</td>\n",
              "      <td>...</td>\n",
              "      <td>...</td>\n",
              "    </tr>\n",
              "    <tr>\n",
              "      <th>458908</th>\n",
              "      <td>18446623475205808948</td>\n",
              "      <td>0.342072</td>\n",
              "      <td>0.103027</td>\n",
              "      <td>0.486856</td>\n",
              "      <td>0.115548</td>\n",
              "      <td>0.115548</td>\n",
              "      <td>0.486856</td>\n",
              "      <td>2.076923</td>\n",
              "      <td>3.593085</td>\n",
              "      <td>11</td>\n",
              "      <td>...</td>\n",
              "      <td>0.273784</td>\n",
              "      <td>-1.850400</td>\n",
              "      <td>-1.783496</td>\n",
              "      <td>0.226523</td>\n",
              "      <td>0.293427</td>\n",
              "      <td>-0.861105</td>\n",
              "      <td>-0.794201</td>\n",
              "      <td>0.301186</td>\n",
              "      <td>0.368090</td>\n",
              "      <td>1</td>\n",
              "    </tr>\n",
              "    <tr>\n",
              "      <th>458909</th>\n",
              "      <td>18446629179309953275</td>\n",
              "      <td>0.242426</td>\n",
              "      <td>0.054706</td>\n",
              "      <td>0.317476</td>\n",
              "      <td>0.199567</td>\n",
              "      <td>0.215042</td>\n",
              "      <td>0.317476</td>\n",
              "      <td>13.571429</td>\n",
              "      <td>10.373960</td>\n",
              "      <td>24</td>\n",
              "      <td>...</td>\n",
              "      <td>0.000515</td>\n",
              "      <td>8.194051</td>\n",
              "      <td>5.000153</td>\n",
              "      <td>0.029562</td>\n",
              "      <td>0.002935</td>\n",
              "      <td>0.031139</td>\n",
              "      <td>0.003970</td>\n",
              "      <td>0.030783</td>\n",
              "      <td>0.002520</td>\n",
              "      <td>0</td>\n",
              "    </tr>\n",
              "    <tr>\n",
              "      <th>458910</th>\n",
              "      <td>18446635398005430687</td>\n",
              "      <td>0.541245</td>\n",
              "      <td>0.097363</td>\n",
              "      <td>0.666280</td>\n",
              "      <td>0.310770</td>\n",
              "      <td>0.445689</td>\n",
              "      <td>0.666280</td>\n",
              "      <td>0.000000</td>\n",
              "      <td>0.000000</td>\n",
              "      <td>0</td>\n",
              "      <td>...</td>\n",
              "      <td>-0.218169</td>\n",
              "      <td>0.095556</td>\n",
              "      <td>0.098894</td>\n",
              "      <td>0.095556</td>\n",
              "      <td>0.098894</td>\n",
              "      <td>5.205449</td>\n",
              "      <td>5.142211</td>\n",
              "      <td>0.002523</td>\n",
              "      <td>-0.002024</td>\n",
              "      <td>0</td>\n",
              "    </tr>\n",
              "    <tr>\n",
              "      <th>458911</th>\n",
              "      <td>18446654790786387807</td>\n",
              "      <td>0.996442</td>\n",
              "      <td>0.013313</td>\n",
              "      <td>1.009017</td>\n",
              "      <td>0.974290</td>\n",
              "      <td>0.974290</td>\n",
              "      <td>1.004322</td>\n",
              "      <td>0.000000</td>\n",
              "      <td>0.000000</td>\n",
              "      <td>0</td>\n",
              "      <td>...</td>\n",
              "      <td>-127.000000</td>\n",
              "      <td>0.022152</td>\n",
              "      <td>0.029393</td>\n",
              "      <td>0.022152</td>\n",
              "      <td>0.029393</td>\n",
              "      <td>0.022832</td>\n",
              "      <td>0.030073</td>\n",
              "      <td>0.024370</td>\n",
              "      <td>0.031610</td>\n",
              "      <td>0</td>\n",
              "    </tr>\n",
              "    <tr>\n",
              "      <th>458912</th>\n",
              "      <td>18446722875431722897</td>\n",
              "      <td>0.838490</td>\n",
              "      <td>0.012000</td>\n",
              "      <td>0.861411</td>\n",
              "      <td>0.820854</td>\n",
              "      <td>0.858889</td>\n",
              "      <td>0.861411</td>\n",
              "      <td>0.076923</td>\n",
              "      <td>0.277350</td>\n",
              "      <td>1</td>\n",
              "      <td>...</td>\n",
              "      <td>-127.000000</td>\n",
              "      <td>-0.097321</td>\n",
              "      <td>-0.151969</td>\n",
              "      <td>-0.020547</td>\n",
              "      <td>-0.074023</td>\n",
              "      <td>-0.016298</td>\n",
              "      <td>-0.070945</td>\n",
              "      <td>-0.023792</td>\n",
              "      <td>-0.078440</td>\n",
              "      <td>0</td>\n",
              "    </tr>\n",
              "  </tbody>\n",
              "</table>\n",
              "<p>458913 rows × 1565 columns</p>\n",
              "</div>\n",
              "      <button class=\"colab-df-convert\" onclick=\"convertToInteractive('df-ab470148-3c98-4323-91f9-5384d8ef6aa8')\"\n",
              "              title=\"Convert this dataframe to an interactive table.\"\n",
              "              style=\"display:none;\">\n",
              "        \n",
              "  <svg xmlns=\"http://www.w3.org/2000/svg\" height=\"24px\"viewBox=\"0 0 24 24\"\n",
              "       width=\"24px\">\n",
              "    <path d=\"M0 0h24v24H0V0z\" fill=\"none\"/>\n",
              "    <path d=\"M18.56 5.44l.94 2.06.94-2.06 2.06-.94-2.06-.94-.94-2.06-.94 2.06-2.06.94zm-11 1L8.5 8.5l.94-2.06 2.06-.94-2.06-.94L8.5 2.5l-.94 2.06-2.06.94zm10 10l.94 2.06.94-2.06 2.06-.94-2.06-.94-.94-2.06-.94 2.06-2.06.94z\"/><path d=\"M17.41 7.96l-1.37-1.37c-.4-.4-.92-.59-1.43-.59-.52 0-1.04.2-1.43.59L10.3 9.45l-7.72 7.72c-.78.78-.78 2.05 0 2.83L4 21.41c.39.39.9.59 1.41.59.51 0 1.02-.2 1.41-.59l7.78-7.78 2.81-2.81c.8-.78.8-2.07 0-2.86zM5.41 20L4 18.59l7.72-7.72 1.47 1.35L5.41 20z\"/>\n",
              "  </svg>\n",
              "      </button>\n",
              "      \n",
              "  <style>\n",
              "    .colab-df-container {\n",
              "      display:flex;\n",
              "      flex-wrap:wrap;\n",
              "      gap: 12px;\n",
              "    }\n",
              "\n",
              "    .colab-df-convert {\n",
              "      background-color: #E8F0FE;\n",
              "      border: none;\n",
              "      border-radius: 50%;\n",
              "      cursor: pointer;\n",
              "      display: none;\n",
              "      fill: #1967D2;\n",
              "      height: 32px;\n",
              "      padding: 0 0 0 0;\n",
              "      width: 32px;\n",
              "    }\n",
              "\n",
              "    .colab-df-convert:hover {\n",
              "      background-color: #E2EBFA;\n",
              "      box-shadow: 0px 1px 2px rgba(60, 64, 67, 0.3), 0px 1px 3px 1px rgba(60, 64, 67, 0.15);\n",
              "      fill: #174EA6;\n",
              "    }\n",
              "\n",
              "    [theme=dark] .colab-df-convert {\n",
              "      background-color: #3B4455;\n",
              "      fill: #D2E3FC;\n",
              "    }\n",
              "\n",
              "    [theme=dark] .colab-df-convert:hover {\n",
              "      background-color: #434B5C;\n",
              "      box-shadow: 0px 1px 3px 1px rgba(0, 0, 0, 0.15);\n",
              "      filter: drop-shadow(0px 1px 2px rgba(0, 0, 0, 0.3));\n",
              "      fill: #FFFFFF;\n",
              "    }\n",
              "  </style>\n",
              "\n",
              "      <script>\n",
              "        const buttonEl =\n",
              "          document.querySelector('#df-ab470148-3c98-4323-91f9-5384d8ef6aa8 button.colab-df-convert');\n",
              "        buttonEl.style.display =\n",
              "          google.colab.kernel.accessAllowed ? 'block' : 'none';\n",
              "\n",
              "        async function convertToInteractive(key) {\n",
              "          const element = document.querySelector('#df-ab470148-3c98-4323-91f9-5384d8ef6aa8');\n",
              "          const dataTable =\n",
              "            await google.colab.kernel.invokeFunction('convertToInteractive',\n",
              "                                                     [key], {});\n",
              "          if (!dataTable) return;\n",
              "\n",
              "          const docLinkHtml = 'Like what you see? Visit the ' +\n",
              "            '<a target=\"_blank\" href=https://colab.research.google.com/notebooks/data_table.ipynb>data table notebook</a>'\n",
              "            + ' to learn more about interactive tables.';\n",
              "          element.innerHTML = '';\n",
              "          dataTable['output_type'] = 'display_data';\n",
              "          await google.colab.output.renderOutput(dataTable, element);\n",
              "          const docLink = document.createElement('div');\n",
              "          docLink.innerHTML = docLinkHtml;\n",
              "          element.appendChild(docLink);\n",
              "        }\n",
              "      </script>\n",
              "    </div>\n",
              "  </div>\n",
              "  "
            ]
          },
          "metadata": {},
          "execution_count": 22
        }
      ]
    },
    {
      "cell_type": "code",
      "source": [
        ""
      ],
      "metadata": {
        "id": "qoeJ5YvV90Ry"
      },
      "execution_count": null,
      "outputs": []
    },
    {
      "cell_type": "code",
      "source": [
        "#train test split\n",
        "train_df, test_df = train_test_split(train, test_size=0.25, stratify=train['target'])"
      ],
      "metadata": {
        "id": "SKwzqHdATmks"
      },
      "execution_count": 8,
      "outputs": []
    },
    {
      "cell_type": "code",
      "source": [
        "!pip install optuna\n",
        "import optuna"
      ],
      "metadata": {
        "id": "yZqlM7OVdL2b"
      },
      "execution_count": null,
      "outputs": []
    },
    {
      "cell_type": "code",
      "source": [
        "# optuna\n",
        "\n",
        "def objective(trial,  train_df, test_df, features):\n",
        "    \n",
        "    param = {\n",
        "        'booster':'gbtree',\n",
        "        'tree_method':'gpu_hist', \n",
        "        \"objective\": \"binary:logistic\",\n",
        "        'lambda': trial.suggest_loguniform(\n",
        "            'lambda', 1e-3, 10.0\n",
        "        ),\n",
        "        'alpha': trial.suggest_loguniform(\n",
        "            'alpha', 1e-3, 10.0\n",
        "        ),\n",
        "        'colsample_bytree': trial.suggest_float(\n",
        "            'colsample_bytree', 0.5,1,step=0.1\n",
        "        ),\n",
        "        'subsample': trial.suggest_float(\n",
        "            'subsample', 0.5,1,step=0.1\n",
        "        ),\n",
        "        'learning_rate': trial.suggest_float(\n",
        "            'learning_rate', 0.01,0.05,step=0.005\n",
        "        ),\n",
        "        'max_depth': trial.suggest_int(\n",
        "            'max_depth', 4,9,1\n",
        "        ),\n",
        "        'random_state': 99,\n",
        "        'eval_metric':'logloss',\n",
        "        'min_child_weight': trial.suggest_int(\n",
        "            'min_child_weight', 1,256,1\n",
        "        ),\n",
        "        \n",
        "    }\n",
        "    \n",
        "    \n",
        "\n",
        "    \n",
        "    \n",
        "    \n",
        "    \n",
        "    oof = []\n",
        "    gc.collect()\n",
        "    \n",
        "\n",
        "        \n",
        "    # TRAIN, VALID, TEST FOR FOLD K\n",
        "    #Xy_train = IterLoadForDMatrix(train_df, features, 'target')\n",
        "\n",
        "    X_train = train_df.loc[:, features]\n",
        "    y_train = train_df.loc[:, 'target']    \n",
        "        \n",
        "    X_valid = test_df.loc[:, features]\n",
        "    y_valid = test_df.loc[:, 'target']\n",
        "      \n",
        "    #dtrain = xgb.DeviceQuantileDMatrix(Xy_train, max_bin=256)\n",
        "\n",
        "    dtrain = xgb.DMatrix(data=X_train, label=y_train)\n",
        "    dvalid = xgb.DMatrix(data=X_valid, label=y_valid)\n",
        "      \n",
        "        \n",
        "\n",
        "        \n",
        "        # TRAIN MODEL FOLD K\n",
        "    model = xgb.train(param, \n",
        "                  dtrain=dtrain,\n",
        "                  evals=[(dtrain,'train'),(dvalid,'valid')],\n",
        "                  num_boost_round=9999,\n",
        "                  early_stopping_rounds=100,\n",
        "                  verbose_eval=300\n",
        "                  ) \n",
        "      \n",
        "        \n",
        "        # INFER OOF FOLD K\n",
        "    oof_preds = model.predict(dvalid)\n",
        "        #acc = amex_metric_mod(y_valid.values, oof_preds)\n",
        "    \n",
        "    \n",
        "        # SAVE OOF\n",
        "    df = test_df.loc[:, ['customer_ID','target'] ].copy()\n",
        "    df['oof_pred'] = oof_preds\n",
        "    oof.append(df)\n",
        "\n",
        "              \n",
        "\n",
        "\n",
        "    del dtrain,  df\n",
        "    del X_valid, y_valid, dvalid, model\n",
        "    _ = gc.collect()\n",
        "    \n",
        "\n",
        "    oof = pd.concat(oof,axis=0,ignore_index=True).set_index('customer_ID')\n",
        "    metric = amex_metric_mod(oof.target.values, oof.oof_pred.values)\n",
        "        \n",
        "    return metric"
      ],
      "metadata": {
        "id": "ZWgF-Jq3TOJY"
      },
      "execution_count": 10,
      "outputs": []
    },
    {
      "cell_type": "code",
      "source": [
        "study = optuna.create_study(direction='maximize')\n",
        "study.optimize(lambda trial: objective(\n",
        "        trial,  train_df, test_df, features), n_trials= 100) "
      ],
      "metadata": {
        "id": "JrMDm4JITOFj",
        "colab": {
          "base_uri": "https://localhost:8080/"
        },
        "outputId": "179b3ba8-f170-45a2-d768-a96514fd9a85"
      },
      "execution_count": 14,
      "outputs": [
        {
          "output_type": "stream",
          "name": "stderr",
          "text": [
            "\u001b[32m[I 2022-08-13 21:53:22,205]\u001b[0m A new study created in memory with name: no-name-32a45eb6-bed4-492d-840b-203cc1dfa9cc\u001b[0m\n"
          ]
        },
        {
          "output_type": "stream",
          "name": "stdout",
          "text": [
            "[0]\ttrain-logloss:0.686615\tvalid-logloss:0.686655\n",
            "Multiple eval metrics have been passed: 'valid-logloss' will be used for early stopping.\n",
            "\n",
            "Will train until valid-logloss hasn't improved in 100 rounds.\n",
            "[300]\ttrain-logloss:0.243862\tvalid-logloss:0.250032\n",
            "[600]\ttrain-logloss:0.219835\tvalid-logloss:0.22928\n",
            "[900]\ttrain-logloss:0.212013\tvalid-logloss:0.224505\n",
            "[1200]\ttrain-logloss:0.207185\tvalid-logloss:0.222199\n",
            "[1500]\ttrain-logloss:0.203544\tvalid-logloss:0.220863\n",
            "[1800]\ttrain-logloss:0.200586\tvalid-logloss:0.220025\n",
            "[2100]\ttrain-logloss:0.197999\tvalid-logloss:0.219435\n",
            "[2400]\ttrain-logloss:0.195573\tvalid-logloss:0.218989\n",
            "[2700]\ttrain-logloss:0.193307\tvalid-logloss:0.218655\n",
            "[3000]\ttrain-logloss:0.191194\tvalid-logloss:0.218389\n",
            "[3300]\ttrain-logloss:0.189116\tvalid-logloss:0.218176\n",
            "[3600]\ttrain-logloss:0.187047\tvalid-logloss:0.217978\n",
            "[3900]\ttrain-logloss:0.185112\tvalid-logloss:0.217818\n",
            "[4200]\ttrain-logloss:0.18318\tvalid-logloss:0.217687\n",
            "[4500]\ttrain-logloss:0.181388\tvalid-logloss:0.217586\n",
            "[4800]\ttrain-logloss:0.179567\tvalid-logloss:0.217503\n",
            "[5100]\ttrain-logloss:0.177894\tvalid-logloss:0.21744\n",
            "[5400]\ttrain-logloss:0.176224\tvalid-logloss:0.217374\n",
            "[5700]\ttrain-logloss:0.174664\tvalid-logloss:0.217331\n",
            "[6000]\ttrain-logloss:0.17307\tvalid-logloss:0.217301\n",
            "[6300]\ttrain-logloss:0.171466\tvalid-logloss:0.217273\n",
            "Stopping. Best iteration:\n",
            "[6312]\ttrain-logloss:0.171399\tvalid-logloss:0.217269\n",
            "\n"
          ]
        },
        {
          "output_type": "stream",
          "name": "stderr",
          "text": [
            "\u001b[32m[I 2022-08-13 22:05:59,232]\u001b[0m Trial 0 finished with value: 0.7941231955570944 and parameters: {'lambda': 6.462217156923637, 'alpha': 4.514849216110904, 'colsample_bytree': 0.6, 'subsample': 1.0, 'learning_rate': 0.01, 'max_depth': 6, 'min_child_weight': 94}. Best is trial 0 with value: 0.7941231955570944.\u001b[0m\n"
          ]
        },
        {
          "output_type": "stream",
          "name": "stdout",
          "text": [
            "[0]\ttrain-logloss:0.674262\tvalid-logloss:0.674346\n",
            "Multiple eval metrics have been passed: 'valid-logloss' will be used for early stopping.\n",
            "\n",
            "Will train until valid-logloss hasn't improved in 100 rounds.\n",
            "[300]\ttrain-logloss:0.223038\tvalid-logloss:0.229291\n",
            "[600]\ttrain-logloss:0.213376\tvalid-logloss:0.222885\n",
            "[900]\ttrain-logloss:0.208538\tvalid-logloss:0.220829\n",
            "[1200]\ttrain-logloss:0.204942\tvalid-logloss:0.219831\n",
            "[1500]\ttrain-logloss:0.201735\tvalid-logloss:0.21915\n",
            "[1800]\ttrain-logloss:0.198756\tvalid-logloss:0.218729\n",
            "[2100]\ttrain-logloss:0.196011\tvalid-logloss:0.21839\n",
            "[2400]\ttrain-logloss:0.193434\tvalid-logloss:0.218195\n",
            "[2700]\ttrain-logloss:0.191046\tvalid-logloss:0.218062\n",
            "[3000]\ttrain-logloss:0.1887\tvalid-logloss:0.218022\n",
            "[3300]\ttrain-logloss:0.18633\tvalid-logloss:0.217943\n",
            "Stopping. Best iteration:\n",
            "[3368]\ttrain-logloss:0.185856\tvalid-logloss:0.217933\n",
            "\n"
          ]
        },
        {
          "output_type": "stream",
          "name": "stderr",
          "text": [
            "\u001b[32m[I 2022-08-13 22:11:48,614]\u001b[0m Trial 1 finished with value: 0.7916748342573557 and parameters: {'lambda': 0.023418138366062092, 'alpha': 4.4303464238534875, 'colsample_bytree': 0.8, 'subsample': 1.0, 'learning_rate': 0.03, 'max_depth': 4, 'min_child_weight': 121}. Best is trial 0 with value: 0.7941231955570944.\u001b[0m\n"
          ]
        },
        {
          "output_type": "stream",
          "name": "stdout",
          "text": [
            "[0]\ttrain-logloss:0.667804\tvalid-logloss:0.667933\n",
            "Multiple eval metrics have been passed: 'valid-logloss' will be used for early stopping.\n",
            "\n",
            "Will train until valid-logloss hasn't improved in 100 rounds.\n",
            "[300]\ttrain-logloss:0.219564\tvalid-logloss:0.226087\n",
            "[600]\ttrain-logloss:0.210692\tvalid-logloss:0.221083\n",
            "[900]\ttrain-logloss:0.20549\tvalid-logloss:0.219591\n",
            "[1200]\ttrain-logloss:0.20116\tvalid-logloss:0.218933\n",
            "[1500]\ttrain-logloss:0.197243\tvalid-logloss:0.218583\n",
            "[1800]\ttrain-logloss:0.19376\tvalid-logloss:0.218388\n",
            "Stopping. Best iteration:\n",
            "[1854]\ttrain-logloss:0.193157\tvalid-logloss:0.218365\n",
            "\n"
          ]
        },
        {
          "output_type": "stream",
          "name": "stderr",
          "text": [
            "\u001b[32m[I 2022-08-13 22:15:18,651]\u001b[0m Trial 2 finished with value: 0.7918625324660848 and parameters: {'lambda': 0.003482847812255803, 'alpha': 0.04672831808466329, 'colsample_bytree': 1.0, 'subsample': 0.5, 'learning_rate': 0.04, 'max_depth': 4, 'min_child_weight': 110}. Best is trial 0 with value: 0.7941231955570944.\u001b[0m\n"
          ]
        },
        {
          "output_type": "stream",
          "name": "stdout",
          "text": [
            "[0]\ttrain-logloss:0.667317\tvalid-logloss:0.667446\n",
            "Multiple eval metrics have been passed: 'valid-logloss' will be used for early stopping.\n",
            "\n",
            "Will train until valid-logloss hasn't improved in 100 rounds.\n",
            "[300]\ttrain-logloss:0.209968\tvalid-logloss:0.222524\n",
            "[600]\ttrain-logloss:0.199102\tvalid-logloss:0.219274\n",
            "[900]\ttrain-logloss:0.191082\tvalid-logloss:0.21837\n",
            "[1200]\ttrain-logloss:0.184175\tvalid-logloss:0.2181\n",
            "Stopping. Best iteration:\n",
            "[1252]\ttrain-logloss:0.183146\tvalid-logloss:0.218039\n",
            "\n"
          ]
        },
        {
          "output_type": "stream",
          "name": "stderr",
          "text": [
            "\u001b[32m[I 2022-08-13 22:18:22,372]\u001b[0m Trial 3 finished with value: 0.7920715197699821 and parameters: {'lambda': 0.7021725143624723, 'alpha': 3.4677690921510864, 'colsample_bytree': 0.7, 'subsample': 0.8, 'learning_rate': 0.04, 'max_depth': 6, 'min_child_weight': 155}. Best is trial 0 with value: 0.7941231955570944.\u001b[0m\n"
          ]
        },
        {
          "output_type": "stream",
          "name": "stdout",
          "text": [
            "[0]\ttrain-logloss:0.68631\tvalid-logloss:0.68641\n",
            "Multiple eval metrics have been passed: 'valid-logloss' will be used for early stopping.\n",
            "\n",
            "Will train until valid-logloss hasn't improved in 100 rounds.\n",
            "[300]\ttrain-logloss:0.219632\tvalid-logloss:0.240982\n",
            "[600]\ttrain-logloss:0.189663\tvalid-logloss:0.223236\n",
            "[900]\ttrain-logloss:0.175507\tvalid-logloss:0.22014\n",
            "[1200]\ttrain-logloss:0.164982\tvalid-logloss:0.218761\n",
            "[1500]\ttrain-logloss:0.156299\tvalid-logloss:0.21807\n",
            "[1800]\ttrain-logloss:0.148688\tvalid-logloss:0.217702\n",
            "[2100]\ttrain-logloss:0.141584\tvalid-logloss:0.217473\n",
            "[2400]\ttrain-logloss:0.135339\tvalid-logloss:0.217307\n",
            "[2700]\ttrain-logloss:0.129318\tvalid-logloss:0.217234\n",
            "[3000]\ttrain-logloss:0.123564\tvalid-logloss:0.217185\n",
            "Stopping. Best iteration:\n",
            "[3068]\ttrain-logloss:0.122307\tvalid-logloss:0.217168\n",
            "\n"
          ]
        },
        {
          "output_type": "stream",
          "name": "stderr",
          "text": [
            "\u001b[32m[I 2022-08-13 22:27:27,760]\u001b[0m Trial 4 finished with value: 0.7947267493914489 and parameters: {'lambda': 0.006235856620337897, 'alpha': 0.0057015897985145695, 'colsample_bytree': 0.7, 'subsample': 0.9, 'learning_rate': 0.01, 'max_depth': 9, 'min_child_weight': 22}. Best is trial 4 with value: 0.7947267493914489.\u001b[0m\n"
          ]
        },
        {
          "output_type": "stream",
          "name": "stdout",
          "text": [
            "[0]\ttrain-logloss:0.686488\tvalid-logloss:0.686541\n",
            "Multiple eval metrics have been passed: 'valid-logloss' will be used for early stopping.\n",
            "\n",
            "Will train until valid-logloss hasn't improved in 100 rounds.\n",
            "[300]\ttrain-logloss:0.237695\tvalid-logloss:0.246178\n",
            "[600]\ttrain-logloss:0.213428\tvalid-logloss:0.226671\n",
            "[900]\ttrain-logloss:0.204617\tvalid-logloss:0.222392\n",
            "[1200]\ttrain-logloss:0.198791\tvalid-logloss:0.22044\n",
            "[1500]\ttrain-logloss:0.19425\tvalid-logloss:0.219372\n",
            "[1800]\ttrain-logloss:0.190146\tvalid-logloss:0.218669\n",
            "[2100]\ttrain-logloss:0.186482\tvalid-logloss:0.218232\n",
            "[2400]\ttrain-logloss:0.182999\tvalid-logloss:0.217914\n",
            "[2700]\ttrain-logloss:0.179746\tvalid-logloss:0.217694\n",
            "[3000]\ttrain-logloss:0.176608\tvalid-logloss:0.217511\n",
            "[3300]\ttrain-logloss:0.173616\tvalid-logloss:0.217348\n",
            "[3600]\ttrain-logloss:0.170766\tvalid-logloss:0.217248\n",
            "[3900]\ttrain-logloss:0.168022\tvalid-logloss:0.217156\n",
            "[4200]\ttrain-logloss:0.165271\tvalid-logloss:0.217106\n",
            "[4500]\ttrain-logloss:0.162642\tvalid-logloss:0.217055\n",
            "Stopping. Best iteration:\n",
            "[4632]\ttrain-logloss:0.161422\tvalid-logloss:0.217038\n",
            "\n"
          ]
        },
        {
          "output_type": "stream",
          "name": "stderr",
          "text": [
            "\u001b[32m[I 2022-08-13 22:38:03,473]\u001b[0m Trial 5 finished with value: 0.794725955460087 and parameters: {'lambda': 0.010706205124865285, 'alpha': 0.0037322346904174165, 'colsample_bytree': 0.5, 'subsample': 0.9, 'learning_rate': 0.01, 'max_depth': 7, 'min_child_weight': 73}. Best is trial 4 with value: 0.7947267493914489.\u001b[0m\n"
          ]
        },
        {
          "output_type": "stream",
          "name": "stdout",
          "text": [
            "[0]\ttrain-logloss:0.686525\tvalid-logloss:0.686568\n",
            "Multiple eval metrics have been passed: 'valid-logloss' will be used for early stopping.\n",
            "\n",
            "Will train until valid-logloss hasn't improved in 100 rounds.\n",
            "[300]\ttrain-logloss:0.241917\tvalid-logloss:0.247872\n",
            "[600]\ttrain-logloss:0.219882\tvalid-logloss:0.228265\n",
            "[900]\ttrain-logloss:0.213199\tvalid-logloss:0.223738\n",
            "[1200]\ttrain-logloss:0.20889\tvalid-logloss:0.221596\n",
            "[1500]\ttrain-logloss:0.205647\tvalid-logloss:0.220397\n",
            "[1800]\ttrain-logloss:0.202839\tvalid-logloss:0.219676\n",
            "[2100]\ttrain-logloss:0.200353\tvalid-logloss:0.219172\n",
            "[2400]\ttrain-logloss:0.197981\tvalid-logloss:0.218811\n",
            "[2700]\ttrain-logloss:0.19585\tvalid-logloss:0.218542\n",
            "[3000]\ttrain-logloss:0.193794\tvalid-logloss:0.218344\n",
            "[3300]\ttrain-logloss:0.1918\tvalid-logloss:0.218177\n",
            "[3600]\ttrain-logloss:0.189881\tvalid-logloss:0.218016\n",
            "[3900]\ttrain-logloss:0.187964\tvalid-logloss:0.217924\n",
            "[4200]\ttrain-logloss:0.186099\tvalid-logloss:0.217838\n",
            "Stopping. Best iteration:\n",
            "[4391]\ttrain-logloss:0.184955\tvalid-logloss:0.217771\n",
            "\n"
          ]
        },
        {
          "output_type": "stream",
          "name": "stderr",
          "text": [
            "\u001b[32m[I 2022-08-13 22:48:53,390]\u001b[0m Trial 6 finished with value: 0.7934024940840386 and parameters: {'lambda': 0.020882882176521216, 'alpha': 0.12151083413803072, 'colsample_bytree': 0.5, 'subsample': 0.6, 'learning_rate': 0.01, 'max_depth': 8, 'min_child_weight': 254}. Best is trial 4 with value: 0.7947267493914489.\u001b[0m\n"
          ]
        },
        {
          "output_type": "stream",
          "name": "stdout",
          "text": [
            "[0]\ttrain-logloss:0.679741\tvalid-logloss:0.679892\n",
            "Multiple eval metrics have been passed: 'valid-logloss' will be used for early stopping.\n",
            "\n",
            "Will train until valid-logloss hasn't improved in 100 rounds.\n",
            "[300]\ttrain-logloss:0.201263\tvalid-logloss:0.225051\n",
            "[600]\ttrain-logloss:0.184143\tvalid-logloss:0.219862\n",
            "[900]\ttrain-logloss:0.172573\tvalid-logloss:0.218422\n",
            "[1200]\ttrain-logloss:0.162455\tvalid-logloss:0.217751\n",
            "[1500]\ttrain-logloss:0.153982\tvalid-logloss:0.217487\n",
            "Stopping. Best iteration:\n",
            "[1639]\ttrain-logloss:0.150125\tvalid-logloss:0.217377\n",
            "\n"
          ]
        },
        {
          "output_type": "stream",
          "name": "stderr",
          "text": [
            "\u001b[32m[I 2022-08-13 22:54:01,671]\u001b[0m Trial 7 finished with value: 0.7947481786541737 and parameters: {'lambda': 0.05063641542492307, 'alpha': 8.665049670248907, 'colsample_bytree': 0.8, 'subsample': 0.9, 'learning_rate': 0.02, 'max_depth': 9, 'min_child_weight': 52}. Best is trial 7 with value: 0.7947481786541737.\u001b[0m\n"
          ]
        },
        {
          "output_type": "stream",
          "name": "stdout",
          "text": [
            "[0]\ttrain-logloss:0.68296\tvalid-logloss:0.683104\n",
            "Multiple eval metrics have been passed: 'valid-logloss' will be used for early stopping.\n",
            "\n",
            "Will train until valid-logloss hasn't improved in 100 rounds.\n",
            "[300]\ttrain-logloss:0.20409\tvalid-logloss:0.227983\n",
            "[600]\ttrain-logloss:0.183055\tvalid-logloss:0.22043\n",
            "[900]\ttrain-logloss:0.170081\tvalid-logloss:0.218668\n",
            "[1200]\ttrain-logloss:0.159229\tvalid-logloss:0.217921\n",
            "[1500]\ttrain-logloss:0.150021\tvalid-logloss:0.21766\n",
            "[1800]\ttrain-logloss:0.141526\tvalid-logloss:0.217563\n",
            "[2100]\ttrain-logloss:0.134115\tvalid-logloss:0.217422\n",
            "Stopping. Best iteration:\n",
            "[2172]\ttrain-logloss:0.13234\tvalid-logloss:0.217413\n",
            "\n"
          ]
        },
        {
          "output_type": "stream",
          "name": "stderr",
          "text": [
            "\u001b[32m[I 2022-08-13 23:00:30,228]\u001b[0m Trial 8 finished with value: 0.7929234942140231 and parameters: {'lambda': 0.004811505892932343, 'alpha': 2.021578664923911, 'colsample_bytree': 0.6, 'subsample': 0.7, 'learning_rate': 0.015, 'max_depth': 9, 'min_child_weight': 23}. Best is trial 7 with value: 0.7947481786541737.\u001b[0m\n"
          ]
        },
        {
          "output_type": "stream",
          "name": "stdout",
          "text": [
            "[0]\ttrain-logloss:0.683308\tvalid-logloss:0.683364\n",
            "Multiple eval metrics have been passed: 'valid-logloss' will be used for early stopping.\n",
            "\n",
            "Will train until valid-logloss hasn't improved in 100 rounds.\n",
            "[300]\ttrain-logloss:0.225728\tvalid-logloss:0.234204\n",
            "[600]\ttrain-logloss:0.209303\tvalid-logloss:0.223847\n",
            "[900]\ttrain-logloss:0.201149\tvalid-logloss:0.220861\n",
            "[1200]\ttrain-logloss:0.194987\tvalid-logloss:0.21942\n",
            "[1500]\ttrain-logloss:0.189945\tvalid-logloss:0.218627\n",
            "[1800]\ttrain-logloss:0.185267\tvalid-logloss:0.218117\n",
            "[2100]\ttrain-logloss:0.181077\tvalid-logloss:0.217797\n",
            "[2400]\ttrain-logloss:0.176965\tvalid-logloss:0.217563\n",
            "[2700]\ttrain-logloss:0.173141\tvalid-logloss:0.217431\n",
            "[3000]\ttrain-logloss:0.169416\tvalid-logloss:0.217305\n",
            "[3300]\ttrain-logloss:0.165944\tvalid-logloss:0.217185\n",
            "Stopping. Best iteration:\n",
            "[3405]\ttrain-logloss:0.164699\tvalid-logloss:0.217152\n",
            "\n"
          ]
        },
        {
          "output_type": "stream",
          "name": "stderr",
          "text": [
            "\u001b[32m[I 2022-08-13 23:07:51,578]\u001b[0m Trial 9 finished with value: 0.7944327732385075 and parameters: {'lambda': 0.006686070104169649, 'alpha': 0.02718794630036195, 'colsample_bytree': 0.5, 'subsample': 0.9, 'learning_rate': 0.015, 'max_depth': 6, 'min_child_weight': 40}. Best is trial 7 with value: 0.7947481786541737.\u001b[0m\n"
          ]
        },
        {
          "output_type": "stream",
          "name": "stdout",
          "text": [
            "[0]\ttrain-logloss:0.676546\tvalid-logloss:0.676684\n",
            "Multiple eval metrics have been passed: 'valid-logloss' will be used for early stopping.\n",
            "\n",
            "Will train until valid-logloss hasn't improved in 100 rounds.\n",
            "[300]\ttrain-logloss:0.21192\tvalid-logloss:0.224558\n",
            "[600]\ttrain-logloss:0.199748\tvalid-logloss:0.219771\n",
            "[900]\ttrain-logloss:0.191861\tvalid-logloss:0.218588\n",
            "[1200]\ttrain-logloss:0.185046\tvalid-logloss:0.218029\n",
            "[1500]\ttrain-logloss:0.178883\tvalid-logloss:0.217788\n",
            "Stopping. Best iteration:\n",
            "[1599]\ttrain-logloss:0.176883\tvalid-logloss:0.217711\n",
            "\n"
          ]
        },
        {
          "output_type": "stream",
          "name": "stderr",
          "text": [
            "\u001b[32m[I 2022-08-13 23:12:12,378]\u001b[0m Trial 10 finished with value: 0.7928709053572542 and parameters: {'lambda': 0.23556486381240022, 'alpha': 0.5208027026151779, 'colsample_bytree': 0.9, 'subsample': 0.7, 'learning_rate': 0.025, 'max_depth': 8, 'min_child_weight': 180}. Best is trial 7 with value: 0.7947481786541737.\u001b[0m\n"
          ]
        },
        {
          "output_type": "stream",
          "name": "stdout",
          "text": [
            "[0]\ttrain-logloss:0.679528\tvalid-logloss:0.679739\n",
            "Multiple eval metrics have been passed: 'valid-logloss' will be used for early stopping.\n",
            "\n",
            "Will train until valid-logloss hasn't improved in 100 rounds.\n",
            "[300]\ttrain-logloss:0.188176\tvalid-logloss:0.223569\n",
            "[600]\ttrain-logloss:0.162439\tvalid-logloss:0.219289\n",
            "[900]\ttrain-logloss:0.145273\tvalid-logloss:0.218314\n",
            "[1200]\ttrain-logloss:0.131457\tvalid-logloss:0.217989\n",
            "Stopping. Best iteration:\n",
            "[1385]\ttrain-logloss:0.123952\tvalid-logloss:0.217938\n",
            "\n"
          ]
        },
        {
          "output_type": "stream",
          "name": "stderr",
          "text": [
            "\u001b[32m[I 2022-08-13 23:16:43,354]\u001b[0m Trial 11 finished with value: 0.7931373187764947 and parameters: {'lambda': 0.001376639613020528, 'alpha': 0.0011442594857747875, 'colsample_bytree': 0.8, 'subsample': 0.9, 'learning_rate': 0.02, 'max_depth': 9, 'min_child_weight': 19}. Best is trial 7 with value: 0.7947481786541737.\u001b[0m\n"
          ]
        },
        {
          "output_type": "stream",
          "name": "stdout",
          "text": [
            "[0]\ttrain-logloss:0.659822\tvalid-logloss:0.660221\n",
            "Multiple eval metrics have been passed: 'valid-logloss' will be used for early stopping.\n",
            "\n",
            "Will train until valid-logloss hasn't improved in 100 rounds.\n",
            "[300]\ttrain-logloss:0.178017\tvalid-logloss:0.219433\n",
            "[600]\ttrain-logloss:0.152671\tvalid-logloss:0.218763\n",
            "Stopping. Best iteration:\n",
            "[523]\ttrain-logloss:0.158362\tvalid-logloss:0.218738\n",
            "\n"
          ]
        },
        {
          "output_type": "stream",
          "name": "stderr",
          "text": [
            "\u001b[32m[I 2022-08-13 23:18:47,917]\u001b[0m Trial 12 finished with value: 0.7915236532985559 and parameters: {'lambda': 0.09930191242399787, 'alpha': 0.011200608024184983, 'colsample_bytree': 0.7, 'subsample': 0.8, 'learning_rate': 0.05, 'max_depth': 9, 'min_child_weight': 60}. Best is trial 7 with value: 0.7947481786541737.\u001b[0m\n"
          ]
        },
        {
          "output_type": "stream",
          "name": "stdout",
          "text": [
            "[0]\ttrain-logloss:0.679582\tvalid-logloss:0.679772\n",
            "Multiple eval metrics have been passed: 'valid-logloss' will be used for early stopping.\n",
            "\n",
            "Will train until valid-logloss hasn't improved in 100 rounds.\n",
            "[300]\ttrain-logloss:0.190424\tvalid-logloss:0.224792\n",
            "[600]\ttrain-logloss:0.160704\tvalid-logloss:0.219871\n",
            "[900]\ttrain-logloss:0.140887\tvalid-logloss:0.218804\n",
            "[1200]\ttrain-logloss:0.125192\tvalid-logloss:0.218511\n",
            "Stopping. Best iteration:\n",
            "[1143]\ttrain-logloss:0.128171\tvalid-logloss:0.218499\n",
            "\n"
          ]
        },
        {
          "output_type": "stream",
          "name": "stderr",
          "text": [
            "\u001b[32m[I 2022-08-13 23:22:42,139]\u001b[0m Trial 13 finished with value: 0.7927930954829685 and parameters: {'lambda': 0.07000225863634248, 'alpha': 0.3316413284569632, 'colsample_bytree': 0.9, 'subsample': 0.9, 'learning_rate': 0.02, 'max_depth': 8, 'min_child_weight': 2}. Best is trial 7 with value: 0.7947481786541737.\u001b[0m\n"
          ]
        },
        {
          "output_type": "stream",
          "name": "stdout",
          "text": [
            "[0]\ttrain-logloss:0.676426\tvalid-logloss:0.676594\n",
            "Multiple eval metrics have been passed: 'valid-logloss' will be used for early stopping.\n",
            "\n",
            "Will train until valid-logloss hasn't improved in 100 rounds.\n",
            "[300]\ttrain-logloss:0.200066\tvalid-logloss:0.22315\n",
            "[600]\ttrain-logloss:0.183691\tvalid-logloss:0.21941\n",
            "[900]\ttrain-logloss:0.172321\tvalid-logloss:0.218469\n",
            "[1200]\ttrain-logloss:0.162786\tvalid-logloss:0.218173\n",
            "[1500]\ttrain-logloss:0.154395\tvalid-logloss:0.218034\n",
            "Stopping. Best iteration:\n",
            "[1553]\ttrain-logloss:0.152971\tvalid-logloss:0.217992\n",
            "\n"
          ]
        },
        {
          "output_type": "stream",
          "name": "stderr",
          "text": [
            "\u001b[32m[I 2022-08-13 23:26:53,024]\u001b[0m Trial 14 finished with value: 0.7934738810157356 and parameters: {'lambda': 0.7425406878523637, 'alpha': 0.006287689354659592, 'colsample_bytree': 0.8, 'subsample': 1.0, 'learning_rate': 0.025, 'max_depth': 8, 'min_child_weight': 64}. Best is trial 7 with value: 0.7947481786541737.\u001b[0m\n"
          ]
        },
        {
          "output_type": "stream",
          "name": "stdout",
          "text": [
            "[0]\ttrain-logloss:0.679842\tvalid-logloss:0.679937\n",
            "Multiple eval metrics have been passed: 'valid-logloss' will be used for early stopping.\n",
            "\n",
            "Will train until valid-logloss hasn't improved in 100 rounds.\n",
            "[300]\ttrain-logloss:0.211929\tvalid-logloss:0.226411\n",
            "[600]\ttrain-logloss:0.19622\tvalid-logloss:0.220289\n",
            "[900]\ttrain-logloss:0.186027\tvalid-logloss:0.218561\n",
            "[1200]\ttrain-logloss:0.17755\tvalid-logloss:0.21784\n",
            "[1500]\ttrain-logloss:0.170161\tvalid-logloss:0.217417\n",
            "[1800]\ttrain-logloss:0.163347\tvalid-logloss:0.217227\n",
            "[2100]\ttrain-logloss:0.156959\tvalid-logloss:0.217124\n",
            "Stopping. Best iteration:\n",
            "[2045]\ttrain-logloss:0.158175\tvalid-logloss:0.217121\n",
            "\n"
          ]
        },
        {
          "output_type": "stream",
          "name": "stderr",
          "text": [
            "\u001b[32m[I 2022-08-13 23:31:56,887]\u001b[0m Trial 15 finished with value: 0.7940779487872843 and parameters: {'lambda': 0.04660957378701681, 'alpha': 0.2057621916443948, 'colsample_bytree': 0.7, 'subsample': 0.8, 'learning_rate': 0.02, 'max_depth': 7, 'min_child_weight': 43}. Best is trial 7 with value: 0.7947481786541737.\u001b[0m\n"
          ]
        },
        {
          "output_type": "stream",
          "name": "stdout",
          "text": [
            "[0]\ttrain-logloss:0.669811\tvalid-logloss:0.670056\n",
            "Multiple eval metrics have been passed: 'valid-logloss' will be used for early stopping.\n",
            "\n",
            "Will train until valid-logloss hasn't improved in 100 rounds.\n",
            "[300]\ttrain-logloss:0.198695\tvalid-logloss:0.221106\n",
            "[600]\ttrain-logloss:0.18274\tvalid-logloss:0.218347\n",
            "[900]\ttrain-logloss:0.171047\tvalid-logloss:0.217851\n",
            "Stopping. Best iteration:\n",
            "[1063]\ttrain-logloss:0.16494\tvalid-logloss:0.217711\n",
            "\n"
          ]
        },
        {
          "output_type": "stream",
          "name": "stderr",
          "text": [
            "\u001b[32m[I 2022-08-13 23:35:14,752]\u001b[0m Trial 16 finished with value: 0.7943095323314366 and parameters: {'lambda': 0.001308535184390889, 'alpha': 1.1169364894296414, 'colsample_bytree': 0.9, 'subsample': 0.9, 'learning_rate': 0.035, 'max_depth': 9, 'min_child_weight': 157}. Best is trial 7 with value: 0.7947481786541737.\u001b[0m\n"
          ]
        },
        {
          "output_type": "stream",
          "name": "stdout",
          "text": [
            "[0]\ttrain-logloss:0.683432\tvalid-logloss:0.683477\n",
            "Multiple eval metrics have been passed: 'valid-logloss' will be used for early stopping.\n",
            "\n",
            "Will train until valid-logloss hasn't improved in 100 rounds.\n",
            "[300]\ttrain-logloss:0.231154\tvalid-logloss:0.237693\n",
            "[600]\ttrain-logloss:0.21467\tvalid-logloss:0.226058\n",
            "[900]\ttrain-logloss:0.206492\tvalid-logloss:0.222418\n",
            "[1200]\ttrain-logloss:0.200315\tvalid-logloss:0.220644\n",
            "[1500]\ttrain-logloss:0.195087\tvalid-logloss:0.219616\n",
            "[1800]\ttrain-logloss:0.190487\tvalid-logloss:0.218985\n",
            "[2100]\ttrain-logloss:0.186231\tvalid-logloss:0.218559\n",
            "[2400]\ttrain-logloss:0.182166\tvalid-logloss:0.218262\n",
            "[2700]\ttrain-logloss:0.178424\tvalid-logloss:0.218061\n",
            "[3000]\ttrain-logloss:0.17468\tvalid-logloss:0.217901\n",
            "[3300]\ttrain-logloss:0.171064\tvalid-logloss:0.21776\n",
            "Stopping. Best iteration:\n",
            "[3499]\ttrain-logloss:0.168846\tvalid-logloss:0.217695\n",
            "\n"
          ]
        },
        {
          "output_type": "stream",
          "name": "stderr",
          "text": [
            "\u001b[32m[I 2022-08-13 23:42:08,907]\u001b[0m Trial 17 finished with value: 0.7934351841085912 and parameters: {'lambda': 0.2692613396595922, 'alpha': 0.0012319427484679608, 'colsample_bytree': 0.6, 'subsample': 0.8, 'learning_rate': 0.015, 'max_depth': 5, 'min_child_weight': 1}. Best is trial 7 with value: 0.7947481786541737.\u001b[0m\n"
          ]
        },
        {
          "output_type": "stream",
          "name": "stdout",
          "text": [
            "[0]\ttrain-logloss:0.67657\tvalid-logloss:0.676719\n",
            "Multiple eval metrics have been passed: 'valid-logloss' will be used for early stopping.\n",
            "\n",
            "Will train until valid-logloss hasn't improved in 100 rounds.\n",
            "[300]\ttrain-logloss:0.20894\tvalid-logloss:0.224887\n",
            "[600]\ttrain-logloss:0.194895\tvalid-logloss:0.220318\n",
            "[900]\ttrain-logloss:0.185984\tvalid-logloss:0.219179\n",
            "[1200]\ttrain-logloss:0.178458\tvalid-logloss:0.21862\n",
            "[1500]\ttrain-logloss:0.172049\tvalid-logloss:0.218382\n",
            "[1800]\ttrain-logloss:0.165867\tvalid-logloss:0.218282\n",
            "Stopping. Best iteration:\n",
            "[1751]\ttrain-logloss:0.166823\tvalid-logloss:0.218263\n",
            "\n"
          ]
        },
        {
          "output_type": "stream",
          "name": "stderr",
          "text": [
            "\u001b[32m[I 2022-08-13 23:46:25,747]\u001b[0m Trial 18 finished with value: 0.7928733001940553 and parameters: {'lambda': 5.852088066838052, 'alpha': 0.03930265042364146, 'colsample_bytree': 1.0, 'subsample': 1.0, 'learning_rate': 0.025, 'max_depth': 7, 'min_child_weight': 88}. Best is trial 7 with value: 0.7947481786541737.\u001b[0m\n"
          ]
        },
        {
          "output_type": "stream",
          "name": "stdout",
          "text": [
            "[0]\ttrain-logloss:0.683221\tvalid-logloss:0.683298\n",
            "Multiple eval metrics have been passed: 'valid-logloss' will be used for early stopping.\n",
            "\n",
            "Will train until valid-logloss hasn't improved in 100 rounds.\n",
            "[300]\ttrain-logloss:0.22305\tvalid-logloss:0.232329\n",
            "[600]\ttrain-logloss:0.209389\tvalid-logloss:0.223081\n",
            "[900]\ttrain-logloss:0.202671\tvalid-logloss:0.220516\n",
            "[1200]\ttrain-logloss:0.197585\tvalid-logloss:0.219334\n",
            "[1500]\ttrain-logloss:0.193262\tvalid-logloss:0.218704\n",
            "[1800]\ttrain-logloss:0.18941\tvalid-logloss:0.218336\n",
            "[2100]\ttrain-logloss:0.185686\tvalid-logloss:0.218059\n",
            "[2400]\ttrain-logloss:0.182054\tvalid-logloss:0.217894\n",
            "[2700]\ttrain-logloss:0.178595\tvalid-logloss:0.217817\n",
            "[3000]\ttrain-logloss:0.175241\tvalid-logloss:0.217746\n",
            "Stopping. Best iteration:\n",
            "[3029]\ttrain-logloss:0.174936\tvalid-logloss:0.217735\n",
            "\n"
          ]
        },
        {
          "output_type": "stream",
          "name": "stderr",
          "text": [
            "\u001b[32m[I 2022-08-13 23:54:35,960]\u001b[0m Trial 19 finished with value: 0.7918618308177328 and parameters: {'lambda': 0.03559718473606523, 'alpha': 8.386377556518879, 'colsample_bytree': 0.8, 'subsample': 0.7, 'learning_rate': 0.015, 'max_depth': 9, 'min_child_weight': 218}. Best is trial 7 with value: 0.7947481786541737.\u001b[0m\n"
          ]
        },
        {
          "output_type": "stream",
          "name": "stdout",
          "text": [
            "[0]\ttrain-logloss:0.673113\tvalid-logloss:0.673296\n",
            "Multiple eval metrics have been passed: 'valid-logloss' will be used for early stopping.\n",
            "\n",
            "Will train until valid-logloss hasn't improved in 100 rounds.\n",
            "[300]\ttrain-logloss:0.19366\tvalid-logloss:0.221407\n",
            "[600]\ttrain-logloss:0.174133\tvalid-logloss:0.218527\n",
            "[900]\ttrain-logloss:0.159692\tvalid-logloss:0.217896\n",
            "Stopping. Best iteration:\n",
            "[1058]\ttrain-logloss:0.153207\tvalid-logloss:0.217782\n",
            "\n"
          ]
        },
        {
          "output_type": "stream",
          "name": "stderr",
          "text": [
            "\u001b[32m[I 2022-08-13 23:57:46,099]\u001b[0m Trial 20 finished with value: 0.7926146782384396 and parameters: {'lambda': 0.01288110975768889, 'alpha': 0.0028994878034605256, 'colsample_bytree': 0.7, 'subsample': 0.9, 'learning_rate': 0.03, 'max_depth': 8, 'min_child_weight': 45}. Best is trial 7 with value: 0.7947481786541737.\u001b[0m\n"
          ]
        },
        {
          "output_type": "stream",
          "name": "stdout",
          "text": [
            "[0]\ttrain-logloss:0.686491\tvalid-logloss:0.686545\n",
            "Multiple eval metrics have been passed: 'valid-logloss' will be used for early stopping.\n",
            "\n",
            "Will train until valid-logloss hasn't improved in 100 rounds.\n",
            "[300]\ttrain-logloss:0.237958\tvalid-logloss:0.246232\n",
            "[600]\ttrain-logloss:0.213784\tvalid-logloss:0.226674\n",
            "[900]\ttrain-logloss:0.205245\tvalid-logloss:0.22242\n",
            "[1200]\ttrain-logloss:0.199605\tvalid-logloss:0.220428\n",
            "[1500]\ttrain-logloss:0.195135\tvalid-logloss:0.219337\n",
            "[1800]\ttrain-logloss:0.191129\tvalid-logloss:0.218647\n",
            "[2100]\ttrain-logloss:0.187544\tvalid-logloss:0.218172\n",
            "[2400]\ttrain-logloss:0.184142\tvalid-logloss:0.217839\n",
            "[2700]\ttrain-logloss:0.180988\tvalid-logloss:0.217613\n",
            "[3000]\ttrain-logloss:0.177911\tvalid-logloss:0.217415\n",
            "[3300]\ttrain-logloss:0.175005\tvalid-logloss:0.217273\n",
            "[3600]\ttrain-logloss:0.17221\tvalid-logloss:0.21717\n",
            "[3900]\ttrain-logloss:0.169487\tvalid-logloss:0.217086\n",
            "[4200]\ttrain-logloss:0.166834\tvalid-logloss:0.21703\n",
            "[4500]\ttrain-logloss:0.164364\tvalid-logloss:0.217003\n",
            "Stopping. Best iteration:\n",
            "[4500]\ttrain-logloss:0.164364\tvalid-logloss:0.217003\n",
            "\n"
          ]
        },
        {
          "output_type": "stream",
          "name": "stderr",
          "text": [
            "\u001b[32m[I 2022-08-14 00:08:02,543]\u001b[0m Trial 21 finished with value: 0.7948844864663368 and parameters: {'lambda': 0.010445904450901685, 'alpha': 0.011283917726619906, 'colsample_bytree': 0.5, 'subsample': 0.9, 'learning_rate': 0.01, 'max_depth': 7, 'min_child_weight': 81}. Best is trial 21 with value: 0.7948844864663368.\u001b[0m\n"
          ]
        },
        {
          "output_type": "stream",
          "name": "stdout",
          "text": [
            "[0]\ttrain-logloss:0.686668\tvalid-logloss:0.686695\n",
            "Multiple eval metrics have been passed: 'valid-logloss' will be used for early stopping.\n",
            "\n",
            "Will train until valid-logloss hasn't improved in 100 rounds.\n",
            "[300]\ttrain-logloss:0.249591\tvalid-logloss:0.253913\n",
            "[600]\ttrain-logloss:0.225034\tvalid-logloss:0.231744\n",
            "[900]\ttrain-logloss:0.217465\tvalid-logloss:0.226254\n",
            "[1200]\ttrain-logloss:0.212742\tvalid-logloss:0.223446\n",
            "[1500]\ttrain-logloss:0.209279\tvalid-logloss:0.221795\n",
            "[1800]\ttrain-logloss:0.206472\tvalid-logloss:0.220713\n",
            "[2100]\ttrain-logloss:0.204064\tvalid-logloss:0.219945\n",
            "[2400]\ttrain-logloss:0.201898\tvalid-logloss:0.219376\n",
            "[2700]\ttrain-logloss:0.199877\tvalid-logloss:0.218929\n",
            "[3000]\ttrain-logloss:0.197954\tvalid-logloss:0.218571\n",
            "[3300]\ttrain-logloss:0.196124\tvalid-logloss:0.218294\n",
            "[3600]\ttrain-logloss:0.194417\tvalid-logloss:0.218078\n",
            "[3900]\ttrain-logloss:0.192743\tvalid-logloss:0.217883\n",
            "[4200]\ttrain-logloss:0.191158\tvalid-logloss:0.217739\n",
            "[4500]\ttrain-logloss:0.189611\tvalid-logloss:0.217644\n",
            "[4800]\ttrain-logloss:0.187995\tvalid-logloss:0.217553\n",
            "[5100]\ttrain-logloss:0.186464\tvalid-logloss:0.217452\n",
            "[5400]\ttrain-logloss:0.184951\tvalid-logloss:0.217373\n",
            "[5700]\ttrain-logloss:0.1835\tvalid-logloss:0.217323\n",
            "[6000]\ttrain-logloss:0.182081\tvalid-logloss:0.217232\n",
            "[6300]\ttrain-logloss:0.18068\tvalid-logloss:0.217182\n",
            "[6600]\ttrain-logloss:0.179348\tvalid-logloss:0.217148\n",
            "[6900]\ttrain-logloss:0.178029\tvalid-logloss:0.217119\n",
            "Stopping. Best iteration:\n",
            "[6827]\ttrain-logloss:0.178323\tvalid-logloss:0.217114\n",
            "\n"
          ]
        },
        {
          "output_type": "stream",
          "name": "stderr",
          "text": [
            "\u001b[32m[I 2022-08-14 00:20:57,923]\u001b[0m Trial 22 finished with value: 0.7936738531452343 and parameters: {'lambda': 0.0027531653532430287, 'alpha': 0.018407152373175358, 'colsample_bytree': 0.6, 'subsample': 0.8, 'learning_rate': 0.01, 'max_depth': 5, 'min_child_weight': 89}. Best is trial 21 with value: 0.7948844864663368.\u001b[0m\n"
          ]
        },
        {
          "output_type": "stream",
          "name": "stdout",
          "text": [
            "[0]\ttrain-logloss:0.679794\tvalid-logloss:0.679918\n",
            "Multiple eval metrics have been passed: 'valid-logloss' will be used for early stopping.\n",
            "\n",
            "Will train until valid-logloss hasn't improved in 100 rounds.\n",
            "[300]\ttrain-logloss:0.209664\tvalid-logloss:0.226604\n",
            "[600]\ttrain-logloss:0.191874\tvalid-logloss:0.220786\n",
            "[900]\ttrain-logloss:0.181244\tvalid-logloss:0.219402\n",
            "[1200]\ttrain-logloss:0.172766\tvalid-logloss:0.218721\n",
            "[1500]\ttrain-logloss:0.165166\tvalid-logloss:0.218416\n",
            "[1800]\ttrain-logloss:0.158373\tvalid-logloss:0.218229\n",
            "Stopping. Best iteration:\n",
            "[1799]\ttrain-logloss:0.158399\tvalid-logloss:0.218229\n",
            "\n"
          ]
        },
        {
          "output_type": "stream",
          "name": "stderr",
          "text": [
            "\u001b[32m[I 2022-08-14 00:25:33,989]\u001b[0m Trial 23 finished with value: 0.7933817812684443 and parameters: {'lambda': 0.010364191851561651, 'alpha': 0.0666594169788256, 'colsample_bytree': 0.9, 'subsample': 1.0, 'learning_rate': 0.02, 'max_depth': 7, 'min_child_weight': 32}. Best is trial 21 with value: 0.7948844864663368.\u001b[0m\n"
          ]
        },
        {
          "output_type": "stream",
          "name": "stdout",
          "text": [
            "[0]\ttrain-logloss:0.682972\tvalid-logloss:0.6831\n",
            "Multiple eval metrics have been passed: 'valid-logloss' will be used for early stopping.\n",
            "\n",
            "Will train until valid-logloss hasn't improved in 100 rounds.\n",
            "[300]\ttrain-logloss:0.207396\tvalid-logloss:0.22815\n",
            "[600]\ttrain-logloss:0.188441\tvalid-logloss:0.220554\n",
            "[900]\ttrain-logloss:0.177042\tvalid-logloss:0.218718\n",
            "[1200]\ttrain-logloss:0.167585\tvalid-logloss:0.217826\n",
            "[1500]\ttrain-logloss:0.159803\tvalid-logloss:0.217433\n",
            "[1800]\ttrain-logloss:0.152478\tvalid-logloss:0.217219\n",
            "[2100]\ttrain-logloss:0.145556\tvalid-logloss:0.217111\n",
            "Stopping. Best iteration:\n",
            "[2259]\ttrain-logloss:0.142122\tvalid-logloss:0.21704\n",
            "\n"
          ]
        },
        {
          "output_type": "stream",
          "name": "stderr",
          "text": [
            "\u001b[32m[I 2022-08-14 00:32:08,004]\u001b[0m Trial 24 finished with value: 0.7932202238467887 and parameters: {'lambda': 0.1991103173220368, 'alpha': 0.011567958590204186, 'colsample_bytree': 0.6, 'subsample': 0.9, 'learning_rate': 0.015, 'max_depth': 9, 'min_child_weight': 55}. Best is trial 21 with value: 0.7948844864663368.\u001b[0m\n"
          ]
        },
        {
          "output_type": "stream",
          "name": "stdout",
          "text": [
            "[0]\ttrain-logloss:0.686424\tvalid-logloss:0.686486\n",
            "Multiple eval metrics have been passed: 'valid-logloss' will be used for early stopping.\n",
            "\n",
            "Will train until valid-logloss hasn't improved in 100 rounds.\n",
            "[300]\ttrain-logloss:0.232691\tvalid-logloss:0.243874\n",
            "[600]\ttrain-logloss:0.207894\tvalid-logloss:0.225099\n",
            "[900]\ttrain-logloss:0.19871\tvalid-logloss:0.221344\n",
            "[1200]\ttrain-logloss:0.192243\tvalid-logloss:0.219655\n",
            "[1500]\ttrain-logloss:0.187046\tvalid-logloss:0.21873\n",
            "[1800]\ttrain-logloss:0.182279\tvalid-logloss:0.218149\n",
            "[2100]\ttrain-logloss:0.177949\tvalid-logloss:0.21779\n",
            "[2400]\ttrain-logloss:0.173924\tvalid-logloss:0.217526\n",
            "[2700]\ttrain-logloss:0.170206\tvalid-logloss:0.217331\n",
            "[3000]\ttrain-logloss:0.16651\tvalid-logloss:0.217194\n",
            "[3300]\ttrain-logloss:0.162958\tvalid-logloss:0.217069\n",
            "[3600]\ttrain-logloss:0.159538\tvalid-logloss:0.216976\n",
            "[3900]\ttrain-logloss:0.156374\tvalid-logloss:0.216897\n",
            "Stopping. Best iteration:\n",
            "[3998]\ttrain-logloss:0.155263\tvalid-logloss:0.21686\n",
            "\n"
          ]
        },
        {
          "output_type": "stream",
          "name": "stderr",
          "text": [
            "\u001b[32m[I 2022-08-14 00:42:08,311]\u001b[0m Trial 25 finished with value: 0.7952047021094487 and parameters: {'lambda': 0.0026833348996856596, 'alpha': 0.003910072218323912, 'colsample_bytree': 0.5, 'subsample': 0.9, 'learning_rate': 0.01, 'max_depth': 8, 'min_child_weight': 75}. Best is trial 25 with value: 0.7952047021094487.\u001b[0m\n"
          ]
        },
        {
          "output_type": "stream",
          "name": "stdout",
          "text": [
            "[0]\ttrain-logloss:0.683115\tvalid-logloss:0.683187\n",
            "Multiple eval metrics have been passed: 'valid-logloss' will be used for early stopping.\n",
            "\n",
            "Will train until valid-logloss hasn't improved in 100 rounds.\n",
            "[300]\ttrain-logloss:0.219966\tvalid-logloss:0.231009\n",
            "[600]\ttrain-logloss:0.205431\tvalid-logloss:0.222148\n",
            "[900]\ttrain-logloss:0.197943\tvalid-logloss:0.219692\n",
            "[1200]\ttrain-logloss:0.192033\tvalid-logloss:0.218612\n",
            "[1500]\ttrain-logloss:0.18675\tvalid-logloss:0.217971\n",
            "[1800]\ttrain-logloss:0.182019\tvalid-logloss:0.21763\n",
            "[2100]\ttrain-logloss:0.177487\tvalid-logloss:0.217421\n",
            "[2400]\ttrain-logloss:0.173093\tvalid-logloss:0.217285\n",
            "[2700]\ttrain-logloss:0.169029\tvalid-logloss:0.217218\n",
            "[3000]\ttrain-logloss:0.165125\tvalid-logloss:0.217099\n",
            "[3300]\ttrain-logloss:0.161452\tvalid-logloss:0.217057\n",
            "Stopping. Best iteration:\n",
            "[3337]\ttrain-logloss:0.161043\tvalid-logloss:0.217043\n",
            "\n"
          ]
        },
        {
          "output_type": "stream",
          "name": "stderr",
          "text": [
            "\u001b[32m[I 2022-08-14 00:50:28,492]\u001b[0m Trial 26 finished with value: 0.794029351925582 and parameters: {'lambda': 0.00102173116708417, 'alpha': 0.002394928338320527, 'colsample_bytree': 0.5, 'subsample': 0.8, 'learning_rate': 0.015, 'max_depth': 8, 'min_child_weight': 135}. Best is trial 25 with value: 0.7952047021094487.\u001b[0m\n"
          ]
        },
        {
          "output_type": "stream",
          "name": "stdout",
          "text": [
            "[0]\ttrain-logloss:0.679898\tvalid-logloss:0.679993\n",
            "Multiple eval metrics have been passed: 'valid-logloss' will be used for early stopping.\n",
            "\n",
            "Will train until valid-logloss hasn't improved in 100 rounds.\n",
            "[300]\ttrain-logloss:0.216013\tvalid-logloss:0.227025\n",
            "[600]\ttrain-logloss:0.20312\tvalid-logloss:0.220806\n",
            "[900]\ttrain-logloss:0.195512\tvalid-logloss:0.218855\n",
            "[1200]\ttrain-logloss:0.188967\tvalid-logloss:0.21808\n",
            "[1500]\ttrain-logloss:0.183068\tvalid-logloss:0.217658\n",
            "[1800]\ttrain-logloss:0.177873\tvalid-logloss:0.21744\n",
            "[2100]\ttrain-logloss:0.172807\tvalid-logloss:0.217273\n",
            "Stopping. Best iteration:\n",
            "[2083]\ttrain-logloss:0.17309\tvalid-logloss:0.217261\n",
            "\n"
          ]
        },
        {
          "output_type": "stream",
          "name": "stderr",
          "text": [
            "\u001b[32m[I 2022-08-14 00:55:32,080]\u001b[0m Trial 27 finished with value: 0.792481957396075 and parameters: {'lambda': 0.0025739569985188788, 'alpha': 0.012913255977875125, 'colsample_bytree': 0.5, 'subsample': 0.6, 'learning_rate': 0.02, 'max_depth': 7, 'min_child_weight': 79}. Best is trial 25 with value: 0.7952047021094487.\u001b[0m\n"
          ]
        },
        {
          "output_type": "stream",
          "name": "stdout",
          "text": [
            "[0]\ttrain-logloss:0.686451\tvalid-logloss:0.686522\n",
            "Multiple eval metrics have been passed: 'valid-logloss' will be used for early stopping.\n",
            "\n",
            "Will train until valid-logloss hasn't improved in 100 rounds.\n",
            "[300]\ttrain-logloss:0.233387\tvalid-logloss:0.24428\n",
            "[600]\ttrain-logloss:0.209089\tvalid-logloss:0.225532\n",
            "[900]\ttrain-logloss:0.200449\tvalid-logloss:0.221733\n",
            "[1200]\ttrain-logloss:0.194473\tvalid-logloss:0.220038\n",
            "[1500]\ttrain-logloss:0.189717\tvalid-logloss:0.219099\n",
            "[1800]\ttrain-logloss:0.185528\tvalid-logloss:0.218495\n",
            "[2100]\ttrain-logloss:0.18172\tvalid-logloss:0.218083\n",
            "[2400]\ttrain-logloss:0.178125\tvalid-logloss:0.217823\n",
            "[2700]\ttrain-logloss:0.174788\tvalid-logloss:0.217603\n",
            "[3000]\ttrain-logloss:0.171729\tvalid-logloss:0.217447\n",
            "[3300]\ttrain-logloss:0.168724\tvalid-logloss:0.217358\n",
            "[3600]\ttrain-logloss:0.165879\tvalid-logloss:0.21728\n",
            "[3900]\ttrain-logloss:0.163036\tvalid-logloss:0.217216\n",
            "[4200]\ttrain-logloss:0.160434\tvalid-logloss:0.217167\n",
            "Stopping. Best iteration:\n",
            "[4262]\ttrain-logloss:0.159875\tvalid-logloss:0.217148\n",
            "\n"
          ]
        },
        {
          "output_type": "stream",
          "name": "stderr",
          "text": [
            "\u001b[32m[I 2022-08-14 01:05:45,973]\u001b[0m Trial 28 finished with value: 0.7932220088240411 and parameters: {'lambda': 0.020741100810697632, 'alpha': 0.11994769827847984, 'colsample_bytree': 0.6, 'subsample': 1.0, 'learning_rate': 0.01, 'max_depth': 8, 'min_child_weight': 103}. Best is trial 25 with value: 0.7952047021094487.\u001b[0m\n"
          ]
        },
        {
          "output_type": "stream",
          "name": "stdout",
          "text": [
            "[0]\ttrain-logloss:0.686589\tvalid-logloss:0.686628\n",
            "Multiple eval metrics have been passed: 'valid-logloss' will be used for early stopping.\n",
            "\n",
            "Will train until valid-logloss hasn't improved in 100 rounds.\n",
            "[300]\ttrain-logloss:0.244142\tvalid-logloss:0.249807\n",
            "[600]\ttrain-logloss:0.220483\tvalid-logloss:0.229112\n",
            "[900]\ttrain-logloss:0.212979\tvalid-logloss:0.224248\n",
            "[1200]\ttrain-logloss:0.208305\tvalid-logloss:0.221906\n",
            "[1500]\ttrain-logloss:0.204688\tvalid-logloss:0.22051\n",
            "[1800]\ttrain-logloss:0.20166\tvalid-logloss:0.21963\n",
            "[2100]\ttrain-logloss:0.199029\tvalid-logloss:0.219058\n",
            "[2400]\ttrain-logloss:0.196648\tvalid-logloss:0.218627\n",
            "[2700]\ttrain-logloss:0.194371\tvalid-logloss:0.218286\n",
            "[3000]\ttrain-logloss:0.192144\tvalid-logloss:0.21802\n",
            "[3300]\ttrain-logloss:0.190086\tvalid-logloss:0.217826\n",
            "[3600]\ttrain-logloss:0.188075\tvalid-logloss:0.217649\n",
            "[3900]\ttrain-logloss:0.18613\tvalid-logloss:0.217473\n",
            "[4200]\ttrain-logloss:0.184221\tvalid-logloss:0.217364\n",
            "[4500]\ttrain-logloss:0.18245\tvalid-logloss:0.217269\n",
            "[4800]\ttrain-logloss:0.180637\tvalid-logloss:0.217208\n",
            "[5100]\ttrain-logloss:0.178824\tvalid-logloss:0.217146\n",
            "[5400]\ttrain-logloss:0.177159\tvalid-logloss:0.217098\n",
            "[5700]\ttrain-logloss:0.175446\tvalid-logloss:0.217061\n",
            "[6000]\ttrain-logloss:0.173855\tvalid-logloss:0.217028\n",
            "Stopping. Best iteration:\n",
            "[5979]\ttrain-logloss:0.173957\tvalid-logloss:0.217022\n",
            "\n"
          ]
        },
        {
          "output_type": "stream",
          "name": "stderr",
          "text": [
            "\u001b[32m[I 2022-08-14 01:18:11,400]\u001b[0m Trial 29 finished with value: 0.7943572203673572 and parameters: {'lambda': 0.044061990351633634, 'alpha': 0.6641830864310896, 'colsample_bytree': 0.5, 'subsample': 0.9, 'learning_rate': 0.01, 'max_depth': 6, 'min_child_weight': 134}. Best is trial 25 with value: 0.7952047021094487.\u001b[0m\n"
          ]
        },
        {
          "output_type": "stream",
          "name": "stdout",
          "text": [
            "[0]\ttrain-logloss:0.677161\tvalid-logloss:0.67724\n",
            "Multiple eval metrics have been passed: 'valid-logloss' will be used for early stopping.\n",
            "\n",
            "Will train until valid-logloss hasn't improved in 100 rounds.\n",
            "[300]\ttrain-logloss:0.221043\tvalid-logloss:0.228856\n",
            "[600]\ttrain-logloss:0.210569\tvalid-logloss:0.222604\n",
            "[900]\ttrain-logloss:0.204978\tvalid-logloss:0.22048\n",
            "[1200]\ttrain-logloss:0.200851\tvalid-logloss:0.219475\n",
            "[1500]\ttrain-logloss:0.197257\tvalid-logloss:0.218845\n",
            "[1800]\ttrain-logloss:0.19386\tvalid-logloss:0.218394\n",
            "[2100]\ttrain-logloss:0.190534\tvalid-logloss:0.218173\n",
            "[2400]\ttrain-logloss:0.187558\tvalid-logloss:0.217992\n",
            "[2700]\ttrain-logloss:0.184586\tvalid-logloss:0.217863\n",
            "Stopping. Best iteration:\n",
            "[2880]\ttrain-logloss:0.182902\tvalid-logloss:0.217791\n",
            "\n"
          ]
        },
        {
          "output_type": "stream",
          "name": "stderr",
          "text": [
            "\u001b[32m[I 2022-08-14 01:23:48,579]\u001b[0m Trial 30 finished with value: 0.7934126281221563 and parameters: {'lambda': 8.347676436404068, 'alpha': 9.663916438287567, 'colsample_bytree': 0.6, 'subsample': 1.0, 'learning_rate': 0.025, 'max_depth': 5, 'min_child_weight': 101}. Best is trial 25 with value: 0.7952047021094487.\u001b[0m\n"
          ]
        },
        {
          "output_type": "stream",
          "name": "stdout",
          "text": [
            "[0]\ttrain-logloss:0.686308\tvalid-logloss:0.686408\n",
            "Multiple eval metrics have been passed: 'valid-logloss' will be used for early stopping.\n",
            "\n",
            "Will train until valid-logloss hasn't improved in 100 rounds.\n",
            "[300]\ttrain-logloss:0.219364\tvalid-logloss:0.241012\n",
            "[600]\ttrain-logloss:0.18921\tvalid-logloss:0.223263\n",
            "[900]\ttrain-logloss:0.174802\tvalid-logloss:0.220113\n",
            "[1200]\ttrain-logloss:0.164309\tvalid-logloss:0.218804\n",
            "[1500]\ttrain-logloss:0.155603\tvalid-logloss:0.218118\n",
            "[1800]\ttrain-logloss:0.147863\tvalid-logloss:0.217723\n",
            "[2100]\ttrain-logloss:0.140906\tvalid-logloss:0.217454\n",
            "[2400]\ttrain-logloss:0.13451\tvalid-logloss:0.217345\n",
            "Stopping. Best iteration:\n",
            "[2590]\ttrain-logloss:0.130551\tvalid-logloss:0.217251\n",
            "\n"
          ]
        },
        {
          "output_type": "stream",
          "name": "stderr",
          "text": [
            "\u001b[32m[I 2022-08-14 01:31:41,286]\u001b[0m Trial 31 finished with value: 0.7949156934901669 and parameters: {'lambda': 0.006125098752704222, 'alpha': 0.0056781797577853555, 'colsample_bytree': 0.7, 'subsample': 0.9, 'learning_rate': 0.01, 'max_depth': 9, 'min_child_weight': 21}. Best is trial 25 with value: 0.7952047021094487.\u001b[0m\n"
          ]
        },
        {
          "output_type": "stream",
          "name": "stdout",
          "text": [
            "[0]\ttrain-logloss:0.686405\tvalid-logloss:0.686473\n",
            "Multiple eval metrics have been passed: 'valid-logloss' will be used for early stopping.\n",
            "\n",
            "Will train until valid-logloss hasn't improved in 100 rounds.\n",
            "[300]\ttrain-logloss:0.231514\tvalid-logloss:0.243879\n",
            "[600]\ttrain-logloss:0.206137\tvalid-logloss:0.225286\n",
            "[900]\ttrain-logloss:0.196469\tvalid-logloss:0.22156\n",
            "[1200]\ttrain-logloss:0.189585\tvalid-logloss:0.220017\n",
            "[1500]\ttrain-logloss:0.184212\tvalid-logloss:0.219177\n",
            "[1800]\ttrain-logloss:0.179529\tvalid-logloss:0.218664\n",
            "[2100]\ttrain-logloss:0.175091\tvalid-logloss:0.218304\n",
            "[2400]\ttrain-logloss:0.171119\tvalid-logloss:0.21807\n",
            "[2700]\ttrain-logloss:0.167238\tvalid-logloss:0.21789\n",
            "[3000]\ttrain-logloss:0.163692\tvalid-logloss:0.217776\n",
            "[3300]\ttrain-logloss:0.160361\tvalid-logloss:0.217703\n",
            "Stopping. Best iteration:\n",
            "[3294]\ttrain-logloss:0.160424\tvalid-logloss:0.2177\n",
            "\n"
          ]
        },
        {
          "output_type": "stream",
          "name": "stderr",
          "text": [
            "\u001b[32m[I 2022-08-14 01:40:02,153]\u001b[0m Trial 32 finished with value: 0.7935373085028157 and parameters: {'lambda': 0.0023075181100443857, 'alpha': 0.006940315135732941, 'colsample_bytree': 0.8, 'subsample': 1.0, 'learning_rate': 0.01, 'max_depth': 8, 'min_child_weight': 68}. Best is trial 25 with value: 0.7952047021094487.\u001b[0m\n"
          ]
        },
        {
          "output_type": "stream",
          "name": "stdout",
          "text": [
            "[0]\ttrain-logloss:0.683037\tvalid-logloss:0.683145\n",
            "Multiple eval metrics have been passed: 'valid-logloss' will be used for early stopping.\n",
            "\n",
            "Will train until valid-logloss hasn't improved in 100 rounds.\n",
            "[300]\ttrain-logloss:0.214595\tvalid-logloss:0.229444\n",
            "[600]\ttrain-logloss:0.198835\tvalid-logloss:0.221375\n",
            "[900]\ttrain-logloss:0.189931\tvalid-logloss:0.219298\n",
            "[1200]\ttrain-logloss:0.182675\tvalid-logloss:0.218316\n",
            "[1500]\ttrain-logloss:0.176614\tvalid-logloss:0.217844\n",
            "[1800]\ttrain-logloss:0.170964\tvalid-logloss:0.217508\n",
            "[2100]\ttrain-logloss:0.165611\tvalid-logloss:0.217326\n",
            "[2400]\ttrain-logloss:0.160699\tvalid-logloss:0.217185\n",
            "Stopping. Best iteration:\n",
            "[2402]\ttrain-logloss:0.160671\tvalid-logloss:0.217184\n",
            "\n"
          ]
        },
        {
          "output_type": "stream",
          "name": "stderr",
          "text": [
            "\u001b[32m[I 2022-08-14 01:46:40,338]\u001b[0m Trial 33 finished with value: 0.7939925512927253 and parameters: {'lambda': 0.01503986892887197, 'alpha': 0.0024941186977542186, 'colsample_bytree': 0.5, 'subsample': 0.9, 'learning_rate': 0.015, 'max_depth': 9, 'min_child_weight': 118}. Best is trial 25 with value: 0.7952047021094487.\u001b[0m\n"
          ]
        },
        {
          "output_type": "stream",
          "name": "stdout",
          "text": [
            "[0]\ttrain-logloss:0.686397\tvalid-logloss:0.686462\n",
            "Multiple eval metrics have been passed: 'valid-logloss' will be used for early stopping.\n",
            "\n",
            "Will train until valid-logloss hasn't improved in 100 rounds.\n",
            "[300]\ttrain-logloss:0.231492\tvalid-logloss:0.243588\n",
            "[600]\ttrain-logloss:0.20611\tvalid-logloss:0.225017\n",
            "[900]\ttrain-logloss:0.196122\tvalid-logloss:0.221245\n",
            "[1200]\ttrain-logloss:0.188974\tvalid-logloss:0.219528\n",
            "[1500]\ttrain-logloss:0.183095\tvalid-logloss:0.218698\n",
            "[1800]\ttrain-logloss:0.177567\tvalid-logloss:0.218114\n",
            "[2100]\ttrain-logloss:0.172502\tvalid-logloss:0.217725\n",
            "[2400]\ttrain-logloss:0.167908\tvalid-logloss:0.21749\n",
            "Stopping. Best iteration:\n",
            "[2554]\ttrain-logloss:0.165705\tvalid-logloss:0.217403\n",
            "\n"
          ]
        },
        {
          "output_type": "stream",
          "name": "stderr",
          "text": [
            "\u001b[32m[I 2022-08-14 01:53:39,885]\u001b[0m Trial 34 finished with value: 0.79491837152992 and parameters: {'lambda': 0.005493055188861867, 'alpha': 0.001531471768045775, 'colsample_bytree': 0.8, 'subsample': 0.8, 'learning_rate': 0.01, 'max_depth': 8, 'min_child_weight': 52}. Best is trial 25 with value: 0.7952047021094487.\u001b[0m\n"
          ]
        },
        {
          "output_type": "stream",
          "name": "stdout",
          "text": [
            "[0]\ttrain-logloss:0.660474\tvalid-logloss:0.660701\n",
            "Multiple eval metrics have been passed: 'valid-logloss' will be used for early stopping.\n",
            "\n",
            "Will train until valid-logloss hasn't improved in 100 rounds.\n",
            "[300]\ttrain-logloss:0.196078\tvalid-logloss:0.220276\n",
            "[600]\ttrain-logloss:0.178832\tvalid-logloss:0.218737\n",
            "[900]\ttrain-logloss:0.165286\tvalid-logloss:0.21864\n",
            "Stopping. Best iteration:\n",
            "[827]\ttrain-logloss:0.168188\tvalid-logloss:0.21857\n",
            "\n"
          ]
        },
        {
          "output_type": "stream",
          "name": "stderr",
          "text": [
            "\u001b[32m[I 2022-08-14 01:56:01,776]\u001b[0m Trial 35 finished with value: 0.7925791711148822 and parameters: {'lambda': 0.00498980868301029, 'alpha': 0.0017967637160794473, 'colsample_bytree': 0.7, 'subsample': 0.8, 'learning_rate': 0.05, 'max_depth': 7, 'min_child_weight': 82}. Best is trial 25 with value: 0.7952047021094487.\u001b[0m\n"
          ]
        },
        {
          "output_type": "stream",
          "name": "stdout",
          "text": [
            "[0]\ttrain-logloss:0.686347\tvalid-logloss:0.686432\n",
            "Multiple eval metrics have been passed: 'valid-logloss' will be used for early stopping.\n",
            "\n",
            "Will train until valid-logloss hasn't improved in 100 rounds.\n",
            "[300]\ttrain-logloss:0.227142\tvalid-logloss:0.2431\n",
            "[600]\ttrain-logloss:0.198086\tvalid-logloss:0.224592\n",
            "[900]\ttrain-logloss:0.184254\tvalid-logloss:0.220995\n",
            "[1200]\ttrain-logloss:0.174122\tvalid-logloss:0.219428\n",
            "[1500]\ttrain-logloss:0.165667\tvalid-logloss:0.218574\n",
            "[1800]\ttrain-logloss:0.158236\tvalid-logloss:0.218105\n",
            "[2100]\ttrain-logloss:0.151406\tvalid-logloss:0.217781\n",
            "[2400]\ttrain-logloss:0.145183\tvalid-logloss:0.217627\n",
            "[2700]\ttrain-logloss:0.139202\tvalid-logloss:0.217452\n",
            "[3000]\ttrain-logloss:0.133508\tvalid-logloss:0.21738\n",
            "[3300]\ttrain-logloss:0.128196\tvalid-logloss:0.217355\n",
            "Stopping. Best iteration:\n",
            "[3247]\ttrain-logloss:0.129123\tvalid-logloss:0.21735\n",
            "\n"
          ]
        },
        {
          "output_type": "stream",
          "name": "stderr",
          "text": [
            "\u001b[32m[I 2022-08-14 02:04:59,160]\u001b[0m Trial 36 finished with value: 0.79361971875584 and parameters: {'lambda': 0.008561962193373454, 'alpha': 0.005521841768328037, 'colsample_bytree': 1.0, 'subsample': 0.8, 'learning_rate': 0.01, 'max_depth': 8, 'min_child_weight': 14}. Best is trial 25 with value: 0.7952047021094487.\u001b[0m\n"
          ]
        },
        {
          "output_type": "stream",
          "name": "stdout",
          "text": [
            "[0]\ttrain-logloss:0.66359\tvalid-logloss:0.663816\n",
            "Multiple eval metrics have been passed: 'valid-logloss' will be used for early stopping.\n",
            "\n",
            "Will train until valid-logloss hasn't improved in 100 rounds.\n",
            "[300]\ttrain-logloss:0.191901\tvalid-logloss:0.220177\n",
            "[600]\ttrain-logloss:0.171286\tvalid-logloss:0.218567\n",
            "[900]\ttrain-logloss:0.155379\tvalid-logloss:0.218364\n",
            "Stopping. Best iteration:\n",
            "[925]\ttrain-logloss:0.154042\tvalid-logloss:0.218318\n",
            "\n"
          ]
        },
        {
          "output_type": "stream",
          "name": "stderr",
          "text": [
            "\u001b[32m[I 2022-08-14 02:07:33,781]\u001b[0m Trial 37 finished with value: 0.7925156691595598 and parameters: {'lambda': 0.0037091943343330724, 'alpha': 0.004130525151324039, 'colsample_bytree': 0.6, 'subsample': 0.8, 'learning_rate': 0.045000000000000005, 'max_depth': 7, 'min_child_weight': 33}. Best is trial 25 with value: 0.7952047021094487.\u001b[0m\n"
          ]
        },
        {
          "output_type": "stream",
          "name": "stdout",
          "text": [
            "[0]\ttrain-logloss:0.686568\tvalid-logloss:0.686604\n",
            "Multiple eval metrics have been passed: 'valid-logloss' will be used for early stopping.\n",
            "\n",
            "Will train until valid-logloss hasn't improved in 100 rounds.\n",
            "[300]\ttrain-logloss:0.244214\tvalid-logloss:0.249516\n",
            "[600]\ttrain-logloss:0.220716\tvalid-logloss:0.228886\n",
            "[900]\ttrain-logloss:0.213313\tvalid-logloss:0.224004\n",
            "[1200]\ttrain-logloss:0.208521\tvalid-logloss:0.221621\n",
            "[1500]\ttrain-logloss:0.204797\tvalid-logloss:0.220261\n",
            "[1800]\ttrain-logloss:0.201814\tvalid-logloss:0.219456\n",
            "[2100]\ttrain-logloss:0.198999\tvalid-logloss:0.218876\n",
            "[2400]\ttrain-logloss:0.196447\tvalid-logloss:0.218474\n",
            "[2700]\ttrain-logloss:0.194022\tvalid-logloss:0.218235\n",
            "[3000]\ttrain-logloss:0.191717\tvalid-logloss:0.218017\n",
            "[3300]\ttrain-logloss:0.189536\tvalid-logloss:0.217834\n",
            "[3600]\ttrain-logloss:0.187397\tvalid-logloss:0.217711\n",
            "[3900]\ttrain-logloss:0.185327\tvalid-logloss:0.217616\n",
            "[4200]\ttrain-logloss:0.183321\tvalid-logloss:0.217536\n",
            "[4500]\ttrain-logloss:0.181385\tvalid-logloss:0.217478\n",
            "[4800]\ttrain-logloss:0.179404\tvalid-logloss:0.217414\n",
            "[5100]\ttrain-logloss:0.177561\tvalid-logloss:0.217364\n",
            "[5400]\ttrain-logloss:0.175721\tvalid-logloss:0.217284\n",
            "Stopping. Best iteration:\n",
            "[5450]\ttrain-logloss:0.175407\tvalid-logloss:0.217281\n",
            "\n"
          ]
        },
        {
          "output_type": "stream",
          "name": "stderr",
          "text": [
            "\u001b[32m[I 2022-08-14 02:18:49,081]\u001b[0m Trial 38 finished with value: 0.7939443373336903 and parameters: {'lambda': 0.001965160820947905, 'alpha': 0.0018392191542067839, 'colsample_bytree': 0.7, 'subsample': 0.5, 'learning_rate': 0.01, 'max_depth': 6, 'min_child_weight': 76}. Best is trial 25 with value: 0.7952047021094487.\u001b[0m\n"
          ]
        },
        {
          "output_type": "stream",
          "name": "stdout",
          "text": [
            "[0]\ttrain-logloss:0.686443\tvalid-logloss:0.686494\n",
            "Multiple eval metrics have been passed: 'valid-logloss' will be used for early stopping.\n",
            "\n",
            "Will train until valid-logloss hasn't improved in 100 rounds.\n",
            "[300]\ttrain-logloss:0.236349\tvalid-logloss:0.245036\n",
            "[600]\ttrain-logloss:0.213114\tvalid-logloss:0.226035\n",
            "[900]\ttrain-logloss:0.205379\tvalid-logloss:0.222015\n",
            "[1200]\ttrain-logloss:0.200061\tvalid-logloss:0.220128\n",
            "[1500]\ttrain-logloss:0.195617\tvalid-logloss:0.21909\n",
            "[1800]\ttrain-logloss:0.191853\tvalid-logloss:0.218411\n",
            "[2100]\ttrain-logloss:0.188277\tvalid-logloss:0.217964\n",
            "[2400]\ttrain-logloss:0.184965\tvalid-logloss:0.217671\n",
            "[2700]\ttrain-logloss:0.181778\tvalid-logloss:0.217419\n",
            "[3000]\ttrain-logloss:0.178671\tvalid-logloss:0.217234\n",
            "Stopping. Best iteration:\n",
            "[3185]\ttrain-logloss:0.176757\tvalid-logloss:0.217138\n",
            "\n"
          ]
        },
        {
          "output_type": "stream",
          "name": "stderr",
          "text": [
            "\u001b[32m[I 2022-08-14 02:27:03,337]\u001b[0m Trial 39 finished with value: 0.7945014353618275 and parameters: {'lambda': 0.023283606166867046, 'alpha': 0.025135845186369604, 'colsample_bytree': 0.5, 'subsample': 0.7, 'learning_rate': 0.01, 'max_depth': 8, 'min_child_weight': 116}. Best is trial 25 with value: 0.7952047021094487.\u001b[0m\n"
          ]
        },
        {
          "output_type": "stream",
          "name": "stdout",
          "text": [
            "[0]\ttrain-logloss:0.670105\tvalid-logloss:0.670288\n",
            "Multiple eval metrics have been passed: 'valid-logloss' will be used for early stopping.\n",
            "\n",
            "Will train until valid-logloss hasn't improved in 100 rounds.\n",
            "[300]\ttrain-logloss:0.199653\tvalid-logloss:0.221474\n",
            "[600]\ttrain-logloss:0.182994\tvalid-logloss:0.21856\n",
            "[900]\ttrain-logloss:0.170733\tvalid-logloss:0.21791\n",
            "[1200]\ttrain-logloss:0.16013\tvalid-logloss:0.217796\n",
            "Stopping. Best iteration:\n",
            "[1115]\ttrain-logloss:0.163154\tvalid-logloss:0.217749\n",
            "\n"
          ]
        },
        {
          "output_type": "stream",
          "name": "stderr",
          "text": [
            "\u001b[32m[I 2022-08-14 02:30:03,172]\u001b[0m Trial 40 finished with value: 0.792828048680746 and parameters: {'lambda': 0.006839420082517464, 'alpha': 0.008401125803374118, 'colsample_bytree': 0.5, 'subsample': 0.9, 'learning_rate': 0.035, 'max_depth': 7, 'min_child_weight': 52}. Best is trial 25 with value: 0.7952047021094487.\u001b[0m\n"
          ]
        },
        {
          "output_type": "stream",
          "name": "stdout",
          "text": [
            "[0]\ttrain-logloss:0.682971\tvalid-logloss:0.683084\n",
            "Multiple eval metrics have been passed: 'valid-logloss' will be used for early stopping.\n",
            "\n",
            "Will train until valid-logloss hasn't improved in 100 rounds.\n",
            "[300]\ttrain-logloss:0.207073\tvalid-logloss:0.228254\n",
            "[600]\ttrain-logloss:0.187857\tvalid-logloss:0.220674\n",
            "[900]\ttrain-logloss:0.176286\tvalid-logloss:0.218788\n",
            "[1200]\ttrain-logloss:0.166692\tvalid-logloss:0.218028\n",
            "[1500]\ttrain-logloss:0.158684\tvalid-logloss:0.217622\n",
            "[1800]\ttrain-logloss:0.151409\tvalid-logloss:0.217463\n",
            "[2100]\ttrain-logloss:0.14446\tvalid-logloss:0.217369\n",
            "Stopping. Best iteration:\n",
            "[2028]\ttrain-logloss:0.146168\tvalid-logloss:0.217367\n",
            "\n"
          ]
        },
        {
          "output_type": "stream",
          "name": "stderr",
          "text": [
            "\u001b[32m[I 2022-08-14 02:36:03,171]\u001b[0m Trial 41 finished with value: 0.7932470797284787 and parameters: {'lambda': 0.004403456016053483, 'alpha': 0.004211789133622156, 'colsample_bytree': 0.8, 'subsample': 0.9, 'learning_rate': 0.015, 'max_depth': 9, 'min_child_weight': 55}. Best is trial 25 with value: 0.7952047021094487.\u001b[0m\n"
          ]
        },
        {
          "output_type": "stream",
          "name": "stdout",
          "text": [
            "[0]\ttrain-logloss:0.686313\tvalid-logloss:0.686413\n",
            "Multiple eval metrics have been passed: 'valid-logloss' will be used for early stopping.\n",
            "\n",
            "Will train until valid-logloss hasn't improved in 100 rounds.\n",
            "[300]\ttrain-logloss:0.221014\tvalid-logloss:0.241217\n",
            "[600]\ttrain-logloss:0.191959\tvalid-logloss:0.223535\n",
            "[900]\ttrain-logloss:0.178591\tvalid-logloss:0.220289\n",
            "[1200]\ttrain-logloss:0.16855\tvalid-logloss:0.218851\n",
            "[1500]\ttrain-logloss:0.160283\tvalid-logloss:0.218139\n",
            "[1800]\ttrain-logloss:0.152951\tvalid-logloss:0.217675\n",
            "[2100]\ttrain-logloss:0.146179\tvalid-logloss:0.217457\n",
            "[2400]\ttrain-logloss:0.140063\tvalid-logloss:0.217289\n",
            "[2700]\ttrain-logloss:0.134553\tvalid-logloss:0.217175\n",
            "[3000]\ttrain-logloss:0.129005\tvalid-logloss:0.217136\n",
            "[3300]\ttrain-logloss:0.123949\tvalid-logloss:0.21709\n",
            "Stopping. Best iteration:\n",
            "[3343]\ttrain-logloss:0.123186\tvalid-logloss:0.217075\n",
            "\n"
          ]
        },
        {
          "output_type": "stream",
          "name": "stderr",
          "text": [
            "\u001b[32m[I 2022-08-14 02:45:46,058]\u001b[0m Trial 42 finished with value: 0.7943342371837658 and parameters: {'lambda': 0.015923602092827827, 'alpha': 0.0010255534658372332, 'colsample_bytree': 0.8, 'subsample': 0.9, 'learning_rate': 0.01, 'max_depth': 9, 'min_child_weight': 28}. Best is trial 25 with value: 0.7952047021094487.\u001b[0m\n"
          ]
        },
        {
          "output_type": "stream",
          "name": "stdout",
          "text": [
            "[0]\ttrain-logloss:0.682962\tvalid-logloss:0.683089\n",
            "Multiple eval metrics have been passed: 'valid-logloss' will be used for early stopping.\n",
            "\n",
            "Will train until valid-logloss hasn't improved in 100 rounds.\n",
            "[300]\ttrain-logloss:0.206526\tvalid-logloss:0.229203\n",
            "[600]\ttrain-logloss:0.182114\tvalid-logloss:0.221139\n",
            "[900]\ttrain-logloss:0.167058\tvalid-logloss:0.219103\n",
            "[1200]\ttrain-logloss:0.155242\tvalid-logloss:0.218226\n",
            "[1500]\ttrain-logloss:0.145045\tvalid-logloss:0.217869\n",
            "[1800]\ttrain-logloss:0.136035\tvalid-logloss:0.217636\n",
            "Stopping. Best iteration:\n",
            "[1830]\ttrain-logloss:0.135249\tvalid-logloss:0.217617\n",
            "\n"
          ]
        },
        {
          "output_type": "stream",
          "name": "stderr",
          "text": [
            "\u001b[32m[I 2022-08-14 02:51:11,140]\u001b[0m Trial 43 finished with value: 0.7947155435648444 and parameters: {'lambda': 0.03093253570775954, 'alpha': 0.0636815112187179, 'colsample_bytree': 0.9, 'subsample': 0.9, 'learning_rate': 0.015, 'max_depth': 8, 'min_child_weight': 12}. Best is trial 25 with value: 0.7952047021094487.\u001b[0m\n"
          ]
        },
        {
          "output_type": "stream",
          "name": "stdout",
          "text": [
            "[0]\ttrain-logloss:0.686326\tvalid-logloss:0.686419\n",
            "Multiple eval metrics have been passed: 'valid-logloss' will be used for early stopping.\n",
            "\n",
            "Will train until valid-logloss hasn't improved in 100 rounds.\n",
            "[300]\ttrain-logloss:0.222943\tvalid-logloss:0.241558\n",
            "[600]\ttrain-logloss:0.195052\tvalid-logloss:0.22379\n",
            "[900]\ttrain-logloss:0.183247\tvalid-logloss:0.220558\n",
            "[1200]\ttrain-logloss:0.174299\tvalid-logloss:0.219202\n",
            "[1500]\ttrain-logloss:0.167491\tvalid-logloss:0.218498\n",
            "[1800]\ttrain-logloss:0.16138\tvalid-logloss:0.218122\n",
            "[2100]\ttrain-logloss:0.155591\tvalid-logloss:0.217851\n",
            "[2400]\ttrain-logloss:0.150242\tvalid-logloss:0.217644\n",
            "[2700]\ttrain-logloss:0.145704\tvalid-logloss:0.217516\n",
            "[3000]\ttrain-logloss:0.141107\tvalid-logloss:0.217437\n",
            "[3300]\ttrain-logloss:0.136542\tvalid-logloss:0.217395\n",
            "Stopping. Best iteration:\n",
            "[3210]\ttrain-logloss:0.137826\tvalid-logloss:0.217386\n",
            "\n"
          ]
        },
        {
          "output_type": "stream",
          "name": "stderr",
          "text": [
            "\u001b[32m[I 2022-08-14 03:00:08,622]\u001b[0m Trial 44 finished with value: 0.7942907727523412 and parameters: {'lambda': 0.007174666253218166, 'alpha': 0.0016558050505867629, 'colsample_bytree': 0.8, 'subsample': 1.0, 'learning_rate': 0.01, 'max_depth': 9, 'min_child_weight': 42}. Best is trial 25 with value: 0.7952047021094487.\u001b[0m\n"
          ]
        },
        {
          "output_type": "stream",
          "name": "stdout",
          "text": [
            "[0]\ttrain-logloss:0.679726\tvalid-logloss:0.679861\n",
            "Multiple eval metrics have been passed: 'valid-logloss' will be used for early stopping.\n",
            "\n",
            "Will train until valid-logloss hasn't improved in 100 rounds.\n",
            "[300]\ttrain-logloss:0.207118\tvalid-logloss:0.225119\n",
            "[600]\ttrain-logloss:0.192088\tvalid-logloss:0.219802\n",
            "[900]\ttrain-logloss:0.182126\tvalid-logloss:0.218322\n",
            "[1200]\ttrain-logloss:0.173629\tvalid-logloss:0.2178\n",
            "[1500]\ttrain-logloss:0.166035\tvalid-logloss:0.217544\n",
            "[1800]\ttrain-logloss:0.158922\tvalid-logloss:0.217411\n",
            "Stopping. Best iteration:\n",
            "[1802]\ttrain-logloss:0.158884\tvalid-logloss:0.21741\n",
            "\n"
          ]
        },
        {
          "output_type": "stream",
          "name": "stderr",
          "text": [
            "\u001b[32m[I 2022-08-14 03:05:23,146]\u001b[0m Trial 45 finished with value: 0.7928076062241673 and parameters: {'lambda': 0.0016870756184625946, 'alpha': 3.307435896079085, 'colsample_bytree': 0.7, 'subsample': 0.8, 'learning_rate': 0.02, 'max_depth': 9, 'min_child_weight': 97}. Best is trial 25 with value: 0.7952047021094487.\u001b[0m\n"
          ]
        },
        {
          "output_type": "stream",
          "name": "stdout",
          "text": [
            "[0]\ttrain-logloss:0.683081\tvalid-logloss:0.683179\n",
            "Multiple eval metrics have been passed: 'valid-logloss' will be used for early stopping.\n",
            "\n",
            "Will train until valid-logloss hasn't improved in 100 rounds.\n",
            "[300]\ttrain-logloss:0.216558\tvalid-logloss:0.229964\n",
            "[600]\ttrain-logloss:0.200594\tvalid-logloss:0.221569\n",
            "[900]\ttrain-logloss:0.191778\tvalid-logloss:0.219337\n",
            "[1200]\ttrain-logloss:0.184478\tvalid-logloss:0.218348\n",
            "[1500]\ttrain-logloss:0.178008\tvalid-logloss:0.217813\n",
            "[1800]\ttrain-logloss:0.172245\tvalid-logloss:0.217588\n",
            "[2100]\ttrain-logloss:0.166844\tvalid-logloss:0.217417\n",
            "[2400]\ttrain-logloss:0.16145\tvalid-logloss:0.217283\n",
            "Stopping. Best iteration:\n",
            "[2466]\ttrain-logloss:0.160302\tvalid-logloss:0.217262\n",
            "\n"
          ]
        },
        {
          "output_type": "stream",
          "name": "stderr",
          "text": [
            "\u001b[32m[I 2022-08-14 03:11:51,716]\u001b[0m Trial 46 finished with value: 0.7939909899478264 and parameters: {'lambda': 0.0037714876861874, 'alpha': 0.0153655202620513, 'colsample_bytree': 0.8, 'subsample': 0.7, 'learning_rate': 0.015, 'max_depth': 8, 'min_child_weight': 72}. Best is trial 25 with value: 0.7952047021094487.\u001b[0m\n"
          ]
        },
        {
          "output_type": "stream",
          "name": "stdout",
          "text": [
            "[0]\ttrain-logloss:0.686746\tvalid-logloss:0.68678\n",
            "Multiple eval metrics have been passed: 'valid-logloss' will be used for early stopping.\n",
            "\n",
            "Will train until valid-logloss hasn't improved in 100 rounds.\n",
            "[300]\ttrain-logloss:0.256464\tvalid-logloss:0.259674\n",
            "[600]\ttrain-logloss:0.230397\tvalid-logloss:0.23545\n",
            "[900]\ttrain-logloss:0.222684\tvalid-logloss:0.229194\n",
            "[1200]\ttrain-logloss:0.218096\tvalid-logloss:0.225953\n",
            "[1500]\ttrain-logloss:0.214798\tvalid-logloss:0.223896\n",
            "[1800]\ttrain-logloss:0.212231\tvalid-logloss:0.222566\n",
            "[2100]\ttrain-logloss:0.21009\tvalid-logloss:0.221599\n",
            "[2400]\ttrain-logloss:0.208249\tvalid-logloss:0.220909\n",
            "[2700]\ttrain-logloss:0.206574\tvalid-logloss:0.220359\n",
            "[3000]\ttrain-logloss:0.204994\tvalid-logloss:0.219918\n",
            "[3300]\ttrain-logloss:0.203539\tvalid-logloss:0.219546\n",
            "[3600]\ttrain-logloss:0.202105\tvalid-logloss:0.219243\n",
            "[3900]\ttrain-logloss:0.200752\tvalid-logloss:0.218978\n",
            "[4200]\ttrain-logloss:0.19948\tvalid-logloss:0.218755\n",
            "[4500]\ttrain-logloss:0.198225\tvalid-logloss:0.218553\n",
            "[4800]\ttrain-logloss:0.196982\tvalid-logloss:0.218397\n",
            "[5100]\ttrain-logloss:0.195812\tvalid-logloss:0.218241\n",
            "[5400]\ttrain-logloss:0.194676\tvalid-logloss:0.218112\n",
            "[5700]\ttrain-logloss:0.193576\tvalid-logloss:0.218034\n",
            "[6000]\ttrain-logloss:0.192492\tvalid-logloss:0.217953\n",
            "[6300]\ttrain-logloss:0.191406\tvalid-logloss:0.217887\n",
            "[6600]\ttrain-logloss:0.190335\tvalid-logloss:0.217823\n",
            "[6900]\ttrain-logloss:0.189302\tvalid-logloss:0.217767\n",
            "[7200]\ttrain-logloss:0.188306\tvalid-logloss:0.217717\n",
            "[7500]\ttrain-logloss:0.18731\tvalid-logloss:0.217687\n",
            "[7800]\ttrain-logloss:0.186322\tvalid-logloss:0.217655\n",
            "[8100]\ttrain-logloss:0.185379\tvalid-logloss:0.217618\n",
            "[8400]\ttrain-logloss:0.184419\tvalid-logloss:0.217569\n",
            "Stopping. Best iteration:\n",
            "[8512]\ttrain-logloss:0.184062\tvalid-logloss:0.217555\n",
            "\n"
          ]
        },
        {
          "output_type": "stream",
          "name": "stderr",
          "text": [
            "\u001b[32m[I 2022-08-14 03:26:08,329]\u001b[0m Trial 47 finished with value: 0.7933636085094419 and parameters: {'lambda': 0.10001453419530959, 'alpha': 0.003185073196528368, 'colsample_bytree': 0.9, 'subsample': 0.9, 'learning_rate': 0.01, 'max_depth': 4, 'min_child_weight': 60}. Best is trial 25 with value: 0.7952047021094487.\u001b[0m\n"
          ]
        },
        {
          "output_type": "stream",
          "name": "stdout",
          "text": [
            "[0]\ttrain-logloss:0.679541\tvalid-logloss:0.67974\n",
            "Multiple eval metrics have been passed: 'valid-logloss' will be used for early stopping.\n",
            "\n",
            "Will train until valid-logloss hasn't improved in 100 rounds.\n",
            "[300]\ttrain-logloss:0.189362\tvalid-logloss:0.22361\n",
            "[600]\ttrain-logloss:0.164661\tvalid-logloss:0.219253\n",
            "[900]\ttrain-logloss:0.147979\tvalid-logloss:0.218236\n",
            "[1200]\ttrain-logloss:0.133894\tvalid-logloss:0.217842\n",
            "Stopping. Best iteration:\n",
            "[1263]\ttrain-logloss:0.131434\tvalid-logloss:0.217801\n",
            "\n"
          ]
        },
        {
          "output_type": "stream",
          "name": "stderr",
          "text": [
            "\u001b[32m[I 2022-08-14 03:30:19,204]\u001b[0m Trial 48 finished with value: 0.7934898419622076 and parameters: {'lambda': 0.06778137275935829, 'alpha': 0.008668106134384354, 'colsample_bytree': 0.7, 'subsample': 0.9, 'learning_rate': 0.02, 'max_depth': 9, 'min_child_weight': 21}. Best is trial 25 with value: 0.7952047021094487.\u001b[0m\n"
          ]
        },
        {
          "output_type": "stream",
          "name": "stdout",
          "text": [
            "[0]\ttrain-logloss:0.669853\tvalid-logloss:0.670064\n",
            "Multiple eval metrics have been passed: 'valid-logloss' will be used for early stopping.\n",
            "\n",
            "Will train until valid-logloss hasn't improved in 100 rounds.\n",
            "[300]\ttrain-logloss:0.193846\tvalid-logloss:0.220834\n",
            "[600]\ttrain-logloss:0.174682\tvalid-logloss:0.218801\n",
            "[900]\ttrain-logloss:0.159521\tvalid-logloss:0.218346\n",
            "Stopping. Best iteration:\n",
            "[926]\ttrain-logloss:0.158293\tvalid-logloss:0.218324\n",
            "\n"
          ]
        },
        {
          "output_type": "stream",
          "name": "stderr",
          "text": [
            "\u001b[32m[I 2022-08-14 03:33:06,957]\u001b[0m Trial 49 finished with value: 0.7918422712777168 and parameters: {'lambda': 0.005321329330072857, 'alpha': 0.025262008217038806, 'colsample_bytree': 0.5, 'subsample': 0.6, 'learning_rate': 0.035, 'max_depth': 8, 'min_child_weight': 37}. Best is trial 25 with value: 0.7952047021094487.\u001b[0m\n"
          ]
        },
        {
          "output_type": "stream",
          "name": "stdout",
          "text": [
            "[0]\ttrain-logloss:0.682995\tvalid-logloss:0.683108\n",
            "Multiple eval metrics have been passed: 'valid-logloss' will be used for early stopping.\n",
            "\n",
            "Will train until valid-logloss hasn't improved in 100 rounds.\n",
            "[300]\ttrain-logloss:0.210405\tvalid-logloss:0.228574\n",
            "[600]\ttrain-logloss:0.193107\tvalid-logloss:0.220815\n",
            "[900]\ttrain-logloss:0.182619\tvalid-logloss:0.218828\n",
            "[1200]\ttrain-logloss:0.17392\tvalid-logloss:0.218005\n",
            "[1500]\ttrain-logloss:0.16628\tvalid-logloss:0.217584\n",
            "[1800]\ttrain-logloss:0.159362\tvalid-logloss:0.217329\n",
            "[2100]\ttrain-logloss:0.152745\tvalid-logloss:0.217191\n",
            "Stopping. Best iteration:\n",
            "[2181]\ttrain-logloss:0.151112\tvalid-logloss:0.217151\n",
            "\n"
          ]
        },
        {
          "output_type": "stream",
          "name": "stderr",
          "text": [
            "\u001b[32m[I 2022-08-14 03:39:26,185]\u001b[0m Trial 50 finished with value: 0.7944570772407835 and parameters: {'lambda': 0.8336236718444097, 'alpha': 0.004179400355449905, 'colsample_bytree': 0.8, 'subsample': 0.8, 'learning_rate': 0.015, 'max_depth': 9, 'min_child_weight': 68}. Best is trial 25 with value: 0.7952047021094487.\u001b[0m\n"
          ]
        },
        {
          "output_type": "stream",
          "name": "stdout",
          "text": [
            "[0]\ttrain-logloss:0.686291\tvalid-logloss:0.686402\n",
            "Multiple eval metrics have been passed: 'valid-logloss' will be used for early stopping.\n",
            "\n",
            "Will train until valid-logloss hasn't improved in 100 rounds.\n",
            "[300]\ttrain-logloss:0.214992\tvalid-logloss:0.240797\n",
            "[600]\ttrain-logloss:0.181842\tvalid-logloss:0.223182\n",
            "[900]\ttrain-logloss:0.164762\tvalid-logloss:0.220164\n",
            "[1200]\ttrain-logloss:0.152103\tvalid-logloss:0.21887\n",
            "[1500]\ttrain-logloss:0.141748\tvalid-logloss:0.218268\n",
            "[1800]\ttrain-logloss:0.132479\tvalid-logloss:0.217921\n",
            "[2100]\ttrain-logloss:0.124274\tvalid-logloss:0.217749\n",
            "Stopping. Best iteration:\n",
            "[2030]\ttrain-logloss:0.126134\tvalid-logloss:0.217728\n",
            "\n"
          ]
        },
        {
          "output_type": "stream",
          "name": "stderr",
          "text": [
            "\u001b[32m[I 2022-08-14 03:46:15,027]\u001b[0m Trial 51 finished with value: 0.7939064916441932 and parameters: {'lambda': 0.01071953004708743, 'alpha': 0.005275702673549596, 'colsample_bytree': 0.7, 'subsample': 0.9, 'learning_rate': 0.01, 'max_depth': 9, 'min_child_weight': 9}. Best is trial 25 with value: 0.7952047021094487.\u001b[0m\n"
          ]
        },
        {
          "output_type": "stream",
          "name": "stdout",
          "text": [
            "[0]\ttrain-logloss:0.686331\tvalid-logloss:0.686417\n",
            "Multiple eval metrics have been passed: 'valid-logloss' will be used for early stopping.\n",
            "\n",
            "Will train until valid-logloss hasn't improved in 100 rounds.\n",
            "[300]\ttrain-logloss:0.223663\tvalid-logloss:0.241599\n",
            "[600]\ttrain-logloss:0.196157\tvalid-logloss:0.223717\n",
            "[900]\ttrain-logloss:0.184726\tvalid-logloss:0.220478\n",
            "[1200]\ttrain-logloss:0.176425\tvalid-logloss:0.219124\n",
            "[1500]\ttrain-logloss:0.169685\tvalid-logloss:0.218435\n",
            "[1800]\ttrain-logloss:0.163669\tvalid-logloss:0.218054\n",
            "[2100]\ttrain-logloss:0.158238\tvalid-logloss:0.217785\n",
            "[2400]\ttrain-logloss:0.153135\tvalid-logloss:0.217559\n",
            "[2700]\ttrain-logloss:0.148482\tvalid-logloss:0.21744\n",
            "[3000]\ttrain-logloss:0.144073\tvalid-logloss:0.217396\n",
            "[3300]\ttrain-logloss:0.139989\tvalid-logloss:0.217329\n",
            "Stopping. Best iteration:\n",
            "[3434]\ttrain-logloss:0.138163\tvalid-logloss:0.217309\n",
            "\n"
          ]
        },
        {
          "output_type": "stream",
          "name": "stderr",
          "text": [
            "\u001b[32m[I 2022-08-14 03:55:34,602]\u001b[0m Trial 52 finished with value: 0.7943741098942739 and parameters: {'lambda': 0.002939505415287224, 'alpha': 0.001486937378035342, 'colsample_bytree': 0.7, 'subsample': 1.0, 'learning_rate': 0.01, 'max_depth': 9, 'min_child_weight': 47}. Best is trial 25 with value: 0.7952047021094487.\u001b[0m\n"
          ]
        },
        {
          "output_type": "stream",
          "name": "stdout",
          "text": [
            "[0]\ttrain-logloss:0.683028\tvalid-logloss:0.683137\n",
            "Multiple eval metrics have been passed: 'valid-logloss' will be used for early stopping.\n",
            "\n",
            "Will train until valid-logloss hasn't improved in 100 rounds.\n",
            "[300]\ttrain-logloss:0.208352\tvalid-logloss:0.22915\n",
            "[600]\ttrain-logloss:0.186032\tvalid-logloss:0.22113\n",
            "[900]\ttrain-logloss:0.172547\tvalid-logloss:0.219172\n",
            "[1200]\ttrain-logloss:0.16188\tvalid-logloss:0.218302\n",
            "[1500]\ttrain-logloss:0.152911\tvalid-logloss:0.217844\n",
            "[1800]\ttrain-logloss:0.144668\tvalid-logloss:0.21769\n",
            "[2100]\ttrain-logloss:0.137113\tvalid-logloss:0.217628\n",
            "Stopping. Best iteration:\n",
            "[2184]\ttrain-logloss:0.135068\tvalid-logloss:0.217611\n",
            "\n"
          ]
        },
        {
          "output_type": "stream",
          "name": "stderr",
          "text": [
            "\u001b[32m[I 2022-08-14 04:01:41,034]\u001b[0m Trial 53 finished with value: 0.7923431997381074 and parameters: {'lambda': 0.006077189671336317, 'alpha': 0.20007244714445716, 'colsample_bytree': 0.8, 'subsample': 0.9, 'learning_rate': 0.015, 'max_depth': 8, 'min_child_weight': 19}. Best is trial 25 with value: 0.7952047021094487.\u001b[0m\n"
          ]
        },
        {
          "output_type": "stream",
          "name": "stdout",
          "text": [
            "[0]\ttrain-logloss:0.672818\tvalid-logloss:0.673096\n",
            "Multiple eval metrics have been passed: 'valid-logloss' will be used for early stopping.\n",
            "\n",
            "Will train until valid-logloss hasn't improved in 100 rounds.\n",
            "[300]\ttrain-logloss:0.183475\tvalid-logloss:0.22083\n",
            "[600]\ttrain-logloss:0.160284\tvalid-logloss:0.218478\n",
            "[900]\ttrain-logloss:0.143546\tvalid-logloss:0.218035\n",
            "Stopping. Best iteration:\n",
            "[1084]\ttrain-logloss:0.134734\tvalid-logloss:0.217937\n",
            "\n"
          ]
        },
        {
          "output_type": "stream",
          "name": "stderr",
          "text": [
            "\u001b[32m[I 2022-08-14 04:05:16,236]\u001b[0m Trial 54 finished with value: 0.7935904577775974 and parameters: {'lambda': 0.01254507329337438, 'alpha': 1.3841033657728996, 'colsample_bytree': 0.9, 'subsample': 0.9, 'learning_rate': 0.03, 'max_depth': 9, 'min_child_weight': 38}. Best is trial 25 with value: 0.7952047021094487.\u001b[0m\n"
          ]
        },
        {
          "output_type": "stream",
          "name": "stdout",
          "text": [
            "[0]\ttrain-logloss:0.683241\tvalid-logloss:0.683299\n",
            "Multiple eval metrics have been passed: 'valid-logloss' will be used for early stopping.\n",
            "\n",
            "Will train until valid-logloss hasn't improved in 100 rounds.\n",
            "[300]\ttrain-logloss:0.226296\tvalid-logloss:0.233852\n",
            "[600]\ttrain-logloss:0.212769\tvalid-logloss:0.223992\n",
            "[900]\ttrain-logloss:0.206565\tvalid-logloss:0.221049\n",
            "[1200]\ttrain-logloss:0.202142\tvalid-logloss:0.219707\n",
            "[1500]\ttrain-logloss:0.198433\tvalid-logloss:0.21895\n",
            "[1800]\ttrain-logloss:0.194998\tvalid-logloss:0.21842\n",
            "[2100]\ttrain-logloss:0.191841\tvalid-logloss:0.218113\n",
            "[2400]\ttrain-logloss:0.18882\tvalid-logloss:0.217854\n",
            "[2700]\ttrain-logloss:0.186012\tvalid-logloss:0.217707\n",
            "[3000]\ttrain-logloss:0.183229\tvalid-logloss:0.217574\n",
            "[3300]\ttrain-logloss:0.180582\tvalid-logloss:0.217528\n",
            "[3600]\ttrain-logloss:0.177926\tvalid-logloss:0.217463\n",
            "Stopping. Best iteration:\n",
            "[3694]\ttrain-logloss:0.177115\tvalid-logloss:0.217442\n",
            "\n"
          ]
        },
        {
          "output_type": "stream",
          "name": "stderr",
          "text": [
            "\u001b[32m[I 2022-08-14 04:13:53,893]\u001b[0m Trial 55 finished with value: 0.7942243961067532 and parameters: {'lambda': 0.008610976517092276, 'alpha': 0.009239285850802997, 'colsample_bytree': 0.7, 'subsample': 0.8, 'learning_rate': 0.015, 'max_depth': 7, 'min_child_weight': 252}. Best is trial 25 with value: 0.7952047021094487.\u001b[0m\n"
          ]
        },
        {
          "output_type": "stream",
          "name": "stdout",
          "text": [
            "[0]\ttrain-logloss:0.679827\tvalid-logloss:0.679935\n",
            "Multiple eval metrics have been passed: 'valid-logloss' will be used for early stopping.\n",
            "\n",
            "Will train until valid-logloss hasn't improved in 100 rounds.\n",
            "[300]\ttrain-logloss:0.212683\tvalid-logloss:0.226225\n",
            "[600]\ttrain-logloss:0.199583\tvalid-logloss:0.220454\n",
            "[900]\ttrain-logloss:0.191373\tvalid-logloss:0.218816\n",
            "[1200]\ttrain-logloss:0.184517\tvalid-logloss:0.217945\n",
            "[1500]\ttrain-logloss:0.178645\tvalid-logloss:0.217609\n",
            "[1800]\ttrain-logloss:0.17315\tvalid-logloss:0.217408\n",
            "[2100]\ttrain-logloss:0.167829\tvalid-logloss:0.21732\n",
            "[2400]\ttrain-logloss:0.162842\tvalid-logloss:0.217264\n",
            "Stopping. Best iteration:\n",
            "[2532]\ttrain-logloss:0.160729\tvalid-logloss:0.217241\n",
            "\n"
          ]
        },
        {
          "output_type": "stream",
          "name": "stderr",
          "text": [
            "\u001b[32m[I 2022-08-14 04:20:19,366]\u001b[0m Trial 56 finished with value: 0.793201932575051 and parameters: {'lambda': 0.019090364905408372, 'alpha': 0.018992250123271024, 'colsample_bytree': 0.6, 'subsample': 0.9, 'learning_rate': 0.02, 'max_depth': 8, 'min_child_weight': 151}. Best is trial 25 with value: 0.7952047021094487.\u001b[0m\n"
          ]
        },
        {
          "output_type": "stream",
          "name": "stdout",
          "text": [
            "[0]\ttrain-logloss:0.686308\tvalid-logloss:0.686415\n",
            "Multiple eval metrics have been passed: 'valid-logloss' will be used for early stopping.\n",
            "\n",
            "Will train until valid-logloss hasn't improved in 100 rounds.\n",
            "[300]\ttrain-logloss:0.219733\tvalid-logloss:0.241203\n",
            "[600]\ttrain-logloss:0.189848\tvalid-logloss:0.223593\n",
            "[900]\ttrain-logloss:0.176091\tvalid-logloss:0.220455\n",
            "[1200]\ttrain-logloss:0.165942\tvalid-logloss:0.219214\n",
            "[1500]\ttrain-logloss:0.157973\tvalid-logloss:0.218621\n",
            "[1800]\ttrain-logloss:0.151015\tvalid-logloss:0.218242\n",
            "[2100]\ttrain-logloss:0.144798\tvalid-logloss:0.218015\n",
            "[2400]\ttrain-logloss:0.138806\tvalid-logloss:0.217847\n",
            "[2700]\ttrain-logloss:0.133331\tvalid-logloss:0.217699\n",
            "Stopping. Best iteration:\n",
            "[2847]\ttrain-logloss:0.130748\tvalid-logloss:0.217662\n",
            "\n"
          ]
        },
        {
          "output_type": "stream",
          "name": "stderr",
          "text": [
            "\u001b[32m[I 2022-08-14 04:28:38,406]\u001b[0m Trial 57 finished with value: 0.7937364692556874 and parameters: {'lambda': 0.0014953467813620695, 'alpha': 0.04082626040300072, 'colsample_bytree': 0.8, 'subsample': 1.0, 'learning_rate': 0.01, 'max_depth': 9, 'min_child_weight': 25}. Best is trial 25 with value: 0.7952047021094487.\u001b[0m\n"
          ]
        },
        {
          "output_type": "stream",
          "name": "stdout",
          "text": [
            "[0]\ttrain-logloss:0.683315\tvalid-logloss:0.68337\n",
            "Multiple eval metrics have been passed: 'valid-logloss' will be used for early stopping.\n",
            "\n",
            "Will train until valid-logloss hasn't improved in 100 rounds.\n",
            "[300]\ttrain-logloss:0.226062\tvalid-logloss:0.234269\n",
            "[600]\ttrain-logloss:0.210035\tvalid-logloss:0.223913\n",
            "[900]\ttrain-logloss:0.202244\tvalid-logloss:0.220876\n",
            "[1200]\ttrain-logloss:0.196389\tvalid-logloss:0.219432\n",
            "[1500]\ttrain-logloss:0.191578\tvalid-logloss:0.218609\n",
            "[1800]\ttrain-logloss:0.187147\tvalid-logloss:0.218114\n",
            "[2100]\ttrain-logloss:0.183025\tvalid-logloss:0.217794\n",
            "[2400]\ttrain-logloss:0.179162\tvalid-logloss:0.217577\n",
            "[2700]\ttrain-logloss:0.175553\tvalid-logloss:0.217393\n",
            "[3000]\ttrain-logloss:0.171917\tvalid-logloss:0.217244\n",
            "[3300]\ttrain-logloss:0.168613\tvalid-logloss:0.217133\n",
            "[3600]\ttrain-logloss:0.165308\tvalid-logloss:0.217057\n",
            "Stopping. Best iteration:\n",
            "[3678]\ttrain-logloss:0.164497\tvalid-logloss:0.217043\n",
            "\n"
          ]
        },
        {
          "output_type": "stream",
          "name": "stderr",
          "text": [
            "\u001b[32m[I 2022-08-14 04:36:25,495]\u001b[0m Trial 58 finished with value: 0.7953711156103191 and parameters: {'lambda': 1.7335068331242283, 'alpha': 0.0023311752661119888, 'colsample_bytree': 0.5, 'subsample': 0.9, 'learning_rate': 0.015, 'max_depth': 6, 'min_child_weight': 50}. Best is trial 58 with value: 0.7953711156103191.\u001b[0m\n"
          ]
        },
        {
          "output_type": "stream",
          "name": "stdout",
          "text": [
            "[0]\ttrain-logloss:0.683323\tvalid-logloss:0.683377\n",
            "Multiple eval metrics have been passed: 'valid-logloss' will be used for early stopping.\n",
            "\n",
            "Will train until valid-logloss hasn't improved in 100 rounds.\n",
            "[300]\ttrain-logloss:0.227199\tvalid-logloss:0.234592\n",
            "[600]\ttrain-logloss:0.212153\tvalid-logloss:0.22415\n",
            "[900]\ttrain-logloss:0.20524\tvalid-logloss:0.221004\n",
            "[1200]\ttrain-logloss:0.200091\tvalid-logloss:0.219517\n",
            "[1500]\ttrain-logloss:0.1958\tvalid-logloss:0.218659\n",
            "[1800]\ttrain-logloss:0.191848\tvalid-logloss:0.218136\n",
            "[2100]\ttrain-logloss:0.188305\tvalid-logloss:0.217815\n",
            "[2400]\ttrain-logloss:0.184846\tvalid-logloss:0.217543\n",
            "[2700]\ttrain-logloss:0.181724\tvalid-logloss:0.21736\n",
            "[3000]\ttrain-logloss:0.178697\tvalid-logloss:0.217189\n",
            "[3300]\ttrain-logloss:0.175711\tvalid-logloss:0.217087\n",
            "[3600]\ttrain-logloss:0.172903\tvalid-logloss:0.217021\n",
            "[3900]\ttrain-logloss:0.170231\tvalid-logloss:0.216966\n",
            "Stopping. Best iteration:\n",
            "[4097]\ttrain-logloss:0.16846\tvalid-logloss:0.216946\n",
            "\n"
          ]
        },
        {
          "output_type": "stream",
          "name": "stderr",
          "text": [
            "\u001b[32m[I 2022-08-14 04:45:04,784]\u001b[0m Trial 59 finished with value: 0.7938181942090912 and parameters: {'lambda': 0.36187474308585604, 'alpha': 0.002453074247430698, 'colsample_bytree': 0.5, 'subsample': 0.8, 'learning_rate': 0.015, 'max_depth': 6, 'min_child_weight': 88}. Best is trial 58 with value: 0.7953711156103191.\u001b[0m\n"
          ]
        },
        {
          "output_type": "stream",
          "name": "stdout",
          "text": [
            "[0]\ttrain-logloss:0.67686\tvalid-logloss:0.676959\n",
            "Multiple eval metrics have been passed: 'valid-logloss' will be used for early stopping.\n",
            "\n",
            "Will train until valid-logloss hasn't improved in 100 rounds.\n",
            "[300]\ttrain-logloss:0.214192\tvalid-logloss:0.225671\n",
            "[600]\ttrain-logloss:0.201103\tvalid-logloss:0.220206\n",
            "[900]\ttrain-logloss:0.193025\tvalid-logloss:0.218597\n",
            "[1200]\ttrain-logloss:0.186125\tvalid-logloss:0.217845\n",
            "[1500]\ttrain-logloss:0.180221\tvalid-logloss:0.217527\n",
            "[1800]\ttrain-logloss:0.174374\tvalid-logloss:0.217315\n",
            "[2100]\ttrain-logloss:0.169116\tvalid-logloss:0.217185\n",
            "Stopping. Best iteration:\n",
            "[2177]\ttrain-logloss:0.16778\tvalid-logloss:0.217146\n",
            "\n"
          ]
        },
        {
          "output_type": "stream",
          "name": "stderr",
          "text": [
            "\u001b[32m[I 2022-08-14 04:49:57,697]\u001b[0m Trial 60 finished with value: 0.7939885643120845 and parameters: {'lambda': 2.165321491799503, 'alpha': 0.001003890170723492, 'colsample_bytree': 0.5, 'subsample': 0.9, 'learning_rate': 0.025, 'max_depth': 6, 'min_child_weight': 64}. Best is trial 58 with value: 0.7953711156103191.\u001b[0m\n"
          ]
        },
        {
          "output_type": "stream",
          "name": "stdout",
          "text": [
            "[0]\ttrain-logloss:0.686659\tvalid-logloss:0.686689\n",
            "Multiple eval metrics have been passed: 'valid-logloss' will be used for early stopping.\n",
            "\n",
            "Will train until valid-logloss hasn't improved in 100 rounds.\n",
            "[300]\ttrain-logloss:0.249151\tvalid-logloss:0.253721\n",
            "[600]\ttrain-logloss:0.224304\tvalid-logloss:0.231515\n",
            "[900]\ttrain-logloss:0.216377\tvalid-logloss:0.22602\n",
            "[1200]\ttrain-logloss:0.211452\tvalid-logloss:0.223288\n",
            "[1500]\ttrain-logloss:0.207709\tvalid-logloss:0.221647\n",
            "[1800]\ttrain-logloss:0.204621\tvalid-logloss:0.220579\n",
            "[2100]\ttrain-logloss:0.202007\tvalid-logloss:0.21987\n",
            "[2400]\ttrain-logloss:0.19958\tvalid-logloss:0.219314\n",
            "[2700]\ttrain-logloss:0.197387\tvalid-logloss:0.218918\n",
            "[3000]\ttrain-logloss:0.19523\tvalid-logloss:0.218562\n",
            "[3300]\ttrain-logloss:0.193225\tvalid-logloss:0.218283\n",
            "[3600]\ttrain-logloss:0.191286\tvalid-logloss:0.21804\n",
            "[3900]\ttrain-logloss:0.189405\tvalid-logloss:0.217843\n",
            "[4200]\ttrain-logloss:0.187596\tvalid-logloss:0.217696\n",
            "[4500]\ttrain-logloss:0.185897\tvalid-logloss:0.217572\n",
            "[4800]\ttrain-logloss:0.184167\tvalid-logloss:0.217463\n",
            "[5100]\ttrain-logloss:0.182475\tvalid-logloss:0.217356\n",
            "[5400]\ttrain-logloss:0.180846\tvalid-logloss:0.217288\n",
            "[5700]\ttrain-logloss:0.179248\tvalid-logloss:0.217231\n",
            "[6000]\ttrain-logloss:0.177692\tvalid-logloss:0.217178\n",
            "[6300]\ttrain-logloss:0.176165\tvalid-logloss:0.217131\n",
            "Stopping. Best iteration:\n",
            "[6341]\ttrain-logloss:0.175953\tvalid-logloss:0.217119\n",
            "\n"
          ]
        },
        {
          "output_type": "stream",
          "name": "stderr",
          "text": [
            "\u001b[32m[I 2022-08-14 05:01:54,189]\u001b[0m Trial 61 finished with value: 0.7939816158499271 and parameters: {'lambda': 2.700905249448494, 'alpha': 0.0030915817364431442, 'colsample_bytree': 0.6, 'subsample': 0.9, 'learning_rate': 0.01, 'max_depth': 5, 'min_child_weight': 50}. Best is trial 58 with value: 0.7953711156103191.\u001b[0m\n"
          ]
        },
        {
          "output_type": "stream",
          "name": "stdout",
          "text": [
            "[0]\ttrain-logloss:0.686581\tvalid-logloss:0.686621\n",
            "Multiple eval metrics have been passed: 'valid-logloss' will be used for early stopping.\n",
            "\n",
            "Will train until valid-logloss hasn't improved in 100 rounds.\n",
            "[300]\ttrain-logloss:0.241609\tvalid-logloss:0.248929\n",
            "[600]\ttrain-logloss:0.215794\tvalid-logloss:0.228353\n",
            "[900]\ttrain-logloss:0.205931\tvalid-logloss:0.223695\n",
            "[1200]\ttrain-logloss:0.199096\tvalid-logloss:0.221486\n",
            "[1500]\ttrain-logloss:0.193443\tvalid-logloss:0.220189\n",
            "[1800]\ttrain-logloss:0.188715\tvalid-logloss:0.219409\n",
            "[2100]\ttrain-logloss:0.18454\tvalid-logloss:0.21888\n",
            "[2400]\ttrain-logloss:0.180862\tvalid-logloss:0.218546\n",
            "[2700]\ttrain-logloss:0.177335\tvalid-logloss:0.21826\n",
            "[3000]\ttrain-logloss:0.173992\tvalid-logloss:0.218035\n",
            "[3300]\ttrain-logloss:0.17063\tvalid-logloss:0.217855\n",
            "[3600]\ttrain-logloss:0.167473\tvalid-logloss:0.217719\n",
            "[3900]\ttrain-logloss:0.164299\tvalid-logloss:0.217623\n",
            "[4200]\ttrain-logloss:0.161242\tvalid-logloss:0.217547\n",
            "[4500]\ttrain-logloss:0.158261\tvalid-logloss:0.217476\n",
            "[4800]\ttrain-logloss:0.15528\tvalid-logloss:0.217432\n",
            "[5100]\ttrain-logloss:0.152538\tvalid-logloss:0.217419\n",
            "Stopping. Best iteration:\n",
            "[5012]\ttrain-logloss:0.153341\tvalid-logloss:0.217407\n",
            "\n"
          ]
        },
        {
          "output_type": "stream",
          "name": "stderr",
          "text": [
            "\u001b[32m[I 2022-08-14 05:12:08,381]\u001b[0m Trial 62 finished with value: 0.7944258597088416 and parameters: {'lambda': 0.1745501505358942, 'alpha': 0.006415671288396934, 'colsample_bytree': 0.5, 'subsample': 1.0, 'learning_rate': 0.01, 'max_depth': 6, 'min_child_weight': 7}. Best is trial 58 with value: 0.7953711156103191.\u001b[0m\n"
          ]
        },
        {
          "output_type": "stream",
          "name": "stdout",
          "text": [
            "[0]\ttrain-logloss:0.68316\tvalid-logloss:0.683242\n",
            "Multiple eval metrics have been passed: 'valid-logloss' will be used for early stopping.\n",
            "\n",
            "Will train until valid-logloss hasn't improved in 100 rounds.\n",
            "[300]\ttrain-logloss:0.218311\tvalid-logloss:0.231344\n",
            "[600]\ttrain-logloss:0.199843\tvalid-logloss:0.22218\n",
            "[900]\ttrain-logloss:0.189468\tvalid-logloss:0.219762\n",
            "[1200]\ttrain-logloss:0.181416\tvalid-logloss:0.21863\n",
            "[1500]\ttrain-logloss:0.174604\tvalid-logloss:0.218058\n",
            "[1800]\ttrain-logloss:0.168341\tvalid-logloss:0.217773\n",
            "[2100]\ttrain-logloss:0.162457\tvalid-logloss:0.217551\n",
            "[2400]\ttrain-logloss:0.156811\tvalid-logloss:0.217435\n",
            "[2700]\ttrain-logloss:0.151773\tvalid-logloss:0.217359\n",
            "Stopping. Best iteration:\n",
            "[2682]\ttrain-logloss:0.152091\tvalid-logloss:0.217353\n",
            "\n"
          ]
        },
        {
          "output_type": "stream",
          "name": "stderr",
          "text": [
            "\u001b[32m[I 2022-08-14 05:18:40,015]\u001b[0m Trial 63 finished with value: 0.7935887388784172 and parameters: {'lambda': 0.001013830652755663, 'alpha': 0.00210788081142341, 'colsample_bytree': 0.6, 'subsample': 0.9, 'learning_rate': 0.015, 'max_depth': 7, 'min_child_weight': 29}. Best is trial 58 with value: 0.7953711156103191.\u001b[0m\n"
          ]
        },
        {
          "output_type": "stream",
          "name": "stdout",
          "text": [
            "[0]\ttrain-logloss:0.686358\tvalid-logloss:0.68644\n",
            "Multiple eval metrics have been passed: 'valid-logloss' will be used for early stopping.\n",
            "\n",
            "Will train until valid-logloss hasn't improved in 100 rounds.\n",
            "[300]\ttrain-logloss:0.226333\tvalid-logloss:0.242007\n",
            "[600]\ttrain-logloss:0.199777\tvalid-logloss:0.22382\n",
            "[900]\ttrain-logloss:0.18924\tvalid-logloss:0.220473\n",
            "[1200]\ttrain-logloss:0.181339\tvalid-logloss:0.218983\n",
            "[1500]\ttrain-logloss:0.174782\tvalid-logloss:0.218165\n",
            "[1800]\ttrain-logloss:0.168849\tvalid-logloss:0.217655\n",
            "[2100]\ttrain-logloss:0.163466\tvalid-logloss:0.217362\n",
            "[2400]\ttrain-logloss:0.158398\tvalid-logloss:0.217155\n",
            "[2700]\ttrain-logloss:0.15376\tvalid-logloss:0.217005\n",
            "[3000]\ttrain-logloss:0.149125\tvalid-logloss:0.216884\n",
            "Stopping. Best iteration:\n",
            "[3114]\ttrain-logloss:0.147514\tvalid-logloss:0.216852\n",
            "\n"
          ]
        },
        {
          "output_type": "stream",
          "name": "stderr",
          "text": [
            "\u001b[32m[I 2022-08-14 05:27:25,644]\u001b[0m Trial 64 finished with value: 0.7940965217106777 and parameters: {'lambda': 0.5045704133140294, 'alpha': 0.0014784988253283883, 'colsample_bytree': 0.5, 'subsample': 0.9, 'learning_rate': 0.01, 'max_depth': 9, 'min_child_weight': 56}. Best is trial 58 with value: 0.7953711156103191.\u001b[0m\n"
          ]
        },
        {
          "output_type": "stream",
          "name": "stdout",
          "text": [
            "[0]\ttrain-logloss:0.686407\tvalid-logloss:0.686468\n",
            "Multiple eval metrics have been passed: 'valid-logloss' will be used for early stopping.\n",
            "\n",
            "Will train until valid-logloss hasn't improved in 100 rounds.\n",
            "[300]\ttrain-logloss:0.230699\tvalid-logloss:0.243627\n",
            "[600]\ttrain-logloss:0.204526\tvalid-logloss:0.224972\n",
            "[900]\ttrain-logloss:0.19386\tvalid-logloss:0.221262\n",
            "[1200]\ttrain-logloss:0.186201\tvalid-logloss:0.21957\n",
            "[1500]\ttrain-logloss:0.180037\tvalid-logloss:0.218705\n",
            "[1800]\ttrain-logloss:0.174506\tvalid-logloss:0.218138\n",
            "[2100]\ttrain-logloss:0.169334\tvalid-logloss:0.217747\n",
            "[2400]\ttrain-logloss:0.164469\tvalid-logloss:0.217456\n",
            "[2700]\ttrain-logloss:0.159922\tvalid-logloss:0.217297\n",
            "[3000]\ttrain-logloss:0.155553\tvalid-logloss:0.217187\n",
            "[3300]\ttrain-logloss:0.151484\tvalid-logloss:0.217086\n",
            "[3600]\ttrain-logloss:0.147468\tvalid-logloss:0.217038\n",
            "Stopping. Best iteration:\n",
            "[3748]\ttrain-logloss:0.145643\tvalid-logloss:0.217012\n",
            "\n"
          ]
        },
        {
          "output_type": "stream",
          "name": "stderr",
          "text": [
            "\u001b[32m[I 2022-08-14 05:37:08,463]\u001b[0m Trial 65 finished with value: 0.7952809981840716 and parameters: {'lambda': 1.1438015244244366, 'alpha': 0.0036251732327708497, 'colsample_bytree': 0.8, 'subsample': 0.9, 'learning_rate': 0.01, 'max_depth': 8, 'min_child_weight': 46}. Best is trial 58 with value: 0.7953711156103191.\u001b[0m\n"
          ]
        },
        {
          "output_type": "stream",
          "name": "stdout",
          "text": [
            "[0]\ttrain-logloss:0.686444\tvalid-logloss:0.6865\n",
            "Multiple eval metrics have been passed: 'valid-logloss' will be used for early stopping.\n",
            "\n",
            "Will train until valid-logloss hasn't improved in 100 rounds.\n",
            "[300]\ttrain-logloss:0.234519\tvalid-logloss:0.244785\n",
            "[600]\ttrain-logloss:0.210289\tvalid-logloss:0.225879\n",
            "[900]\ttrain-logloss:0.201645\tvalid-logloss:0.221899\n",
            "[1200]\ttrain-logloss:0.195661\tvalid-logloss:0.220074\n",
            "[1500]\ttrain-logloss:0.190877\tvalid-logloss:0.219052\n",
            "[1800]\ttrain-logloss:0.186439\tvalid-logloss:0.218429\n",
            "[2100]\ttrain-logloss:0.182391\tvalid-logloss:0.217992\n",
            "[2400]\ttrain-logloss:0.178643\tvalid-logloss:0.217689\n",
            "[2700]\ttrain-logloss:0.175272\tvalid-logloss:0.217499\n",
            "[3000]\ttrain-logloss:0.171827\tvalid-logloss:0.217325\n",
            "[3300]\ttrain-logloss:0.168677\tvalid-logloss:0.217202\n",
            "[3600]\ttrain-logloss:0.165461\tvalid-logloss:0.217111\n",
            "[3900]\ttrain-logloss:0.162503\tvalid-logloss:0.217053\n",
            "[4200]\ttrain-logloss:0.159502\tvalid-logloss:0.217031\n",
            "Stopping. Best iteration:\n",
            "[4242]\ttrain-logloss:0.159108\tvalid-logloss:0.21702\n",
            "\n"
          ]
        },
        {
          "output_type": "stream",
          "name": "stderr",
          "text": [
            "\u001b[32m[I 2022-08-14 05:47:44,561]\u001b[0m Trial 66 finished with value: 0.7943950463514792 and parameters: {'lambda': 1.4375997797816091, 'alpha': 0.0036384053876827535, 'colsample_bytree': 0.8, 'subsample': 0.9, 'learning_rate': 0.01, 'max_depth': 8, 'min_child_weight': 108}. Best is trial 58 with value: 0.7953711156103191.\u001b[0m\n"
          ]
        },
        {
          "output_type": "stream",
          "name": "stdout",
          "text": [
            "[0]\ttrain-logloss:0.683165\tvalid-logloss:0.683242\n",
            "Multiple eval metrics have been passed: 'valid-logloss' will be used for early stopping.\n",
            "\n",
            "Will train until valid-logloss hasn't improved in 100 rounds.\n",
            "[300]\ttrain-logloss:0.221842\tvalid-logloss:0.232231\n",
            "[600]\ttrain-logloss:0.206061\tvalid-logloss:0.222738\n",
            "[900]\ttrain-logloss:0.197851\tvalid-logloss:0.22007\n",
            "[1200]\ttrain-logloss:0.191593\tvalid-logloss:0.2189\n",
            "[1500]\ttrain-logloss:0.186193\tvalid-logloss:0.218234\n",
            "[1800]\ttrain-logloss:0.181255\tvalid-logloss:0.217785\n",
            "[2100]\ttrain-logloss:0.176578\tvalid-logloss:0.217518\n",
            "[2400]\ttrain-logloss:0.17207\tvalid-logloss:0.217346\n",
            "[2700]\ttrain-logloss:0.167895\tvalid-logloss:0.217294\n",
            "Stopping. Best iteration:\n",
            "[2897]\ttrain-logloss:0.16512\tvalid-logloss:0.217226\n",
            "\n"
          ]
        },
        {
          "output_type": "stream",
          "name": "stderr",
          "text": [
            "\u001b[32m[I 2022-08-14 05:54:45,152]\u001b[0m Trial 67 finished with value: 0.7945710455814432 and parameters: {'lambda': 3.9402056563115195, 'alpha': 0.004930343238846965, 'colsample_bytree': 0.9, 'subsample': 0.8, 'learning_rate': 0.015, 'max_depth': 7, 'min_child_weight': 80}. Best is trial 58 with value: 0.7953711156103191.\u001b[0m\n"
          ]
        },
        {
          "output_type": "stream",
          "name": "stdout",
          "text": [
            "[0]\ttrain-logloss:0.683057\tvalid-logloss:0.683162\n",
            "Multiple eval metrics have been passed: 'valid-logloss' will be used for early stopping.\n",
            "\n",
            "Will train until valid-logloss hasn't improved in 100 rounds.\n",
            "[300]\ttrain-logloss:0.211856\tvalid-logloss:0.229771\n",
            "[600]\ttrain-logloss:0.192632\tvalid-logloss:0.221583\n",
            "[900]\ttrain-logloss:0.181625\tvalid-logloss:0.219541\n",
            "[1200]\ttrain-logloss:0.173251\tvalid-logloss:0.218639\n",
            "[1500]\ttrain-logloss:0.166017\tvalid-logloss:0.21816\n",
            "[1800]\ttrain-logloss:0.159467\tvalid-logloss:0.21793\n",
            "[2100]\ttrain-logloss:0.153446\tvalid-logloss:0.217785\n",
            "[2400]\ttrain-logloss:0.147893\tvalid-logloss:0.217713\n",
            "Stopping. Best iteration:\n",
            "[2531]\ttrain-logloss:0.145482\tvalid-logloss:0.217681\n",
            "\n"
          ]
        },
        {
          "output_type": "stream",
          "name": "stderr",
          "text": [
            "\u001b[32m[I 2022-08-14 06:01:19,728]\u001b[0m Trial 68 finished with value: 0.7934909018576572 and parameters: {'lambda': 1.316733739287367, 'alpha': 0.41808441889987485, 'colsample_bytree': 0.8, 'subsample': 1.0, 'learning_rate': 0.015, 'max_depth': 8, 'min_child_weight': 42}. Best is trial 58 with value: 0.7953711156103191.\u001b[0m\n"
          ]
        },
        {
          "output_type": "stream",
          "name": "stdout",
          "text": [
            "[0]\ttrain-logloss:0.68651\tvalid-logloss:0.686565\n",
            "Multiple eval metrics have been passed: 'valid-logloss' will be used for early stopping.\n",
            "\n",
            "Will train until valid-logloss hasn't improved in 100 rounds.\n",
            "[300]\ttrain-logloss:0.239068\tvalid-logloss:0.247104\n",
            "[600]\ttrain-logloss:0.215187\tvalid-logloss:0.227314\n",
            "[900]\ttrain-logloss:0.207015\tvalid-logloss:0.222917\n",
            "[1200]\ttrain-logloss:0.201741\tvalid-logloss:0.220868\n",
            "[1500]\ttrain-logloss:0.197733\tvalid-logloss:0.219728\n",
            "[1800]\ttrain-logloss:0.194122\tvalid-logloss:0.21895\n",
            "[2100]\ttrain-logloss:0.190905\tvalid-logloss:0.21845\n",
            "[2400]\ttrain-logloss:0.187882\tvalid-logloss:0.218085\n",
            "[2700]\ttrain-logloss:0.184985\tvalid-logloss:0.217771\n",
            "[3000]\ttrain-logloss:0.182213\tvalid-logloss:0.21758\n",
            "[3300]\ttrain-logloss:0.179605\tvalid-logloss:0.217397\n",
            "[3600]\ttrain-logloss:0.177039\tvalid-logloss:0.217264\n",
            "[3900]\ttrain-logloss:0.174629\tvalid-logloss:0.217155\n",
            "[4200]\ttrain-logloss:0.172288\tvalid-logloss:0.21707\n",
            "[4500]\ttrain-logloss:0.169993\tvalid-logloss:0.217017\n",
            "[4800]\ttrain-logloss:0.167687\tvalid-logloss:0.216985\n",
            "Stopping. Best iteration:\n",
            "[4996]\ttrain-logloss:0.166169\tvalid-logloss:0.216946\n",
            "\n"
          ]
        },
        {
          "output_type": "stream",
          "name": "stderr",
          "text": [
            "\u001b[32m[I 2022-08-14 06:12:43,630]\u001b[0m Trial 69 finished with value: 0.7944065401000384 and parameters: {'lambda': 0.1078383460241335, 'alpha': 6.387444298706205, 'colsample_bytree': 0.5, 'subsample': 0.9, 'learning_rate': 0.01, 'max_depth': 7, 'min_child_weight': 89}. Best is trial 58 with value: 0.7953711156103191.\u001b[0m\n"
          ]
        },
        {
          "output_type": "stream",
          "name": "stdout",
          "text": [
            "[0]\ttrain-logloss:0.680003\tvalid-logloss:0.6801\n",
            "Multiple eval metrics have been passed: 'valid-logloss' will be used for early stopping.\n",
            "\n",
            "Will train until valid-logloss hasn't improved in 100 rounds.\n",
            "[300]\ttrain-logloss:0.219044\tvalid-logloss:0.229017\n",
            "[600]\ttrain-logloss:0.205076\tvalid-logloss:0.221878\n",
            "[900]\ttrain-logloss:0.197407\tvalid-logloss:0.219793\n",
            "[1200]\ttrain-logloss:0.190746\tvalid-logloss:0.218781\n",
            "[1500]\ttrain-logloss:0.185235\tvalid-logloss:0.21824\n",
            "[1800]\ttrain-logloss:0.18011\tvalid-logloss:0.217877\n",
            "[2100]\ttrain-logloss:0.175269\tvalid-logloss:0.217725\n",
            "[2400]\ttrain-logloss:0.170737\tvalid-logloss:0.217632\n",
            "[2700]\ttrain-logloss:0.166501\tvalid-logloss:0.217529\n",
            "Stopping. Best iteration:\n",
            "[2754]\ttrain-logloss:0.165723\tvalid-logloss:0.217506\n",
            "\n"
          ]
        },
        {
          "output_type": "stream",
          "name": "stderr",
          "text": [
            "\u001b[32m[I 2022-08-14 06:18:47,235]\u001b[0m Trial 70 finished with value: 0.7935157373012296 and parameters: {'lambda': 5.435783957213567, 'alpha': 0.0027412284120749302, 'colsample_bytree': 0.9, 'subsample': 0.9, 'learning_rate': 0.02, 'max_depth': 6, 'min_child_weight': 65}. Best is trial 58 with value: 0.7953711156103191.\u001b[0m\n"
          ]
        },
        {
          "output_type": "stream",
          "name": "stdout",
          "text": [
            "[0]\ttrain-logloss:0.686394\tvalid-logloss:0.68646\n",
            "Multiple eval metrics have been passed: 'valid-logloss' will be used for early stopping.\n",
            "\n",
            "Will train until valid-logloss hasn't improved in 100 rounds.\n",
            "[300]\ttrain-logloss:0.229313\tvalid-logloss:0.243216\n",
            "[600]\ttrain-logloss:0.202451\tvalid-logloss:0.224728\n",
            "[900]\ttrain-logloss:0.191063\tvalid-logloss:0.221073\n",
            "[1200]\ttrain-logloss:0.182873\tvalid-logloss:0.219444\n",
            "[1500]\ttrain-logloss:0.176269\tvalid-logloss:0.218601\n",
            "[1800]\ttrain-logloss:0.17019\tvalid-logloss:0.218056\n",
            "[2100]\ttrain-logloss:0.164743\tvalid-logloss:0.217706\n",
            "[2400]\ttrain-logloss:0.159589\tvalid-logloss:0.217474\n",
            "[2700]\ttrain-logloss:0.154889\tvalid-logloss:0.217315\n",
            "[3000]\ttrain-logloss:0.150198\tvalid-logloss:0.217237\n",
            "Stopping. Best iteration:\n",
            "[3071]\ttrain-logloss:0.149144\tvalid-logloss:0.217209\n",
            "\n"
          ]
        },
        {
          "output_type": "stream",
          "name": "stderr",
          "text": [
            "\u001b[32m[I 2022-08-14 06:27:01,146]\u001b[0m Trial 71 finished with value: 0.7942217900763509 and parameters: {'lambda': 0.029783230978408553, 'alpha': 0.007112541260335947, 'colsample_bytree': 0.7, 'subsample': 0.9, 'learning_rate': 0.01, 'max_depth': 8, 'min_child_weight': 34}. Best is trial 58 with value: 0.7953711156103191.\u001b[0m\n"
          ]
        },
        {
          "output_type": "stream",
          "name": "stdout",
          "text": [
            "[0]\ttrain-logloss:0.686302\tvalid-logloss:0.686409\n",
            "Multiple eval metrics have been passed: 'valid-logloss' will be used for early stopping.\n",
            "\n",
            "Will train until valid-logloss hasn't improved in 100 rounds.\n",
            "[300]\ttrain-logloss:0.21841\tvalid-logloss:0.241051\n",
            "[600]\ttrain-logloss:0.187746\tvalid-logloss:0.223463\n",
            "[900]\ttrain-logloss:0.172686\tvalid-logloss:0.220313\n",
            "[1200]\ttrain-logloss:0.161402\tvalid-logloss:0.218959\n",
            "[1500]\ttrain-logloss:0.15229\tvalid-logloss:0.218271\n",
            "[1800]\ttrain-logloss:0.144482\tvalid-logloss:0.217885\n",
            "[2100]\ttrain-logloss:0.137208\tvalid-logloss:0.217685\n",
            "[2400]\ttrain-logloss:0.130572\tvalid-logloss:0.217581\n",
            "[2700]\ttrain-logloss:0.124426\tvalid-logloss:0.217534\n",
            "Stopping. Best iteration:\n",
            "[2844]\ttrain-logloss:0.121374\tvalid-logloss:0.217485\n",
            "\n"
          ]
        },
        {
          "output_type": "stream",
          "name": "stderr",
          "text": [
            "\u001b[32m[I 2022-08-14 06:35:39,651]\u001b[0m Trial 72 finished with value: 0.7934590978919968 and parameters: {'lambda': 0.0030784981811992824, 'alpha': 0.0013254144918281835, 'colsample_bytree': 0.8, 'subsample': 0.9, 'learning_rate': 0.01, 'max_depth': 9, 'min_child_weight': 18}. Best is trial 58 with value: 0.7953711156103191.\u001b[0m\n"
          ]
        },
        {
          "output_type": "stream",
          "name": "stdout",
          "text": [
            "[0]\ttrain-logloss:0.686465\tvalid-logloss:0.686514\n",
            "Multiple eval metrics have been passed: 'valid-logloss' will be used for early stopping.\n",
            "\n",
            "Will train until valid-logloss hasn't improved in 100 rounds.\n",
            "[300]\ttrain-logloss:0.237999\tvalid-logloss:0.245949\n",
            "[600]\ttrain-logloss:0.215143\tvalid-logloss:0.226805\n",
            "[900]\ttrain-logloss:0.207692\tvalid-logloss:0.222539\n",
            "[1200]\ttrain-logloss:0.202722\tvalid-logloss:0.220582\n",
            "[1500]\ttrain-logloss:0.198748\tvalid-logloss:0.219508\n",
            "[1800]\ttrain-logloss:0.195181\tvalid-logloss:0.218812\n",
            "[2100]\ttrain-logloss:0.19201\tvalid-logloss:0.218366\n",
            "[2400]\ttrain-logloss:0.188967\tvalid-logloss:0.218031\n",
            "[2700]\ttrain-logloss:0.18618\tvalid-logloss:0.217813\n",
            "[3000]\ttrain-logloss:0.183392\tvalid-logloss:0.217594\n",
            "[3300]\ttrain-logloss:0.180765\tvalid-logloss:0.217477\n",
            "[3600]\ttrain-logloss:0.178315\tvalid-logloss:0.217382\n",
            "[3900]\ttrain-logloss:0.175903\tvalid-logloss:0.21729\n",
            "[4200]\ttrain-logloss:0.173515\tvalid-logloss:0.217222\n",
            "Stopping. Best iteration:\n",
            "[4186]\ttrain-logloss:0.173625\tvalid-logloss:0.217217\n",
            "\n"
          ]
        },
        {
          "output_type": "stream",
          "name": "stderr",
          "text": [
            "\u001b[32m[I 2022-08-14 06:46:04,310]\u001b[0m Trial 73 finished with value: 0.7939789995178135 and parameters: {'lambda': 1.0541348515416535, 'alpha': 0.011057725711127415, 'colsample_bytree': 0.6, 'subsample': 0.8, 'learning_rate': 0.01, 'max_depth': 8, 'min_child_weight': 182}. Best is trial 58 with value: 0.7953711156103191.\u001b[0m\n"
          ]
        },
        {
          "output_type": "stream",
          "name": "stdout",
          "text": [
            "[0]\ttrain-logloss:0.682842\tvalid-logloss:0.683062\n",
            "Multiple eval metrics have been passed: 'valid-logloss' will be used for early stopping.\n",
            "\n",
            "Will train until valid-logloss hasn't improved in 100 rounds.\n",
            "[300]\ttrain-logloss:0.183036\tvalid-logloss:0.227798\n",
            "[600]\ttrain-logloss:0.147526\tvalid-logloss:0.221075\n",
            "[900]\ttrain-logloss:0.124294\tvalid-logloss:0.219745\n",
            "[1200]\ttrain-logloss:0.106627\tvalid-logloss:0.219518\n",
            "Stopping. Best iteration:\n",
            "[1191]\ttrain-logloss:0.107055\tvalid-logloss:0.219511\n",
            "\n"
          ]
        },
        {
          "output_type": "stream",
          "name": "stderr",
          "text": [
            "\u001b[32m[I 2022-08-14 06:50:48,219]\u001b[0m Trial 74 finished with value: 0.7924286565157537 and parameters: {'lambda': 0.008852895673382578, 'alpha': 0.002051846014428978, 'colsample_bytree': 0.8, 'subsample': 0.9, 'learning_rate': 0.015, 'max_depth': 9, 'min_child_weight': 1}. Best is trial 58 with value: 0.7953711156103191.\u001b[0m\n"
          ]
        },
        {
          "output_type": "stream",
          "name": "stdout",
          "text": [
            "[0]\ttrain-logloss:0.686394\tvalid-logloss:0.686459\n",
            "Multiple eval metrics have been passed: 'valid-logloss' will be used for early stopping.\n",
            "\n",
            "Will train until valid-logloss hasn't improved in 100 rounds.\n",
            "[300]\ttrain-logloss:0.231135\tvalid-logloss:0.243501\n",
            "[600]\ttrain-logloss:0.205554\tvalid-logloss:0.22492\n",
            "[900]\ttrain-logloss:0.1955\tvalid-logloss:0.221196\n",
            "[1200]\ttrain-logloss:0.18814\tvalid-logloss:0.219533\n",
            "[1500]\ttrain-logloss:0.182106\tvalid-logloss:0.218671\n",
            "[1800]\ttrain-logloss:0.176502\tvalid-logloss:0.218117\n",
            "[2100]\ttrain-logloss:0.171313\tvalid-logloss:0.217765\n",
            "[2400]\ttrain-logloss:0.166588\tvalid-logloss:0.217482\n",
            "[2700]\ttrain-logloss:0.162356\tvalid-logloss:0.217331\n",
            "[3000]\ttrain-logloss:0.158186\tvalid-logloss:0.217215\n",
            "[3300]\ttrain-logloss:0.154019\tvalid-logloss:0.217139\n",
            "[3600]\ttrain-logloss:0.150232\tvalid-logloss:0.217086\n",
            "Stopping. Best iteration:\n",
            "[3765]\ttrain-logloss:0.148234\tvalid-logloss:0.217041\n",
            "\n"
          ]
        },
        {
          "output_type": "stream",
          "name": "stderr",
          "text": [
            "\u001b[32m[I 2022-08-14 07:00:30,317]\u001b[0m Trial 75 finished with value: 0.7942660072058668 and parameters: {'lambda': 0.064219831571586, 'alpha': 0.00379216796317416, 'colsample_bytree': 0.7, 'subsample': 0.8, 'learning_rate': 0.01, 'max_depth': 8, 'min_child_weight': 47}. Best is trial 58 with value: 0.7953711156103191.\u001b[0m\n"
          ]
        },
        {
          "output_type": "stream",
          "name": "stdout",
          "text": [
            "[0]\ttrain-logloss:0.686506\tvalid-logloss:0.686558\n",
            "Multiple eval metrics have been passed: 'valid-logloss' will be used for early stopping.\n",
            "\n",
            "Will train until valid-logloss hasn't improved in 100 rounds.\n",
            "[300]\ttrain-logloss:0.236836\tvalid-logloss:0.245974\n",
            "[600]\ttrain-logloss:0.211956\tvalid-logloss:0.226468\n",
            "[900]\ttrain-logloss:0.202935\tvalid-logloss:0.222372\n",
            "[1200]\ttrain-logloss:0.196863\tvalid-logloss:0.22049\n",
            "[1500]\ttrain-logloss:0.191994\tvalid-logloss:0.2195\n",
            "[1800]\ttrain-logloss:0.187878\tvalid-logloss:0.218858\n",
            "[2100]\ttrain-logloss:0.184148\tvalid-logloss:0.218427\n",
            "[2400]\ttrain-logloss:0.180642\tvalid-logloss:0.218119\n",
            "[2700]\ttrain-logloss:0.177284\tvalid-logloss:0.21789\n",
            "[3000]\ttrain-logloss:0.174169\tvalid-logloss:0.217712\n",
            "[3300]\ttrain-logloss:0.171144\tvalid-logloss:0.217554\n",
            "[3600]\ttrain-logloss:0.168248\tvalid-logloss:0.217438\n",
            "[3900]\ttrain-logloss:0.165479\tvalid-logloss:0.217344\n",
            "[4200]\ttrain-logloss:0.162956\tvalid-logloss:0.217282\n",
            "[4500]\ttrain-logloss:0.160372\tvalid-logloss:0.217232\n",
            "[4800]\ttrain-logloss:0.157865\tvalid-logloss:0.217174\n",
            "Stopping. Best iteration:\n",
            "[4813]\ttrain-logloss:0.157779\tvalid-logloss:0.21717\n",
            "\n"
          ]
        },
        {
          "output_type": "stream",
          "name": "stderr",
          "text": [
            "\u001b[32m[I 2022-08-14 07:11:08,508]\u001b[0m Trial 76 finished with value: 0.7949938043026981 and parameters: {'lambda': 0.0046760466335076245, 'alpha': 0.22003407510292047, 'colsample_bytree': 0.5, 'subsample': 1.0, 'learning_rate': 0.01, 'max_depth': 7, 'min_child_weight': 58}. Best is trial 58 with value: 0.7953711156103191.\u001b[0m\n"
          ]
        },
        {
          "output_type": "stream",
          "name": "stdout",
          "text": [
            "[0]\ttrain-logloss:0.683229\tvalid-logloss:0.683306\n",
            "Multiple eval metrics have been passed: 'valid-logloss' will be used for early stopping.\n",
            "\n",
            "Will train until valid-logloss hasn't improved in 100 rounds.\n",
            "[300]\ttrain-logloss:0.220707\tvalid-logloss:0.231902\n",
            "[600]\ttrain-logloss:0.20452\tvalid-logloss:0.222672\n",
            "[900]\ttrain-logloss:0.19647\tvalid-logloss:0.220183\n",
            "[1200]\ttrain-logloss:0.190468\tvalid-logloss:0.219102\n",
            "[1500]\ttrain-logloss:0.185355\tvalid-logloss:0.218452\n",
            "[1800]\ttrain-logloss:0.180711\tvalid-logloss:0.218027\n",
            "[2100]\ttrain-logloss:0.17654\tvalid-logloss:0.217782\n",
            "[2400]\ttrain-logloss:0.172625\tvalid-logloss:0.2176\n",
            "[2700]\ttrain-logloss:0.168876\tvalid-logloss:0.217473\n",
            "[3000]\ttrain-logloss:0.16527\tvalid-logloss:0.217405\n",
            "[3300]\ttrain-logloss:0.161749\tvalid-logloss:0.21733\n",
            "Stopping. Best iteration:\n",
            "[3364]\ttrain-logloss:0.160985\tvalid-logloss:0.21731\n",
            "\n"
          ]
        },
        {
          "output_type": "stream",
          "name": "stderr",
          "text": [
            "\u001b[32m[I 2022-08-14 07:18:42,806]\u001b[0m Trial 77 finished with value: 0.793942847461978 and parameters: {'lambda': 0.0021008915865231535, 'alpha': 2.173091747405345, 'colsample_bytree': 0.5, 'subsample': 1.0, 'learning_rate': 0.015, 'max_depth': 7, 'min_child_weight': 71}. Best is trial 58 with value: 0.7953711156103191.\u001b[0m\n"
          ]
        },
        {
          "output_type": "stream",
          "name": "stdout",
          "text": [
            "[0]\ttrain-logloss:0.686504\tvalid-logloss:0.686555\n",
            "Multiple eval metrics have been passed: 'valid-logloss' will be used for early stopping.\n",
            "\n",
            "Will train until valid-logloss hasn't improved in 100 rounds.\n",
            "[300]\ttrain-logloss:0.236628\tvalid-logloss:0.245902\n",
            "[600]\ttrain-logloss:0.211585\tvalid-logloss:0.22641\n",
            "[900]\ttrain-logloss:0.202323\tvalid-logloss:0.222295\n",
            "[1200]\ttrain-logloss:0.196034\tvalid-logloss:0.220433\n",
            "[1500]\ttrain-logloss:0.190979\tvalid-logloss:0.219402\n",
            "[1800]\ttrain-logloss:0.186695\tvalid-logloss:0.218734\n",
            "[2100]\ttrain-logloss:0.182796\tvalid-logloss:0.218295\n",
            "[2400]\ttrain-logloss:0.17917\tvalid-logloss:0.217958\n",
            "[2700]\ttrain-logloss:0.175864\tvalid-logloss:0.21774\n",
            "[3000]\ttrain-logloss:0.172628\tvalid-logloss:0.217563\n",
            "[3300]\ttrain-logloss:0.169526\tvalid-logloss:0.217379\n",
            "[3600]\ttrain-logloss:0.166619\tvalid-logloss:0.2173\n",
            "[3900]\ttrain-logloss:0.163865\tvalid-logloss:0.217214\n",
            "[4200]\ttrain-logloss:0.161099\tvalid-logloss:0.217155\n",
            "[4500]\ttrain-logloss:0.158337\tvalid-logloss:0.217125\n",
            "Stopping. Best iteration:\n",
            "[4506]\ttrain-logloss:0.158287\tvalid-logloss:0.217121\n",
            "\n"
          ]
        },
        {
          "output_type": "stream",
          "name": "stderr",
          "text": [
            "\u001b[32m[I 2022-08-14 07:28:44,107]\u001b[0m Trial 78 finished with value: 0.7943236731124781 and parameters: {'lambda': 0.004109935128140056, 'alpha': 0.14652094599101148, 'colsample_bytree': 0.5, 'subsample': 1.0, 'learning_rate': 0.01, 'max_depth': 7, 'min_child_weight': 52}. Best is trial 58 with value: 0.7953711156103191.\u001b[0m\n"
          ]
        },
        {
          "output_type": "stream",
          "name": "stdout",
          "text": [
            "[0]\ttrain-logloss:0.683338\tvalid-logloss:0.683393\n",
            "Multiple eval metrics have been passed: 'valid-logloss' will be used for early stopping.\n",
            "\n",
            "Will train until valid-logloss hasn't improved in 100 rounds.\n",
            "[300]\ttrain-logloss:0.225901\tvalid-logloss:0.234162\n",
            "[600]\ttrain-logloss:0.209856\tvalid-logloss:0.223864\n",
            "[900]\ttrain-logloss:0.202421\tvalid-logloss:0.220943\n",
            "[1200]\ttrain-logloss:0.196939\tvalid-logloss:0.219592\n",
            "[1500]\ttrain-logloss:0.192524\tvalid-logloss:0.218842\n",
            "[1800]\ttrain-logloss:0.188512\tvalid-logloss:0.218372\n",
            "[2100]\ttrain-logloss:0.184685\tvalid-logloss:0.218011\n",
            "[2400]\ttrain-logloss:0.181097\tvalid-logloss:0.217733\n",
            "[2700]\ttrain-logloss:0.177754\tvalid-logloss:0.217572\n",
            "[3000]\ttrain-logloss:0.174536\tvalid-logloss:0.217415\n",
            "[3300]\ttrain-logloss:0.171492\tvalid-logloss:0.217368\n",
            "[3600]\ttrain-logloss:0.168567\tvalid-logloss:0.217315\n",
            "Stopping. Best iteration:\n",
            "[3668]\ttrain-logloss:0.167955\tvalid-logloss:0.217305\n",
            "\n"
          ]
        },
        {
          "output_type": "stream",
          "name": "stderr",
          "text": [
            "\u001b[32m[I 2022-08-14 07:36:19,398]\u001b[0m Trial 79 finished with value: 0.7947155888483328 and parameters: {'lambda': 0.5706921101272311, 'alpha': 0.07812292123389465, 'colsample_bytree': 0.5, 'subsample': 1.0, 'learning_rate': 0.015, 'max_depth': 6, 'min_child_weight': 59}. Best is trial 58 with value: 0.7953711156103191.\u001b[0m\n"
          ]
        },
        {
          "output_type": "stream",
          "name": "stdout",
          "text": [
            "[0]\ttrain-logloss:0.686489\tvalid-logloss:0.686536\n",
            "Multiple eval metrics have been passed: 'valid-logloss' will be used for early stopping.\n",
            "\n",
            "Will train until valid-logloss hasn't improved in 100 rounds.\n",
            "[300]\ttrain-logloss:0.238933\tvalid-logloss:0.246524\n",
            "[600]\ttrain-logloss:0.215276\tvalid-logloss:0.226875\n",
            "[900]\ttrain-logloss:0.207423\tvalid-logloss:0.222628\n",
            "[1200]\ttrain-logloss:0.202041\tvalid-logloss:0.220585\n",
            "[1500]\ttrain-logloss:0.197767\tvalid-logloss:0.219441\n",
            "[1800]\ttrain-logloss:0.194098\tvalid-logloss:0.218719\n",
            "[2100]\ttrain-logloss:0.190623\tvalid-logloss:0.218216\n",
            "[2400]\ttrain-logloss:0.187399\tvalid-logloss:0.217848\n",
            "[2700]\ttrain-logloss:0.184361\tvalid-logloss:0.2176\n",
            "[3000]\ttrain-logloss:0.181421\tvalid-logloss:0.217406\n",
            "[3300]\ttrain-logloss:0.178617\tvalid-logloss:0.217273\n",
            "[3600]\ttrain-logloss:0.175937\tvalid-logloss:0.217183\n",
            "[3900]\ttrain-logloss:0.173423\tvalid-logloss:0.217116\n",
            "[4200]\ttrain-logloss:0.170949\tvalid-logloss:0.217025\n",
            "[4500]\ttrain-logloss:0.168538\tvalid-logloss:0.216977\n",
            "Stopping. Best iteration:\n",
            "[4596]\ttrain-logloss:0.167759\tvalid-logloss:0.216961\n",
            "\n"
          ]
        },
        {
          "output_type": "stream",
          "name": "stderr",
          "text": [
            "\u001b[32m[I 2022-08-14 07:46:49,443]\u001b[0m Trial 80 finished with value: 0.7943889217632445 and parameters: {'lambda': 0.0057365620889461, 'alpha': 0.2773073652105432, 'colsample_bytree': 0.5, 'subsample': 0.7, 'learning_rate': 0.01, 'max_depth': 7, 'min_child_weight': 83}. Best is trial 58 with value: 0.7953711156103191.\u001b[0m\n"
          ]
        },
        {
          "output_type": "stream",
          "name": "stdout",
          "text": [
            "[0]\ttrain-logloss:0.686319\tvalid-logloss:0.686419\n",
            "Multiple eval metrics have been passed: 'valid-logloss' will be used for early stopping.\n",
            "\n",
            "Will train until valid-logloss hasn't improved in 100 rounds.\n",
            "[300]\ttrain-logloss:0.221133\tvalid-logloss:0.241379\n",
            "[600]\ttrain-logloss:0.19198\tvalid-logloss:0.223598\n",
            "[900]\ttrain-logloss:0.178606\tvalid-logloss:0.220319\n",
            "[1200]\ttrain-logloss:0.168808\tvalid-logloss:0.218889\n",
            "[1500]\ttrain-logloss:0.160679\tvalid-logloss:0.218186\n",
            "[1800]\ttrain-logloss:0.153388\tvalid-logloss:0.217759\n",
            "[2100]\ttrain-logloss:0.146672\tvalid-logloss:0.21751\n",
            "[2400]\ttrain-logloss:0.140628\tvalid-logloss:0.217326\n",
            "[2700]\ttrain-logloss:0.135046\tvalid-logloss:0.217199\n",
            "Stopping. Best iteration:\n",
            "[2712]\ttrain-logloss:0.13485\tvalid-logloss:0.217193\n",
            "\n"
          ]
        },
        {
          "output_type": "stream",
          "name": "stderr",
          "text": [
            "\u001b[32m[I 2022-08-14 07:55:01,262]\u001b[0m Trial 81 finished with value: 0.7943615743226495 and parameters: {'lambda': 0.007123374476011968, 'alpha': 0.6769459034135709, 'colsample_bytree': 0.8, 'subsample': 0.9, 'learning_rate': 0.01, 'max_depth': 9, 'min_child_weight': 27}. Best is trial 58 with value: 0.7953711156103191.\u001b[0m\n"
          ]
        },
        {
          "output_type": "stream",
          "name": "stdout",
          "text": [
            "[0]\ttrain-logloss:0.66657\tvalid-logloss:0.666839\n",
            "Multiple eval metrics have been passed: 'valid-logloss' will be used for early stopping.\n",
            "\n",
            "Will train until valid-logloss hasn't improved in 100 rounds.\n",
            "[300]\ttrain-logloss:0.185845\tvalid-logloss:0.219997\n",
            "[600]\ttrain-logloss:0.163338\tvalid-logloss:0.218198\n",
            "[900]\ttrain-logloss:0.146665\tvalid-logloss:0.217923\n",
            "Stopping. Best iteration:\n",
            "[948]\ttrain-logloss:0.144273\tvalid-logloss:0.217862\n",
            "\n"
          ]
        },
        {
          "output_type": "stream",
          "name": "stderr",
          "text": [
            "\u001b[32m[I 2022-08-14 07:57:54,246]\u001b[0m Trial 82 finished with value: 0.7914303075683946 and parameters: {'lambda': 0.004592774530380011, 'alpha': 0.006153306705825218, 'colsample_bytree': 0.5, 'subsample': 0.9, 'learning_rate': 0.04, 'max_depth': 8, 'min_child_weight': 40}. Best is trial 58 with value: 0.7953711156103191.\u001b[0m\n"
          ]
        },
        {
          "output_type": "stream",
          "name": "stdout",
          "text": [
            "[0]\ttrain-logloss:0.686479\tvalid-logloss:0.686531\n",
            "Multiple eval metrics have been passed: 'valid-logloss' will be used for early stopping.\n",
            "\n",
            "Will train until valid-logloss hasn't improved in 100 rounds.\n",
            "[300]\ttrain-logloss:0.237058\tvalid-logloss:0.245951\n",
            "[600]\ttrain-logloss:0.212361\tvalid-logloss:0.226477\n",
            "[900]\ttrain-logloss:0.203102\tvalid-logloss:0.222209\n",
            "[1200]\ttrain-logloss:0.196912\tvalid-logloss:0.220281\n",
            "[1500]\ttrain-logloss:0.19204\tvalid-logloss:0.219248\n",
            "[1800]\ttrain-logloss:0.187581\tvalid-logloss:0.218548\n",
            "[2100]\ttrain-logloss:0.183589\tvalid-logloss:0.218091\n",
            "[2400]\ttrain-logloss:0.179779\tvalid-logloss:0.21774\n",
            "[2700]\ttrain-logloss:0.176328\tvalid-logloss:0.217533\n",
            "[3000]\ttrain-logloss:0.172914\tvalid-logloss:0.217367\n",
            "[3300]\ttrain-logloss:0.169654\tvalid-logloss:0.2172\n",
            "[3600]\ttrain-logloss:0.166646\tvalid-logloss:0.217083\n",
            "[3900]\ttrain-logloss:0.163678\tvalid-logloss:0.217042\n",
            "[4200]\ttrain-logloss:0.160802\tvalid-logloss:0.216993\n",
            "Stopping. Best iteration:\n",
            "[4373]\ttrain-logloss:0.159122\tvalid-logloss:0.216956\n",
            "\n"
          ]
        },
        {
          "output_type": "stream",
          "name": "stderr",
          "text": [
            "\u001b[32m[I 2022-08-14 08:08:02,130]\u001b[0m Trial 83 finished with value: 0.7944406513438897 and parameters: {'lambda': 0.002514225923915831, 'alpha': 0.004846005745742642, 'colsample_bytree': 0.6, 'subsample': 0.9, 'learning_rate': 0.01, 'max_depth': 7, 'min_child_weight': 58}. Best is trial 58 with value: 0.7953711156103191.\u001b[0m\n"
          ]
        },
        {
          "output_type": "stream",
          "name": "stdout",
          "text": [
            "[0]\ttrain-logloss:0.686662\tvalid-logloss:0.686694\n",
            "Multiple eval metrics have been passed: 'valid-logloss' will be used for early stopping.\n",
            "\n",
            "Will train until valid-logloss hasn't improved in 100 rounds.\n",
            "[300]\ttrain-logloss:0.24933\tvalid-logloss:0.253796\n",
            "[600]\ttrain-logloss:0.224494\tvalid-logloss:0.231576\n",
            "[900]\ttrain-logloss:0.216622\tvalid-logloss:0.226041\n",
            "[1200]\ttrain-logloss:0.211741\tvalid-logloss:0.223286\n",
            "[1500]\ttrain-logloss:0.208149\tvalid-logloss:0.221672\n",
            "[1800]\ttrain-logloss:0.205202\tvalid-logloss:0.220631\n",
            "[2100]\ttrain-logloss:0.202689\tvalid-logloss:0.219915\n",
            "[2400]\ttrain-logloss:0.200427\tvalid-logloss:0.219384\n",
            "[2700]\ttrain-logloss:0.198263\tvalid-logloss:0.218949\n",
            "[3000]\ttrain-logloss:0.196202\tvalid-logloss:0.218636\n",
            "[3300]\ttrain-logloss:0.194201\tvalid-logloss:0.21835\n",
            "[3600]\ttrain-logloss:0.19236\tvalid-logloss:0.218132\n",
            "[3900]\ttrain-logloss:0.190559\tvalid-logloss:0.217953\n",
            "[4200]\ttrain-logloss:0.188812\tvalid-logloss:0.2178\n",
            "[4500]\ttrain-logloss:0.187166\tvalid-logloss:0.217691\n",
            "[4800]\ttrain-logloss:0.185503\tvalid-logloss:0.217585\n",
            "[5100]\ttrain-logloss:0.183881\tvalid-logloss:0.217471\n",
            "[5400]\ttrain-logloss:0.182356\tvalid-logloss:0.217415\n",
            "[5700]\ttrain-logloss:0.180833\tvalid-logloss:0.217391\n",
            "[6000]\ttrain-logloss:0.179332\tvalid-logloss:0.217345\n",
            "Stopping. Best iteration:\n",
            "[6168]\ttrain-logloss:0.178488\tvalid-logloss:0.21731\n",
            "\n"
          ]
        },
        {
          "output_type": "stream",
          "name": "stderr",
          "text": [
            "\u001b[32m[I 2022-08-14 08:19:43,304]\u001b[0m Trial 84 finished with value: 0.7946654528721635 and parameters: {'lambda': 0.01570563983186916, 'alpha': 0.016956859720263825, 'colsample_bytree': 0.8, 'subsample': 0.9, 'learning_rate': 0.01, 'max_depth': 5, 'min_child_weight': 73}. Best is trial 58 with value: 0.7953711156103191.\u001b[0m\n"
          ]
        },
        {
          "output_type": "stream",
          "name": "stdout",
          "text": [
            "[0]\ttrain-logloss:0.686316\tvalid-logloss:0.686416\n",
            "Multiple eval metrics have been passed: 'valid-logloss' will be used for early stopping.\n",
            "\n",
            "Will train until valid-logloss hasn't improved in 100 rounds.\n",
            "[300]\ttrain-logloss:0.221422\tvalid-logloss:0.241238\n",
            "[600]\ttrain-logloss:0.192611\tvalid-logloss:0.223505\n",
            "[900]\ttrain-logloss:0.180066\tvalid-logloss:0.220405\n",
            "[1200]\ttrain-logloss:0.170672\tvalid-logloss:0.219109\n",
            "[1500]\ttrain-logloss:0.163141\tvalid-logloss:0.218414\n",
            "[1800]\ttrain-logloss:0.156825\tvalid-logloss:0.218022\n",
            "[2100]\ttrain-logloss:0.150908\tvalid-logloss:0.217774\n",
            "[2400]\ttrain-logloss:0.145232\tvalid-logloss:0.217597\n",
            "[2700]\ttrain-logloss:0.140323\tvalid-logloss:0.217504\n",
            "[3000]\ttrain-logloss:0.135663\tvalid-logloss:0.217419\n",
            "Stopping. Best iteration:\n",
            "[3114]\ttrain-logloss:0.133951\tvalid-logloss:0.217401\n",
            "\n"
          ]
        },
        {
          "output_type": "stream",
          "name": "stderr",
          "text": [
            "\u001b[32m[I 2022-08-14 08:28:31,029]\u001b[0m Trial 85 finished with value: 0.7941932239737495 and parameters: {'lambda': 0.011660679034037131, 'alpha': 0.003155614924013237, 'colsample_bytree': 0.7, 'subsample': 1.0, 'learning_rate': 0.01, 'max_depth': 9, 'min_child_weight': 33}. Best is trial 58 with value: 0.7953711156103191.\u001b[0m\n"
          ]
        },
        {
          "output_type": "stream",
          "name": "stdout",
          "text": [
            "[0]\ttrain-logloss:0.68333\tvalid-logloss:0.683386\n",
            "Multiple eval metrics have been passed: 'valid-logloss' will be used for early stopping.\n",
            "\n",
            "Will train until valid-logloss hasn't improved in 100 rounds.\n",
            "[300]\ttrain-logloss:0.225453\tvalid-logloss:0.234029\n",
            "[600]\ttrain-logloss:0.209108\tvalid-logloss:0.223809\n",
            "[900]\ttrain-logloss:0.20108\tvalid-logloss:0.220923\n",
            "[1200]\ttrain-logloss:0.19537\tvalid-logloss:0.219633\n",
            "[1500]\ttrain-logloss:0.190524\tvalid-logloss:0.21889\n",
            "[1800]\ttrain-logloss:0.186267\tvalid-logloss:0.218442\n",
            "[2100]\ttrain-logloss:0.182257\tvalid-logloss:0.218116\n",
            "[2400]\ttrain-logloss:0.178472\tvalid-logloss:0.217852\n",
            "[2700]\ttrain-logloss:0.174906\tvalid-logloss:0.217621\n",
            "[3000]\ttrain-logloss:0.17156\tvalid-logloss:0.21748\n",
            "[3300]\ttrain-logloss:0.16833\tvalid-logloss:0.217417\n",
            "[3600]\ttrain-logloss:0.165096\tvalid-logloss:0.217344\n",
            "[3900]\ttrain-logloss:0.162042\tvalid-logloss:0.217296\n",
            "Stopping. Best iteration:\n",
            "[3892]\ttrain-logloss:0.162116\tvalid-logloss:0.217291\n",
            "\n"
          ]
        },
        {
          "output_type": "stream",
          "name": "stderr",
          "text": [
            "\u001b[32m[I 2022-08-14 08:36:29,353]\u001b[0m Trial 86 finished with value: 0.7947123241948861 and parameters: {'lambda': 0.0034508219723217892, 'alpha': 0.00818669157170006, 'colsample_bytree': 0.5, 'subsample': 1.0, 'learning_rate': 0.015, 'max_depth': 6, 'min_child_weight': 45}. Best is trial 58 with value: 0.7953711156103191.\u001b[0m\n"
          ]
        },
        {
          "output_type": "stream",
          "name": "stdout",
          "text": [
            "[0]\ttrain-logloss:0.683098\tvalid-logloss:0.683194\n",
            "Multiple eval metrics have been passed: 'valid-logloss' will be used for early stopping.\n",
            "\n",
            "Will train until valid-logloss hasn't improved in 100 rounds.\n",
            "[300]\ttrain-logloss:0.214804\tvalid-logloss:0.229844\n",
            "[600]\ttrain-logloss:0.197381\tvalid-logloss:0.221391\n",
            "[900]\ttrain-logloss:0.187822\tvalid-logloss:0.219215\n",
            "[1200]\ttrain-logloss:0.179951\tvalid-logloss:0.218249\n",
            "[1500]\ttrain-logloss:0.173307\tvalid-logloss:0.217725\n",
            "[1800]\ttrain-logloss:0.166971\tvalid-logloss:0.217433\n",
            "[2100]\ttrain-logloss:0.161275\tvalid-logloss:0.217247\n",
            "[2400]\ttrain-logloss:0.155799\tvalid-logloss:0.217121\n",
            "Stopping. Best iteration:\n",
            "[2398]\ttrain-logloss:0.155839\tvalid-logloss:0.217119\n",
            "\n"
          ]
        },
        {
          "output_type": "stream",
          "name": "stderr",
          "text": [
            "\u001b[32m[I 2022-08-14 08:42:51,446]\u001b[0m Trial 87 finished with value: 0.7949144007898892 and parameters: {'lambda': 2.321286436044913, 'alpha': 0.012377721198450412, 'colsample_bytree': 0.5, 'subsample': 0.9, 'learning_rate': 0.015, 'max_depth': 8, 'min_child_weight': 61}. Best is trial 58 with value: 0.7953711156103191.\u001b[0m\n"
          ]
        },
        {
          "output_type": "stream",
          "name": "stdout",
          "text": [
            "[0]\ttrain-logloss:0.679842\tvalid-logloss:0.679963\n",
            "Multiple eval metrics have been passed: 'valid-logloss' will be used for early stopping.\n",
            "\n",
            "Will train until valid-logloss hasn't improved in 100 rounds.\n",
            "[300]\ttrain-logloss:0.210629\tvalid-logloss:0.226019\n",
            "[600]\ttrain-logloss:0.196477\tvalid-logloss:0.22024\n",
            "[900]\ttrain-logloss:0.187711\tvalid-logloss:0.2186\n",
            "[1200]\ttrain-logloss:0.180426\tvalid-logloss:0.21783\n",
            "[1500]\ttrain-logloss:0.173997\tvalid-logloss:0.217417\n",
            "[1800]\ttrain-logloss:0.168096\tvalid-logloss:0.217239\n",
            "[2100]\ttrain-logloss:0.162428\tvalid-logloss:0.217126\n",
            "Stopping. Best iteration:\n",
            "[2181]\ttrain-logloss:0.16093\tvalid-logloss:0.217095\n",
            "\n"
          ]
        },
        {
          "output_type": "stream",
          "name": "stderr",
          "text": [
            "\u001b[32m[I 2022-08-14 08:48:33,201]\u001b[0m Trial 88 finished with value: 0.7948472382469213 and parameters: {'lambda': 2.074902380615786, 'alpha': 4.27324781393887, 'colsample_bytree': 0.5, 'subsample': 0.9, 'learning_rate': 0.02, 'max_depth': 8, 'min_child_weight': 96}. Best is trial 58 with value: 0.7953711156103191.\u001b[0m\n"
          ]
        },
        {
          "output_type": "stream",
          "name": "stdout",
          "text": [
            "[0]\ttrain-logloss:0.679847\tvalid-logloss:0.679944\n",
            "Multiple eval metrics have been passed: 'valid-logloss' will be used for early stopping.\n",
            "\n",
            "Will train until valid-logloss hasn't improved in 100 rounds.\n",
            "[300]\ttrain-logloss:0.21442\tvalid-logloss:0.226318\n",
            "[600]\ttrain-logloss:0.201704\tvalid-logloss:0.220443\n",
            "[900]\ttrain-logloss:0.194\tvalid-logloss:0.218884\n",
            "[1200]\ttrain-logloss:0.187265\tvalid-logloss:0.21819\n",
            "[1500]\ttrain-logloss:0.181064\tvalid-logloss:0.217831\n",
            "Stopping. Best iteration:\n",
            "[1697]\ttrain-logloss:0.177271\tvalid-logloss:0.217664\n",
            "\n"
          ]
        },
        {
          "output_type": "stream",
          "name": "stderr",
          "text": [
            "\u001b[32m[I 2022-08-14 08:53:11,359]\u001b[0m Trial 89 finished with value: 0.7933621482829359 and parameters: {'lambda': 2.2573327325712333, 'alpha': 0.02997232058303957, 'colsample_bytree': 0.5, 'subsample': 0.5, 'learning_rate': 0.02, 'max_depth': 8, 'min_child_weight': 91}. Best is trial 58 with value: 0.7953711156103191.\u001b[0m\n"
          ]
        },
        {
          "output_type": "stream",
          "name": "stdout",
          "text": [
            "[0]\ttrain-logloss:0.683129\tvalid-logloss:0.683206\n",
            "Multiple eval metrics have been passed: 'valid-logloss' will be used for early stopping.\n",
            "\n",
            "Will train until valid-logloss hasn't improved in 100 rounds.\n",
            "[300]\ttrain-logloss:0.218339\tvalid-logloss:0.230663\n",
            "[600]\ttrain-logloss:0.202948\tvalid-logloss:0.221914\n",
            "[900]\ttrain-logloss:0.194554\tvalid-logloss:0.219454\n",
            "[1200]\ttrain-logloss:0.187923\tvalid-logloss:0.218414\n",
            "[1500]\ttrain-logloss:0.182002\tvalid-logloss:0.21786\n",
            "[1800]\ttrain-logloss:0.176641\tvalid-logloss:0.217537\n",
            "[2100]\ttrain-logloss:0.171654\tvalid-logloss:0.217373\n",
            "[2400]\ttrain-logloss:0.166795\tvalid-logloss:0.217202\n",
            "Stopping. Best iteration:\n",
            "[2559]\ttrain-logloss:0.164321\tvalid-logloss:0.217171\n",
            "\n"
          ]
        },
        {
          "output_type": "stream",
          "name": "stderr",
          "text": [
            "\u001b[32m[I 2022-08-14 08:59:51,347]\u001b[0m Trial 90 finished with value: 0.7938425785275558 and parameters: {'lambda': 3.550899629054167, 'alpha': 0.010147127345243145, 'colsample_bytree': 0.5, 'subsample': 0.8, 'learning_rate': 0.015, 'max_depth': 8, 'min_child_weight': 96}. Best is trial 58 with value: 0.7953711156103191.\u001b[0m\n"
          ]
        },
        {
          "output_type": "stream",
          "name": "stdout",
          "text": [
            "[0]\ttrain-logloss:0.676544\tvalid-logloss:0.676698\n",
            "Multiple eval metrics have been passed: 'valid-logloss' will be used for early stopping.\n",
            "\n",
            "Will train until valid-logloss hasn't improved in 100 rounds.\n",
            "[300]\ttrain-logloss:0.20339\tvalid-logloss:0.22358\n",
            "[600]\ttrain-logloss:0.188061\tvalid-logloss:0.219372\n",
            "[900]\ttrain-logloss:0.177193\tvalid-logloss:0.218112\n",
            "[1200]\ttrain-logloss:0.168018\tvalid-logloss:0.217609\n",
            "[1500]\ttrain-logloss:0.159898\tvalid-logloss:0.217349\n",
            "[1800]\ttrain-logloss:0.152366\tvalid-logloss:0.217276\n",
            "Stopping. Best iteration:\n",
            "[1761]\ttrain-logloss:0.153338\tvalid-logloss:0.217264\n",
            "\n"
          ]
        },
        {
          "output_type": "stream",
          "name": "stderr",
          "text": [
            "\u001b[32m[I 2022-08-14 09:04:39,692]\u001b[0m Trial 91 finished with value: 0.7932596429240111 and parameters: {'lambda': 1.7321691898516374, 'alpha': 5.979609737656327, 'colsample_bytree': 0.5, 'subsample': 0.9, 'learning_rate': 0.025, 'max_depth': 8, 'min_child_weight': 63}. Best is trial 58 with value: 0.7953711156103191.\u001b[0m\n"
          ]
        },
        {
          "output_type": "stream",
          "name": "stdout",
          "text": [
            "[0]\ttrain-logloss:0.679835\tvalid-logloss:0.679954\n",
            "Multiple eval metrics have been passed: 'valid-logloss' will be used for early stopping.\n",
            "\n",
            "Will train until valid-logloss hasn't improved in 100 rounds.\n",
            "[300]\ttrain-logloss:0.209226\tvalid-logloss:0.225743\n",
            "[600]\ttrain-logloss:0.194246\tvalid-logloss:0.220046\n",
            "[900]\ttrain-logloss:0.184593\tvalid-logloss:0.218416\n",
            "[1200]\ttrain-logloss:0.176496\tvalid-logloss:0.217692\n",
            "[1500]\ttrain-logloss:0.169624\tvalid-logloss:0.217396\n",
            "[1800]\ttrain-logloss:0.16314\tvalid-logloss:0.217204\n",
            "[2100]\ttrain-logloss:0.15718\tvalid-logloss:0.217084\n",
            "Stopping. Best iteration:\n",
            "[2211]\ttrain-logloss:0.15493\tvalid-logloss:0.217044\n",
            "\n"
          ]
        },
        {
          "output_type": "stream",
          "name": "stderr",
          "text": [
            "\u001b[32m[I 2022-08-14 09:10:26,315]\u001b[0m Trial 92 finished with value: 0.7937126294517154 and parameters: {'lambda': 3.6612505054161892, 'alpha': 3.3417526709735283, 'colsample_bytree': 0.5, 'subsample': 0.9, 'learning_rate': 0.02, 'max_depth': 8, 'min_child_weight': 75}. Best is trial 58 with value: 0.7953711156103191.\u001b[0m\n"
          ]
        },
        {
          "output_type": "stream",
          "name": "stdout",
          "text": [
            "[0]\ttrain-logloss:0.679811\tvalid-logloss:0.679931\n",
            "Multiple eval metrics have been passed: 'valid-logloss' will be used for early stopping.\n",
            "\n",
            "Will train until valid-logloss hasn't improved in 100 rounds.\n",
            "[300]\ttrain-logloss:0.209303\tvalid-logloss:0.225569\n",
            "[600]\ttrain-logloss:0.194545\tvalid-logloss:0.219989\n",
            "[900]\ttrain-logloss:0.185232\tvalid-logloss:0.218477\n",
            "[1200]\ttrain-logloss:0.177319\tvalid-logloss:0.21782\n",
            "[1500]\ttrain-logloss:0.170452\tvalid-logloss:0.217511\n",
            "[1800]\ttrain-logloss:0.16401\tvalid-logloss:0.217317\n",
            "Stopping. Best iteration:\n",
            "[1890]\ttrain-logloss:0.162112\tvalid-logloss:0.217278\n",
            "\n"
          ]
        },
        {
          "output_type": "stream",
          "name": "stderr",
          "text": [
            "\u001b[32m[I 2022-08-14 09:15:31,949]\u001b[0m Trial 93 finished with value: 0.7945252817146456 and parameters: {'lambda': 0.9770014991243481, 'alpha': 2.2007632007266658, 'colsample_bytree': 0.5, 'subsample': 0.9, 'learning_rate': 0.02, 'max_depth': 8, 'min_child_weight': 84}. Best is trial 58 with value: 0.7953711156103191.\u001b[0m\n"
          ]
        },
        {
          "output_type": "stream",
          "name": "stdout",
          "text": [
            "[0]\ttrain-logloss:0.673352\tvalid-logloss:0.673532\n",
            "Multiple eval metrics have been passed: 'valid-logloss' will be used for early stopping.\n",
            "\n",
            "Will train until valid-logloss hasn't improved in 100 rounds.\n",
            "[300]\ttrain-logloss:0.20369\tvalid-logloss:0.222711\n",
            "[600]\ttrain-logloss:0.189995\tvalid-logloss:0.219173\n",
            "[900]\ttrain-logloss:0.180108\tvalid-logloss:0.218178\n",
            "[1200]\ttrain-logloss:0.171502\tvalid-logloss:0.217785\n",
            "Stopping. Best iteration:\n",
            "[1325]\ttrain-logloss:0.168169\tvalid-logloss:0.217667\n",
            "\n"
          ]
        },
        {
          "output_type": "stream",
          "name": "stderr",
          "text": [
            "\u001b[32m[I 2022-08-14 09:19:17,582]\u001b[0m Trial 94 finished with value: 0.7929168511931617 and parameters: {'lambda': 1.6803596932899376, 'alpha': 9.451187412905437, 'colsample_bytree': 0.5, 'subsample': 0.9, 'learning_rate': 0.03, 'max_depth': 8, 'min_child_weight': 103}. Best is trial 58 with value: 0.7953711156103191.\u001b[0m\n"
          ]
        },
        {
          "output_type": "stream",
          "name": "stdout",
          "text": [
            "[0]\ttrain-logloss:0.67666\tvalid-logloss:0.676798\n",
            "Multiple eval metrics have been passed: 'valid-logloss' will be used for early stopping.\n",
            "\n",
            "Will train until valid-logloss hasn't improved in 100 rounds.\n",
            "[300]\ttrain-logloss:0.2115\tvalid-logloss:0.225124\n",
            "[600]\ttrain-logloss:0.198345\tvalid-logloss:0.22013\n",
            "[900]\ttrain-logloss:0.189785\tvalid-logloss:0.218748\n",
            "[1200]\ttrain-logloss:0.182337\tvalid-logloss:0.218098\n",
            "[1500]\ttrain-logloss:0.175996\tvalid-logloss:0.21781\n",
            "[1800]\ttrain-logloss:0.169778\tvalid-logloss:0.217683\n",
            "[2100]\ttrain-logloss:0.164071\tvalid-logloss:0.21758\n",
            "[2400]\ttrain-logloss:0.158629\tvalid-logloss:0.21758\n",
            "Stopping. Best iteration:\n",
            "[2312]\ttrain-logloss:0.160152\tvalid-logloss:0.217548\n",
            "\n"
          ]
        },
        {
          "output_type": "stream",
          "name": "stderr",
          "text": [
            "\u001b[32m[I 2022-08-14 09:24:54,984]\u001b[0m Trial 95 finished with value: 0.7931992147702844 and parameters: {'lambda': 9.810976496905981, 'alpha': 0.013524897143236776, 'colsample_bytree': 1.0, 'subsample': 0.9, 'learning_rate': 0.025, 'max_depth': 7, 'min_child_weight': 125}. Best is trial 58 with value: 0.7953711156103191.\u001b[0m\n"
          ]
        },
        {
          "output_type": "stream",
          "name": "stdout",
          "text": [
            "[0]\ttrain-logloss:0.68313\tvalid-logloss:0.683222\n",
            "Multiple eval metrics have been passed: 'valid-logloss' will be used for early stopping.\n",
            "\n",
            "Will train until valid-logloss hasn't improved in 100 rounds.\n",
            "[300]\ttrain-logloss:0.21551\tvalid-logloss:0.230461\n",
            "[600]\ttrain-logloss:0.198412\tvalid-logloss:0.221726\n",
            "[900]\ttrain-logloss:0.189172\tvalid-logloss:0.219459\n",
            "[1200]\ttrain-logloss:0.181744\tvalid-logloss:0.218405\n",
            "[1500]\ttrain-logloss:0.175514\tvalid-logloss:0.217846\n",
            "[1800]\ttrain-logloss:0.169788\tvalid-logloss:0.217477\n",
            "[2100]\ttrain-logloss:0.164311\tvalid-logloss:0.217203\n",
            "[2400]\ttrain-logloss:0.159229\tvalid-logloss:0.217025\n",
            "[2700]\ttrain-logloss:0.154408\tvalid-logloss:0.216981\n",
            "[3000]\ttrain-logloss:0.149618\tvalid-logloss:0.216869\n",
            "[3300]\ttrain-logloss:0.145193\tvalid-logloss:0.216828\n",
            "[3600]\ttrain-logloss:0.140764\tvalid-logloss:0.216805\n",
            "Stopping. Best iteration:\n",
            "[3550]\ttrain-logloss:0.14152\tvalid-logloss:0.21679\n",
            "\n"
          ]
        },
        {
          "output_type": "stream",
          "name": "stderr",
          "text": [
            "\u001b[32m[I 2022-08-14 09:33:51,497]\u001b[0m Trial 96 finished with value: 0.7947317023912729 and parameters: {'lambda': 3.067414851372117, 'alpha': 5.570957799434619, 'colsample_bytree': 0.5, 'subsample': 0.9, 'learning_rate': 0.015, 'max_depth': 8, 'min_child_weight': 54}. Best is trial 58 with value: 0.7953711156103191.\u001b[0m\n"
          ]
        },
        {
          "output_type": "stream",
          "name": "stdout",
          "text": [
            "[0]\ttrain-logloss:0.686478\tvalid-logloss:0.686528\n",
            "Multiple eval metrics have been passed: 'valid-logloss' will be used for early stopping.\n",
            "\n",
            "Will train until valid-logloss hasn't improved in 100 rounds.\n",
            "[300]\ttrain-logloss:0.237883\tvalid-logloss:0.2463\n",
            "[600]\ttrain-logloss:0.213681\tvalid-logloss:0.226777\n",
            "[900]\ttrain-logloss:0.205072\tvalid-logloss:0.222472\n",
            "[1200]\ttrain-logloss:0.199291\tvalid-logloss:0.220533\n",
            "[1500]\ttrain-logloss:0.194661\tvalid-logloss:0.219464\n",
            "[1800]\ttrain-logloss:0.190457\tvalid-logloss:0.218754\n",
            "[2100]\ttrain-logloss:0.18658\tvalid-logloss:0.218258\n",
            "[2400]\ttrain-logloss:0.182993\tvalid-logloss:0.217938\n",
            "[2700]\ttrain-logloss:0.179708\tvalid-logloss:0.217739\n",
            "[3000]\ttrain-logloss:0.176581\tvalid-logloss:0.217543\n",
            "[3300]\ttrain-logloss:0.173491\tvalid-logloss:0.217401\n",
            "[3600]\ttrain-logloss:0.170696\tvalid-logloss:0.217275\n",
            "[3900]\ttrain-logloss:0.167948\tvalid-logloss:0.217176\n",
            "[4200]\ttrain-logloss:0.165138\tvalid-logloss:0.217095\n",
            "Stopping. Best iteration:\n",
            "[4197]\ttrain-logloss:0.165167\tvalid-logloss:0.217093\n",
            "\n"
          ]
        },
        {
          "output_type": "stream",
          "name": "stderr",
          "text": [
            "\u001b[32m[I 2022-08-14 09:43:36,860]\u001b[0m Trial 97 finished with value: 0.794794299794604 and parameters: {'lambda': 0.15317280046978893, 'alpha': 0.8934256326428722, 'colsample_bytree': 0.6, 'subsample': 0.8, 'learning_rate': 0.01, 'max_depth': 7, 'min_child_weight': 66}. Best is trial 58 with value: 0.7953711156103191.\u001b[0m\n"
          ]
        },
        {
          "output_type": "stream",
          "name": "stdout",
          "text": [
            "[0]\ttrain-logloss:0.686498\tvalid-logloss:0.686549\n",
            "Multiple eval metrics have been passed: 'valid-logloss' will be used for early stopping.\n",
            "\n",
            "Will train until valid-logloss hasn't improved in 100 rounds.\n",
            "[300]\ttrain-logloss:0.238503\tvalid-logloss:0.246758\n",
            "[600]\ttrain-logloss:0.214384\tvalid-logloss:0.227078\n",
            "[900]\ttrain-logloss:0.205832\tvalid-logloss:0.222683\n",
            "[1200]\ttrain-logloss:0.200004\tvalid-logloss:0.220668\n",
            "[1500]\ttrain-logloss:0.195349\tvalid-logloss:0.219553\n",
            "[1800]\ttrain-logloss:0.191141\tvalid-logloss:0.218792\n",
            "[2100]\ttrain-logloss:0.18736\tvalid-logloss:0.218304\n",
            "[2400]\ttrain-logloss:0.183776\tvalid-logloss:0.217989\n",
            "[2700]\ttrain-logloss:0.180547\tvalid-logloss:0.217742\n",
            "[3000]\ttrain-logloss:0.17733\tvalid-logloss:0.217548\n",
            "[3300]\ttrain-logloss:0.174253\tvalid-logloss:0.217413\n",
            "[3600]\ttrain-logloss:0.171372\tvalid-logloss:0.21732\n",
            "[3900]\ttrain-logloss:0.168559\tvalid-logloss:0.217214\n",
            "[4200]\ttrain-logloss:0.165726\tvalid-logloss:0.217144\n",
            "Stopping. Best iteration:\n",
            "[4354]\ttrain-logloss:0.164286\tvalid-logloss:0.217107\n",
            "\n"
          ]
        },
        {
          "output_type": "stream",
          "name": "stderr",
          "text": [
            "\u001b[32m[I 2022-08-14 09:53:43,629]\u001b[0m Trial 98 finished with value: 0.7946222226057015 and parameters: {'lambda': 5.454102084676547, 'alpha': 0.5950808157878608, 'colsample_bytree': 0.6, 'subsample': 0.8, 'learning_rate': 0.01, 'max_depth': 7, 'min_child_weight': 67}. Best is trial 58 with value: 0.7953711156103191.\u001b[0m\n"
          ]
        },
        {
          "output_type": "stream",
          "name": "stdout",
          "text": [
            "[0]\ttrain-logloss:0.686483\tvalid-logloss:0.686532\n",
            "Multiple eval metrics have been passed: 'valid-logloss' will be used for early stopping.\n",
            "\n",
            "Will train until valid-logloss hasn't improved in 100 rounds.\n",
            "[300]\ttrain-logloss:0.238286\tvalid-logloss:0.246507\n",
            "[600]\ttrain-logloss:0.214279\tvalid-logloss:0.226914\n",
            "[900]\ttrain-logloss:0.205947\tvalid-logloss:0.222599\n",
            "[1200]\ttrain-logloss:0.200272\tvalid-logloss:0.220639\n",
            "[1500]\ttrain-logloss:0.195824\tvalid-logloss:0.219512\n",
            "[1800]\ttrain-logloss:0.191776\tvalid-logloss:0.218783\n",
            "[2100]\ttrain-logloss:0.188162\tvalid-logloss:0.218314\n",
            "[2400]\ttrain-logloss:0.184721\tvalid-logloss:0.21798\n",
            "[2700]\ttrain-logloss:0.181585\tvalid-logloss:0.217765\n",
            "[3000]\ttrain-logloss:0.178603\tvalid-logloss:0.21756\n",
            "[3300]\ttrain-logloss:0.175682\tvalid-logloss:0.217407\n",
            "[3600]\ttrain-logloss:0.172933\tvalid-logloss:0.217291\n",
            "[3900]\ttrain-logloss:0.170271\tvalid-logloss:0.2172\n",
            "[4200]\ttrain-logloss:0.167559\tvalid-logloss:0.217148\n",
            "Stopping. Best iteration:\n",
            "[4156]\ttrain-logloss:0.167925\tvalid-logloss:0.217139\n",
            "\n"
          ]
        },
        {
          "output_type": "stream",
          "name": "stderr",
          "text": [
            "\u001b[32m[I 2022-08-14 10:03:24,483]\u001b[0m Trial 99 finished with value: 0.7941889560916399 and parameters: {'lambda': 0.34337791530443534, 'alpha': 0.9978144985391355, 'colsample_bytree': 0.6, 'subsample': 0.8, 'learning_rate': 0.01, 'max_depth': 7, 'min_child_weight': 77}. Best is trial 58 with value: 0.7953711156103191.\u001b[0m\n"
          ]
        }
      ]
    }
  ],
  "metadata": {
    "accelerator": "GPU",
    "colab": {
      "collapsed_sections": [],
      "machine_shape": "hm",
      "name": "Amex LGBM_fin_pd_V20.ipynb",
      "provenance": [],
      "include_colab_link": true
    },
    "gpuClass": "standard",
    "kernelspec": {
      "display_name": "Python 3",
      "language": "python",
      "name": "python3"
    },
    "language_info": {
      "codemirror_mode": {
        "name": "ipython",
        "version": 3
      },
      "file_extension": ".py",
      "mimetype": "text/x-python",
      "name": "python",
      "nbconvert_exporter": "python",
      "pygments_lexer": "ipython3",
      "version": "3.7.12"
    }
  },
  "nbformat": 4,
  "nbformat_minor": 0
}