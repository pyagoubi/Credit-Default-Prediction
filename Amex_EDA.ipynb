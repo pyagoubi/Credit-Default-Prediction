{
  "nbformat": 4,
  "nbformat_minor": 0,
  "metadata": {
    "colab": {
      "name": "Amex_EDA.ipynb",
      "provenance": [],
      "machine_shape": "hm",
      "authorship_tag": "ABX9TyOXNDx/uOChHdvLLIYFoHZx",
      "include_colab_link": true
    },
    "kernelspec": {
      "name": "python3",
      "display_name": "Python 3"
    },
    "language_info": {
      "name": "python"
    },
    "gpuClass": "standard"
  },
  "cells": [
    {
      "cell_type": "markdown",
      "metadata": {
        "id": "view-in-github",
        "colab_type": "text"
      },
      "source": [
        "<a href=\"https://colab.research.google.com/github/pyagoubi/Credit-Default-Prediction/blob/main/Amex_EDA.ipynb\" target=\"_parent\"><img src=\"https://colab.research.google.com/assets/colab-badge.svg\" alt=\"Open In Colab\"/></a>"
      ]
    },
    {
      "cell_type": "code",
      "execution_count": 1,
      "metadata": {
        "colab": {
          "base_uri": "https://localhost:8080/"
        },
        "id": "NOfxaFcsZ47n",
        "outputId": "22075ec3-3b9b-41ba-de7c-c54e80816853"
      },
      "outputs": [
        {
          "output_type": "stream",
          "name": "stdout",
          "text": [
            "Drive already mounted at /content/drive; to attempt to forcibly remount, call drive.mount(\"/content/drive\", force_remount=True).\n"
          ]
        }
      ],
      "source": [
        "#Mounting Google Drive\n",
        "from google.colab import drive\n",
        "drive.mount('/content/drive')\n",
        "\n",
        "#set WD\n",
        "import os\n",
        "os.chdir('/content/drive/MyDrive/Amex/parquet')"
      ]
    },
    {
      "cell_type": "markdown",
      "source": [
        "# <b> Description </b>\n",
        "The objective of this competition is to predict the probability that a customer does not pay back their credit card balance amount in the future based on their monthly customer profile. The target binary variable is calculated by observing 18 months performance window after the latest credit card statement, and if the customer does not pay due amount in 120 days after their latest statement date it is considered a default event.\n",
        "\n",
        "The dataset contains aggregated profile features for each customer at each statement date. Features are anonymized and normalized, and fall into the following general categories:\n",
        "\n",
        "**`D_*`:** Delinquency variables  \n",
        "**`S_*`:** Spend variables  \n",
        "**`P_*`:** Payment variables  \n",
        "**`B_*`:** Balance variables  \n",
        "**`R_*`:** Risk variables  \n",
        "with the following features being categorical:\n",
        "\n",
        "['B_30', 'B_38', 'D_114', 'D_116', 'D_117', 'D_120', 'D_126', 'D_63', 'D_64', 'D_66', 'D_68']\n",
        "\n",
        "Your task is to predict, for each customer_ID, the probability of a future payment default (target = 1).\n",
        "\n",
        "Note that the negative class has been subsampled for this dataset at 5%, and thus receives a 20x weighting in the scoring metric."
      ],
      "metadata": {
        "id": "6fo4JthzZ9SX"
      }
    },
    {
      "cell_type": "markdown",
      "source": [
        "# <b> Import Libriaries and Read Data </b>"
      ],
      "metadata": {
        "id": "HWR0YzBOdZJN"
      }
    },
    {
      "cell_type": "code",
      "source": [
        "import pandas as pd\n",
        "import numpy as np\n",
        "import pickle, gc\n",
        "from matplotlib import pyplot as plt\n",
        "import plotly.graph_objects as go\n",
        "import seaborn as sns"
      ],
      "metadata": {
        "id": "p5rmEXZgaJ6_"
      },
      "execution_count": 2,
      "outputs": []
    },
    {
      "cell_type": "code",
      "source": [
        "def read_file(path = '', usecols = None):\n",
        "    # LOAD DATAFRAME\n",
        "    df = pd.read_parquet(path, columns=usecols)\n",
        "    df['customer_ID'] = df['customer_ID'].str[-16:].apply(int, base =16)\n",
        "    df.S_2 = pd.to_datetime( df.S_2 )\n",
        "    #print('shape of data:', df.shape)\n",
        "    return df"
      ],
      "metadata": {
        "id": "qTruUiEQb-i0"
      },
      "execution_count": 3,
      "outputs": []
    },
    {
      "cell_type": "code",
      "source": [
        "train = read_file(path='train.parquet')\n",
        "test = read_file(path='test.parquet')\n",
        "target =pd.read_csv('train_labels.csv')"
      ],
      "metadata": {
        "id": "43CptpraaOJv"
      },
      "execution_count": 4,
      "outputs": []
    },
    {
      "cell_type": "markdown",
      "source": [
        "# <b> Overview </b>"
      ],
      "metadata": {
        "id": "PXInbypPfxlK"
      }
    },
    {
      "cell_type": "code",
      "source": [
        "print('The train dataset has {:,d} rows and the test dataset has {:,d} rows. There are {} columns.'.format(train.shape[0], test.shape[0], train.shape[1]))"
      ],
      "metadata": {
        "colab": {
          "base_uri": "https://localhost:8080/"
        },
        "id": "w6Y-JOPxamcG",
        "outputId": "2d01ce88-d169-4438-a167-071435cdce30"
      },
      "execution_count": 5,
      "outputs": [
        {
          "output_type": "stream",
          "name": "stdout",
          "text": [
            "The train dataset has 5,531,451 rows and the test dataset has 11,363,762 rows. There are 190 columns.\n"
          ]
        }
      ]
    },
    {
      "cell_type": "code",
      "source": [
        "train.info(max_cols=300 ,show_counts = True )"
      ],
      "metadata": {
        "colab": {
          "base_uri": "https://localhost:8080/"
        },
        "id": "_PldUekoeZU3",
        "outputId": "25ed164d-c4e9-4871-b25c-6ebe7ce3a78c"
      },
      "execution_count": 6,
      "outputs": [
        {
          "output_type": "stream",
          "name": "stdout",
          "text": [
            "<class 'pandas.core.frame.DataFrame'>\n",
            "RangeIndex: 5531451 entries, 0 to 5531450\n",
            "Data columns (total 190 columns):\n",
            " #    Column       Non-Null Count    Dtype         \n",
            "---   ------       --------------    -----         \n",
            " 0    customer_ID  5531451 non-null  uint64        \n",
            " 1    S_2          5531451 non-null  datetime64[ns]\n",
            " 2    P_2          5485466 non-null  float32       \n",
            " 3    D_39         5531451 non-null  int16         \n",
            " 4    B_1          5531451 non-null  float32       \n",
            " 5    B_2          5529435 non-null  float32       \n",
            " 6    R_1          5531451 non-null  float32       \n",
            " 7    S_3          4510907 non-null  float32       \n",
            " 8    D_41         5529435 non-null  float32       \n",
            " 9    B_3          5529435 non-null  float32       \n",
            " 10   D_42         791314 non-null   float32       \n",
            " 11   D_43         3873055 non-null  float32       \n",
            " 12   D_44         5531451 non-null  int8          \n",
            " 13   B_4          5531451 non-null  int16         \n",
            " 14   D_45         5529434 non-null  float32       \n",
            " 15   B_5          5531451 non-null  float32       \n",
            " 16   R_2          5531451 non-null  int8          \n",
            " 17   D_46         4319752 non-null  float32       \n",
            " 18   D_47         5531451 non-null  float32       \n",
            " 19   D_48         4812726 non-null  float32       \n",
            " 20   D_49         5531451 non-null  int16         \n",
            " 21   B_6          5531218 non-null  float32       \n",
            " 22   B_7          5531451 non-null  float32       \n",
            " 23   B_8          5509183 non-null  float32       \n",
            " 24   D_50         2389049 non-null  float32       \n",
            " 25   D_51         5531451 non-null  int8          \n",
            " 26   B_9          5531451 non-null  float32       \n",
            " 27   R_3          5531451 non-null  int8          \n",
            " 28   D_52         5501888 non-null  float32       \n",
            " 29   P_3          5229959 non-null  float32       \n",
            " 30   B_10         5531451 non-null  float32       \n",
            " 31   D_53         1446866 non-null  float32       \n",
            " 32   S_5          5531451 non-null  float32       \n",
            " 33   B_11         5531451 non-null  float32       \n",
            " 34   S_6          5531451 non-null  int8          \n",
            " 35   D_54         5529435 non-null  float32       \n",
            " 36   R_4          5531451 non-null  int8          \n",
            " 37   S_7          4510907 non-null  float32       \n",
            " 38   B_12         5531451 non-null  float32       \n",
            " 39   S_8          5531451 non-null  int16         \n",
            " 40   D_55         5346648 non-null  float32       \n",
            " 41   D_56         2540508 non-null  float32       \n",
            " 42   B_13         5481932 non-null  float32       \n",
            " 43   R_5          5531451 non-null  int8          \n",
            " 44   D_58         5531451 non-null  float32       \n",
            " 45   S_9          2597808 non-null  float32       \n",
            " 46   B_14         5531451 non-null  float32       \n",
            " 47   D_59         5531451 non-null  int8          \n",
            " 48   D_60         5531451 non-null  float32       \n",
            " 49   D_61         4933399 non-null  float32       \n",
            " 50   B_15         5524528 non-null  float32       \n",
            " 51   S_11         5531451 non-null  int8          \n",
            " 52   D_62         4773290 non-null  float32       \n",
            " 53   D_63         5531451 non-null  int8          \n",
            " 54   D_64         5531451 non-null  int8          \n",
            " 55   D_65         5531451 non-null  int16         \n",
            " 56   B_16         5531451 non-null  int8          \n",
            " 57   B_17         2393853 non-null  float32       \n",
            " 58   B_18         5531451 non-null  float32       \n",
            " 59   B_19         5531451 non-null  int8          \n",
            " 60   D_66         5531451 non-null  int8          \n",
            " 61   B_20         5531451 non-null  int8          \n",
            " 62   D_68         5531451 non-null  int8          \n",
            " 63   S_12         5531451 non-null  float32       \n",
            " 64   R_6          5531451 non-null  float32       \n",
            " 65   S_13         5531451 non-null  int16         \n",
            " 66   B_21         5531451 non-null  float32       \n",
            " 67   D_69         5336978 non-null  float32       \n",
            " 68   B_22         5531451 non-null  int8          \n",
            " 69   D_70         5531451 non-null  int8          \n",
            " 70   D_71         5531451 non-null  float32       \n",
            " 71   D_72         5531451 non-null  int8          \n",
            " 72   S_15         5531451 non-null  int8          \n",
            " 73   B_23         5531451 non-null  float32       \n",
            " 74   D_73         55856 non-null    float32       \n",
            " 75   P_4          5531451 non-null  float32       \n",
            " 76   D_74         5531451 non-null  int8          \n",
            " 77   D_75         5531451 non-null  int8          \n",
            " 78   D_76         622497 non-null   float32       \n",
            " 79   B_24         5531451 non-null  float32       \n",
            " 80   R_7          5531450 non-null  float32       \n",
            " 81   D_77         3017539 non-null  float32       \n",
            " 82   B_25         5524528 non-null  float32       \n",
            " 83   B_26         5529435 non-null  float32       \n",
            " 84   D_78         5531451 non-null  int8          \n",
            " 85   D_79         5531451 non-null  int8          \n",
            " 86   R_8          5531451 non-null  int8          \n",
            " 87   R_9          5531451 non-null  int8          \n",
            " 88   S_16         5531451 non-null  float32       \n",
            " 89   D_80         5531451 non-null  int8          \n",
            " 90   R_10         5531451 non-null  int8          \n",
            " 91   R_11         5531451 non-null  int8          \n",
            " 92   B_27         5529435 non-null  float32       \n",
            " 93   D_81         5531451 non-null  int8          \n",
            " 94   D_82         5531451 non-null  int8          \n",
            " 95   S_17         5531451 non-null  float32       \n",
            " 96   R_12         5531395 non-null  float32       \n",
            " 97   B_28         5531451 non-null  float32       \n",
            " 98   R_13         5531451 non-null  int8          \n",
            " 99   D_83         5531451 non-null  int8          \n",
            " 100  R_14         5531450 non-null  float32       \n",
            " 101  R_15         5531451 non-null  int8          \n",
            " 102  D_84         5531451 non-null  int8          \n",
            " 103  R_16         5531451 non-null  int8          \n",
            " 104  B_29         381416 non-null   float32       \n",
            " 105  B_30         5531451 non-null  int8          \n",
            " 106  S_18         5531451 non-null  int8          \n",
            " 107  D_86         5531451 non-null  int8          \n",
            " 108  D_87         5531451 non-null  int8          \n",
            " 109  R_17         5531451 non-null  int8          \n",
            " 110  R_18         5531451 non-null  int8          \n",
            " 111  D_88         6004 non-null     float32       \n",
            " 112  B_31         5531451 non-null  int8          \n",
            " 113  S_19         5531451 non-null  float32       \n",
            " 114  R_19         5531451 non-null  int8          \n",
            " 115  B_32         5531451 non-null  int8          \n",
            " 116  S_20         5531451 non-null  int8          \n",
            " 117  R_20         5531451 non-null  int8          \n",
            " 118  R_21         5531451 non-null  int8          \n",
            " 119  B_33         5531451 non-null  int8          \n",
            " 120  D_89         5531451 non-null  int8          \n",
            " 121  R_22         5531451 non-null  int8          \n",
            " 122  R_23         5531451 non-null  int8          \n",
            " 123  D_91         5531451 non-null  int8          \n",
            " 124  D_92         5531451 non-null  int8          \n",
            " 125  D_93         5531451 non-null  int8          \n",
            " 126  D_94         5531451 non-null  int8          \n",
            " 127  R_24         5531451 non-null  int8          \n",
            " 128  R_25         5531451 non-null  int8          \n",
            " 129  D_96         5531451 non-null  int8          \n",
            " 130  S_22         5512427 non-null  float32       \n",
            " 131  S_23         5531006 non-null  float32       \n",
            " 132  S_24         5512858 non-null  float32       \n",
            " 133  S_25         5518604 non-null  float32       \n",
            " 134  S_26         5530817 non-null  float32       \n",
            " 135  D_102        5490796 non-null  float32       \n",
            " 136  D_103        5531451 non-null  int8          \n",
            " 137  D_104        5429903 non-null  float32       \n",
            " 138  D_105        2510020 non-null  float32       \n",
            " 139  D_106        5531451 non-null  int16         \n",
            " 140  D_107        5531451 non-null  int8          \n",
            " 141  B_36         5531451 non-null  float32       \n",
            " 142  B_37         5531395 non-null  float32       \n",
            " 143  R_26         5531451 non-null  int16         \n",
            " 144  R_27         5402748 non-null  float32       \n",
            " 145  B_38         5531451 non-null  int8          \n",
            " 146  D_108        5531451 non-null  int8          \n",
            " 147  D_109        5531451 non-null  int8          \n",
            " 148  D_110        31334 non-null    float32       \n",
            " 149  D_111        5531451 non-null  int8          \n",
            " 150  B_39         33632 non-null    float32       \n",
            " 151  D_112        5528801 non-null  float32       \n",
            " 152  B_40         5531398 non-null  float32       \n",
            " 153  S_27         4130516 non-null  float32       \n",
            " 154  D_113        5531451 non-null  int8          \n",
            " 155  D_114        5531451 non-null  int8          \n",
            " 156  D_115        5354735 non-null  float32       \n",
            " 157  D_116        5531451 non-null  int8          \n",
            " 158  D_117        5531451 non-null  int8          \n",
            " 159  D_118        5354735 non-null  float32       \n",
            " 160  D_119        5354735 non-null  float32       \n",
            " 161  D_120        5531451 non-null  int8          \n",
            " 162  D_121        5354735 non-null  float32       \n",
            " 163  D_122        5531451 non-null  int8          \n",
            " 164  D_123        5531451 non-null  int8          \n",
            " 165  D_124        5531451 non-null  int16         \n",
            " 166  D_125        5531451 non-null  int8          \n",
            " 167  D_126        5531451 non-null  int8          \n",
            " 168  D_127        5531451 non-null  int8          \n",
            " 169  D_128        5429903 non-null  float32       \n",
            " 170  D_129        5531451 non-null  int8          \n",
            " 171  B_41         5531451 non-null  int8          \n",
            " 172  B_42         71478 non-null    float32       \n",
            " 173  D_130        5429903 non-null  float32       \n",
            " 174  D_131        5429903 non-null  float32       \n",
            " 175  D_132        542577 non-null   float32       \n",
            " 176  D_133        5488735 non-null  float32       \n",
            " 177  R_28         5531451 non-null  int8          \n",
            " 178  D_134        194699 non-null   float32       \n",
            " 179  D_135        5531451 non-null  int8          \n",
            " 180  D_136        5531451 non-null  int8          \n",
            " 181  D_137        5531451 non-null  int8          \n",
            " 182  D_138        5531451 non-null  int8          \n",
            " 183  D_139        5531451 non-null  int8          \n",
            " 184  D_140        5531451 non-null  int8          \n",
            " 185  D_141        5429903 non-null  float32       \n",
            " 186  D_142        944408 non-null   float32       \n",
            " 187  D_143        5531451 non-null  int8          \n",
            " 188  D_144        5490724 non-null  float32       \n",
            " 189  D_145        5531451 non-null  int8          \n",
            "dtypes: datetime64[ns](1), float32(93), int16(9), int8(86), uint64(1)\n",
            "memory usage: 2.5 GB\n"
          ]
        }
      ]
    },
    {
      "cell_type": "markdown",
      "source": [
        "# <b>Analysing Null values</b>"
      ],
      "metadata": {
        "id": "5jimdnyHg4DK"
      }
    },
    {
      "cell_type": "code",
      "source": [
        "missing = pd.DataFrame(columns = ['% Missing values'],data = 100*round(train.isnull().sum().sort_values(ascending = False)/len(train),2))"
      ],
      "metadata": {
        "id": "b0JufHiFf-SP"
      },
      "execution_count": 7,
      "outputs": []
    },
    {
      "cell_type": "code",
      "source": [
        "pd.set_option(\"display.max_rows\", 30)"
      ],
      "metadata": {
        "id": "DsHQ_gVxivY4"
      },
      "execution_count": 8,
      "outputs": []
    },
    {
      "cell_type": "code",
      "source": [
        "display(missing)"
      ],
      "metadata": {
        "colab": {
          "base_uri": "https://localhost:8080/",
          "height": 424
        },
        "id": "on97AdqSieD4",
        "outputId": "24609c17-3501-4608-84bf-2737ce39004d"
      },
      "execution_count": 9,
      "outputs": [
        {
          "output_type": "display_data",
          "data": {
            "text/plain": [
              "       % Missing values\n",
              "D_88              100.0\n",
              "D_110              99.0\n",
              "B_39               99.0\n",
              "D_73               99.0\n",
              "B_42               99.0\n",
              "...                 ...\n",
              "D_78                0.0\n",
              "D_79                0.0\n",
              "R_8                 0.0\n",
              "R_9                 0.0\n",
              "D_145               0.0\n",
              "\n",
              "[190 rows x 1 columns]"
            ],
            "text/html": [
              "\n",
              "  <div id=\"df-d887bd1b-1ebd-4820-98be-c8024fbe4d9e\">\n",
              "    <div class=\"colab-df-container\">\n",
              "      <div>\n",
              "<style scoped>\n",
              "    .dataframe tbody tr th:only-of-type {\n",
              "        vertical-align: middle;\n",
              "    }\n",
              "\n",
              "    .dataframe tbody tr th {\n",
              "        vertical-align: top;\n",
              "    }\n",
              "\n",
              "    .dataframe thead th {\n",
              "        text-align: right;\n",
              "    }\n",
              "</style>\n",
              "<table border=\"1\" class=\"dataframe\">\n",
              "  <thead>\n",
              "    <tr style=\"text-align: right;\">\n",
              "      <th></th>\n",
              "      <th>% Missing values</th>\n",
              "    </tr>\n",
              "  </thead>\n",
              "  <tbody>\n",
              "    <tr>\n",
              "      <th>D_88</th>\n",
              "      <td>100.0</td>\n",
              "    </tr>\n",
              "    <tr>\n",
              "      <th>D_110</th>\n",
              "      <td>99.0</td>\n",
              "    </tr>\n",
              "    <tr>\n",
              "      <th>B_39</th>\n",
              "      <td>99.0</td>\n",
              "    </tr>\n",
              "    <tr>\n",
              "      <th>D_73</th>\n",
              "      <td>99.0</td>\n",
              "    </tr>\n",
              "    <tr>\n",
              "      <th>B_42</th>\n",
              "      <td>99.0</td>\n",
              "    </tr>\n",
              "    <tr>\n",
              "      <th>...</th>\n",
              "      <td>...</td>\n",
              "    </tr>\n",
              "    <tr>\n",
              "      <th>D_78</th>\n",
              "      <td>0.0</td>\n",
              "    </tr>\n",
              "    <tr>\n",
              "      <th>D_79</th>\n",
              "      <td>0.0</td>\n",
              "    </tr>\n",
              "    <tr>\n",
              "      <th>R_8</th>\n",
              "      <td>0.0</td>\n",
              "    </tr>\n",
              "    <tr>\n",
              "      <th>R_9</th>\n",
              "      <td>0.0</td>\n",
              "    </tr>\n",
              "    <tr>\n",
              "      <th>D_145</th>\n",
              "      <td>0.0</td>\n",
              "    </tr>\n",
              "  </tbody>\n",
              "</table>\n",
              "<p>190 rows × 1 columns</p>\n",
              "</div>\n",
              "      <button class=\"colab-df-convert\" onclick=\"convertToInteractive('df-d887bd1b-1ebd-4820-98be-c8024fbe4d9e')\"\n",
              "              title=\"Convert this dataframe to an interactive table.\"\n",
              "              style=\"display:none;\">\n",
              "        \n",
              "  <svg xmlns=\"http://www.w3.org/2000/svg\" height=\"24px\"viewBox=\"0 0 24 24\"\n",
              "       width=\"24px\">\n",
              "    <path d=\"M0 0h24v24H0V0z\" fill=\"none\"/>\n",
              "    <path d=\"M18.56 5.44l.94 2.06.94-2.06 2.06-.94-2.06-.94-.94-2.06-.94 2.06-2.06.94zm-11 1L8.5 8.5l.94-2.06 2.06-.94-2.06-.94L8.5 2.5l-.94 2.06-2.06.94zm10 10l.94 2.06.94-2.06 2.06-.94-2.06-.94-.94-2.06-.94 2.06-2.06.94z\"/><path d=\"M17.41 7.96l-1.37-1.37c-.4-.4-.92-.59-1.43-.59-.52 0-1.04.2-1.43.59L10.3 9.45l-7.72 7.72c-.78.78-.78 2.05 0 2.83L4 21.41c.39.39.9.59 1.41.59.51 0 1.02-.2 1.41-.59l7.78-7.78 2.81-2.81c.8-.78.8-2.07 0-2.86zM5.41 20L4 18.59l7.72-7.72 1.47 1.35L5.41 20z\"/>\n",
              "  </svg>\n",
              "      </button>\n",
              "      \n",
              "  <style>\n",
              "    .colab-df-container {\n",
              "      display:flex;\n",
              "      flex-wrap:wrap;\n",
              "      gap: 12px;\n",
              "    }\n",
              "\n",
              "    .colab-df-convert {\n",
              "      background-color: #E8F0FE;\n",
              "      border: none;\n",
              "      border-radius: 50%;\n",
              "      cursor: pointer;\n",
              "      display: none;\n",
              "      fill: #1967D2;\n",
              "      height: 32px;\n",
              "      padding: 0 0 0 0;\n",
              "      width: 32px;\n",
              "    }\n",
              "\n",
              "    .colab-df-convert:hover {\n",
              "      background-color: #E2EBFA;\n",
              "      box-shadow: 0px 1px 2px rgba(60, 64, 67, 0.3), 0px 1px 3px 1px rgba(60, 64, 67, 0.15);\n",
              "      fill: #174EA6;\n",
              "    }\n",
              "\n",
              "    [theme=dark] .colab-df-convert {\n",
              "      background-color: #3B4455;\n",
              "      fill: #D2E3FC;\n",
              "    }\n",
              "\n",
              "    [theme=dark] .colab-df-convert:hover {\n",
              "      background-color: #434B5C;\n",
              "      box-shadow: 0px 1px 3px 1px rgba(0, 0, 0, 0.15);\n",
              "      filter: drop-shadow(0px 1px 2px rgba(0, 0, 0, 0.3));\n",
              "      fill: #FFFFFF;\n",
              "    }\n",
              "  </style>\n",
              "\n",
              "      <script>\n",
              "        const buttonEl =\n",
              "          document.querySelector('#df-d887bd1b-1ebd-4820-98be-c8024fbe4d9e button.colab-df-convert');\n",
              "        buttonEl.style.display =\n",
              "          google.colab.kernel.accessAllowed ? 'block' : 'none';\n",
              "\n",
              "        async function convertToInteractive(key) {\n",
              "          const element = document.querySelector('#df-d887bd1b-1ebd-4820-98be-c8024fbe4d9e');\n",
              "          const dataTable =\n",
              "            await google.colab.kernel.invokeFunction('convertToInteractive',\n",
              "                                                     [key], {});\n",
              "          if (!dataTable) return;\n",
              "\n",
              "          const docLinkHtml = 'Like what you see? Visit the ' +\n",
              "            '<a target=\"_blank\" href=https://colab.research.google.com/notebooks/data_table.ipynb>data table notebook</a>'\n",
              "            + ' to learn more about interactive tables.';\n",
              "          element.innerHTML = '';\n",
              "          dataTable['output_type'] = 'display_data';\n",
              "          await google.colab.output.renderOutput(dataTable, element);\n",
              "          const docLink = document.createElement('div');\n",
              "          docLink.innerHTML = docLinkHtml;\n",
              "          element.appendChild(docLink);\n",
              "        }\n",
              "      </script>\n",
              "    </div>\n",
              "  </div>\n",
              "  "
            ]
          },
          "metadata": {}
        }
      ]
    },
    {
      "cell_type": "markdown",
      "source": [
        "Insight: There are variables with a high number of missing values, these might have to be dropped."
      ],
      "metadata": {
        "id": "j-pWi4sRjZmG"
      }
    },
    {
      "cell_type": "code",
      "source": [
        "missing[missing['% Missing values']>70].shape"
      ],
      "metadata": {
        "colab": {
          "base_uri": "https://localhost:8080/"
        },
        "id": "i9iM9tKHioHv",
        "outputId": "cb1d68e7-5d92-4d11-a5ec-0edb6aa8cec8"
      },
      "execution_count": 10,
      "outputs": [
        {
          "output_type": "execute_result",
          "data": {
            "text/plain": [
              "(12, 1)"
            ]
          },
          "metadata": {},
          "execution_count": 10
        }
      ]
    },
    {
      "cell_type": "code",
      "source": [
        "print('There are 12 variables with more than 70% missing values.')"
      ],
      "metadata": {
        "colab": {
          "base_uri": "https://localhost:8080/"
        },
        "id": "Yop3Z__2jzLP",
        "outputId": "46ccfa79-3840-48a4-82d8-e380df01ec06"
      },
      "execution_count": 11,
      "outputs": [
        {
          "output_type": "stream",
          "name": "stdout",
          "text": [
            "There are 12 variables with more than 70% missing values.\n"
          ]
        }
      ]
    },
    {
      "cell_type": "markdown",
      "source": [
        "# <b>Target variable</b>"
      ],
      "metadata": {
        "id": "L4xyRlgkkLmF"
      }
    },
    {
      "cell_type": "code",
      "source": [
        "tmp"
      ],
      "metadata": {
        "colab": {
          "base_uri": "https://localhost:8080/",
          "height": 112
        },
        "id": "1ITBnPv5v4lb",
        "outputId": "f628c9f9-8fc3-4fda-d2f9-45c938eb0b3b"
      },
      "execution_count": 22,
      "outputs": [
        {
          "output_type": "execute_result",
          "data": {
            "text/plain": [
              "   index     target\n",
              "0      0  74.106639\n",
              "1      1  25.893361"
            ],
            "text/html": [
              "\n",
              "  <div id=\"df-cf2b4a5f-af36-4417-9ea4-44f3e6f367d2\">\n",
              "    <div class=\"colab-df-container\">\n",
              "      <div>\n",
              "<style scoped>\n",
              "    .dataframe tbody tr th:only-of-type {\n",
              "        vertical-align: middle;\n",
              "    }\n",
              "\n",
              "    .dataframe tbody tr th {\n",
              "        vertical-align: top;\n",
              "    }\n",
              "\n",
              "    .dataframe thead th {\n",
              "        text-align: right;\n",
              "    }\n",
              "</style>\n",
              "<table border=\"1\" class=\"dataframe\">\n",
              "  <thead>\n",
              "    <tr style=\"text-align: right;\">\n",
              "      <th></th>\n",
              "      <th>index</th>\n",
              "      <th>target</th>\n",
              "    </tr>\n",
              "  </thead>\n",
              "  <tbody>\n",
              "    <tr>\n",
              "      <th>0</th>\n",
              "      <td>0</td>\n",
              "      <td>74.106639</td>\n",
              "    </tr>\n",
              "    <tr>\n",
              "      <th>1</th>\n",
              "      <td>1</td>\n",
              "      <td>25.893361</td>\n",
              "    </tr>\n",
              "  </tbody>\n",
              "</table>\n",
              "</div>\n",
              "      <button class=\"colab-df-convert\" onclick=\"convertToInteractive('df-cf2b4a5f-af36-4417-9ea4-44f3e6f367d2')\"\n",
              "              title=\"Convert this dataframe to an interactive table.\"\n",
              "              style=\"display:none;\">\n",
              "        \n",
              "  <svg xmlns=\"http://www.w3.org/2000/svg\" height=\"24px\"viewBox=\"0 0 24 24\"\n",
              "       width=\"24px\">\n",
              "    <path d=\"M0 0h24v24H0V0z\" fill=\"none\"/>\n",
              "    <path d=\"M18.56 5.44l.94 2.06.94-2.06 2.06-.94-2.06-.94-.94-2.06-.94 2.06-2.06.94zm-11 1L8.5 8.5l.94-2.06 2.06-.94-2.06-.94L8.5 2.5l-.94 2.06-2.06.94zm10 10l.94 2.06.94-2.06 2.06-.94-2.06-.94-.94-2.06-.94 2.06-2.06.94z\"/><path d=\"M17.41 7.96l-1.37-1.37c-.4-.4-.92-.59-1.43-.59-.52 0-1.04.2-1.43.59L10.3 9.45l-7.72 7.72c-.78.78-.78 2.05 0 2.83L4 21.41c.39.39.9.59 1.41.59.51 0 1.02-.2 1.41-.59l7.78-7.78 2.81-2.81c.8-.78.8-2.07 0-2.86zM5.41 20L4 18.59l7.72-7.72 1.47 1.35L5.41 20z\"/>\n",
              "  </svg>\n",
              "      </button>\n",
              "      \n",
              "  <style>\n",
              "    .colab-df-container {\n",
              "      display:flex;\n",
              "      flex-wrap:wrap;\n",
              "      gap: 12px;\n",
              "    }\n",
              "\n",
              "    .colab-df-convert {\n",
              "      background-color: #E8F0FE;\n",
              "      border: none;\n",
              "      border-radius: 50%;\n",
              "      cursor: pointer;\n",
              "      display: none;\n",
              "      fill: #1967D2;\n",
              "      height: 32px;\n",
              "      padding: 0 0 0 0;\n",
              "      width: 32px;\n",
              "    }\n",
              "\n",
              "    .colab-df-convert:hover {\n",
              "      background-color: #E2EBFA;\n",
              "      box-shadow: 0px 1px 2px rgba(60, 64, 67, 0.3), 0px 1px 3px 1px rgba(60, 64, 67, 0.15);\n",
              "      fill: #174EA6;\n",
              "    }\n",
              "\n",
              "    [theme=dark] .colab-df-convert {\n",
              "      background-color: #3B4455;\n",
              "      fill: #D2E3FC;\n",
              "    }\n",
              "\n",
              "    [theme=dark] .colab-df-convert:hover {\n",
              "      background-color: #434B5C;\n",
              "      box-shadow: 0px 1px 3px 1px rgba(0, 0, 0, 0.15);\n",
              "      filter: drop-shadow(0px 1px 2px rgba(0, 0, 0, 0.3));\n",
              "      fill: #FFFFFF;\n",
              "    }\n",
              "  </style>\n",
              "\n",
              "      <script>\n",
              "        const buttonEl =\n",
              "          document.querySelector('#df-cf2b4a5f-af36-4417-9ea4-44f3e6f367d2 button.colab-df-convert');\n",
              "        buttonEl.style.display =\n",
              "          google.colab.kernel.accessAllowed ? 'block' : 'none';\n",
              "\n",
              "        async function convertToInteractive(key) {\n",
              "          const element = document.querySelector('#df-cf2b4a5f-af36-4417-9ea4-44f3e6f367d2');\n",
              "          const dataTable =\n",
              "            await google.colab.kernel.invokeFunction('convertToInteractive',\n",
              "                                                     [key], {});\n",
              "          if (!dataTable) return;\n",
              "\n",
              "          const docLinkHtml = 'Like what you see? Visit the ' +\n",
              "            '<a target=\"_blank\" href=https://colab.research.google.com/notebooks/data_table.ipynb>data table notebook</a>'\n",
              "            + ' to learn more about interactive tables.';\n",
              "          element.innerHTML = '';\n",
              "          dataTable['output_type'] = 'display_data';\n",
              "          await google.colab.output.renderOutput(dataTable, element);\n",
              "          const docLink = document.createElement('div');\n",
              "          docLink.innerHTML = docLinkHtml;\n",
              "          element.appendChild(docLink);\n",
              "        }\n",
              "      </script>\n",
              "    </div>\n",
              "  </div>\n",
              "  "
            ]
          },
          "metadata": {},
          "execution_count": 22
        }
      ]
    },
    {
      "cell_type": "code",
      "source": [
        "tmp = pd.DataFrame(data =target['target'].value_counts().div(len(target)).mul(100), columns = ['target']).reset_index()\n",
        "\n",
        "fig = plt.figure(figsize=(3, 4), dpi=100)\n",
        "ax = sns.barplot(x=tmp.index, y=tmp.target)\n",
        "#ax.bar_label(ax.containers[0], fmt='%.f%%')\n",
        "ax.set_ylim(0, 100)\n",
        "plt.title(\"Distribution of a target variable\")\n",
        "plt.ylabel(\"Percentage [%]\")\n",
        "\n",
        "for index, row in tmp.iterrows():\n",
        "    ax.text(row.name, row.target + 1, round(row.target, 2),\n",
        "            color='black', ha='center')\n",
        "\n",
        "plt.show()"
      ],
      "metadata": {
        "colab": {
          "base_uri": "https://localhost:8080/",
          "height": 385
        },
        "id": "AUBt3P0hkOEB",
        "outputId": "5c6bce6a-cf82-46ff-9b1a-46b6e8a13a15"
      },
      "execution_count": 49,
      "outputs": [
        {
          "output_type": "display_data",
          "data": {
            "text/plain": [
              "<Figure size 300x400 with 1 Axes>"
            ],
            "image/png": "[encoded data removed]"
          },
          "metadata": {
            "needs_background": "light"
          }
        }
      ]
    },
    {
      "cell_type": "markdown",
      "source": [
        "The dataset is imbalanced"
      ],
      "metadata": {
        "id": "fM_ZTWwwrRAf"
      }
    },
    {
      "cell_type": "markdown",
      "source": [
        "# <b>How many statements per customer</b>"
      ],
      "metadata": {
        "id": "OtxE9qNaq8TK"
      }
    },
    {
      "cell_type": "code",
      "source": [
        "target['customer_ID'] = target['customer_ID'].str[-16:].apply(int, base =16)\n",
        "train = train.merge(target, on ='customer_ID')"
      ],
      "metadata": {
        "id": "6Qjh44Q4qqIF"
      },
      "execution_count": 50,
      "outputs": []
    },
    {
      "cell_type": "code",
      "source": [
        "presence"
      ],
      "metadata": {
        "colab": {
          "base_uri": "https://localhost:8080/",
          "height": 424
        },
        "id": "6ddGQ1zB1kJF",
        "outputId": "4d690f65-f996-4365-c5a3-3fb987cc75fe"
      },
      "execution_count": 52,
      "outputs": [
        {
          "output_type": "execute_result",
          "data": {
            "text/plain": [
              "                 customer_ID  target  presence\n",
              "0              3249127622875       0        13\n",
              "1             23402014749356       1        13\n",
              "2             37423844044824       1        13\n",
              "3            149683802139734       0        13\n",
              "4            160820792638518       1        13\n",
              "...                      ...     ...       ...\n",
              "458908  18446623475205808948       1        13\n",
              "458909  18446629179309953275       0         7\n",
              "458910  18446635398005430687       0        13\n",
              "458911  18446654790786387807       0        13\n",
              "458912  18446722875431722897       0        13\n",
              "\n",
              "[458913 rows x 3 columns]"
            ],
            "text/html": [
              "\n",
              "  <div id=\"df-0440b24a-7583-4bab-b61c-89a530acafd8\">\n",
              "    <div class=\"colab-df-container\">\n",
              "      <div>\n",
              "<style scoped>\n",
              "    .dataframe tbody tr th:only-of-type {\n",
              "        vertical-align: middle;\n",
              "    }\n",
              "\n",
              "    .dataframe tbody tr th {\n",
              "        vertical-align: top;\n",
              "    }\n",
              "\n",
              "    .dataframe thead th {\n",
              "        text-align: right;\n",
              "    }\n",
              "</style>\n",
              "<table border=\"1\" class=\"dataframe\">\n",
              "  <thead>\n",
              "    <tr style=\"text-align: right;\">\n",
              "      <th></th>\n",
              "      <th>customer_ID</th>\n",
              "      <th>target</th>\n",
              "      <th>presence</th>\n",
              "    </tr>\n",
              "  </thead>\n",
              "  <tbody>\n",
              "    <tr>\n",
              "      <th>0</th>\n",
              "      <td>3249127622875</td>\n",
              "      <td>0</td>\n",
              "      <td>13</td>\n",
              "    </tr>\n",
              "    <tr>\n",
              "      <th>1</th>\n",
              "      <td>23402014749356</td>\n",
              "      <td>1</td>\n",
              "      <td>13</td>\n",
              "    </tr>\n",
              "    <tr>\n",
              "      <th>2</th>\n",
              "      <td>37423844044824</td>\n",
              "      <td>1</td>\n",
              "      <td>13</td>\n",
              "    </tr>\n",
              "    <tr>\n",
              "      <th>3</th>\n",
              "      <td>149683802139734</td>\n",
              "      <td>0</td>\n",
              "      <td>13</td>\n",
              "    </tr>\n",
              "    <tr>\n",
              "      <th>4</th>\n",
              "      <td>160820792638518</td>\n",
              "      <td>1</td>\n",
              "      <td>13</td>\n",
              "    </tr>\n",
              "    <tr>\n",
              "      <th>...</th>\n",
              "      <td>...</td>\n",
              "      <td>...</td>\n",
              "      <td>...</td>\n",
              "    </tr>\n",
              "    <tr>\n",
              "      <th>458908</th>\n",
              "      <td>18446623475205808948</td>\n",
              "      <td>1</td>\n",
              "      <td>13</td>\n",
              "    </tr>\n",
              "    <tr>\n",
              "      <th>458909</th>\n",
              "      <td>18446629179309953275</td>\n",
              "      <td>0</td>\n",
              "      <td>7</td>\n",
              "    </tr>\n",
              "    <tr>\n",
              "      <th>458910</th>\n",
              "      <td>18446635398005430687</td>\n",
              "      <td>0</td>\n",
              "      <td>13</td>\n",
              "    </tr>\n",
              "    <tr>\n",
              "      <th>458911</th>\n",
              "      <td>18446654790786387807</td>\n",
              "      <td>0</td>\n",
              "      <td>13</td>\n",
              "    </tr>\n",
              "    <tr>\n",
              "      <th>458912</th>\n",
              "      <td>18446722875431722897</td>\n",
              "      <td>0</td>\n",
              "      <td>13</td>\n",
              "    </tr>\n",
              "  </tbody>\n",
              "</table>\n",
              "<p>458913 rows × 3 columns</p>\n",
              "</div>\n",
              "      <button class=\"colab-df-convert\" onclick=\"convertToInteractive('df-0440b24a-7583-4bab-b61c-89a530acafd8')\"\n",
              "              title=\"Convert this dataframe to an interactive table.\"\n",
              "              style=\"display:none;\">\n",
              "        \n",
              "  <svg xmlns=\"http://www.w3.org/2000/svg\" height=\"24px\"viewBox=\"0 0 24 24\"\n",
              "       width=\"24px\">\n",
              "    <path d=\"M0 0h24v24H0V0z\" fill=\"none\"/>\n",
              "    <path d=\"M18.56 5.44l.94 2.06.94-2.06 2.06-.94-2.06-.94-.94-2.06-.94 2.06-2.06.94zm-11 1L8.5 8.5l.94-2.06 2.06-.94-2.06-.94L8.5 2.5l-.94 2.06-2.06.94zm10 10l.94 2.06.94-2.06 2.06-.94-2.06-.94-.94-2.06-.94 2.06-2.06.94z\"/><path d=\"M17.41 7.96l-1.37-1.37c-.4-.4-.92-.59-1.43-.59-.52 0-1.04.2-1.43.59L10.3 9.45l-7.72 7.72c-.78.78-.78 2.05 0 2.83L4 21.41c.39.39.9.59 1.41.59.51 0 1.02-.2 1.41-.59l7.78-7.78 2.81-2.81c.8-.78.8-2.07 0-2.86zM5.41 20L4 18.59l7.72-7.72 1.47 1.35L5.41 20z\"/>\n",
              "  </svg>\n",
              "      </button>\n",
              "      \n",
              "  <style>\n",
              "    .colab-df-container {\n",
              "      display:flex;\n",
              "      flex-wrap:wrap;\n",
              "      gap: 12px;\n",
              "    }\n",
              "\n",
              "    .colab-df-convert {\n",
              "      background-color: #E8F0FE;\n",
              "      border: none;\n",
              "      border-radius: 50%;\n",
              "      cursor: pointer;\n",
              "      display: none;\n",
              "      fill: #1967D2;\n",
              "      height: 32px;\n",
              "      padding: 0 0 0 0;\n",
              "      width: 32px;\n",
              "    }\n",
              "\n",
              "    .colab-df-convert:hover {\n",
              "      background-color: #E2EBFA;\n",
              "      box-shadow: 0px 1px 2px rgba(60, 64, 67, 0.3), 0px 1px 3px 1px rgba(60, 64, 67, 0.15);\n",
              "      fill: #174EA6;\n",
              "    }\n",
              "\n",
              "    [theme=dark] .colab-df-convert {\n",
              "      background-color: #3B4455;\n",
              "      fill: #D2E3FC;\n",
              "    }\n",
              "\n",
              "    [theme=dark] .colab-df-convert:hover {\n",
              "      background-color: #434B5C;\n",
              "      box-shadow: 0px 1px 3px 1px rgba(0, 0, 0, 0.15);\n",
              "      filter: drop-shadow(0px 1px 2px rgba(0, 0, 0, 0.3));\n",
              "      fill: #FFFFFF;\n",
              "    }\n",
              "  </style>\n",
              "\n",
              "      <script>\n",
              "        const buttonEl =\n",
              "          document.querySelector('#df-0440b24a-7583-4bab-b61c-89a530acafd8 button.colab-df-convert');\n",
              "        buttonEl.style.display =\n",
              "          google.colab.kernel.accessAllowed ? 'block' : 'none';\n",
              "\n",
              "        async function convertToInteractive(key) {\n",
              "          const element = document.querySelector('#df-0440b24a-7583-4bab-b61c-89a530acafd8');\n",
              "          const dataTable =\n",
              "            await google.colab.kernel.invokeFunction('convertToInteractive',\n",
              "                                                     [key], {});\n",
              "          if (!dataTable) return;\n",
              "\n",
              "          const docLinkHtml = 'Like what you see? Visit the ' +\n",
              "            '<a target=\"_blank\" href=https://colab.research.google.com/notebooks/data_table.ipynb>data table notebook</a>'\n",
              "            + ' to learn more about interactive tables.';\n",
              "          element.innerHTML = '';\n",
              "          dataTable['output_type'] = 'display_data';\n",
              "          await google.colab.output.renderOutput(dataTable, element);\n",
              "          const docLink = document.createElement('div');\n",
              "          docLink.innerHTML = docLinkHtml;\n",
              "          element.appendChild(docLink);\n",
              "        }\n",
              "      </script>\n",
              "    </div>\n",
              "  </div>\n",
              "  "
            ]
          },
          "metadata": {},
          "execution_count": 52
        }
      ]
    },
    {
      "cell_type": "code",
      "source": [
        "presence = train.groupby(['customer_ID','target']).size().reset_index().rename(columns={0:'presence'})\n",
        "\n",
        "fig, ax = plt.subplots(1,1, figsize=(15,5))\n",
        "sns.histplot(x='presence', data=presence, hue='target', stat='percent', multiple=\"dodge\", bins=np.arange(0,14), ax=ax)\n",
        "plt.show()"
      ],
      "metadata": {
        "colab": {
          "base_uri": "https://localhost:8080/",
          "height": 334
        },
        "id": "q7qltPdMpzhI",
        "outputId": "0ab2bc97-88fe-435a-80c4-52d31be68e78"
      },
      "execution_count": 56,
      "outputs": [
        {
          "output_type": "display_data",
          "data": {
            "text/plain": [
              "<Figure size 1080x360 with 1 Axes>"
            ],
            "image/png": "[encoded data removed]"
          },
          "metadata": {
            "needs_background": "light"
          }
        }
      ]
    },
    {
      "cell_type": "markdown",
      "source": [
        "Most customers have 13 statements."
      ],
      "metadata": {
        "id": "QUD9cB4e3WY8"
      }
    },
    {
      "cell_type": "markdown",
      "source": [
        "# <b>Delinquency variables</b>"
      ],
      "metadata": {
        "id": "ukFfVe2L3h53"
      }
    },
    {
      "cell_type": "code",
      "source": [
        "cat_cols=['Balance 30', 'Balance 38', 'Delinquency 63', 'Delinquency 64', 'Delinquency 66', 'Delinquency 68',\n",
        "          'Delinquency 114', 'Delinquency 116', 'Delinquency 117', 'Delinquency 120', 'Delinquency 126', 'Target']\n",
        "pal, color=['#016CC9','#DEB078'], ['#8DBAE2','#EDD3B3']\n",
        "cols=[col for col in train.columns if (col.startswith(('D','T'))) & (col not in cat_cols[:-1])]\n",
        "plot_df=train[cols]\n",
        "fig, ax = plt.subplots(18,5, figsize=(16,54))\n",
        "fig.suptitle('Distribution of Delinquency Variables',fontsize=16)\n",
        "row=0\n",
        "col=[0,1,2,3,4]*18\n",
        "for i, column in enumerate(plot_df.columns[:-1]):\n",
        "    if (i!=0)&(i%5==0):\n",
        "        row+=1\n",
        "    sns.kdeplot(x=column, hue='Target', palette=pal[::-1], hue_order=[1,0], \n",
        "                label=['Default','Paid'], data=plot_df, \n",
        "                fill=True, linewidth=2, legend=False, ax=ax[row,col[i]])\n",
        "    ax[row,col[i]].tick_params(left=False,bottom=False)\n",
        "    ax[row,col[i]].set(title='\\n\\n{}'.format(column), xlabel='', ylabel=('Density' if i%5==0 else ''))\n",
        "for i in range(2,5):\n",
        "    ax[17,i].set_visible(False)\n",
        "handles, _ = ax[0,0].get_legend_handles_labels() \n",
        "fig.legend(labels=['Default','Paid'], handles=reversed(handles), ncol=2, bbox_to_anchor=(0.18, 0.983))\n",
        "sns.despine(bottom=True, trim=True)\n",
        "plt.tight_layout(rect=[0, 0.2, 1, 0.99])"
      ],
      "metadata": {
        "colab": {
          "base_uri": "https://localhost:8080/",
          "height": 1000
        },
        "id": "fDBdpPjN1O-z",
        "outputId": "763bb27c-329e-4c27-e783-ccfc08c4c752"
      },
      "execution_count": 59,
      "outputs": [
        {
          "output_type": "error",
          "ename": "ValueError",
          "evalue": "ignored",
          "traceback": [
            "\u001b[0;31m---------------------------------------------------------------------------\u001b[0m",
            "\u001b[0;31mValueError\u001b[0m                                Traceback (most recent call last)",
            "\u001b[0;32m<ipython-input-59-c2e762b1182b>\u001b[0m in \u001b[0;36m<module>\u001b[0;34m\u001b[0m\n\u001b[1;32m     13\u001b[0m     sns.kdeplot(x=column, hue='Target', palette=pal[::-1], hue_order=[1,0], \n\u001b[1;32m     14\u001b[0m                 \u001b[0mlabel\u001b[0m\u001b[0;34m=\u001b[0m\u001b[0;34m[\u001b[0m\u001b[0;34m'Default'\u001b[0m\u001b[0;34m,\u001b[0m\u001b[0;34m'Paid'\u001b[0m\u001b[0;34m]\u001b[0m\u001b[0;34m,\u001b[0m \u001b[0mdata\u001b[0m\u001b[0;34m=\u001b[0m\u001b[0mplot_df\u001b[0m\u001b[0;34m,\u001b[0m\u001b[0;34m\u001b[0m\u001b[0;34m\u001b[0m\u001b[0m\n\u001b[0;32m---> 15\u001b[0;31m                 fill=True, linewidth=2, legend=False, ax=ax[row,col[i]])\n\u001b[0m\u001b[1;32m     16\u001b[0m     \u001b[0max\u001b[0m\u001b[0;34m[\u001b[0m\u001b[0mrow\u001b[0m\u001b[0;34m,\u001b[0m\u001b[0mcol\u001b[0m\u001b[0;34m[\u001b[0m\u001b[0mi\u001b[0m\u001b[0;34m]\u001b[0m\u001b[0;34m]\u001b[0m\u001b[0;34m.\u001b[0m\u001b[0mtick_params\u001b[0m\u001b[0;34m(\u001b[0m\u001b[0mleft\u001b[0m\u001b[0;34m=\u001b[0m\u001b[0;32mFalse\u001b[0m\u001b[0;34m,\u001b[0m\u001b[0mbottom\u001b[0m\u001b[0;34m=\u001b[0m\u001b[0;32mFalse\u001b[0m\u001b[0;34m)\u001b[0m\u001b[0;34m\u001b[0m\u001b[0;34m\u001b[0m\u001b[0m\n\u001b[1;32m     17\u001b[0m     \u001b[0max\u001b[0m\u001b[0;34m[\u001b[0m\u001b[0mrow\u001b[0m\u001b[0;34m,\u001b[0m\u001b[0mcol\u001b[0m\u001b[0;34m[\u001b[0m\u001b[0mi\u001b[0m\u001b[0;34m]\u001b[0m\u001b[0;34m]\u001b[0m\u001b[0;34m.\u001b[0m\u001b[0mset\u001b[0m\u001b[0;34m(\u001b[0m\u001b[0mtitle\u001b[0m\u001b[0;34m=\u001b[0m\u001b[0;34m'\\n\\n{}'\u001b[0m\u001b[0;34m.\u001b[0m\u001b[0mformat\u001b[0m\u001b[0;34m(\u001b[0m\u001b[0mcolumn\u001b[0m\u001b[0;34m)\u001b[0m\u001b[0;34m,\u001b[0m \u001b[0mxlabel\u001b[0m\u001b[0;34m=\u001b[0m\u001b[0;34m''\u001b[0m\u001b[0;34m,\u001b[0m \u001b[0mylabel\u001b[0m\u001b[0;34m=\u001b[0m\u001b[0;34m(\u001b[0m\u001b[0;34m'Density'\u001b[0m \u001b[0;32mif\u001b[0m \u001b[0mi\u001b[0m\u001b[0;34m%\u001b[0m\u001b[0;36m5\u001b[0m\u001b[0;34m==\u001b[0m\u001b[0;36m0\u001b[0m \u001b[0;32melse\u001b[0m \u001b[0;34m''\u001b[0m\u001b[0;34m)\u001b[0m\u001b[0;34m)\u001b[0m\u001b[0;34m\u001b[0m\u001b[0;34m\u001b[0m\u001b[0m\n",
            "\u001b[0;32m/usr/local/lib/python3.7/dist-packages/seaborn/_decorators.py\u001b[0m in \u001b[0;36minner_f\u001b[0;34m(*args, **kwargs)\u001b[0m\n\u001b[1;32m     44\u001b[0m             )\n\u001b[1;32m     45\u001b[0m         \u001b[0mkwargs\u001b[0m\u001b[0;34m.\u001b[0m\u001b[0mupdate\u001b[0m\u001b[0;34m(\u001b[0m\u001b[0;34m{\u001b[0m\u001b[0mk\u001b[0m\u001b[0;34m:\u001b[0m \u001b[0marg\u001b[0m \u001b[0;32mfor\u001b[0m \u001b[0mk\u001b[0m\u001b[0;34m,\u001b[0m \u001b[0marg\u001b[0m \u001b[0;32min\u001b[0m \u001b[0mzip\u001b[0m\u001b[0;34m(\u001b[0m\u001b[0msig\u001b[0m\u001b[0;34m.\u001b[0m\u001b[0mparameters\u001b[0m\u001b[0;34m,\u001b[0m \u001b[0margs\u001b[0m\u001b[0;34m)\u001b[0m\u001b[0;34m}\u001b[0m\u001b[0;34m)\u001b[0m\u001b[0;34m\u001b[0m\u001b[0;34m\u001b[0m\u001b[0m\n\u001b[0;32m---> 46\u001b[0;31m         \u001b[0;32mreturn\u001b[0m \u001b[0mf\u001b[0m\u001b[0;34m(\u001b[0m\u001b[0;34m**\u001b[0m\u001b[0mkwargs\u001b[0m\u001b[0;34m)\u001b[0m\u001b[0;34m\u001b[0m\u001b[0;34m\u001b[0m\u001b[0m\n\u001b[0m\u001b[1;32m     47\u001b[0m     \u001b[0;32mreturn\u001b[0m \u001b[0minner_f\u001b[0m\u001b[0;34m\u001b[0m\u001b[0;34m\u001b[0m\u001b[0m\n\u001b[1;32m     48\u001b[0m \u001b[0;34m\u001b[0m\u001b[0m\n",
            "\u001b[0;32m/usr/local/lib/python3.7/dist-packages/seaborn/distributions.py\u001b[0m in \u001b[0;36mkdeplot\u001b[0;34m(x, y, shade, vertical, kernel, bw, gridsize, cut, clip, legend, cumulative, shade_lowest, cbar, cbar_ax, cbar_kws, ax, weights, hue, palette, hue_order, hue_norm, multiple, common_norm, common_grid, levels, thresh, bw_method, bw_adjust, log_scale, color, fill, data, data2, warn_singular, **kwargs)\u001b[0m\n\u001b[1;32m   1738\u001b[0m     p = _DistributionPlotter(\n\u001b[1;32m   1739\u001b[0m         \u001b[0mdata\u001b[0m\u001b[0;34m=\u001b[0m\u001b[0mdata\u001b[0m\u001b[0;34m,\u001b[0m\u001b[0;34m\u001b[0m\u001b[0;34m\u001b[0m\u001b[0m\n\u001b[0;32m-> 1740\u001b[0;31m         \u001b[0mvariables\u001b[0m\u001b[0;34m=\u001b[0m\u001b[0m_DistributionPlotter\u001b[0m\u001b[0;34m.\u001b[0m\u001b[0mget_semantics\u001b[0m\u001b[0;34m(\u001b[0m\u001b[0mlocals\u001b[0m\u001b[0;34m(\u001b[0m\u001b[0;34m)\u001b[0m\u001b[0;34m)\u001b[0m\u001b[0;34m,\u001b[0m\u001b[0;34m\u001b[0m\u001b[0;34m\u001b[0m\u001b[0m\n\u001b[0m\u001b[1;32m   1741\u001b[0m     )\n\u001b[1;32m   1742\u001b[0m \u001b[0;34m\u001b[0m\u001b[0m\n",
            "\u001b[0;32m/usr/local/lib/python3.7/dist-packages/seaborn/distributions.py\u001b[0m in \u001b[0;36m__init__\u001b[0;34m(self, data, variables)\u001b[0m\n\u001b[1;32m    109\u001b[0m     ):\n\u001b[1;32m    110\u001b[0m \u001b[0;34m\u001b[0m\u001b[0m\n\u001b[0;32m--> 111\u001b[0;31m         \u001b[0msuper\u001b[0m\u001b[0;34m(\u001b[0m\u001b[0;34m)\u001b[0m\u001b[0;34m.\u001b[0m\u001b[0m__init__\u001b[0m\u001b[0;34m(\u001b[0m\u001b[0mdata\u001b[0m\u001b[0;34m=\u001b[0m\u001b[0mdata\u001b[0m\u001b[0;34m,\u001b[0m \u001b[0mvariables\u001b[0m\u001b[0;34m=\u001b[0m\u001b[0mvariables\u001b[0m\u001b[0;34m)\u001b[0m\u001b[0;34m\u001b[0m\u001b[0;34m\u001b[0m\u001b[0m\n\u001b[0m\u001b[1;32m    112\u001b[0m \u001b[0;34m\u001b[0m\u001b[0m\n\u001b[1;32m    113\u001b[0m     \u001b[0;34m@\u001b[0m\u001b[0mproperty\u001b[0m\u001b[0;34m\u001b[0m\u001b[0;34m\u001b[0m\u001b[0m\n",
            "\u001b[0;32m/usr/local/lib/python3.7/dist-packages/seaborn/_core.py\u001b[0m in \u001b[0;36m__init__\u001b[0;34m(self, data, variables)\u001b[0m\n\u001b[1;32m    603\u001b[0m     \u001b[0;32mdef\u001b[0m \u001b[0m__init__\u001b[0m\u001b[0;34m(\u001b[0m\u001b[0mself\u001b[0m\u001b[0;34m,\u001b[0m \u001b[0mdata\u001b[0m\u001b[0;34m=\u001b[0m\u001b[0;32mNone\u001b[0m\u001b[0;34m,\u001b[0m \u001b[0mvariables\u001b[0m\u001b[0;34m=\u001b[0m\u001b[0;34m{\u001b[0m\u001b[0;34m}\u001b[0m\u001b[0;34m)\u001b[0m\u001b[0;34m:\u001b[0m\u001b[0;34m\u001b[0m\u001b[0;34m\u001b[0m\u001b[0m\n\u001b[1;32m    604\u001b[0m \u001b[0;34m\u001b[0m\u001b[0m\n\u001b[0;32m--> 605\u001b[0;31m         \u001b[0mself\u001b[0m\u001b[0;34m.\u001b[0m\u001b[0massign_variables\u001b[0m\u001b[0;34m(\u001b[0m\u001b[0mdata\u001b[0m\u001b[0;34m,\u001b[0m \u001b[0mvariables\u001b[0m\u001b[0;34m)\u001b[0m\u001b[0;34m\u001b[0m\u001b[0;34m\u001b[0m\u001b[0m\n\u001b[0m\u001b[1;32m    606\u001b[0m \u001b[0;34m\u001b[0m\u001b[0m\n\u001b[1;32m    607\u001b[0m         \u001b[0;32mfor\u001b[0m \u001b[0mvar\u001b[0m\u001b[0;34m,\u001b[0m \u001b[0mcls\u001b[0m \u001b[0;32min\u001b[0m \u001b[0mself\u001b[0m\u001b[0;34m.\u001b[0m\u001b[0m_semantic_mappings\u001b[0m\u001b[0;34m.\u001b[0m\u001b[0mitems\u001b[0m\u001b[0;34m(\u001b[0m\u001b[0;34m)\u001b[0m\u001b[0;34m:\u001b[0m\u001b[0;34m\u001b[0m\u001b[0;34m\u001b[0m\u001b[0m\n",
            "\u001b[0;32m/usr/local/lib/python3.7/dist-packages/seaborn/_core.py\u001b[0m in \u001b[0;36massign_variables\u001b[0;34m(self, data, variables)\u001b[0m\n\u001b[1;32m    667\u001b[0m             \u001b[0mself\u001b[0m\u001b[0;34m.\u001b[0m\u001b[0minput_format\u001b[0m \u001b[0;34m=\u001b[0m \u001b[0;34m\"long\"\u001b[0m\u001b[0;34m\u001b[0m\u001b[0;34m\u001b[0m\u001b[0m\n\u001b[1;32m    668\u001b[0m             plot_data, variables = self._assign_variables_longform(\n\u001b[0;32m--> 669\u001b[0;31m                 \u001b[0mdata\u001b[0m\u001b[0;34m,\u001b[0m \u001b[0;34m**\u001b[0m\u001b[0mvariables\u001b[0m\u001b[0;34m,\u001b[0m\u001b[0;34m\u001b[0m\u001b[0;34m\u001b[0m\u001b[0m\n\u001b[0m\u001b[1;32m    670\u001b[0m             )\n\u001b[1;32m    671\u001b[0m \u001b[0;34m\u001b[0m\u001b[0m\n",
            "\u001b[0;32m/usr/local/lib/python3.7/dist-packages/seaborn/_core.py\u001b[0m in \u001b[0;36m_assign_variables_longform\u001b[0;34m(self, data, **kwargs)\u001b[0m\n\u001b[1;32m    901\u001b[0m \u001b[0;34m\u001b[0m\u001b[0m\n\u001b[1;32m    902\u001b[0m                 \u001b[0merr\u001b[0m \u001b[0;34m=\u001b[0m \u001b[0;34mf\"Could not interpret value `{val}` for parameter `{key}`\"\u001b[0m\u001b[0;34m\u001b[0m\u001b[0;34m\u001b[0m\u001b[0m\n\u001b[0;32m--> 903\u001b[0;31m                 \u001b[0;32mraise\u001b[0m \u001b[0mValueError\u001b[0m\u001b[0;34m(\u001b[0m\u001b[0merr\u001b[0m\u001b[0;34m)\u001b[0m\u001b[0;34m\u001b[0m\u001b[0;34m\u001b[0m\u001b[0m\n\u001b[0m\u001b[1;32m    904\u001b[0m \u001b[0;34m\u001b[0m\u001b[0m\n\u001b[1;32m    905\u001b[0m             \u001b[0;32melse\u001b[0m\u001b[0;34m:\u001b[0m\u001b[0;34m\u001b[0m\u001b[0;34m\u001b[0m\u001b[0m\n",
            "\u001b[0;31mValueError\u001b[0m: Could not interpret value `Target` for parameter `hue`"
          ]
        },
        {
          "output_type": "display_data",
          "data": {
            "text/plain": [
              "<Figure size 1152x3888 with 90 Axes>"
            ],
            "image/png": "[encoded data removed]"
          },
          "metadata": {
            "needs_background": "light"
          }
        }
      ]
    },
    {
      "cell_type": "code",
      "source": [],
      "metadata": {
        "id": "aBZR6pL2322A"
      },
      "execution_count": null,
      "outputs": []
    }
  ]
}