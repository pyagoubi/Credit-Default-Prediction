{
  "metadata": {
    "kernelspec": {
      "language": "python",
      "display_name": "Python 3",
      "name": "python3"
    },
    "language_info": {
      "name": "python",
      "version": "3.7.12",
      "mimetype": "text/x-python",
      "codemirror_mode": {
        "name": "ipython",
        "version": 3
      },
      "pygments_lexer": "ipython3",
      "nbconvert_exporter": "python",
      "file_extension": ".py"
    },
    "colab": {
      "name": "Amex XGBoost.ipynb",
      "provenance": [],
      "machine_shape": "hm",
      "include_colab_link": true
    },
    "accelerator": "GPU",
    "gpuClass": "standard"
  },
  "nbformat_minor": 0,
  "nbformat": 4,
  "cells": [
    {
      "cell_type": "markdown",
      "metadata": {
        "id": "view-in-github",
        "colab_type": "text"
      },
      "source": [
        "<a href=\"https://colab.research.google.com/github/pyagoubi/Credit-Default-Prediction/blob/main/Amex_XGBoost.ipynb\" target=\"_parent\"><img src=\"https://colab.research.google.com/assets/colab-badge.svg\" alt=\"Open In Colab\"/></a>"
      ]
    },
    {
      "cell_type": "code",
      "source": [
        "################### Installing RAPIDS on colab"
      ],
      "metadata": {
        "id": "586Vr_8-44vN"
      },
      "execution_count": null,
      "outputs": []
    },
    {
      "cell_type": "code",
      "source": [
        "!pip install pynvml"
      ],
      "metadata": {
        "id": "JpiHdOzpItYq",
        "colab": {
          "base_uri": "https://localhost:8080/"
        },
        "outputId": "210d8f3b-5d65-4f45-b36e-def09ca1d5aa"
      },
      "execution_count": 1,
      "outputs": [
        {
          "output_type": "stream",
          "name": "stdout",
          "text": [
            "Looking in indexes: https://pypi.org/simple, https://us-python.pkg.dev/colab-wheels/public/simple/\n",
            "Requirement already satisfied: pynvml in /usr/local/lib/python3.7/site-packages (11.4.1)\n"
          ]
        }
      ]
    },
    {
      "cell_type": "code",
      "source": [
        "!git clone https://github.com/rapidsai/rapidsai-csp-utils.git\n",
        "!python rapidsai-csp-utils/colab/env-check.py"
      ],
      "metadata": {
        "id": "93jraPg5ItVz",
        "colab": {
          "base_uri": "https://localhost:8080/"
        },
        "outputId": "e5756eac-c768-4a04-d641-99b3773425bf"
      },
      "execution_count": 2,
      "outputs": [
        {
          "output_type": "stream",
          "name": "stdout",
          "text": [
            "fatal: destination path 'rapidsai-csp-utils' already exists and is not an empty directory.\n",
            "***********************************************************************\n",
            "Woo! Your instance has the right kind of GPU, a Tesla P100-PCIE-16GB!\n",
            "***********************************************************************\n",
            "\n"
          ]
        }
      ]
    },
    {
      "cell_type": "code",
      "source": [
        "!bash rapidsai-csp-utils/colab/update_gcc.sh\n",
        "import os\n",
        "os._exit(00)"
      ],
      "metadata": {
        "id": "rrK8Fk6HItSc",
        "colab": {
          "base_uri": "https://localhost:8080/"
        },
        "outputId": "dfc79a9a-8b6d-4f1e-bb1e-2fdf9176b321"
      },
      "execution_count": null,
      "outputs": [
        {
          "output_type": "stream",
          "name": "stdout",
          "text": [
            "Updating your Colab environment.  This will restart your kernel.  Don't Panic!\n",
            "Hit:1 https://developer.download.nvidia.com/compute/cuda/repos/ubuntu1804/x86_64  InRelease\n",
            "Get:2 https://cloud.r-project.org/bin/linux/ubuntu bionic-cran40/ InRelease [3,626 B]\n",
            "Ign:3 https://developer.download.nvidia.com/compute/machine-learning/repos/ubuntu1804/x86_64  InRelease\n",
            "Hit:4 https://developer.download.nvidia.com/compute/machine-learning/repos/ubuntu1804/x86_64  Release\n",
            "Get:5 http://security.ubuntu.com/ubuntu bionic-security InRelease [88.7 kB]\n",
            "Hit:6 http://ppa.launchpad.net/c2d4u.team/c2d4u4.0+/ubuntu bionic InRelease\n",
            "Hit:8 http://archive.ubuntu.com/ubuntu bionic InRelease\n",
            "Get:9 http://archive.ubuntu.com/ubuntu bionic-updates InRelease [88.7 kB]\n",
            "Hit:10 http://ppa.launchpad.net/cran/libgit2/ubuntu bionic InRelease\n",
            "Hit:11 http://ppa.launchpad.net/deadsnakes/ppa/ubuntu bionic InRelease\n",
            "Get:12 http://archive.ubuntu.com/ubuntu bionic-backports InRelease [74.6 kB]\n",
            "Hit:13 http://ppa.launchpad.net/graphics-drivers/ppa/ubuntu bionic InRelease\n",
            "Hit:14 http://ppa.launchpad.net/ubuntu-toolchain-r/test/ubuntu bionic InRelease\n",
            "Fetched 256 kB in 1s (171 kB/s)\n",
            "Reading package lists... Done\n",
            "Added repo\n",
            "Hit:1 https://cloud.r-project.org/bin/linux/ubuntu bionic-cran40/ InRelease\n",
            "Hit:2 https://developer.download.nvidia.com/compute/cuda/repos/ubuntu1804/x86_64  InRelease\n",
            "Ign:3 https://developer.download.nvidia.com/compute/machine-learning/repos/ubuntu1804/x86_64  InRelease\n",
            "Hit:4 https://developer.download.nvidia.com/compute/machine-learning/repos/ubuntu1804/x86_64  Release\n",
            "Hit:6 http://archive.ubuntu.com/ubuntu bionic InRelease\n",
            "Hit:7 http://ppa.launchpad.net/c2d4u.team/c2d4u4.0+/ubuntu bionic InRelease\n",
            "Hit:8 http://security.ubuntu.com/ubuntu bionic-security InRelease\n",
            "Hit:9 http://archive.ubuntu.com/ubuntu bionic-updates InRelease\n",
            "Hit:10 http://archive.ubuntu.com/ubuntu bionic-backports InRelease\n",
            "Hit:11 http://ppa.launchpad.net/cran/libgit2/ubuntu bionic InRelease\n",
            "Hit:12 http://ppa.launchpad.net/deadsnakes/ppa/ubuntu bionic InRelease\n",
            "Hit:13 http://ppa.launchpad.net/graphics-drivers/ppa/ubuntu bionic InRelease\n",
            "Hit:14 http://ppa.launchpad.net/ubuntu-toolchain-r/test/ubuntu bionic InRelease\n",
            "Reading package lists... Done\n",
            "Installing libstdc++\n",
            "Reading package lists... Done\n",
            "Building dependency tree       \n",
            "Reading state information... Done\n",
            "libstdc++6 is already the newest version (11.1.0-1ubuntu1~18.04.1).\n",
            "Selected version '11.1.0-1ubuntu1~18.04.1' (Toolchain test builds:18.04/bionic [amd64]) for 'libstdc++6'\n",
            "The following package was automatically installed and is no longer required:\n",
            "  libnvidia-common-460\n",
            "Use 'sudo apt autoremove' to remove it.\n",
            "0 upgraded, 0 newly installed, 0 to remove and 60 not upgraded.\n",
            "restarting Colab...\n"
          ]
        }
      ]
    },
    {
      "cell_type": "code",
      "source": [
        "# This will install CondaColab.  This will restart your kernel one last time.  Run this cell by itself and only run the next cell once you see the session crash.\n",
        "import condacolab\n",
        "condacolab.install()"
      ],
      "metadata": {
        "colab": {
          "base_uri": "https://localhost:8080/"
        },
        "id": "CJ30xrtVItPK",
        "outputId": "1a735fa4-ee45-467e-e41b-47d12aeaedea"
      },
      "execution_count": 1,
      "outputs": [
        {
          "output_type": "stream",
          "name": "stdout",
          "text": [
            "✨🍰✨ Everything looks OK!\n"
          ]
        }
      ]
    },
    {
      "cell_type": "code",
      "source": [
        "# you can now run the rest of the cells as normal\n",
        "import condacolab\n",
        "condacolab.check()"
      ],
      "metadata": {
        "colab": {
          "base_uri": "https://localhost:8080/"
        },
        "id": "Nbtk8dTYItMI",
        "outputId": "1a21a9ba-cb3b-4c14-b1cc-b9272f6a8264"
      },
      "execution_count": 2,
      "outputs": [
        {
          "output_type": "stream",
          "name": "stdout",
          "text": [
            "✨🍰✨ Everything looks OK!\n"
          ]
        }
      ]
    },
    {
      "cell_type": "code",
      "source": [
        "# Installing RAPIDS is now 'python rapidsai-csp-utils/colab/install_rapids.py <release> <packages>'\n",
        "# The <release> options are 'stable' and 'nightly'.  Leaving it blank or adding any other words will default to stable.\n",
        "!python rapidsai-csp-utils/colab/install_rapids.py stable\n",
        "import os\n",
        "os.environ['NUMBAPRO_NVVM'] = '/usr/local/cuda/nvvm/lib64/libnvvm.so'\n",
        "os.environ['NUMBAPRO_LIBDEVICE'] = '/usr/local/cuda/nvvm/libdevice/'\n",
        "os.environ['CONDA_PREFIX'] = '/usr/local'"
      ],
      "metadata": {
        "id": "FNQ2SZDcItJM",
        "colab": {
          "base_uri": "https://localhost:8080/"
        },
        "outputId": "7519d056-9d88-40b9-bb3c-40cc5f2dac38"
      },
      "execution_count": 3,
      "outputs": [
        {
          "output_type": "stream",
          "name": "stdout",
          "text": [
            "Found existing installation: cffi 1.15.0\n",
            "Uninstalling cffi-1.15.0:\n",
            "  Successfully uninstalled cffi-1.15.0\n",
            "WARNING: Skipping cryptography as it is not installed.\n",
            "Looking in indexes: https://pypi.org/simple, https://us-python.pkg.dev/colab-wheels/public/simple/\n",
            "Collecting cffi==1.15.0\n",
            "  Using cached cffi-1.15.0-cp37-cp37m-manylinux_2_12_x86_64.manylinux2010_x86_64.whl (427 kB)\n",
            "Requirement already satisfied: pycparser in /usr/local/lib/python3.7/site-packages (from cffi==1.15.0) (2.20)\n",
            "Installing collected packages: cffi\n",
            "Successfully installed cffi-1.15.0\n",
            "Installing RAPIDS Stable 21.12\n",
            "Starting the RAPIDS install on Colab.  This will take about 15 minutes.\n",
            "Collecting package metadata (current_repodata.json): ...working... done\n",
            "Solving environment: ...working... WARNING conda.core.solve:_add_specs(649): pinned spec cudatoolkit=11.1 conflicts with explicit specs.  Overriding pinned spec.\n",
            "done\n",
            "\n",
            "## Package Plan ##\n",
            "\n",
            "  environment location: /usr/local\n",
            "\n",
            "  added / updated specs:\n",
            "    - cudatoolkit=11.2\n",
            "    - dask-sql\n",
            "    - gcsfs\n",
            "    - llvmlite\n",
            "    - openssl\n",
            "    - python=3.7\n",
            "    - rapids=21.12\n",
            "\n",
            "\n",
            "The following packages will be downloaded:\n",
            "\n",
            "    package                    |            build\n",
            "    ---------------------------|-----------------\n",
            "    conda-4.13.0               |   py37h89c1867_1         989 KB  conda-forge\n",
            "    ------------------------------------------------------------\n",
            "                                           Total:         989 KB\n",
            "\n",
            "The following packages will be UPDATED:\n",
            "\n",
            "  conda                               4.12.0-py37h89c1867_0 --> 4.13.0-py37h89c1867_1\n",
            "\n",
            "\n",
            "\n",
            "Downloading and Extracting Packages\n",
            "\n",
            "conda-4.13.0         | 989 KB    |            |   0%\n",
            "conda-4.13.0         | 989 KB    | ##4        |  24%\n",
            "conda-4.13.0         | 989 KB    | ########## | 100%\n",
            "conda-4.13.0         | 989 KB    | ########## | 100%\n",
            "Preparing transaction: ...working... done\n",
            "Verifying transaction: ...working... done\n",
            "Executing transaction: ...working... done\n",
            "RAPIDS conda installation complete.  Updating Colab's libraries...\n",
            "Copying /usr/local/lib/libcudf.so to /usr/lib/libcudf.so\n",
            "Copying /usr/local/lib/libnccl.so to /usr/lib/libnccl.so\n",
            "Copying /usr/local/lib/libcuml.so to /usr/lib/libcuml.so\n",
            "Copying /usr/local/lib/libcugraph.so to /usr/lib/libcugraph.so\n",
            "Copying /usr/local/lib/libxgboost.so to /usr/lib/libxgboost.so\n",
            "Copying /usr/local/lib/libcuspatial.so to /usr/lib/libcuspatial.so\n",
            "Copying /usr/local/lib/libgeos.so to /usr/lib/libgeos.so\n",
            "Copying /usr/local/lib/libgeos_c.so to /usr/lib/libgeos_c.so\n"
          ]
        }
      ]
    },
    {
      "cell_type": "code",
      "source": [
        "#Mounting Google Drive\n",
        "from google.colab import drive\n",
        "drive.mount('/content/drive')"
      ],
      "metadata": {
        "colab": {
          "base_uri": "https://localhost:8080/"
        },
        "id": "gOOdZDzIItEG",
        "outputId": "4639e77a-18f7-494c-fa0d-afce91fbdabb"
      },
      "execution_count": 4,
      "outputs": [
        {
          "output_type": "stream",
          "name": "stdout",
          "text": [
            "Drive already mounted at /content/drive; to attempt to forcibly remount, call drive.mount(\"/content/drive\", force_remount=True).\n"
          ]
        }
      ]
    },
    {
      "cell_type": "code",
      "source": [
        "#set WD\n",
        "import os\n",
        "os.chdir('/content/drive/MyDrive/Amex/parquet')"
      ],
      "metadata": {
        "id": "6lJRhid0ItBS"
      },
      "execution_count": 5,
      "outputs": []
    },
    {
      "cell_type": "markdown",
      "source": [
        "# XGBoost \n",
        "This notebook uses the dataset provided by [@raddar][1]. We use a special XGB dataloader called `DeviceQuantileDMatrix` which uses a small GPU memory footprint. This allows us to engineer more additional columns and train with more rows of data. Our feature engineering is performed using [RAPIDS][2] on the GPU to create new features quickly.\n",
        "This notebook is built on top of the one from [@Chris Deotte][3], but following changes were made\n",
        "- Feature Engineering: adding a growth feature (representing percentage change between the first an d last statement of each custumer for specific numeric features)\n",
        "- Model parameters: New parameters were obtained by hyperparameter tuning with Optuna in a seperate notebook\n",
        "\n",
        "\n",
        "[1]: https://www.kaggle.com/datasets/raddar/amex-data-integer-dtypes-parquet-format\n",
        "[2]: https://rapids.ai/\n",
        "[3]: https://www.kaggle.com/code/cdeotte/xgboost-starter-0-793"
      ],
      "metadata": {
        "id": "rda9uzwxp0N0"
      }
    },
    {
      "cell_type": "markdown",
      "source": [
        "# Load Libraries"
      ],
      "metadata": {
        "id": "vMo1TkPZp0N4"
      }
    },
    {
      "cell_type": "code",
      "source": [
        "# LOAD LIBRARIES\n",
        "import pandas as pd, numpy as np # CPU libraries\n",
        "import cupy, cudf # GPU libraries\n",
        "import matplotlib.pyplot as plt, gc, os\n",
        "\n",
        "print('RAPIDS version',cudf.__version__)"
      ],
      "metadata": {
        "id": "GRgokt4bp0N4",
        "outputId": "63129356-618e-4192-beee-92f0cf7c8dac",
        "execution": {
          "iopub.status.busy": "2022-06-29T20:19:23.648645Z",
          "iopub.execute_input": "2022-06-29T20:19:23.649024Z",
          "iopub.status.idle": "2022-06-29T20:19:28.137314Z",
          "shell.execute_reply.started": "2022-06-29T20:19:23.648929Z",
          "shell.execute_reply": "2022-06-29T20:19:28.136267Z"
        },
        "trusted": true,
        "colab": {
          "base_uri": "https://localhost:8080/"
        }
      },
      "execution_count": 6,
      "outputs": [
        {
          "output_type": "stream",
          "name": "stdout",
          "text": [
            "RAPIDS version 21.12.02\n"
          ]
        }
      ]
    },
    {
      "cell_type": "code",
      "source": [
        "# VERSION NAME FOR SAVED MODEL FILES\n",
        "VER = 1\n",
        "\n",
        "# TRAIN RANDOM SEED\n",
        "SEED = 42\n",
        "\n",
        "# FILL NAN VALUE\n",
        "NAN_VALUE = -127 # will fit in int8\n",
        "\n",
        "# FOLDS PER MODEL\n",
        "FOLDS = 5"
      ],
      "metadata": {
        "id": "Sct61n7Yp0N5",
        "execution": {
          "iopub.status.busy": "2022-06-29T20:19:30.471076Z",
          "iopub.execute_input": "2022-06-29T20:19:30.471479Z",
          "iopub.status.idle": "2022-06-29T20:19:30.476777Z",
          "shell.execute_reply.started": "2022-06-29T20:19:30.471444Z",
          "shell.execute_reply": "2022-06-29T20:19:30.475713Z"
        },
        "trusted": true
      },
      "execution_count": 7,
      "outputs": []
    },
    {
      "cell_type": "markdown",
      "source": [
        "# Process and Feature Engineer Train Data"
      ],
      "metadata": {
        "id": "vEV9Z8ZIp0N6"
      }
    },
    {
      "cell_type": "code",
      "source": [
        "def read_file(path = '', usecols = None):\n",
        "    # LOAD DATAFRAME\n",
        "    if usecols is not None: df = cudf.read_parquet(path, columns=usecols)\n",
        "    else: df = cudf.read_parquet(path)\n",
        "    # REDUCE DTYPE FOR CUSTOMER AND DATE\n",
        "    df['customer_ID'] = df['customer_ID'].str[-16:].str.hex_to_int().astype('int64')\n",
        "    df.S_2 = cudf.to_datetime( df.S_2 )\n",
        "    # SORT BY CUSTOMER AND DATE (so agg('last') works correctly)\n",
        "    #df = df.sort_values(['customer_ID','S_2'])\n",
        "    #df = df.reset_index(drop=True)\n",
        "    # FILL NAN\n",
        "    #df = df.fillna(NAN_VALUE) \n",
        "    print('shape of data:', df.shape)\n",
        "    \n",
        "    return df\n",
        "\n"
      ],
      "metadata": {
        "id": "QWJevsrgp0N6",
        "execution": {
          "iopub.status.busy": "2022-06-29T20:20:28.301583Z",
          "iopub.execute_input": "2022-06-29T20:20:28.305157Z",
          "iopub.status.idle": "2022-06-29T20:21:09.754217Z",
          "shell.execute_reply.started": "2022-06-29T20:20:28.305123Z",
          "shell.execute_reply": "2022-06-29T20:21:09.752494Z"
        },
        "trusted": true
      },
      "execution_count": 8,
      "outputs": []
    },
    {
      "cell_type": "code",
      "source": [
        "print('Reading train data...')\n",
        "TRAIN_PATH = 'train.parquet'\n",
        "train = read_file(path = TRAIN_PATH)"
      ],
      "metadata": {
        "colab": {
          "base_uri": "https://localhost:8080/"
        },
        "id": "DWeAbxdvdhdu",
        "outputId": "b95f72a8-8b6b-49dd-e700-5124cf446c23"
      },
      "execution_count": 11,
      "outputs": [
        {
          "output_type": "stream",
          "name": "stdout",
          "text": [
            "Reading train data...\n",
            "shape of data: (5531451, 190)\n"
          ]
        }
      ]
    },
    {
      "cell_type": "code",
      "source": [
        "def handle_na(df,NAN_VALUE):\n",
        "  df = df.fillna(NAN_VALUE)\n",
        "  # train[num_cols] = train[num_cols].fillna(NAN_VALUE)\n",
        "  # for column in cat_cols:\n",
        "  #   train[column] = train[column].fillna(train[column].mode()[0])\n",
        "  return df "
      ],
      "metadata": {
        "id": "-Yyk7OV_p0N7",
        "execution": {
          "iopub.status.busy": "2022-06-29T20:21:15.241058Z",
          "iopub.execute_input": "2022-06-29T20:21:15.241396Z",
          "iopub.status.idle": "2022-06-29T20:21:15.246186Z",
          "shell.execute_reply.started": "2022-06-29T20:21:15.241368Z",
          "shell.execute_reply": "2022-06-29T20:21:15.245150Z"
        },
        "trusted": true
      },
      "execution_count": 9,
      "outputs": []
    },
    {
      "cell_type": "code",
      "source": [
        "#NA\n",
        "train = handle_na(train, NAN_VALUE)"
      ],
      "metadata": {
        "id": "9xIA0kjOp0N7",
        "execution": {
          "iopub.status.busy": "2022-06-29T20:21:17.182767Z",
          "iopub.execute_input": "2022-06-29T20:21:17.183383Z",
          "iopub.status.idle": "2022-06-29T20:21:17.715653Z",
          "shell.execute_reply.started": "2022-06-29T20:21:17.183345Z",
          "shell.execute_reply": "2022-06-29T20:21:17.714584Z"
        },
        "trusted": true
      },
      "execution_count": 12,
      "outputs": []
    },
    {
      "cell_type": "code",
      "source": [
        "all_cols = [c for c in list(train.columns) if c not in ['customer_ID','S_2']]\n",
        "cat_features = [\"B_30\",\"B_38\",\"D_114\",\"D_116\",\"D_117\",\"D_120\",\"D_126\",\"D_63\",\"D_64\",\"D_66\",\"D_68\"]\n",
        "num_features = [col for col in all_cols if col not in cat_features]"
      ],
      "metadata": {
        "id": "FKk-_Pk0p0N8",
        "execution": {
          "iopub.status.busy": "2022-06-29T20:21:20.399246Z",
          "iopub.execute_input": "2022-06-29T20:21:20.399580Z",
          "iopub.status.idle": "2022-06-29T20:21:20.407826Z",
          "shell.execute_reply.started": "2022-06-29T20:21:20.399553Z",
          "shell.execute_reply": "2022-06-29T20:21:20.406795Z"
        },
        "trusted": true
      },
      "execution_count": 13,
      "outputs": []
    },
    {
      "cell_type": "code",
      "source": [
        "growth = []  #growth feature\n",
        "\n",
        "for i in num_features:\n",
        "  if len(train[train[i]<=0]) == 0: growth.append(i)\n",
        "\n"
      ],
      "metadata": {
        "id": "MWqItLINkqMk"
      },
      "execution_count": 14,
      "outputs": []
    },
    {
      "cell_type": "code",
      "source": [
        "def process_and_feature_engineer(df, cat_features, num_features, growth):\n",
        "    # FEATURE ENGINEERING FROM \n",
        "    # https://www.kaggle.com/code/huseyincot/amex-agg-data-how-it-created\n",
        "\n",
        "\n",
        "    test_num_agg = df.groupby(\"customer_ID\")[num_features].agg(['mean', 'std', 'max', 'min', 'first', 'last'])\n",
        "      \n",
        "    for i in growth:\n",
        "      test_num_agg[i, 'pctchange'] = (test_num_agg[i]['last']/test_num_agg[i]['first']-1) * 100\n",
        "\n",
        "    \n",
        "    test_num_agg['D_54', 'abschange'] = test_num_agg['D_54']['last']-test_num_agg['D_54']['first']\n",
        "    \n",
        "    test_num_agg.columns = ['_'.join(x) for x in test_num_agg.columns]\n",
        "\n",
        "    test_cat_agg = df.groupby(\"customer_ID\")[cat_features].agg(['count', 'last', 'nunique'])\n",
        "    test_cat_agg.columns = ['_'.join(x) for x in test_cat_agg.columns]\n",
        "\n",
        "    df = cudf.concat([test_num_agg, test_cat_agg], axis=1)\n",
        "    del test_num_agg, test_cat_agg\n",
        "    print('shape after engineering', df.shape )\n",
        "    \n",
        "    return df\n",
        "\n"
      ],
      "metadata": {
        "id": "T_PlHaBLp0N8",
        "execution": {
          "iopub.status.busy": "2022-06-29T20:21:26.330013Z",
          "iopub.execute_input": "2022-06-29T20:21:26.330583Z",
          "iopub.status.idle": "2022-06-29T20:21:28.655556Z",
          "shell.execute_reply.started": "2022-06-29T20:21:26.330544Z",
          "shell.execute_reply": "2022-06-29T20:21:28.654487Z"
        },
        "trusted": true
      },
      "execution_count": 15,
      "outputs": []
    },
    {
      "cell_type": "code",
      "source": [
        "train = process_and_feature_engineer(train,cat_features, num_features, growth)"
      ],
      "metadata": {
        "colab": {
          "base_uri": "https://localhost:8080/"
        },
        "id": "Hzmlqlmrdxgm",
        "outputId": "913c7c8c-248a-4461-9624-d1e058bc11b9"
      },
      "execution_count": 16,
      "outputs": [
        {
          "output_type": "stream",
          "name": "stdout",
          "text": [
            "shape after engineering (458913, 1114)\n"
          ]
        }
      ]
    },
    {
      "cell_type": "code",
      "source": [
        "# ADD TARGETS\n",
        "targets = cudf.read_csv('train_labels.csv')\n",
        "targets['customer_ID'] = targets['customer_ID'].str[-16:].str.hex_to_int().astype('int64')\n",
        "targets = targets.set_index('customer_ID')\n",
        "train = train.merge(targets, left_index=True, right_index=True, how='left')\n",
        "train.target = train.target.astype('int8')\n",
        "del targets\n",
        "\n",
        "# NEEDED TO MAKE CV DETERMINISTIC (cudf merge above randomly shuffles rows)\n",
        "train = train.sort_index().reset_index()\n",
        "\n",
        "# FEATURES\n",
        "FEATURES = train.columns[1:-1]\n",
        "print(f'There are {len(FEATURES)} features!')"
      ],
      "metadata": {
        "id": "5EPlkwdMp0N9",
        "outputId": "b9a6e971-97a1-4f9d-94b6-0405c0c9911e",
        "execution": {
          "iopub.status.busy": "2022-06-29T20:21:57.379414Z",
          "iopub.execute_input": "2022-06-29T20:21:57.379758Z",
          "iopub.status.idle": "2022-06-29T20:21:59.318025Z",
          "shell.execute_reply.started": "2022-06-29T20:21:57.379730Z",
          "shell.execute_reply": "2022-06-29T20:21:59.316930Z"
        },
        "trusted": true,
        "colab": {
          "base_uri": "https://localhost:8080/"
        }
      },
      "execution_count": 17,
      "outputs": [
        {
          "output_type": "stream",
          "name": "stdout",
          "text": [
            "There are 1114 features!\n"
          ]
        }
      ]
    },
    {
      "cell_type": "code",
      "source": [
        ""
      ],
      "metadata": {
        "id": "LC0ON5w4d9h1"
      },
      "execution_count": null,
      "outputs": []
    },
    {
      "cell_type": "markdown",
      "source": [
        "#Train the XGB Model"
      ],
      "metadata": {
        "id": "0ePzyB6A-Wtg"
      }
    },
    {
      "cell_type": "code",
      "source": [
        "# LOAD XGB LIBRARY\n",
        "from sklearn.model_selection import KFold\n",
        "import xgboost as xgb\n",
        "print('XGB Version',xgb.__version__)"
      ],
      "metadata": {
        "colab": {
          "base_uri": "https://localhost:8080/"
        },
        "id": "LK0sPNbNei9O",
        "outputId": "ef3f9529-98a5-464c-a84d-952a962bdd59"
      },
      "execution_count": 22,
      "outputs": [
        {
          "output_type": "stream",
          "name": "stdout",
          "text": [
            "XGB Version 1.5.0\n"
          ]
        }
      ]
    },
    {
      "cell_type": "code",
      "source": [
        "\n",
        "\n",
        "#original parameters\n",
        "# # XGB MODEL PARAMETERS\n",
        "# xgb_parms = { \n",
        "#     'max_depth':4, \n",
        "#     'learning_rate':0.05, \n",
        "#     'subsample':0.8,\n",
        "#     'colsample_bytree':0.6, \n",
        "#     'eval_metric':'logloss',\n",
        "#     'objective':'binary:logistic',\n",
        "#     'tree_method':'gpu_hist',\n",
        "#     'predictor':'gpu_predictor',\n",
        "#     'random_state':SEED\n",
        "# }\n",
        "\n",
        "xgb_parms ={'lambda': 1.2133864929301732, \n",
        "            'alpha': 0.07062978137188772, \n",
        "            'colsample_bytree': 0.8, \n",
        "            'subsample': 0.8, \n",
        "            'learning_rate': 0.010000000000000002, \n",
        "            'n_estimators': 230, \n",
        "            'max_depth': 8, \n",
        "            'min_child_weight': 21,\n",
        "            'tree_method':'gpu_hist',\n",
        "            'predictor':'gpu_predictor',\n",
        "            'random_state':SEED,\n",
        "            'eval_metric':'logloss',\n",
        "            'objective':'binary:logistic'      \n",
        "            }"
      ],
      "metadata": {
        "colab": {
          "base_uri": "https://localhost:8080/"
        },
        "id": "YG3lfJHqCgJI",
        "outputId": "60e28219-d72e-47f9-87f8-a946a3877b26"
      },
      "execution_count": 17,
      "outputs": [
        {
          "output_type": "stream",
          "name": "stdout",
          "text": [
            "XGB Version 1.5.0\n"
          ]
        }
      ]
    },
    {
      "cell_type": "code",
      "source": [
        "# NEEDED WITH DeviceQuantileDMatrix BELOW\n",
        "class IterLoadForDMatrix(xgb.core.DataIter):\n",
        "    def __init__(self, df=None, features=None, target=None, batch_size=256*1024):\n",
        "        self.features = features\n",
        "        self.target = target\n",
        "        self.df = df\n",
        "        self.it = 0 # set iterator to 0\n",
        "        self.batch_size = batch_size\n",
        "        self.batches = int( np.ceil( len(df) / self.batch_size ) )\n",
        "        super().__init__()\n",
        "\n",
        "    def reset(self):\n",
        "        '''Reset the iterator'''\n",
        "        self.it = 0\n",
        "\n",
        "    def next(self, input_data):\n",
        "        '''Yield next batch of data.'''\n",
        "        if self.it == self.batches:\n",
        "            return 0 # Return 0 when there's no more batch.\n",
        "        \n",
        "        a = self.it * self.batch_size\n",
        "        b = min( (self.it + 1) * self.batch_size, len(self.df) )\n",
        "        dt = cudf.DataFrame(self.df.iloc[a:b])\n",
        "        input_data(data=dt[self.features], label=dt[self.target]) #, weight=dt['weight'])\n",
        "        self.it += 1\n",
        "        return 1"
      ],
      "metadata": {
        "execution": {
          "iopub.status.busy": "2022-06-29T20:22:13.597696Z",
          "iopub.execute_input": "2022-06-29T20:22:13.598050Z",
          "iopub.status.idle": "2022-06-29T20:22:13.609193Z",
          "shell.execute_reply.started": "2022-06-29T20:22:13.598022Z",
          "shell.execute_reply": "2022-06-29T20:22:13.607740Z"
        },
        "trusted": true,
        "id": "Pry4EU1SIfK8"
      },
      "execution_count": 18,
      "outputs": []
    },
    {
      "cell_type": "code",
      "source": [
        "def amex_metric_mod(y_true, y_pred):\n",
        "\n",
        "    labels     = np.transpose(np.array([y_true, y_pred]))\n",
        "    labels     = labels[labels[:, 1].argsort()[::-1]]\n",
        "    weights    = np.where(labels[:,0]==0, 20, 1)\n",
        "    cut_vals   = labels[np.cumsum(weights) <= int(0.04 * np.sum(weights))]\n",
        "    top_four   = np.sum(cut_vals[:,0]) / np.sum(labels[:,0])\n",
        "\n",
        "    gini = [0,0]\n",
        "    for i in [1,0]:\n",
        "        labels         = np.transpose(np.array([y_true, y_pred]))\n",
        "        labels         = labels[labels[:, i].argsort()[::-1]]\n",
        "        weight         = np.where(labels[:,0]==0, 20, 1)\n",
        "        weight_random  = np.cumsum(weight / np.sum(weight))\n",
        "        total_pos      = np.sum(labels[:, 0] *  weight)\n",
        "        cum_pos_found  = np.cumsum(labels[:, 0] * weight)\n",
        "        lorentz        = cum_pos_found / total_pos\n",
        "        gini[i]        = np.sum((lorentz - weight_random) * weight)\n",
        "    return 0.5 * (gini[1]/gini[0] + top_four)"
      ],
      "metadata": {
        "id": "o_6ashcL-3Um"
      },
      "execution_count": 19,
      "outputs": []
    },
    {
      "cell_type": "code",
      "source": [
        "importances = []\n",
        "oof = []\n",
        "train = train.to_pandas() # free GPU memory\n",
        "TRAIN_SUBSAMPLE = 1.0\n",
        "gc.collect()\n",
        "\n",
        "skf = KFold(n_splits=FOLDS, shuffle=True, random_state=SEED)\n",
        "for fold,(train_idx, valid_idx) in enumerate(skf.split(\n",
        "            train, train.target )):\n",
        "    \n",
        "    # TRAIN WITH SUBSAMPLE OF TRAIN FOLD DATA\n",
        "    if TRAIN_SUBSAMPLE<1.0:\n",
        "        np.random.seed(SEED)\n",
        "        train_idx = np.random.choice(train_idx, \n",
        "                       int(len(train_idx)*TRAIN_SUBSAMPLE), replace=False)\n",
        "        np.random.seed(None)\n",
        "    \n",
        "    print('#'*25)\n",
        "    print('### Fold',fold+1)\n",
        "    print('### Train size',len(train_idx),'Valid size',len(valid_idx))\n",
        "    print(f'### Training with {int(TRAIN_SUBSAMPLE*100)}% fold data...')\n",
        "    print('#'*25)\n",
        "    \n",
        "    # TRAIN, VALID, TEST FOR FOLD K\n",
        "    Xy_train = IterLoadForDMatrix(train.loc[train_idx], FEATURES, 'target')\n",
        "    X_valid = train.loc[valid_idx, FEATURES]\n",
        "    y_valid = train.loc[valid_idx, 'target']\n",
        "    \n",
        "    dtrain = xgb.DeviceQuantileDMatrix(Xy_train, max_bin=256)\n",
        "    dvalid = xgb.DMatrix(data=X_valid, label=y_valid)\n",
        "    \n",
        "    # TRAIN MODEL FOLD K\n",
        "    model = xgb.train(xgb_parms, \n",
        "                dtrain=dtrain,\n",
        "                evals=[(dtrain,'train'),(dvalid,'valid')],\n",
        "                num_boost_round=9999,\n",
        "                early_stopping_rounds=100,\n",
        "                verbose_eval=100) \n",
        "    model.save_model(f'XGB_v{VER}_fold{fold}.xgb')\n",
        "    \n",
        "    # GET FEATURE IMPORTANCE FOR FOLD K\n",
        "    dd = model.get_score(importance_type='weight')\n",
        "    df = pd.DataFrame({'feature':dd.keys(),f'importance_{fold}':dd.values()})\n",
        "    importances.append(df)\n",
        "            \n",
        "    # INFER OOF FOLD K\n",
        "    oof_preds = model.predict(dvalid)\n",
        "    acc = amex_metric_mod(y_valid.values, oof_preds)\n",
        "    print('Kaggle Metric =',acc,'\\n')\n",
        "    \n",
        "    # SAVE OOF\n",
        "    df = train.loc[valid_idx, ['customer_ID','target'] ].copy()\n",
        "    df['oof_pred'] = oof_preds\n",
        "    oof.append( df )\n",
        "    \n",
        "    del dtrain, Xy_train, dd, df\n",
        "    del X_valid, y_valid, dvalid, model\n",
        "    _ = gc.collect()\n",
        "    \n",
        "print('#'*25)\n",
        "oof = pd.concat(oof,axis=0,ignore_index=True).set_index('customer_ID')\n",
        "acc = amex_metric_mod(oof.target.values, oof.oof_pred.values)\n",
        "print('OVERALL CV Kaggle Metric =',acc)"
      ],
      "metadata": {
        "colab": {
          "base_uri": "https://localhost:8080/"
        },
        "id": "TnZKA9EO-76N",
        "outputId": "d3b8effe-e36d-41c1-bb7a-2827068198ef"
      },
      "execution_count": 20,
      "outputs": [
        {
          "output_type": "stream",
          "name": "stdout",
          "text": [
            "#########################\n",
            "### Fold 1\n",
            "### Train size 367130 Valid size 91783\n",
            "### Training with 100% fold data...\n",
            "#########################\n",
            "[17:55:37] WARNING: /opt/conda/envs/rapids/conda-bld/xgboost_1639022671260/work/src/learner.cc:576: \n",
            "Parameters: { \"n_estimators\" } might not be used.\n",
            "\n",
            "  This could be a false alarm, with some parameters getting used by language bindings but\n",
            "  then being mistakenly passed down to XGBoost core, or some parameter actually being used\n",
            "  but getting flagged wrongly here. Please open an issue if you find any such cases.\n",
            "\n",
            "\n",
            "[0]\ttrain-logloss:0.68639\tvalid-logloss:0.68645\n",
            "[100]\ttrain-logloss:0.35599\tvalid-logloss:0.36107\n",
            "[200]\ttrain-logloss:0.26404\tvalid-logloss:0.27317\n",
            "[300]\ttrain-logloss:0.23100\tvalid-logloss:0.24360\n",
            "[400]\ttrain-logloss:0.21664\tvalid-logloss:0.23230\n",
            "[500]\ttrain-logloss:0.20899\tvalid-logloss:0.22735\n",
            "[600]\ttrain-logloss:0.20338\tvalid-logloss:0.22460\n",
            "[700]\ttrain-logloss:0.19884\tvalid-logloss:0.22284\n",
            "[800]\ttrain-logloss:0.19495\tvalid-logloss:0.22159\n",
            "[900]\ttrain-logloss:0.19153\tvalid-logloss:0.22065\n",
            "[1000]\ttrain-logloss:0.18844\tvalid-logloss:0.21990\n",
            "[1100]\ttrain-logloss:0.18564\tvalid-logloss:0.21934\n",
            "[1200]\ttrain-logloss:0.18308\tvalid-logloss:0.21889\n",
            "[1300]\ttrain-logloss:0.18055\tvalid-logloss:0.21850\n",
            "[1400]\ttrain-logloss:0.17828\tvalid-logloss:0.21820\n",
            "[1500]\ttrain-logloss:0.17600\tvalid-logloss:0.21792\n",
            "[1600]\ttrain-logloss:0.17387\tvalid-logloss:0.21771\n",
            "[1700]\ttrain-logloss:0.17186\tvalid-logloss:0.21751\n",
            "[1800]\ttrain-logloss:0.16971\tvalid-logloss:0.21734\n",
            "[1900]\ttrain-logloss:0.16784\tvalid-logloss:0.21716\n",
            "[2000]\ttrain-logloss:0.16594\tvalid-logloss:0.21703\n",
            "[2100]\ttrain-logloss:0.16402\tvalid-logloss:0.21692\n",
            "[2200]\ttrain-logloss:0.16214\tvalid-logloss:0.21681\n",
            "[2300]\ttrain-logloss:0.16029\tvalid-logloss:0.21673\n",
            "[2400]\ttrain-logloss:0.15858\tvalid-logloss:0.21664\n",
            "[2500]\ttrain-logloss:0.15686\tvalid-logloss:0.21658\n",
            "[2600]\ttrain-logloss:0.15512\tvalid-logloss:0.21654\n",
            "[2700]\ttrain-logloss:0.15350\tvalid-logloss:0.21651\n",
            "[2800]\ttrain-logloss:0.15186\tvalid-logloss:0.21645\n",
            "[2900]\ttrain-logloss:0.15025\tvalid-logloss:0.21641\n",
            "[3000]\ttrain-logloss:0.14863\tvalid-logloss:0.21638\n",
            "[3100]\ttrain-logloss:0.14699\tvalid-logloss:0.21635\n",
            "[3200]\ttrain-logloss:0.14540\tvalid-logloss:0.21632\n",
            "[3300]\ttrain-logloss:0.14380\tvalid-logloss:0.21628\n",
            "[3400]\ttrain-logloss:0.14234\tvalid-logloss:0.21624\n",
            "[3500]\ttrain-logloss:0.14086\tvalid-logloss:0.21623\n",
            "[3600]\ttrain-logloss:0.13928\tvalid-logloss:0.21622\n",
            "[3670]\ttrain-logloss:0.13828\tvalid-logloss:0.21622\n",
            "Kaggle Metric = 0.7938810261748019 \n",
            "\n",
            "#########################\n",
            "### Fold 2\n",
            "### Train size 367130 Valid size 91783\n",
            "### Training with 100% fold data...\n",
            "#########################\n",
            "[18:03:33] WARNING: /opt/conda/envs/rapids/conda-bld/xgboost_1639022671260/work/src/learner.cc:576: \n",
            "Parameters: { \"n_estimators\" } might not be used.\n",
            "\n",
            "  This could be a false alarm, with some parameters getting used by language bindings but\n",
            "  then being mistakenly passed down to XGBoost core, or some parameter actually being used\n",
            "  but getting flagged wrongly here. Please open an issue if you find any such cases.\n",
            "\n",
            "\n",
            "[0]\ttrain-logloss:0.68641\tvalid-logloss:0.68643\n",
            "[100]\ttrain-logloss:0.35642\tvalid-logloss:0.35994\n",
            "[200]\ttrain-logloss:0.26460\tvalid-logloss:0.27166\n",
            "[300]\ttrain-logloss:0.23150\tvalid-logloss:0.24185\n",
            "[400]\ttrain-logloss:0.21718\tvalid-logloss:0.23034\n",
            "[500]\ttrain-logloss:0.20949\tvalid-logloss:0.22525\n",
            "[600]\ttrain-logloss:0.20385\tvalid-logloss:0.22249\n",
            "[700]\ttrain-logloss:0.19931\tvalid-logloss:0.22078\n",
            "[800]\ttrain-logloss:0.19546\tvalid-logloss:0.21957\n",
            "[900]\ttrain-logloss:0.19197\tvalid-logloss:0.21865\n",
            "[1000]\ttrain-logloss:0.18893\tvalid-logloss:0.21799\n",
            "[1100]\ttrain-logloss:0.18609\tvalid-logloss:0.21744\n",
            "[1200]\ttrain-logloss:0.18343\tvalid-logloss:0.21705\n",
            "[1300]\ttrain-logloss:0.18099\tvalid-logloss:0.21676\n",
            "[1400]\ttrain-logloss:0.17868\tvalid-logloss:0.21649\n",
            "[1500]\ttrain-logloss:0.17637\tvalid-logloss:0.21624\n",
            "[1600]\ttrain-logloss:0.17416\tvalid-logloss:0.21605\n",
            "[1700]\ttrain-logloss:0.17202\tvalid-logloss:0.21590\n",
            "[1800]\ttrain-logloss:0.16989\tvalid-logloss:0.21577\n",
            "[1900]\ttrain-logloss:0.16798\tvalid-logloss:0.21565\n",
            "[2000]\ttrain-logloss:0.16606\tvalid-logloss:0.21558\n",
            "[2100]\ttrain-logloss:0.16428\tvalid-logloss:0.21548\n",
            "[2200]\ttrain-logloss:0.16232\tvalid-logloss:0.21540\n",
            "[2300]\ttrain-logloss:0.16051\tvalid-logloss:0.21533\n",
            "[2400]\ttrain-logloss:0.15871\tvalid-logloss:0.21528\n",
            "[2500]\ttrain-logloss:0.15696\tvalid-logloss:0.21523\n",
            "[2600]\ttrain-logloss:0.15516\tvalid-logloss:0.21515\n",
            "[2700]\ttrain-logloss:0.15346\tvalid-logloss:0.21509\n",
            "[2800]\ttrain-logloss:0.15183\tvalid-logloss:0.21505\n",
            "[2900]\ttrain-logloss:0.15033\tvalid-logloss:0.21502\n",
            "[3000]\ttrain-logloss:0.14870\tvalid-logloss:0.21499\n",
            "[3100]\ttrain-logloss:0.14715\tvalid-logloss:0.21497\n",
            "[3200]\ttrain-logloss:0.14565\tvalid-logloss:0.21495\n",
            "[3300]\ttrain-logloss:0.14416\tvalid-logloss:0.21495\n",
            "[3400]\ttrain-logloss:0.14256\tvalid-logloss:0.21493\n",
            "[3500]\ttrain-logloss:0.14100\tvalid-logloss:0.21491\n",
            "[3600]\ttrain-logloss:0.13962\tvalid-logloss:0.21488\n",
            "[3700]\ttrain-logloss:0.13817\tvalid-logloss:0.21488\n",
            "Kaggle Metric = 0.7948106912008336 \n",
            "\n",
            "#########################\n",
            "### Fold 3\n",
            "### Train size 367130 Valid size 91783\n",
            "### Training with 100% fold data...\n",
            "#########################\n",
            "[18:11:46] WARNING: /opt/conda/envs/rapids/conda-bld/xgboost_1639022671260/work/src/learner.cc:576: \n",
            "Parameters: { \"n_estimators\" } might not be used.\n",
            "\n",
            "  This could be a false alarm, with some parameters getting used by language bindings but\n",
            "  then being mistakenly passed down to XGBoost core, or some parameter actually being used\n",
            "  but getting flagged wrongly here. Please open an issue if you find any such cases.\n",
            "\n",
            "\n",
            "[0]\ttrain-logloss:0.68640\tvalid-logloss:0.68646\n",
            "[100]\ttrain-logloss:0.35591\tvalid-logloss:0.36146\n",
            "[200]\ttrain-logloss:0.26393\tvalid-logloss:0.27385\n",
            "[300]\ttrain-logloss:0.23079\tvalid-logloss:0.24439\n",
            "[400]\ttrain-logloss:0.21639\tvalid-logloss:0.23314\n",
            "[500]\ttrain-logloss:0.20874\tvalid-logloss:0.22823\n",
            "[600]\ttrain-logloss:0.20314\tvalid-logloss:0.22555\n",
            "[700]\ttrain-logloss:0.19851\tvalid-logloss:0.22385\n",
            "[800]\ttrain-logloss:0.19462\tvalid-logloss:0.22269\n",
            "[900]\ttrain-logloss:0.19133\tvalid-logloss:0.22187\n",
            "[1000]\ttrain-logloss:0.18839\tvalid-logloss:0.22124\n",
            "[1100]\ttrain-logloss:0.18542\tvalid-logloss:0.22074\n",
            "[1200]\ttrain-logloss:0.18275\tvalid-logloss:0.22031\n",
            "[1300]\ttrain-logloss:0.18024\tvalid-logloss:0.21998\n",
            "[1400]\ttrain-logloss:0.17780\tvalid-logloss:0.21971\n",
            "[1500]\ttrain-logloss:0.17554\tvalid-logloss:0.21945\n",
            "[1600]\ttrain-logloss:0.17342\tvalid-logloss:0.21927\n",
            "[1700]\ttrain-logloss:0.17144\tvalid-logloss:0.21909\n",
            "[1800]\ttrain-logloss:0.16940\tvalid-logloss:0.21895\n",
            "[1900]\ttrain-logloss:0.16748\tvalid-logloss:0.21880\n",
            "[2000]\ttrain-logloss:0.16553\tvalid-logloss:0.21871\n",
            "[2100]\ttrain-logloss:0.16364\tvalid-logloss:0.21863\n",
            "[2200]\ttrain-logloss:0.16180\tvalid-logloss:0.21855\n",
            "[2300]\ttrain-logloss:0.15993\tvalid-logloss:0.21848\n",
            "[2400]\ttrain-logloss:0.15813\tvalid-logloss:0.21840\n",
            "[2500]\ttrain-logloss:0.15637\tvalid-logloss:0.21832\n",
            "[2600]\ttrain-logloss:0.15462\tvalid-logloss:0.21826\n",
            "[2700]\ttrain-logloss:0.15300\tvalid-logloss:0.21821\n",
            "[2800]\ttrain-logloss:0.15136\tvalid-logloss:0.21817\n",
            "[2900]\ttrain-logloss:0.14977\tvalid-logloss:0.21813\n",
            "[3000]\ttrain-logloss:0.14817\tvalid-logloss:0.21808\n",
            "[3100]\ttrain-logloss:0.14661\tvalid-logloss:0.21806\n",
            "[3200]\ttrain-logloss:0.14502\tvalid-logloss:0.21803\n",
            "[3300]\ttrain-logloss:0.14341\tvalid-logloss:0.21800\n",
            "[3400]\ttrain-logloss:0.14190\tvalid-logloss:0.21798\n",
            "[3500]\ttrain-logloss:0.14036\tvalid-logloss:0.21794\n",
            "[3600]\ttrain-logloss:0.13890\tvalid-logloss:0.21795\n",
            "[3607]\ttrain-logloss:0.13882\tvalid-logloss:0.21795\n",
            "Kaggle Metric = 0.7920551055778107 \n",
            "\n",
            "#########################\n",
            "### Fold 4\n",
            "### Train size 367131 Valid size 91782\n",
            "### Training with 100% fold data...\n",
            "#########################\n",
            "[18:19:34] WARNING: /opt/conda/envs/rapids/conda-bld/xgboost_1639022671260/work/src/learner.cc:576: \n",
            "Parameters: { \"n_estimators\" } might not be used.\n",
            "\n",
            "  This could be a false alarm, with some parameters getting used by language bindings but\n",
            "  then being mistakenly passed down to XGBoost core, or some parameter actually being used\n",
            "  but getting flagged wrongly here. Please open an issue if you find any such cases.\n",
            "\n",
            "\n",
            "[0]\ttrain-logloss:0.68639\tvalid-logloss:0.68647\n",
            "[100]\ttrain-logloss:0.35586\tvalid-logloss:0.36163\n",
            "[200]\ttrain-logloss:0.26392\tvalid-logloss:0.27407\n",
            "[300]\ttrain-logloss:0.23076\tvalid-logloss:0.24455\n",
            "[400]\ttrain-logloss:0.21635\tvalid-logloss:0.23325\n",
            "[500]\ttrain-logloss:0.20866\tvalid-logloss:0.22832\n",
            "[600]\ttrain-logloss:0.20295\tvalid-logloss:0.22564\n",
            "[700]\ttrain-logloss:0.19830\tvalid-logloss:0.22395\n",
            "[800]\ttrain-logloss:0.19443\tvalid-logloss:0.22284\n",
            "[900]\ttrain-logloss:0.19113\tvalid-logloss:0.22208\n",
            "[1000]\ttrain-logloss:0.18804\tvalid-logloss:0.22140\n",
            "[1100]\ttrain-logloss:0.18514\tvalid-logloss:0.22087\n",
            "[1200]\ttrain-logloss:0.18257\tvalid-logloss:0.22052\n",
            "[1300]\ttrain-logloss:0.18000\tvalid-logloss:0.22017\n",
            "[1400]\ttrain-logloss:0.17760\tvalid-logloss:0.21991\n",
            "[1500]\ttrain-logloss:0.17532\tvalid-logloss:0.21967\n",
            "[1600]\ttrain-logloss:0.17308\tvalid-logloss:0.21944\n",
            "[1700]\ttrain-logloss:0.17086\tvalid-logloss:0.21926\n",
            "[1800]\ttrain-logloss:0.16879\tvalid-logloss:0.21912\n",
            "[1900]\ttrain-logloss:0.16686\tvalid-logloss:0.21900\n",
            "[2000]\ttrain-logloss:0.16492\tvalid-logloss:0.21889\n",
            "[2100]\ttrain-logloss:0.16310\tvalid-logloss:0.21881\n",
            "[2200]\ttrain-logloss:0.16118\tvalid-logloss:0.21875\n",
            "[2300]\ttrain-logloss:0.15937\tvalid-logloss:0.21868\n",
            "[2400]\ttrain-logloss:0.15757\tvalid-logloss:0.21863\n",
            "[2500]\ttrain-logloss:0.15566\tvalid-logloss:0.21856\n",
            "[2600]\ttrain-logloss:0.15388\tvalid-logloss:0.21855\n",
            "[2700]\ttrain-logloss:0.15224\tvalid-logloss:0.21853\n",
            "[2800]\ttrain-logloss:0.15061\tvalid-logloss:0.21849\n",
            "[2900]\ttrain-logloss:0.14888\tvalid-logloss:0.21846\n",
            "[3000]\ttrain-logloss:0.14721\tvalid-logloss:0.21843\n",
            "[3100]\ttrain-logloss:0.14562\tvalid-logloss:0.21841\n",
            "[3200]\ttrain-logloss:0.14400\tvalid-logloss:0.21838\n",
            "[3300]\ttrain-logloss:0.14244\tvalid-logloss:0.21837\n",
            "[3400]\ttrain-logloss:0.14088\tvalid-logloss:0.21834\n",
            "[3500]\ttrain-logloss:0.13933\tvalid-logloss:0.21831\n",
            "[3583]\ttrain-logloss:0.13812\tvalid-logloss:0.21831\n",
            "Kaggle Metric = 0.7899291227233927 \n",
            "\n",
            "#########################\n",
            "### Fold 5\n",
            "### Train size 367131 Valid size 91782\n",
            "### Training with 100% fold data...\n",
            "#########################\n",
            "[18:27:20] WARNING: /opt/conda/envs/rapids/conda-bld/xgboost_1639022671260/work/src/learner.cc:576: \n",
            "Parameters: { \"n_estimators\" } might not be used.\n",
            "\n",
            "  This could be a false alarm, with some parameters getting used by language bindings but\n",
            "  then being mistakenly passed down to XGBoost core, or some parameter actually being used\n",
            "  but getting flagged wrongly here. Please open an issue if you find any such cases.\n",
            "\n",
            "\n",
            "[0]\ttrain-logloss:0.68641\tvalid-logloss:0.68645\n",
            "[100]\ttrain-logloss:0.35640\tvalid-logloss:0.35984\n",
            "[200]\ttrain-logloss:0.26466\tvalid-logloss:0.27161\n",
            "[300]\ttrain-logloss:0.23158\tvalid-logloss:0.24169\n",
            "[400]\ttrain-logloss:0.21729\tvalid-logloss:0.23024\n",
            "[500]\ttrain-logloss:0.20961\tvalid-logloss:0.22519\n",
            "[600]\ttrain-logloss:0.20391\tvalid-logloss:0.22245\n",
            "[700]\ttrain-logloss:0.19934\tvalid-logloss:0.22072\n",
            "[800]\ttrain-logloss:0.19551\tvalid-logloss:0.21953\n",
            "[900]\ttrain-logloss:0.19216\tvalid-logloss:0.21868\n",
            "[1000]\ttrain-logloss:0.18918\tvalid-logloss:0.21800\n",
            "[1100]\ttrain-logloss:0.18639\tvalid-logloss:0.21747\n",
            "[1200]\ttrain-logloss:0.18378\tvalid-logloss:0.21704\n",
            "[1300]\ttrain-logloss:0.18136\tvalid-logloss:0.21665\n",
            "[1400]\ttrain-logloss:0.17889\tvalid-logloss:0.21632\n",
            "[1500]\ttrain-logloss:0.17671\tvalid-logloss:0.21607\n",
            "[1600]\ttrain-logloss:0.17453\tvalid-logloss:0.21587\n",
            "[1700]\ttrain-logloss:0.17238\tvalid-logloss:0.21568\n",
            "[1800]\ttrain-logloss:0.17037\tvalid-logloss:0.21552\n",
            "[1900]\ttrain-logloss:0.16850\tvalid-logloss:0.21539\n",
            "[2000]\ttrain-logloss:0.16654\tvalid-logloss:0.21524\n",
            "[2100]\ttrain-logloss:0.16456\tvalid-logloss:0.21510\n",
            "[2200]\ttrain-logloss:0.16272\tvalid-logloss:0.21501\n",
            "[2300]\ttrain-logloss:0.16091\tvalid-logloss:0.21495\n",
            "[2400]\ttrain-logloss:0.15922\tvalid-logloss:0.21487\n",
            "[2500]\ttrain-logloss:0.15745\tvalid-logloss:0.21479\n",
            "[2600]\ttrain-logloss:0.15563\tvalid-logloss:0.21471\n",
            "[2700]\ttrain-logloss:0.15393\tvalid-logloss:0.21463\n",
            "[2800]\ttrain-logloss:0.15233\tvalid-logloss:0.21457\n",
            "[2900]\ttrain-logloss:0.15069\tvalid-logloss:0.21451\n",
            "[3000]\ttrain-logloss:0.14895\tvalid-logloss:0.21444\n",
            "[3100]\ttrain-logloss:0.14745\tvalid-logloss:0.21440\n",
            "[3200]\ttrain-logloss:0.14591\tvalid-logloss:0.21436\n",
            "[3300]\ttrain-logloss:0.14436\tvalid-logloss:0.21435\n",
            "[3400]\ttrain-logloss:0.14286\tvalid-logloss:0.21433\n",
            "[3500]\ttrain-logloss:0.14139\tvalid-logloss:0.21434\n",
            "[3522]\ttrain-logloss:0.14108\tvalid-logloss:0.21434\n",
            "Kaggle Metric = 0.7970019378851347 \n",
            "\n",
            "#########################\n",
            "OVERALL CV Kaggle Metric = 0.7935671839460468\n"
          ]
        }
      ]
    },
    {
      "cell_type": "code",
      "source": [
        "#train model again with full set\n",
        "\n",
        "Xy_train = IterLoadForDMatrix(train, FEATURES, 'target')\n",
        "dtrain = xgb.DeviceQuantileDMatrix(Xy_train, max_bin=256)\n",
        "# TRAIN MODEL\n",
        "model = xgb.train(xgb_parms, \n",
        "                dtrain=dtrain,\n",
        "                evals=[(dtrain,'train'),(dtrain,'train')],\n",
        "                num_boost_round=1200,\n",
        "                early_stopping_rounds=100,\n",
        "                verbose_eval=100\n",
        "                )\n",
        "model.save_model(f'XGB_full.xgb')"
      ],
      "metadata": {
        "colab": {
          "base_uri": "https://localhost:8080/"
        },
        "id": "nbmXCE7yN59I",
        "outputId": "48e100e0-f437-4618-9fb3-0d21eec7060c"
      },
      "execution_count": 26,
      "outputs": [
        {
          "output_type": "stream",
          "name": "stdout",
          "text": [
            "[19:23:26] WARNING: /opt/conda/envs/rapids/conda-bld/xgboost_1639022671260/work/src/learner.cc:576: \n",
            "Parameters: { \"n_estimators\" } might not be used.\n",
            "\n",
            "  This could be a false alarm, with some parameters getting used by language bindings but\n",
            "  then being mistakenly passed down to XGBoost core, or some parameter actually being used\n",
            "  but getting flagged wrongly here. Please open an issue if you find any such cases.\n",
            "\n",
            "\n",
            "[0]\ttrain-logloss:0.68641\n",
            "[100]\ttrain-logloss:0.35676\n",
            "[200]\ttrain-logloss:0.26543\n",
            "[300]\ttrain-logloss:0.23273\n",
            "[400]\ttrain-logloss:0.21875\n",
            "[500]\ttrain-logloss:0.21135\n",
            "[600]\ttrain-logloss:0.20594\n",
            "[700]\ttrain-logloss:0.20157\n",
            "[800]\ttrain-logloss:0.19804\n",
            "[900]\ttrain-logloss:0.19487\n",
            "[1000]\ttrain-logloss:0.19205\n",
            "[1100]\ttrain-logloss:0.18939\n",
            "[1199]\ttrain-logloss:0.18698\n"
          ]
        }
      ]
    },
    {
      "cell_type": "code",
      "source": [
        "# CLEAN RAM\n",
        "del train\n",
        "_ = gc.collect()"
      ],
      "metadata": {
        "id": "2fY06mhh-73M"
      },
      "execution_count": 27,
      "outputs": []
    },
    {
      "cell_type": "code",
      "source": [
        ""
      ],
      "metadata": {
        "id": "7sW60y39kqZt"
      },
      "execution_count": null,
      "outputs": []
    },
    {
      "cell_type": "markdown",
      "source": [
        "# Save OOF Preds"
      ],
      "metadata": {
        "id": "Tkn5B21Tp0OA"
      }
    },
    {
      "cell_type": "code",
      "source": [
        "oof_xgb = pd.read_parquet(TRAIN_PATH, columns=['customer_ID']).drop_duplicates()\n",
        "oof_xgb['customer_ID_hash'] = oof_xgb['customer_ID'].apply(lambda x: int(x[-16:],16) ).astype('int64')\n",
        "oof_xgb = oof_xgb.set_index('customer_ID_hash')\n",
        "oof_xgb = oof_xgb.merge(oof, left_index=True, right_index=True)\n",
        "oof_xgb = oof_xgb.sort_index().reset_index(drop=True)\n",
        "oof_xgb.to_csv(f'oof_xgb_v{VER}.csv',index=False)\n",
        "oof_xgb.head()"
      ],
      "metadata": {
        "colab": {
          "base_uri": "https://localhost:8080/",
          "height": 206
        },
        "id": "69sI09-OYv-i",
        "outputId": "59b3eb01-63e5-442f-ef85-ad849fccb967"
      },
      "execution_count": 29,
      "outputs": [
        {
          "output_type": "execute_result",
          "data": {
            "text/plain": [
              "                                         customer_ID  target  oof_pred\n",
              "0  20eac26171c3d251c55fc78204e59fab1c15fc2bc96d0c...       1  0.672778\n",
              "1  aea50fdf9b974ccec95fa177c3225a0f913483b457de6e...       0  0.000402\n",
              "2  32cd2d41aef737b69089882754395925c96eaee1f4a859...       0  0.002068\n",
              "3  8daa6d5dc2655a8a437531e6b8b96829113cdfe9bf6cae...       0  0.019971\n",
              "4  0ceba351a3851202542feb49d7385bcef32f6037fc57c7...       1  0.828366"
            ],
            "text/html": [
              "\n",
              "  <div id=\"df-705ec488-40af-4040-b39f-c31f3f5b72b5\">\n",
              "    <div class=\"colab-df-container\">\n",
              "      <div>\n",
              "<style scoped>\n",
              "    .dataframe tbody tr th:only-of-type {\n",
              "        vertical-align: middle;\n",
              "    }\n",
              "\n",
              "    .dataframe tbody tr th {\n",
              "        vertical-align: top;\n",
              "    }\n",
              "\n",
              "    .dataframe thead th {\n",
              "        text-align: right;\n",
              "    }\n",
              "</style>\n",
              "<table border=\"1\" class=\"dataframe\">\n",
              "  <thead>\n",
              "    <tr style=\"text-align: right;\">\n",
              "      <th></th>\n",
              "      <th>customer_ID</th>\n",
              "      <th>target</th>\n",
              "      <th>oof_pred</th>\n",
              "    </tr>\n",
              "  </thead>\n",
              "  <tbody>\n",
              "    <tr>\n",
              "      <th>0</th>\n",
              "      <td>20eac26171c3d251c55fc78204e59fab1c15fc2bc96d0c...</td>\n",
              "      <td>1</td>\n",
              "      <td>0.672778</td>\n",
              "    </tr>\n",
              "    <tr>\n",
              "      <th>1</th>\n",
              "      <td>aea50fdf9b974ccec95fa177c3225a0f913483b457de6e...</td>\n",
              "      <td>0</td>\n",
              "      <td>0.000402</td>\n",
              "    </tr>\n",
              "    <tr>\n",
              "      <th>2</th>\n",
              "      <td>32cd2d41aef737b69089882754395925c96eaee1f4a859...</td>\n",
              "      <td>0</td>\n",
              "      <td>0.002068</td>\n",
              "    </tr>\n",
              "    <tr>\n",
              "      <th>3</th>\n",
              "      <td>8daa6d5dc2655a8a437531e6b8b96829113cdfe9bf6cae...</td>\n",
              "      <td>0</td>\n",
              "      <td>0.019971</td>\n",
              "    </tr>\n",
              "    <tr>\n",
              "      <th>4</th>\n",
              "      <td>0ceba351a3851202542feb49d7385bcef32f6037fc57c7...</td>\n",
              "      <td>1</td>\n",
              "      <td>0.828366</td>\n",
              "    </tr>\n",
              "  </tbody>\n",
              "</table>\n",
              "</div>\n",
              "      <button class=\"colab-df-convert\" onclick=\"convertToInteractive('df-705ec488-40af-4040-b39f-c31f3f5b72b5')\"\n",
              "              title=\"Convert this dataframe to an interactive table.\"\n",
              "              style=\"display:none;\">\n",
              "        \n",
              "  <svg xmlns=\"http://www.w3.org/2000/svg\" height=\"24px\"viewBox=\"0 0 24 24\"\n",
              "       width=\"24px\">\n",
              "    <path d=\"M0 0h24v24H0V0z\" fill=\"none\"/>\n",
              "    <path d=\"M18.56 5.44l.94 2.06.94-2.06 2.06-.94-2.06-.94-.94-2.06-.94 2.06-2.06.94zm-11 1L8.5 8.5l.94-2.06 2.06-.94-2.06-.94L8.5 2.5l-.94 2.06-2.06.94zm10 10l.94 2.06.94-2.06 2.06-.94-2.06-.94-.94-2.06-.94 2.06-2.06.94z\"/><path d=\"M17.41 7.96l-1.37-1.37c-.4-.4-.92-.59-1.43-.59-.52 0-1.04.2-1.43.59L10.3 9.45l-7.72 7.72c-.78.78-.78 2.05 0 2.83L4 21.41c.39.39.9.59 1.41.59.51 0 1.02-.2 1.41-.59l7.78-7.78 2.81-2.81c.8-.78.8-2.07 0-2.86zM5.41 20L4 18.59l7.72-7.72 1.47 1.35L5.41 20z\"/>\n",
              "  </svg>\n",
              "      </button>\n",
              "      \n",
              "  <style>\n",
              "    .colab-df-container {\n",
              "      display:flex;\n",
              "      flex-wrap:wrap;\n",
              "      gap: 12px;\n",
              "    }\n",
              "\n",
              "    .colab-df-convert {\n",
              "      background-color: #E8F0FE;\n",
              "      border: none;\n",
              "      border-radius: 50%;\n",
              "      cursor: pointer;\n",
              "      display: none;\n",
              "      fill: #1967D2;\n",
              "      height: 32px;\n",
              "      padding: 0 0 0 0;\n",
              "      width: 32px;\n",
              "    }\n",
              "\n",
              "    .colab-df-convert:hover {\n",
              "      background-color: #E2EBFA;\n",
              "      box-shadow: 0px 1px 2px rgba(60, 64, 67, 0.3), 0px 1px 3px 1px rgba(60, 64, 67, 0.15);\n",
              "      fill: #174EA6;\n",
              "    }\n",
              "\n",
              "    [theme=dark] .colab-df-convert {\n",
              "      background-color: #3B4455;\n",
              "      fill: #D2E3FC;\n",
              "    }\n",
              "\n",
              "    [theme=dark] .colab-df-convert:hover {\n",
              "      background-color: #434B5C;\n",
              "      box-shadow: 0px 1px 3px 1px rgba(0, 0, 0, 0.15);\n",
              "      filter: drop-shadow(0px 1px 2px rgba(0, 0, 0, 0.3));\n",
              "      fill: #FFFFFF;\n",
              "    }\n",
              "  </style>\n",
              "\n",
              "      <script>\n",
              "        const buttonEl =\n",
              "          document.querySelector('#df-705ec488-40af-4040-b39f-c31f3f5b72b5 button.colab-df-convert');\n",
              "        buttonEl.style.display =\n",
              "          google.colab.kernel.accessAllowed ? 'block' : 'none';\n",
              "\n",
              "        async function convertToInteractive(key) {\n",
              "          const element = document.querySelector('#df-705ec488-40af-4040-b39f-c31f3f5b72b5');\n",
              "          const dataTable =\n",
              "            await google.colab.kernel.invokeFunction('convertToInteractive',\n",
              "                                                     [key], {});\n",
              "          if (!dataTable) return;\n",
              "\n",
              "          const docLinkHtml = 'Like what you see? Visit the ' +\n",
              "            '<a target=\"_blank\" href=https://colab.research.google.com/notebooks/data_table.ipynb>data table notebook</a>'\n",
              "            + ' to learn more about interactive tables.';\n",
              "          element.innerHTML = '';\n",
              "          dataTable['output_type'] = 'display_data';\n",
              "          await google.colab.output.renderOutput(dataTable, element);\n",
              "          const docLink = document.createElement('div');\n",
              "          docLink.innerHTML = docLinkHtml;\n",
              "          element.appendChild(docLink);\n",
              "        }\n",
              "      </script>\n",
              "    </div>\n",
              "  </div>\n",
              "  "
            ]
          },
          "metadata": {},
          "execution_count": 29
        }
      ]
    },
    {
      "cell_type": "code",
      "source": [
        "# PLOT OOF PREDICTIONS\n",
        "plt.hist(oof_xgb.oof_pred.values, bins=100)\n",
        "plt.title('OOF Predictions')\n",
        "plt.show()"
      ],
      "metadata": {
        "colab": {
          "base_uri": "https://localhost:8080/",
          "height": 281
        },
        "id": "dZUhtbYQYv00",
        "outputId": "e152ed3a-5f45-47d9-a78c-daecbb89c488"
      },
      "execution_count": 30,
      "outputs": [
        {
          "output_type": "display_data",
          "data": {
            "text/plain": [
              "<Figure size 432x288 with 1 Axes>"
            ],
            "image/png": "[encoded data removed]"
          },
          "metadata": {
            "needs_background": "light"
          }
        }
      ]
    },
    {
      "cell_type": "code",
      "source": [
        "# CLEAR VRAM, RAM FOR INFERENCE BELOW\n",
        "del oof_xgb, oof\n",
        "_ = gc.collect()"
      ],
      "metadata": {
        "id": "Ttbu6b88p0OA"
      },
      "execution_count": 31,
      "outputs": []
    },
    {
      "cell_type": "markdown",
      "source": [
        "# Feature Importance"
      ],
      "metadata": {
        "id": "T_S5V_ZCp0OA"
      }
    },
    {
      "cell_type": "code",
      "source": [
        "import matplotlib.pyplot as plt\n",
        "\n",
        "df = importances[0].copy()\n",
        "for k in range(1,FOLDS): df = df.merge(importances[k], on='feature', how='left')\n",
        "df['importance'] = df.iloc[:,1:].mean(axis=1)\n",
        "df = df.sort_values('importance',ascending=False)\n",
        "df.to_csv(f'xgb_feature_importance_v{VER}.csv',index=False)"
      ],
      "metadata": {
        "id": "jNrw2WYOV7zt"
      },
      "execution_count": 32,
      "outputs": []
    },
    {
      "cell_type": "code",
      "source": [
        "NUM_FEATURES = 20\n",
        "plt.figure(figsize=(10,5*NUM_FEATURES//10))\n",
        "plt.barh(np.arange(NUM_FEATURES,0,-1), df.importance.values[:NUM_FEATURES])\n",
        "plt.yticks(np.arange(NUM_FEATURES,0,-1), df.feature.values[:NUM_FEATURES])\n",
        "plt.title(f'XGB Feature Importance - Top {NUM_FEATURES}')\n",
        "plt.show()"
      ],
      "metadata": {
        "colab": {
          "base_uri": "https://localhost:8080/",
          "height": 607
        },
        "id": "QXCr0VOyV8bZ",
        "outputId": "22e1a3c2-693f-4649-9c8c-cc5ce6290286"
      },
      "execution_count": 33,
      "outputs": [
        {
          "output_type": "display_data",
          "data": {
            "text/plain": [
              "<Figure size 720x720 with 1 Axes>"
            ],
            "image/png": "[encoded data removed]"
          },
          "metadata": {
            "needs_background": "light"
          }
        }
      ]
    },
    {
      "cell_type": "markdown",
      "source": [
        "# Process and Feature Engineer Test Data\n"
      ],
      "metadata": {
        "id": "3NnTqDaIp0OB"
      }
    },
    {
      "cell_type": "code",
      "source": [
        "_ = gc.collect()"
      ],
      "metadata": {
        "id": "DBnfSzhIeECa"
      },
      "execution_count": 19,
      "outputs": []
    },
    {
      "cell_type": "code",
      "source": [
        "# CALCULATE SIZE OF EACH SEPARATE TEST PART\n",
        "def get_rows(customers, test, NUM_PARTS = 4, verbose = ''):\n",
        "    chunk = len(customers)//NUM_PARTS\n",
        "    if verbose != '':\n",
        "        print(f'We will process {verbose} data as {NUM_PARTS} separate parts.')\n",
        "        print(f'There will be {chunk} customers in each part (except the last part).')\n",
        "        print('Below are number of rows in each part:')\n",
        "    rows = []\n",
        "\n",
        "    for k in range(NUM_PARTS):\n",
        "        if k==NUM_PARTS-1: cc = customers[k*chunk:]\n",
        "        else: cc = customers[k*chunk:(k+1)*chunk]\n",
        "        s = test.loc[test.customer_ID.isin(cc)].shape[0]\n",
        "        rows.append(s)\n",
        "    if verbose != '': print( rows )\n",
        "    return rows,chunk\n",
        "\n",
        "# COMPUTE SIZE OF 4 PARTS FOR TEST DATA\n",
        "NUM_PARTS = 4\n",
        "TEST_PATH = 'test.parquet'\n",
        "\n",
        "print(f'Reading test data...')\n",
        "test = read_file(path = TEST_PATH, usecols = ['customer_ID','S_2'])\n",
        "test = handle_na(test,NAN_VALUE)\n",
        "customers = test[['customer_ID']].drop_duplicates().sort_index().values.flatten()\n",
        "rows,num_cust = get_rows(customers, test[['customer_ID']], NUM_PARTS = NUM_PARTS, verbose = 'test')"
      ],
      "metadata": {
        "id": "mLEPOC2ap0OB",
        "colab": {
          "base_uri": "https://localhost:8080/"
        },
        "outputId": "7d7f2328-e9dd-4516-dbcc-a600a1272f3c"
      },
      "execution_count": 20,
      "outputs": [
        {
          "output_type": "stream",
          "name": "stdout",
          "text": [
            "Reading test data...\n",
            "shape of data: (11363762, 2)\n",
            "We will process test data as 4 separate parts.\n",
            "There will be 231155 customers in each part (except the last part).\n",
            "Below are number of rows in each part:\n",
            "[2841209, 2839857, 2842105, 2840591]\n"
          ]
        }
      ]
    },
    {
      "cell_type": "markdown",
      "source": [
        "# Infer Test"
      ],
      "metadata": {
        "id": "JOK1diNsp0OB"
      }
    },
    {
      "cell_type": "code",
      "source": [
        "# INFER TEST DATA IN PARTS\n",
        "skip_rows = 0\n",
        "skip_cust = 0\n",
        "test_preds = []\n",
        "\n",
        "for k in range(NUM_PARTS):\n",
        "    \n",
        "    # READ PART OF TEST DATA\n",
        "    print(f'\\nReading test data...')\n",
        "    test = read_file(path = TEST_PATH)\n",
        "    test = test.iloc[skip_rows:skip_rows+rows[k]]\n",
        "    skip_rows += rows[k]\n",
        "    print(f'=> Test part {k+1} has shape', test.shape )\n",
        "    \n",
        "    # PROCESS AND FEATURE ENGINEER PART OF TEST DATA\n",
        "    test = process_and_feature_engineer(test,cat_features, num_features, growth)\n",
        "    if k==NUM_PARTS-1: test = test.loc[customers[skip_cust:]]\n",
        "    else: test = test.loc[customers[skip_cust:skip_cust+num_cust]]\n",
        "    skip_cust += num_cust\n",
        "    \n",
        "    # TEST DATA FOR XGB\n",
        "    X_test = test[FEATURES]\n",
        "    dtest = xgb.DMatrix(data=X_test)\n",
        "    test = test[['P_2_mean']] # reduce memory\n",
        "    del X_test\n",
        "    gc.collect()\n",
        "\n",
        "    # INFER XGB MODELS ON TEST DATA\n",
        "    model = xgb.Booster()\n",
        "    #model.load_model('f'XGB_v{VER}_fold0.xgb')\n",
        "    model.load_model('XGB_full.xgb')\n",
        "    preds = model.predict(dtest)\n",
        "    for f in range(1,FOLDS):\n",
        "        #model.load_model(f'XGB_v{VER}_fold{f}.xgb')\n",
        "        model.load_model(f'XGB_full.xgb')\n",
        "        preds += model.predict(dtest)\n",
        "    preds /= FOLDS\n",
        "    test_preds.append(preds)\n",
        "\n",
        "    # CLEAN MEMORY\n",
        "    del dtest, model\n",
        "    _ = gc.collect()"
      ],
      "metadata": {
        "id": "9OGciocgp0OC",
        "colab": {
          "base_uri": "https://localhost:8080/"
        },
        "outputId": "05b157f4-ccac-4411-e7d4-5a4857b11be0"
      },
      "execution_count": 23,
      "outputs": [
        {
          "output_type": "stream",
          "name": "stdout",
          "text": [
            "\n",
            "Reading test data...\n",
            "shape of data: (11363762, 190)\n",
            "=> Test part 1 has shape (2841209, 190)\n",
            "shape after engineering (231155, 1114)\n",
            "\n",
            "Reading test data...\n",
            "shape of data: (11363762, 190)\n",
            "=> Test part 2 has shape (2839857, 190)\n",
            "shape after engineering (231155, 1114)\n",
            "\n",
            "Reading test data...\n",
            "shape of data: (11363762, 190)\n",
            "=> Test part 3 has shape (2842105, 190)\n",
            "shape after engineering (231155, 1114)\n",
            "\n",
            "Reading test data...\n",
            "shape of data: (11363762, 190)\n",
            "=> Test part 4 has shape (2840591, 190)\n",
            "shape after engineering (231156, 1114)\n"
          ]
        }
      ]
    },
    {
      "cell_type": "markdown",
      "source": [
        "# Create Submission CSV"
      ],
      "metadata": {
        "id": "wgvQnNhip0OC"
      }
    },
    {
      "cell_type": "code",
      "source": [
        "# WRITE SUBMISSION FILE\n",
        "test_preds = np.concatenate(test_preds)\n",
        "test = cudf.DataFrame(index=customers,data={'prediction':test_preds})\n",
        "sub = cudf.read_csv('sample_submission.csv')[['customer_ID']]\n",
        "sub['customer_ID_hash'] = sub['customer_ID'].str[-16:].str.hex_to_int().astype('int64')\n",
        "sub = sub.set_index('customer_ID_hash')\n",
        "sub = sub.merge(test[['prediction']], left_index=True, right_index=True, how='left')\n",
        "sub = sub.reset_index(drop=True)\n",
        "\n",
        "# DISPLAY PREDICTIONS\n",
        "sub.to_csv(f'submission_xgb_v{VER}.csv',index=False)\n",
        "print('Submission file shape is', sub.shape )\n",
        "sub.head()"
      ],
      "metadata": {
        "id": "XmDkNfhrp0OC",
        "colab": {
          "base_uri": "https://localhost:8080/",
          "height": 224
        },
        "outputId": "671e32ca-1f9d-4e59-ccdb-924d3df58d8e"
      },
      "execution_count": 24,
      "outputs": [
        {
          "output_type": "stream",
          "name": "stdout",
          "text": [
            "Submission file shape is (924621, 2)\n"
          ]
        },
        {
          "output_type": "execute_result",
          "data": {
            "text/plain": [
              "                                         customer_ID  prediction\n",
              "0  00059a7fc495b3bc71df7c4d90800d8ee83377ef8fe4ad...    0.917159\n",
              "1  00065b778162584b6001f4c4fa869bc428beaad5edd647...    0.005509\n",
              "2  00060e999d9fb1dbc50ee286413b1d53d3283759b9aa21...    0.009708\n",
              "3  00067a3da059f15b25479d4dc78876ce62ace540e0d0ae...    0.694621\n",
              "4  0005e9310aa1df684c26af1e4b2bc4dffec4cca8118d45...    0.598851"
            ],
            "text/html": [
              "<div>\n",
              "<style scoped>\n",
              "    .dataframe tbody tr th:only-of-type {\n",
              "        vertical-align: middle;\n",
              "    }\n",
              "\n",
              "    .dataframe tbody tr th {\n",
              "        vertical-align: top;\n",
              "    }\n",
              "\n",
              "    .dataframe thead th {\n",
              "        text-align: right;\n",
              "    }\n",
              "</style>\n",
              "<table border=\"1\" class=\"dataframe\">\n",
              "  <thead>\n",
              "    <tr style=\"text-align: right;\">\n",
              "      <th></th>\n",
              "      <th>customer_ID</th>\n",
              "      <th>prediction</th>\n",
              "    </tr>\n",
              "  </thead>\n",
              "  <tbody>\n",
              "    <tr>\n",
              "      <th>0</th>\n",
              "      <td>00059a7fc495b3bc71df7c4d90800d8ee83377ef8fe4ad...</td>\n",
              "      <td>0.917159</td>\n",
              "    </tr>\n",
              "    <tr>\n",
              "      <th>1</th>\n",
              "      <td>00065b778162584b6001f4c4fa869bc428beaad5edd647...</td>\n",
              "      <td>0.005509</td>\n",
              "    </tr>\n",
              "    <tr>\n",
              "      <th>2</th>\n",
              "      <td>00060e999d9fb1dbc50ee286413b1d53d3283759b9aa21...</td>\n",
              "      <td>0.009708</td>\n",
              "    </tr>\n",
              "    <tr>\n",
              "      <th>3</th>\n",
              "      <td>00067a3da059f15b25479d4dc78876ce62ace540e0d0ae...</td>\n",
              "      <td>0.694621</td>\n",
              "    </tr>\n",
              "    <tr>\n",
              "      <th>4</th>\n",
              "      <td>0005e9310aa1df684c26af1e4b2bc4dffec4cca8118d45...</td>\n",
              "      <td>0.598851</td>\n",
              "    </tr>\n",
              "  </tbody>\n",
              "</table>\n",
              "</div>"
            ]
          },
          "metadata": {},
          "execution_count": 24
        }
      ]
    },
    {
      "cell_type": "code",
      "source": [
        "sub.to_csv(f'submission.csv',index=False)"
      ],
      "metadata": {
        "id": "feR6CECRp0OC"
      },
      "execution_count": 25,
      "outputs": []
    },
    {
      "cell_type": "code",
      "source": [
        "# PLOT PREDICTIONS\n",
        "plt.hist(sub.to_pandas().prediction, bins=100)\n",
        "plt.title('Test Predictions')\n",
        "plt.show()"
      ],
      "metadata": {
        "id": "lZwCEYdKp0OC"
      },
      "execution_count": null,
      "outputs": []
    }
  ]
}